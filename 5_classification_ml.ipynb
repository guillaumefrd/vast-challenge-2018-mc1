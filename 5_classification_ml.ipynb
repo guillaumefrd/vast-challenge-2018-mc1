{
 "cells": [
  {
   "cell_type": "code",
   "execution_count": 1,
   "metadata": {
    "ExecuteTime": {
     "end_time": "2018-11-30T22:39:53.252599Z",
     "start_time": "2018-11-30T22:39:52.668455Z"
    }
   },
   "outputs": [],
   "source": [
    "from lib.File import File\n",
    "from matplotlib import pyplot as plt\n",
    "from data.loader import get_kasios_obs, get_obs, map_path\n",
    "import numpy as np\n",
    "\n",
    "from math import sqrt\n",
    "import pandas as pd"
   ]
  },
  {
   "cell_type": "code",
   "execution_count": 2,
   "metadata": {
    "ExecuteTime": {
     "end_time": "2018-11-30T22:39:53.332666Z",
     "start_time": "2018-11-30T22:39:53.254763Z"
    }
   },
   "outputs": [
    {
     "name": "stdout",
     "output_type": "stream",
     "text": [
      "Loading wav files...\n",
      "Done.\n",
      "Loading wav files...\n",
      "Done.\n"
     ]
    }
   ],
   "source": [
    "# Loads files and makes conversion if necessary\n",
    "df_all = get_obs(songs = True)\n",
    "df_kasios = get_kasios_obs(songs = True)"
   ]
  },
  {
   "cell_type": "code",
   "execution_count": 3,
   "metadata": {
    "ExecuteTime": {
     "end_time": "2018-11-30T22:39:53.371820Z",
     "start_time": "2018-11-30T22:39:53.334194Z"
    }
   },
   "outputs": [
    {
     "data": {
      "text/html": [
       "<div>\n",
       "<style scoped>\n",
       "    .dataframe tbody tr th:only-of-type {\n",
       "        vertical-align: middle;\n",
       "    }\n",
       "\n",
       "    .dataframe tbody tr th {\n",
       "        vertical-align: top;\n",
       "    }\n",
       "\n",
       "    .dataframe thead th {\n",
       "        text-align: right;\n",
       "    }\n",
       "</style>\n",
       "<table border=\"1\" class=\"dataframe\">\n",
       "  <thead>\n",
       "    <tr style=\"text-align: right;\">\n",
       "      <th></th>\n",
       "      <th>1900.0</th>\n",
       "      <th>1910.0</th>\n",
       "      <th>1920.0</th>\n",
       "      <th>1930.0</th>\n",
       "      <th>1940.0</th>\n",
       "      <th>1950.0</th>\n",
       "      <th>1960.0</th>\n",
       "      <th>1970.0</th>\n",
       "      <th>1980.0</th>\n",
       "      <th>1990.0</th>\n",
       "      <th>...</th>\n",
       "      <th>5900.0</th>\n",
       "      <th>5910.0</th>\n",
       "      <th>5920.0</th>\n",
       "      <th>5930.0</th>\n",
       "      <th>5940.0</th>\n",
       "      <th>5950.0</th>\n",
       "      <th>5960.0</th>\n",
       "      <th>5970.0</th>\n",
       "      <th>5980.0</th>\n",
       "      <th>5990.0</th>\n",
       "    </tr>\n",
       "    <tr>\n",
       "      <th>File ID</th>\n",
       "      <th></th>\n",
       "      <th></th>\n",
       "      <th></th>\n",
       "      <th></th>\n",
       "      <th></th>\n",
       "      <th></th>\n",
       "      <th></th>\n",
       "      <th></th>\n",
       "      <th></th>\n",
       "      <th></th>\n",
       "      <th></th>\n",
       "      <th></th>\n",
       "      <th></th>\n",
       "      <th></th>\n",
       "      <th></th>\n",
       "      <th></th>\n",
       "      <th></th>\n",
       "      <th></th>\n",
       "      <th></th>\n",
       "      <th></th>\n",
       "      <th></th>\n",
       "    </tr>\n",
       "  </thead>\n",
       "  <tbody>\n",
       "    <tr>\n",
       "      <th>402254</th>\n",
       "      <td>-0.777891</td>\n",
       "      <td>-0.398350</td>\n",
       "      <td>-0.014216</td>\n",
       "      <td>-0.855008</td>\n",
       "      <td>2.075899</td>\n",
       "      <td>-0.221931</td>\n",
       "      <td>-0.655440</td>\n",
       "      <td>-1.191778</td>\n",
       "      <td>0.585549</td>\n",
       "      <td>0.236256</td>\n",
       "      <td>...</td>\n",
       "      <td>0.433391</td>\n",
       "      <td>0.306798</td>\n",
       "      <td>-1.075585</td>\n",
       "      <td>-0.452546</td>\n",
       "      <td>-0.197668</td>\n",
       "      <td>-0.996424</td>\n",
       "      <td>-0.379281</td>\n",
       "      <td>-0.244899</td>\n",
       "      <td>-0.400091</td>\n",
       "      <td>-0.611824</td>\n",
       "    </tr>\n",
       "    <tr>\n",
       "      <th>406171</th>\n",
       "      <td>-4.162661</td>\n",
       "      <td>-4.180349</td>\n",
       "      <td>-4.229848</td>\n",
       "      <td>-4.230835</td>\n",
       "      <td>-4.269890</td>\n",
       "      <td>-4.245544</td>\n",
       "      <td>-4.282711</td>\n",
       "      <td>-4.257561</td>\n",
       "      <td>-4.243178</td>\n",
       "      <td>-4.282526</td>\n",
       "      <td>...</td>\n",
       "      <td>-1.510778</td>\n",
       "      <td>-1.968467</td>\n",
       "      <td>-1.824303</td>\n",
       "      <td>-1.519034</td>\n",
       "      <td>-1.865900</td>\n",
       "      <td>-1.872201</td>\n",
       "      <td>-1.824038</td>\n",
       "      <td>-1.760304</td>\n",
       "      <td>-1.728515</td>\n",
       "      <td>-1.927553</td>\n",
       "    </tr>\n",
       "    <tr>\n",
       "      <th>405901</th>\n",
       "      <td>-0.580728</td>\n",
       "      <td>-0.633019</td>\n",
       "      <td>-0.707576</td>\n",
       "      <td>-0.645468</td>\n",
       "      <td>-0.603866</td>\n",
       "      <td>-0.725716</td>\n",
       "      <td>-0.672938</td>\n",
       "      <td>-0.657233</td>\n",
       "      <td>-0.662175</td>\n",
       "      <td>-0.732691</td>\n",
       "      <td>...</td>\n",
       "      <td>-0.300444</td>\n",
       "      <td>-0.458147</td>\n",
       "      <td>-0.586822</td>\n",
       "      <td>-0.149122</td>\n",
       "      <td>-0.337683</td>\n",
       "      <td>-0.258401</td>\n",
       "      <td>-0.292191</td>\n",
       "      <td>-0.543218</td>\n",
       "      <td>-0.267194</td>\n",
       "      <td>-0.134089</td>\n",
       "    </tr>\n",
       "    <tr>\n",
       "      <th>405548</th>\n",
       "      <td>-3.228091</td>\n",
       "      <td>-3.251748</td>\n",
       "      <td>-3.226915</td>\n",
       "      <td>-3.256686</td>\n",
       "      <td>-3.309930</td>\n",
       "      <td>-3.233574</td>\n",
       "      <td>-3.255813</td>\n",
       "      <td>-3.283560</td>\n",
       "      <td>-3.262860</td>\n",
       "      <td>-3.241711</td>\n",
       "      <td>...</td>\n",
       "      <td>7.121533</td>\n",
       "      <td>6.845443</td>\n",
       "      <td>6.915710</td>\n",
       "      <td>6.386549</td>\n",
       "      <td>5.541339</td>\n",
       "      <td>4.538464</td>\n",
       "      <td>2.270188</td>\n",
       "      <td>0.207980</td>\n",
       "      <td>1.365019</td>\n",
       "      <td>3.283181</td>\n",
       "    </tr>\n",
       "    <tr>\n",
       "      <th>401782</th>\n",
       "      <td>-3.740562</td>\n",
       "      <td>-3.741388</td>\n",
       "      <td>-3.765818</td>\n",
       "      <td>-3.748055</td>\n",
       "      <td>-3.741544</td>\n",
       "      <td>-3.737901</td>\n",
       "      <td>-3.745398</td>\n",
       "      <td>-3.741317</td>\n",
       "      <td>-3.749377</td>\n",
       "      <td>-3.750319</td>\n",
       "      <td>...</td>\n",
       "      <td>-2.814041</td>\n",
       "      <td>-2.563670</td>\n",
       "      <td>-2.758136</td>\n",
       "      <td>-2.482101</td>\n",
       "      <td>-2.802750</td>\n",
       "      <td>-2.417855</td>\n",
       "      <td>-2.802082</td>\n",
       "      <td>-2.927259</td>\n",
       "      <td>-2.785790</td>\n",
       "      <td>-2.790771</td>\n",
       "    </tr>\n",
       "  </tbody>\n",
       "</table>\n",
       "<p>5 rows × 410 columns</p>\n",
       "</div>"
      ],
      "text/plain": [
       "           1900.0    1910.0    1920.0    1930.0    1940.0    1950.0    1960.0  \\\n",
       "File ID                                                                         \n",
       "402254  -0.777891 -0.398350 -0.014216 -0.855008  2.075899 -0.221931 -0.655440   \n",
       "406171  -4.162661 -4.180349 -4.229848 -4.230835 -4.269890 -4.245544 -4.282711   \n",
       "405901  -0.580728 -0.633019 -0.707576 -0.645468 -0.603866 -0.725716 -0.672938   \n",
       "405548  -3.228091 -3.251748 -3.226915 -3.256686 -3.309930 -3.233574 -3.255813   \n",
       "401782  -3.740562 -3.741388 -3.765818 -3.748055 -3.741544 -3.737901 -3.745398   \n",
       "\n",
       "           1970.0    1980.0    1990.0    ...       5900.0    5910.0    5920.0  \\\n",
       "File ID                                  ...                                    \n",
       "402254  -1.191778  0.585549  0.236256    ...     0.433391  0.306798 -1.075585   \n",
       "406171  -4.257561 -4.243178 -4.282526    ...    -1.510778 -1.968467 -1.824303   \n",
       "405901  -0.657233 -0.662175 -0.732691    ...    -0.300444 -0.458147 -0.586822   \n",
       "405548  -3.283560 -3.262860 -3.241711    ...     7.121533  6.845443  6.915710   \n",
       "401782  -3.741317 -3.749377 -3.750319    ...    -2.814041 -2.563670 -2.758136   \n",
       "\n",
       "           5930.0    5940.0    5950.0    5960.0    5970.0    5980.0    5990.0  \n",
       "File ID                                                                        \n",
       "402254  -0.452546 -0.197668 -0.996424 -0.379281 -0.244899 -0.400091 -0.611824  \n",
       "406171  -1.519034 -1.865900 -1.872201 -1.824038 -1.760304 -1.728515 -1.927553  \n",
       "405901  -0.149122 -0.337683 -0.258401 -0.292191 -0.543218 -0.267194 -0.134089  \n",
       "405548   6.386549  5.541339  4.538464  2.270188  0.207980  1.365019  3.283181  \n",
       "401782  -2.482101 -2.802750 -2.417855 -2.802082 -2.927259 -2.785790 -2.790771  \n",
       "\n",
       "[5 rows x 410 columns]"
      ]
     },
     "execution_count": 3,
     "metadata": {},
     "output_type": "execute_result"
    }
   ],
   "source": [
    "#X = get_spectres(df_all) # Can be very long\n",
    "#X.to_pickle(\"data/all_birds_freq.pickle\") # Save to cache\n",
    "X = pd.read_pickle(\"data/all_birds_freq.pickle\") # Quicker to use cache ;\n",
    "\n",
    "X.head()"
   ]
  },
  {
   "cell_type": "code",
   "execution_count": 4,
   "metadata": {
    "ExecuteTime": {
     "end_time": "2018-11-30T22:39:53.402313Z",
     "start_time": "2018-11-30T22:39:53.374677Z"
    }
   },
   "outputs": [
    {
     "data": {
      "text/html": [
       "<div>\n",
       "<style scoped>\n",
       "    .dataframe tbody tr th:only-of-type {\n",
       "        vertical-align: middle;\n",
       "    }\n",
       "\n",
       "    .dataframe tbody tr th {\n",
       "        vertical-align: top;\n",
       "    }\n",
       "\n",
       "    .dataframe thead th {\n",
       "        text-align: right;\n",
       "    }\n",
       "</style>\n",
       "<table border=\"1\" class=\"dataframe\">\n",
       "  <thead>\n",
       "    <tr style=\"text-align: right;\">\n",
       "      <th></th>\n",
       "      <th>1900.0</th>\n",
       "      <th>1910.0</th>\n",
       "      <th>1920.0</th>\n",
       "      <th>1930.0</th>\n",
       "      <th>1940.0</th>\n",
       "      <th>1950.0</th>\n",
       "      <th>1960.0</th>\n",
       "      <th>1970.0</th>\n",
       "      <th>1980.0</th>\n",
       "      <th>1990.0</th>\n",
       "      <th>...</th>\n",
       "      <th>5900.0</th>\n",
       "      <th>5910.0</th>\n",
       "      <th>5920.0</th>\n",
       "      <th>5930.0</th>\n",
       "      <th>5940.0</th>\n",
       "      <th>5950.0</th>\n",
       "      <th>5960.0</th>\n",
       "      <th>5970.0</th>\n",
       "      <th>5980.0</th>\n",
       "      <th>5990.0</th>\n",
       "    </tr>\n",
       "    <tr>\n",
       "      <th>ID</th>\n",
       "      <th></th>\n",
       "      <th></th>\n",
       "      <th></th>\n",
       "      <th></th>\n",
       "      <th></th>\n",
       "      <th></th>\n",
       "      <th></th>\n",
       "      <th></th>\n",
       "      <th></th>\n",
       "      <th></th>\n",
       "      <th></th>\n",
       "      <th></th>\n",
       "      <th></th>\n",
       "      <th></th>\n",
       "      <th></th>\n",
       "      <th></th>\n",
       "      <th></th>\n",
       "      <th></th>\n",
       "      <th></th>\n",
       "      <th></th>\n",
       "      <th></th>\n",
       "    </tr>\n",
       "  </thead>\n",
       "  <tbody>\n",
       "    <tr>\n",
       "      <th>1</th>\n",
       "      <td>-3.529268</td>\n",
       "      <td>-3.329053</td>\n",
       "      <td>-3.513426</td>\n",
       "      <td>-3.523270</td>\n",
       "      <td>-3.362683</td>\n",
       "      <td>-3.481535</td>\n",
       "      <td>-3.410325</td>\n",
       "      <td>-3.471149</td>\n",
       "      <td>-3.358526</td>\n",
       "      <td>-3.415705</td>\n",
       "      <td>...</td>\n",
       "      <td>-3.231955</td>\n",
       "      <td>-3.377782</td>\n",
       "      <td>-3.150853</td>\n",
       "      <td>-3.322742</td>\n",
       "      <td>-3.141581</td>\n",
       "      <td>-3.317984</td>\n",
       "      <td>-3.318084</td>\n",
       "      <td>-3.201280</td>\n",
       "      <td>-3.373770</td>\n",
       "      <td>-3.249895</td>\n",
       "    </tr>\n",
       "    <tr>\n",
       "      <th>2</th>\n",
       "      <td>-7.770975</td>\n",
       "      <td>-7.789180</td>\n",
       "      <td>-7.807659</td>\n",
       "      <td>-7.812153</td>\n",
       "      <td>-7.826096</td>\n",
       "      <td>-7.787444</td>\n",
       "      <td>-7.798715</td>\n",
       "      <td>-7.757632</td>\n",
       "      <td>-7.766777</td>\n",
       "      <td>-7.717729</td>\n",
       "      <td>...</td>\n",
       "      <td>2.070107</td>\n",
       "      <td>1.240989</td>\n",
       "      <td>0.342733</td>\n",
       "      <td>1.253810</td>\n",
       "      <td>-0.095410</td>\n",
       "      <td>0.345641</td>\n",
       "      <td>-0.313179</td>\n",
       "      <td>-0.376685</td>\n",
       "      <td>-0.871546</td>\n",
       "      <td>-0.830625</td>\n",
       "    </tr>\n",
       "    <tr>\n",
       "      <th>3</th>\n",
       "      <td>-10.823887</td>\n",
       "      <td>-10.997442</td>\n",
       "      <td>-10.907166</td>\n",
       "      <td>-10.946253</td>\n",
       "      <td>-10.891168</td>\n",
       "      <td>-10.957196</td>\n",
       "      <td>-11.014657</td>\n",
       "      <td>-10.992509</td>\n",
       "      <td>-10.977279</td>\n",
       "      <td>-11.082591</td>\n",
       "      <td>...</td>\n",
       "      <td>-7.309365</td>\n",
       "      <td>-7.188007</td>\n",
       "      <td>-8.339784</td>\n",
       "      <td>-6.470934</td>\n",
       "      <td>-6.471953</td>\n",
       "      <td>-7.001865</td>\n",
       "      <td>-8.281127</td>\n",
       "      <td>-7.377273</td>\n",
       "      <td>-7.894899</td>\n",
       "      <td>-7.307045</td>\n",
       "    </tr>\n",
       "    <tr>\n",
       "      <th>4</th>\n",
       "      <td>-7.564831</td>\n",
       "      <td>-7.604928</td>\n",
       "      <td>-7.853263</td>\n",
       "      <td>-7.667681</td>\n",
       "      <td>-7.446895</td>\n",
       "      <td>-7.664611</td>\n",
       "      <td>-7.868092</td>\n",
       "      <td>-7.727359</td>\n",
       "      <td>-7.579639</td>\n",
       "      <td>-7.770928</td>\n",
       "      <td>...</td>\n",
       "      <td>-6.860031</td>\n",
       "      <td>-6.743433</td>\n",
       "      <td>-6.865163</td>\n",
       "      <td>-6.472720</td>\n",
       "      <td>-6.746985</td>\n",
       "      <td>-6.491604</td>\n",
       "      <td>-6.479721</td>\n",
       "      <td>-6.478345</td>\n",
       "      <td>-6.351524</td>\n",
       "      <td>-6.770690</td>\n",
       "    </tr>\n",
       "    <tr>\n",
       "      <th>5</th>\n",
       "      <td>13.974970</td>\n",
       "      <td>13.250154</td>\n",
       "      <td>12.210977</td>\n",
       "      <td>12.134556</td>\n",
       "      <td>11.516458</td>\n",
       "      <td>11.235900</td>\n",
       "      <td>10.998921</td>\n",
       "      <td>10.493838</td>\n",
       "      <td>10.029321</td>\n",
       "      <td>9.747640</td>\n",
       "      <td>...</td>\n",
       "      <td>-3.994871</td>\n",
       "      <td>-3.862566</td>\n",
       "      <td>-3.970654</td>\n",
       "      <td>-4.009346</td>\n",
       "      <td>-3.824077</td>\n",
       "      <td>-4.031627</td>\n",
       "      <td>-3.842823</td>\n",
       "      <td>-3.883048</td>\n",
       "      <td>-4.091320</td>\n",
       "      <td>-3.786353</td>\n",
       "    </tr>\n",
       "  </tbody>\n",
       "</table>\n",
       "<p>5 rows × 410 columns</p>\n",
       "</div>"
      ],
      "text/plain": [
       "       1900.0     1910.0     1920.0     1930.0     1940.0     1950.0  \\\n",
       "ID                                                                     \n",
       "1   -3.529268  -3.329053  -3.513426  -3.523270  -3.362683  -3.481535   \n",
       "2   -7.770975  -7.789180  -7.807659  -7.812153  -7.826096  -7.787444   \n",
       "3  -10.823887 -10.997442 -10.907166 -10.946253 -10.891168 -10.957196   \n",
       "4   -7.564831  -7.604928  -7.853263  -7.667681  -7.446895  -7.664611   \n",
       "5   13.974970  13.250154  12.210977  12.134556  11.516458  11.235900   \n",
       "\n",
       "       1960.0     1970.0     1980.0     1990.0    ...       5900.0    5910.0  \\\n",
       "ID                                                ...                          \n",
       "1   -3.410325  -3.471149  -3.358526  -3.415705    ...    -3.231955 -3.377782   \n",
       "2   -7.798715  -7.757632  -7.766777  -7.717729    ...     2.070107  1.240989   \n",
       "3  -11.014657 -10.992509 -10.977279 -11.082591    ...    -7.309365 -7.188007   \n",
       "4   -7.868092  -7.727359  -7.579639  -7.770928    ...    -6.860031 -6.743433   \n",
       "5   10.998921  10.493838  10.029321   9.747640    ...    -3.994871 -3.862566   \n",
       "\n",
       "      5920.0    5930.0    5940.0    5950.0    5960.0    5970.0    5980.0  \\\n",
       "ID                                                                         \n",
       "1  -3.150853 -3.322742 -3.141581 -3.317984 -3.318084 -3.201280 -3.373770   \n",
       "2   0.342733  1.253810 -0.095410  0.345641 -0.313179 -0.376685 -0.871546   \n",
       "3  -8.339784 -6.470934 -6.471953 -7.001865 -8.281127 -7.377273 -7.894899   \n",
       "4  -6.865163 -6.472720 -6.746985 -6.491604 -6.479721 -6.478345 -6.351524   \n",
       "5  -3.970654 -4.009346 -3.824077 -4.031627 -3.842823 -3.883048 -4.091320   \n",
       "\n",
       "      5990.0  \n",
       "ID            \n",
       "1  -3.249895  \n",
       "2  -0.830625  \n",
       "3  -7.307045  \n",
       "4  -6.770690  \n",
       "5  -3.786353  \n",
       "\n",
       "[5 rows x 410 columns]"
      ]
     },
     "execution_count": 4,
     "metadata": {},
     "output_type": "execute_result"
    }
   ],
   "source": [
    "#X_kasios = get_spectres(df_kasios) # Can be very long\n",
    "#X_kasios.to_pickle(\"data/kasios_birds_freq.pickle\")\n",
    "X_kasios = pd.read_pickle(\"data/kasios_birds_freq.pickle\") # Quicker to use cache ;)\n",
    "\n",
    "X_kasios.head()"
   ]
  },
  {
   "cell_type": "code",
   "execution_count": 5,
   "metadata": {},
   "outputs": [],
   "source": [
    "Y = df_all.English_name\n",
    "Y_bin = df_all.English_name == \"Rose-crested Blue Pipit\""
   ]
  },
  {
   "cell_type": "code",
   "execution_count": 6,
   "metadata": {},
   "outputs": [],
   "source": [
    "from sklearn.model_selection import train_test_split\n",
    "from sklearn.metrics import accuracy_score,recall_score,confusion_matrix\n",
    "\n",
    "X_train, X_test, y_train, y_test = train_test_split(X, Y, test_size = 0.33)\n",
    "X_bin_train, X_bin_test, y_bin_train, y_bin_test = train_test_split(X, Y_bin, test_size = 0.33)"
   ]
  },
  {
   "cell_type": "markdown",
   "metadata": {},
   "source": [
    "## I - Binary classification\n",
    "\n",
    "### 1) k Nearest Neighbour (k-NN)\n",
    "\n",
    "#### Fitting"
   ]
  },
  {
   "cell_type": "code",
   "execution_count": 7,
   "metadata": {},
   "outputs": [],
   "source": [
    "from sklearn.neighbors import KNeighborsClassifier"
   ]
  },
  {
   "cell_type": "code",
   "execution_count": 8,
   "metadata": {},
   "outputs": [
    {
     "data": {
      "text/plain": [
       "KNeighborsClassifier(algorithm='auto', leaf_size=30, metric='minkowski',\n",
       "           metric_params=None, n_jobs=1, n_neighbors=2, p=2,\n",
       "           weights='uniform')"
      ]
     },
     "execution_count": 8,
     "metadata": {},
     "output_type": "execute_result"
    }
   ],
   "source": [
    "clf = KNeighborsClassifier(n_neighbors=2)\n",
    "clf.fit(X_bin_train, y_bin_train)"
   ]
  },
  {
   "cell_type": "code",
   "execution_count": 9,
   "metadata": {},
   "outputs": [
    {
     "name": "stdout",
     "output_type": "stream",
     "text": [
      "Accuracy of the model: 0.9194729136163983\n",
      "Confusion matrix: \n",
      "[[614   8]\n",
      " [ 47  14]]\n"
     ]
    }
   ],
   "source": [
    "# Accuracy of the model\n",
    "accuracy = clf.score(X_bin_test, y_bin_test)\n",
    "print(\"Accuracy of the model: %s\" % accuracy)\n",
    "\n",
    "# Confusion matrix\n",
    "y_bin_predict = clf.predict(X_bin_test)\n",
    "print(\"Confusion matrix: \\n%s\" % confusion_matrix(y_bin_test, y_bin_predict))"
   ]
  },
  {
   "cell_type": "markdown",
   "metadata": {},
   "source": [
    "#### Predicting"
   ]
  },
  {
   "cell_type": "code",
   "execution_count": 10,
   "metadata": {},
   "outputs": [
    {
     "name": "stdout",
     "output_type": "stream",
     "text": [
      "Binary classification with kNN \n",
      "\n",
      "Kasios song n°1 : False\n",
      "Kasios song n°2 : False\n",
      "Kasios song n°3 : False\n",
      "Kasios song n°4 : False\n",
      "Kasios song n°5 : False\n",
      "Kasios song n°6 : False\n",
      "Kasios song n°7 : False\n",
      "Kasios song n°8 : False\n",
      "Kasios song n°9 : True\n",
      "Kasios song n°10 : False\n",
      "Kasios song n°11 : False\n",
      "Kasios song n°12 : False\n",
      "Kasios song n°13 : False\n",
      "Kasios song n°14 : False\n",
      "Kasios song n°15 : False\n"
     ]
    }
   ],
   "source": [
    "print(\"Binary classification with kNN \\n\")\n",
    "y_kasios = clf.predict(X_kasios)\n",
    "for i in range(len(y_kasios)):\n",
    "    print(\"Kasios song n°%s : %s\" % (i+1, y_kasios[i]))"
   ]
  },
  {
   "cell_type": "markdown",
   "metadata": {},
   "source": [
    "### 2)  Support Vector Machine (SVM)\n",
    "\n",
    "#### Fitting"
   ]
  },
  {
   "cell_type": "code",
   "execution_count": 11,
   "metadata": {},
   "outputs": [],
   "source": [
    "from sklearn import svm"
   ]
  },
  {
   "cell_type": "code",
   "execution_count": 12,
   "metadata": {},
   "outputs": [],
   "source": [
    "x_list = np.linspace(2**-5, 2**5, 30)\n",
    "accuracy_C = []\n",
    "for x in x_list:\n",
    "    model = svm.SVC(kernel='linear', C=x)\n",
    "    model.fit(X_bin_train, y_bin_train)\n",
    "    accuracy_C.append(model.score(X_bin_test, y_bin_test))\n",
    "x = 0\n",
    "\n",
    "# select the C with max accuracy\n",
    "max_index = accuracy_C.index(max(accuracy_C))\n",
    "C_chosed = x_list[max_index]"
   ]
  },
  {
   "cell_type": "code",
   "execution_count": 13,
   "metadata": {},
   "outputs": [],
   "source": [
    "# we do the same thing for gamma\n",
    "accuracy_gamma = []\n",
    "for x in x_list:\n",
    "    model = svm.SVC(kernel='linear', C=C_chosed, gamma=x)\n",
    "    model.fit(X_bin_train, y_bin_train)\n",
    "    accuracy_gamma.append(model.score(X_bin_test, y_bin_test))\n",
    "\n",
    "# to find the C with the max accuracy\n",
    "max_index = accuracy_gamma.index(max(accuracy_gamma))\n",
    "gamma_chosed = x_list[max_index]  # the C that we will choose"
   ]
  },
  {
   "cell_type": "code",
   "execution_count": 14,
   "metadata": {},
   "outputs": [
    {
     "data": {
      "text/plain": [
       "SVC(C=0.03125, cache_size=200, class_weight=None, coef0=0.0,\n",
       "  decision_function_shape='ovr', degree=3, gamma=0.03125, kernel='linear',\n",
       "  max_iter=-1, probability=False, random_state=None, shrinking=True,\n",
       "  tol=0.001, verbose=False)"
      ]
     },
     "execution_count": 14,
     "metadata": {},
     "output_type": "execute_result"
    }
   ],
   "source": [
    "# We can now define our SVM model\n",
    "clf = svm.SVC(kernel='linear', C=C_chosed, gamma=gamma_chosed)\n",
    "clf.fit(X_bin_train, y_bin_train)"
   ]
  },
  {
   "cell_type": "code",
   "execution_count": 15,
   "metadata": {},
   "outputs": [
    {
     "name": "stdout",
     "output_type": "stream",
     "text": [
      "Accuracy of the model: 0.8594436310395315\n",
      "Confusion matrix: \n",
      "[[571  51]\n",
      " [ 45  16]]\n"
     ]
    }
   ],
   "source": [
    "# Accuracy of the model\n",
    "accuracy = clf.score(X_bin_test, y_bin_test)\n",
    "print(\"Accuracy of the model: %s\" % accuracy)\n",
    "\n",
    "# Confusion matrix\n",
    "y_bin_predict = clf.predict(X_bin_test)\n",
    "print(\"Confusion matrix: \\n%s\" % confusion_matrix(y_bin_test, y_bin_predict))"
   ]
  },
  {
   "cell_type": "markdown",
   "metadata": {},
   "source": [
    "#### Predicting"
   ]
  },
  {
   "cell_type": "code",
   "execution_count": 16,
   "metadata": {},
   "outputs": [
    {
     "name": "stdout",
     "output_type": "stream",
     "text": [
      "Kasios song n°1 : False\n",
      "Kasios song n°2 : False\n",
      "Kasios song n°3 : False\n",
      "Kasios song n°4 : False\n",
      "Kasios song n°5 : False\n",
      "Kasios song n°6 : False\n",
      "Kasios song n°7 : False\n",
      "Kasios song n°8 : True\n",
      "Kasios song n°9 : True\n",
      "Kasios song n°10 : False\n",
      "Kasios song n°11 : False\n",
      "Kasios song n°12 : False\n",
      "Kasios song n°13 : False\n",
      "Kasios song n°14 : False\n",
      "Kasios song n°15 : False\n"
     ]
    }
   ],
   "source": [
    "y_kasios = clf.predict(X_kasios)\n",
    "for i in range(len(y_kasios)):\n",
    "    print(\"Kasios song n°%s : %s\" % (i+1, y_kasios[i]))"
   ]
  },
  {
   "cell_type": "markdown",
   "metadata": {},
   "source": [
    "### 3) Random Forest \n",
    "\n",
    "#### Fitting"
   ]
  },
  {
   "cell_type": "code",
   "execution_count": 17,
   "metadata": {
    "ExecuteTime": {
     "end_time": "2018-11-30T22:39:53.455692Z",
     "start_time": "2018-11-30T22:39:53.406036Z"
    }
   },
   "outputs": [
    {
     "name": "stderr",
     "output_type": "stream",
     "text": [
      "/home/sajeevan/anaconda3/lib/python3.7/site-packages/sklearn/ensemble/weight_boosting.py:29: DeprecationWarning: numpy.core.umath_tests is an internal NumPy module and should not be imported. It will be removed in a future NumPy release.\n",
      "  from numpy.core.umath_tests import inner1d\n"
     ]
    }
   ],
   "source": [
    "from sklearn.ensemble import RandomForestClassifier"
   ]
  },
  {
   "cell_type": "code",
   "execution_count": 18,
   "metadata": {
    "ExecuteTime": {
     "end_time": "2018-11-30T22:39:53.488843Z",
     "start_time": "2018-11-30T22:39:53.486022Z"
    }
   },
   "outputs": [],
   "source": [
    "clf = RandomForestClassifier(n_estimators=100, max_depth=7)"
   ]
  },
  {
   "cell_type": "code",
   "execution_count": 19,
   "metadata": {
    "ExecuteTime": {
     "end_time": "2018-11-30T22:39:54.985833Z",
     "start_time": "2018-11-30T22:39:53.490601Z"
    }
   },
   "outputs": [
    {
     "data": {
      "text/plain": [
       "RandomForestClassifier(bootstrap=True, class_weight=None, criterion='gini',\n",
       "            max_depth=7, max_features='auto', max_leaf_nodes=None,\n",
       "            min_impurity_decrease=0.0, min_impurity_split=None,\n",
       "            min_samples_leaf=1, min_samples_split=2,\n",
       "            min_weight_fraction_leaf=0.0, n_estimators=100, n_jobs=1,\n",
       "            oob_score=False, random_state=None, verbose=0,\n",
       "            warm_start=False)"
      ]
     },
     "execution_count": 19,
     "metadata": {},
     "output_type": "execute_result"
    }
   ],
   "source": [
    "clf.fit(X_bin_train, y_bin_train)"
   ]
  },
  {
   "cell_type": "markdown",
   "metadata": {},
   "source": [
    "#### Predicting"
   ]
  },
  {
   "cell_type": "code",
   "execution_count": 20,
   "metadata": {
    "ExecuteTime": {
     "end_time": "2018-11-30T22:39:55.079655Z",
     "start_time": "2018-11-30T22:39:54.987635Z"
    }
   },
   "outputs": [],
   "source": [
    "y_pred_train = clf.predict(X_bin_train)\n",
    "y_pred_test = clf.predict(X_bin_test)"
   ]
  },
  {
   "cell_type": "code",
   "execution_count": 21,
   "metadata": {
    "ExecuteTime": {
     "end_time": "2018-11-30T22:39:55.098079Z",
     "start_time": "2018-11-30T22:39:55.081421Z"
    }
   },
   "outputs": [
    {
     "name": "stdout",
     "output_type": "stream",
     "text": [
      "Confusion matrix on trainning: (Overfit)\n",
      "[[1257    2]\n",
      " [  22  103]]\n",
      "\n",
      "\n",
      "Confusion matrix on testing:\n",
      "[[616   6]\n",
      " [ 48  13]]\n",
      "\n"
     ]
    }
   ],
   "source": [
    "print(\"Confusion matrix on trainning: (Overfit)\")\n",
    "print(confusion_matrix(y_bin_train, y_pred_train))\n",
    "\n",
    "print(\"\\n\")\n",
    "\n",
    "print(\"Confusion matrix on testing:\")\n",
    "print(confusion_matrix(y_bin_test, y_pred_test))\n",
    "\n",
    "print()"
   ]
  },
  {
   "cell_type": "code",
   "execution_count": 22,
   "metadata": {
    "ExecuteTime": {
     "end_time": "2018-11-30T22:39:55.106426Z",
     "start_time": "2018-11-30T22:39:55.100055Z"
    }
   },
   "outputs": [
    {
     "name": "stdout",
     "output_type": "stream",
     "text": [
      "0.9826589595375722\n",
      "Accuracy: 0.9209370424597365\n"
     ]
    }
   ],
   "source": [
    "print(accuracy_score(y_bin_train, y_pred_train))\n",
    "print(\"Accuracy: %s\" % accuracy_score(y_bin_test,y_pred_test))"
   ]
  },
  {
   "cell_type": "code",
   "execution_count": 23,
   "metadata": {
    "ExecuteTime": {
     "end_time": "2018-11-30T22:39:55.122694Z",
     "start_time": "2018-11-30T22:39:55.109071Z"
    }
   },
   "outputs": [],
   "source": [
    "y_kasios = clf.predict(X_kasios)"
   ]
  },
  {
   "cell_type": "code",
   "execution_count": 24,
   "metadata": {
    "ExecuteTime": {
     "end_time": "2018-11-30T22:39:55.129954Z",
     "start_time": "2018-11-30T22:39:55.124284Z"
    }
   },
   "outputs": [
    {
     "name": "stdout",
     "output_type": "stream",
     "text": [
      "Classification with Random Forest \n",
      "\n",
      "Kasios song n°1 : False\n",
      "Kasios song n°2 : False\n",
      "Kasios song n°3 : False\n",
      "Kasios song n°4 : False\n",
      "Kasios song n°5 : False\n",
      "Kasios song n°6 : False\n",
      "Kasios song n°7 : False\n",
      "Kasios song n°8 : False\n",
      "Kasios song n°9 : False\n",
      "Kasios song n°10 : False\n",
      "Kasios song n°11 : False\n",
      "Kasios song n°12 : False\n",
      "Kasios song n°13 : True\n",
      "Kasios song n°14 : False\n",
      "Kasios song n°15 : False\n"
     ]
    }
   ],
   "source": [
    "print(\"Classification with Random Forest \\n\")\n",
    "for i in range(len(y_kasios)):\n",
    "    print(\"Kasios song n°%s : %s\"% (i+1, y_kasios[i]))"
   ]
  },
  {
   "cell_type": "markdown",
   "metadata": {},
   "source": [
    "## II - Multi classification\n",
    "\n",
    "### 1) k Nearest Neighbour (k-NN)\n",
    "\n",
    "#### Fitting"
   ]
  },
  {
   "cell_type": "code",
   "execution_count": 25,
   "metadata": {},
   "outputs": [
    {
     "data": {
      "text/plain": [
       "KNeighborsClassifier(algorithm='auto', leaf_size=30, metric='minkowski',\n",
       "           metric_params=None, n_jobs=1, n_neighbors=2, p=2,\n",
       "           weights='uniform')"
      ]
     },
     "execution_count": 25,
     "metadata": {},
     "output_type": "execute_result"
    }
   ],
   "source": [
    "clf = KNeighborsClassifier(n_neighbors=2)\n",
    "clf.fit(X_train, y_train)"
   ]
  },
  {
   "cell_type": "code",
   "execution_count": 26,
   "metadata": {},
   "outputs": [
    {
     "name": "stdout",
     "output_type": "stream",
     "text": [
      "Accuracy of the model: 0.38653001464128844\n",
      "Confusion matrix: \n",
      "[[15  1  0  1  0  0  1  0  3  1  0  0  0  0  0  0  0  0  0]\n",
      " [ 0  5  1  1  2  5  2  1  0  1  0  3  0  0  0  3  0  0  0]\n",
      " [ 0  1 19 10  2  3  5  0  0  1  0  1  0  0  1  1  2  0  0]\n",
      " [ 0  3  5 19  0  3  0  0  0  1  0  0  0  0  1  0  0  1  0]\n",
      " [ 1  3  1  1 16  2  1  3  0  1  1  3  0  0  0  1  0  1  0]\n",
      " [ 0  3  3  0  2 19  0  0  0  0  1  1  0  1  0  2  1  1  0]\n",
      " [ 0  3  2  2  1  4  7  0  0  1  1  2  0  0  0  0  0  0  0]\n",
      " [ 0  1  2  0  3  3  3  4  0  5  2  2  0  2  0  0  0  0  0]\n",
      " [ 0  3  2  2  0  1  2  0 17  1  0  0  0  0  0  0  0  0  0]\n",
      " [ 0  3  1  1  1  3  0  6  3 31  1  0  0  0  0  0  0  0  0]\n",
      " [ 5  3  8  4  1  1  1  0  0  2 29  0  1  1  6  0  2  2  3]\n",
      " [ 1  2  1  1  4 18  3  3  0  2  0  3  0  0  0  1  0  0  0]\n",
      " [ 2  1  2  7  0  2  2  0  1  1  3  1  1  0  0  1  0  0  0]\n",
      " [ 2  1  2  1  2  2  0  3  0  3  4  2  0  4  0  4  0  0  0]\n",
      " [ 0  0  0  5  0  1  0  0  0  0  4  0  0  0  1  0  0  1  1]\n",
      " [ 0  0  1  2  0  1  0  1  1  0  2  1  0  0  1 60  3  0  0]\n",
      " [ 0  3  2  2  7 11  2  9  0  2  1  1  0  1  0 11 10  0  0]\n",
      " [ 0  1  5  2  0  1  0  1  0  1  4  0  2  0  5  1  0  1  2]\n",
      " [ 0  0  2  3  1  2  0  0  0  0  6  1  1  0  2  0  0  4  3]]\n"
     ]
    }
   ],
   "source": [
    "# Accuracy of the model\n",
    "accuracy = clf.score(X_test, y_test)\n",
    "print(\"Accuracy of the model: %s\" % accuracy)\n",
    "\n",
    "# Confusion matrix\n",
    "y_predict = clf.predict(X_test)\n",
    "print(\"Confusion matrix: \\n%s\" % confusion_matrix(y_test, y_predict))"
   ]
  },
  {
   "cell_type": "markdown",
   "metadata": {},
   "source": [
    "#### Predicting"
   ]
  },
  {
   "cell_type": "code",
   "execution_count": 27,
   "metadata": {},
   "outputs": [
    {
     "name": "stdout",
     "output_type": "stream",
     "text": [
      "Kasios song n°1 : Bent-beak Riffraff\n",
      "Kasios song n°2 : Blue-collared Zipper\n",
      "Kasios song n°3 : Darkwing Sparrow\n",
      "Kasios song n°4 : Darkwing Sparrow\n",
      "Kasios song n°5 : Orange Pine Plover\n",
      "Kasios song n°6 : Eastern Corn Skeet\n",
      "Kasios song n°7 : Queenscoat\n",
      "Kasios song n°8 : Lesser Birchbeere\n",
      "Kasios song n°9 : Darkwing Sparrow\n",
      "Kasios song n°10 : Orange Pine Plover\n",
      "Kasios song n°11 : Canadian Cootamum\n",
      "Kasios song n°12 : Orange Pine Plover\n",
      "Kasios song n°13 : Queenscoat\n",
      "Kasios song n°14 : Darkwing Sparrow\n",
      "Kasios song n°15 : Scrawny Jay\n"
     ]
    }
   ],
   "source": [
    "y_kasios = clf.predict(X_kasios)\n",
    "for i in range(len(y_kasios)):\n",
    "    print(\"Kasios song n°%s : %s\" % (i+1, y_kasios[i]))"
   ]
  },
  {
   "cell_type": "markdown",
   "metadata": {},
   "source": [
    "### 2)  Support Vector Machine (SVM)\n",
    "\n",
    "#### Fitting"
   ]
  },
  {
   "cell_type": "code",
   "execution_count": 28,
   "metadata": {},
   "outputs": [],
   "source": [
    "x_list = np.linspace(2**-5, 2**5, 30)\n",
    "accuracy_C = []\n",
    "for x in x_list:\n",
    "    model = svm.SVC(kernel='linear', C=x)\n",
    "    model.fit(X_train, y_train)\n",
    "    accuracy_C.append(model.score(X_test, y_test))\n",
    "x = 0\n",
    "\n",
    "# select the C with max accuracy\n",
    "max_index = accuracy_C.index(max(accuracy_C))\n",
    "C_chosed = x_list[max_index]"
   ]
  },
  {
   "cell_type": "code",
   "execution_count": 29,
   "metadata": {},
   "outputs": [],
   "source": [
    "# we do the same thing for gamma\n",
    "\n",
    "accuracy_gamma = []\n",
    "for x in x_list:\n",
    "    model = svm.SVC(kernel='linear', C=C_chosed, gamma=x)\n",
    "    model.fit(X_train, y_train)\n",
    "    accuracy_gamma.append(model.score(X_test, y_test))\n",
    "\n",
    "# to find the C with the max accuracy\n",
    "max_index = accuracy_gamma.index(max(accuracy_gamma))\n",
    "gamma_chosed = x_list[max_index]  # the C that we will choose"
   ]
  },
  {
   "cell_type": "code",
   "execution_count": 30,
   "metadata": {},
   "outputs": [
    {
     "data": {
      "text/plain": [
       "SVC(C=0.03125, cache_size=200, class_weight=None, coef0=0.0,\n",
       "  decision_function_shape='ovr', degree=3, gamma=0.03125, kernel='linear',\n",
       "  max_iter=-1, probability=False, random_state=None, shrinking=True,\n",
       "  tol=0.001, verbose=False)"
      ]
     },
     "execution_count": 30,
     "metadata": {},
     "output_type": "execute_result"
    }
   ],
   "source": [
    "# We can now define our SVM model\n",
    "clf = svm.SVC(kernel='linear', C=C_chosed, gamma=gamma_chosed)\n",
    "clf.fit(X_train, y_train)"
   ]
  },
  {
   "cell_type": "code",
   "execution_count": 31,
   "metadata": {},
   "outputs": [
    {
     "name": "stdout",
     "output_type": "stream",
     "text": [
      "Accuracy of the model: 0.42020497803806733\n",
      "Confusion matrix: \n",
      "[[15  0  0  1  0  0  2  0  3  1  0  0  0  0  0  0  0  0  0]\n",
      " [ 0  2  3  0  1  3  2  0  1  0  0  3  0  1  0  4  4  0  0]\n",
      " [ 1  2 21  4  0  0  4  1  0  0  6  1  0  1  1  1  1  0  2]\n",
      " [ 3  0  4 12  0  1  0  0  1  0  2  0  1  1  3  0  0  3  2]\n",
      " [ 0  0  2  1  5  1  1  8  0  2  0  5  1  0  0  2  7  0  0]\n",
      " [ 0  1  3  0  1 15  0  3  0  3  0  1  1  0  0  2  3  1  0]\n",
      " [ 0  0  3  0  0  1 14  0  0  0  0  2  0  1  0  0  2  0  0]\n",
      " [ 0  4  1  1  2  6  0  4  0  3  0  2  0  0  0  1  3  0  0]\n",
      " [ 0  0  1  0  0  1  1  0 20  2  1  0  0  0  0  0  1  0  1]\n",
      " [ 0  0  1  0  1  4  0  3  3 35  0  0  0  0  0  0  2  1  0]\n",
      " [ 2  4  3  3  0  0  1  0  0  1 35  2  3  0  3  1  1  4  6]\n",
      " [ 0  3  3  0  1  6  4  6  0  3  1  6  0  0  1  0  5  0  0]\n",
      " [ 2  0  4  4  0  3  1  0  1  0  1  1  1  0  2  1  1  1  1]\n",
      " [ 1  3  1  1  3  1  1  2  0  2  2  2  0  2  1  4  3  0  1]\n",
      " [ 0  0  1  4  0  1  0  0  0  0  2  0  0  0  2  0  0  1  2]\n",
      " [ 1  0  0  1  0  2  0  0  0  0  6  0  0  0  0 60  2  1  0]\n",
      " [ 0  2  4  1  2  5  0  6  0  4  1  2  0  1  0  6 27  1  0]\n",
      " [ 1  0  4  3  0  3  1  0  0  1  7  0  2  0  0  0  0  2  2]\n",
      " [ 0  0  2  3  0  0  0  1  0  0  6  0  0  0  2  0  0  2  9]]\n"
     ]
    }
   ],
   "source": [
    "# Accuracy of the model\n",
    "accuracy = clf.score(X_test, y_test)\n",
    "print(\"Accuracy of the model: %s\" % accuracy)\n",
    "\n",
    "# Confusion matrix\n",
    "y_predict = clf.predict(X_test)\n",
    "print(\"Confusion matrix: \\n%s\" % confusion_matrix(y_test, y_predict))"
   ]
  },
  {
   "cell_type": "markdown",
   "metadata": {},
   "source": [
    "#### Predicting"
   ]
  },
  {
   "cell_type": "code",
   "execution_count": 32,
   "metadata": {},
   "outputs": [
    {
     "name": "stdout",
     "output_type": "stream",
     "text": [
      "Kasios song n°1 : Bent-beak Riffraff\n",
      "Kasios song n°2 : Rose-crested Blue Pipit\n",
      "Kasios song n°3 : Darkwing Sparrow\n",
      "Kasios song n°4 : Darkwing Sparrow\n",
      "Kasios song n°5 : Broad-winged Jojo\n",
      "Kasios song n°6 : Green-tipped Scarlet Pipit\n",
      "Kasios song n°7 : Scrawny Jay\n",
      "Kasios song n°8 : Lesser Birchbeere\n",
      "Kasios song n°9 : Darkwing Sparrow\n",
      "Kasios song n°10 : Bombadil\n",
      "Kasios song n°11 : Bent-beak Riffraff\n",
      "Kasios song n°12 : Orange Pine Plover\n",
      "Kasios song n°13 : Rose-crested Blue Pipit\n",
      "Kasios song n°14 : Darkwing Sparrow\n",
      "Kasios song n°15 : Orange Pine Plover\n"
     ]
    }
   ],
   "source": [
    "y_kasios = model.predict(X_kasios)\n",
    "for i in range(len(y_kasios)):\n",
    "    print(\"Kasios song n°%s : %s\" % (i+1, y_kasios[i]))"
   ]
  },
  {
   "cell_type": "markdown",
   "metadata": {},
   "source": [
    "### 3) Random Forest \n",
    "\n",
    "#### Fitting"
   ]
  },
  {
   "cell_type": "code",
   "execution_count": 33,
   "metadata": {},
   "outputs": [
    {
     "data": {
      "text/plain": [
       "RandomForestClassifier(bootstrap=True, class_weight=None, criterion='gini',\n",
       "            max_depth=7, max_features='auto', max_leaf_nodes=None,\n",
       "            min_impurity_decrease=0.0, min_impurity_split=None,\n",
       "            min_samples_leaf=1, min_samples_split=2,\n",
       "            min_weight_fraction_leaf=0.0, n_estimators=100, n_jobs=1,\n",
       "            oob_score=False, random_state=None, verbose=0,\n",
       "            warm_start=False)"
      ]
     },
     "execution_count": 33,
     "metadata": {},
     "output_type": "execute_result"
    }
   ],
   "source": [
    "clf = RandomForestClassifier(n_estimators=100, max_depth=7)\n",
    "clf.fit(X_train, y_train)"
   ]
  },
  {
   "cell_type": "markdown",
   "metadata": {},
   "source": [
    "#### Predicting"
   ]
  },
  {
   "cell_type": "code",
   "execution_count": 34,
   "metadata": {},
   "outputs": [],
   "source": [
    "y_pred_train = clf.predict(X_train)\n",
    "y_pred_test = clf.predict(X_test)"
   ]
  },
  {
   "cell_type": "code",
   "execution_count": 35,
   "metadata": {},
   "outputs": [
    {
     "name": "stdout",
     "output_type": "stream",
     "text": [
      "Confusion matrix on trainning: (Overfit)\n",
      "[[ 42   0   0   0   0   1   0   0   3   0   1   0   0   0   0   2   0   0\n",
      "    0]\n",
      " [  0  14   3   0   0   8   4   0   0   2   4   1   0   0   0   0   7   0\n",
      "    0]\n",
      " [  0   0  78   1   0   1   1   1   0   1   5   0   0   0   0   0   3   0\n",
      "    0]\n",
      " [  1   0   2  48   0   0   0   0   1   0   0   0   0   0   1   0   1   4\n",
      "    2]\n",
      " [  0   0   1   0  24   3   1   2   1   2   3   0   0   0   0   0   8   1\n",
      "    1]\n",
      " [  0   0   2   0   0  50   1   0   2   1   2   3   0   0   0   0   9   0\n",
      "    0]\n",
      " [  1   0   1   1   1   1  50   1   1   0   1   1   0   0   0   0   4   0\n",
      "    0]\n",
      " [  0   0   2   0   0   7   4  35   0   3   1   2   0   0   0   0   7   0\n",
      "    0]\n",
      " [  1   0   0   0   0   1   0   0  56   1   0   0   0   0   0   0   0   0\n",
      "    0]\n",
      " [  0   0   1   0   0   1   0   0   1  94   1   1   0   0   0   0   1   0\n",
      "    0]\n",
      " [  0   0   2   2   0   2   0   0   3   0 136   0   0   0   0   0   0   0\n",
      "    1]\n",
      " [  0   0   3   0   1   6   4   1   0   0   0  30   0   0   0   2   8   0\n",
      "    0]\n",
      " [  0   0   0   1   0   0   0   0   0   2   2   0  39   0   0   0   1   2\n",
      "    2]\n",
      " [  2   0   2   2   0   6   1   4   0   3   3   1   0   6   0   2   8   1\n",
      "    0]\n",
      " [  0   0   1   3   0   1   0   0   0   0  11   0   0   0  15   1   0   2\n",
      "    4]\n",
      " [  0   0   4   2   0   2   0   0   2   1   0   0   0   0   0 153   1   1\n",
      "    0]\n",
      " [  0   0   0   2   0   2   0   2   0   6   2   1   0   0   0   3 102   4\n",
      "    0]\n",
      " [  0   0   2   1   0   0   0   0   0   4   7   0   0   0   0   0   1  48\n",
      "    0]\n",
      " [  0   0   8   2   0   0   0   0   1   0  11   0   0   0   0   1   0   0\n",
      "   36]]\n",
      "\n",
      "\n",
      "Confusion matrix on testing:\n",
      "[[14  0  1  0  0  0  0  0  5  1  0  0  0  0  0  0  1  0  0]\n",
      " [ 0  1  1  0  0  1  3  1  3  2  1  0  0  0  0  5  6  0  0]\n",
      " [ 0  0 24  6  0  0  5  0  0  0  6  0  0  0  0  1  3  0  1]\n",
      " [ 3  0  8 13  0  2  0  0  1  0  3  0  1  0  1  0  0  1  0]\n",
      " [ 0  0  0  0  7  2  1  4  0  2  3  2  0  0  0  1 12  0  1]\n",
      " [ 0  0  3  0  0 14  0  0  0  4  1  1  0  0  0  1  9  1  0]\n",
      " [ 0  0  3  0  0  0 14  1  0  0  0  3  0  0  0  0  2  0  0]\n",
      " [ 0  0  0  0  0  2  2  6  0  6  1  0  0  0  0  1  7  2  0]\n",
      " [ 0  0  0  0  0  2  0  0 23  3  0  0  0  0  0  0  0  0  0]\n",
      " [ 0  0  2  0  0  1  0  2  2 42  0  0  0  0  0  0  1  0  0]\n",
      " [ 0  0  3  1  0  0  2  0  1  2 57  0  0  0  0  1  1  1  0]\n",
      " [ 0  0  1  1  1 12  4  6  0  3  2  2  0  0  0  0  7  0  0]\n",
      " [ 0  0  3  5  0  3  0  0  1  1  4  0  3  0  1  1  0  1  1]\n",
      " [ 0  0  3  0  0  2  1  3  0  1  6  2  1  0  0  4  7  0  0]\n",
      " [ 0  0  1  4  0  0  0  0  0  0  4  0  0  0  0  0  0  2  2]\n",
      " [ 0  0  1  1  0  2  0  0  0  0  0  0  0  0  0 63  5  1  0]\n",
      " [ 0  0  2  1  0  5  1  4  0  5  2  0  0  0  0  6 35  1  0]\n",
      " [ 2  0  3  1  0  1  0  0  0  2  9  0  0  0  0  0  0  7  1]\n",
      " [ 0  0  4  1  0  1  0  0  0  0  8  0  0  0  0  0  1  0 10]]\n",
      "\n"
     ]
    }
   ],
   "source": [
    "print(\"Confusion matrix on trainning: (Overfit)\")\n",
    "print(confusion_matrix(y_train, y_pred_train))\n",
    "\n",
    "print(\"\\n\")\n",
    "\n",
    "print(\"Confusion matrix on testing:\")\n",
    "print(confusion_matrix(y_test, y_pred_test))\n",
    "\n",
    "print()"
   ]
  },
  {
   "cell_type": "code",
   "execution_count": 36,
   "metadata": {},
   "outputs": [
    {
     "name": "stdout",
     "output_type": "stream",
     "text": [
      "0.7630057803468208\n",
      "Accuracy: 0.4904831625183016\n"
     ]
    }
   ],
   "source": [
    "print(accuracy_score(y_train, y_pred_train))\n",
    "print(\"Accuracy: %s\" % accuracy_score(y_test,y_pred_test))"
   ]
  },
  {
   "cell_type": "code",
   "execution_count": 37,
   "metadata": {},
   "outputs": [],
   "source": [
    "y_kasios = clf.predict(X_kasios)"
   ]
  },
  {
   "cell_type": "code",
   "execution_count": 38,
   "metadata": {},
   "outputs": [
    {
     "name": "stdout",
     "output_type": "stream",
     "text": [
      "Classification with Random Forest \n",
      "\n",
      "Kasios song n°1 : Bent-beak Riffraff\n",
      "Kasios song n°2 : Rose-crested Blue Pipit\n",
      "Kasios song n°3 : Bombadil\n",
      "Kasios song n°4 : Darkwing Sparrow\n",
      "Kasios song n°5 : Orange Pine Plover\n",
      "Kasios song n°6 : Green-tipped Scarlet Pipit\n",
      "Kasios song n°7 : Scrawny Jay\n",
      "Kasios song n°8 : Lesser Birchbeere\n",
      "Kasios song n°9 : Rose-crested Blue Pipit\n",
      "Kasios song n°10 : Orange Pine Plover\n",
      "Kasios song n°11 : Queenscoat\n",
      "Kasios song n°12 : Orange Pine Plover\n",
      "Kasios song n°13 : Rose-crested Blue Pipit\n",
      "Kasios song n°14 : Darkwing Sparrow\n",
      "Kasios song n°15 : Orange Pine Plover\n"
     ]
    }
   ],
   "source": [
    "print(\"Classification with Random Forest \\n\")\n",
    "for i in range(len(y_kasios)):\n",
    "    print(\"Kasios song n°%s : %s\"% (i+1, y_kasios[i]))"
   ]
  },
  {
   "cell_type": "markdown",
   "metadata": {},
   "source": [
    "## III - UMAP "
   ]
  },
  {
   "cell_type": "code",
   "execution_count": 39,
   "metadata": {
    "ExecuteTime": {
     "end_time": "2018-11-30T22:40:06.210980Z",
     "start_time": "2018-11-30T22:39:55.132366Z"
    }
   },
   "outputs": [],
   "source": [
    "import umap\n",
    "\n",
    "embedding = umap.UMAP(n_neighbors=10).fit_transform(pd.concat([X, X_kasios]))"
   ]
  },
  {
   "cell_type": "code",
   "execution_count": 40,
   "metadata": {
    "ExecuteTime": {
     "end_time": "2018-11-30T22:40:06.384920Z",
     "start_time": "2018-11-30T22:40:06.212732Z"
    }
   },
   "outputs": [
    {
     "data": {
      "text/html": [
       "\n",
       "    <div class=\"bk-root\">\n",
       "        <a href=\"https://bokeh.pydata.org\" target=\"_blank\" class=\"bk-logo bk-logo-small bk-logo-notebook\"></a>\n",
       "        <span id=\"983e7154-d23a-443b-8642-5238f6968ca6\">Loading BokehJS ...</span>\n",
       "    </div>"
      ]
     },
     "metadata": {},
     "output_type": "display_data"
    },
    {
     "data": {
      "application/javascript": [
       "\n",
       "(function(root) {\n",
       "  function now() {\n",
       "    return new Date();\n",
       "  }\n",
       "\n",
       "  var force = true;\n",
       "\n",
       "  if (typeof (root._bokeh_onload_callbacks) === \"undefined\" || force === true) {\n",
       "    root._bokeh_onload_callbacks = [];\n",
       "    root._bokeh_is_loading = undefined;\n",
       "  }\n",
       "\n",
       "  var JS_MIME_TYPE = 'application/javascript';\n",
       "  var HTML_MIME_TYPE = 'text/html';\n",
       "  var EXEC_MIME_TYPE = 'application/vnd.bokehjs_exec.v0+json';\n",
       "  var CLASS_NAME = 'output_bokeh rendered_html';\n",
       "\n",
       "  /**\n",
       "   * Render data to the DOM node\n",
       "   */\n",
       "  function render(props, node) {\n",
       "    var script = document.createElement(\"script\");\n",
       "    node.appendChild(script);\n",
       "  }\n",
       "\n",
       "  /**\n",
       "   * Handle when an output is cleared or removed\n",
       "   */\n",
       "  function handleClearOutput(event, handle) {\n",
       "    var cell = handle.cell;\n",
       "\n",
       "    var id = cell.output_area._bokeh_element_id;\n",
       "    var server_id = cell.output_area._bokeh_server_id;\n",
       "    // Clean up Bokeh references\n",
       "    if (id != null && id in Bokeh.index) {\n",
       "      Bokeh.index[id].model.document.clear();\n",
       "      delete Bokeh.index[id];\n",
       "    }\n",
       "\n",
       "    if (server_id !== undefined) {\n",
       "      // Clean up Bokeh references\n",
       "      var cmd = \"from bokeh.io.state import curstate; print(curstate().uuid_to_server['\" + server_id + \"'].get_sessions()[0].document.roots[0]._id)\";\n",
       "      cell.notebook.kernel.execute(cmd, {\n",
       "        iopub: {\n",
       "          output: function(msg) {\n",
       "            var id = msg.content.text.trim();\n",
       "            if (id in Bokeh.index) {\n",
       "              Bokeh.index[id].model.document.clear();\n",
       "              delete Bokeh.index[id];\n",
       "            }\n",
       "          }\n",
       "        }\n",
       "      });\n",
       "      // Destroy server and session\n",
       "      var cmd = \"import bokeh.io.notebook as ion; ion.destroy_server('\" + server_id + \"')\";\n",
       "      cell.notebook.kernel.execute(cmd);\n",
       "    }\n",
       "  }\n",
       "\n",
       "  /**\n",
       "   * Handle when a new output is added\n",
       "   */\n",
       "  function handleAddOutput(event, handle) {\n",
       "    var output_area = handle.output_area;\n",
       "    var output = handle.output;\n",
       "\n",
       "    // limit handleAddOutput to display_data with EXEC_MIME_TYPE content only\n",
       "    if ((output.output_type != \"display_data\") || (!output.data.hasOwnProperty(EXEC_MIME_TYPE))) {\n",
       "      return\n",
       "    }\n",
       "\n",
       "    var toinsert = output_area.element.find(\".\" + CLASS_NAME.split(' ')[0]);\n",
       "\n",
       "    if (output.metadata[EXEC_MIME_TYPE][\"id\"] !== undefined) {\n",
       "      toinsert[toinsert.length - 1].firstChild.textContent = output.data[JS_MIME_TYPE];\n",
       "      // store reference to embed id on output_area\n",
       "      output_area._bokeh_element_id = output.metadata[EXEC_MIME_TYPE][\"id\"];\n",
       "    }\n",
       "    if (output.metadata[EXEC_MIME_TYPE][\"server_id\"] !== undefined) {\n",
       "      var bk_div = document.createElement(\"div\");\n",
       "      bk_div.innerHTML = output.data[HTML_MIME_TYPE];\n",
       "      var script_attrs = bk_div.children[0].attributes;\n",
       "      for (var i = 0; i < script_attrs.length; i++) {\n",
       "        toinsert[toinsert.length - 1].firstChild.setAttribute(script_attrs[i].name, script_attrs[i].value);\n",
       "      }\n",
       "      // store reference to server id on output_area\n",
       "      output_area._bokeh_server_id = output.metadata[EXEC_MIME_TYPE][\"server_id\"];\n",
       "    }\n",
       "  }\n",
       "\n",
       "  function register_renderer(events, OutputArea) {\n",
       "\n",
       "    function append_mime(data, metadata, element) {\n",
       "      // create a DOM node to render to\n",
       "      var toinsert = this.create_output_subarea(\n",
       "        metadata,\n",
       "        CLASS_NAME,\n",
       "        EXEC_MIME_TYPE\n",
       "      );\n",
       "      this.keyboard_manager.register_events(toinsert);\n",
       "      // Render to node\n",
       "      var props = {data: data, metadata: metadata[EXEC_MIME_TYPE]};\n",
       "      render(props, toinsert[toinsert.length - 1]);\n",
       "      element.append(toinsert);\n",
       "      return toinsert\n",
       "    }\n",
       "\n",
       "    /* Handle when an output is cleared or removed */\n",
       "    events.on('clear_output.CodeCell', handleClearOutput);\n",
       "    events.on('delete.Cell', handleClearOutput);\n",
       "\n",
       "    /* Handle when a new output is added */\n",
       "    events.on('output_added.OutputArea', handleAddOutput);\n",
       "\n",
       "    /**\n",
       "     * Register the mime type and append_mime function with output_area\n",
       "     */\n",
       "    OutputArea.prototype.register_mime_type(EXEC_MIME_TYPE, append_mime, {\n",
       "      /* Is output safe? */\n",
       "      safe: true,\n",
       "      /* Index of renderer in `output_area.display_order` */\n",
       "      index: 0\n",
       "    });\n",
       "  }\n",
       "\n",
       "  // register the mime type if in Jupyter Notebook environment and previously unregistered\n",
       "  if (root.Jupyter !== undefined) {\n",
       "    var events = require('base/js/events');\n",
       "    var OutputArea = require('notebook/js/outputarea').OutputArea;\n",
       "\n",
       "    if (OutputArea.prototype.mime_types().indexOf(EXEC_MIME_TYPE) == -1) {\n",
       "      register_renderer(events, OutputArea);\n",
       "    }\n",
       "  }\n",
       "\n",
       "  \n",
       "  if (typeof (root._bokeh_timeout) === \"undefined\" || force === true) {\n",
       "    root._bokeh_timeout = Date.now() + 5000;\n",
       "    root._bokeh_failed_load = false;\n",
       "  }\n",
       "\n",
       "  var NB_LOAD_WARNING = {'data': {'text/html':\n",
       "     \"<div style='background-color: #fdd'>\\n\"+\n",
       "     \"<p>\\n\"+\n",
       "     \"BokehJS does not appear to have successfully loaded. If loading BokehJS from CDN, this \\n\"+\n",
       "     \"may be due to a slow or bad network connection. Possible fixes:\\n\"+\n",
       "     \"</p>\\n\"+\n",
       "     \"<ul>\\n\"+\n",
       "     \"<li>re-rerun `output_notebook()` to attempt to load from CDN again, or</li>\\n\"+\n",
       "     \"<li>use INLINE resources instead, as so:</li>\\n\"+\n",
       "     \"</ul>\\n\"+\n",
       "     \"<code>\\n\"+\n",
       "     \"from bokeh.resources import INLINE\\n\"+\n",
       "     \"output_notebook(resources=INLINE)\\n\"+\n",
       "     \"</code>\\n\"+\n",
       "     \"</div>\"}};\n",
       "\n",
       "  function display_loaded() {\n",
       "    var el = document.getElementById(\"983e7154-d23a-443b-8642-5238f6968ca6\");\n",
       "    if (el != null) {\n",
       "      el.textContent = \"BokehJS is loading...\";\n",
       "    }\n",
       "    if (root.Bokeh !== undefined) {\n",
       "      if (el != null) {\n",
       "        el.textContent = \"BokehJS \" + root.Bokeh.version + \" successfully loaded.\";\n",
       "      }\n",
       "    } else if (Date.now() < root._bokeh_timeout) {\n",
       "      setTimeout(display_loaded, 100)\n",
       "    }\n",
       "  }\n",
       "\n",
       "\n",
       "  function run_callbacks() {\n",
       "    try {\n",
       "      root._bokeh_onload_callbacks.forEach(function(callback) { callback() });\n",
       "    }\n",
       "    finally {\n",
       "      delete root._bokeh_onload_callbacks\n",
       "    }\n",
       "    console.info(\"Bokeh: all callbacks have finished\");\n",
       "  }\n",
       "\n",
       "  function load_libs(js_urls, callback) {\n",
       "    root._bokeh_onload_callbacks.push(callback);\n",
       "    if (root._bokeh_is_loading > 0) {\n",
       "      console.log(\"Bokeh: BokehJS is being loaded, scheduling callback at\", now());\n",
       "      return null;\n",
       "    }\n",
       "    if (js_urls == null || js_urls.length === 0) {\n",
       "      run_callbacks();\n",
       "      return null;\n",
       "    }\n",
       "    console.log(\"Bokeh: BokehJS not loaded, scheduling load and callback at\", now());\n",
       "    root._bokeh_is_loading = js_urls.length;\n",
       "    for (var i = 0; i < js_urls.length; i++) {\n",
       "      var url = js_urls[i];\n",
       "      var s = document.createElement('script');\n",
       "      s.src = url;\n",
       "      s.async = false;\n",
       "      s.onreadystatechange = s.onload = function() {\n",
       "        root._bokeh_is_loading--;\n",
       "        if (root._bokeh_is_loading === 0) {\n",
       "          console.log(\"Bokeh: all BokehJS libraries loaded\");\n",
       "          run_callbacks()\n",
       "        }\n",
       "      };\n",
       "      s.onerror = function() {\n",
       "        console.warn(\"failed to load library \" + url);\n",
       "      };\n",
       "      console.log(\"Bokeh: injecting script tag for BokehJS library: \", url);\n",
       "      document.getElementsByTagName(\"head\")[0].appendChild(s);\n",
       "    }\n",
       "  };var element = document.getElementById(\"983e7154-d23a-443b-8642-5238f6968ca6\");\n",
       "  if (element == null) {\n",
       "    console.log(\"Bokeh: ERROR: autoload.js configured with elementid '983e7154-d23a-443b-8642-5238f6968ca6' but no matching script tag was found. \")\n",
       "    return false;\n",
       "  }\n",
       "\n",
       "  var js_urls = [\"https://cdn.pydata.org/bokeh/release/bokeh-0.13.0.min.js\", \"https://cdn.pydata.org/bokeh/release/bokeh-widgets-0.13.0.min.js\", \"https://cdn.pydata.org/bokeh/release/bokeh-tables-0.13.0.min.js\", \"https://cdn.pydata.org/bokeh/release/bokeh-gl-0.13.0.min.js\"];\n",
       "\n",
       "  var inline_js = [\n",
       "    function(Bokeh) {\n",
       "      Bokeh.set_log_level(\"info\");\n",
       "    },\n",
       "    \n",
       "    function(Bokeh) {\n",
       "      \n",
       "    },\n",
       "    function(Bokeh) {\n",
       "      console.log(\"Bokeh: injecting CSS: https://cdn.pydata.org/bokeh/release/bokeh-0.13.0.min.css\");\n",
       "      Bokeh.embed.inject_css(\"https://cdn.pydata.org/bokeh/release/bokeh-0.13.0.min.css\");\n",
       "      console.log(\"Bokeh: injecting CSS: https://cdn.pydata.org/bokeh/release/bokeh-widgets-0.13.0.min.css\");\n",
       "      Bokeh.embed.inject_css(\"https://cdn.pydata.org/bokeh/release/bokeh-widgets-0.13.0.min.css\");\n",
       "      console.log(\"Bokeh: injecting CSS: https://cdn.pydata.org/bokeh/release/bokeh-tables-0.13.0.min.css\");\n",
       "      Bokeh.embed.inject_css(\"https://cdn.pydata.org/bokeh/release/bokeh-tables-0.13.0.min.css\");\n",
       "    }\n",
       "  ];\n",
       "\n",
       "  function run_inline_js() {\n",
       "    \n",
       "    if ((root.Bokeh !== undefined) || (force === true)) {\n",
       "      for (var i = 0; i < inline_js.length; i++) {\n",
       "        inline_js[i].call(root, root.Bokeh);\n",
       "      }if (force === true) {\n",
       "        display_loaded();\n",
       "      }} else if (Date.now() < root._bokeh_timeout) {\n",
       "      setTimeout(run_inline_js, 100);\n",
       "    } else if (!root._bokeh_failed_load) {\n",
       "      console.log(\"Bokeh: BokehJS failed to load within specified timeout.\");\n",
       "      root._bokeh_failed_load = true;\n",
       "    } else if (force !== true) {\n",
       "      var cell = $(document.getElementById(\"983e7154-d23a-443b-8642-5238f6968ca6\")).parents('.cell').data().cell;\n",
       "      cell.output_area.append_execute_result(NB_LOAD_WARNING)\n",
       "    }\n",
       "\n",
       "  }\n",
       "\n",
       "  if (root._bokeh_is_loading === 0) {\n",
       "    console.log(\"Bokeh: BokehJS loaded, going straight to plotting\");\n",
       "    run_inline_js();\n",
       "  } else {\n",
       "    load_libs(js_urls, function() {\n",
       "      console.log(\"Bokeh: BokehJS plotting callback run at\", now());\n",
       "      run_inline_js();\n",
       "    });\n",
       "  }\n",
       "}(window));"
      ],
      "application/vnd.bokehjs_load.v0+json": "\n(function(root) {\n  function now() {\n    return new Date();\n  }\n\n  var force = true;\n\n  if (typeof (root._bokeh_onload_callbacks) === \"undefined\" || force === true) {\n    root._bokeh_onload_callbacks = [];\n    root._bokeh_is_loading = undefined;\n  }\n\n  \n\n  \n  if (typeof (root._bokeh_timeout) === \"undefined\" || force === true) {\n    root._bokeh_timeout = Date.now() + 5000;\n    root._bokeh_failed_load = false;\n  }\n\n  var NB_LOAD_WARNING = {'data': {'text/html':\n     \"<div style='background-color: #fdd'>\\n\"+\n     \"<p>\\n\"+\n     \"BokehJS does not appear to have successfully loaded. If loading BokehJS from CDN, this \\n\"+\n     \"may be due to a slow or bad network connection. Possible fixes:\\n\"+\n     \"</p>\\n\"+\n     \"<ul>\\n\"+\n     \"<li>re-rerun `output_notebook()` to attempt to load from CDN again, or</li>\\n\"+\n     \"<li>use INLINE resources instead, as so:</li>\\n\"+\n     \"</ul>\\n\"+\n     \"<code>\\n\"+\n     \"from bokeh.resources import INLINE\\n\"+\n     \"output_notebook(resources=INLINE)\\n\"+\n     \"</code>\\n\"+\n     \"</div>\"}};\n\n  function display_loaded() {\n    var el = document.getElementById(\"983e7154-d23a-443b-8642-5238f6968ca6\");\n    if (el != null) {\n      el.textContent = \"BokehJS is loading...\";\n    }\n    if (root.Bokeh !== undefined) {\n      if (el != null) {\n        el.textContent = \"BokehJS \" + root.Bokeh.version + \" successfully loaded.\";\n      }\n    } else if (Date.now() < root._bokeh_timeout) {\n      setTimeout(display_loaded, 100)\n    }\n  }\n\n\n  function run_callbacks() {\n    try {\n      root._bokeh_onload_callbacks.forEach(function(callback) { callback() });\n    }\n    finally {\n      delete root._bokeh_onload_callbacks\n    }\n    console.info(\"Bokeh: all callbacks have finished\");\n  }\n\n  function load_libs(js_urls, callback) {\n    root._bokeh_onload_callbacks.push(callback);\n    if (root._bokeh_is_loading > 0) {\n      console.log(\"Bokeh: BokehJS is being loaded, scheduling callback at\", now());\n      return null;\n    }\n    if (js_urls == null || js_urls.length === 0) {\n      run_callbacks();\n      return null;\n    }\n    console.log(\"Bokeh: BokehJS not loaded, scheduling load and callback at\", now());\n    root._bokeh_is_loading = js_urls.length;\n    for (var i = 0; i < js_urls.length; i++) {\n      var url = js_urls[i];\n      var s = document.createElement('script');\n      s.src = url;\n      s.async = false;\n      s.onreadystatechange = s.onload = function() {\n        root._bokeh_is_loading--;\n        if (root._bokeh_is_loading === 0) {\n          console.log(\"Bokeh: all BokehJS libraries loaded\");\n          run_callbacks()\n        }\n      };\n      s.onerror = function() {\n        console.warn(\"failed to load library \" + url);\n      };\n      console.log(\"Bokeh: injecting script tag for BokehJS library: \", url);\n      document.getElementsByTagName(\"head\")[0].appendChild(s);\n    }\n  };var element = document.getElementById(\"983e7154-d23a-443b-8642-5238f6968ca6\");\n  if (element == null) {\n    console.log(\"Bokeh: ERROR: autoload.js configured with elementid '983e7154-d23a-443b-8642-5238f6968ca6' but no matching script tag was found. \")\n    return false;\n  }\n\n  var js_urls = [\"https://cdn.pydata.org/bokeh/release/bokeh-0.13.0.min.js\", \"https://cdn.pydata.org/bokeh/release/bokeh-widgets-0.13.0.min.js\", \"https://cdn.pydata.org/bokeh/release/bokeh-tables-0.13.0.min.js\", \"https://cdn.pydata.org/bokeh/release/bokeh-gl-0.13.0.min.js\"];\n\n  var inline_js = [\n    function(Bokeh) {\n      Bokeh.set_log_level(\"info\");\n    },\n    \n    function(Bokeh) {\n      \n    },\n    function(Bokeh) {\n      console.log(\"Bokeh: injecting CSS: https://cdn.pydata.org/bokeh/release/bokeh-0.13.0.min.css\");\n      Bokeh.embed.inject_css(\"https://cdn.pydata.org/bokeh/release/bokeh-0.13.0.min.css\");\n      console.log(\"Bokeh: injecting CSS: https://cdn.pydata.org/bokeh/release/bokeh-widgets-0.13.0.min.css\");\n      Bokeh.embed.inject_css(\"https://cdn.pydata.org/bokeh/release/bokeh-widgets-0.13.0.min.css\");\n      console.log(\"Bokeh: injecting CSS: https://cdn.pydata.org/bokeh/release/bokeh-tables-0.13.0.min.css\");\n      Bokeh.embed.inject_css(\"https://cdn.pydata.org/bokeh/release/bokeh-tables-0.13.0.min.css\");\n    }\n  ];\n\n  function run_inline_js() {\n    \n    if ((root.Bokeh !== undefined) || (force === true)) {\n      for (var i = 0; i < inline_js.length; i++) {\n        inline_js[i].call(root, root.Bokeh);\n      }if (force === true) {\n        display_loaded();\n      }} else if (Date.now() < root._bokeh_timeout) {\n      setTimeout(run_inline_js, 100);\n    } else if (!root._bokeh_failed_load) {\n      console.log(\"Bokeh: BokehJS failed to load within specified timeout.\");\n      root._bokeh_failed_load = true;\n    } else if (force !== true) {\n      var cell = $(document.getElementById(\"983e7154-d23a-443b-8642-5238f6968ca6\")).parents('.cell').data().cell;\n      cell.output_area.append_execute_result(NB_LOAD_WARNING)\n    }\n\n  }\n\n  if (root._bokeh_is_loading === 0) {\n    console.log(\"Bokeh: BokehJS loaded, going straight to plotting\");\n    run_inline_js();\n  } else {\n    load_libs(js_urls, function() {\n      console.log(\"Bokeh: BokehJS plotting callback run at\", now());\n      run_inline_js();\n    });\n  }\n}(window));"
     },
     "metadata": {},
     "output_type": "display_data"
    }
   ],
   "source": [
    "from bokeh.plotting import figure, show, output_notebook\n",
    "from bokeh.models import HoverTool, ColumnDataSource, CategoricalColorMapper\n",
    "from bokeh.palettes import Category20\n",
    "from bokeh.models import Legend\n",
    "\n",
    "output_notebook()"
   ]
  },
  {
   "cell_type": "code",
   "execution_count": 41,
   "metadata": {
    "ExecuteTime": {
     "end_time": "2018-11-30T22:40:06.621578Z",
     "start_time": "2018-11-30T22:40:06.391064Z"
    },
    "scrolled": false
   },
   "outputs": [
    {
     "data": {
      "text/html": [
       "\n",
       "\n",
       "\n",
       "\n",
       "\n",
       "\n",
       "  <div class=\"bk-root\" id=\"f4d22524-1c48-4bf9-a376-715697784ba3\"></div>\n"
      ]
     },
     "metadata": {},
     "output_type": "display_data"
    },
    {
     "data": {
      "application/javascript": [
       "(function(root) {\n",
       "  function embed_document(root) {\n",
       "    \n",
       "  var docs_json = {\"201caded-be7b-47e5-b6fd-9a024665ef25\":{\"roots\":{\"references\":[{\"attributes\":{\"fill_alpha\":{\"value\":0.6},\"fill_color\":{\"field\":\"specie\",\"transform\":{\"id\":\"1ded21f3-8849-4f11-ac6d-baf80486c3fe\",\"type\":\"CategoricalColorMapper\"}},\"line_alpha\":{\"value\":0.6},\"line_color\":{\"field\":\"specie\",\"transform\":{\"id\":\"1ded21f3-8849-4f11-ac6d-baf80486c3fe\",\"type\":\"CategoricalColorMapper\"}},\"size\":{\"units\":\"screen\",\"value\":5},\"x\":{\"field\":\"x\"},\"y\":{\"field\":\"y\"}},\"id\":\"c5339330-7856-4915-9965-b680fcd424a8\",\"type\":\"Circle\"},{\"attributes\":{\"fill_alpha\":{\"value\":0.6},\"fill_color\":{\"field\":\"specie\",\"transform\":{\"id\":\"1ded21f3-8849-4f11-ac6d-baf80486c3fe\",\"type\":\"CategoricalColorMapper\"}},\"line_alpha\":{\"value\":0.6},\"line_color\":{\"field\":\"specie\",\"transform\":{\"id\":\"1ded21f3-8849-4f11-ac6d-baf80486c3fe\",\"type\":\"CategoricalColorMapper\"}},\"size\":{\"units\":\"screen\",\"value\":5},\"x\":{\"field\":\"x\"},\"y\":{\"field\":\"y\"}},\"id\":\"fbf55e8e-2409-4595-99f5-eefaab823143\",\"type\":\"Circle\"},{\"attributes\":{\"data_source\":{\"id\":\"63b537a9-6a3d-4b39-963c-b915c3a5d613\",\"type\":\"ColumnDataSource\"},\"glyph\":{\"id\":\"998e8cbc-c07b-4284-a1e4-deb77a7ae8da\",\"type\":\"Circle\"},\"hover_glyph\":null,\"muted_glyph\":null,\"nonselection_glyph\":{\"id\":\"879f543b-39a6-4bb0-b471-7d5ec8fa5299\",\"type\":\"Circle\"},\"selection_glyph\":null,\"view\":{\"id\":\"5ef76587-beb4-4621-a07c-1ef8db6c6f52\",\"type\":\"CDSView\"}},\"id\":\"965a7a9f-d4b2-465a-b0ef-8c28ea0396b1\",\"type\":\"GlyphRenderer\"},{\"attributes\":{\"callback\":null,\"data\":{\"index\":[1584,1585,1586,1587,1588,1589,1590,1591,1592,1593,1594,1595,1596,1597,1598,1599,1600,1601,1602,1603,1604,1605,1606,1607,1608,1609,1610,1611,1612,1613,1614,1615,1616,1617,1618,1619,1620,1621,1622,1623,1624,1625,1626,1627,1628,1629,1630,1631,1632,1633,1634,1635,1636,1637,1638,1639,1640,1641,1642,1643,1644,1645,1646,1647,1648,1649,1650,1651,1652,1653,1654,1655,1656,1657,1658,1659,1660,1661,1662,1663,1664,1665,1666,1667,1668,1669,1670,1671,1672,1673,1674,1675,1676,1677,1678,1679,1680,1681,1682,1683,1684,1685,1686,1687,1688,1689,1690,1691,1692,1693,1694,1695,1696,1697,1698,1699,1700,1701,1702,1703,1704,1705,1706,1707,1708,1709,1710,1711,1712,1713,1714,1715,1716,1717,1718,1719,1720,1721,1722,1723,1724,1725,1726,1727,1728,1729,1730,1731,1732,1733,1734,1735,1736,1737,1738,1739,1740,1741,1742,1743,1744,1745,1746,1747,1748,1749,1750,1751,1752,1753,1754,1755,1756,1757,1758,1759,1760,1761,1762,1763,1764,1765,1766,1767,1768,1769,1770,1771,1772,1773,1774,1775,1776,1777,1778,1779,1780,1781,1782,1783,1784,1785,1786,1787,1788,1789,1790,1791,1792,1793,1794,1795,1796,1797,1798,1799,1800,1801,1802,1803,1804,1805,1806,1807,1808,1809,1810,1811,1812,1813,1814,1815,1816,1817,1818,1819,1820,1821,1822],\"kasios_index\":{\"__ndarray__\":\"AAAAAAAA+H8AAAAAAAD4fwAAAAAAAPh/AAAAAAAA+H8AAAAAAAD4fwAAAAAAAPh/AAAAAAAA+H8AAAAAAAD4fwAAAAAAAPh/AAAAAAAA+H8AAAAAAAD4fwAAAAAAAPh/AAAAAAAA+H8AAAAAAAD4fwAAAAAAAPh/AAAAAAAA+H8AAAAAAAD4fwAAAAAAAPh/AAAAAAAA+H8AAAAAAAD4fwAAAAAAAPh/AAAAAAAA+H8AAAAAAAD4fwAAAAAAAPh/AAAAAAAA+H8AAAAAAAD4fwAAAAAAAPh/AAAAAAAA+H8AAAAAAAD4fwAAAAAAAPh/AAAAAAAA+H8AAAAAAAD4fwAAAAAAAPh/AAAAAAAA+H8AAAAAAAD4fwAAAAAAAPh/AAAAAAAA+H8AAAAAAAD4fwAAAAAAAPh/AAAAAAAA+H8AAAAAAAD4fwAAAAAAAPh/AAAAAAAA+H8AAAAAAAD4fwAAAAAAAPh/AAAAAAAA+H8AAAAAAAD4fwAAAAAAAPh/AAAAAAAA+H8AAAAAAAD4fwAAAAAAAPh/AAAAAAAA+H8AAAAAAAD4fwAAAAAAAPh/AAAAAAAA+H8AAAAAAAD4fwAAAAAAAPh/AAAAAAAA+H8AAAAAAAD4fwAAAAAAAPh/AAAAAAAA+H8AAAAAAAD4fwAAAAAAAPh/AAAAAAAA+H8AAAAAAAD4fwAAAAAAAPh/AAAAAAAA+H8AAAAAAAD4fwAAAAAAAPh/AAAAAAAA+H8AAAAAAAD4fwAAAAAAAPh/AAAAAAAA+H8AAAAAAAD4fwAAAAAAAPh/AAAAAAAA+H8AAAAAAAD4fwAAAAAAAPh/AAAAAAAA+H8AAAAAAAD4fwAAAAAAAPh/AAAAAAAA+H8AAAAAAAD4fwAAAAAAAPh/AAAAAAAA+H8AAAAAAAD4fwAAAAAAAPh/AAAAAAAA+H8AAAAAAAD4fwAAAAAAAPh/AAAAAAAA+H8AAAAAAAD4fwAAAAAAAPh/AAAAAAAA+H8AAAAAAAD4fwAAAAAAAPh/AAAAAAAA+H8AAAAAAAD4fwAAAAAAAPh/AAAAAAAA+H8AAAAAAAD4fwAAAAAAAPh/AAAAAAAA+H8AAAAAAAD4fwAAAAAAAPh/AAAAAAAA+H8AAAAAAAD4fwAAAAAAAPh/AAAAAAAA+H8AAAAAAAD4fwAAAAAAAPh/AAAAAAAA+H8AAAAAAAD4fwAAAAAAAPh/AAAAAAAA+H8AAAAAAAD4fwAAAAAAAPh/AAAAAAAA+H8AAAAAAAD4fwAAAAAAAPh/AAAAAAAA+H8AAAAAAAD4fwAAAAAAAPh/AAAAAAAA+H8AAAAAAAD4fwAAAAAAAPh/AAAAAAAA+H8AAAAAAAD4fwAAAAAAAPh/AAAAAAAA+H8AAAAAAAD4fwAAAAAAAPh/AAAAAAAA+H8AAAAAAAD4fwAAAAAAAPh/AAAAAAAA+H8AAAAAAAD4fwAAAAAAAPh/AAAAAAAA+H8AAAAAAAD4fwAAAAAAAPh/AAAAAAAA+H8AAAAAAAD4fwAAAAAAAPh/AAAAAAAA+H8AAAAAAAD4fwAAAAAAAPh/AAAAAAAA+H8AAAAAAAD4fwAAAAAAAPh/AAAAAAAA+H8AAAAAAAD4fwAAAAAAAPh/AAAAAAAA+H8AAAAAAAD4fwAAAAAAAPh/AAAAAAAA+H8AAAAAAAD4fwAAAAAAAPh/AAAAAAAA+H8AAAAAAAD4fwAAAAAAAPh/AAAAAAAA+H8AAAAAAAD4fwAAAAAAAPh/AAAAAAAA+H8AAAAAAAD4fwAAAAAAAPh/AAAAAAAA+H8AAAAAAAD4fwAAAAAAAPh/AAAAAAAA+H8AAAAAAAD4fwAAAAAAAPh/AAAAAAAA+H8AAAAAAAD4fwAAAAAAAPh/AAAAAAAA+H8AAAAAAAD4fwAAAAAAAPh/AAAAAAAA+H8AAAAAAAD4fwAAAAAAAPh/AAAAAAAA+H8AAAAAAAD4fwAAAAAAAPh/AAAAAAAA+H8AAAAAAAD4fwAAAAAAAPh/AAAAAAAA+H8AAAAAAAD4fwAAAAAAAPh/AAAAAAAA+H8AAAAAAAD4fwAAAAAAAPh/AAAAAAAA+H8AAAAAAAD4fwAAAAAAAPh/AAAAAAAA+H8AAAAAAAD4fwAAAAAAAPh/AAAAAAAA+H8AAAAAAAD4fwAAAAAAAPh/AAAAAAAA+H8AAAAAAAD4fwAAAAAAAPh/AAAAAAAA+H8AAAAAAAD4fwAAAAAAAPh/AAAAAAAA+H8AAAAAAAD4fwAAAAAAAPh/AAAAAAAA+H8AAAAAAAD4fwAAAAAAAPh/AAAAAAAA+H8AAAAAAAD4fwAAAAAAAPh/AAAAAAAA+H8AAAAAAAD4fwAAAAAAAPh/AAAAAAAA+H8AAAAAAAD4fwAAAAAAAPh/AAAAAAAA+H8AAAAAAAD4fwAAAAAAAPh/AAAAAAAA+H8AAAAAAAD4fwAAAAAAAPh/AAAAAAAA+H8AAAAAAAD4fwAAAAAAAPh/AAAAAAAA+H8AAAAAAAD4fwAAAAAAAPh/AAAAAAAA+H8AAAAAAAD4fw==\",\"dtype\":\"float64\",\"shape\":[239]},\"specie\":[\"Queenscoat\",\"Queenscoat\",\"Queenscoat\",\"Queenscoat\",\"Queenscoat\",\"Queenscoat\",\"Queenscoat\",\"Queenscoat\",\"Queenscoat\",\"Queenscoat\",\"Queenscoat\",\"Queenscoat\",\"Queenscoat\",\"Queenscoat\",\"Queenscoat\",\"Queenscoat\",\"Queenscoat\",\"Queenscoat\",\"Queenscoat\",\"Queenscoat\",\"Queenscoat\",\"Queenscoat\",\"Queenscoat\",\"Queenscoat\",\"Queenscoat\",\"Queenscoat\",\"Queenscoat\",\"Queenscoat\",\"Queenscoat\",\"Queenscoat\",\"Queenscoat\",\"Queenscoat\",\"Queenscoat\",\"Queenscoat\",\"Queenscoat\",\"Queenscoat\",\"Queenscoat\",\"Queenscoat\",\"Queenscoat\",\"Queenscoat\",\"Queenscoat\",\"Queenscoat\",\"Queenscoat\",\"Queenscoat\",\"Queenscoat\",\"Queenscoat\",\"Queenscoat\",\"Queenscoat\",\"Queenscoat\",\"Queenscoat\",\"Queenscoat\",\"Queenscoat\",\"Queenscoat\",\"Queenscoat\",\"Queenscoat\",\"Queenscoat\",\"Queenscoat\",\"Queenscoat\",\"Queenscoat\",\"Queenscoat\",\"Queenscoat\",\"Queenscoat\",\"Queenscoat\",\"Queenscoat\",\"Queenscoat\",\"Queenscoat\",\"Queenscoat\",\"Queenscoat\",\"Queenscoat\",\"Queenscoat\",\"Queenscoat\",\"Queenscoat\",\"Queenscoat\",\"Queenscoat\",\"Queenscoat\",\"Queenscoat\",\"Queenscoat\",\"Queenscoat\",\"Queenscoat\",\"Queenscoat\",\"Queenscoat\",\"Queenscoat\",\"Queenscoat\",\"Queenscoat\",\"Queenscoat\",\"Queenscoat\",\"Queenscoat\",\"Queenscoat\",\"Queenscoat\",\"Queenscoat\",\"Queenscoat\",\"Queenscoat\",\"Queenscoat\",\"Queenscoat\",\"Queenscoat\",\"Queenscoat\",\"Queenscoat\",\"Queenscoat\",\"Queenscoat\",\"Queenscoat\",\"Queenscoat\",\"Queenscoat\",\"Queenscoat\",\"Queenscoat\",\"Queenscoat\",\"Queenscoat\",\"Queenscoat\",\"Queenscoat\",\"Queenscoat\",\"Queenscoat\",\"Queenscoat\",\"Queenscoat\",\"Queenscoat\",\"Queenscoat\",\"Queenscoat\",\"Queenscoat\",\"Queenscoat\",\"Queenscoat\",\"Queenscoat\",\"Queenscoat\",\"Queenscoat\",\"Queenscoat\",\"Queenscoat\",\"Queenscoat\",\"Queenscoat\",\"Queenscoat\",\"Queenscoat\",\"Queenscoat\",\"Queenscoat\",\"Queenscoat\",\"Queenscoat\",\"Queenscoat\",\"Queenscoat\",\"Queenscoat\",\"Queenscoat\",\"Queenscoat\",\"Queenscoat\",\"Queenscoat\",\"Queenscoat\",\"Queenscoat\",\"Queenscoat\",\"Queenscoat\",\"Queenscoat\",\"Queenscoat\",\"Queenscoat\",\"Queenscoat\",\"Queenscoat\",\"Queenscoat\",\"Queenscoat\",\"Queenscoat\",\"Queenscoat\",\"Queenscoat\",\"Queenscoat\",\"Queenscoat\",\"Queenscoat\",\"Queenscoat\",\"Queenscoat\",\"Queenscoat\",\"Queenscoat\",\"Queenscoat\",\"Queenscoat\",\"Queenscoat\",\"Queenscoat\",\"Queenscoat\",\"Queenscoat\",\"Queenscoat\",\"Queenscoat\",\"Queenscoat\",\"Queenscoat\",\"Queenscoat\",\"Queenscoat\",\"Queenscoat\",\"Queenscoat\",\"Queenscoat\",\"Queenscoat\",\"Queenscoat\",\"Queenscoat\",\"Queenscoat\",\"Queenscoat\",\"Queenscoat\",\"Queenscoat\",\"Queenscoat\",\"Queenscoat\",\"Queenscoat\",\"Queenscoat\",\"Queenscoat\",\"Queenscoat\",\"Queenscoat\",\"Queenscoat\",\"Queenscoat\",\"Queenscoat\",\"Queenscoat\",\"Queenscoat\",\"Queenscoat\",\"Queenscoat\",\"Queenscoat\",\"Queenscoat\",\"Queenscoat\",\"Queenscoat\",\"Queenscoat\",\"Queenscoat\",\"Queenscoat\",\"Queenscoat\",\"Queenscoat\",\"Queenscoat\",\"Queenscoat\",\"Queenscoat\",\"Queenscoat\",\"Queenscoat\",\"Queenscoat\",\"Queenscoat\",\"Queenscoat\",\"Queenscoat\",\"Queenscoat\",\"Queenscoat\",\"Queenscoat\",\"Queenscoat\",\"Queenscoat\",\"Queenscoat\",\"Queenscoat\",\"Queenscoat\",\"Queenscoat\",\"Queenscoat\",\"Queenscoat\",\"Queenscoat\",\"Queenscoat\",\"Queenscoat\",\"Queenscoat\",\"Queenscoat\",\"Queenscoat\",\"Queenscoat\",\"Queenscoat\",\"Queenscoat\",\"Queenscoat\",\"Queenscoat\",\"Queenscoat\",\"Queenscoat\",\"Queenscoat\",\"Queenscoat\"],\"x\":{\"__ndarray__\":\"RBm6QMtZkUCu1sdAgmK9QMxdfEAElpRAGNyxQMfJikACP1NArpJUQDYvikDs88tAW8a4QBBFwUD7schA55rMQKbto0CxrLhArgOZQG5wh0ABqsBAQdqqQMVxW0CzoZNA551yQEirXEDYtMBA6nuxQMxPr0BwkrlAasxlQPK7vkA27pNABCCmQLpdi0CYWpNAC/W2QLbBvkCvdGhAE3m8QAE4e0DRwZ5AlxGRQPQNqMAzxYjAcHmewG0SfUBnBJ1ADMhWQBgqgEDi6llAogYwvyTJzECxNslAd/qFQM/NWkA0OKlARnSLQKJsekCTF3hANEZ2QIlnckB4c7hAduC0QAhlm7/kHKZA23OWQIw7XEAw879AuEqeQEGJmUDj95NAhfB0QOXrScBAbK9AYUiFQMith0Bs9L5AYGPzv6AuYEB2TkfApBJeQH4ju0A8fKJAVrSSQBDIrUAYArxAZEmXQKiOoUCr8LpAAHi8QBmIqkCCbptAIeDJQP5LmUCxDL5A4FTJQIg1zEAFNn5AiijDQH3JRsBqhFxAGg/DQA+qnL+q4H9A33lSQDNNhEDW2axARXaFQBK8a0DIq1dAvs9JQC9DqEAKaE9AOulrQJ8LjkCCAU+/5xW8QFdfD0Af12ZABSPTv5ZRUECPnZ5AZ2HzP+HjVkBpdl1A22KZQKo8rUB8lLhATZlawPLkvUBjHrxAk+23QBFnlEA6IslA+36AQO2kl0DhHK1Ap6/LQIPtvUCntY5AoUWvQAJPm0Dp6rJAysy0QLF0qUDWWplAM/ysQKwSfMBT6Z5Asu9WQFwgvEA+v6NAiqGBQJ5ewEDumqdAhDeqQPsgjEDgqAnA4FxTQOPjvECAEGtAG6a5QC4apUC9YbS/8mBXQAPCoUCHxF1A7JW3QDWKikDIJZDAb063QGyutEACziFA75ijQL+3jkBf3K1AQDfSv7N5TkAd8K2/XS7Tv8FSe0CpmYBAkfBwQNhmTEAds5VA5mmlv+5k1r/Z+MVAVe+TQHYgu0C5yIxAlvt5QLKL778MqOC/DmY+wDRKokBRmqW/3eKcQBcakEAyPy3Aj3bWvwiNlb8q7La/BIy3v6GMbr6dlk9AE1evQEoO0D++uqJAE323QJWAlsDePXlAjgF0QAqwrEDJ9mlAuwixQD14okByj4dAYImiQIhNVUD8l1FA5NRdQBX8pECZ3WBARDBXQHM0ZUCokr2/DXqWQLXetr++D7u/Y8VZQLXfxECGR6hApy9MQHdJA8BWos2/uKJKQI08u0A=\",\"dtype\":\"float32\",\"shape\":[239]},\"y\":{\"__ndarray__\":\"2m1fQN5GP0AhW0pAoFxCQMUyOEB6/itAosBcQAH+SkAElT1A0BsoQIJmR0CpyEFAkmZXQDSYS0DLmjRAwQFCQAsU5T9171JAY2ImQLVPTkBDbjxAIVpYQHDHSkBvql5Aw0NSQPclJEAXH0FA3xK3P6I5AEDrcFlA7pJFQFCDO0D2519AfWU7QEwGRUDwVltAV9o7QK5jLkA3yGRAb15HQH9TSED4bEFAgYUqQMiRIkBdunJA48+fP7aFVkAPz0BACkOsP1odR0ACE2dAacSQv25dPEDvRTNApQ1JQOaCNkC5UV1AXgxLQERDUEDWDU9AvT1WQFWvY0Bx3g9AcsUBQCxBa0ArN0VAyPEKQOy+U0BUa09Ao87bP4bgXkCjLw9AgH5UQM8TCj6PyFdAcglAQPKvTkD+GEtA3y8UQKQSW0B+Y58/26hOQIDszz9IxDxA6QBTQPdQP0CV0SdA5GZMQGpjC0ANCCtApdcpQDdEBEDWZwRAGz42QBlVPUB5/DNAIiY0QKAyPEDZjlRAj9FQQFhfc0Ab8WFAfdVBQJJNbECvC0pAsfD7PzVpS0BzwhJAhFVQQO+YT0AEgEtAIuTBP4vfIEAMeUhARI0ZQPOqT0CR7vG+jjskQJ4Ukj4LddQ/edipP9oMSkDZLztAf/C8v7xtPEBRT09ABzpcQLeHLkBSX1JAzY87QM1DTUAwkEdAW8hEQN/hQkA/nC9AjqQsQH3vXECyku4/PsI/QIkb7j/IFEVAMlYJQAbVPEC9az1Agc86QF5IW0DOp0JA2UdPQET9gr+7NzZAzPdeQK1BTEDy8idACMRFQG2QG0DDbDFA0RgoQNFqTUDh9ZtAEZUrQMK6YEAzzFRA48ZGQAZPOkAlBHlAorgwQG3TO0CVg19AephkQB2FTEA4X4s/S/hXQBh9V0B4uP2/VVJ6P77gZUAhjV5A98sZQB/VV0BHwFpATcEyQGEZQkCctFZAlWhKQHFLUUBpLTFAgilKQBqqPEAe2EhAh1Y6QPvNWkBDQkdAIypXQAP/MkB9DZdAQsy9P2WGMEB/9VFA1bm9PwXvRkCiXui+IhaqP2euX0BY+rE/c4FcvkB2uL8NLV5APRgSQDeb67/34ixAqzwOQBiHkT9owVRAU3FaQPI/P0BsHlpAL0M9QDVXP0ClYj1AJV14P7EDX0A+Bl1AR81fQMGFN0B+1z1AGfY8QK8QUUB/gWZAEMdbQIh2dEAC1WBAaF5PQCxiQ0BPST1AeTxeQEsRGkAMzi1Amj9fQIBx9T8=\",\"dtype\":\"float32\",\"shape\":[239]}},\"selected\":{\"id\":\"8a4dad64-0c5d-4b21-95bb-8d60a4db59a4\",\"type\":\"Selection\"},\"selection_policy\":{\"id\":\"b5566153-edbb-49b8-ae25-3360d918b9a3\",\"type\":\"UnionRenderers\"}},\"id\":\"c8cbbc5d-be83-4190-9cbf-c98a19c4010c\",\"type\":\"ColumnDataSource\"},{\"attributes\":{\"data_source\":{\"id\":\"c8cbbc5d-be83-4190-9cbf-c98a19c4010c\",\"type\":\"ColumnDataSource\"},\"glyph\":{\"id\":\"c5339330-7856-4915-9965-b680fcd424a8\",\"type\":\"Circle\"},\"hover_glyph\":null,\"muted_glyph\":null,\"nonselection_glyph\":{\"id\":\"fd263864-d0c0-42f2-bbe8-1aacecd7cd79\",\"type\":\"Circle\"},\"selection_glyph\":null,\"view\":{\"id\":\"a03261ee-352f-48d8-81be-7047ba8dc99b\",\"type\":\"CDSView\"}},\"id\":\"5b176fa6-7895-4ecb-a76d-a7a6d98b888f\",\"type\":\"GlyphRenderer\"},{\"attributes\":{\"fill_alpha\":{\"value\":0.6},\"fill_color\":{\"field\":\"specie\",\"transform\":{\"id\":\"1ded21f3-8849-4f11-ac6d-baf80486c3fe\",\"type\":\"CategoricalColorMapper\"}},\"line_alpha\":{\"value\":0.6},\"line_color\":{\"field\":\"specie\",\"transform\":{\"id\":\"1ded21f3-8849-4f11-ac6d-baf80486c3fe\",\"type\":\"CategoricalColorMapper\"}},\"size\":{\"units\":\"screen\",\"value\":5},\"x\":{\"field\":\"x\"},\"y\":{\"field\":\"y\"}},\"id\":\"6a64feb3-537f-40ad-8545-bfd7e3ad274b\",\"type\":\"Circle\"},{\"attributes\":{\"plot\":{\"id\":\"d681732e-fabd-4538-978c-c3e4324620b8\",\"subtype\":\"Figure\",\"type\":\"Plot\"},\"ticker\":{\"id\":\"8c47da66-ff8b-44a5-b00f-151965c69b32\",\"type\":\"BasicTicker\"}},\"id\":\"cba2e457-d0d3-41c9-9301-9641ed2355c0\",\"type\":\"Grid\"},{\"attributes\":{\"fill_alpha\":{\"value\":0.6},\"fill_color\":{\"field\":\"specie\",\"transform\":{\"id\":\"1ded21f3-8849-4f11-ac6d-baf80486c3fe\",\"type\":\"CategoricalColorMapper\"}},\"line_alpha\":{\"value\":0.6},\"line_color\":{\"field\":\"specie\",\"transform\":{\"id\":\"1ded21f3-8849-4f11-ac6d-baf80486c3fe\",\"type\":\"CategoricalColorMapper\"}},\"size\":{\"units\":\"screen\",\"value\":5},\"x\":{\"field\":\"x\"},\"y\":{\"field\":\"y\"}},\"id\":\"c27a3815-d55c-4fe3-ac2d-8ae65a9e9263\",\"type\":\"Circle\"},{\"attributes\":{\"source\":{\"id\":\"a92ff11d-9fc5-4e0e-a388-e9b7e89894ba\",\"type\":\"ColumnDataSource\"}},\"id\":\"5f88a708-6806-41df-8683-26cc1e910af7\",\"type\":\"CDSView\"},{\"attributes\":{\"source\":{\"id\":\"5a8f8dbd-8408-4227-9622-75c14811f230\",\"type\":\"ColumnDataSource\"}},\"id\":\"85e2599b-2a28-4c3d-abb8-6025bd7a742a\",\"type\":\"CDSView\"},{\"attributes\":{},\"id\":\"bbd12ba9-f15d-40c0-a22b-821d2d485109\",\"type\":\"BasicTicker\"},{\"attributes\":{\"fill_alpha\":{\"value\":0.1},\"fill_color\":{\"value\":\"#1f77b4\"},\"line_alpha\":{\"value\":0.1},\"line_color\":{\"value\":\"#1f77b4\"},\"size\":{\"units\":\"screen\",\"value\":5},\"x\":{\"field\":\"x\"},\"y\":{\"field\":\"y\"}},\"id\":\"9e77b697-4d76-4089-a819-1d555c323ada\",\"type\":\"Circle\"},{\"attributes\":{\"dimension\":1,\"plot\":{\"id\":\"d681732e-fabd-4538-978c-c3e4324620b8\",\"subtype\":\"Figure\",\"type\":\"Plot\"},\"ticker\":{\"id\":\"bbd12ba9-f15d-40c0-a22b-821d2d485109\",\"type\":\"BasicTicker\"}},\"id\":\"0c0feddb-e093-41c1-857c-bbc742157239\",\"type\":\"Grid\"},{\"attributes\":{\"source\":{\"id\":\"a87f2a84-b280-42ae-bd13-b01baa5bd87a\",\"type\":\"ColumnDataSource\"}},\"id\":\"7585f7cb-a747-4a62-bae3-a48fc8858cbe\",\"type\":\"CDSView\"},{\"attributes\":{},\"id\":\"347a1c4f-bbbb-47ca-9a3c-c9a269016708\",\"type\":\"Selection\"},{\"attributes\":{\"plot\":null,\"text\":\"UMAP projection of the birds songs\"},\"id\":\"ff3b1907-eb6f-4fd6-9248-e7c328fcaa4b\",\"type\":\"Title\"},{\"attributes\":{\"fill_alpha\":{\"value\":0.1},\"fill_color\":{\"value\":\"#1f77b4\"},\"line_alpha\":{\"value\":0.1},\"line_color\":{\"value\":\"#1f77b4\"},\"size\":{\"units\":\"screen\",\"value\":5},\"x\":{\"field\":\"x\"},\"y\":{\"field\":\"y\"}},\"id\":\"588affbd-d2df-4ad1-891d-ee81ab967bb5\",\"type\":\"Circle\"},{\"attributes\":{\"fill_alpha\":{\"value\":0.6},\"fill_color\":{\"field\":\"specie\",\"transform\":{\"id\":\"1ded21f3-8849-4f11-ac6d-baf80486c3fe\",\"type\":\"CategoricalColorMapper\"}},\"line_alpha\":{\"value\":0.6},\"line_color\":{\"field\":\"specie\",\"transform\":{\"id\":\"1ded21f3-8849-4f11-ac6d-baf80486c3fe\",\"type\":\"CategoricalColorMapper\"}},\"size\":{\"units\":\"screen\",\"value\":5},\"x\":{\"field\":\"x\"},\"y\":{\"field\":\"y\"}},\"id\":\"eb3ba0c0-2b1b-4991-b47e-6bace45a8907\",\"type\":\"Circle\"},{\"attributes\":{\"fill_alpha\":{\"value\":0.6},\"fill_color\":{\"field\":\"specie\",\"transform\":{\"id\":\"1ded21f3-8849-4f11-ac6d-baf80486c3fe\",\"type\":\"CategoricalColorMapper\"}},\"line_alpha\":{\"value\":0.6},\"line_color\":{\"field\":\"specie\",\"transform\":{\"id\":\"1ded21f3-8849-4f11-ac6d-baf80486c3fe\",\"type\":\"CategoricalColorMapper\"}},\"size\":{\"units\":\"screen\",\"value\":5},\"x\":{\"field\":\"x\"},\"y\":{\"field\":\"y\"}},\"id\":\"bdebd9af-5057-4f31-9104-b56cfc954c33\",\"type\":\"Circle\"},{\"attributes\":{\"source\":{\"id\":\"87fd6d69-5c40-415c-acff-36252881dc2f\",\"type\":\"ColumnDataSource\"}},\"id\":\"ca9b27cf-d3d3-4cb4-bc1c-f5277ea31d03\",\"type\":\"CDSView\"},{\"attributes\":{},\"id\":\"d4e4d891-a9be-4d56-b14d-f3d93688f1f5\",\"type\":\"BasicTickFormatter\"},{\"attributes\":{\"fill_alpha\":{\"value\":0.1},\"fill_color\":{\"value\":\"#1f77b4\"},\"line_alpha\":{\"value\":0.1},\"line_color\":{\"value\":\"#1f77b4\"},\"size\":{\"units\":\"screen\",\"value\":5},\"x\":{\"field\":\"x\"},\"y\":{\"field\":\"y\"}},\"id\":\"9f650e2c-617a-427e-a710-95ea1712c8dc\",\"type\":\"Circle\"},{\"attributes\":{\"fill_alpha\":{\"value\":0.1},\"fill_color\":{\"value\":\"#1f77b4\"},\"line_alpha\":{\"value\":0.1},\"line_color\":{\"value\":\"#1f77b4\"},\"size\":{\"units\":\"screen\",\"value\":5},\"x\":{\"field\":\"x\"},\"y\":{\"field\":\"y\"}},\"id\":\"77e15b51-22f5-4119-87cb-ee9ef412e192\",\"type\":\"Circle\"},{\"attributes\":{\"source\":{\"id\":\"838764d9-7f41-482d-a8ec-531399a45b6a\",\"type\":\"ColumnDataSource\"}},\"id\":\"8b206064-f32e-4d77-8a20-9ab00fdd4f1a\",\"type\":\"CDSView\"},{\"attributes\":{\"fill_alpha\":{\"value\":0.1},\"fill_color\":{\"value\":\"#1f77b4\"},\"line_alpha\":{\"value\":0.1},\"line_color\":{\"value\":\"#1f77b4\"},\"size\":{\"units\":\"screen\",\"value\":5},\"x\":{\"field\":\"x\"},\"y\":{\"field\":\"y\"}},\"id\":\"3f719d57-cd30-418e-bfc9-ac0260358c30\",\"type\":\"Circle\"},{\"attributes\":{\"fill_alpha\":{\"value\":0.6},\"fill_color\":{\"field\":\"specie\",\"transform\":{\"id\":\"1ded21f3-8849-4f11-ac6d-baf80486c3fe\",\"type\":\"CategoricalColorMapper\"}},\"line_alpha\":{\"value\":0.6},\"line_color\":{\"field\":\"specie\",\"transform\":{\"id\":\"1ded21f3-8849-4f11-ac6d-baf80486c3fe\",\"type\":\"CategoricalColorMapper\"}},\"size\":{\"units\":\"screen\",\"value\":5},\"x\":{\"field\":\"x\"},\"y\":{\"field\":\"y\"}},\"id\":\"c0ba36dd-f072-4ed4-b7ba-d99dab45999a\",\"type\":\"Circle\"},{\"attributes\":{\"source\":{\"id\":\"7a57700a-266f-4108-a408-e70e42ee1d2f\",\"type\":\"ColumnDataSource\"}},\"id\":\"d12ae0c2-1ce2-4121-829c-cbc7ac578161\",\"type\":\"CDSView\"},{\"attributes\":{\"callback\":null,\"data\":{\"index\":[1894,1895,1896,1897,1898,1899,1900,1901,1902,1903,1904,1905,1906,1907,1908,1909,1910,1911,1912,1913,1914,1915,1916,1917,1918,1919,1920,1921,1922,1923,1924,1925,1926,1927,1928,1929,1930,1931,1932,1933,1934,1935,1936,1937,1938,1939,1940,1941,1942,1943,1944,1945,1946,1947,1948,1949,1950,1951,1952,1953,1954,1955,1956,1957,1958,1959,1960,1961,1962,1963,1964,1965,1966,1967,1968,1969,1970,1971,1972,1973,1974,1975,1976,1977,1978,1979,1980,1981,1982],\"kasios_index\":{\"__ndarray__\":\"AAAAAAAA+H8AAAAAAAD4fwAAAAAAAPh/AAAAAAAA+H8AAAAAAAD4fwAAAAAAAPh/AAAAAAAA+H8AAAAAAAD4fwAAAAAAAPh/AAAAAAAA+H8AAAAAAAD4fwAAAAAAAPh/AAAAAAAA+H8AAAAAAAD4fwAAAAAAAPh/AAAAAAAA+H8AAAAAAAD4fwAAAAAAAPh/AAAAAAAA+H8AAAAAAAD4fwAAAAAAAPh/AAAAAAAA+H8AAAAAAAD4fwAAAAAAAPh/AAAAAAAA+H8AAAAAAAD4fwAAAAAAAPh/AAAAAAAA+H8AAAAAAAD4fwAAAAAAAPh/AAAAAAAA+H8AAAAAAAD4fwAAAAAAAPh/AAAAAAAA+H8AAAAAAAD4fwAAAAAAAPh/AAAAAAAA+H8AAAAAAAD4fwAAAAAAAPh/AAAAAAAA+H8AAAAAAAD4fwAAAAAAAPh/AAAAAAAA+H8AAAAAAAD4fwAAAAAAAPh/AAAAAAAA+H8AAAAAAAD4fwAAAAAAAPh/AAAAAAAA+H8AAAAAAAD4fwAAAAAAAPh/AAAAAAAA+H8AAAAAAAD4fwAAAAAAAPh/AAAAAAAA+H8AAAAAAAD4fwAAAAAAAPh/AAAAAAAA+H8AAAAAAAD4fwAAAAAAAPh/AAAAAAAA+H8AAAAAAAD4fwAAAAAAAPh/AAAAAAAA+H8AAAAAAAD4fwAAAAAAAPh/AAAAAAAA+H8AAAAAAAD4fwAAAAAAAPh/AAAAAAAA+H8AAAAAAAD4fwAAAAAAAPh/AAAAAAAA+H8AAAAAAAD4fwAAAAAAAPh/AAAAAAAA+H8AAAAAAAD4fwAAAAAAAPh/AAAAAAAA+H8AAAAAAAD4fwAAAAAAAPh/AAAAAAAA+H8AAAAAAAD4fwAAAAAAAPh/AAAAAAAA+H8AAAAAAAD4fwAAAAAAAPh/AAAAAAAA+H8AAAAAAAD4fw==\",\"dtype\":\"float64\",\"shape\":[89]},\"specie\":[\"Scrawny Jay\",\"Scrawny Jay\",\"Scrawny Jay\",\"Scrawny Jay\",\"Scrawny Jay\",\"Scrawny Jay\",\"Scrawny Jay\",\"Scrawny Jay\",\"Scrawny Jay\",\"Scrawny Jay\",\"Scrawny Jay\",\"Scrawny Jay\",\"Scrawny Jay\",\"Scrawny Jay\",\"Scrawny Jay\",\"Scrawny Jay\",\"Scrawny Jay\",\"Scrawny Jay\",\"Scrawny Jay\",\"Scrawny Jay\",\"Scrawny Jay\",\"Scrawny Jay\",\"Scrawny Jay\",\"Scrawny Jay\",\"Scrawny Jay\",\"Scrawny Jay\",\"Scrawny Jay\",\"Scrawny Jay\",\"Scrawny Jay\",\"Scrawny Jay\",\"Scrawny Jay\",\"Scrawny Jay\",\"Scrawny Jay\",\"Scrawny Jay\",\"Scrawny Jay\",\"Scrawny Jay\",\"Scrawny Jay\",\"Scrawny Jay\",\"Scrawny Jay\",\"Scrawny Jay\",\"Scrawny Jay\",\"Scrawny Jay\",\"Scrawny Jay\",\"Scrawny Jay\",\"Scrawny Jay\",\"Scrawny Jay\",\"Scrawny Jay\",\"Scrawny Jay\",\"Scrawny Jay\",\"Scrawny Jay\",\"Scrawny Jay\",\"Scrawny Jay\",\"Scrawny Jay\",\"Scrawny Jay\",\"Scrawny Jay\",\"Scrawny Jay\",\"Scrawny Jay\",\"Scrawny Jay\",\"Scrawny Jay\",\"Scrawny Jay\",\"Scrawny Jay\",\"Scrawny Jay\",\"Scrawny Jay\",\"Scrawny Jay\",\"Scrawny Jay\",\"Scrawny Jay\",\"Scrawny Jay\",\"Scrawny Jay\",\"Scrawny Jay\",\"Scrawny Jay\",\"Scrawny Jay\",\"Scrawny Jay\",\"Scrawny Jay\",\"Scrawny Jay\",\"Scrawny Jay\",\"Scrawny Jay\",\"Scrawny Jay\",\"Scrawny Jay\",\"Scrawny Jay\",\"Scrawny Jay\",\"Scrawny Jay\",\"Scrawny Jay\",\"Scrawny Jay\",\"Scrawny Jay\",\"Scrawny Jay\",\"Scrawny Jay\",\"Scrawny Jay\",\"Scrawny Jay\",\"Scrawny Jay\"],\"x\":{\"__ndarray__\":\"H6M8wAIo4j9WjYvAQCc4wFUZqb/V1iLAwL2BwAkwn78bl1LATX6awAmFUcDHh4PAX+8gwLCVAcADPFPAtXuGwDFv2797LUTAlNWHwOSuqMA4iyXAZqGAwCqJV8D1xI3AOHeNwKo8rD/P9I7AITFBwOllAcAsufa/eapUwPv5wb83VI3AdDiiwKlYL8BwXYxAgJISwCEoG8D7rai/tnV3wB2DfcBmGH7AvIkrwL5ZLUBgUp+/wnnZv6HKKcCIeDPATVx7wF6hBcC49jTADgcIwAw4kcDVjJy/RJsrwL+4IsB7Ctm/j0wVwMX5AcBKcgPAJfsZwPLUnr+j3rK/PclfwJrZqsDUE1lAKihZwHFbDcBDHzjALWFswDdVqsCWpR3AoFNiwNK1kT8cRSW/IR5ewCn+g8CCfYTAE3cBwFF+BsCNLA/AtWJwwC6WWMDqRVLACA0MwKA+d8CP2kzAWQKGwAX/OMA=\",\"dtype\":\"float32\",\"shape\":[89]},\"y\":{\"__ndarray__\":\"G0CeQNSo7b9YCXE/EeySQKn6RUDKX1o/iGjQP+njQEA19j1AbqMDQBGQjECw839AY/aZQDCDyD/WtI5Azh9wQN2MjUCtMpxA8CMBQKrFpz/CiJ1Aw5MMQMoRB0ACQD5A5vcjQAMzUL/zFok/U2CeQHk6V0DtMHFA+wOEQImRX0D4VYdAghcbQD/oWkCywmhAAViBQFpRcEABYgW/W6sRQCquCj8oFKc/YRxcQKjBUr+5AkRAiHqWP8S7OEATyuc/0jt9P15iZUBeyRdAClZIQAjnbkDBkENAO0AOvwsHn0AGypRAX599QElfe0BWzWZA0z2EQMrUSUAKoVdAC8E7QETsN0AlwgZAlSSNQA3BeEA4/4BAd9E8QAS9nz/b9SJA41I9QNPMTr+DJly/XbEyQMQKjkCg1kNArglzQFmhjEBfSopAsI+FP6/iY0Cye49A6V9uQPpgFUCmYUVAQWFmQGXzhkA=\",\"dtype\":\"float32\",\"shape\":[89]}},\"selected\":{\"id\":\"1d669f68-d9e4-4337-95dc-729f40eaa046\",\"type\":\"Selection\"},\"selection_policy\":{\"id\":\"d98c5364-155d-4243-986f-5e1084f88daa\",\"type\":\"UnionRenderers\"}},\"id\":\"838764d9-7f41-482d-a8ec-531399a45b6a\",\"type\":\"ColumnDataSource\"},{\"attributes\":{\"data_source\":{\"id\":\"a92ff11d-9fc5-4e0e-a388-e9b7e89894ba\",\"type\":\"ColumnDataSource\"},\"glyph\":{\"id\":\"fbf55e8e-2409-4595-99f5-eefaab823143\",\"type\":\"Circle\"},\"hover_glyph\":null,\"muted_glyph\":null,\"nonselection_glyph\":{\"id\":\"e57e6396-b8f4-490c-b69a-27b781ef9cfc\",\"type\":\"Circle\"},\"selection_glyph\":null,\"view\":{\"id\":\"5f88a708-6806-41df-8683-26cc1e910af7\",\"type\":\"CDSView\"}},\"id\":\"b01affcd-a996-4a1d-8a51-e52b6bdf8fec\",\"type\":\"GlyphRenderer\"},{\"attributes\":{\"fill_alpha\":{\"value\":0.6},\"fill_color\":{\"field\":\"specie\",\"transform\":{\"id\":\"1ded21f3-8849-4f11-ac6d-baf80486c3fe\",\"type\":\"CategoricalColorMapper\"}},\"line_alpha\":{\"value\":0.6},\"line_color\":{\"field\":\"specie\",\"transform\":{\"id\":\"1ded21f3-8849-4f11-ac6d-baf80486c3fe\",\"type\":\"CategoricalColorMapper\"}},\"size\":{\"units\":\"screen\",\"value\":5},\"x\":{\"field\":\"x\"},\"y\":{\"field\":\"y\"}},\"id\":\"998e8cbc-c07b-4284-a1e4-deb77a7ae8da\",\"type\":\"Circle\"},{\"attributes\":{\"source\":{\"id\":\"70648fdc-cff8-4ee0-bac0-6351fc357b4d\",\"type\":\"ColumnDataSource\"}},\"id\":\"8f155e7e-2f73-4a7a-8f6e-a0bac74b234d\",\"type\":\"CDSView\"},{\"attributes\":{\"callback\":null,\"data\":{\"index\":[483,484,485,486,487,488,489,490,491,492,493,494,495,496,497,498,499,500,501,502,503,504,505,506,507,508,509,510,511,512,513,514,515,516,517,518,519,520,521,522,523,524,525,526,527,528,529,530,531,532,533,534,535,536,537,538,539,540,541,542,543,544,545,546,547,548,549,550,551,552,553,554,555,556,557,558,559,560,561,562,563,564],\"kasios_index\":{\"__ndarray__\":\"AAAAAAAA+H8AAAAAAAD4fwAAAAAAAPh/AAAAAAAA+H8AAAAAAAD4fwAAAAAAAPh/AAAAAAAA+H8AAAAAAAD4fwAAAAAAAPh/AAAAAAAA+H8AAAAAAAD4fwAAAAAAAPh/AAAAAAAA+H8AAAAAAAD4fwAAAAAAAPh/AAAAAAAA+H8AAAAAAAD4fwAAAAAAAPh/AAAAAAAA+H8AAAAAAAD4fwAAAAAAAPh/AAAAAAAA+H8AAAAAAAD4fwAAAAAAAPh/AAAAAAAA+H8AAAAAAAD4fwAAAAAAAPh/AAAAAAAA+H8AAAAAAAD4fwAAAAAAAPh/AAAAAAAA+H8AAAAAAAD4fwAAAAAAAPh/AAAAAAAA+H8AAAAAAAD4fwAAAAAAAPh/AAAAAAAA+H8AAAAAAAD4fwAAAAAAAPh/AAAAAAAA+H8AAAAAAAD4fwAAAAAAAPh/AAAAAAAA+H8AAAAAAAD4fwAAAAAAAPh/AAAAAAAA+H8AAAAAAAD4fwAAAAAAAPh/AAAAAAAA+H8AAAAAAAD4fwAAAAAAAPh/AAAAAAAA+H8AAAAAAAD4fwAAAAAAAPh/AAAAAAAA+H8AAAAAAAD4fwAAAAAAAPh/AAAAAAAA+H8AAAAAAAD4fwAAAAAAAPh/AAAAAAAA+H8AAAAAAAD4fwAAAAAAAPh/AAAAAAAA+H8AAAAAAAD4fwAAAAAAAPh/AAAAAAAA+H8AAAAAAAD4fwAAAAAAAPh/AAAAAAAA+H8AAAAAAAD4fwAAAAAAAPh/AAAAAAAA+H8AAAAAAAD4fwAAAAAAAPh/AAAAAAAA+H8AAAAAAAD4fwAAAAAAAPh/AAAAAAAA+H8AAAAAAAD4fwAAAAAAAPh/AAAAAAAA+H8=\",\"dtype\":\"float64\",\"shape\":[82]},\"specie\":[\"Canadian Cootamum\",\"Canadian Cootamum\",\"Canadian Cootamum\",\"Canadian Cootamum\",\"Canadian Cootamum\",\"Canadian Cootamum\",\"Canadian Cootamum\",\"Canadian Cootamum\",\"Canadian Cootamum\",\"Canadian Cootamum\",\"Canadian Cootamum\",\"Canadian Cootamum\",\"Canadian Cootamum\",\"Canadian Cootamum\",\"Canadian Cootamum\",\"Canadian Cootamum\",\"Canadian Cootamum\",\"Canadian Cootamum\",\"Canadian Cootamum\",\"Canadian Cootamum\",\"Canadian Cootamum\",\"Canadian Cootamum\",\"Canadian Cootamum\",\"Canadian Cootamum\",\"Canadian Cootamum\",\"Canadian Cootamum\",\"Canadian Cootamum\",\"Canadian Cootamum\",\"Canadian Cootamum\",\"Canadian Cootamum\",\"Canadian Cootamum\",\"Canadian Cootamum\",\"Canadian Cootamum\",\"Canadian Cootamum\",\"Canadian Cootamum\",\"Canadian Cootamum\",\"Canadian Cootamum\",\"Canadian Cootamum\",\"Canadian Cootamum\",\"Canadian Cootamum\",\"Canadian Cootamum\",\"Canadian Cootamum\",\"Canadian Cootamum\",\"Canadian Cootamum\",\"Canadian Cootamum\",\"Canadian Cootamum\",\"Canadian Cootamum\",\"Canadian Cootamum\",\"Canadian Cootamum\",\"Canadian Cootamum\",\"Canadian Cootamum\",\"Canadian Cootamum\",\"Canadian Cootamum\",\"Canadian Cootamum\",\"Canadian Cootamum\",\"Canadian Cootamum\",\"Canadian Cootamum\",\"Canadian Cootamum\",\"Canadian Cootamum\",\"Canadian Cootamum\",\"Canadian Cootamum\",\"Canadian Cootamum\",\"Canadian Cootamum\",\"Canadian Cootamum\",\"Canadian Cootamum\",\"Canadian Cootamum\",\"Canadian Cootamum\",\"Canadian Cootamum\",\"Canadian Cootamum\",\"Canadian Cootamum\",\"Canadian Cootamum\",\"Canadian Cootamum\",\"Canadian Cootamum\",\"Canadian Cootamum\",\"Canadian Cootamum\",\"Canadian Cootamum\",\"Canadian Cootamum\",\"Canadian Cootamum\",\"Canadian Cootamum\",\"Canadian Cootamum\",\"Canadian Cootamum\",\"Canadian Cootamum\"],\"x\":{\"__ndarray__\":\"5GfaP0Ep17+k9hFA4IqFQG/IakDJeohA6FpeQE7DqEBJ+hpAIGJIQE0lBUBXEmJAsW+kQAE4LUBO+odAt9UMQB0uhUBHKUVAVR1IQEBJv0Dpv2NAYu9KQK5XS0DFslxAtIqrQKlAc0D9PjFAigSoQBNtvkCnZ0ZAU7GWwC7gu0DLeD1AqOKNQGjdq8Bbz11AyYc5QJWKrECaUKlAIOOJQEegc0CewmdA7lDiPuq/qECFh6JAOEG/QPlVv0CsHUnAz5w7QB/FmcBnyr5AQF9uQPCgUUDKI01Am0EFQAVLKEDlSLk/z4KFQLicqEDXyUtAvQaBP7gEj8BGdim/vRyLQIrFi0B4JhNAay+pQFwxbEB2tgnAhGQSQEqdDMBAP8g/s2asQKAolL8IBZ9AVyzfv+ylTsAGpb1A9VSlQFqDYcD/B4hA1AhCwA==\",\"dtype\":\"float32\",\"shape\":[82]},\"y\":{\"__ndarray__\":\"fdrDvzigpz8aaF7AO+GuPui+4b5Lzp4+nvaQP78SLj58d/S/rtczwICIgL8we92+YytmPphHG78BXdQ+94gSwAnBCj8rn0G/BOsewDWvoj6ijIy/tGr9v8KwIsCjzdS/QQ6SvLvslD9umgvAKYsXPhVwlz4odynAMRGdPxz7OD8gCjbAuw6hPjyyoD62q8a+8OtBv9rcHj/aWWc+ZMCfPhV4Sj+33DO+ClGPv5eFDD4J/HI+7UXDPsr53D46qx5AivSQvzuCOUCO8AA/NEotPxAjLsCRPx3A9V48PSPB5b92ISPA/wEKP9SRzz3VPDTAFk2Xvle7KEDxes+/ALa7PmZojj7dEzg9ch6kPQlUnL5EO0S+osZAwErtWUC1xzbArGrjPxtARED8KQtAo62UQHHRrT8WOas+DFw7Pp3zWUAfnZ8+BZYIwA==\",\"dtype\":\"float32\",\"shape\":[82]}},\"selected\":{\"id\":\"347a1c4f-bbbb-47ca-9a3c-c9a269016708\",\"type\":\"Selection\"},\"selection_policy\":{\"id\":\"412baaa7-e21a-4ab8-b0c9-e43233b54230\",\"type\":\"UnionRenderers\"}},\"id\":\"d5468431-43c9-44e5-8af2-7442c4cc31f7\",\"type\":\"ColumnDataSource\"},{\"attributes\":{\"source\":{\"id\":\"6fe77895-006f-4338-a991-1e29928ca74d\",\"type\":\"ColumnDataSource\"}},\"id\":\"16433596-712a-47a3-8eac-b00b199c3a00\",\"type\":\"CDSView\"},{\"attributes\":{\"fill_alpha\":{\"value\":0.1},\"fill_color\":{\"value\":\"#1f77b4\"},\"line_alpha\":{\"value\":0.1},\"line_color\":{\"value\":\"#1f77b4\"},\"size\":{\"units\":\"screen\",\"value\":5},\"x\":{\"field\":\"x\"},\"y\":{\"field\":\"y\"}},\"id\":\"a05c96a4-a866-4659-a667-fad2d5728b4b\",\"type\":\"Circle\"},{\"attributes\":{\"callback\":null,\"data\":{\"index\":[1533,1534,1535,1536,1537,1538,1539,1540,1541,1542,1543,1544,1545,1546,1547,1548,1549,1550,1551,1552,1553,1554,1555,1556,1557,1558,1559,1560,1561,1562,1563,1564,1565,1566,1567,1568,1569,1570,1571,1572,1573,1574,1575,1576,1577,1578,1579,1580,1581,1582,1583],\"kasios_index\":{\"__ndarray__\":\"AAAAAAAA+H8AAAAAAAD4fwAAAAAAAPh/AAAAAAAA+H8AAAAAAAD4fwAAAAAAAPh/AAAAAAAA+H8AAAAAAAD4fwAAAAAAAPh/AAAAAAAA+H8AAAAAAAD4fwAAAAAAAPh/AAAAAAAA+H8AAAAAAAD4fwAAAAAAAPh/AAAAAAAA+H8AAAAAAAD4fwAAAAAAAPh/AAAAAAAA+H8AAAAAAAD4fwAAAAAAAPh/AAAAAAAA+H8AAAAAAAD4fwAAAAAAAPh/AAAAAAAA+H8AAAAAAAD4fwAAAAAAAPh/AAAAAAAA+H8AAAAAAAD4fwAAAAAAAPh/AAAAAAAA+H8AAAAAAAD4fwAAAAAAAPh/AAAAAAAA+H8AAAAAAAD4fwAAAAAAAPh/AAAAAAAA+H8AAAAAAAD4fwAAAAAAAPh/AAAAAAAA+H8AAAAAAAD4fwAAAAAAAPh/AAAAAAAA+H8AAAAAAAD4fwAAAAAAAPh/AAAAAAAA+H8AAAAAAAD4fwAAAAAAAPh/AAAAAAAA+H8AAAAAAAD4fwAAAAAAAPh/\",\"dtype\":\"float64\",\"shape\":[51]},\"specie\":[\"Qax\",\"Qax\",\"Qax\",\"Qax\",\"Qax\",\"Qax\",\"Qax\",\"Qax\",\"Qax\",\"Qax\",\"Qax\",\"Qax\",\"Qax\",\"Qax\",\"Qax\",\"Qax\",\"Qax\",\"Qax\",\"Qax\",\"Qax\",\"Qax\",\"Qax\",\"Qax\",\"Qax\",\"Qax\",\"Qax\",\"Qax\",\"Qax\",\"Qax\",\"Qax\",\"Qax\",\"Qax\",\"Qax\",\"Qax\",\"Qax\",\"Qax\",\"Qax\",\"Qax\",\"Qax\",\"Qax\",\"Qax\",\"Qax\",\"Qax\",\"Qax\",\"Qax\",\"Qax\",\"Qax\",\"Qax\",\"Qax\",\"Qax\",\"Qax\"],\"x\":{\"__ndarray__\":\"9iRawICFk8BTaxLAh7OiwLcHVMAxQl/AGaQiwHctpcCf1ZLAluElwNOOocASRaHAdIfXv0PQO8CuNofAyTwawH92i8AjiHjAIlmZwP7DjcB8pEzAYWgkwLI/j8CzI1/AYIWiwGfeCsDygDvATc5IwIC4UMD4x57ALrSqwFWCXMBGB5TAIHolwNwqBcAQknTAwn05wL9BocCw0tC/n522v9a9YsBSskHAGsQ1wNeEhsBjUAPAl10lwHlFGMBUVBTAgXQkwHETrz6rb1JA\",\"dtype\":\"float32\",\"shape\":[51]},\"y\":{\"__ndarray__\":\"sQCQQCVtKz+KT4BAAeNZP56PgkBLOyxAbRpmQNBqyz/XFFpAKN2BQFnpzj/XwQBAmiQwQMJHCUA0yXpAYnA/QMbZYkDKwh1ANr2tPwyZnT+SbXtAFWhkQLHrhEBwQCNAXVUXQCG7bEDq3aBA9Os2P2+UmkC8WS1AjUA0QJbGmD9mSEg/NSZ/QLDngkBtNSdA1nOkP641EUDxiI9ANFlTQKozhkDmE3JAQUOfQL0sckC2GH9A1pQ7QOPjTkAIBAi/SSyNQJs1XL89aTpA\",\"dtype\":\"float32\",\"shape\":[51]}},\"selected\":{\"id\":\"f3e46fac-5d3c-4c64-ad2a-236ebb50613c\",\"type\":\"Selection\"},\"selection_policy\":{\"id\":\"80cf1afc-e8d5-42e4-b635-1416095a670f\",\"type\":\"UnionRenderers\"}},\"id\":\"87fd6d69-5c40-415c-acff-36252881dc2f\",\"type\":\"ColumnDataSource\"},{\"attributes\":{\"data_source\":{\"id\":\"a87f2a84-b280-42ae-bd13-b01baa5bd87a\",\"type\":\"ColumnDataSource\"},\"glyph\":{\"id\":\"c27a3815-d55c-4fe3-ac2d-8ae65a9e9263\",\"type\":\"Circle\"},\"hover_glyph\":null,\"muted_glyph\":null,\"nonselection_glyph\":{\"id\":\"e45bc6ee-f37d-4b5c-8bbe-67882a4eae55\",\"type\":\"Circle\"},\"selection_glyph\":null,\"view\":{\"id\":\"7585f7cb-a747-4a62-bae3-a48fc8858cbe\",\"type\":\"CDSView\"}},\"id\":\"897177de-417c-4a72-b1f3-eb94196c0f82\",\"type\":\"GlyphRenderer\"},{\"attributes\":{\"callback\":null},\"id\":\"7d633460-b744-4648-be79-b7d066542825\",\"type\":\"DataRange1d\"},{\"attributes\":{\"data_source\":{\"id\":\"6fe77895-006f-4338-a991-1e29928ca74d\",\"type\":\"ColumnDataSource\"},\"glyph\":{\"id\":\"b6a10252-c423-42b5-8dea-df4f542288f5\",\"type\":\"Circle\"},\"hover_glyph\":null,\"muted_glyph\":null,\"nonselection_glyph\":{\"id\":\"6eeb4ef2-832b-4449-b94f-6d97acc69f04\",\"type\":\"Circle\"},\"selection_glyph\":null,\"view\":{\"id\":\"16433596-712a-47a3-8eac-b00b199c3a00\",\"type\":\"CDSView\"}},\"id\":\"3eedbe39-4937-482b-bfc0-dd800084ca3b\",\"type\":\"GlyphRenderer\"},{\"attributes\":{\"data_source\":{\"id\":\"1f85f625-ad75-4dc0-9584-25b813e8d31a\",\"type\":\"ColumnDataSource\"},\"glyph\":{\"id\":\"e9d7ccbb-bdf5-469d-a612-be78daa9dbaa\",\"type\":\"Circle\"},\"hover_glyph\":null,\"muted_glyph\":null,\"nonselection_glyph\":{\"id\":\"588affbd-d2df-4ad1-891d-ee81ab967bb5\",\"type\":\"Circle\"},\"selection_glyph\":null,\"view\":{\"id\":\"c83d067e-9aa8-4549-9b71-e66af60f21e2\",\"type\":\"CDSView\"}},\"id\":\"6f966793-2d7f-4e3a-93ed-3ebc409326b4\",\"type\":\"GlyphRenderer\"},{\"attributes\":{\"source\":{\"id\":\"d37f56ad-ee9f-4371-a8e1-0955823e0b54\",\"type\":\"ColumnDataSource\"}},\"id\":\"016fd818-8604-48e1-ab71-ad4786f758bf\",\"type\":\"CDSView\"},{\"attributes\":{\"source\":{\"id\":\"63b537a9-6a3d-4b39-963c-b915c3a5d613\",\"type\":\"ColumnDataSource\"}},\"id\":\"5ef76587-beb4-4621-a07c-1ef8db6c6f52\",\"type\":\"CDSView\"},{\"attributes\":{},\"id\":\"835e659c-c454-4ee5-9210-a02e43623504\",\"type\":\"UnionRenderers\"},{\"attributes\":{\"data_source\":{\"id\":\"d4204ca0-8619-4c7c-a6c0-385cbd2da53c\",\"type\":\"ColumnDataSource\"},\"glyph\":{\"id\":\"64612391-3c55-4c8e-bc65-64b7298fe540\",\"type\":\"Circle\"},\"hover_glyph\":null,\"muted_glyph\":null,\"nonselection_glyph\":{\"id\":\"3f719d57-cd30-418e-bfc9-ac0260358c30\",\"type\":\"Circle\"},\"selection_glyph\":null,\"view\":{\"id\":\"3917c47d-6ca3-4d9e-93bd-ca840ae03faa\",\"type\":\"CDSView\"}},\"id\":\"3e1ea6d7-d8a8-4727-8659-34b79eeaa795\",\"type\":\"GlyphRenderer\"},{\"attributes\":{\"active_drag\":\"auto\",\"active_inspect\":\"auto\",\"active_multi\":null,\"active_scroll\":\"auto\",\"active_tap\":\"auto\",\"tools\":[{\"id\":\"c2b43f65-12df-4cf4-83d3-a6d8640b1fe1\",\"type\":\"PanTool\"},{\"id\":\"eaf273e0-63f7-44d1-9218-fa04081b23a0\",\"type\":\"WheelZoomTool\"},{\"id\":\"05503261-3502-4a34-9229-32f63387a9eb\",\"type\":\"ResetTool\"},{\"id\":\"4fbd9264-9c2c-48d6-b7bf-b5e529b44d60\",\"type\":\"HoverTool\"}]},\"id\":\"636acbc5-5b6a-405a-b8df-463e822a4cdc\",\"type\":\"Toolbar\"},{\"attributes\":{\"data_source\":{\"id\":\"ff37ab06-e720-4905-83b0-0b57007ad203\",\"type\":\"ColumnDataSource\"},\"glyph\":{\"id\":\"d248a30c-2fc1-4ad3-a7f6-50130fc5ae2e\",\"type\":\"Circle\"},\"hover_glyph\":null,\"muted_glyph\":null,\"nonselection_glyph\":{\"id\":\"1fa171f8-0949-4434-ba85-7c5ae8a93332\",\"type\":\"Circle\"},\"selection_glyph\":null,\"view\":{\"id\":\"52b42ace-4057-4a8c-ab1f-4e9d8b1ebe7f\",\"type\":\"CDSView\"}},\"id\":\"55d759dc-f996-477e-b614-6885a6ec80c6\",\"type\":\"GlyphRenderer\"},{\"attributes\":{\"fill_alpha\":{\"value\":0.1},\"fill_color\":{\"value\":\"#1f77b4\"},\"line_alpha\":{\"value\":0.1},\"line_color\":{\"value\":\"#1f77b4\"},\"size\":{\"units\":\"screen\",\"value\":5},\"x\":{\"field\":\"x\"},\"y\":{\"field\":\"y\"}},\"id\":\"3a061405-cf55-4880-8516-969482589c84\",\"type\":\"Circle\"},{\"attributes\":{\"callback\":null},\"id\":\"72baa13f-4b55-4a62-a2bc-ea41b6b9232b\",\"type\":\"DataRange1d\"},{\"attributes\":{\"data_source\":{\"id\":\"87fd6d69-5c40-415c-acff-36252881dc2f\",\"type\":\"ColumnDataSource\"},\"glyph\":{\"id\":\"eb3ba0c0-2b1b-4991-b47e-6bace45a8907\",\"type\":\"Circle\"},\"hover_glyph\":null,\"muted_glyph\":null,\"nonselection_glyph\":{\"id\":\"77e15b51-22f5-4119-87cb-ee9ef412e192\",\"type\":\"Circle\"},\"selection_glyph\":null,\"view\":{\"id\":\"ca9b27cf-d3d3-4cb4-bc1c-f5277ea31d03\",\"type\":\"CDSView\"}},\"id\":\"73a0f8a1-5bd7-46df-9c51-c6255c29d094\",\"type\":\"GlyphRenderer\"},{\"attributes\":{},\"id\":\"05503261-3502-4a34-9229-32f63387a9eb\",\"type\":\"ResetTool\"},{\"attributes\":{\"fill_alpha\":{\"value\":0.6},\"fill_color\":{\"field\":\"specie\",\"transform\":{\"id\":\"1ded21f3-8849-4f11-ac6d-baf80486c3fe\",\"type\":\"CategoricalColorMapper\"}},\"line_alpha\":{\"value\":0.6},\"line_color\":{\"field\":\"specie\",\"transform\":{\"id\":\"1ded21f3-8849-4f11-ac6d-baf80486c3fe\",\"type\":\"CategoricalColorMapper\"}},\"size\":{\"units\":\"screen\",\"value\":5},\"x\":{\"field\":\"x\"},\"y\":{\"field\":\"y\"}},\"id\":\"b6a10252-c423-42b5-8dea-df4f542288f5\",\"type\":\"Circle\"},{\"attributes\":{},\"id\":\"c679b562-6d93-4cf6-b77b-0e8f69626c22\",\"type\":\"UnionRenderers\"},{\"attributes\":{\"source\":{\"id\":\"c8cbbc5d-be83-4190-9cbf-c98a19c4010c\",\"type\":\"ColumnDataSource\"}},\"id\":\"a03261ee-352f-48d8-81be-7047ba8dc99b\",\"type\":\"CDSView\"},{\"attributes\":{\"label\":{\"value\":\"Bent-beak Riffraff\"},\"renderers\":[{\"id\":\"be2140e7-3448-4a50-b836-e73f713dca85\",\"type\":\"GlyphRenderer\"}]},\"id\":\"033a0796-0704-48f9-ac5d-bf42a29374af\",\"type\":\"LegendItem\"},{\"attributes\":{\"callback\":null,\"data\":{\"index\":[565,566,567,568,569,570,571,572,573,574,575,576,577,578,579,580,581,582,583,584,585,586,587,588,589,590,591,592,593,594,595,596,597,598,599,600,601,602,603,604,605,606,607,608,609,610,611,612,613,614,615,616,617,618,619,620,621,622,623,624,625,626,627,628,629,630,631,632,633,634,635,636,637,638,639,640,641,642,643,644,645,646,647,648,649,650,651,652,653,654,655,656,657,658,659,660,661,662,663,664,665,666,667,668],\"kasios_index\":{\"__ndarray__\":\"AAAAAAAA+H8AAAAAAAD4fwAAAAAAAPh/AAAAAAAA+H8AAAAAAAD4fwAAAAAAAPh/AAAAAAAA+H8AAAAAAAD4fwAAAAAAAPh/AAAAAAAA+H8AAAAAAAD4fwAAAAAAAPh/AAAAAAAA+H8AAAAAAAD4fwAAAAAAAPh/AAAAAAAA+H8AAAAAAAD4fwAAAAAAAPh/AAAAAAAA+H8AAAAAAAD4fwAAAAAAAPh/AAAAAAAA+H8AAAAAAAD4fwAAAAAAAPh/AAAAAAAA+H8AAAAAAAD4fwAAAAAAAPh/AAAAAAAA+H8AAAAAAAD4fwAAAAAAAPh/AAAAAAAA+H8AAAAAAAD4fwAAAAAAAPh/AAAAAAAA+H8AAAAAAAD4fwAAAAAAAPh/AAAAAAAA+H8AAAAAAAD4fwAAAAAAAPh/AAAAAAAA+H8AAAAAAAD4fwAAAAAAAPh/AAAAAAAA+H8AAAAAAAD4fwAAAAAAAPh/AAAAAAAA+H8AAAAAAAD4fwAAAAAAAPh/AAAAAAAA+H8AAAAAAAD4fwAAAAAAAPh/AAAAAAAA+H8AAAAAAAD4fwAAAAAAAPh/AAAAAAAA+H8AAAAAAAD4fwAAAAAAAPh/AAAAAAAA+H8AAAAAAAD4fwAAAAAAAPh/AAAAAAAA+H8AAAAAAAD4fwAAAAAAAPh/AAAAAAAA+H8AAAAAAAD4fwAAAAAAAPh/AAAAAAAA+H8AAAAAAAD4fwAAAAAAAPh/AAAAAAAA+H8AAAAAAAD4fwAAAAAAAPh/AAAAAAAA+H8AAAAAAAD4fwAAAAAAAPh/AAAAAAAA+H8AAAAAAAD4fwAAAAAAAPh/AAAAAAAA+H8AAAAAAAD4fwAAAAAAAPh/AAAAAAAA+H8AAAAAAAD4fwAAAAAAAPh/AAAAAAAA+H8AAAAAAAD4fwAAAAAAAPh/AAAAAAAA+H8AAAAAAAD4fwAAAAAAAPh/AAAAAAAA+H8AAAAAAAD4fwAAAAAAAPh/AAAAAAAA+H8AAAAAAAD4fwAAAAAAAPh/AAAAAAAA+H8AAAAAAAD4fwAAAAAAAPh/AAAAAAAA+H8AAAAAAAD4fwAAAAAAAPh/AAAAAAAA+H8AAAAAAAD4fw==\",\"dtype\":\"float64\",\"shape\":[104]},\"specie\":[\"Carries Champagne Pipit\",\"Carries Champagne Pipit\",\"Carries Champagne Pipit\",\"Carries Champagne Pipit\",\"Carries Champagne Pipit\",\"Carries Champagne Pipit\",\"Carries Champagne Pipit\",\"Carries Champagne Pipit\",\"Carries Champagne Pipit\",\"Carries Champagne Pipit\",\"Carries Champagne Pipit\",\"Carries Champagne Pipit\",\"Carries Champagne Pipit\",\"Carries Champagne Pipit\",\"Carries Champagne Pipit\",\"Carries Champagne Pipit\",\"Carries Champagne Pipit\",\"Carries Champagne Pipit\",\"Carries Champagne Pipit\",\"Carries Champagne Pipit\",\"Carries Champagne Pipit\",\"Carries Champagne Pipit\",\"Carries Champagne Pipit\",\"Carries Champagne Pipit\",\"Carries Champagne Pipit\",\"Carries Champagne Pipit\",\"Carries Champagne Pipit\",\"Carries Champagne Pipit\",\"Carries Champagne Pipit\",\"Carries Champagne Pipit\",\"Carries Champagne Pipit\",\"Carries Champagne Pipit\",\"Carries Champagne Pipit\",\"Carries Champagne Pipit\",\"Carries Champagne Pipit\",\"Carries Champagne Pipit\",\"Carries Champagne Pipit\",\"Carries Champagne Pipit\",\"Carries Champagne Pipit\",\"Carries Champagne Pipit\",\"Carries Champagne Pipit\",\"Carries Champagne Pipit\",\"Carries Champagne Pipit\",\"Carries Champagne Pipit\",\"Carries Champagne Pipit\",\"Carries Champagne Pipit\",\"Carries Champagne Pipit\",\"Carries Champagne Pipit\",\"Carries Champagne Pipit\",\"Carries Champagne Pipit\",\"Carries Champagne Pipit\",\"Carries Champagne Pipit\",\"Carries Champagne Pipit\",\"Carries Champagne Pipit\",\"Carries Champagne Pipit\",\"Carries Champagne Pipit\",\"Carries Champagne Pipit\",\"Carries Champagne Pipit\",\"Carries Champagne Pipit\",\"Carries Champagne Pipit\",\"Carries Champagne Pipit\",\"Carries Champagne Pipit\",\"Carries Champagne Pipit\",\"Carries Champagne Pipit\",\"Carries Champagne Pipit\",\"Carries Champagne Pipit\",\"Carries Champagne Pipit\",\"Carries Champagne Pipit\",\"Carries Champagne Pipit\",\"Carries Champagne Pipit\",\"Carries Champagne Pipit\",\"Carries Champagne Pipit\",\"Carries Champagne Pipit\",\"Carries Champagne Pipit\",\"Carries Champagne Pipit\",\"Carries Champagne Pipit\",\"Carries Champagne Pipit\",\"Carries Champagne Pipit\",\"Carries Champagne Pipit\",\"Carries Champagne Pipit\",\"Carries Champagne Pipit\",\"Carries Champagne Pipit\",\"Carries Champagne Pipit\",\"Carries Champagne Pipit\",\"Carries Champagne Pipit\",\"Carries Champagne Pipit\",\"Carries Champagne Pipit\",\"Carries Champagne Pipit\",\"Carries Champagne Pipit\",\"Carries Champagne Pipit\",\"Carries Champagne Pipit\",\"Carries Champagne Pipit\",\"Carries Champagne Pipit\",\"Carries Champagne Pipit\",\"Carries Champagne Pipit\",\"Carries Champagne Pipit\",\"Carries Champagne Pipit\",\"Carries Champagne Pipit\",\"Carries Champagne Pipit\",\"Carries Champagne Pipit\",\"Carries Champagne Pipit\",\"Carries Champagne Pipit\",\"Carries Champagne Pipit\",\"Carries Champagne Pipit\"],\"x\":{\"__ndarray__\":\"quFVwH9YWcDnoVDA2vG3P1AuMkAI0/+/q3JQvfBw7z+x/Ic/SGbZv1O/DEC4mCzAFFyYv9138T7dQSxA20vCP+juJr7OoV5A1jceQKu6K72WHxVA6qjwv2XkFEDWiydAWy0lQJwbLz8NVxxAZNOIPz1aa777M/Q8Ym3EPjfOLUAPVgNA8ApOPwCg/D/dNFI+ccbmvstk6T9FOL6/8GuGPjuSGUBU0m1AcW9iQGETmUBRRTZAL06Mv/YLzT/jUUlAcvMjQE2D0b553x9AuhaYP+wifr4E+Ms/HyGpvnPNP8CaFde/CiVjPqNaAr+rKTlAMRvwP6OGnr5lykhAoCY2QI/xtT5GLiFAA8JcQJQG2T9AL6O/IXLev4Uv3r/BDPW/dPD4P/+1E0CDXrC/qOI/vvo48z6fBx8/OUrBv5UPdj4JBME/4DJ2vZ/+AEDbga69LDgfQJ1d4T+ObDW/hpiivzTo5z/Q08S/aQC3v9eFwr9Go7O/7yuUv8lqxj8F+qu/FHqjP6Dtnb+zdtW/zkI1viL2rL9jFhlA1aKmvy6lnb8=\",\"dtype\":\"float32\",\"shape\":[104]},\"y\":{\"__ndarray__\":\"w+mfP6kK1D9hCMW9sB9EwHztJr9A2Ly/Fyw8wCj4wr/7HqG+DuDvvgSOxr/I0Wa/GrrWvlVz/b5yheK+/vMMv+DrGr8Zg9i+kjEEwPaWML+m+QnAzcBIP0i5XL9GD46/mzv2vwHXxL9SQvu+lfe2vg9Hj79J+rS/kWEywJg5GcAMPCTAUe6KviyDoz16TaG/FXkMvx4Qtb5Nf1ZA1z5Qvzj43L9xqU8/BdM3QCdFhj9Mfmo/sbq4vsXxmLxxvSTAJQYJwI5QTL/W4qy9rFpdvplTkL8YQ8K/oig8vzswfb/oARfARF5Nv9Yxd7/f4X8/zxK/v4IEgb//jps/cDM9PwynG781bwa/dy1yv7i5KL9raaa/6mZyvkS/xz8rqEtAL0UovQQ08r3ogCG/XYKcv7Aedb+WQoK/1GprQN3kg79iU0S94Nt3v40GHL4Y4ou/tM0UvcloDz0wzY6/dJgUv3raQT440EtAoNdTQJHMSr6f/Yy+lf0Uv9qOXDwRZTtAK7APvavNSEDZObQ/wqN2v+FlW0AH5t09nEmAP2REQ0A=\",\"dtype\":\"float32\",\"shape\":[104]}},\"selected\":{\"id\":\"c8d47541-8864-4c3a-b666-24cada564cc3\",\"type\":\"Selection\"},\"selection_policy\":{\"id\":\"582aba43-6adb-400d-8e37-2573506ec048\",\"type\":\"UnionRenderers\"}},\"id\":\"ec2adf8c-1856-4d71-869c-2b470d82e5cb\",\"type\":\"ColumnDataSource\"},{\"attributes\":{\"fill_alpha\":{\"value\":0.1},\"fill_color\":{\"value\":\"#1f77b4\"},\"line_alpha\":{\"value\":0.1},\"line_color\":{\"value\":\"#1f77b4\"},\"size\":{\"units\":\"screen\",\"value\":5},\"x\":{\"field\":\"x\"},\"y\":{\"field\":\"y\"}},\"id\":\"fd263864-d0c0-42f2-bbe8-1aacecd7cd79\",\"type\":\"Circle\"},{\"attributes\":{\"data_source\":{\"id\":\"5a8f8dbd-8408-4227-9622-75c14811f230\",\"type\":\"ColumnDataSource\"},\"glyph\":{\"id\":\"c0ba36dd-f072-4ed4-b7ba-d99dab45999a\",\"type\":\"Circle\"},\"hover_glyph\":null,\"muted_glyph\":null,\"nonselection_glyph\":{\"id\":\"3f079442-b104-4e1c-bc5c-a092d36adca0\",\"type\":\"Circle\"},\"selection_glyph\":null,\"view\":{\"id\":\"85e2599b-2a28-4c3d-abb8-6025bd7a742a\",\"type\":\"CDSView\"}},\"id\":\"40628f02-b6b8-4f7a-9653-179d9ae3a5da\",\"type\":\"GlyphRenderer\"},{\"attributes\":{\"text\":{\"field\":\"kasios_index\"},\"text_color\":{\"value\":\"white\"},\"text_font_size\":{\"value\":\"10pt\"},\"x\":{\"field\":\"x\"},\"x_offset\":{\"value\":-5},\"y\":{\"field\":\"y\"},\"y_offset\":{\"value\":8}},\"id\":\"f14630c6-799d-4f57-8738-ca4fd4a978a7\",\"type\":\"Text\"},{\"attributes\":{\"callback\":null,\"renderers\":\"auto\",\"tooltips\":\"\\n<div>\\n    <div>\\n        <span style='font-size: 13px; color: #224499'>Specie:</span>\\n        <span style='font-size: 13px'>@specie</span>\\n    </div>\\n</div>\\n\"},\"id\":\"4fbd9264-9c2c-48d6-b7bf-b5e529b44d60\",\"type\":\"HoverTool\"},{\"attributes\":{\"formatter\":{\"id\":\"75700e5c-47b4-4d49-bfb9-ad829fba8ff9\",\"type\":\"BasicTickFormatter\"},\"plot\":{\"id\":\"d681732e-fabd-4538-978c-c3e4324620b8\",\"subtype\":\"Figure\",\"type\":\"Plot\"},\"ticker\":{\"id\":\"8c47da66-ff8b-44a5-b00f-151965c69b32\",\"type\":\"BasicTicker\"}},\"id\":\"adbb37ce-ac91-4365-80f5-d5ac8dedaafd\",\"type\":\"LinearAxis\"},{\"attributes\":{},\"id\":\"93a7a9d0-e1ec-4937-a9c7-3ae43ae5c717\",\"type\":\"Selection\"},{\"attributes\":{\"callback\":null,\"data\":{\"index\":[755,756,757,758,759,760,761,762,763,764,765,766,767,768,769,770,771,772,773,774,775,776,777,778,779,780,781,782,783,784,785,786,787,788,789,790,791,792,793,794,795,796,797,798,799,800,801,802,803,804,805,806,807,808,809,810,811,812,813,814,815,816,817,818,819,820,821,822,823,824,825,826,827,828,829,830,831,832,833,834,835,836,837,838,839,840,841,842],\"kasios_index\":{\"__ndarray__\":\"AAAAAAAA+H8AAAAAAAD4fwAAAAAAAPh/AAAAAAAA+H8AAAAAAAD4fwAAAAAAAPh/AAAAAAAA+H8AAAAAAAD4fwAAAAAAAPh/AAAAAAAA+H8AAAAAAAD4fwAAAAAAAPh/AAAAAAAA+H8AAAAAAAD4fwAAAAAAAPh/AAAAAAAA+H8AAAAAAAD4fwAAAAAAAPh/AAAAAAAA+H8AAAAAAAD4fwAAAAAAAPh/AAAAAAAA+H8AAAAAAAD4fwAAAAAAAPh/AAAAAAAA+H8AAAAAAAD4fwAAAAAAAPh/AAAAAAAA+H8AAAAAAAD4fwAAAAAAAPh/AAAAAAAA+H8AAAAAAAD4fwAAAAAAAPh/AAAAAAAA+H8AAAAAAAD4fwAAAAAAAPh/AAAAAAAA+H8AAAAAAAD4fwAAAAAAAPh/AAAAAAAA+H8AAAAAAAD4fwAAAAAAAPh/AAAAAAAA+H8AAAAAAAD4fwAAAAAAAPh/AAAAAAAA+H8AAAAAAAD4fwAAAAAAAPh/AAAAAAAA+H8AAAAAAAD4fwAAAAAAAPh/AAAAAAAA+H8AAAAAAAD4fwAAAAAAAPh/AAAAAAAA+H8AAAAAAAD4fwAAAAAAAPh/AAAAAAAA+H8AAAAAAAD4fwAAAAAAAPh/AAAAAAAA+H8AAAAAAAD4fwAAAAAAAPh/AAAAAAAA+H8AAAAAAAD4fwAAAAAAAPh/AAAAAAAA+H8AAAAAAAD4fwAAAAAAAPh/AAAAAAAA+H8AAAAAAAD4fwAAAAAAAPh/AAAAAAAA+H8AAAAAAAD4fwAAAAAAAPh/AAAAAAAA+H8AAAAAAAD4fwAAAAAAAPh/AAAAAAAA+H8AAAAAAAD4fwAAAAAAAPh/AAAAAAAA+H8AAAAAAAD4fwAAAAAAAPh/AAAAAAAA+H8AAAAAAAD4fwAAAAAAAPh/AAAAAAAA+H8=\",\"dtype\":\"float64\",\"shape\":[88]},\"specie\":[\"Eastern Corn Skeet\",\"Eastern Corn Skeet\",\"Eastern Corn Skeet\",\"Eastern Corn Skeet\",\"Eastern Corn Skeet\",\"Eastern Corn Skeet\",\"Eastern Corn Skeet\",\"Eastern Corn Skeet\",\"Eastern Corn Skeet\",\"Eastern Corn Skeet\",\"Eastern Corn Skeet\",\"Eastern Corn Skeet\",\"Eastern Corn Skeet\",\"Eastern Corn Skeet\",\"Eastern Corn Skeet\",\"Eastern Corn Skeet\",\"Eastern Corn Skeet\",\"Eastern Corn Skeet\",\"Eastern Corn Skeet\",\"Eastern Corn Skeet\",\"Eastern Corn Skeet\",\"Eastern Corn Skeet\",\"Eastern Corn Skeet\",\"Eastern Corn Skeet\",\"Eastern Corn Skeet\",\"Eastern Corn Skeet\",\"Eastern Corn Skeet\",\"Eastern Corn Skeet\",\"Eastern Corn Skeet\",\"Eastern Corn Skeet\",\"Eastern Corn Skeet\",\"Eastern Corn Skeet\",\"Eastern Corn Skeet\",\"Eastern Corn Skeet\",\"Eastern Corn Skeet\",\"Eastern Corn Skeet\",\"Eastern Corn Skeet\",\"Eastern Corn Skeet\",\"Eastern Corn Skeet\",\"Eastern Corn Skeet\",\"Eastern Corn Skeet\",\"Eastern Corn Skeet\",\"Eastern Corn Skeet\",\"Eastern Corn Skeet\",\"Eastern Corn Skeet\",\"Eastern Corn Skeet\",\"Eastern Corn Skeet\",\"Eastern Corn Skeet\",\"Eastern Corn Skeet\",\"Eastern Corn Skeet\",\"Eastern Corn Skeet\",\"Eastern Corn Skeet\",\"Eastern Corn Skeet\",\"Eastern Corn Skeet\",\"Eastern Corn Skeet\",\"Eastern Corn Skeet\",\"Eastern Corn Skeet\",\"Eastern Corn Skeet\",\"Eastern Corn Skeet\",\"Eastern Corn Skeet\",\"Eastern Corn Skeet\",\"Eastern Corn Skeet\",\"Eastern Corn Skeet\",\"Eastern Corn Skeet\",\"Eastern Corn Skeet\",\"Eastern Corn Skeet\",\"Eastern Corn Skeet\",\"Eastern Corn Skeet\",\"Eastern Corn Skeet\",\"Eastern Corn Skeet\",\"Eastern Corn Skeet\",\"Eastern Corn Skeet\",\"Eastern Corn Skeet\",\"Eastern Corn Skeet\",\"Eastern Corn Skeet\",\"Eastern Corn Skeet\",\"Eastern Corn Skeet\",\"Eastern Corn Skeet\",\"Eastern Corn Skeet\",\"Eastern Corn Skeet\",\"Eastern Corn Skeet\",\"Eastern Corn Skeet\",\"Eastern Corn Skeet\",\"Eastern Corn Skeet\",\"Eastern Corn Skeet\",\"Eastern Corn Skeet\",\"Eastern Corn Skeet\",\"Eastern Corn Skeet\"],\"x\":{\"__ndarray__\":\"Jf6OPjEBx78g/MBAAaJJQPqeYcD09Z0/b1krQBdqv0DF8gdAl2FWP0VSh8A82gRAiqPBP0w6tj3FYqRAF12iQOS9EkA/dFZA4E9Dvpr5WECyHxZAvCJNQNwIWkDDSnJA1nITQBPJK0Al9e0/Q7raP2s0D8DAPGFAodYsQPPHhT5/e4JAUa0vQPr3AkCkmJU/yP8HQP9nu79I09w/VRgEQJY9Mj8mfB9Akoqbv4SsnkDlF/I/9PQPwEta2T+b1No/xyAvQImeLT7PmV1ArL+gQMuZqUCWRmZAaeC3P1Xf2T8aLUS/Lpg9QMnVREAKc2dAaS0LQH+9KUCK/R5Axls/QLslaUDZhT1AEC0AQGmYg0CzeB1Aec5pQLGp0b/nKMK/jlrjP03bpb4aMUjA0aZWQOiMqkCFLipAS/MPQIlEr0DucPG/nZLUv0LIY0C0fWVAk48OQNYKgkCwRoBA8A5nQA==\",\"dtype\":\"float32\",\"shape\":[88]},\"y\":{\"__ndarray__\":\"etTdv2avWUBalgBApRbIv8V6tD8S2TPAiMuLv/+3sj4CNEfA/BwfwFV+gUB4hTHAaZaAv6Prqb8nWpc/+YIrP5I1lr/MB4y/qEU1wPbrC8BQZuO/Z54nwKt/cL+/2Le+fdNTwDUnX8DpP/W/+8Lxv3vW0r/iHvu+rVk2wI17nb9r8eQ+7mdgvznXFcCecFG/SigOwAVMaUCUe1DA2pnAv8xeMMBmP+e/q4EHwJcYtD7AdjrAdKxFvxRv478Ksbu/Nb0ywFAIRcD9l4y/OmjJP9r5Gz/T8MG+2yhRwAIqir9saxO/NoC9v6WZI8AO/OG+ombBv8iQPsC9DVTAcoYzwJWWRL5E2V+/q46uv9i3zT6U/x3AU+6ivh6PR8DbaoNAbPk8wL+GFb/swaI/eQRdvxQR3z9yeKK/vH8gwFhcJb0ZQq6/tRPnvuI3O7+4NBa+VrpMwDiCiL5URQi+niBIvg==\",\"dtype\":\"float32\",\"shape\":[88]}},\"selected\":{\"id\":\"c13c2801-318a-4eb1-9dda-f0a24b9f60d7\",\"type\":\"Selection\"},\"selection_policy\":{\"id\":\"6a767424-a51c-48ca-bb04-850f9603e7a4\",\"type\":\"UnionRenderers\"}},\"id\":\"1f85f625-ad75-4dc0-9584-25b813e8d31a\",\"type\":\"ColumnDataSource\"},{\"attributes\":{},\"id\":\"77cb9f23-d54a-40b5-80dd-49bb9c3d79b4\",\"type\":\"UnionRenderers\"},{\"attributes\":{\"data_source\":{\"id\":\"838764d9-7f41-482d-a8ec-531399a45b6a\",\"type\":\"ColumnDataSource\"},\"glyph\":{\"id\":\"6a64feb3-537f-40ad-8545-bfd7e3ad274b\",\"type\":\"Circle\"},\"hover_glyph\":null,\"muted_glyph\":null,\"nonselection_glyph\":{\"id\":\"3a061405-cf55-4880-8516-969482589c84\",\"type\":\"Circle\"},\"selection_glyph\":null,\"view\":{\"id\":\"8b206064-f32e-4d77-8a20-9ab00fdd4f1a\",\"type\":\"CDSView\"}},\"id\":\"85fc0526-f4f5-45f5-815e-cac4c6af950a\",\"type\":\"GlyphRenderer\"},{\"attributes\":{},\"id\":\"5255fed2-f9ab-4f58-a381-8e5ab28a07ad\",\"type\":\"LinearScale\"},{\"attributes\":{},\"id\":\"412baaa7-e21a-4ab8-b0c9-e43233b54230\",\"type\":\"UnionRenderers\"},{\"attributes\":{\"below\":[{\"id\":\"adbb37ce-ac91-4365-80f5-d5ac8dedaafd\",\"type\":\"LinearAxis\"}],\"left\":[{\"id\":\"ce16e3bd-f60f-4f14-8a36-e6be6c36032e\",\"type\":\"LinearAxis\"}],\"plot_width\":800,\"renderers\":[{\"id\":\"adbb37ce-ac91-4365-80f5-d5ac8dedaafd\",\"type\":\"LinearAxis\"},{\"id\":\"cba2e457-d0d3-41c9-9301-9641ed2355c0\",\"type\":\"Grid\"},{\"id\":\"ce16e3bd-f60f-4f14-8a36-e6be6c36032e\",\"type\":\"LinearAxis\"},{\"id\":\"0c0feddb-e093-41c1-857c-bbc742157239\",\"type\":\"Grid\"},{\"id\":\"3e1ea6d7-d8a8-4727-8659-34b79eeaa795\",\"type\":\"GlyphRenderer\"},{\"id\":\"a93f52d8-3f1e-47f7-b1af-f2f0111d5698\",\"type\":\"GlyphRenderer\"},{\"id\":\"2a725a5f-bbd7-4d30-a177-9124efc68598\",\"type\":\"GlyphRenderer\"},{\"id\":\"897177de-417c-4a72-b1f3-eb94196c0f82\",\"type\":\"GlyphRenderer\"},{\"id\":\"2f38bb05-263e-4864-8807-9979fa47d350\",\"type\":\"GlyphRenderer\"},{\"id\":\"ce477593-4da8-4106-89ca-641728612daa\",\"type\":\"GlyphRenderer\"},{\"id\":\"965a7a9f-d4b2-465a-b0ef-8c28ea0396b1\",\"type\":\"GlyphRenderer\"},{\"id\":\"6f966793-2d7f-4e3a-93ed-3ebc409326b4\",\"type\":\"GlyphRenderer\"},{\"id\":\"8b7964b9-7233-4674-af5c-ebc68c460ecc\",\"type\":\"GlyphRenderer\"},{\"id\":\"40628f02-b6b8-4f7a-9653-179d9ae3a5da\",\"type\":\"GlyphRenderer\"},{\"id\":\"e968d1d2-1cc0-4b2b-accc-223385c1f803\",\"type\":\"GlyphRenderer\"},{\"id\":\"47ec9c0e-cbf5-455c-ae3f-acf1fd7b865e\",\"type\":\"GlyphRenderer\"},{\"id\":\"977c08b5-bfd6-40f6-ab79-2ab712172925\",\"type\":\"GlyphRenderer\"},{\"id\":\"3eedbe39-4937-482b-bfc0-dd800084ca3b\",\"type\":\"GlyphRenderer\"},{\"id\":\"73a0f8a1-5bd7-46df-9c51-c6255c29d094\",\"type\":\"GlyphRenderer\"},{\"id\":\"5b176fa6-7895-4ecb-a76d-a7a6d98b888f\",\"type\":\"GlyphRenderer\"},{\"id\":\"be2140e7-3448-4a50-b836-e73f713dca85\",\"type\":\"GlyphRenderer\"},{\"id\":\"85fc0526-f4f5-45f5-815e-cac4c6af950a\",\"type\":\"GlyphRenderer\"},{\"id\":\"b01affcd-a996-4a1d-8a51-e52b6bdf8fec\",\"type\":\"GlyphRenderer\"},{\"id\":\"55d759dc-f996-477e-b614-6885a6ec80c6\",\"type\":\"GlyphRenderer\"},{\"id\":\"eaa20417-0ca2-48f1-a382-6ba775dde073\",\"type\":\"GlyphRenderer\"},{\"id\":\"e614694d-f7cb-49ff-a83f-1d378b749185\",\"type\":\"Legend\"}],\"right\":[{\"id\":\"e614694d-f7cb-49ff-a83f-1d378b749185\",\"type\":\"Legend\"}],\"title\":{\"id\":\"ff3b1907-eb6f-4fd6-9248-e7c328fcaa4b\",\"type\":\"Title\"},\"toolbar\":{\"id\":\"636acbc5-5b6a-405a-b8df-463e822a4cdc\",\"type\":\"Toolbar\"},\"toolbar_location\":\"above\",\"x_range\":{\"id\":\"7d633460-b744-4648-be79-b7d066542825\",\"type\":\"DataRange1d\"},\"x_scale\":{\"id\":\"9d5c5a4e-e6bb-4624-a1ec-14e2937e434e\",\"type\":\"LinearScale\"},\"y_range\":{\"id\":\"72baa13f-4b55-4a62-a2bc-ea41b6b9232b\",\"type\":\"DataRange1d\"},\"y_scale\":{\"id\":\"5255fed2-f9ab-4f58-a381-8e5ab28a07ad\",\"type\":\"LinearScale\"}},\"id\":\"d681732e-fabd-4538-978c-c3e4324620b8\",\"subtype\":\"Figure\",\"type\":\"Plot\"},{\"attributes\":{\"label\":{\"value\":\"Queenscoat\"},\"renderers\":[{\"id\":\"5b176fa6-7895-4ecb-a76d-a7a6d98b888f\",\"type\":\"GlyphRenderer\"}]},\"id\":\"f45d2ccc-d1c6-4e32-bad2-a90ea6dea6bb\",\"type\":\"LegendItem\"},{\"attributes\":{\"fill_alpha\":{\"value\":0.6},\"fill_color\":{\"field\":\"specie\",\"transform\":{\"id\":\"1ded21f3-8849-4f11-ac6d-baf80486c3fe\",\"type\":\"CategoricalColorMapper\"}},\"line_alpha\":{\"value\":0.6},\"line_color\":{\"field\":\"specie\",\"transform\":{\"id\":\"1ded21f3-8849-4f11-ac6d-baf80486c3fe\",\"type\":\"CategoricalColorMapper\"}},\"size\":{\"units\":\"screen\",\"value\":5},\"x\":{\"field\":\"x\"},\"y\":{\"field\":\"y\"}},\"id\":\"3e0d8962-6955-45ad-880d-9bc44a8ae64b\",\"type\":\"Circle\"},{\"attributes\":{\"data_source\":{\"id\":\"d5468431-43c9-44e5-8af2-7442c4cc31f7\",\"type\":\"ColumnDataSource\"},\"glyph\":{\"id\":\"a4ee2838-6450-4b9b-b50f-c0515132c275\",\"type\":\"Circle\"},\"hover_glyph\":null,\"muted_glyph\":null,\"nonselection_glyph\":{\"id\":\"a05c96a4-a866-4659-a667-fad2d5728b4b\",\"type\":\"Circle\"},\"selection_glyph\":null,\"view\":{\"id\":\"1ddb0895-d081-4142-8356-629ec52977c2\",\"type\":\"CDSView\"}},\"id\":\"2f38bb05-263e-4864-8807-9979fa47d350\",\"type\":\"GlyphRenderer\"},{\"attributes\":{\"data_source\":{\"id\":\"70648fdc-cff8-4ee0-bac0-6351fc357b4d\",\"type\":\"ColumnDataSource\"},\"glyph\":{\"id\":\"e6f39afe-2e32-473a-ad38-68e7c5b41d2b\",\"type\":\"Circle\"},\"hover_glyph\":null,\"muted_glyph\":null,\"nonselection_glyph\":{\"id\":\"9aff4183-aaa7-47a6-a74f-e718a2a3e75d\",\"type\":\"Circle\"},\"selection_glyph\":null,\"view\":{\"id\":\"8f155e7e-2f73-4a7a-8f6e-a0bac74b234d\",\"type\":\"CDSView\"}},\"id\":\"be2140e7-3448-4a50-b836-e73f713dca85\",\"type\":\"GlyphRenderer\"},{\"attributes\":{\"callback\":null,\"data\":{\"index\":[0,1,2,3,4,5,6,7,8,9,10,11,12,13,14,15,16,17,18,19,20,21,22,23,24,25,26,27,28,29,30,31,32,33,34,35,36,37,38,39,40,41,42,43,44,45,46,47,48,49,50,51,52,53,54,55,56,57,58,59,60,61,62,63,64,65,66,67,68,69,70,71,72,73,74,75,76,77,78,79,80,81,82,83,84,85,86,87,88,89,90,91,92,93,94,95,96,97,98,99,100,101,102,103,104,105,106,107,108,109,110,111,112,113,114,115,116,117,118,119,120,121,122,123,124,125,126,127,128,129,130,131,132,133,134,135,136,137,138,139,140,141,142,143,144,145,146,147,148,149,150,151,152,153,154,155,156,157,158,159,160,161,162,163,164,165,166,167,168,169,170,171,172,173,174,175,176,177,178,179,180,181,182,183,184,185],\"kasios_index\":{\"__ndarray__\":\"AAAAAAAA+H8AAAAAAAD4fwAAAAAAAPh/AAAAAAAA+H8AAAAAAAD4fwAAAAAAAPh/AAAAAAAA+H8AAAAAAAD4fwAAAAAAAPh/AAAAAAAA+H8AAAAAAAD4fwAAAAAAAPh/AAAAAAAA+H8AAAAAAAD4fwAAAAAAAPh/AAAAAAAA+H8AAAAAAAD4fwAAAAAAAPh/AAAAAAAA+H8AAAAAAAD4fwAAAAAAAPh/AAAAAAAA+H8AAAAAAAD4fwAAAAAAAPh/AAAAAAAA+H8AAAAAAAD4fwAAAAAAAPh/AAAAAAAA+H8AAAAAAAD4fwAAAAAAAPh/AAAAAAAA+H8AAAAAAAD4fwAAAAAAAPh/AAAAAAAA+H8AAAAAAAD4fwAAAAAAAPh/AAAAAAAA+H8AAAAAAAD4fwAAAAAAAPh/AAAAAAAA+H8AAAAAAAD4fwAAAAAAAPh/AAAAAAAA+H8AAAAAAAD4fwAAAAAAAPh/AAAAAAAA+H8AAAAAAAD4fwAAAAAAAPh/AAAAAAAA+H8AAAAAAAD4fwAAAAAAAPh/AAAAAAAA+H8AAAAAAAD4fwAAAAAAAPh/AAAAAAAA+H8AAAAAAAD4fwAAAAAAAPh/AAAAAAAA+H8AAAAAAAD4fwAAAAAAAPh/AAAAAAAA+H8AAAAAAAD4fwAAAAAAAPh/AAAAAAAA+H8AAAAAAAD4fwAAAAAAAPh/AAAAAAAA+H8AAAAAAAD4fwAAAAAAAPh/AAAAAAAA+H8AAAAAAAD4fwAAAAAAAPh/AAAAAAAA+H8AAAAAAAD4fwAAAAAAAPh/AAAAAAAA+H8AAAAAAAD4fwAAAAAAAPh/AAAAAAAA+H8AAAAAAAD4fwAAAAAAAPh/AAAAAAAA+H8AAAAAAAD4fwAAAAAAAPh/AAAAAAAA+H8AAAAAAAD4fwAAAAAAAPh/AAAAAAAA+H8AAAAAAAD4fwAAAAAAAPh/AAAAAAAA+H8AAAAAAAD4fwAAAAAAAPh/AAAAAAAA+H8AAAAAAAD4fwAAAAAAAPh/AAAAAAAA+H8AAAAAAAD4fwAAAAAAAPh/AAAAAAAA+H8AAAAAAAD4fwAAAAAAAPh/AAAAAAAA+H8AAAAAAAD4fwAAAAAAAPh/AAAAAAAA+H8AAAAAAAD4fwAAAAAAAPh/AAAAAAAA+H8AAAAAAAD4fwAAAAAAAPh/AAAAAAAA+H8AAAAAAAD4fwAAAAAAAPh/AAAAAAAA+H8AAAAAAAD4fwAAAAAAAPh/AAAAAAAA+H8AAAAAAAD4fwAAAAAAAPh/AAAAAAAA+H8AAAAAAAD4fwAAAAAAAPh/AAAAAAAA+H8AAAAAAAD4fwAAAAAAAPh/AAAAAAAA+H8AAAAAAAD4fwAAAAAAAPh/AAAAAAAA+H8AAAAAAAD4fwAAAAAAAPh/AAAAAAAA+H8AAAAAAAD4fwAAAAAAAPh/AAAAAAAA+H8AAAAAAAD4fwAAAAAAAPh/AAAAAAAA+H8AAAAAAAD4fwAAAAAAAPh/AAAAAAAA+H8AAAAAAAD4fwAAAAAAAPh/AAAAAAAA+H8AAAAAAAD4fwAAAAAAAPh/AAAAAAAA+H8AAAAAAAD4fwAAAAAAAPh/AAAAAAAA+H8AAAAAAAD4fwAAAAAAAPh/AAAAAAAA+H8AAAAAAAD4fwAAAAAAAPh/AAAAAAAA+H8AAAAAAAD4fwAAAAAAAPh/AAAAAAAA+H8AAAAAAAD4fwAAAAAAAPh/AAAAAAAA+H8AAAAAAAD4fwAAAAAAAPh/AAAAAAAA+H8AAAAAAAD4fwAAAAAAAPh/AAAAAAAA+H8AAAAAAAD4fwAAAAAAAPh/AAAAAAAA+H8AAAAAAAD4fwAAAAAAAPh/AAAAAAAA+H8AAAAAAAD4fwAAAAAAAPh/AAAAAAAA+H8AAAAAAAD4fwAAAAAAAPh/AAAAAAAA+H8AAAAAAAD4fwAAAAAAAPh/AAAAAAAA+H8AAAAAAAD4fwAAAAAAAPh/\",\"dtype\":\"float64\",\"shape\":[186]},\"specie\":[\"Rose-crested Blue Pipit\",\"Rose-crested Blue Pipit\",\"Rose-crested Blue Pipit\",\"Rose-crested Blue Pipit\",\"Rose-crested Blue Pipit\",\"Rose-crested Blue Pipit\",\"Rose-crested Blue Pipit\",\"Rose-crested Blue Pipit\",\"Rose-crested Blue Pipit\",\"Rose-crested Blue Pipit\",\"Rose-crested Blue Pipit\",\"Rose-crested Blue Pipit\",\"Rose-crested Blue Pipit\",\"Rose-crested Blue Pipit\",\"Rose-crested Blue Pipit\",\"Rose-crested Blue Pipit\",\"Rose-crested Blue Pipit\",\"Rose-crested Blue Pipit\",\"Rose-crested Blue Pipit\",\"Rose-crested Blue Pipit\",\"Rose-crested Blue Pipit\",\"Rose-crested Blue Pipit\",\"Rose-crested Blue Pipit\",\"Rose-crested Blue Pipit\",\"Rose-crested Blue Pipit\",\"Rose-crested Blue Pipit\",\"Rose-crested Blue Pipit\",\"Rose-crested Blue Pipit\",\"Rose-crested Blue Pipit\",\"Rose-crested Blue Pipit\",\"Rose-crested Blue Pipit\",\"Rose-crested Blue Pipit\",\"Rose-crested Blue Pipit\",\"Rose-crested Blue Pipit\",\"Rose-crested Blue Pipit\",\"Rose-crested Blue Pipit\",\"Rose-crested Blue Pipit\",\"Rose-crested Blue Pipit\",\"Rose-crested Blue Pipit\",\"Rose-crested Blue Pipit\",\"Rose-crested Blue Pipit\",\"Rose-crested Blue Pipit\",\"Rose-crested Blue Pipit\",\"Rose-crested Blue Pipit\",\"Rose-crested Blue Pipit\",\"Rose-crested Blue Pipit\",\"Rose-crested Blue Pipit\",\"Rose-crested Blue Pipit\",\"Rose-crested Blue Pipit\",\"Rose-crested Blue Pipit\",\"Rose-crested Blue Pipit\",\"Rose-crested Blue Pipit\",\"Rose-crested Blue Pipit\",\"Rose-crested Blue Pipit\",\"Rose-crested Blue Pipit\",\"Rose-crested Blue Pipit\",\"Rose-crested Blue Pipit\",\"Rose-crested Blue Pipit\",\"Rose-crested Blue Pipit\",\"Rose-crested Blue Pipit\",\"Rose-crested Blue Pipit\",\"Rose-crested Blue Pipit\",\"Rose-crested Blue Pipit\",\"Rose-crested Blue Pipit\",\"Rose-crested Blue Pipit\",\"Rose-crested Blue Pipit\",\"Rose-crested Blue Pipit\",\"Rose-crested Blue Pipit\",\"Rose-crested Blue Pipit\",\"Rose-crested Blue Pipit\",\"Rose-crested Blue Pipit\",\"Rose-crested Blue Pipit\",\"Rose-crested Blue Pipit\",\"Rose-crested Blue Pipit\",\"Rose-crested Blue Pipit\",\"Rose-crested Blue Pipit\",\"Rose-crested Blue Pipit\",\"Rose-crested Blue Pipit\",\"Rose-crested Blue Pipit\",\"Rose-crested Blue Pipit\",\"Rose-crested Blue Pipit\",\"Rose-crested Blue Pipit\",\"Rose-crested Blue Pipit\",\"Rose-crested Blue Pipit\",\"Rose-crested Blue Pipit\",\"Rose-crested Blue Pipit\",\"Rose-crested Blue Pipit\",\"Rose-crested Blue Pipit\",\"Rose-crested Blue Pipit\",\"Rose-crested Blue Pipit\",\"Rose-crested Blue Pipit\",\"Rose-crested Blue Pipit\",\"Rose-crested Blue Pipit\",\"Rose-crested Blue Pipit\",\"Rose-crested Blue Pipit\",\"Rose-crested Blue Pipit\",\"Rose-crested Blue Pipit\",\"Rose-crested Blue Pipit\",\"Rose-crested Blue Pipit\",\"Rose-crested Blue Pipit\",\"Rose-crested Blue Pipit\",\"Rose-crested Blue Pipit\",\"Rose-crested Blue Pipit\",\"Rose-crested Blue Pipit\",\"Rose-crested Blue Pipit\",\"Rose-crested Blue Pipit\",\"Rose-crested Blue Pipit\",\"Rose-crested Blue Pipit\",\"Rose-crested Blue Pipit\",\"Rose-crested Blue Pipit\",\"Rose-crested Blue Pipit\",\"Rose-crested Blue Pipit\",\"Rose-crested Blue Pipit\",\"Rose-crested Blue Pipit\",\"Rose-crested Blue Pipit\",\"Rose-crested Blue Pipit\",\"Rose-crested Blue Pipit\",\"Rose-crested Blue Pipit\",\"Rose-crested Blue Pipit\",\"Rose-crested Blue Pipit\",\"Rose-crested Blue Pipit\",\"Rose-crested Blue Pipit\",\"Rose-crested Blue Pipit\",\"Rose-crested Blue Pipit\",\"Rose-crested Blue Pipit\",\"Rose-crested Blue Pipit\",\"Rose-crested Blue Pipit\",\"Rose-crested Blue Pipit\",\"Rose-crested Blue Pipit\",\"Rose-crested Blue Pipit\",\"Rose-crested Blue Pipit\",\"Rose-crested Blue Pipit\",\"Rose-crested Blue Pipit\",\"Rose-crested Blue Pipit\",\"Rose-crested Blue Pipit\",\"Rose-crested Blue Pipit\",\"Rose-crested Blue Pipit\",\"Rose-crested Blue Pipit\",\"Rose-crested Blue Pipit\",\"Rose-crested Blue Pipit\",\"Rose-crested Blue Pipit\",\"Rose-crested Blue Pipit\",\"Rose-crested Blue Pipit\",\"Rose-crested Blue Pipit\",\"Rose-crested Blue Pipit\",\"Rose-crested Blue Pipit\",\"Rose-crested Blue Pipit\",\"Rose-crested Blue Pipit\",\"Rose-crested Blue Pipit\",\"Rose-crested Blue Pipit\",\"Rose-crested Blue Pipit\",\"Rose-crested Blue Pipit\",\"Rose-crested Blue Pipit\",\"Rose-crested Blue Pipit\",\"Rose-crested Blue Pipit\",\"Rose-crested Blue Pipit\",\"Rose-crested Blue Pipit\",\"Rose-crested Blue Pipit\",\"Rose-crested Blue Pipit\",\"Rose-crested Blue Pipit\",\"Rose-crested Blue Pipit\",\"Rose-crested Blue Pipit\",\"Rose-crested Blue Pipit\",\"Rose-crested Blue Pipit\",\"Rose-crested Blue Pipit\",\"Rose-crested Blue Pipit\",\"Rose-crested Blue Pipit\",\"Rose-crested Blue Pipit\",\"Rose-crested Blue Pipit\",\"Rose-crested Blue Pipit\",\"Rose-crested Blue Pipit\",\"Rose-crested Blue Pipit\",\"Rose-crested Blue Pipit\",\"Rose-crested Blue Pipit\",\"Rose-crested Blue Pipit\",\"Rose-crested Blue Pipit\",\"Rose-crested Blue Pipit\",\"Rose-crested Blue Pipit\",\"Rose-crested Blue Pipit\",\"Rose-crested Blue Pipit\",\"Rose-crested Blue Pipit\",\"Rose-crested Blue Pipit\",\"Rose-crested Blue Pipit\",\"Rose-crested Blue Pipit\",\"Rose-crested Blue Pipit\",\"Rose-crested Blue Pipit\"],\"x\":{\"__ndarray__\":\"dYFDQBV8oECcmABA0KKcQN6NFEDta7FAqKoOQGiIWUD2dqRAq8hMQII9oUAqDZw9hBpqQD4fZ0BNGItA3mavQNl/nkBtVrxABiajQDC2OsB28aRAdwfHQMEKGkC/w65AwzWJPzVblT9rloBAr0yVQP7Kh0BbPlVA+aKpQGJoN0Bq/xlA/kqyQKdyVEBIEERAyL1HQGpmqsA17a1AMKhhQKrAY0C2gW1Ab7Q4QMFXbr0TXl/AjnJvQHE3s0DN63RA7Kw3QK4yjT9rl6lA1tKNQEreZkCmYWJA9MPNP1XGWUC/UIRAgI1IQOEWM0Ad/VhAll61QLMoUUApjR5Ay5UsQBAGXUBr8khA+t9cQM6cvkAQRlNAvRFkQKl8YkBbdHFAafFmQFeMCkAMxEJAqYb8P4uzokBSOqRAYQxeQMKbfkCSCxNAayOJQBDOnT8LuwRAod9KQI4mh0BZFIlA89DPP9sUqkBmE9a/eBBTQAzFmEBSFdQ+5KoZQHfIH0Bx7BxAV3y+QB9woUCt8GVA2q5bQLw8HkCS65NArLWGQEjjm0CHp+k/eSSwQJ2irEAksqJACiaGQIhXMkD5fWpArou2P4zQqEAy+D1AetnZP9JvlkBXzylAlVgaQMu0TUAehZlA7iZUQEm+c0DNvhdAjtGxQGf7fkDrknZAptgBQFAJWkANX2NA9Ty6Py3iC0D1vNs/H+KZQNehvD9sqpq/H08kP59BoUBjFvU/yxmgQHctHkAubaNAFCQiQJLPSEBDNYBA4ZvmP+9Qg0Bd6NY/52+DQGWH4L4hjJQ/DNgMQM7EUUC4zq5A0s6JP214pb/0Y0hAWZRPP4nZlEA7iTNAaYDxP5X2xT9KKAdAXu9mQBZtFkDL0KFAR6GaQFRDPkBLwTzAHO5OQPpSi799fGVA/Q+HQP2pxr1C/ylA5BQdwHi+HcCnJmNAOP+DQKKU3r9xrwbAULHBv1+JJkAThNG/8+0EQH26gMAO3wPA\",\"dtype\":\"float32\",\"shape\":[186]},\"y\":{\"__ndarray__\":\"gufUP9NwYj5sxCk95sCpPwZAqL9rGbc/JvvJvyEmC78a+Kw+ZD/IP/kTuT+uMR/A7scnP06gSD/0BgVAxg33PyD0pz/sdiI/cNIeQBrZjb7NXSVA/ApDQLsxOD7lOzc/GlcawCF0K8B/BBO+NBvlP0ezgj+KXTFAbxEiP1RrFcAfkNe/Ez2zPztAc7+8Nx/ApV4iwCcFpj/wDfo/QYJqP9BMFj9OS7U/tNPivyWrPsDW3TQ9kQF1PxDjwT/tLh9A6uWFv0vPMcA01eY97YR5P0pxPD/9kq0/cSbcvjJXdT+1tvo/7G7BP2JwWL+4rbU/WIe6P7we5j9GIY++QWGov+5GLT8gAJG/a2hNv0Kq4j9qAK0+YhJDP71ZRz/C/MW+V+avvjYmYj3SDrC/kUTPvo4jdD+s1Fc/0apSvk2r/D46T0e/ynj9PpDz1r63Kzy+W4nMP61owj4O3pc/p9KOv/5WLz7dYXpAFHmrPwy0jT9H4Xi/hswAPk8gKr4IzZg+FaagPsElmz6A5gs/xZhAPxNk6b8yniY/CsSHP6xUvj/aLDK/b3PNP6JMPz8fgPU/PolKQNhjC8CX2NA/PYISwHaU1bwvag++80iyv1dbnz9znBrA8xZBPiHdHcAhb+s+5Q/aPyMwGkCy+Nq/I9a1P7QgrDx9Pjc/FAqkPhhVGECcPGs/VsZGwLHHxr9n1yu9Wo4yQNiDyL5ccD9AlO4twJPvfT9hotS/+L26P4t/8r/HpJw/KC/yv3MpcD8k6L4+o3mqvbodkT8L2zDA4GAIQLugdL+A9mK/7yWqPSwWTUCxrQ9ARuJRv53yS0AuwlRAZjo4wF6pgT9OoPe/SwRVwP8fNcCC6gq/vgyhPuIMQ78VtXw/+uiKP0aj9L+5lkpAkn2xP/Pk5L83Ijk/a7mIP4hikL/6yhO9waoKQH9nAUDYuDE/U51BQDccTUD7Hpu/GweGQP4NrL2/PJRANjQJPlxpoz8uFhlA\",\"dtype\":\"float32\",\"shape\":[186]}},\"selected\":{\"id\":\"bf4b946b-6de4-4f65-98d5-8478d20889f3\",\"type\":\"Selection\"},\"selection_policy\":{\"id\":\"0a10958e-9d34-4866-a02e-23b0f4a5c20b\",\"type\":\"UnionRenderers\"}},\"id\":\"d4204ca0-8619-4c7c-a6c0-385cbd2da53c\",\"type\":\"ColumnDataSource\"},{\"attributes\":{\"fill_alpha\":{\"value\":0.6},\"fill_color\":{\"field\":\"specie\",\"transform\":{\"id\":\"1ded21f3-8849-4f11-ac6d-baf80486c3fe\",\"type\":\"CategoricalColorMapper\"}},\"line_alpha\":{\"value\":0.6},\"line_color\":{\"field\":\"specie\",\"transform\":{\"id\":\"1ded21f3-8849-4f11-ac6d-baf80486c3fe\",\"type\":\"CategoricalColorMapper\"}},\"size\":{\"units\":\"screen\",\"value\":5},\"x\":{\"field\":\"x\"},\"y\":{\"field\":\"y\"}},\"id\":\"e9d7ccbb-bdf5-469d-a612-be78daa9dbaa\",\"type\":\"Circle\"},{\"attributes\":{\"source\":{\"id\":\"d5468431-43c9-44e5-8af2-7442c4cc31f7\",\"type\":\"ColumnDataSource\"}},\"id\":\"1ddb0895-d081-4142-8356-629ec52977c2\",\"type\":\"CDSView\"},{\"attributes\":{\"callback\":null,\"data\":{\"index\":[1389,1390,1391,1392,1393,1394,1395,1396,1397,1398,1399,1400,1401,1402,1403,1404,1405,1406,1407,1408,1409,1410,1411,1412,1413,1414,1415,1416,1417,1418,1419,1420,1421,1422,1423,1424,1425,1426,1427,1428,1429,1430,1431,1432,1433,1434,1435,1436,1437,1438,1439,1440,1441,1442,1443,1444,1445,1446,1447,1448,1449,1450,1451,1452,1453,1454,1455,1456,1457,1458,1459,1460,1461],\"kasios_index\":{\"__ndarray__\":\"AAAAAAAA+H8AAAAAAAD4fwAAAAAAAPh/AAAAAAAA+H8AAAAAAAD4fwAAAAAAAPh/AAAAAAAA+H8AAAAAAAD4fwAAAAAAAPh/AAAAAAAA+H8AAAAAAAD4fwAAAAAAAPh/AAAAAAAA+H8AAAAAAAD4fwAAAAAAAPh/AAAAAAAA+H8AAAAAAAD4fwAAAAAAAPh/AAAAAAAA+H8AAAAAAAD4fwAAAAAAAPh/AAAAAAAA+H8AAAAAAAD4fwAAAAAAAPh/AAAAAAAA+H8AAAAAAAD4fwAAAAAAAPh/AAAAAAAA+H8AAAAAAAD4fwAAAAAAAPh/AAAAAAAA+H8AAAAAAAD4fwAAAAAAAPh/AAAAAAAA+H8AAAAAAAD4fwAAAAAAAPh/AAAAAAAA+H8AAAAAAAD4fwAAAAAAAPh/AAAAAAAA+H8AAAAAAAD4fwAAAAAAAPh/AAAAAAAA+H8AAAAAAAD4fwAAAAAAAPh/AAAAAAAA+H8AAAAAAAD4fwAAAAAAAPh/AAAAAAAA+H8AAAAAAAD4fwAAAAAAAPh/AAAAAAAA+H8AAAAAAAD4fwAAAAAAAPh/AAAAAAAA+H8AAAAAAAD4fwAAAAAAAPh/AAAAAAAA+H8AAAAAAAD4fwAAAAAAAPh/AAAAAAAA+H8AAAAAAAD4fwAAAAAAAPh/AAAAAAAA+H8AAAAAAAD4fwAAAAAAAPh/AAAAAAAA+H8AAAAAAAD4fwAAAAAAAPh/AAAAAAAA+H8AAAAAAAD4fwAAAAAAAPh/AAAAAAAA+H8=\",\"dtype\":\"float64\",\"shape\":[73]},\"specie\":[\"Pinkfinch\",\"Pinkfinch\",\"Pinkfinch\",\"Pinkfinch\",\"Pinkfinch\",\"Pinkfinch\",\"Pinkfinch\",\"Pinkfinch\",\"Pinkfinch\",\"Pinkfinch\",\"Pinkfinch\",\"Pinkfinch\",\"Pinkfinch\",\"Pinkfinch\",\"Pinkfinch\",\"Pinkfinch\",\"Pinkfinch\",\"Pinkfinch\",\"Pinkfinch\",\"Pinkfinch\",\"Pinkfinch\",\"Pinkfinch\",\"Pinkfinch\",\"Pinkfinch\",\"Pinkfinch\",\"Pinkfinch\",\"Pinkfinch\",\"Pinkfinch\",\"Pinkfinch\",\"Pinkfinch\",\"Pinkfinch\",\"Pinkfinch\",\"Pinkfinch\",\"Pinkfinch\",\"Pinkfinch\",\"Pinkfinch\",\"Pinkfinch\",\"Pinkfinch\",\"Pinkfinch\",\"Pinkfinch\",\"Pinkfinch\",\"Pinkfinch\",\"Pinkfinch\",\"Pinkfinch\",\"Pinkfinch\",\"Pinkfinch\",\"Pinkfinch\",\"Pinkfinch\",\"Pinkfinch\",\"Pinkfinch\",\"Pinkfinch\",\"Pinkfinch\",\"Pinkfinch\",\"Pinkfinch\",\"Pinkfinch\",\"Pinkfinch\",\"Pinkfinch\",\"Pinkfinch\",\"Pinkfinch\",\"Pinkfinch\",\"Pinkfinch\",\"Pinkfinch\",\"Pinkfinch\",\"Pinkfinch\",\"Pinkfinch\",\"Pinkfinch\",\"Pinkfinch\",\"Pinkfinch\",\"Pinkfinch\",\"Pinkfinch\",\"Pinkfinch\",\"Pinkfinch\",\"Pinkfinch\"],\"x\":{\"__ndarray__\":\"JAssvv/v6j8dG70/Q47vPmZvhsBPGZTAHdZPwJDOW8BC85HAhryGwKaGiMAwg8m/aoGbwMKya8DUhjbA1CAdwJrTgsCGaSPAOfmTwP5z179QCX/Ag/2mwJuIq787z27AzLyRwLYD1b+/d3fAIzwFwBpOFsAZfUPAtbmRwMUYz7+pClzAZiKjv6cqicBfYnnAPtycwK02hMBj2jbAd3lGwNNVTcAf0SrAPiotwAfIgMAD8l3ASaxewBI2R8A8YGXAEkpvwCTuR8BatJk/Nd+EQGHQasCfw/S/82s9wLOORsBL7jjAZIs2wGhKpsCX0ibAkYikwE+CBr84DNO/g/77P6H4g8C/ogzADOI1wBO0+b8FCizAGvc9wNNd3r8GGVBAVwWbvw==\",\"dtype\":\"float32\",\"shape\":[73]},\"y\":{\"__ndarray__\":\"izA5v8o4k78Q4Ru/R9Hlv0UOvT/Zb5k/pthGP7Mdkj4yr8e+ZlGgP2bSCj9x0I9AucnMP3cWg77MSLw/kH5wQPKYPT8fLjJA6oaFP1NsMEA7CxBAVY4IQARxTUDXvRA/4p42Pwx8NkAkBUVAqMVRP9/RjkDy8zxAusz8PSPok0Dg976+mLq1vhmomj+7q22/+EgKQL3nEEAA7g9AsRoZQJSlNT+JtEhAmXTqv0JV4T898Vo9vRvjv853HT8d1YS+iQ5lP34eoD70iLS+UFJSQN31hT9FlRxABVhyQCezUr334Om+Xg+vP8gPsT/nYTdALjxXQBNpN78OhJRAeOaTvtuGRz8oLXtAA+eZv/PZHEBA9Ve/JsM9QLcB+j98Nme/ODFOQA==\",\"dtype\":\"float32\",\"shape\":[73]}},\"selected\":{\"id\":\"f8d0eb99-ee05-4c9d-8db9-8e0097cfeb81\",\"type\":\"Selection\"},\"selection_policy\":{\"id\":\"cf14fadc-bf68-4332-8238-08ce4bdac46e\",\"type\":\"UnionRenderers\"}},\"id\":\"7a57700a-266f-4108-a408-e70e42ee1d2f\",\"type\":\"ColumnDataSource\"},{\"attributes\":{\"fill_alpha\":{\"value\":0.6},\"fill_color\":{\"field\":\"specie\",\"transform\":{\"id\":\"1ded21f3-8849-4f11-ac6d-baf80486c3fe\",\"type\":\"CategoricalColorMapper\"}},\"line_alpha\":{\"value\":0.6},\"line_color\":{\"field\":\"specie\",\"transform\":{\"id\":\"1ded21f3-8849-4f11-ac6d-baf80486c3fe\",\"type\":\"CategoricalColorMapper\"}},\"size\":{\"units\":\"screen\",\"value\":5},\"x\":{\"field\":\"x\"},\"y\":{\"field\":\"y\"}},\"id\":\"94b87136-6677-4f26-b3b7-52c771d98be7\",\"type\":\"Circle\"},{\"attributes\":{\"formatter\":{\"id\":\"d4e4d891-a9be-4d56-b14d-f3d93688f1f5\",\"type\":\"BasicTickFormatter\"},\"plot\":{\"id\":\"d681732e-fabd-4538-978c-c3e4324620b8\",\"subtype\":\"Figure\",\"type\":\"Plot\"},\"ticker\":{\"id\":\"bbd12ba9-f15d-40c0-a22b-821d2d485109\",\"type\":\"BasicTicker\"}},\"id\":\"ce16e3bd-f60f-4f14-8a36-e6be6c36032e\",\"type\":\"LinearAxis\"},{\"attributes\":{\"fill_alpha\":{\"value\":0.1},\"fill_color\":{\"value\":\"#1f77b4\"},\"line_alpha\":{\"value\":0.1},\"line_color\":{\"value\":\"#1f77b4\"},\"size\":{\"units\":\"screen\",\"value\":20},\"x\":{\"field\":\"x\"},\"y\":{\"field\":\"y\"}},\"id\":\"1fa171f8-0949-4434-ba85-7c5ae8a93332\",\"type\":\"Circle\"},{\"attributes\":{\"label\":{\"value\":\"Bombadil\"},\"renderers\":[{\"id\":\"2a725a5f-bbd7-4d30-a177-9124efc68598\",\"type\":\"GlyphRenderer\"}]},\"id\":\"ea9d9048-a7a6-4ba0-bef0-aa649013c347\",\"type\":\"LegendItem\"},{\"attributes\":{\"source\":{\"id\":\"aab935d7-ec3e-48ae-81a8-ee4780ffded1\",\"type\":\"ColumnDataSource\"}},\"id\":\"b2e5c327-d1ed-41aa-9079-ebf3aa85dff5\",\"type\":\"CDSView\"},{\"attributes\":{\"callback\":null,\"data\":{\"index\":[1080,1081,1082,1083,1084,1085,1086,1087,1088,1089,1090,1091,1092,1093,1094,1095,1096,1097,1098,1099,1100,1101,1102,1103,1104,1105,1106,1107,1108,1109,1110,1111,1112,1113,1114,1115,1116,1117,1118,1119,1120,1121,1122,1123,1124,1125,1126,1127,1128,1129,1130,1131,1132,1133,1134,1135,1136,1137,1138,1139,1140,1141,1142,1143,1144,1145,1146,1147,1148,1149,1150,1151,1152,1153,1154,1155,1156,1157,1158,1159,1160,1161,1162,1163,1164,1165,1166,1167,1168,1169,1170,1171,1172,1173,1174,1175,1176,1177,1178,1179,1180,1181,1182,1183,1184,1185,1186,1187,1188,1189,1190,1191,1192,1193,1194,1195,1196,1197,1198,1199,1200,1201,1202,1203,1204,1205,1206,1207,1208,1209,1210,1211,1212,1213,1214,1215,1216,1217,1218,1219,1220,1221,1222,1223,1224,1225,1226,1227,1228,1229,1230,1231,1232,1233,1234,1235,1236,1237,1238,1239,1240,1241,1242,1243,1244,1245,1246,1247,1248,1249,1250,1251,1252,1253,1254,1255,1256,1257,1258,1259,1260,1261,1262,1263,1264,1265,1266,1267,1268,1269,1270,1271,1272,1273,1274,1275,1276,1277,1278,1279,1280,1281,1282,1283,1284,1285,1286,1287,1288,1289,1290,1291,1292,1293,1294],\"kasios_index\":{\"__ndarray__\":\"AAAAAAAA+H8AAAAAAAD4fwAAAAAAAPh/AAAAAAAA+H8AAAAAAAD4fwAAAAAAAPh/AAAAAAAA+H8AAAAAAAD4fwAAAAAAAPh/AAAAAAAA+H8AAAAAAAD4fwAAAAAAAPh/AAAAAAAA+H8AAAAAAAD4fwAAAAAAAPh/AAAAAAAA+H8AAAAAAAD4fwAAAAAAAPh/AAAAAAAA+H8AAAAAAAD4fwAAAAAAAPh/AAAAAAAA+H8AAAAAAAD4fwAAAAAAAPh/AAAAAAAA+H8AAAAAAAD4fwAAAAAAAPh/AAAAAAAA+H8AAAAAAAD4fwAAAAAAAPh/AAAAAAAA+H8AAAAAAAD4fwAAAAAAAPh/AAAAAAAA+H8AAAAAAAD4fwAAAAAAAPh/AAAAAAAA+H8AAAAAAAD4fwAAAAAAAPh/AAAAAAAA+H8AAAAAAAD4fwAAAAAAAPh/AAAAAAAA+H8AAAAAAAD4fwAAAAAAAPh/AAAAAAAA+H8AAAAAAAD4fwAAAAAAAPh/AAAAAAAA+H8AAAAAAAD4fwAAAAAAAPh/AAAAAAAA+H8AAAAAAAD4fwAAAAAAAPh/AAAAAAAA+H8AAAAAAAD4fwAAAAAAAPh/AAAAAAAA+H8AAAAAAAD4fwAAAAAAAPh/AAAAAAAA+H8AAAAAAAD4fwAAAAAAAPh/AAAAAAAA+H8AAAAAAAD4fwAAAAAAAPh/AAAAAAAA+H8AAAAAAAD4fwAAAAAAAPh/AAAAAAAA+H8AAAAAAAD4fwAAAAAAAPh/AAAAAAAA+H8AAAAAAAD4fwAAAAAAAPh/AAAAAAAA+H8AAAAAAAD4fwAAAAAAAPh/AAAAAAAA+H8AAAAAAAD4fwAAAAAAAPh/AAAAAAAA+H8AAAAAAAD4fwAAAAAAAPh/AAAAAAAA+H8AAAAAAAD4fwAAAAAAAPh/AAAAAAAA+H8AAAAAAAD4fwAAAAAAAPh/AAAAAAAA+H8AAAAAAAD4fwAAAAAAAPh/AAAAAAAA+H8AAAAAAAD4fwAAAAAAAPh/AAAAAAAA+H8AAAAAAAD4fwAAAAAAAPh/AAAAAAAA+H8AAAAAAAD4fwAAAAAAAPh/AAAAAAAA+H8AAAAAAAD4fwAAAAAAAPh/AAAAAAAA+H8AAAAAAAD4fwAAAAAAAPh/AAAAAAAA+H8AAAAAAAD4fwAAAAAAAPh/AAAAAAAA+H8AAAAAAAD4fwAAAAAAAPh/AAAAAAAA+H8AAAAAAAD4fwAAAAAAAPh/AAAAAAAA+H8AAAAAAAD4fwAAAAAAAPh/AAAAAAAA+H8AAAAAAAD4fwAAAAAAAPh/AAAAAAAA+H8AAAAAAAD4fwAAAAAAAPh/AAAAAAAA+H8AAAAAAAD4fwAAAAAAAPh/AAAAAAAA+H8AAAAAAAD4fwAAAAAAAPh/AAAAAAAA+H8AAAAAAAD4fwAAAAAAAPh/AAAAAAAA+H8AAAAAAAD4fwAAAAAAAPh/AAAAAAAA+H8AAAAAAAD4fwAAAAAAAPh/AAAAAAAA+H8AAAAAAAD4fwAAAAAAAPh/AAAAAAAA+H8AAAAAAAD4fwAAAAAAAPh/AAAAAAAA+H8AAAAAAAD4fwAAAAAAAPh/AAAAAAAA+H8AAAAAAAD4fwAAAAAAAPh/AAAAAAAA+H8AAAAAAAD4fwAAAAAAAPh/AAAAAAAA+H8AAAAAAAD4fwAAAAAAAPh/AAAAAAAA+H8AAAAAAAD4fwAAAAAAAPh/AAAAAAAA+H8AAAAAAAD4fwAAAAAAAPh/AAAAAAAA+H8AAAAAAAD4fwAAAAAAAPh/AAAAAAAA+H8AAAAAAAD4fwAAAAAAAPh/AAAAAAAA+H8AAAAAAAD4fwAAAAAAAPh/AAAAAAAA+H8AAAAAAAD4fwAAAAAAAPh/AAAAAAAA+H8AAAAAAAD4fwAAAAAAAPh/AAAAAAAA+H8AAAAAAAD4fwAAAAAAAPh/AAAAAAAA+H8AAAAAAAD4fwAAAAAAAPh/AAAAAAAA+H8AAAAAAAD4fwAAAAAAAPh/AAAAAAAA+H8AAAAAAAD4fwAAAAAAAPh/AAAAAAAA+H8AAAAAAAD4fwAAAAAAAPh/AAAAAAAA+H8AAAAAAAD4fwAAAAAAAPh/AAAAAAAA+H8AAAAAAAD4fwAAAAAAAPh/AAAAAAAA+H8AAAAAAAD4fwAAAAAAAPh/AAAAAAAA+H8AAAAAAAD4fwAAAAAAAPh/AAAAAAAA+H8AAAAAAAD4fwAAAAAAAPh/AAAAAAAA+H8AAAAAAAD4fwAAAAAAAPh/AAAAAAAA+H8AAAAAAAD4fw==\",\"dtype\":\"float64\",\"shape\":[215]},\"specie\":[\"Orange Pine Plover\",\"Orange Pine Plover\",\"Orange Pine Plover\",\"Orange Pine Plover\",\"Orange Pine Plover\",\"Orange Pine Plover\",\"Orange Pine Plover\",\"Orange Pine Plover\",\"Orange Pine Plover\",\"Orange Pine Plover\",\"Orange Pine Plover\",\"Orange Pine Plover\",\"Orange Pine Plover\",\"Orange Pine Plover\",\"Orange Pine Plover\",\"Orange Pine Plover\",\"Orange Pine Plover\",\"Orange Pine Plover\",\"Orange Pine Plover\",\"Orange Pine Plover\",\"Orange Pine Plover\",\"Orange Pine Plover\",\"Orange Pine Plover\",\"Orange Pine Plover\",\"Orange Pine Plover\",\"Orange Pine Plover\",\"Orange Pine Plover\",\"Orange Pine Plover\",\"Orange Pine Plover\",\"Orange Pine Plover\",\"Orange Pine Plover\",\"Orange Pine Plover\",\"Orange Pine Plover\",\"Orange Pine Plover\",\"Orange Pine Plover\",\"Orange Pine Plover\",\"Orange Pine Plover\",\"Orange Pine Plover\",\"Orange Pine Plover\",\"Orange Pine Plover\",\"Orange Pine Plover\",\"Orange Pine Plover\",\"Orange Pine Plover\",\"Orange Pine Plover\",\"Orange Pine Plover\",\"Orange Pine Plover\",\"Orange Pine Plover\",\"Orange Pine Plover\",\"Orange Pine Plover\",\"Orange Pine Plover\",\"Orange Pine Plover\",\"Orange Pine Plover\",\"Orange Pine Plover\",\"Orange Pine Plover\",\"Orange Pine Plover\",\"Orange Pine Plover\",\"Orange Pine Plover\",\"Orange Pine Plover\",\"Orange Pine Plover\",\"Orange Pine Plover\",\"Orange Pine Plover\",\"Orange Pine Plover\",\"Orange Pine Plover\",\"Orange Pine Plover\",\"Orange Pine Plover\",\"Orange Pine Plover\",\"Orange Pine Plover\",\"Orange Pine Plover\",\"Orange Pine Plover\",\"Orange Pine Plover\",\"Orange Pine Plover\",\"Orange Pine Plover\",\"Orange Pine Plover\",\"Orange Pine Plover\",\"Orange Pine Plover\",\"Orange Pine Plover\",\"Orange Pine Plover\",\"Orange Pine Plover\",\"Orange Pine Plover\",\"Orange Pine Plover\",\"Orange Pine Plover\",\"Orange Pine Plover\",\"Orange Pine Plover\",\"Orange Pine Plover\",\"Orange Pine Plover\",\"Orange Pine Plover\",\"Orange Pine Plover\",\"Orange Pine Plover\",\"Orange Pine Plover\",\"Orange Pine Plover\",\"Orange Pine Plover\",\"Orange Pine Plover\",\"Orange Pine Plover\",\"Orange Pine Plover\",\"Orange Pine Plover\",\"Orange Pine Plover\",\"Orange Pine Plover\",\"Orange Pine Plover\",\"Orange Pine Plover\",\"Orange Pine Plover\",\"Orange Pine Plover\",\"Orange Pine Plover\",\"Orange Pine Plover\",\"Orange Pine Plover\",\"Orange Pine Plover\",\"Orange Pine Plover\",\"Orange Pine Plover\",\"Orange Pine Plover\",\"Orange Pine Plover\",\"Orange Pine Plover\",\"Orange Pine Plover\",\"Orange Pine Plover\",\"Orange Pine Plover\",\"Orange Pine Plover\",\"Orange Pine Plover\",\"Orange Pine Plover\",\"Orange Pine Plover\",\"Orange Pine Plover\",\"Orange Pine Plover\",\"Orange Pine Plover\",\"Orange Pine Plover\",\"Orange Pine Plover\",\"Orange Pine Plover\",\"Orange Pine Plover\",\"Orange Pine Plover\",\"Orange Pine Plover\",\"Orange Pine Plover\",\"Orange Pine Plover\",\"Orange Pine Plover\",\"Orange Pine Plover\",\"Orange Pine Plover\",\"Orange Pine Plover\",\"Orange Pine Plover\",\"Orange Pine Plover\",\"Orange Pine Plover\",\"Orange Pine Plover\",\"Orange Pine Plover\",\"Orange Pine Plover\",\"Orange Pine Plover\",\"Orange Pine Plover\",\"Orange Pine Plover\",\"Orange Pine Plover\",\"Orange Pine Plover\",\"Orange Pine Plover\",\"Orange Pine Plover\",\"Orange Pine Plover\",\"Orange Pine Plover\",\"Orange Pine Plover\",\"Orange Pine Plover\",\"Orange Pine Plover\",\"Orange Pine Plover\",\"Orange Pine Plover\",\"Orange Pine Plover\",\"Orange Pine Plover\",\"Orange Pine Plover\",\"Orange Pine Plover\",\"Orange Pine Plover\",\"Orange Pine Plover\",\"Orange Pine Plover\",\"Orange Pine Plover\",\"Orange Pine Plover\",\"Orange Pine Plover\",\"Orange Pine Plover\",\"Orange Pine Plover\",\"Orange Pine Plover\",\"Orange Pine Plover\",\"Orange Pine Plover\",\"Orange Pine Plover\",\"Orange Pine Plover\",\"Orange Pine Plover\",\"Orange Pine Plover\",\"Orange Pine Plover\",\"Orange Pine Plover\",\"Orange Pine Plover\",\"Orange Pine Plover\",\"Orange Pine Plover\",\"Orange Pine Plover\",\"Orange Pine Plover\",\"Orange Pine Plover\",\"Orange Pine Plover\",\"Orange Pine Plover\",\"Orange Pine Plover\",\"Orange Pine Plover\",\"Orange Pine Plover\",\"Orange Pine Plover\",\"Orange Pine Plover\",\"Orange Pine Plover\",\"Orange Pine Plover\",\"Orange Pine Plover\",\"Orange Pine Plover\",\"Orange Pine Plover\",\"Orange Pine Plover\",\"Orange Pine Plover\",\"Orange Pine Plover\",\"Orange Pine Plover\",\"Orange Pine Plover\",\"Orange Pine Plover\",\"Orange Pine Plover\",\"Orange Pine Plover\",\"Orange Pine Plover\",\"Orange Pine Plover\",\"Orange Pine Plover\",\"Orange Pine Plover\",\"Orange Pine Plover\",\"Orange Pine Plover\",\"Orange Pine Plover\",\"Orange Pine Plover\",\"Orange Pine Plover\",\"Orange Pine Plover\",\"Orange Pine Plover\",\"Orange Pine Plover\",\"Orange Pine Plover\",\"Orange Pine Plover\",\"Orange Pine Plover\",\"Orange Pine Plover\"],\"x\":{\"__ndarray__\":\"zg1vwFGrmMB7qZPAEtWIwBFJZsAZlh/A7CZNQKciDsD9dVPAwnuMwPgfq8CTlkbAOVafwI/gfcAhXum/+mxCwAlYjMAZ8jDAKS6XwNsojcAHDybAqoVCwIDslcDJgGbAcqGIwNJ0GMBSqWjA+xtJwFfijcCOTZHAr3FdwPziVEDjSojA5yUWPYxrjMDF4Y7AisygwLOtmkAnKs5AYetmwO1X8j9fmGrAc8eTwIbKisC+l2RAyneBwDr/jMCBrp7AWdGOwC6fWcACdlnAy1CIPyOGUsBaQY/AKJqNwE2ojcD48jPA4eScwD26OsCiihvAQuDdupePh8AVRG7ALsTev4ipacBEVZHAx46CwKkGk8C4OXfAGEiiwESoUsCoTZXAJI+KwOoch8CLxILAGbNqwI0Rh8CiTpDAWqtEwCZnhsAkfDLANOw4wMg6IMCMpDfAOMpRwHo1V8DNbYPA9qkCwG+3PMCP20LAJ+p4wP71fcCXMZPAjfK0v1JLjMDX2DzAztdhQPEvUsAsYFfA0ZVMwKLtRMCHBr6/8wfGv0YGNcDofWdAHa6KwOU9j8DDHo/AtfN5QICPG8BdmPm/I1BswEH/q8BNGK3AiXaWwEeFlsD0aZTA/sFQwKFZv0A6GyzAJ+6WwHWMjMCd7yzALZGNwJyshUAjRci/XYxGwGbuOMApyxLAq6JWwJYzZcBYQZDA6yOKwFZhEsB5hDXAL8QLQN5KLcD1T75ArBUNwHEnC8BlfU7ALkSIwAuGjMAJyZ/AcVeFwMaji8B+3krAy6swwB44icAc+jnAOKSOwF0Th8BCGDrATyqOwNVTksC9E6XA36orwAYeUcCzyCbAesWNwC4/k8BE4xjAvV/KP/xAkr8736FAwJ6SwAFFO8D6ZzLAZclQwPDLb8DByKLA2NxowFFUiMCAkZ/AwoqSwJRym8DSL3rAS1G5vygWjMCv7YrAAQFbwIKxkMDEP1zA8o2YwPFvUEAKm5nAaDiIwD4cPcDgZqrAtKOFwGi5HsA7r1LA+WPIvySejEC0t4rAqQeIwFUCpcDh5pvAfCVrwNe3i8BsoKbAh3RAwPY+lED8kGDAoDkxwNmc179fEk3Ap7k5wLtCU8DGvs+/BIWmwIfZWsCGzLdAVGPQv4erjMA=\",\"dtype\":\"float32\",\"shape\":[215]},\"y\":{\"__ndarray__\":\"sMaQP8Wu/D84z1tAwCyBQIGw/D/TOHVAu9+bP9tcU0Aan+y9Ubw6QO9uO0A/JpBAxVITQFSAg0CfgjxADMNHQAw2ib55NWM/5eEtvup2gED4qVtAsMmNQLdAcUCozDpAKQ+RQE+v5L4fZglAe0Vtv5SxZ0B35G9AVicEQKS0QUDiZXk/CV4mwEH/0j+2xMU/iJ8RQKgkPkAqIz5AFIQ/QIv4dr8htes/UduAQDjSoL52PD9A+dFlQH7nlkA/Ew9AhiofQDh8hEAwjU8/6i0+wNABOkCx3so/cqWVQNkgTz8EYCdAmGAaQIG+LkAENhO+WYLQv3BIgEB/DkFAJkyCQNMziz8c8cA+k2w0QHCC7r7V7hBAqaolQONFc0DFdXBA18GSQGWDBkAYuh9AuW88QA5dkUAmom1ADcdOQLNwjkDI8RJAbaVHQEabAEDtrQBAfue9P+MMwj+0gHBACJDEv/i0NUC7SlJA0r+HP3+VGkAKoGVA/7GEQNe8PEA0h3i/R/d8Pt+uWkAtvVdAWQdzQP25JkDA+3dA17qIQMrR5T8F1TlAnCpgP5RrjEBIl4tAFJtXQHawFkDhXxNARF8KQBFgOUDJnDZAL0dtQFBFQUBNgnJAUOqCQBYG/T+qeFQ/G5NvQCqZlECbwHU/sIx/QADSUkCRvjdAPftJQBGWF0BpLlY/z2jAP+S+PEDPiYlAt4s/QC/KgkBY2xpATUzMvzD24z/mzU9AuTmGQPM5h0BNjItAr/OSQEMzQkBucjhAVTmQQOdzyT/rMzVACe+JQBpikkDJo4NASK+4viUWnj+qe4xAvLPJP75/akAWehZAdvaHvk8cQUDccAVAhqrGP03qJj/NQFtAWfvKv4Pyur/fTTdA02ByQOcAAr8falBAEtxBQJyCQUAyhh1ATUipP9rsGUBREhRA8wQhQByZBECrI+M/HFtyQEQhckAAJJRAmwC/PwgoYUDArLE/Q93ZP+eGYEC5DgVAMzqnP4LaIkDBy5M+0HtOQJ52Sr/li3FAueePQG4yS0BI45NAqUGSQG5CGUBkkApAgvEKQGwPPEDUlgc/806Uv86mYUCgTwxAMOJFQBRQYkBLGV1ANx6KQC2WcEAnXH5AFOsmQGPBgkDwLfI/LKEewHbdg0A=\",\"dtype\":\"float32\",\"shape\":[215]}},\"selected\":{\"id\":\"d82a7592-d661-4ba9-85cd-d088f9673fed\",\"type\":\"Selection\"},\"selection_policy\":{\"id\":\"5baed4bb-d728-4d19-ba60-a870a8ccd01c\",\"type\":\"UnionRenderers\"}},\"id\":\"aab935d7-ec3e-48ae-81a8-ee4780ffded1\",\"type\":\"ColumnDataSource\"},{\"attributes\":{\"fill_alpha\":{\"value\":0.7},\"fill_color\":{\"value\":\"black\"},\"line_alpha\":{\"value\":0.7},\"size\":{\"units\":\"screen\",\"value\":20},\"x\":{\"field\":\"x\"},\"y\":{\"field\":\"y\"}},\"id\":\"d248a30c-2fc1-4ad3-a7f6-50130fc5ae2e\",\"type\":\"Circle\"},{\"attributes\":{\"fill_alpha\":{\"value\":0.1},\"fill_color\":{\"value\":\"#1f77b4\"},\"line_alpha\":{\"value\":0.1},\"line_color\":{\"value\":\"#1f77b4\"},\"size\":{\"units\":\"screen\",\"value\":5},\"x\":{\"field\":\"x\"},\"y\":{\"field\":\"y\"}},\"id\":\"879f543b-39a6-4bb0-b471-7d5ec8fa5299\",\"type\":\"Circle\"},{\"attributes\":{\"source\":{\"id\":\"5fa455f5-f2bd-4ea3-8c60-b9069b9b6267\",\"type\":\"ColumnDataSource\"}},\"id\":\"578efa8b-e91a-4e08-84d4-f28485970c28\",\"type\":\"CDSView\"},{\"attributes\":{\"callback\":null,\"data\":{\"index\":[1823,1824,1825,1826,1827,1828,1829,1830,1831,1832,1833,1834,1835,1836,1837,1838,1839,1840,1841,1842,1843,1844,1845,1846,1847,1848,1849,1850,1851,1852,1853,1854,1855,1856,1857,1858,1859,1860,1861,1862,1863,1864,1865,1866,1867,1868,1869,1870,1871,1872,1873,1874,1875,1876,1877,1878,1879,1880,1881,1882,1883,1884,1885,1886,1887,1888,1889,1890,1891,1892,1893],\"kasios_index\":{\"__ndarray__\":\"AAAAAAAA+H8AAAAAAAD4fwAAAAAAAPh/AAAAAAAA+H8AAAAAAAD4fwAAAAAAAPh/AAAAAAAA+H8AAAAAAAD4fwAAAAAAAPh/AAAAAAAA+H8AAAAAAAD4fwAAAAAAAPh/AAAAAAAA+H8AAAAAAAD4fwAAAAAAAPh/AAAAAAAA+H8AAAAAAAD4fwAAAAAAAPh/AAAAAAAA+H8AAAAAAAD4fwAAAAAAAPh/AAAAAAAA+H8AAAAAAAD4fwAAAAAAAPh/AAAAAAAA+H8AAAAAAAD4fwAAAAAAAPh/AAAAAAAA+H8AAAAAAAD4fwAAAAAAAPh/AAAAAAAA+H8AAAAAAAD4fwAAAAAAAPh/AAAAAAAA+H8AAAAAAAD4fwAAAAAAAPh/AAAAAAAA+H8AAAAAAAD4fwAAAAAAAPh/AAAAAAAA+H8AAAAAAAD4fwAAAAAAAPh/AAAAAAAA+H8AAAAAAAD4fwAAAAAAAPh/AAAAAAAA+H8AAAAAAAD4fwAAAAAAAPh/AAAAAAAA+H8AAAAAAAD4fwAAAAAAAPh/AAAAAAAA+H8AAAAAAAD4fwAAAAAAAPh/AAAAAAAA+H8AAAAAAAD4fwAAAAAAAPh/AAAAAAAA+H8AAAAAAAD4fwAAAAAAAPh/AAAAAAAA+H8AAAAAAAD4fwAAAAAAAPh/AAAAAAAA+H8AAAAAAAD4fwAAAAAAAPh/AAAAAAAA+H8AAAAAAAD4fwAAAAAAAPh/AAAAAAAA+H8AAAAAAAD4fw==\",\"dtype\":\"float64\",\"shape\":[71]},\"specie\":[\"Bent-beak Riffraff\",\"Bent-beak Riffraff\",\"Bent-beak Riffraff\",\"Bent-beak Riffraff\",\"Bent-beak Riffraff\",\"Bent-beak Riffraff\",\"Bent-beak Riffraff\",\"Bent-beak Riffraff\",\"Bent-beak Riffraff\",\"Bent-beak Riffraff\",\"Bent-beak Riffraff\",\"Bent-beak Riffraff\",\"Bent-beak Riffraff\",\"Bent-beak Riffraff\",\"Bent-beak Riffraff\",\"Bent-beak Riffraff\",\"Bent-beak Riffraff\",\"Bent-beak Riffraff\",\"Bent-beak Riffraff\",\"Bent-beak Riffraff\",\"Bent-beak Riffraff\",\"Bent-beak Riffraff\",\"Bent-beak Riffraff\",\"Bent-beak Riffraff\",\"Bent-beak Riffraff\",\"Bent-beak Riffraff\",\"Bent-beak Riffraff\",\"Bent-beak Riffraff\",\"Bent-beak Riffraff\",\"Bent-beak Riffraff\",\"Bent-beak Riffraff\",\"Bent-beak Riffraff\",\"Bent-beak Riffraff\",\"Bent-beak Riffraff\",\"Bent-beak Riffraff\",\"Bent-beak Riffraff\",\"Bent-beak Riffraff\",\"Bent-beak Riffraff\",\"Bent-beak Riffraff\",\"Bent-beak Riffraff\",\"Bent-beak Riffraff\",\"Bent-beak Riffraff\",\"Bent-beak Riffraff\",\"Bent-beak Riffraff\",\"Bent-beak Riffraff\",\"Bent-beak Riffraff\",\"Bent-beak Riffraff\",\"Bent-beak Riffraff\",\"Bent-beak Riffraff\",\"Bent-beak Riffraff\",\"Bent-beak Riffraff\",\"Bent-beak Riffraff\",\"Bent-beak Riffraff\",\"Bent-beak Riffraff\",\"Bent-beak Riffraff\",\"Bent-beak Riffraff\",\"Bent-beak Riffraff\",\"Bent-beak Riffraff\",\"Bent-beak Riffraff\",\"Bent-beak Riffraff\",\"Bent-beak Riffraff\",\"Bent-beak Riffraff\",\"Bent-beak Riffraff\",\"Bent-beak Riffraff\",\"Bent-beak Riffraff\",\"Bent-beak Riffraff\",\"Bent-beak Riffraff\",\"Bent-beak Riffraff\",\"Bent-beak Riffraff\",\"Bent-beak Riffraff\",\"Bent-beak Riffraff\"],\"x\":{\"__ndarray__\":\"l2lbwLQycMBdzYPA/GxUwBsNl8BtQILAj3mcwOUokcCUcovA0auOwM7tV8CtN1LAGq6QwNOedcBceZrA6Id7wNrKa8C4u0zAMuVJwLYBkMAIswPA4sl7wITwYcADwIfA5Dd2wBmGbsDNS3LAC+o4wNJAFEAIjj7ApjF/wD8kecBI/1nABlchwAAzf8B58aFA4wGPwESZk8A68XbAvsU/wDRqUcAkHYDAqtlMwMc/ksBwMiXAP9iJwLTfPMBE4HnAIBl9wKF0z7+MsE7AuzJHwIkUk8AKfnLATD6OwEXrkMCLIQnAuViIwHFhlsBQbyfAwgBmQI4rW8Api9a/rzxcwPyMVcA+6XbA7QCBwDOeiMD7zti/ygabQHVuqkA=\",\"dtype\":\"float32\",\"shape\":[71]},\"y\":{\"__ndarray__\":\"dTHyv4SsIzxr3i+/qbKivmBnNb41eXi/C+2ZPpUv7L5ozje/wO3dvpYc8r+jt9y/sd8Vv1qVc78hoTY+FJB6v2oag7/6+ru/DXaKv/T7CL/RuRDAdj0bP268pT8kTpS+26Abvx7sk79hFIO/Mj8CwAEKdMA5LSU8wc0Evxqxpr6Tqe+/ynFbP7l3Cb+r7VRAPusFv4FQDL9Rkka/gPWSvxDH4L+noiy/gNXXv3vQCr+cMDO/yVCrvhRuCb9JCVS/gyZ5v81ziz9Ymr6+QSo8v8ZOAb9iJ06/L9XyvmqzDb/6ShbA/5fbP9Ol574Ma8a+C2YcPwYm9r/UpqQ/njtEv283579t3GS/0f56vwrcCb++iqM/PM48QPY4RUA=\",\"dtype\":\"float32\",\"shape\":[71]}},\"selected\":{\"id\":\"db994b8c-c09e-4783-88d1-3588c4af9f24\",\"type\":\"Selection\"},\"selection_policy\":{\"id\":\"6ef94f9e-48b1-4233-9e14-445111a86cbc\",\"type\":\"UnionRenderers\"}},\"id\":\"70648fdc-cff8-4ee0-bac0-6351fc357b4d\",\"type\":\"ColumnDataSource\"},{\"attributes\":{\"data_source\":{\"id\":\"ec2adf8c-1856-4d71-869c-2b470d82e5cb\",\"type\":\"ColumnDataSource\"},\"glyph\":{\"id\":\"3e0d8962-6955-45ad-880d-9bc44a8ae64b\",\"type\":\"Circle\"},\"hover_glyph\":null,\"muted_glyph\":null,\"nonselection_glyph\":{\"id\":\"b37b243c-a2bf-40fd-b1ed-2843eae310ab\",\"type\":\"Circle\"},\"selection_glyph\":null,\"view\":{\"id\":\"c1c6e1d1-a836-4206-875c-e1555fa76b1e\",\"type\":\"CDSView\"}},\"id\":\"ce477593-4da8-4106-89ca-641728612daa\",\"type\":\"GlyphRenderer\"},{\"attributes\":{\"data_source\":{\"id\":\"7a57700a-266f-4108-a408-e70e42ee1d2f\",\"type\":\"ColumnDataSource\"},\"glyph\":{\"id\":\"63fae036-8f48-40a4-8a15-807cf665e864\",\"type\":\"Circle\"},\"hover_glyph\":null,\"muted_glyph\":null,\"nonselection_glyph\":{\"id\":\"995393fb-adda-4539-b295-8de385d665ef\",\"type\":\"Circle\"},\"selection_glyph\":null,\"view\":{\"id\":\"d12ae0c2-1ce2-4121-829c-cbc7ac578161\",\"type\":\"CDSView\"}},\"id\":\"977c08b5-bfd6-40f6-ab79-2ab712172925\",\"type\":\"GlyphRenderer\"},{\"attributes\":{\"label\":{\"value\":\"Rose-crested Blue Pipit\"},\"renderers\":[{\"id\":\"3e1ea6d7-d8a8-4727-8659-34b79eeaa795\",\"type\":\"GlyphRenderer\"}]},\"id\":\"fa7480de-0e10-4906-aae0-0886d1f3df4d\",\"type\":\"LegendItem\"},{\"attributes\":{\"fill_alpha\":{\"value\":0.1},\"fill_color\":{\"value\":\"#1f77b4\"},\"line_alpha\":{\"value\":0.1},\"line_color\":{\"value\":\"#1f77b4\"},\"size\":{\"units\":\"screen\",\"value\":5},\"x\":{\"field\":\"x\"},\"y\":{\"field\":\"y\"}},\"id\":\"f7954f41-7739-44b9-bc7e-821c9492143c\",\"type\":\"Circle\"},{\"attributes\":{},\"id\":\"c2b43f65-12df-4cf4-83d3-a6d8640b1fe1\",\"type\":\"PanTool\"},{\"attributes\":{\"label\":{\"value\":\"Scrawny Jay\"},\"renderers\":[{\"id\":\"85fc0526-f4f5-45f5-815e-cac4c6af950a\",\"type\":\"GlyphRenderer\"}]},\"id\":\"2869ca51-d310-4159-8a76-8d74b4b0ab50\",\"type\":\"LegendItem\"},{\"attributes\":{\"callback\":null,\"data\":{\"index\":[1295,1296,1297,1298,1299,1300,1301,1302,1303,1304,1305,1306,1307,1308,1309,1310,1311,1312,1313,1314,1315,1316,1317,1318,1319,1320,1321,1322,1323,1324,1325,1326,1327,1328,1329,1330,1331,1332,1333,1334,1335,1336,1337,1338,1339,1340,1341,1342,1343,1344,1345,1346,1347,1348,1349,1350,1351,1352,1353,1354,1355,1356,1357,1358,1359,1360,1361,1362,1363,1364,1365,1366,1367,1368,1369,1370,1371,1372,1373,1374,1375,1376,1377,1378,1379,1380,1381,1382,1383,1384,1385,1386,1387,1388],\"kasios_index\":{\"__ndarray__\":\"AAAAAAAA+H8AAAAAAAD4fwAAAAAAAPh/AAAAAAAA+H8AAAAAAAD4fwAAAAAAAPh/AAAAAAAA+H8AAAAAAAD4fwAAAAAAAPh/AAAAAAAA+H8AAAAAAAD4fwAAAAAAAPh/AAAAAAAA+H8AAAAAAAD4fwAAAAAAAPh/AAAAAAAA+H8AAAAAAAD4fwAAAAAAAPh/AAAAAAAA+H8AAAAAAAD4fwAAAAAAAPh/AAAAAAAA+H8AAAAAAAD4fwAAAAAAAPh/AAAAAAAA+H8AAAAAAAD4fwAAAAAAAPh/AAAAAAAA+H8AAAAAAAD4fwAAAAAAAPh/AAAAAAAA+H8AAAAAAAD4fwAAAAAAAPh/AAAAAAAA+H8AAAAAAAD4fwAAAAAAAPh/AAAAAAAA+H8AAAAAAAD4fwAAAAAAAPh/AAAAAAAA+H8AAAAAAAD4fwAAAAAAAPh/AAAAAAAA+H8AAAAAAAD4fwAAAAAAAPh/AAAAAAAA+H8AAAAAAAD4fwAAAAAAAPh/AAAAAAAA+H8AAAAAAAD4fwAAAAAAAPh/AAAAAAAA+H8AAAAAAAD4fwAAAAAAAPh/AAAAAAAA+H8AAAAAAAD4fwAAAAAAAPh/AAAAAAAA+H8AAAAAAAD4fwAAAAAAAPh/AAAAAAAA+H8AAAAAAAD4fwAAAAAAAPh/AAAAAAAA+H8AAAAAAAD4fwAAAAAAAPh/AAAAAAAA+H8AAAAAAAD4fwAAAAAAAPh/AAAAAAAA+H8AAAAAAAD4fwAAAAAAAPh/AAAAAAAA+H8AAAAAAAD4fwAAAAAAAPh/AAAAAAAA+H8AAAAAAAD4fwAAAAAAAPh/AAAAAAAA+H8AAAAAAAD4fwAAAAAAAPh/AAAAAAAA+H8AAAAAAAD4fwAAAAAAAPh/AAAAAAAA+H8AAAAAAAD4fwAAAAAAAPh/AAAAAAAA+H8AAAAAAAD4fwAAAAAAAPh/AAAAAAAA+H8AAAAAAAD4fwAAAAAAAPh/AAAAAAAA+H8=\",\"dtype\":\"float64\",\"shape\":[94]},\"specie\":[\"Ordinary Snape\",\"Ordinary Snape\",\"Ordinary Snape\",\"Ordinary Snape\",\"Ordinary Snape\",\"Ordinary Snape\",\"Ordinary Snape\",\"Ordinary Snape\",\"Ordinary Snape\",\"Ordinary Snape\",\"Ordinary Snape\",\"Ordinary Snape\",\"Ordinary Snape\",\"Ordinary Snape\",\"Ordinary Snape\",\"Ordinary Snape\",\"Ordinary Snape\",\"Ordinary Snape\",\"Ordinary Snape\",\"Ordinary Snape\",\"Ordinary Snape\",\"Ordinary Snape\",\"Ordinary Snape\",\"Ordinary Snape\",\"Ordinary Snape\",\"Ordinary Snape\",\"Ordinary Snape\",\"Ordinary Snape\",\"Ordinary Snape\",\"Ordinary Snape\",\"Ordinary Snape\",\"Ordinary Snape\",\"Ordinary Snape\",\"Ordinary Snape\",\"Ordinary Snape\",\"Ordinary Snape\",\"Ordinary Snape\",\"Ordinary Snape\",\"Ordinary Snape\",\"Ordinary Snape\",\"Ordinary Snape\",\"Ordinary Snape\",\"Ordinary Snape\",\"Ordinary Snape\",\"Ordinary Snape\",\"Ordinary Snape\",\"Ordinary Snape\",\"Ordinary Snape\",\"Ordinary Snape\",\"Ordinary Snape\",\"Ordinary Snape\",\"Ordinary Snape\",\"Ordinary Snape\",\"Ordinary Snape\",\"Ordinary Snape\",\"Ordinary Snape\",\"Ordinary Snape\",\"Ordinary Snape\",\"Ordinary Snape\",\"Ordinary Snape\",\"Ordinary Snape\",\"Ordinary Snape\",\"Ordinary Snape\",\"Ordinary Snape\",\"Ordinary Snape\",\"Ordinary Snape\",\"Ordinary Snape\",\"Ordinary Snape\",\"Ordinary Snape\",\"Ordinary Snape\",\"Ordinary Snape\",\"Ordinary Snape\",\"Ordinary Snape\",\"Ordinary Snape\",\"Ordinary Snape\",\"Ordinary Snape\",\"Ordinary Snape\",\"Ordinary Snape\",\"Ordinary Snape\",\"Ordinary Snape\",\"Ordinary Snape\",\"Ordinary Snape\",\"Ordinary Snape\",\"Ordinary Snape\",\"Ordinary Snape\",\"Ordinary Snape\",\"Ordinary Snape\",\"Ordinary Snape\",\"Ordinary Snape\",\"Ordinary Snape\",\"Ordinary Snape\",\"Ordinary Snape\",\"Ordinary Snape\",\"Ordinary Snape\"],\"x\":{\"__ndarray__\":\"5iHMP6PISMAoxdI/MBryP94BvT/VnrtAF7EeQIR83z8YqplAljIGQFsc6r/rKFVA9GTtP7bmrkAOTgnAtjVfv5qe3j7SXNQ/+z71P22U1z/Vww7AGZYNP3rlk0DO1388oCT/P9CjpD/5bmG/ZfhLQCdv+j+HFzC9pVanP77iHkBPR8w/jgOrQIDzvEAONadAZ6YLQNGba8BImss/gwsPQOMm3j+lOdm/CWuxPu+4CkBEgxDA8ea6P5tAYEBm8X++6Uasvw8rjT98hPw+P38KQHgCv0CDkJg/POWmQFBczr/HW3BAaB2HQHR4BD+vPi3AC0kSwBJw0z/6sadAjcVJQEg/wz+KJRZA+5aYvy7mr7/aHYBA177qPv7NpD5BVTe/ODNFQPYxYUAVtR3AtDLrv8qPskBlD+A/eo22v12NTEAWXuG/o0XNPypIo0ASL9a+Rjm+P6WN3T+RDTZA3RWQwOu9QkDspJo/+clMQDHxmD5TUNG/rNl3wA==\",\"dtype\":\"float32\",\"shape\":[94]},\"y\":{\"__ndarray__\":\"5TEXwEGwrT9AgFLAI5T+v6rRIcD7tng/9EPov9AIO8Ap7oU/+hgXwLhiQsAaGy3Ac2vHv8MeFL77r62/5aqQv2duO8CNwQ7Ag7M5wOx8JcBKfIK/hc80wDFJPUC5a0PA17oOwAmeKMBFfkLAwBs1wBJxOcD0c0LAvG9IwNTc2L9qhBfA0mZSP0bNAUAGQ18/TtAovmnD6T+QOM2/7J5Fv8U0ur+SzjC/IiVDwLRPzL+89u2+ErEMwGYmD7/wjE6/tfgnwCBdLMBOSjPA91gePt+EoT6VKB7AeFxXPt3HE77ZfnA/IkK7PvaiM8AfZyi/wulZQMDC3r+5vXk+UJ0hwEvSOMC1RFw9QAOYv8zkOsBpn00/c+vDv2ZDOsC1XYG/XrlIv3bU+75s6Ti/I/e9PgAr3T9SpMO/ncGBv4OGK8BSZ9M/huggv0PdaT9uZUPA1gjDv98eWT0igSzAj2vZP0IFtr9n/xzAhpS/P8+xlr9U4z5AI4iRPw==\",\"dtype\":\"float32\",\"shape\":[94]}},\"selected\":{\"id\":\"4c7ef1cb-a2cd-4480-a1d3-aafb74558946\",\"type\":\"Selection\"},\"selection_policy\":{\"id\":\"e9527fa3-894f-45ff-b925-3c281fc07e53\",\"type\":\"UnionRenderers\"}},\"id\":\"d37f56ad-ee9f-4371-a8e1-0955823e0b54\",\"type\":\"ColumnDataSource\"},{\"attributes\":{\"factors\":[\"Rose-crested Blue Pipit\",\"Blue-collared Zipper\",\"Bombadil\",\"Broad-winged Jojo\",\"Canadian Cootamum\",\"Carries Champagne Pipit\",\"Darkwing Sparrow\",\"Eastern Corn Skeet\",\"Green-tipped Scarlet Pipit\",\"Lesser Birchbeere\",\"Orange Pine Plover\",\"Ordinary Snape\",\"Pinkfinch\",\"Purple Tooting Tout\",\"Qax\",\"Queenscoat\",\"Bent-beak Riffraff\",\"Scrawny Jay\",\"Vermillion Trillian\",\"Kasios Test Bird\"],\"palette\":[\"#1f77b4\",\"#aec7e8\",\"#ff7f0e\",\"#ffbb78\",\"#2ca02c\",\"#98df8a\",\"#d62728\",\"#ff9896\",\"#9467bd\",\"#c5b0d5\",\"#8c564b\",\"#c49c94\",\"#e377c2\",\"#f7b6d2\",\"#7f7f7f\",\"#c7c7c7\",\"#bcbd22\",\"#dbdb8d\",\"#17becf\",\"#9edae5\"]},\"id\":\"1ded21f3-8849-4f11-ac6d-baf80486c3fe\",\"type\":\"CategoricalColorMapper\"},{\"attributes\":{},\"id\":\"8c47da66-ff8b-44a5-b00f-151965c69b32\",\"type\":\"BasicTicker\"},{\"attributes\":{\"source\":{\"id\":\"d4204ca0-8619-4c7c-a6c0-385cbd2da53c\",\"type\":\"ColumnDataSource\"}},\"id\":\"3917c47d-6ca3-4d9e-93bd-ca840ae03faa\",\"type\":\"CDSView\"},{\"attributes\":{},\"id\":\"27582ebc-cabf-40fc-ae2e-c530b8db3ad1\",\"type\":\"Selection\"},{\"attributes\":{\"label\":{\"value\":\"Canadian Cootamum\"},\"renderers\":[{\"id\":\"2f38bb05-263e-4864-8807-9979fa47d350\",\"type\":\"GlyphRenderer\"}]},\"id\":\"188827e9-4769-4109-ae82-d9b53a16dc90\",\"type\":\"LegendItem\"},{\"attributes\":{\"callback\":null,\"data\":{\"index\":[1983,1984,1985,1986,1987,1988,1989,1990,1991,1992,1993,1994,1995,1996,1997,1998,1999,2000,2001,2002,2003,2004,2005,2006,2007,2008,2009,2010,2011,2012,2013,2014,2015,2016,2017,2018,2019,2020,2021,2022,2023,2024,2025,2026,2027,2028,2029,2030,2031,2032,2033,2034,2035,2036,2037,2038,2039,2040,2041,2042,2043,2044,2045,2046,2047,2048,2049,2050,2051,2052,2053,2054,2055,2056,2057,2058,2059,2060,2061,2062,2063,2064,2065,2066],\"kasios_index\":{\"__ndarray__\":\"AAAAAAAA+H8AAAAAAAD4fwAAAAAAAPh/AAAAAAAA+H8AAAAAAAD4fwAAAAAAAPh/AAAAAAAA+H8AAAAAAAD4fwAAAAAAAPh/AAAAAAAA+H8AAAAAAAD4fwAAAAAAAPh/AAAAAAAA+H8AAAAAAAD4fwAAAAAAAPh/AAAAAAAA+H8AAAAAAAD4fwAAAAAAAPh/AAAAAAAA+H8AAAAAAAD4fwAAAAAAAPh/AAAAAAAA+H8AAAAAAAD4fwAAAAAAAPh/AAAAAAAA+H8AAAAAAAD4fwAAAAAAAPh/AAAAAAAA+H8AAAAAAAD4fwAAAAAAAPh/AAAAAAAA+H8AAAAAAAD4fwAAAAAAAPh/AAAAAAAA+H8AAAAAAAD4fwAAAAAAAPh/AAAAAAAA+H8AAAAAAAD4fwAAAAAAAPh/AAAAAAAA+H8AAAAAAAD4fwAAAAAAAPh/AAAAAAAA+H8AAAAAAAD4fwAAAAAAAPh/AAAAAAAA+H8AAAAAAAD4fwAAAAAAAPh/AAAAAAAA+H8AAAAAAAD4fwAAAAAAAPh/AAAAAAAA+H8AAAAAAAD4fwAAAAAAAPh/AAAAAAAA+H8AAAAAAAD4fwAAAAAAAPh/AAAAAAAA+H8AAAAAAAD4fwAAAAAAAPh/AAAAAAAA+H8AAAAAAAD4fwAAAAAAAPh/AAAAAAAA+H8AAAAAAAD4fwAAAAAAAPh/AAAAAAAA+H8AAAAAAAD4fwAAAAAAAPh/AAAAAAAA+H8AAAAAAAD4fwAAAAAAAPh/AAAAAAAA+H8AAAAAAAD4fwAAAAAAAPh/AAAAAAAA+H8AAAAAAAD4fwAAAAAAAPh/AAAAAAAA+H8AAAAAAAD4fwAAAAAAAPh/AAAAAAAA+H8AAAAAAAD4fwAAAAAAAPh/\",\"dtype\":\"float64\",\"shape\":[84]},\"specie\":[\"Vermillion Trillian\",\"Vermillion Trillian\",\"Vermillion Trillian\",\"Vermillion Trillian\",\"Vermillion Trillian\",\"Vermillion Trillian\",\"Vermillion Trillian\",\"Vermillion Trillian\",\"Vermillion Trillian\",\"Vermillion Trillian\",\"Vermillion Trillian\",\"Vermillion Trillian\",\"Vermillion Trillian\",\"Vermillion Trillian\",\"Vermillion Trillian\",\"Vermillion Trillian\",\"Vermillion Trillian\",\"Vermillion Trillian\",\"Vermillion Trillian\",\"Vermillion Trillian\",\"Vermillion Trillian\",\"Vermillion Trillian\",\"Vermillion Trillian\",\"Vermillion Trillian\",\"Vermillion Trillian\",\"Vermillion Trillian\",\"Vermillion Trillian\",\"Vermillion Trillian\",\"Vermillion Trillian\",\"Vermillion Trillian\",\"Vermillion Trillian\",\"Vermillion Trillian\",\"Vermillion Trillian\",\"Vermillion Trillian\",\"Vermillion Trillian\",\"Vermillion Trillian\",\"Vermillion Trillian\",\"Vermillion Trillian\",\"Vermillion Trillian\",\"Vermillion Trillian\",\"Vermillion Trillian\",\"Vermillion Trillian\",\"Vermillion Trillian\",\"Vermillion Trillian\",\"Vermillion Trillian\",\"Vermillion Trillian\",\"Vermillion Trillian\",\"Vermillion Trillian\",\"Vermillion Trillian\",\"Vermillion Trillian\",\"Vermillion Trillian\",\"Vermillion Trillian\",\"Vermillion Trillian\",\"Vermillion Trillian\",\"Vermillion Trillian\",\"Vermillion Trillian\",\"Vermillion Trillian\",\"Vermillion Trillian\",\"Vermillion Trillian\",\"Vermillion Trillian\",\"Vermillion Trillian\",\"Vermillion Trillian\",\"Vermillion Trillian\",\"Vermillion Trillian\",\"Vermillion Trillian\",\"Vermillion Trillian\",\"Vermillion Trillian\",\"Vermillion Trillian\",\"Vermillion Trillian\",\"Vermillion Trillian\",\"Vermillion Trillian\",\"Vermillion Trillian\",\"Vermillion Trillian\",\"Vermillion Trillian\",\"Vermillion Trillian\",\"Vermillion Trillian\",\"Vermillion Trillian\",\"Vermillion Trillian\",\"Vermillion Trillian\",\"Vermillion Trillian\",\"Vermillion Trillian\",\"Vermillion Trillian\",\"Vermillion Trillian\",\"Vermillion Trillian\"],\"x\":{\"__ndarray__\":\"yiFjwFuDgsB4T6nALZOpwL4Rt8AaOVDALE73vy98DMCdMVXAsBiOwF7kp8DD+wPAj+JBwPQegMCNSBHA/0CowEaXPMAIrDrA4OtjwK0LLsA3yjPAjZdcwOHKgcAR+GvAsiR1wNFXUcDUAWvAPg+RwPsMUMBYyyTAL5YIwNqzf8BvGZnAedBJwAY0CcD6u0/AQfCqQO/Szz+4833AYROEwG4HasARCUbA8QiVwCcXRMD321PAUbILwMrpOcAfXZPAk+I5wMVchMC12JzAwLdQwFCHg8BWVYjA/5dQwG0sAcD4nJdA/lSRwAh2MMBiWoLAav2BwIkeXMCPioDAhLCbv6AWOMAo66zAHjcswM00H8DMSyDAFZoCwJ/3F8CjAkDACwyTQCOgU8Ap0MG/6f13wBPlP8CMKgXAEiOFwEvLZcCcM0PAHOQLwPFTC8CPD3PA\",\"dtype\":\"float32\",\"shape\":[84]},\"y\":{\"__ndarray__\":\"lXSXQCtbbkDEpTVAftH3PlQ7BD+MhnNA26qJQFvsX7+H64NAugqMQOMVSUC8CiW8CXqeQOf9fUBmso5AJVnJPmtrnkBF5ZtAVP8/QG0EcECiQ21AxtSUQKLxkkB/HWVA0FElQKl5aUAVSaE/8fUGQOyDZUA+2oBAW8RhQPITREDobgNADBHjPnWfhUCE92hA6IMFQCMOCb+4VkVA0X2QQAQfjUDGaZxA9F8HQF4BikAYcY1AqERhQHNPkUDyQTg+9y+cQGmcj0B+i21A+65xQAfwi0CzQYpAOe2AQJAHWkCPqZg/Oz5wQG5ma0AQZR1AqUgmQC/paUDRYndAWrPvv+ICmkAKMqA+80owQDhRLkBjci1A3xFmQKeZU0DUUT5A8PRWQMScZkDI8jLAGgpxQAJjdUCsj4BAhll9P8o+FUC2IZ5ApxN7QIohZUBYr7Q/\",\"dtype\":\"float32\",\"shape\":[84]}},\"selected\":{\"id\":\"e179f47a-534b-40bc-bce9-2ae6d83f3616\",\"type\":\"Selection\"},\"selection_policy\":{\"id\":\"24b33d23-1ae9-4f70-a86a-10155e83ca95\",\"type\":\"UnionRenderers\"}},\"id\":\"a92ff11d-9fc5-4e0e-a388-e9b7e89894ba\",\"type\":\"ColumnDataSource\"},{\"attributes\":{\"label\":{\"value\":\"Broad-winged Jojo\"},\"renderers\":[{\"id\":\"897177de-417c-4a72-b1f3-eb94196c0f82\",\"type\":\"GlyphRenderer\"}]},\"id\":\"5d7232d0-cebd-40cc-b453-ada64356017c\",\"type\":\"LegendItem\"},{\"attributes\":{\"fill_alpha\":{\"value\":0.6},\"fill_color\":{\"field\":\"specie\",\"transform\":{\"id\":\"1ded21f3-8849-4f11-ac6d-baf80486c3fe\",\"type\":\"CategoricalColorMapper\"}},\"line_alpha\":{\"value\":0.6},\"line_color\":{\"field\":\"specie\",\"transform\":{\"id\":\"1ded21f3-8849-4f11-ac6d-baf80486c3fe\",\"type\":\"CategoricalColorMapper\"}},\"size\":{\"units\":\"screen\",\"value\":5},\"x\":{\"field\":\"x\"},\"y\":{\"field\":\"y\"}},\"id\":\"a4ee2838-6450-4b9b-b50f-c0515132c275\",\"type\":\"Circle\"},{\"attributes\":{\"data_source\":{\"id\":\"5fa455f5-f2bd-4ea3-8c60-b9069b9b6267\",\"type\":\"ColumnDataSource\"},\"glyph\":{\"id\":\"b9f82cf6-5626-479c-8408-4c063a8211ca\",\"type\":\"Circle\"},\"hover_glyph\":null,\"muted_glyph\":null,\"nonselection_glyph\":{\"id\":\"9e77b697-4d76-4089-a819-1d555c323ada\",\"type\":\"Circle\"},\"selection_glyph\":null,\"view\":{\"id\":\"578efa8b-e91a-4e08-84d4-f28485970c28\",\"type\":\"CDSView\"}},\"id\":\"a93f52d8-3f1e-47f7-b1af-f2f0111d5698\",\"type\":\"GlyphRenderer\"},{\"attributes\":{\"label\":{\"value\":\"Carries Champagne Pipit\"},\"renderers\":[{\"id\":\"ce477593-4da8-4106-89ca-641728612daa\",\"type\":\"GlyphRenderer\"}]},\"id\":\"aef0b290-4269-4668-a878-c302800414be\",\"type\":\"LegendItem\"},{\"attributes\":{},\"id\":\"9d5c5a4e-e6bb-4624-a1ec-14e2937e434e\",\"type\":\"LinearScale\"},{\"attributes\":{\"label\":{\"value\":\"Eastern Corn Skeet\"},\"renderers\":[{\"id\":\"6f966793-2d7f-4e3a-93ed-3ebc409326b4\",\"type\":\"GlyphRenderer\"}]},\"id\":\"2cae3c35-9797-42aa-a7ed-48b09e620b8d\",\"type\":\"LegendItem\"},{\"attributes\":{\"callback\":null,\"data\":{\"index\":[253,254,255,256,257,258,259,260,261,262,263,264,265,266,267,268,269,270,271,272,273,274,275,276,277,278,279,280,281,282,283,284,285,286,287,288,289,290,291,292,293,294,295,296,297,298,299,300,301,302,303,304,305,306,307,308,309,310,311,312,313,314,315,316,317,318,319,320,321,322,323,324,325,326,327,328,329,330,331,332,333,334,335,336,337,338,339,340,341,342,343,344,345,346,347,348,349,350,351,352,353,354,355,356,357,358,359,360,361,362,363,364,365,366,367,368,369,370,371,372,373,374,375,376,377,378,379,380,381,382,383,384,385,386,387,388,389],\"kasios_index\":{\"__ndarray__\":\"AAAAAAAA+H8AAAAAAAD4fwAAAAAAAPh/AAAAAAAA+H8AAAAAAAD4fwAAAAAAAPh/AAAAAAAA+H8AAAAAAAD4fwAAAAAAAPh/AAAAAAAA+H8AAAAAAAD4fwAAAAAAAPh/AAAAAAAA+H8AAAAAAAD4fwAAAAAAAPh/AAAAAAAA+H8AAAAAAAD4fwAAAAAAAPh/AAAAAAAA+H8AAAAAAAD4fwAAAAAAAPh/AAAAAAAA+H8AAAAAAAD4fwAAAAAAAPh/AAAAAAAA+H8AAAAAAAD4fwAAAAAAAPh/AAAAAAAA+H8AAAAAAAD4fwAAAAAAAPh/AAAAAAAA+H8AAAAAAAD4fwAAAAAAAPh/AAAAAAAA+H8AAAAAAAD4fwAAAAAAAPh/AAAAAAAA+H8AAAAAAAD4fwAAAAAAAPh/AAAAAAAA+H8AAAAAAAD4fwAAAAAAAPh/AAAAAAAA+H8AAAAAAAD4fwAAAAAAAPh/AAAAAAAA+H8AAAAAAAD4fwAAAAAAAPh/AAAAAAAA+H8AAAAAAAD4fwAAAAAAAPh/AAAAAAAA+H8AAAAAAAD4fwAAAAAAAPh/AAAAAAAA+H8AAAAAAAD4fwAAAAAAAPh/AAAAAAAA+H8AAAAAAAD4fwAAAAAAAPh/AAAAAAAA+H8AAAAAAAD4fwAAAAAAAPh/AAAAAAAA+H8AAAAAAAD4fwAAAAAAAPh/AAAAAAAA+H8AAAAAAAD4fwAAAAAAAPh/AAAAAAAA+H8AAAAAAAD4fwAAAAAAAPh/AAAAAAAA+H8AAAAAAAD4fwAAAAAAAPh/AAAAAAAA+H8AAAAAAAD4fwAAAAAAAPh/AAAAAAAA+H8AAAAAAAD4fwAAAAAAAPh/AAAAAAAA+H8AAAAAAAD4fwAAAAAAAPh/AAAAAAAA+H8AAAAAAAD4fwAAAAAAAPh/AAAAAAAA+H8AAAAAAAD4fwAAAAAAAPh/AAAAAAAA+H8AAAAAAAD4fwAAAAAAAPh/AAAAAAAA+H8AAAAAAAD4fwAAAAAAAPh/AAAAAAAA+H8AAAAAAAD4fwAAAAAAAPh/AAAAAAAA+H8AAAAAAAD4fwAAAAAAAPh/AAAAAAAA+H8AAAAAAAD4fwAAAAAAAPh/AAAAAAAA+H8AAAAAAAD4fwAAAAAAAPh/AAAAAAAA+H8AAAAAAAD4fwAAAAAAAPh/AAAAAAAA+H8AAAAAAAD4fwAAAAAAAPh/AAAAAAAA+H8AAAAAAAD4fwAAAAAAAPh/AAAAAAAA+H8AAAAAAAD4fwAAAAAAAPh/AAAAAAAA+H8AAAAAAAD4fwAAAAAAAPh/AAAAAAAA+H8AAAAAAAD4fwAAAAAAAPh/AAAAAAAA+H8AAAAAAAD4fwAAAAAAAPh/AAAAAAAA+H8AAAAAAAD4fwAAAAAAAPh/AAAAAAAA+H8AAAAAAAD4fwAAAAAAAPh/AAAAAAAA+H8AAAAAAAD4fw==\",\"dtype\":\"float64\",\"shape\":[137]},\"specie\":[\"Bombadil\",\"Bombadil\",\"Bombadil\",\"Bombadil\",\"Bombadil\",\"Bombadil\",\"Bombadil\",\"Bombadil\",\"Bombadil\",\"Bombadil\",\"Bombadil\",\"Bombadil\",\"Bombadil\",\"Bombadil\",\"Bombadil\",\"Bombadil\",\"Bombadil\",\"Bombadil\",\"Bombadil\",\"Bombadil\",\"Bombadil\",\"Bombadil\",\"Bombadil\",\"Bombadil\",\"Bombadil\",\"Bombadil\",\"Bombadil\",\"Bombadil\",\"Bombadil\",\"Bombadil\",\"Bombadil\",\"Bombadil\",\"Bombadil\",\"Bombadil\",\"Bombadil\",\"Bombadil\",\"Bombadil\",\"Bombadil\",\"Bombadil\",\"Bombadil\",\"Bombadil\",\"Bombadil\",\"Bombadil\",\"Bombadil\",\"Bombadil\",\"Bombadil\",\"Bombadil\",\"Bombadil\",\"Bombadil\",\"Bombadil\",\"Bombadil\",\"Bombadil\",\"Bombadil\",\"Bombadil\",\"Bombadil\",\"Bombadil\",\"Bombadil\",\"Bombadil\",\"Bombadil\",\"Bombadil\",\"Bombadil\",\"Bombadil\",\"Bombadil\",\"Bombadil\",\"Bombadil\",\"Bombadil\",\"Bombadil\",\"Bombadil\",\"Bombadil\",\"Bombadil\",\"Bombadil\",\"Bombadil\",\"Bombadil\",\"Bombadil\",\"Bombadil\",\"Bombadil\",\"Bombadil\",\"Bombadil\",\"Bombadil\",\"Bombadil\",\"Bombadil\",\"Bombadil\",\"Bombadil\",\"Bombadil\",\"Bombadil\",\"Bombadil\",\"Bombadil\",\"Bombadil\",\"Bombadil\",\"Bombadil\",\"Bombadil\",\"Bombadil\",\"Bombadil\",\"Bombadil\",\"Bombadil\",\"Bombadil\",\"Bombadil\",\"Bombadil\",\"Bombadil\",\"Bombadil\",\"Bombadil\",\"Bombadil\",\"Bombadil\",\"Bombadil\",\"Bombadil\",\"Bombadil\",\"Bombadil\",\"Bombadil\",\"Bombadil\",\"Bombadil\",\"Bombadil\",\"Bombadil\",\"Bombadil\",\"Bombadil\",\"Bombadil\",\"Bombadil\",\"Bombadil\",\"Bombadil\",\"Bombadil\",\"Bombadil\",\"Bombadil\",\"Bombadil\",\"Bombadil\",\"Bombadil\",\"Bombadil\",\"Bombadil\",\"Bombadil\",\"Bombadil\",\"Bombadil\",\"Bombadil\",\"Bombadil\",\"Bombadil\",\"Bombadil\",\"Bombadil\",\"Bombadil\",\"Bombadil\",\"Bombadil\"],\"x\":{\"__ndarray__\":\"H0AEwMTNpcAN5QrA40E+wONxXsCKEK3AhJGHwBOWAUAu2mrA712lwO2P4b9abY3A/mbTv+5sTsCzdZ/A0huJwNJ/M8BKDAm/uRqtwMm8ocD1o6PAoSqZwAaZqsCEJ7LAHY2QwOdUWMAgnBzAw8mowAq9scDxKdW+wtklQOgxd8DIUILAIN6kwHauXsAyCIXAccSdvzvwCMDonyfA90SswENvmsDpOJvAqA9sQD9EGcDdO3jAbO7Tv1xKJ0C3RgrAk+uawHeLgsDizoPAFOYzwJoaLcCT9i+/Kn99wPOYtr8oWpTAx84XvwwRjb9o5p3A411TwDI+NMAlrc4/cxZewO7UrMCiDDvAqp1TwFP+hkAyhJu/9XsVPgboksB8Ds6/TFRnwGCascAryq7AcHR0wGzUicCxZKrA+hhJwOzXC0DuTkVAyLsyPy6RPsD2NEzANKNEwGOJWsBX7knAdWFIwCYpTMA16v+/CB3Rv3PgTsCCrGTA5OMHwL4wCsB5463AU/RdwFt7ZcCyAa3AsMGtwOI0FsAX2qvAXm+qwIE1hr/6ZTnAIlVbwGM+RkDJOX3AmTWjv+NWwj/CFGPA9KSYwMqQF8DwT31A/bKnwDZRUcC6/tC/htWpQB44psCNM4PA5u1nwLKZIsDB5RFAjMBtP9LcQsAxFVpA3WD0v1tgBEDHbAzAsYfIvx/Ex79z34bAdQliwIDONMDoL2jAZPLmv/O9FcA=\",\"dtype\":\"float32\",\"shape\":[137]},\"y\":{\"__ndarray__\":\"4xxFQCnktj9uhTVAfK8eQALOR0CXxik/06SovucUm784hhk/UFmtPqAPsT+tUAK9jaRLwEBDJD6e/hlA0SlWP174Z7+L3kfAZJePP6ONCUAo+glAYxQRQGKMEz5GEKs+Mv07Pp4eRT34GZO88MC/PwfdsT7H3KW/lxszwGeSzj+IyDtAXEhaPvgeQkDgEAE/mLwvwMfEsb9nV4G/l+KXP2/kCT5Bx8o/ZQ+pPf0gpr/lWN4/5i1hv9NAM78RgLO/ikgTPupI9z8SfzdAYZ63P4Qij79CH9S/nrzJP6GhRr7J4yc+HLDIvw7bOcA3AHW+1VgqvgHVwr71VgHA5fB4PuQSuD+36xlAq16BQNsYDT/KizrAYPkbwIChH0Ce2UnAziPcvyI7sD72UcM+iT7gPy4kAUA4hBY/Kf2eP3dMe7/NcYW/ARE4v1VtG0AZ9VxALyxXQBag7T9A4tM/B8WgPwXYNUCHqIs/D6BaQMohAUAD4ko+JKJmv6lKhL97sqU+FfyWPz0Riz8pOvU+sBCvPpZtS0AdrxE/wErePvx4xb2nKjQ+bD1tPxaVyj+HAeo/oKJovhG8lbtUqPw/d2wSQDKc575vJw4+yacoPxAbwz+DlLQ/fA8rQHRzDj5Al8c/hc+gP/U2Z75V9h0+15iTvwSzZj8JK3y/31kAQIReWjvoI1G/A+RzQL1bXUCdAY4/slIeQKM6P0AUeYY/F+meP+vGbj8=\",\"dtype\":\"float32\",\"shape\":[137]}},\"selected\":{\"id\":\"495fdc6f-1800-4cdc-8d61-f4ffc56a2abc\",\"type\":\"Selection\"},\"selection_policy\":{\"id\":\"c679b562-6d93-4cf6-b77b-0e8f69626c22\",\"type\":\"UnionRenderers\"}},\"id\":\"f2f23917-39d3-42d9-b637-33ed48189cac\",\"type\":\"ColumnDataSource\"},{\"attributes\":{\"label\":{\"value\":\"Darkwing Sparrow\"},\"renderers\":[{\"id\":\"965a7a9f-d4b2-465a-b0ef-8c28ea0396b1\",\"type\":\"GlyphRenderer\"}]},\"id\":\"93074675-f023-464e-8c98-d24f4a85abd3\",\"type\":\"LegendItem\"},{\"attributes\":{\"fill_alpha\":{\"value\":0.1},\"fill_color\":{\"value\":\"#1f77b4\"},\"line_alpha\":{\"value\":0.1},\"line_color\":{\"value\":\"#1f77b4\"},\"size\":{\"units\":\"screen\",\"value\":5},\"x\":{\"field\":\"x\"},\"y\":{\"field\":\"y\"}},\"id\":\"b37b243c-a2bf-40fd-b1ed-2843eae310ab\",\"type\":\"Circle\"},{\"attributes\":{\"label\":{\"value\":\"Green-tipped Scarlet Pipit\"},\"renderers\":[{\"id\":\"8b7964b9-7233-4674-af5c-ebc68c460ecc\",\"type\":\"GlyphRenderer\"}]},\"id\":\"24d2b3ce-8217-4020-8c17-90ac849bcdc1\",\"type\":\"LegendItem\"},{\"attributes\":{\"fill_alpha\":{\"value\":0.6},\"fill_color\":{\"field\":\"specie\",\"transform\":{\"id\":\"1ded21f3-8849-4f11-ac6d-baf80486c3fe\",\"type\":\"CategoricalColorMapper\"}},\"line_alpha\":{\"value\":0.6},\"line_color\":{\"field\":\"specie\",\"transform\":{\"id\":\"1ded21f3-8849-4f11-ac6d-baf80486c3fe\",\"type\":\"CategoricalColorMapper\"}},\"size\":{\"units\":\"screen\",\"value\":5},\"x\":{\"field\":\"x\"},\"y\":{\"field\":\"y\"}},\"id\":\"b9f82cf6-5626-479c-8408-4c063a8211ca\",\"type\":\"Circle\"},{\"attributes\":{\"label\":{\"value\":\"Orange Pine Plover\"},\"renderers\":[{\"id\":\"e968d1d2-1cc0-4b2b-accc-223385c1f803\",\"type\":\"GlyphRenderer\"}]},\"id\":\"8029e971-6d78-49ac-8083-707fd26301f5\",\"type\":\"LegendItem\"},{\"attributes\":{\"fill_alpha\":{\"value\":0.6},\"fill_color\":{\"field\":\"specie\",\"transform\":{\"id\":\"1ded21f3-8849-4f11-ac6d-baf80486c3fe\",\"type\":\"CategoricalColorMapper\"}},\"line_alpha\":{\"value\":0.6},\"line_color\":{\"field\":\"specie\",\"transform\":{\"id\":\"1ded21f3-8849-4f11-ac6d-baf80486c3fe\",\"type\":\"CategoricalColorMapper\"}},\"size\":{\"units\":\"screen\",\"value\":5},\"x\":{\"field\":\"x\"},\"y\":{\"field\":\"y\"}},\"id\":\"ad873600-c9d3-4af3-b213-571fcd5ac38b\",\"type\":\"Circle\"},{\"attributes\":{\"label\":{\"value\":\"Lesser Birchbeere\"},\"renderers\":[{\"id\":\"40628f02-b6b8-4f7a-9653-179d9ae3a5da\",\"type\":\"GlyphRenderer\"}]},\"id\":\"fdfa7d44-a793-48a7-8415-0118e89953b9\",\"type\":\"LegendItem\"},{\"attributes\":{\"fill_alpha\":{\"value\":0.1},\"fill_color\":{\"value\":\"#1f77b4\"},\"line_alpha\":{\"value\":0.1},\"line_color\":{\"value\":\"#1f77b4\"},\"size\":{\"units\":\"screen\",\"value\":5},\"x\":{\"field\":\"x\"},\"y\":{\"field\":\"y\"}},\"id\":\"e57e6396-b8f4-490c-b69a-27b781ef9cfc\",\"type\":\"Circle\"},{\"attributes\":{\"callback\":null,\"data\":{\"index\":[843,844,845,846,847,848,849,850,851,852,853,854,855,856,857,858,859,860,861,862,863,864,865,866,867,868,869,870,871,872,873,874,875,876,877,878,879,880,881,882,883,884,885,886,887,888,889,890,891,892,893,894,895,896,897,898,899,900,901,902,903,904,905,906,907,908,909,910,911,912,913,914,915,916,917,918,919,920,921,922,923,924,925,926,927,928,929],\"kasios_index\":{\"__ndarray__\":\"AAAAAAAA+H8AAAAAAAD4fwAAAAAAAPh/AAAAAAAA+H8AAAAAAAD4fwAAAAAAAPh/AAAAAAAA+H8AAAAAAAD4fwAAAAAAAPh/AAAAAAAA+H8AAAAAAAD4fwAAAAAAAPh/AAAAAAAA+H8AAAAAAAD4fwAAAAAAAPh/AAAAAAAA+H8AAAAAAAD4fwAAAAAAAPh/AAAAAAAA+H8AAAAAAAD4fwAAAAAAAPh/AAAAAAAA+H8AAAAAAAD4fwAAAAAAAPh/AAAAAAAA+H8AAAAAAAD4fwAAAAAAAPh/AAAAAAAA+H8AAAAAAAD4fwAAAAAAAPh/AAAAAAAA+H8AAAAAAAD4fwAAAAAAAPh/AAAAAAAA+H8AAAAAAAD4fwAAAAAAAPh/AAAAAAAA+H8AAAAAAAD4fwAAAAAAAPh/AAAAAAAA+H8AAAAAAAD4fwAAAAAAAPh/AAAAAAAA+H8AAAAAAAD4fwAAAAAAAPh/AAAAAAAA+H8AAAAAAAD4fwAAAAAAAPh/AAAAAAAA+H8AAAAAAAD4fwAAAAAAAPh/AAAAAAAA+H8AAAAAAAD4fwAAAAAAAPh/AAAAAAAA+H8AAAAAAAD4fwAAAAAAAPh/AAAAAAAA+H8AAAAAAAD4fwAAAAAAAPh/AAAAAAAA+H8AAAAAAAD4fwAAAAAAAPh/AAAAAAAA+H8AAAAAAAD4fwAAAAAAAPh/AAAAAAAA+H8AAAAAAAD4fwAAAAAAAPh/AAAAAAAA+H8AAAAAAAD4fwAAAAAAAPh/AAAAAAAA+H8AAAAAAAD4fwAAAAAAAPh/AAAAAAAA+H8AAAAAAAD4fwAAAAAAAPh/AAAAAAAA+H8AAAAAAAD4fwAAAAAAAPh/AAAAAAAA+H8AAAAAAAD4fwAAAAAAAPh/AAAAAAAA+H8AAAAAAAD4fwAAAAAAAPh/\",\"dtype\":\"float64\",\"shape\":[87]},\"specie\":[\"Green-tipped Scarlet Pipit\",\"Green-tipped Scarlet Pipit\",\"Green-tipped Scarlet Pipit\",\"Green-tipped Scarlet Pipit\",\"Green-tipped Scarlet Pipit\",\"Green-tipped Scarlet Pipit\",\"Green-tipped Scarlet Pipit\",\"Green-tipped Scarlet Pipit\",\"Green-tipped Scarlet Pipit\",\"Green-tipped Scarlet Pipit\",\"Green-tipped Scarlet Pipit\",\"Green-tipped Scarlet Pipit\",\"Green-tipped Scarlet Pipit\",\"Green-tipped Scarlet Pipit\",\"Green-tipped Scarlet Pipit\",\"Green-tipped Scarlet Pipit\",\"Green-tipped Scarlet Pipit\",\"Green-tipped Scarlet Pipit\",\"Green-tipped Scarlet Pipit\",\"Green-tipped Scarlet Pipit\",\"Green-tipped Scarlet Pipit\",\"Green-tipped Scarlet Pipit\",\"Green-tipped Scarlet Pipit\",\"Green-tipped Scarlet Pipit\",\"Green-tipped Scarlet Pipit\",\"Green-tipped Scarlet Pipit\",\"Green-tipped Scarlet Pipit\",\"Green-tipped Scarlet Pipit\",\"Green-tipped Scarlet Pipit\",\"Green-tipped Scarlet Pipit\",\"Green-tipped Scarlet Pipit\",\"Green-tipped Scarlet Pipit\",\"Green-tipped Scarlet Pipit\",\"Green-tipped Scarlet Pipit\",\"Green-tipped Scarlet Pipit\",\"Green-tipped Scarlet Pipit\",\"Green-tipped Scarlet Pipit\",\"Green-tipped Scarlet Pipit\",\"Green-tipped Scarlet Pipit\",\"Green-tipped Scarlet Pipit\",\"Green-tipped Scarlet Pipit\",\"Green-tipped Scarlet Pipit\",\"Green-tipped Scarlet Pipit\",\"Green-tipped Scarlet Pipit\",\"Green-tipped Scarlet Pipit\",\"Green-tipped Scarlet Pipit\",\"Green-tipped Scarlet Pipit\",\"Green-tipped Scarlet Pipit\",\"Green-tipped Scarlet Pipit\",\"Green-tipped Scarlet Pipit\",\"Green-tipped Scarlet Pipit\",\"Green-tipped Scarlet Pipit\",\"Green-tipped Scarlet Pipit\",\"Green-tipped Scarlet Pipit\",\"Green-tipped Scarlet Pipit\",\"Green-tipped Scarlet Pipit\",\"Green-tipped Scarlet Pipit\",\"Green-tipped Scarlet Pipit\",\"Green-tipped Scarlet Pipit\",\"Green-tipped Scarlet Pipit\",\"Green-tipped Scarlet Pipit\",\"Green-tipped Scarlet Pipit\",\"Green-tipped Scarlet Pipit\",\"Green-tipped Scarlet Pipit\",\"Green-tipped Scarlet Pipit\",\"Green-tipped Scarlet Pipit\",\"Green-tipped Scarlet Pipit\",\"Green-tipped Scarlet Pipit\",\"Green-tipped Scarlet Pipit\",\"Green-tipped Scarlet Pipit\",\"Green-tipped Scarlet Pipit\",\"Green-tipped Scarlet Pipit\",\"Green-tipped Scarlet Pipit\",\"Green-tipped Scarlet Pipit\",\"Green-tipped Scarlet Pipit\",\"Green-tipped Scarlet Pipit\",\"Green-tipped Scarlet Pipit\",\"Green-tipped Scarlet Pipit\",\"Green-tipped Scarlet Pipit\",\"Green-tipped Scarlet Pipit\",\"Green-tipped Scarlet Pipit\",\"Green-tipped Scarlet Pipit\",\"Green-tipped Scarlet Pipit\",\"Green-tipped Scarlet Pipit\",\"Green-tipped Scarlet Pipit\",\"Green-tipped Scarlet Pipit\",\"Green-tipped Scarlet Pipit\"],\"x\":{\"__ndarray__\":\"m1qmv2nf+r90UTnATjWjvxqlL8D/6yy/QIpvv2ZnL8B1dNe/J5QdwN15nr8wcQ7Ab4pDwAyMMsCYN4i/B2eBv2gEU7/Uz3i/dkQnwLVnFMCriybADI4WwHzb2b9OqjHASAs6wJSEmr6kZeS/TD8vwBYwMsCfVbe/pNkpwJ+6RMDksivAV+dAwJ8nQMCoVb+/ffoxwHMY7L8u1AXAZ5S2vwdlK8BHxzq/tMk4wI5CJsByHQfAb+iYv9qpCsDkpdK+DAy/v8Z+O7/0kOm/LH4xwPn/lL/OLQPAhRx0wECVq781lFHABPqovxqQ879kvIq/zUNEwMgjTsAdnc+/DDD5v6J9jb+B8Yu/mx3dvxvV+7+PkTHALPo9wCn2fD/nBQnAXcciwB/Wsb+xSKY/wD0+wKGYWcBps0nAIs2Xv6MDQsABoT/ASV59v9WRJ8CnSETAPeH1v1q3nr9XugHA\",\"dtype\":\"float32\",\"shape\":[87]},\"y\":{\"__ndarray__\":\"JCxDv3JZ+L9wR/O/azzvvtNwAMBCUqW/iprlvyueEsCGZhLAxl/yv+RGZ79NSRnAjgPhvyYhEcCuMey/j3EWvxMTmr8zfe2/whsCwJjGEcBl1AjAxNERwHvEDMDS0fO/wT4AwDtg7b9zKzTAdU/iv6p/+r/JC++/vwuIv3OFm7+evfe/TEbJvzlKsL+twwzAK9Tqv6JyDcAuRQrAtyTnv7Fq8b8hYW6/DoIgv9QpP7/CtxbAWND7v1JjB8AEB+W/gAYKwLzQkL808wzADv/5vhaXJb+4TAfAat+HvzQnNkDkT+i/56UEvxUEFMDsUDa/HLgCwN4A679l7xrAl+IAwBAF+7/CD+2/l0sNwNHpAMCdawzALuH7v9DZm77Y3RfALAwCwPZjCb+pwne/dGAJwKXr57/Cou+/SCfLvtbYvL8vBcy/g0YVvyY3Xr83TP6/0DoOwKKj9b8xlQHA\",\"dtype\":\"float32\",\"shape\":[87]}},\"selected\":{\"id\":\"6aeb6ab1-cf39-443f-8f6a-bcfe538e53fe\",\"type\":\"Selection\"},\"selection_policy\":{\"id\":\"62ffac38-78a2-402e-9f6a-2a868a42f04e\",\"type\":\"UnionRenderers\"}},\"id\":\"a2397436-bdb9-420e-a0b9-dec1fcc1bd81\",\"type\":\"ColumnDataSource\"},{\"attributes\":{\"fill_alpha\":{\"value\":0.6},\"fill_color\":{\"field\":\"specie\",\"transform\":{\"id\":\"1ded21f3-8849-4f11-ac6d-baf80486c3fe\",\"type\":\"CategoricalColorMapper\"}},\"line_alpha\":{\"value\":0.6},\"line_color\":{\"field\":\"specie\",\"transform\":{\"id\":\"1ded21f3-8849-4f11-ac6d-baf80486c3fe\",\"type\":\"CategoricalColorMapper\"}},\"size\":{\"units\":\"screen\",\"value\":5},\"x\":{\"field\":\"x\"},\"y\":{\"field\":\"y\"}},\"id\":\"63fae036-8f48-40a4-8a15-807cf665e864\",\"type\":\"Circle\"},{\"attributes\":{\"data_source\":{\"id\":\"ff37ab06-e720-4905-83b0-0b57007ad203\",\"type\":\"ColumnDataSource\"},\"glyph\":{\"id\":\"f14630c6-799d-4f57-8738-ca4fd4a978a7\",\"type\":\"Text\"},\"hover_glyph\":null,\"muted_glyph\":null,\"nonselection_glyph\":{\"id\":\"335c4a03-2ab2-4b72-9b80-6089f7d61e75\",\"type\":\"Text\"},\"selection_glyph\":null,\"view\":{\"id\":\"d312e62c-7e47-4a12-8d7c-cd026f299f34\",\"type\":\"CDSView\"}},\"id\":\"eaa20417-0ca2-48f1-a382-6ba775dde073\",\"type\":\"GlyphRenderer\"},{\"attributes\":{\"source\":{\"id\":\"ec2adf8c-1856-4d71-869c-2b470d82e5cb\",\"type\":\"ColumnDataSource\"}},\"id\":\"c1c6e1d1-a836-4206-875c-e1555fa76b1e\",\"type\":\"CDSView\"},{\"attributes\":{\"fill_alpha\":{\"value\":0.1},\"fill_color\":{\"value\":\"#1f77b4\"},\"line_alpha\":{\"value\":0.1},\"line_color\":{\"value\":\"#1f77b4\"},\"size\":{\"units\":\"screen\",\"value\":5},\"x\":{\"field\":\"x\"},\"y\":{\"field\":\"y\"}},\"id\":\"bf906e4e-87b1-4fc3-8a98-73d10791faaa\",\"type\":\"Circle\"},{\"attributes\":{\"text\":{\"field\":\"kasios_index\"},\"text_alpha\":{\"value\":0.1},\"text_color\":{\"value\":\"black\"},\"text_font_size\":{\"value\":\"10pt\"},\"x\":{\"field\":\"x\"},\"x_offset\":{\"value\":-5},\"y\":{\"field\":\"y\"},\"y_offset\":{\"value\":8}},\"id\":\"335c4a03-2ab2-4b72-9b80-6089f7d61e75\",\"type\":\"Text\"},{\"attributes\":{\"click_policy\":\"hide\",\"items\":[{\"id\":\"fa7480de-0e10-4906-aae0-0886d1f3df4d\",\"type\":\"LegendItem\"},{\"id\":\"9535ea1f-0492-4fbf-a446-6647a968d0f9\",\"type\":\"LegendItem\"},{\"id\":\"ea9d9048-a7a6-4ba0-bef0-aa649013c347\",\"type\":\"LegendItem\"},{\"id\":\"5d7232d0-cebd-40cc-b453-ada64356017c\",\"type\":\"LegendItem\"},{\"id\":\"188827e9-4769-4109-ae82-d9b53a16dc90\",\"type\":\"LegendItem\"},{\"id\":\"aef0b290-4269-4668-a878-c302800414be\",\"type\":\"LegendItem\"},{\"id\":\"93074675-f023-464e-8c98-d24f4a85abd3\",\"type\":\"LegendItem\"},{\"id\":\"2cae3c35-9797-42aa-a7ed-48b09e620b8d\",\"type\":\"LegendItem\"},{\"id\":\"24d2b3ce-8217-4020-8c17-90ac849bcdc1\",\"type\":\"LegendItem\"},{\"id\":\"fdfa7d44-a793-48a7-8415-0118e89953b9\",\"type\":\"LegendItem\"},{\"id\":\"8029e971-6d78-49ac-8083-707fd26301f5\",\"type\":\"LegendItem\"},{\"id\":\"bd45b9be-eec0-43da-aa4b-c436588c3b1d\",\"type\":\"LegendItem\"},{\"id\":\"432af35b-5f30-43c0-9c3a-9a62e3c266cc\",\"type\":\"LegendItem\"},{\"id\":\"2696d9ec-660f-4a79-8d2e-e1baae884f67\",\"type\":\"LegendItem\"},{\"id\":\"eb2d1943-d1ac-4449-aabe-02c77644dd64\",\"type\":\"LegendItem\"},{\"id\":\"f45d2ccc-d1c6-4e32-bad2-a90ea6dea6bb\",\"type\":\"LegendItem\"},{\"id\":\"033a0796-0704-48f9-ac5d-bf42a29374af\",\"type\":\"LegendItem\"},{\"id\":\"2869ca51-d310-4159-8a76-8d74b4b0ab50\",\"type\":\"LegendItem\"},{\"id\":\"3e03da6d-f310-45bc-8a42-ce841fb0cea4\",\"type\":\"LegendItem\"},{\"id\":\"4644e72c-52e5-4669-b7a5-890fb58f79ce\",\"type\":\"LegendItem\"}],\"location\":[30,50],\"plot\":{\"id\":\"d681732e-fabd-4538-978c-c3e4324620b8\",\"subtype\":\"Figure\",\"type\":\"Plot\"}},\"id\":\"e614694d-f7cb-49ff-a83f-1d378b749185\",\"type\":\"Legend\"},{\"attributes\":{\"fill_alpha\":{\"value\":0.1},\"fill_color\":{\"value\":\"#1f77b4\"},\"line_alpha\":{\"value\":0.1},\"line_color\":{\"value\":\"#1f77b4\"},\"size\":{\"units\":\"screen\",\"value\":5},\"x\":{\"field\":\"x\"},\"y\":{\"field\":\"y\"}},\"id\":\"e45bc6ee-f37d-4b5c-8bbe-67882a4eae55\",\"type\":\"Circle\"},{\"attributes\":{\"fill_alpha\":{\"value\":0.1},\"fill_color\":{\"value\":\"#1f77b4\"},\"line_alpha\":{\"value\":0.1},\"line_color\":{\"value\":\"#1f77b4\"},\"size\":{\"units\":\"screen\",\"value\":5},\"x\":{\"field\":\"x\"},\"y\":{\"field\":\"y\"}},\"id\":\"9aff4183-aaa7-47a6-a74f-e718a2a3e75d\",\"type\":\"Circle\"},{\"attributes\":{\"fill_alpha\":{\"value\":0.1},\"fill_color\":{\"value\":\"#1f77b4\"},\"line_alpha\":{\"value\":0.1},\"line_color\":{\"value\":\"#1f77b4\"},\"size\":{\"units\":\"screen\",\"value\":5},\"x\":{\"field\":\"x\"},\"y\":{\"field\":\"y\"}},\"id\":\"3b83183b-45ff-4eb8-8d40-a167047c8dd8\",\"type\":\"Circle\"},{\"attributes\":{\"label\":{\"value\":\"Vermillion Trillian\"},\"renderers\":[{\"id\":\"b01affcd-a996-4a1d-8a51-e52b6bdf8fec\",\"type\":\"GlyphRenderer\"}]},\"id\":\"3e03da6d-f310-45bc-8a42-ce841fb0cea4\",\"type\":\"LegendItem\"},{\"attributes\":{\"callback\":null,\"data\":{\"index\":[186,187,188,189,190,191,192,193,194,195,196,197,198,199,200,201,202,203,204,205,206,207,208,209,210,211,212,213,214,215,216,217,218,219,220,221,222,223,224,225,226,227,228,229,230,231,232,233,234,235,236,237,238,239,240,241,242,243,244,245,246,247,248,249,250,251,252],\"kasios_index\":{\"__ndarray__\":\"AAAAAAAA+H8AAAAAAAD4fwAAAAAAAPh/AAAAAAAA+H8AAAAAAAD4fwAAAAAAAPh/AAAAAAAA+H8AAAAAAAD4fwAAAAAAAPh/AAAAAAAA+H8AAAAAAAD4fwAAAAAAAPh/AAAAAAAA+H8AAAAAAAD4fwAAAAAAAPh/AAAAAAAA+H8AAAAAAAD4fwAAAAAAAPh/AAAAAAAA+H8AAAAAAAD4fwAAAAAAAPh/AAAAAAAA+H8AAAAAAAD4fwAAAAAAAPh/AAAAAAAA+H8AAAAAAAD4fwAAAAAAAPh/AAAAAAAA+H8AAAAAAAD4fwAAAAAAAPh/AAAAAAAA+H8AAAAAAAD4fwAAAAAAAPh/AAAAAAAA+H8AAAAAAAD4fwAAAAAAAPh/AAAAAAAA+H8AAAAAAAD4fwAAAAAAAPh/AAAAAAAA+H8AAAAAAAD4fwAAAAAAAPh/AAAAAAAA+H8AAAAAAAD4fwAAAAAAAPh/AAAAAAAA+H8AAAAAAAD4fwAAAAAAAPh/AAAAAAAA+H8AAAAAAAD4fwAAAAAAAPh/AAAAAAAA+H8AAAAAAAD4fwAAAAAAAPh/AAAAAAAA+H8AAAAAAAD4fwAAAAAAAPh/AAAAAAAA+H8AAAAAAAD4fwAAAAAAAPh/AAAAAAAA+H8AAAAAAAD4fwAAAAAAAPh/AAAAAAAA+H8AAAAAAAD4fwAAAAAAAPh/AAAAAAAA+H8=\",\"dtype\":\"float64\",\"shape\":[67]},\"specie\":[\"Blue-collared Zipper\",\"Blue-collared Zipper\",\"Blue-collared Zipper\",\"Blue-collared Zipper\",\"Blue-collared Zipper\",\"Blue-collared Zipper\",\"Blue-collared Zipper\",\"Blue-collared Zipper\",\"Blue-collared Zipper\",\"Blue-collared Zipper\",\"Blue-collared Zipper\",\"Blue-collared Zipper\",\"Blue-collared Zipper\",\"Blue-collared Zipper\",\"Blue-collared Zipper\",\"Blue-collared Zipper\",\"Blue-collared Zipper\",\"Blue-collared Zipper\",\"Blue-collared Zipper\",\"Blue-collared Zipper\",\"Blue-collared Zipper\",\"Blue-collared Zipper\",\"Blue-collared Zipper\",\"Blue-collared Zipper\",\"Blue-collared Zipper\",\"Blue-collared Zipper\",\"Blue-collared Zipper\",\"Blue-collared Zipper\",\"Blue-collared Zipper\",\"Blue-collared Zipper\",\"Blue-collared Zipper\",\"Blue-collared Zipper\",\"Blue-collared Zipper\",\"Blue-collared Zipper\",\"Blue-collared Zipper\",\"Blue-collared Zipper\",\"Blue-collared Zipper\",\"Blue-collared Zipper\",\"Blue-collared Zipper\",\"Blue-collared Zipper\",\"Blue-collared Zipper\",\"Blue-collared Zipper\",\"Blue-collared Zipper\",\"Blue-collared Zipper\",\"Blue-collared Zipper\",\"Blue-collared Zipper\",\"Blue-collared Zipper\",\"Blue-collared Zipper\",\"Blue-collared Zipper\",\"Blue-collared Zipper\",\"Blue-collared Zipper\",\"Blue-collared Zipper\",\"Blue-collared Zipper\",\"Blue-collared Zipper\",\"Blue-collared Zipper\",\"Blue-collared Zipper\",\"Blue-collared Zipper\",\"Blue-collared Zipper\",\"Blue-collared Zipper\",\"Blue-collared Zipper\",\"Blue-collared Zipper\",\"Blue-collared Zipper\",\"Blue-collared Zipper\",\"Blue-collared Zipper\",\"Blue-collared Zipper\",\"Blue-collared Zipper\",\"Blue-collared Zipper\"],\"x\":{\"__ndarray__\":\"LR6cQLZMAECWJZi/+j2GQOa+mEAFvGFA/3U+QIox3z/u7zRAWOYBQMFwb79eY64/UEWmvwafqMByQoJAgTN6QHQHpUDJ2L5AXrjtPwnZC8AX82NAto2xQPWNVz8ky69AV28DwManuL2OVes/H7KzPxOn+z9TqxBADCdpQL9rGj/1gTa/6ET4vypMMECsXwtAMoNsQIfecD+kqrlAU4h9QJdJf0BvfnE/GuX8P4BpNsAyxhZA0bygP4lO/7/SujzAEkE0QKg0EcC1KipAJiyCQCPVBMCWtVHArnNBwJb5YEByqre/lhkKQLSdmz8sEqe/bHvmPxh4Q8DoblvAqRKTQE4zpkC0YlBAPzVVQA==\",\"dtype\":\"float32\",\"shape\":[67]},\"y\":{\"__ndarray__\":\"jqP8PztO/D3rswK/c107P768zD971+Q9H5/Ivx/+wL+N/WW/r+1Ov3Gph78l1J6+8BD1vslzXj4aqum9DstmvUctMz+BTvU/zkCAv5pAx7+tzSo/qyrmPzLnL8AhfuM/KlUywNkYLsCmE1W/UvcAwKfDUb+9qI4++TR4vYsbZb9yt12/4DwwQM62ZD+/Uvm+gaU7Pz5M676Jduo/QQdHP4GHxj3ASYO/w6Wtv7c3TD9mHBe/SokwwLpcxL+30Lg/LPAIwEn/br8MiVQ//dc1QDuSgr+4B3K/uLTDPz0dCz/Uofy/MaCbPp/yg78iVha/iSpCvy9zgT8doBBAMFERQMpuNEDIYL4/eQMSvw==\",\"dtype\":\"float32\",\"shape\":[67]}},\"selected\":{\"id\":\"93a7a9d0-e1ec-4937-a9c7-3ae43ae5c717\",\"type\":\"Selection\"},\"selection_policy\":{\"id\":\"835e659c-c454-4ee5-9210-a02e43623504\",\"type\":\"UnionRenderers\"}},\"id\":\"5fa455f5-f2bd-4ea3-8c60-b9069b9b6267\",\"type\":\"ColumnDataSource\"},{\"attributes\":{\"fill_alpha\":{\"value\":0.1},\"fill_color\":{\"value\":\"#1f77b4\"},\"line_alpha\":{\"value\":0.1},\"line_color\":{\"value\":\"#1f77b4\"},\"size\":{\"units\":\"screen\",\"value\":5},\"x\":{\"field\":\"x\"},\"y\":{\"field\":\"y\"}},\"id\":\"3f079442-b104-4e1c-bc5c-a092d36adca0\",\"type\":\"Circle\"},{\"attributes\":{\"callback\":null,\"data\":{\"index\":[2067,2068,2069,2070,2071,2072,2073,2074,2075,2076,2077,2078,2079,2080,2081],\"kasios_index\":{\"__ndarray__\":\"AAAAAAAA8D8AAAAAAAAAQAAAAAAAAAhAAAAAAAAAEEAAAAAAAAAUQAAAAAAAABhAAAAAAAAAHEAAAAAAAAAgQAAAAAAAACJAAAAAAAAAJEAAAAAAAAAmQAAAAAAAAChAAAAAAAAAKkAAAAAAAAAsQAAAAAAAAC5A\",\"dtype\":\"float64\",\"shape\":[15]},\"specie\":[\"Kasios Test Bird\",\"Kasios Test Bird\",\"Kasios Test Bird\",\"Kasios Test Bird\",\"Kasios Test Bird\",\"Kasios Test Bird\",\"Kasios Test Bird\",\"Kasios Test Bird\",\"Kasios Test Bird\",\"Kasios Test Bird\",\"Kasios Test Bird\",\"Kasios Test Bird\",\"Kasios Test Bird\",\"Kasios Test Bird\",\"Kasios Test Bird\"],\"x\":{\"__ndarray__\":\"4heawKQFMECnF6e/GKypv2hAjMAQXeO/JGu1v9wJIkBAtrdAfCOTwHWWjkCPJ5TAD8amQJDnGUAjLozA\",\"dtype\":\"float32\",\"shape\":[15]},\"y\":{\"__ndarray__\":\"HehvPnu/EcBiuTrAa884wMqpej9M2zzA1DlwQIpWbsDanIw/EM9xQGtm9T9ue0JAV8RgP+zkE8Duud8/\",\"dtype\":\"float32\",\"shape\":[15]}},\"selected\":{\"id\":\"8d9c80f5-2e06-4cd3-935d-700f56df16d9\",\"type\":\"Selection\"},\"selection_policy\":{\"id\":\"2fe721f3-907e-451f-8281-45f2303e5899\",\"type\":\"UnionRenderers\"}},\"id\":\"ff37ab06-e720-4905-83b0-0b57007ad203\",\"type\":\"ColumnDataSource\"},{\"attributes\":{\"data_source\":{\"id\":\"a2397436-bdb9-420e-a0b9-dec1fcc1bd81\",\"type\":\"ColumnDataSource\"},\"glyph\":{\"id\":\"ad873600-c9d3-4af3-b213-571fcd5ac38b\",\"type\":\"Circle\"},\"hover_glyph\":null,\"muted_glyph\":null,\"nonselection_glyph\":{\"id\":\"f7954f41-7739-44b9-bc7e-821c9492143c\",\"type\":\"Circle\"},\"selection_glyph\":null,\"view\":{\"id\":\"e35e894d-2dde-4b7b-b1e2-799326dca29c\",\"type\":\"CDSView\"}},\"id\":\"8b7964b9-7233-4674-af5c-ebc68c460ecc\",\"type\":\"GlyphRenderer\"},{\"attributes\":{\"callback\":null,\"data\":{\"index\":[669,670,671,672,673,674,675,676,677,678,679,680,681,682,683,684,685,686,687,688,689,690,691,692,693,694,695,696,697,698,699,700,701,702,703,704,705,706,707,708,709,710,711,712,713,714,715,716,717,718,719,720,721,722,723,724,725,726,727,728,729,730,731,732,733,734,735,736,737,738,739,740,741,742,743,744,745,746,747,748,749,750,751,752,753,754],\"kasios_index\":{\"__ndarray__\":\"AAAAAAAA+H8AAAAAAAD4fwAAAAAAAPh/AAAAAAAA+H8AAAAAAAD4fwAAAAAAAPh/AAAAAAAA+H8AAAAAAAD4fwAAAAAAAPh/AAAAAAAA+H8AAAAAAAD4fwAAAAAAAPh/AAAAAAAA+H8AAAAAAAD4fwAAAAAAAPh/AAAAAAAA+H8AAAAAAAD4fwAAAAAAAPh/AAAAAAAA+H8AAAAAAAD4fwAAAAAAAPh/AAAAAAAA+H8AAAAAAAD4fwAAAAAAAPh/AAAAAAAA+H8AAAAAAAD4fwAAAAAAAPh/AAAAAAAA+H8AAAAAAAD4fwAAAAAAAPh/AAAAAAAA+H8AAAAAAAD4fwAAAAAAAPh/AAAAAAAA+H8AAAAAAAD4fwAAAAAAAPh/AAAAAAAA+H8AAAAAAAD4fwAAAAAAAPh/AAAAAAAA+H8AAAAAAAD4fwAAAAAAAPh/AAAAAAAA+H8AAAAAAAD4fwAAAAAAAPh/AAAAAAAA+H8AAAAAAAD4fwAAAAAAAPh/AAAAAAAA+H8AAAAAAAD4fwAAAAAAAPh/AAAAAAAA+H8AAAAAAAD4fwAAAAAAAPh/AAAAAAAA+H8AAAAAAAD4fwAAAAAAAPh/AAAAAAAA+H8AAAAAAAD4fwAAAAAAAPh/AAAAAAAA+H8AAAAAAAD4fwAAAAAAAPh/AAAAAAAA+H8AAAAAAAD4fwAAAAAAAPh/AAAAAAAA+H8AAAAAAAD4fwAAAAAAAPh/AAAAAAAA+H8AAAAAAAD4fwAAAAAAAPh/AAAAAAAA+H8AAAAAAAD4fwAAAAAAAPh/AAAAAAAA+H8AAAAAAAD4fwAAAAAAAPh/AAAAAAAA+H8AAAAAAAD4fwAAAAAAAPh/AAAAAAAA+H8AAAAAAAD4fwAAAAAAAPh/AAAAAAAA+H8AAAAAAAD4fw==\",\"dtype\":\"float64\",\"shape\":[86]},\"specie\":[\"Darkwing Sparrow\",\"Darkwing Sparrow\",\"Darkwing Sparrow\",\"Darkwing Sparrow\",\"Darkwing Sparrow\",\"Darkwing Sparrow\",\"Darkwing Sparrow\",\"Darkwing Sparrow\",\"Darkwing Sparrow\",\"Darkwing Sparrow\",\"Darkwing Sparrow\",\"Darkwing Sparrow\",\"Darkwing Sparrow\",\"Darkwing Sparrow\",\"Darkwing Sparrow\",\"Darkwing Sparrow\",\"Darkwing Sparrow\",\"Darkwing Sparrow\",\"Darkwing Sparrow\",\"Darkwing Sparrow\",\"Darkwing Sparrow\",\"Darkwing Sparrow\",\"Darkwing Sparrow\",\"Darkwing Sparrow\",\"Darkwing Sparrow\",\"Darkwing Sparrow\",\"Darkwing Sparrow\",\"Darkwing Sparrow\",\"Darkwing Sparrow\",\"Darkwing Sparrow\",\"Darkwing Sparrow\",\"Darkwing Sparrow\",\"Darkwing Sparrow\",\"Darkwing Sparrow\",\"Darkwing Sparrow\",\"Darkwing Sparrow\",\"Darkwing Sparrow\",\"Darkwing Sparrow\",\"Darkwing Sparrow\",\"Darkwing Sparrow\",\"Darkwing Sparrow\",\"Darkwing Sparrow\",\"Darkwing Sparrow\",\"Darkwing Sparrow\",\"Darkwing Sparrow\",\"Darkwing Sparrow\",\"Darkwing Sparrow\",\"Darkwing Sparrow\",\"Darkwing Sparrow\",\"Darkwing Sparrow\",\"Darkwing Sparrow\",\"Darkwing Sparrow\",\"Darkwing Sparrow\",\"Darkwing Sparrow\",\"Darkwing Sparrow\",\"Darkwing Sparrow\",\"Darkwing Sparrow\",\"Darkwing Sparrow\",\"Darkwing Sparrow\",\"Darkwing Sparrow\",\"Darkwing Sparrow\",\"Darkwing Sparrow\",\"Darkwing Sparrow\",\"Darkwing Sparrow\",\"Darkwing Sparrow\",\"Darkwing Sparrow\",\"Darkwing Sparrow\",\"Darkwing Sparrow\",\"Darkwing Sparrow\",\"Darkwing Sparrow\",\"Darkwing Sparrow\",\"Darkwing Sparrow\",\"Darkwing Sparrow\",\"Darkwing Sparrow\",\"Darkwing Sparrow\",\"Darkwing Sparrow\",\"Darkwing Sparrow\",\"Darkwing Sparrow\",\"Darkwing Sparrow\",\"Darkwing Sparrow\",\"Darkwing Sparrow\",\"Darkwing Sparrow\",\"Darkwing Sparrow\",\"Darkwing Sparrow\",\"Darkwing Sparrow\",\"Darkwing Sparrow\"],\"x\":{\"__ndarray__\":\"H4D5P132d0AldtK/SD+yQCxWrr9pFXNAhAWUwJCov78wVMO/LsfLv0myD8BdlNq/zys1wDZOFsD4GP6/5Q04PIN3lUCWSYE/hSMPwIWG5j7BzpHAT3cBwMdR4L9V5ZE/GulqwIMEE0BZ+n+/56guwAnm578P+OI/T9KwvmO1kj8OlRvAeNvUvjpROUCWOwfAjiilvysHWUAYnbO9VwzWvc8XpEBtAwi/f/kzwOEYMUDoXcy/B7QlwLximL8bRWPAyXEawCKw7L/EHgjA12Puv1KTxb8VoA3AJw7Uv5G/K8DiIjK/jcH4PvSqhcCCuRZAmzr0P3PkF8CCXIY+OP3KPSZq0b9pXMC/VvrHv8dD8D9Yc6k/UFvkPw1qrb+Qt+a/nw8HwNg+FcBVsrC/8yuUwHhXD8AV153A9YLQv39MSr/tWFNANv5JQDkdxbyA5UO/y8YDvtHPv78=\",\"dtype\":\"float32\",\"shape\":[86]},\"y\":{\"__ndarray__\":\"Zos4wHx8br4AsUjAJpViP7njPsCcrrQ+1jN3PnyEQsCu7EnAochKwDc8tb/i6UXAzc+dvwIPwr5ljLu/Q4ZFwKwlnD+xT7u/fy6zvdF9NsA4GkI91EK4v83bQ8ChsN2/9weRv00WFMBiA0TAnKMZP9m6g78g3e6/bYMxwKcyJb9Bz5i/6qE8wBKVCMD1e6+/uX0owJCjXD/SgEjAAJM2wCXVbD9DZF+/DrZdQFMQQb+qqj/AJclkvw7zXr9X//++TheOv0Srwb+5/rK/6J1DwAbZScDhw86/luJIwJeZFL61B0fAE9s+wAiwmb6yE3bAia0CwIaGqr3YEzfAaMBGwMTLWEDl1hbAsiRIwNy4OMDXdxzAuTE+wMZ2QsBFCULA9eq2vw8ykb/0iUjAuzofPrPj0b8y7gpA+2lJwIEWRsCTTlS/pSe2v96zNcBNqUTAJFNHwMcoQ8A=\",\"dtype\":\"float32\",\"shape\":[86]}},\"selected\":{\"id\":\"2104f7e7-dbc6-45af-a969-a20b25ba8cd6\",\"type\":\"Selection\"},\"selection_policy\":{\"id\":\"118eef77-7e8a-42b8-baa6-7ba36331ec80\",\"type\":\"UnionRenderers\"}},\"id\":\"63b537a9-6a3d-4b39-963c-b915c3a5d613\",\"type\":\"ColumnDataSource\"},{\"attributes\":{},\"id\":\"495fdc6f-1800-4cdc-8d61-f4ffc56a2abc\",\"type\":\"Selection\"},{\"attributes\":{\"data_source\":{\"id\":\"f2f23917-39d3-42d9-b637-33ed48189cac\",\"type\":\"ColumnDataSource\"},\"glyph\":{\"id\":\"94b87136-6677-4f26-b3b7-52c771d98be7\",\"type\":\"Circle\"},\"hover_glyph\":null,\"muted_glyph\":null,\"nonselection_glyph\":{\"id\":\"bf906e4e-87b1-4fc3-8a98-73d10791faaa\",\"type\":\"Circle\"},\"selection_glyph\":null,\"view\":{\"id\":\"fd910fb2-84e8-40ca-8ab8-32177c50c051\",\"type\":\"CDSView\"}},\"id\":\"2a725a5f-bbd7-4d30-a177-9124efc68598\",\"type\":\"GlyphRenderer\"},{\"attributes\":{\"source\":{\"id\":\"ff37ab06-e720-4905-83b0-0b57007ad203\",\"type\":\"ColumnDataSource\"}},\"id\":\"d312e62c-7e47-4a12-8d7c-cd026f299f34\",\"type\":\"CDSView\"},{\"attributes\":{\"label\":{\"value\":\"Kasios Test Bird\"},\"renderers\":[{\"id\":\"55d759dc-f996-477e-b614-6885a6ec80c6\",\"type\":\"GlyphRenderer\"}]},\"id\":\"4644e72c-52e5-4669-b7a5-890fb58f79ce\",\"type\":\"LegendItem\"},{\"attributes\":{\"callback\":null,\"data\":{\"index\":[390,391,392,393,394,395,396,397,398,399,400,401,402,403,404,405,406,407,408,409,410,411,412,413,414,415,416,417,418,419,420,421,422,423,424,425,426,427,428,429,430,431,432,433,434,435,436,437,438,439,440,441,442,443,444,445,446,447,448,449,450,451,452,453,454,455,456,457,458,459,460,461,462,463,464,465,466,467,468,469,470,471,472,473,474,475,476,477,478,479,480,481,482],\"kasios_index\":{\"__ndarray__\":\"AAAAAAAA+H8AAAAAAAD4fwAAAAAAAPh/AAAAAAAA+H8AAAAAAAD4fwAAAAAAAPh/AAAAAAAA+H8AAAAAAAD4fwAAAAAAAPh/AAAAAAAA+H8AAAAAAAD4fwAAAAAAAPh/AAAAAAAA+H8AAAAAAAD4fwAAAAAAAPh/AAAAAAAA+H8AAAAAAAD4fwAAAAAAAPh/AAAAAAAA+H8AAAAAAAD4fwAAAAAAAPh/AAAAAAAA+H8AAAAAAAD4fwAAAAAAAPh/AAAAAAAA+H8AAAAAAAD4fwAAAAAAAPh/AAAAAAAA+H8AAAAAAAD4fwAAAAAAAPh/AAAAAAAA+H8AAAAAAAD4fwAAAAAAAPh/AAAAAAAA+H8AAAAAAAD4fwAAAAAAAPh/AAAAAAAA+H8AAAAAAAD4fwAAAAAAAPh/AAAAAAAA+H8AAAAAAAD4fwAAAAAAAPh/AAAAAAAA+H8AAAAAAAD4fwAAAAAAAPh/AAAAAAAA+H8AAAAAAAD4fwAAAAAAAPh/AAAAAAAA+H8AAAAAAAD4fwAAAAAAAPh/AAAAAAAA+H8AAAAAAAD4fwAAAAAAAPh/AAAAAAAA+H8AAAAAAAD4fwAAAAAAAPh/AAAAAAAA+H8AAAAAAAD4fwAAAAAAAPh/AAAAAAAA+H8AAAAAAAD4fwAAAAAAAPh/AAAAAAAA+H8AAAAAAAD4fwAAAAAAAPh/AAAAAAAA+H8AAAAAAAD4fwAAAAAAAPh/AAAAAAAA+H8AAAAAAAD4fwAAAAAAAPh/AAAAAAAA+H8AAAAAAAD4fwAAAAAAAPh/AAAAAAAA+H8AAAAAAAD4fwAAAAAAAPh/AAAAAAAA+H8AAAAAAAD4fwAAAAAAAPh/AAAAAAAA+H8AAAAAAAD4fwAAAAAAAPh/AAAAAAAA+H8AAAAAAAD4fwAAAAAAAPh/AAAAAAAA+H8AAAAAAAD4fwAAAAAAAPh/AAAAAAAA+H8AAAAAAAD4fwAAAAAAAPh/\",\"dtype\":\"float64\",\"shape\":[93]},\"specie\":[\"Broad-winged Jojo\",\"Broad-winged Jojo\",\"Broad-winged Jojo\",\"Broad-winged Jojo\",\"Broad-winged Jojo\",\"Broad-winged Jojo\",\"Broad-winged Jojo\",\"Broad-winged Jojo\",\"Broad-winged Jojo\",\"Broad-winged Jojo\",\"Broad-winged Jojo\",\"Broad-winged Jojo\",\"Broad-winged Jojo\",\"Broad-winged Jojo\",\"Broad-winged Jojo\",\"Broad-winged Jojo\",\"Broad-winged Jojo\",\"Broad-winged Jojo\",\"Broad-winged Jojo\",\"Broad-winged Jojo\",\"Broad-winged Jojo\",\"Broad-winged Jojo\",\"Broad-winged Jojo\",\"Broad-winged Jojo\",\"Broad-winged Jojo\",\"Broad-winged Jojo\",\"Broad-winged Jojo\",\"Broad-winged Jojo\",\"Broad-winged Jojo\",\"Broad-winged Jojo\",\"Broad-winged Jojo\",\"Broad-winged Jojo\",\"Broad-winged Jojo\",\"Broad-winged Jojo\",\"Broad-winged Jojo\",\"Broad-winged Jojo\",\"Broad-winged Jojo\",\"Broad-winged Jojo\",\"Broad-winged Jojo\",\"Broad-winged Jojo\",\"Broad-winged Jojo\",\"Broad-winged Jojo\",\"Broad-winged Jojo\",\"Broad-winged Jojo\",\"Broad-winged Jojo\",\"Broad-winged Jojo\",\"Broad-winged Jojo\",\"Broad-winged Jojo\",\"Broad-winged Jojo\",\"Broad-winged Jojo\",\"Broad-winged Jojo\",\"Broad-winged Jojo\",\"Broad-winged Jojo\",\"Broad-winged Jojo\",\"Broad-winged Jojo\",\"Broad-winged Jojo\",\"Broad-winged Jojo\",\"Broad-winged Jojo\",\"Broad-winged Jojo\",\"Broad-winged Jojo\",\"Broad-winged Jojo\",\"Broad-winged Jojo\",\"Broad-winged Jojo\",\"Broad-winged Jojo\",\"Broad-winged Jojo\",\"Broad-winged Jojo\",\"Broad-winged Jojo\",\"Broad-winged Jojo\",\"Broad-winged Jojo\",\"Broad-winged Jojo\",\"Broad-winged Jojo\",\"Broad-winged Jojo\",\"Broad-winged Jojo\",\"Broad-winged Jojo\",\"Broad-winged Jojo\",\"Broad-winged Jojo\",\"Broad-winged Jojo\",\"Broad-winged Jojo\",\"Broad-winged Jojo\",\"Broad-winged Jojo\",\"Broad-winged Jojo\",\"Broad-winged Jojo\",\"Broad-winged Jojo\",\"Broad-winged Jojo\",\"Broad-winged Jojo\",\"Broad-winged Jojo\",\"Broad-winged Jojo\",\"Broad-winged Jojo\",\"Broad-winged Jojo\",\"Broad-winged Jojo\",\"Broad-winged Jojo\",\"Broad-winged Jojo\",\"Broad-winged Jojo\"],\"x\":{\"__ndarray__\":\"bLIwwJo6PMCZIXfA2ru7wDd0gsCSqIzA3f86wGB4b8D20FbAjmOswBCausCcyZvA1Gm6wLi1tsDWqqrAxZ+WwPkWdMCoEJnAnlWNwJ0xSMA6b6HARKmDwDPGDcD+2KHAl24VwLu9RcAzwprAbBNMwD/e6L85rzXAkH5nwJldWsAJd3PAiS9LwNvOTcB4jIjAn3qWwMPln8BzzTjAKI8zwHdajsCcIabAngWTwCT1ecCoBkDAjVZvwMfkLsAXlgvAD4VzwKvZssBcuLrAAtNmwO3wI8DnWanAQpquwKcHpsBCTqfAn+emwFr9ssC8wJvAntVUwGg0s8A9t5jA89J5wGgnY8CJh5jAoDZBwFB5q8Bm/TnAz6O6v5BUgsA34WLA8UdYwATGgcCpSZHAF9NZwNBb2b+QCpHAHi49wGCOdcBKZqDAwlGawK3Aq8A4Qfa/xDmhwJsIhMCA/Y8/dH9dwEELPcDtb9i/B2B7v097zr7C8TxA\",\"dtype\":\"float32\",\"shape\":[93]},\"y\":{\"__ndarray__\":\"qsyfQPk6n0DeZJ4/2ULMPnxYaD+Siko+/0BhP7B0lD+eul2/3XfXPQvhyT7MCjA+39DZPh97pz77k6Q/D/vlPjoqHj/lsCY/LF/xPFv9vj40vdU/oZHwP1nMdkC/88Y/4/5jQAtui7/ukZg+pv1NP09qmECotZ1AYu0Yvx/r679Alw2/CG3MPp97HEA3EYE8PVYEQHrVpb2ajp5AHMEyvwECVj7//tI+YP5cPr5nTr43S5S/1yWCP4Z5oEB0VYtAJj9jP7sJmD4ydMg+hGC9P5T2oECt6J0/pRmQP+8Pxz+o+zU+4BaeP5l9cz9IUKE/jIhkQDjVOT9tIpQ/1GxgP2TcYb9s6HU+32pzv7oGJkCjFNI/b0R2QB0WMj9RbWU/9tehP15dAj/6iuQ+xk1KvMZae70mJS+9LXqeQO1dFr/1H9I/Y3iXP0r/nj9cdiBASK93Pl1/8j+h61m/zbNNQNCCYj+dbJVATO/0vgMbl7+YLlK/\",\"dtype\":\"float32\",\"shape\":[93]}},\"selected\":{\"id\":\"27582ebc-cabf-40fc-ae2e-c530b8db3ad1\",\"type\":\"Selection\"},\"selection_policy\":{\"id\":\"77cb9f23-d54a-40b5-80dd-49bb9c3d79b4\",\"type\":\"UnionRenderers\"}},\"id\":\"a87f2a84-b280-42ae-bd13-b01baa5bd87a\",\"type\":\"ColumnDataSource\"},{\"attributes\":{\"data_source\":{\"id\":\"d37f56ad-ee9f-4371-a8e1-0955823e0b54\",\"type\":\"ColumnDataSource\"},\"glyph\":{\"id\":\"c1f94cd7-42c4-4239-8a83-713d4361aa17\",\"type\":\"Circle\"},\"hover_glyph\":null,\"muted_glyph\":null,\"nonselection_glyph\":{\"id\":\"9f650e2c-617a-427e-a710-95ea1712c8dc\",\"type\":\"Circle\"},\"selection_glyph\":null,\"view\":{\"id\":\"016fd818-8604-48e1-ab71-ad4786f758bf\",\"type\":\"CDSView\"}},\"id\":\"47ec9c0e-cbf5-455c-ae3f-acf1fd7b865e\",\"type\":\"GlyphRenderer\"},{\"attributes\":{\"label\":{\"value\":\"Purple Tooting Tout\"},\"renderers\":[{\"id\":\"3eedbe39-4937-482b-bfc0-dd800084ca3b\",\"type\":\"GlyphRenderer\"}]},\"id\":\"2696d9ec-660f-4a79-8d2e-e1baae884f67\",\"type\":\"LegendItem\"},{\"attributes\":{\"source\":{\"id\":\"f2f23917-39d3-42d9-b637-33ed48189cac\",\"type\":\"ColumnDataSource\"}},\"id\":\"fd910fb2-84e8-40ca-8ab8-32177c50c051\",\"type\":\"CDSView\"},{\"attributes\":{\"source\":{\"id\":\"ff37ab06-e720-4905-83b0-0b57007ad203\",\"type\":\"ColumnDataSource\"}},\"id\":\"52b42ace-4057-4a8c-ab1f-4e9d8b1ebe7f\",\"type\":\"CDSView\"},{\"attributes\":{\"callback\":null,\"data\":{\"index\":[930,931,932,933,934,935,936,937,938,939,940,941,942,943,944,945,946,947,948,949,950,951,952,953,954,955,956,957,958,959,960,961,962,963,964,965,966,967,968,969,970,971,972,973,974,975,976,977,978,979,980,981,982,983,984,985,986,987,988,989,990,991,992,993,994,995,996,997,998,999,1000,1001,1002,1003,1004,1005,1006,1007,1008,1009,1010,1011,1012,1013,1014,1015,1016,1017,1018,1019,1020,1021,1022,1023,1024,1025,1026,1027,1028,1029,1030,1031,1032,1033,1034,1035,1036,1037,1038,1039,1040,1041,1042,1043,1044,1045,1046,1047,1048,1049,1050,1051,1052,1053,1054,1055,1056,1057,1058,1059,1060,1061,1062,1063,1064,1065,1066,1067,1068,1069,1070,1071,1072,1073,1074,1075,1076,1077,1078,1079],\"kasios_index\":{\"__ndarray__\":\"AAAAAAAA+H8AAAAAAAD4fwAAAAAAAPh/AAAAAAAA+H8AAAAAAAD4fwAAAAAAAPh/AAAAAAAA+H8AAAAAAAD4fwAAAAAAAPh/AAAAAAAA+H8AAAAAAAD4fwAAAAAAAPh/AAAAAAAA+H8AAAAAAAD4fwAAAAAAAPh/AAAAAAAA+H8AAAAAAAD4fwAAAAAAAPh/AAAAAAAA+H8AAAAAAAD4fwAAAAAAAPh/AAAAAAAA+H8AAAAAAAD4fwAAAAAAAPh/AAAAAAAA+H8AAAAAAAD4fwAAAAAAAPh/AAAAAAAA+H8AAAAAAAD4fwAAAAAAAPh/AAAAAAAA+H8AAAAAAAD4fwAAAAAAAPh/AAAAAAAA+H8AAAAAAAD4fwAAAAAAAPh/AAAAAAAA+H8AAAAAAAD4fwAAAAAAAPh/AAAAAAAA+H8AAAAAAAD4fwAAAAAAAPh/AAAAAAAA+H8AAAAAAAD4fwAAAAAAAPh/AAAAAAAA+H8AAAAAAAD4fwAAAAAAAPh/AAAAAAAA+H8AAAAAAAD4fwAAAAAAAPh/AAAAAAAA+H8AAAAAAAD4fwAAAAAAAPh/AAAAAAAA+H8AAAAAAAD4fwAAAAAAAPh/AAAAAAAA+H8AAAAAAAD4fwAAAAAAAPh/AAAAAAAA+H8AAAAAAAD4fwAAAAAAAPh/AAAAAAAA+H8AAAAAAAD4fwAAAAAAAPh/AAAAAAAA+H8AAAAAAAD4fwAAAAAAAPh/AAAAAAAA+H8AAAAAAAD4fwAAAAAAAPh/AAAAAAAA+H8AAAAAAAD4fwAAAAAAAPh/AAAAAAAA+H8AAAAAAAD4fwAAAAAAAPh/AAAAAAAA+H8AAAAAAAD4fwAAAAAAAPh/AAAAAAAA+H8AAAAAAAD4fwAAAAAAAPh/AAAAAAAA+H8AAAAAAAD4fwAAAAAAAPh/AAAAAAAA+H8AAAAAAAD4fwAAAAAAAPh/AAAAAAAA+H8AAAAAAAD4fwAAAAAAAPh/AAAAAAAA+H8AAAAAAAD4fwAAAAAAAPh/AAAAAAAA+H8AAAAAAAD4fwAAAAAAAPh/AAAAAAAA+H8AAAAAAAD4fwAAAAAAAPh/AAAAAAAA+H8AAAAAAAD4fwAAAAAAAPh/AAAAAAAA+H8AAAAAAAD4fwAAAAAAAPh/AAAAAAAA+H8AAAAAAAD4fwAAAAAAAPh/AAAAAAAA+H8AAAAAAAD4fwAAAAAAAPh/AAAAAAAA+H8AAAAAAAD4fwAAAAAAAPh/AAAAAAAA+H8AAAAAAAD4fwAAAAAAAPh/AAAAAAAA+H8AAAAAAAD4fwAAAAAAAPh/AAAAAAAA+H8AAAAAAAD4fwAAAAAAAPh/AAAAAAAA+H8AAAAAAAD4fwAAAAAAAPh/AAAAAAAA+H8AAAAAAAD4fwAAAAAAAPh/AAAAAAAA+H8AAAAAAAD4fwAAAAAAAPh/AAAAAAAA+H8AAAAAAAD4fwAAAAAAAPh/AAAAAAAA+H8AAAAAAAD4fwAAAAAAAPh/AAAAAAAA+H8AAAAAAAD4fwAAAAAAAPh/AAAAAAAA+H8AAAAAAAD4fwAAAAAAAPh/AAAAAAAA+H8AAAAAAAD4fwAAAAAAAPh/\",\"dtype\":\"float64\",\"shape\":[150]},\"specie\":[\"Lesser Birchbeere\",\"Lesser Birchbeere\",\"Lesser Birchbeere\",\"Lesser Birchbeere\",\"Lesser Birchbeere\",\"Lesser Birchbeere\",\"Lesser Birchbeere\",\"Lesser Birchbeere\",\"Lesser Birchbeere\",\"Lesser Birchbeere\",\"Lesser Birchbeere\",\"Lesser Birchbeere\",\"Lesser Birchbeere\",\"Lesser Birchbeere\",\"Lesser Birchbeere\",\"Lesser Birchbeere\",\"Lesser Birchbeere\",\"Lesser Birchbeere\",\"Lesser Birchbeere\",\"Lesser Birchbeere\",\"Lesser Birchbeere\",\"Lesser Birchbeere\",\"Lesser Birchbeere\",\"Lesser Birchbeere\",\"Lesser Birchbeere\",\"Lesser Birchbeere\",\"Lesser Birchbeere\",\"Lesser Birchbeere\",\"Lesser Birchbeere\",\"Lesser Birchbeere\",\"Lesser Birchbeere\",\"Lesser Birchbeere\",\"Lesser Birchbeere\",\"Lesser Birchbeere\",\"Lesser Birchbeere\",\"Lesser Birchbeere\",\"Lesser Birchbeere\",\"Lesser Birchbeere\",\"Lesser Birchbeere\",\"Lesser Birchbeere\",\"Lesser Birchbeere\",\"Lesser Birchbeere\",\"Lesser Birchbeere\",\"Lesser Birchbeere\",\"Lesser Birchbeere\",\"Lesser Birchbeere\",\"Lesser Birchbeere\",\"Lesser Birchbeere\",\"Lesser Birchbeere\",\"Lesser Birchbeere\",\"Lesser Birchbeere\",\"Lesser Birchbeere\",\"Lesser Birchbeere\",\"Lesser Birchbeere\",\"Lesser Birchbeere\",\"Lesser Birchbeere\",\"Lesser Birchbeere\",\"Lesser Birchbeere\",\"Lesser Birchbeere\",\"Lesser Birchbeere\",\"Lesser Birchbeere\",\"Lesser Birchbeere\",\"Lesser Birchbeere\",\"Lesser Birchbeere\",\"Lesser Birchbeere\",\"Lesser Birchbeere\",\"Lesser Birchbeere\",\"Lesser Birchbeere\",\"Lesser Birchbeere\",\"Lesser Birchbeere\",\"Lesser Birchbeere\",\"Lesser Birchbeere\",\"Lesser Birchbeere\",\"Lesser Birchbeere\",\"Lesser Birchbeere\",\"Lesser Birchbeere\",\"Lesser Birchbeere\",\"Lesser Birchbeere\",\"Lesser Birchbeere\",\"Lesser Birchbeere\",\"Lesser Birchbeere\",\"Lesser Birchbeere\",\"Lesser Birchbeere\",\"Lesser Birchbeere\",\"Lesser Birchbeere\",\"Lesser Birchbeere\",\"Lesser Birchbeere\",\"Lesser Birchbeere\",\"Lesser Birchbeere\",\"Lesser Birchbeere\",\"Lesser Birchbeere\",\"Lesser Birchbeere\",\"Lesser Birchbeere\",\"Lesser Birchbeere\",\"Lesser Birchbeere\",\"Lesser Birchbeere\",\"Lesser Birchbeere\",\"Lesser Birchbeere\",\"Lesser Birchbeere\",\"Lesser Birchbeere\",\"Lesser Birchbeere\",\"Lesser Birchbeere\",\"Lesser Birchbeere\",\"Lesser Birchbeere\",\"Lesser Birchbeere\",\"Lesser Birchbeere\",\"Lesser Birchbeere\",\"Lesser Birchbeere\",\"Lesser Birchbeere\",\"Lesser Birchbeere\",\"Lesser Birchbeere\",\"Lesser Birchbeere\",\"Lesser Birchbeere\",\"Lesser Birchbeere\",\"Lesser Birchbeere\",\"Lesser Birchbeere\",\"Lesser Birchbeere\",\"Lesser Birchbeere\",\"Lesser Birchbeere\",\"Lesser Birchbeere\",\"Lesser Birchbeere\",\"Lesser Birchbeere\",\"Lesser Birchbeere\",\"Lesser Birchbeere\",\"Lesser Birchbeere\",\"Lesser Birchbeere\",\"Lesser Birchbeere\",\"Lesser Birchbeere\",\"Lesser Birchbeere\",\"Lesser Birchbeere\",\"Lesser Birchbeere\",\"Lesser Birchbeere\",\"Lesser Birchbeere\",\"Lesser Birchbeere\",\"Lesser Birchbeere\",\"Lesser Birchbeere\",\"Lesser Birchbeere\",\"Lesser Birchbeere\",\"Lesser Birchbeere\",\"Lesser Birchbeere\",\"Lesser Birchbeere\",\"Lesser Birchbeere\",\"Lesser Birchbeere\",\"Lesser Birchbeere\",\"Lesser Birchbeere\",\"Lesser Birchbeere\",\"Lesser Birchbeere\",\"Lesser Birchbeere\",\"Lesser Birchbeere\",\"Lesser Birchbeere\"],\"x\":{\"__ndarray__\":\"fTUlQGFSOEB9lbm/lF4EQFMvA0Cw8C2/nsYEQNJxBkC1R6M//U7iP0L3B0C6WeU/BZv9P8Pi7T876x5AE+EBQFHb4T96LuM/kEkZQO4OD0DuctA/Il5HP4HDIsDXdeg+IPSQP/x9iD/YOfa++eQdQJZI076m1x1AuQfvPmQ9pz/p8wtAQjrVPzIVdz/gU0xAsLhRQFPMjj/k9ek/j7w1vwveKEBEp8++4ZK4PQj1xj6WRCxAkzD5PggEGEA6rQO/wnAlQJ4tDUB0p7s/bin9Pr2VJcD/DRpALjr1Py0R6T8soyhAimAMQDgWlT9YyNU/2BlAP8qgD0Cx/hVAXZ3XPqBQDD9ZDTJAOe7jPxkNPT7Ul23AxlavPxryJUBaw4s//a6SP1W5C0AyNfs/TN+4P+BGKUC6jwo/UFMhQHv1UEC8+R1AfeVhQDz/cb7F86Y+t1/7vwkBNkDV5os/v79MPhZjBEB1PiVAQey4P2I/kr8HEw9ADsXyP9wDtT9ysgE/dwmKwO/nIEB/Vsg/2SQKQJX8krxWIyZAN2IHP8j1Fj6EjXi+O+edPmfxJEBXrJA/+GQ4v18qJkBkBSpAai1LQNJsSECwmNQ/+UcZQJ5bFkCEdxBAYEUDQCfkuz6YjZo/qVQDQE+mIEAPaZc/1aa4P5bfIkDQEc4/gGmJP3Cwnj4yFg0/Bxxlv9nBuL8I3FS/36odQH2d1j8RGvU/2DsNQPOPBkA/8Yq/93mUv3b60j+j9Am/gMbDv7TsHkAefqs/UFujP9/JmsA615A/j3AHQNX6rb/9Yr2/\",\"dtype\":\"float32\",\"shape\":[150]},\"y\":{\"__ndarray__\":\"/EBIwFonO8AosVtAzcptwKvUccA+h1i/cvFrwEGVbMBUT2m/mpNZwM0mcMAUKGXASd5pwEbHZ8B7q3PArUDLvsAeZMDu+fu/XXd3wCrWcMBJipa/43+mv8uwFcAvktq/b3WFv2wTQ7/UNrC//Odiv9tswL8FDXLAZNUxwBujg785PmbA8RlYwMNQfr/GdijAU8kTwIUKir9drIy/4nRFwBVJWcAYN5y/+oQLwMp2AMCOPl3AmMbLvzEjbsBbd1u/eqNSwKERZcBGJYy+rFfJvw1Hm78Ny3TA1+9nwAu8ZcCpjmDAIHB2wNfRE7+jTJa/x2VQvx62aMAGr2zAJM0CwOM9yL8VjUm+OHewv464EsBdNvM/hqhzv2mOSsBmpFq/ySRmvx48aMAWcG+/MeBivyi9YcAOMr6/bftpwDHNfb811nHAWXP9vl+Qsr/aoc2/qsQDwC/uNMAamI6/RRWHvyzeb8B56WTAPR9lv8H78L8OonHA9XBpwI8BfL9tqsi/wbQ8QPS0Z8DXXKK/DKZywAGizb/MAmPAjCYuwJKB3b/3ity/M2jtv5SETsAa5Tu/LeKSv36SQMA6D13AqXdzvzoFW7/gC5e/eth2wIkXd8BhAGW/V11xwFZz2r+nGoC/TUMBwGm8bsDlzlu/iGOIvwdTS8BESqG/S3PMvo7eRL+SPLq/rtHdv6ZpU0BgzZe/SrGMvxpllb95e76+jlcevz73eb/2y+e/EMLvv95qU8Bx7IO/xGqfP0Dd3b+X2LW+CuBxv3A5zT9lwhy/pJCGv2S0OEB84mRA\",\"dtype\":\"float32\",\"shape\":[150]}},\"selected\":{\"id\":\"572181e0-56ba-4457-a41f-d298a26f9f88\",\"type\":\"Selection\"},\"selection_policy\":{\"id\":\"905eea9d-0216-404c-aa2d-e051c68d6e3a\",\"type\":\"UnionRenderers\"}},\"id\":\"5a8f8dbd-8408-4227-9622-75c14811f230\",\"type\":\"ColumnDataSource\"},{\"attributes\":{\"fill_alpha\":{\"value\":0.1},\"fill_color\":{\"value\":\"#1f77b4\"},\"line_alpha\":{\"value\":0.1},\"line_color\":{\"value\":\"#1f77b4\"},\"size\":{\"units\":\"screen\",\"value\":5},\"x\":{\"field\":\"x\"},\"y\":{\"field\":\"y\"}},\"id\":\"6eeb4ef2-832b-4449-b94f-6d97acc69f04\",\"type\":\"Circle\"},{\"attributes\":{\"label\":{\"value\":\"Pinkfinch\"},\"renderers\":[{\"id\":\"977c08b5-bfd6-40f6-ab79-2ab712172925\",\"type\":\"GlyphRenderer\"}]},\"id\":\"432af35b-5f30-43c0-9c3a-9a62e3c266cc\",\"type\":\"LegendItem\"},{\"attributes\":{\"fill_alpha\":{\"value\":0.6},\"fill_color\":{\"field\":\"specie\",\"transform\":{\"id\":\"1ded21f3-8849-4f11-ac6d-baf80486c3fe\",\"type\":\"CategoricalColorMapper\"}},\"line_alpha\":{\"value\":0.6},\"line_color\":{\"field\":\"specie\",\"transform\":{\"id\":\"1ded21f3-8849-4f11-ac6d-baf80486c3fe\",\"type\":\"CategoricalColorMapper\"}},\"size\":{\"units\":\"screen\",\"value\":5},\"x\":{\"field\":\"x\"},\"y\":{\"field\":\"y\"}},\"id\":\"c1f94cd7-42c4-4239-8a83-713d4361aa17\",\"type\":\"Circle\"},{\"attributes\":{\"label\":{\"value\":\"Blue-collared Zipper\"},\"renderers\":[{\"id\":\"a93f52d8-3f1e-47f7-b1af-f2f0111d5698\",\"type\":\"GlyphRenderer\"}]},\"id\":\"9535ea1f-0492-4fbf-a446-6647a968d0f9\",\"type\":\"LegendItem\"},{\"attributes\":{},\"id\":\"bf4b946b-6de4-4f65-98d5-8478d20889f3\",\"type\":\"Selection\"},{\"attributes\":{\"data_source\":{\"id\":\"aab935d7-ec3e-48ae-81a8-ee4780ffded1\",\"type\":\"ColumnDataSource\"},\"glyph\":{\"id\":\"bdebd9af-5057-4f31-9104-b56cfc954c33\",\"type\":\"Circle\"},\"hover_glyph\":null,\"muted_glyph\":null,\"nonselection_glyph\":{\"id\":\"3b83183b-45ff-4eb8-8d40-a167047c8dd8\",\"type\":\"Circle\"},\"selection_glyph\":null,\"view\":{\"id\":\"b2e5c327-d1ed-41aa-9079-ebf3aa85dff5\",\"type\":\"CDSView\"}},\"id\":\"e968d1d2-1cc0-4b2b-accc-223385c1f803\",\"type\":\"GlyphRenderer\"},{\"attributes\":{\"callback\":null,\"data\":{\"index\":[1462,1463,1464,1465,1466,1467,1468,1469,1470,1471,1472,1473,1474,1475,1476,1477,1478,1479,1480,1481,1482,1483,1484,1485,1486,1487,1488,1489,1490,1491,1492,1493,1494,1495,1496,1497,1498,1499,1500,1501,1502,1503,1504,1505,1506,1507,1508,1509,1510,1511,1512,1513,1514,1515,1516,1517,1518,1519,1520,1521,1522,1523,1524,1525,1526,1527,1528,1529,1530,1531,1532],\"kasios_index\":{\"__ndarray__\":\"AAAAAAAA+H8AAAAAAAD4fwAAAAAAAPh/AAAAAAAA+H8AAAAAAAD4fwAAAAAAAPh/AAAAAAAA+H8AAAAAAAD4fwAAAAAAAPh/AAAAAAAA+H8AAAAAAAD4fwAAAAAAAPh/AAAAAAAA+H8AAAAAAAD4fwAAAAAAAPh/AAAAAAAA+H8AAAAAAAD4fwAAAAAAAPh/AAAAAAAA+H8AAAAAAAD4fwAAAAAAAPh/AAAAAAAA+H8AAAAAAAD4fwAAAAAAAPh/AAAAAAAA+H8AAAAAAAD4fwAAAAAAAPh/AAAAAAAA+H8AAAAAAAD4fwAAAAAAAPh/AAAAAAAA+H8AAAAAAAD4fwAAAAAAAPh/AAAAAAAA+H8AAAAAAAD4fwAAAAAAAPh/AAAAAAAA+H8AAAAAAAD4fwAAAAAAAPh/AAAAAAAA+H8AAAAAAAD4fwAAAAAAAPh/AAAAAAAA+H8AAAAAAAD4fwAAAAAAAPh/AAAAAAAA+H8AAAAAAAD4fwAAAAAAAPh/AAAAAAAA+H8AAAAAAAD4fwAAAAAAAPh/AAAAAAAA+H8AAAAAAAD4fwAAAAAAAPh/AAAAAAAA+H8AAAAAAAD4fwAAAAAAAPh/AAAAAAAA+H8AAAAAAAD4fwAAAAAAAPh/AAAAAAAA+H8AAAAAAAD4fwAAAAAAAPh/AAAAAAAA+H8AAAAAAAD4fwAAAAAAAPh/AAAAAAAA+H8AAAAAAAD4fwAAAAAAAPh/AAAAAAAA+H8AAAAAAAD4fw==\",\"dtype\":\"float64\",\"shape\":[71]},\"specie\":[\"Purple Tooting Tout\",\"Purple Tooting Tout\",\"Purple Tooting Tout\",\"Purple Tooting Tout\",\"Purple Tooting Tout\",\"Purple Tooting Tout\",\"Purple Tooting Tout\",\"Purple Tooting Tout\",\"Purple Tooting Tout\",\"Purple Tooting Tout\",\"Purple Tooting Tout\",\"Purple Tooting Tout\",\"Purple Tooting Tout\",\"Purple Tooting Tout\",\"Purple Tooting Tout\",\"Purple Tooting Tout\",\"Purple Tooting Tout\",\"Purple Tooting Tout\",\"Purple Tooting Tout\",\"Purple Tooting Tout\",\"Purple Tooting Tout\",\"Purple Tooting Tout\",\"Purple Tooting Tout\",\"Purple Tooting Tout\",\"Purple Tooting Tout\",\"Purple Tooting Tout\",\"Purple Tooting Tout\",\"Purple Tooting Tout\",\"Purple Tooting Tout\",\"Purple Tooting Tout\",\"Purple Tooting Tout\",\"Purple Tooting Tout\",\"Purple Tooting Tout\",\"Purple Tooting Tout\",\"Purple Tooting Tout\",\"Purple Tooting Tout\",\"Purple Tooting Tout\",\"Purple Tooting Tout\",\"Purple Tooting Tout\",\"Purple Tooting Tout\",\"Purple Tooting Tout\",\"Purple Tooting Tout\",\"Purple Tooting Tout\",\"Purple Tooting Tout\",\"Purple Tooting Tout\",\"Purple Tooting Tout\",\"Purple Tooting Tout\",\"Purple Tooting Tout\",\"Purple Tooting Tout\",\"Purple Tooting Tout\",\"Purple Tooting Tout\",\"Purple Tooting Tout\",\"Purple Tooting Tout\",\"Purple Tooting Tout\",\"Purple Tooting Tout\",\"Purple Tooting Tout\",\"Purple Tooting Tout\",\"Purple Tooting Tout\",\"Purple Tooting Tout\",\"Purple Tooting Tout\",\"Purple Tooting Tout\",\"Purple Tooting Tout\",\"Purple Tooting Tout\",\"Purple Tooting Tout\",\"Purple Tooting Tout\",\"Purple Tooting Tout\",\"Purple Tooting Tout\",\"Purple Tooting Tout\",\"Purple Tooting Tout\",\"Purple Tooting Tout\",\"Purple Tooting Tout\"],\"x\":{\"__ndarray__\":\"MPINQPZqksAvr/s/vVPbPyilGUCKUG3A6/guQHuIyj8gwTg/nNPYPzsLHUA2+6RAdOulQK3s+7wEJ5PAkluQwN7B/j8MjHxAkhLuPzmynUAJyFRAw1GRP+XLkj/27pE/5QqXPriBOMClNFfAPfr4v92KV8A2nI0/6biUv8JLqUCh8YdA6wBFwOvWdsCB50rAhz+lQFMZu0D3H6BAmP/vP2cbrL8ypGnAvcXHv6vZnMCzkXlAe7Rvv3NAH0A5TYFA1GVVwPQkfz+700XAjIZtwOcOw78xeVRAWgG1QB1BcUAoI1fALJ7+PYlTXz/+5xlAGSaUP/sVK0CHUT3A9AddQOuzacBiRRRAUNyGQOJA27/FqoFAkHuKQK42nUA=\",\"dtype\":\"float32\",\"shape\":[71]},\"y\":{\"__ndarray__\":\"HMFQwOHb4T9EajrAsWCWPX2uLsBaNgRAm5nWv3/Plb8V1TbAaW7Lv4vC8r8OML4+A4BiPsBG4L+/fJY/ml75PY1vNMAYEjk/vDK7v+XHiz+XZt+/RFo7wBvKP8DArjzAa/0rwDeuoEC8tKM/W9IiQBlrMUDIAee/zlJLvx40XUAgy08/YdaCP7jFhz+NDo8/RnJbQBcFZUBLe64/eLeAvjTSRkBa7ZNAhyhcQKp8tj7qKdS8WM7Jvp3fub5fMOc+HL+XP8XDuL+D1Bw/yL4UQCjocb1hvHi/MG1YQNbPP0DldHm8u3scwAeEKMAE3nfAUdQ6vwNBV8ClSbY/VhRtQGOS2z+f96M+Fpo5QKGJVUBFRwE/5dxJQH4guD4=\",\"dtype\":\"float32\",\"shape\":[71]}},\"selected\":{\"id\":\"d612efe0-c0cb-4f0b-a77c-f1a2451f3cc8\",\"type\":\"Selection\"},\"selection_policy\":{\"id\":\"9c6dd8d6-3294-4885-9aaa-71d66a6f8c3a\",\"type\":\"UnionRenderers\"}},\"id\":\"6fe77895-006f-4338-a991-1e29928ca74d\",\"type\":\"ColumnDataSource\"},{\"attributes\":{},\"id\":\"eaf273e0-63f7-44d1-9218-fa04081b23a0\",\"type\":\"WheelZoomTool\"},{\"attributes\":{},\"id\":\"75700e5c-47b4-4d49-bfb9-ad829fba8ff9\",\"type\":\"BasicTickFormatter\"},{\"attributes\":{\"fill_alpha\":{\"value\":0.6},\"fill_color\":{\"field\":\"specie\",\"transform\":{\"id\":\"1ded21f3-8849-4f11-ac6d-baf80486c3fe\",\"type\":\"CategoricalColorMapper\"}},\"line_alpha\":{\"value\":0.6},\"line_color\":{\"field\":\"specie\",\"transform\":{\"id\":\"1ded21f3-8849-4f11-ac6d-baf80486c3fe\",\"type\":\"CategoricalColorMapper\"}},\"size\":{\"units\":\"screen\",\"value\":5},\"x\":{\"field\":\"x\"},\"y\":{\"field\":\"y\"}},\"id\":\"64612391-3c55-4c8e-bc65-64b7298fe540\",\"type\":\"Circle\"},{\"attributes\":{\"source\":{\"id\":\"a2397436-bdb9-420e-a0b9-dec1fcc1bd81\",\"type\":\"ColumnDataSource\"}},\"id\":\"e35e894d-2dde-4b7b-b1e2-799326dca29c\",\"type\":\"CDSView\"},{\"attributes\":{\"fill_alpha\":{\"value\":0.1},\"fill_color\":{\"value\":\"#1f77b4\"},\"line_alpha\":{\"value\":0.1},\"line_color\":{\"value\":\"#1f77b4\"},\"size\":{\"units\":\"screen\",\"value\":5},\"x\":{\"field\":\"x\"},\"y\":{\"field\":\"y\"}},\"id\":\"995393fb-adda-4539-b295-8de385d665ef\",\"type\":\"Circle\"},{\"attributes\":{\"label\":{\"value\":\"Qax\"},\"renderers\":[{\"id\":\"73a0f8a1-5bd7-46df-9c51-c6255c29d094\",\"type\":\"GlyphRenderer\"}]},\"id\":\"eb2d1943-d1ac-4449-aabe-02c77644dd64\",\"type\":\"LegendItem\"},{\"attributes\":{\"label\":{\"value\":\"Ordinary Snape\"},\"renderers\":[{\"id\":\"47ec9c0e-cbf5-455c-ae3f-acf1fd7b865e\",\"type\":\"GlyphRenderer\"}]},\"id\":\"bd45b9be-eec0-43da-aa4b-c436588c3b1d\",\"type\":\"LegendItem\"},{\"attributes\":{\"source\":{\"id\":\"1f85f625-ad75-4dc0-9584-25b813e8d31a\",\"type\":\"ColumnDataSource\"}},\"id\":\"c83d067e-9aa8-4549-9b71-e66af60f21e2\",\"type\":\"CDSView\"},{\"attributes\":{\"fill_alpha\":{\"value\":0.6},\"fill_color\":{\"field\":\"specie\",\"transform\":{\"id\":\"1ded21f3-8849-4f11-ac6d-baf80486c3fe\",\"type\":\"CategoricalColorMapper\"}},\"line_alpha\":{\"value\":0.6},\"line_color\":{\"field\":\"specie\",\"transform\":{\"id\":\"1ded21f3-8849-4f11-ac6d-baf80486c3fe\",\"type\":\"CategoricalColorMapper\"}},\"size\":{\"units\":\"screen\",\"value\":5},\"x\":{\"field\":\"x\"},\"y\":{\"field\":\"y\"}},\"id\":\"e6f39afe-2e32-473a-ad38-68e7c5b41d2b\",\"type\":\"Circle\"},{\"attributes\":{},\"id\":\"1d669f68-d9e4-4337-95dc-729f40eaa046\",\"type\":\"Selection\"},{\"attributes\":{},\"id\":\"db994b8c-c09e-4783-88d1-3588c4af9f24\",\"type\":\"Selection\"},{\"attributes\":{},\"id\":\"cf14fadc-bf68-4332-8238-08ce4bdac46e\",\"type\":\"UnionRenderers\"},{\"attributes\":{},\"id\":\"d98c5364-155d-4243-986f-5e1084f88daa\",\"type\":\"UnionRenderers\"},{\"attributes\":{},\"id\":\"f3e46fac-5d3c-4c64-ad2a-236ebb50613c\",\"type\":\"Selection\"},{\"attributes\":{},\"id\":\"8a4dad64-0c5d-4b21-95bb-8d60a4db59a4\",\"type\":\"Selection\"},{\"attributes\":{},\"id\":\"8d9c80f5-2e06-4cd3-935d-700f56df16d9\",\"type\":\"Selection\"},{\"attributes\":{},\"id\":\"62ffac38-78a2-402e-9f6a-2a868a42f04e\",\"type\":\"UnionRenderers\"},{\"attributes\":{},\"id\":\"6ef94f9e-48b1-4233-9e14-445111a86cbc\",\"type\":\"UnionRenderers\"},{\"attributes\":{},\"id\":\"80cf1afc-e8d5-42e4-b635-1416095a670f\",\"type\":\"UnionRenderers\"},{\"attributes\":{},\"id\":\"24b33d23-1ae9-4f70-a86a-10155e83ca95\",\"type\":\"UnionRenderers\"},{\"attributes\":{},\"id\":\"0a10958e-9d34-4866-a02e-23b0f4a5c20b\",\"type\":\"UnionRenderers\"},{\"attributes\":{},\"id\":\"e179f47a-534b-40bc-bce9-2ae6d83f3616\",\"type\":\"Selection\"},{\"attributes\":{},\"id\":\"905eea9d-0216-404c-aa2d-e051c68d6e3a\",\"type\":\"UnionRenderers\"},{\"attributes\":{},\"id\":\"572181e0-56ba-4457-a41f-d298a26f9f88\",\"type\":\"Selection\"},{\"attributes\":{},\"id\":\"118eef77-7e8a-42b8-baa6-7ba36331ec80\",\"type\":\"UnionRenderers\"},{\"attributes\":{},\"id\":\"6aeb6ab1-cf39-443f-8f6a-bcfe538e53fe\",\"type\":\"Selection\"},{\"attributes\":{},\"id\":\"b5566153-edbb-49b8-ae25-3360d918b9a3\",\"type\":\"UnionRenderers\"},{\"attributes\":{},\"id\":\"d82a7592-d661-4ba9-85cd-d088f9673fed\",\"type\":\"Selection\"},{\"attributes\":{},\"id\":\"e9527fa3-894f-45ff-b925-3c281fc07e53\",\"type\":\"UnionRenderers\"},{\"attributes\":{},\"id\":\"6a767424-a51c-48ca-bb04-850f9603e7a4\",\"type\":\"UnionRenderers\"},{\"attributes\":{},\"id\":\"9c6dd8d6-3294-4885-9aaa-71d66a6f8c3a\",\"type\":\"UnionRenderers\"},{\"attributes\":{},\"id\":\"f8d0eb99-ee05-4c9d-8db9-8e0097cfeb81\",\"type\":\"Selection\"},{\"attributes\":{},\"id\":\"d612efe0-c0cb-4f0b-a77c-f1a2451f3cc8\",\"type\":\"Selection\"},{\"attributes\":{},\"id\":\"5baed4bb-d728-4d19-ba60-a870a8ccd01c\",\"type\":\"UnionRenderers\"},{\"attributes\":{},\"id\":\"2fe721f3-907e-451f-8281-45f2303e5899\",\"type\":\"UnionRenderers\"},{\"attributes\":{},\"id\":\"c13c2801-318a-4eb1-9dda-f0a24b9f60d7\",\"type\":\"Selection\"},{\"attributes\":{},\"id\":\"2104f7e7-dbc6-45af-a969-a20b25ba8cd6\",\"type\":\"Selection\"},{\"attributes\":{},\"id\":\"c8d47541-8864-4c3a-b666-24cada564cc3\",\"type\":\"Selection\"},{\"attributes\":{},\"id\":\"582aba43-6adb-400d-8e37-2573506ec048\",\"type\":\"UnionRenderers\"},{\"attributes\":{},\"id\":\"4c7ef1cb-a2cd-4480-a1d3-aafb74558946\",\"type\":\"Selection\"}],\"root_ids\":[\"d681732e-fabd-4538-978c-c3e4324620b8\"]},\"title\":\"Bokeh Application\",\"version\":\"0.13.0\"}};\n",
       "  var render_items = [{\"docid\":\"201caded-be7b-47e5-b6fd-9a024665ef25\",\"roots\":{\"d681732e-fabd-4538-978c-c3e4324620b8\":\"f4d22524-1c48-4bf9-a376-715697784ba3\"}}];\n",
       "  root.Bokeh.embed.embed_items_notebook(docs_json, render_items);\n",
       "\n",
       "  }\n",
       "  if (root.Bokeh !== undefined) {\n",
       "    embed_document(root);\n",
       "  } else {\n",
       "    var attempts = 0;\n",
       "    var timer = setInterval(function(root) {\n",
       "      if (root.Bokeh !== undefined) {\n",
       "        embed_document(root);\n",
       "        clearInterval(timer);\n",
       "      }\n",
       "      attempts++;\n",
       "      if (attempts > 100) {\n",
       "        console.log(\"Bokeh: ERROR: Unable to run BokehJS code because BokehJS library is missing\")\n",
       "        clearInterval(timer);\n",
       "      }\n",
       "    }, 10, root)\n",
       "  }\n",
       "})(window);"
      ],
      "application/vnd.bokehjs_exec.v0+json": ""
     },
     "metadata": {
      "application/vnd.bokehjs_exec.v0+json": {
       "id": "d681732e-fabd-4538-978c-c3e4324620b8"
      }
     },
     "output_type": "display_data"
    }
   ],
   "source": [
    "df_umap = pd.DataFrame(embedding, columns=('x', 'y'))\n",
    "df_umap['specie'] = [specie for specie in Y] + ['Kasios Test Bird' for i in range(15)]\n",
    "df_umap['kasios_index'] = [None for i in Y] + [i for i in range(1, 16)]\n",
    "\n",
    "\n",
    "plot_figure = figure(\n",
    "    title='UMAP projection of the birds songs',\n",
    "    plot_width=800,\n",
    "    plot_height=600,\n",
    "    tools=('pan, wheel_zoom, reset'), \n",
    "    toolbar_location='above'\n",
    ")\n",
    "\n",
    "color_mapping = CategoricalColorMapper(factors=df_umap['specie'].unique(),\n",
    "                                       palette=Category20[20])\n",
    "\n",
    "plot_figure.add_tools(HoverTool(tooltips=\"\"\"\n",
    "<div>\n",
    "    <div>\n",
    "        <span style='font-size: 13px; color: #224499'>Specie:</span>\n",
    "        <span style='font-size: 13px'>@specie</span>\n",
    "    </div>\n",
    "</div>\n",
    "\"\"\"))\n",
    "\n",
    "legend_items = []\n",
    "\n",
    "for specie in df_umap['specie'].unique():\n",
    "    datasource = ColumnDataSource(df_umap.loc[df_umap['specie'] == specie])\n",
    "    if specie == 'Kasios Test Bird':\n",
    "        c = plot_figure.circle('x', 'y', source=datasource, color='black',\n",
    "                               line_alpha=0.7, fill_alpha=0.7, size=20)\n",
    "\n",
    "        plot_figure.text('x', 'y', text='kasios_index', x_offset=-5, y_offset=8,\n",
    "                         source=datasource, text_font_size='10pt', text_color='white')\n",
    "    else:\n",
    "        c = plot_figure.circle('x', 'y', source=datasource,\n",
    "                               color=dict(field='specie', transform=color_mapping),\n",
    "                               line_alpha=0.6, fill_alpha=0.6, size=5)\n",
    "        \n",
    "    legend_items.append((specie, [c]))\n",
    "    \n",
    "\n",
    "legend = Legend(items=legend_items, location=(30, 50))\n",
    "legend.click_policy = 'hide'\n",
    "plot_figure.add_layout(legend, 'right')\n",
    "\n",
    "show(plot_figure)"
   ]
  },
  {
   "cell_type": "code",
   "execution_count": 42,
   "metadata": {
    "ExecuteTime": {
     "end_time": "2018-11-30T22:40:06.852962Z",
     "start_time": "2018-11-30T22:40:06.625908Z"
    }
   },
   "outputs": [
    {
     "data": {
      "text/html": [
       "\n",
       "\n",
       "\n",
       "\n",
       "\n",
       "\n",
       "  <div class=\"bk-root\" id=\"bf418137-4648-4a70-a419-2d1a3f254b45\"></div>\n"
      ]
     },
     "metadata": {},
     "output_type": "display_data"
    },
    {
     "data": {
      "application/javascript": [
       "(function(root) {\n",
       "  function embed_document(root) {\n",
       "    \n",
       "  var docs_json = {\"03b1e086-c078-499e-92b4-6743b614e742\":{\"roots\":{\"references\":[{\"attributes\":{\"fill_alpha\":{\"value\":0.1},\"fill_color\":{\"value\":\"#1f77b4\"},\"line_alpha\":{\"value\":0.1},\"line_color\":{\"value\":\"#1f77b4\"},\"size\":{\"units\":\"screen\",\"value\":5},\"x\":{\"field\":\"x\"},\"y\":{\"field\":\"y\"}},\"id\":\"883ab98e-886b-4d10-87f3-600ce0515e90\",\"type\":\"Circle\"},{\"attributes\":{\"label\":{\"value\":\"Queenscoat\"},\"renderers\":[{\"id\":\"59e12331-5edc-47dc-a9ed-4cd7504ce997\",\"type\":\"GlyphRenderer\"}]},\"id\":\"1f025fd0-fda5-4035-b566-a229655a29af\",\"type\":\"LegendItem\"},{\"attributes\":{},\"id\":\"79068af9-1ed7-4df6-95e4-b98168edf588\",\"type\":\"BasicTickFormatter\"},{\"attributes\":{\"fill_alpha\":{\"value\":0.1},\"fill_color\":{\"value\":\"#1f77b4\"},\"line_alpha\":{\"value\":0.1},\"line_color\":{\"value\":\"#1f77b4\"},\"size\":{\"units\":\"screen\",\"value\":5},\"x\":{\"field\":\"x\"},\"y\":{\"field\":\"y\"}},\"id\":\"23fafbdf-87c4-48a7-be97-d16198b40e16\",\"type\":\"Circle\"},{\"attributes\":{\"fill_alpha\":{\"value\":0.1},\"fill_color\":{\"field\":\"specie\",\"transform\":{\"id\":\"7fce4134-8958-4190-a01d-8079d6ae9cf6\",\"type\":\"CategoricalColorMapper\"}},\"line_alpha\":{\"value\":0.1},\"line_color\":{\"field\":\"specie\",\"transform\":{\"id\":\"7fce4134-8958-4190-a01d-8079d6ae9cf6\",\"type\":\"CategoricalColorMapper\"}},\"size\":{\"units\":\"screen\",\"value\":5},\"x\":{\"field\":\"x\"},\"y\":{\"field\":\"y\"}},\"id\":\"efb79dca-71ca-4756-82d8-a35f473cda5b\",\"type\":\"Circle\"},{\"attributes\":{\"label\":{\"value\":\"Vermillion Trillian\"},\"renderers\":[{\"id\":\"55ecab02-2bdf-4c76-890c-516a52bc8fbc\",\"type\":\"GlyphRenderer\"}]},\"id\":\"d6a910be-c72c-47a2-a31f-cb418e13b19b\",\"type\":\"LegendItem\"},{\"attributes\":{\"fill_alpha\":{\"value\":0.1},\"fill_color\":{\"field\":\"specie\",\"transform\":{\"id\":\"7fce4134-8958-4190-a01d-8079d6ae9cf6\",\"type\":\"CategoricalColorMapper\"}},\"line_alpha\":{\"value\":0.1},\"line_color\":{\"field\":\"specie\",\"transform\":{\"id\":\"7fce4134-8958-4190-a01d-8079d6ae9cf6\",\"type\":\"CategoricalColorMapper\"}},\"size\":{\"units\":\"screen\",\"value\":5},\"x\":{\"field\":\"x\"},\"y\":{\"field\":\"y\"}},\"id\":\"76b674c1-6cd5-4871-a7f4-87eec6d48f5f\",\"type\":\"Circle\"},{\"attributes\":{\"fill_alpha\":{\"value\":0.6},\"fill_color\":{\"field\":\"specie\",\"transform\":{\"id\":\"7fce4134-8958-4190-a01d-8079d6ae9cf6\",\"type\":\"CategoricalColorMapper\"}},\"line_alpha\":{\"value\":0.6},\"line_color\":{\"field\":\"specie\",\"transform\":{\"id\":\"7fce4134-8958-4190-a01d-8079d6ae9cf6\",\"type\":\"CategoricalColorMapper\"}},\"size\":{\"units\":\"screen\",\"value\":5},\"x\":{\"field\":\"x\"},\"y\":{\"field\":\"y\"}},\"id\":\"91be2d5c-e26e-4981-b5c2-fd1a753c4451\",\"type\":\"Circle\"},{\"attributes\":{},\"id\":\"d09773e0-8fe7-47e2-805c-f39cd16a242c\",\"type\":\"Selection\"},{\"attributes\":{\"data_source\":{\"id\":\"5c112583-51fd-4ce6-9e21-4010263587fa\",\"type\":\"ColumnDataSource\"},\"glyph\":{\"id\":\"698ae141-1806-466b-bcc4-a5fd1f33cdeb\",\"type\":\"Circle\"},\"hover_glyph\":null,\"muted\":true,\"muted_glyph\":{\"id\":\"1f131137-90eb-43cf-892d-d104ff175d60\",\"type\":\"Circle\"},\"nonselection_glyph\":{\"id\":\"5db9e3c9-bf96-4d59-916b-76da3f30ce1f\",\"type\":\"Circle\"},\"selection_glyph\":null,\"view\":{\"id\":\"3f03703f-bce8-4f9c-b040-1e319307254c\",\"type\":\"CDSView\"}},\"id\":\"55ecab02-2bdf-4c76-890c-516a52bc8fbc\",\"type\":\"GlyphRenderer\"},{\"attributes\":{},\"id\":\"90b94e6a-8a05-4b09-ae4d-a29526cc4011\",\"type\":\"UnionRenderers\"},{\"attributes\":{\"source\":{\"id\":\"f5761d9c-eea9-43d3-ab2e-b8bf268a55b7\",\"type\":\"ColumnDataSource\"}},\"id\":\"b4e8c2e7-fc84-43d8-8c35-b7db222d76f9\",\"type\":\"CDSView\"},{\"attributes\":{},\"id\":\"72080a08-5bf1-4c85-a2b3-1f1978bc3b2f\",\"type\":\"Selection\"},{\"attributes\":{\"label\":{\"value\":\"Bent-beak Riffraff\"},\"renderers\":[{\"id\":\"1187029d-bda6-4cd1-96dd-9d5c37f4e895\",\"type\":\"GlyphRenderer\"}]},\"id\":\"178bac63-1933-4e5e-856f-aade9f173f0b\",\"type\":\"LegendItem\"},{\"attributes\":{\"label\":{\"value\":\"Scrawny Jay\"},\"renderers\":[{\"id\":\"a4cc2075-1b78-4b59-ad76-ae804ecd327c\",\"type\":\"GlyphRenderer\"}]},\"id\":\"54cda899-7cbc-4ab4-a4d0-40477245c28a\",\"type\":\"LegendItem\"},{\"attributes\":{\"source\":{\"id\":\"a5f57203-238b-4eb5-9038-7825b663f32d\",\"type\":\"ColumnDataSource\"}},\"id\":\"d00f7d7d-8027-4250-b20d-eca5b07b957d\",\"type\":\"CDSView\"},{\"attributes\":{\"fill_alpha\":{\"value\":0.1},\"fill_color\":{\"field\":\"specie\",\"transform\":{\"id\":\"7fce4134-8958-4190-a01d-8079d6ae9cf6\",\"type\":\"CategoricalColorMapper\"}},\"line_alpha\":{\"value\":0.1},\"line_color\":{\"field\":\"specie\",\"transform\":{\"id\":\"7fce4134-8958-4190-a01d-8079d6ae9cf6\",\"type\":\"CategoricalColorMapper\"}},\"size\":{\"units\":\"screen\",\"value\":5},\"x\":{\"field\":\"x\"},\"y\":{\"field\":\"y\"}},\"id\":\"70af10cc-6cb1-414c-8630-c03a685b1fa1\",\"type\":\"Circle\"},{\"attributes\":{\"data_source\":{\"id\":\"a5f57203-238b-4eb5-9038-7825b663f32d\",\"type\":\"ColumnDataSource\"},\"glyph\":{\"id\":\"895d4aae-c96c-4a61-9871-86851e5db77b\",\"type\":\"Circle\"},\"hover_glyph\":null,\"muted\":true,\"muted_glyph\":{\"id\":\"70af10cc-6cb1-414c-8630-c03a685b1fa1\",\"type\":\"Circle\"},\"nonselection_glyph\":{\"id\":\"05298957-8ab0-4cb8-b577-84985f7fcb9c\",\"type\":\"Circle\"},\"selection_glyph\":null,\"view\":{\"id\":\"d00f7d7d-8027-4250-b20d-eca5b07b957d\",\"type\":\"CDSView\"}},\"id\":\"a4cc2075-1b78-4b59-ad76-ae804ecd327c\",\"type\":\"GlyphRenderer\"},{\"attributes\":{},\"id\":\"b2de39da-3728-4c52-800b-eb8a30de1712\",\"type\":\"Selection\"},{\"attributes\":{},\"id\":\"d81afc12-3e7a-4234-ba7f-436030406f7f\",\"type\":\"UnionRenderers\"},{\"attributes\":{\"fill_alpha\":{\"value\":0.6},\"fill_color\":{\"field\":\"specie\",\"transform\":{\"id\":\"7fce4134-8958-4190-a01d-8079d6ae9cf6\",\"type\":\"CategoricalColorMapper\"}},\"line_alpha\":{\"value\":0.6},\"line_color\":{\"field\":\"specie\",\"transform\":{\"id\":\"7fce4134-8958-4190-a01d-8079d6ae9cf6\",\"type\":\"CategoricalColorMapper\"}},\"size\":{\"units\":\"screen\",\"value\":5},\"x\":{\"field\":\"x\"},\"y\":{\"field\":\"y\"}},\"id\":\"72ca70ea-f4f6-43b5-ad70-7ab609039027\",\"type\":\"Circle\"},{\"attributes\":{\"callback\":null,\"data\":{\"index\":[1983,1984,1985,1986,1987,1988,1989,1990,1991,1992,1993,1994,1995,1996,1997,1998,1999,2000,2001,2002,2003,2004,2005,2006,2007,2008,2009,2010,2011,2012,2013,2014,2015,2016,2017,2018,2019,2020,2021,2022,2023,2024,2025,2026,2027,2028,2029,2030,2031,2032,2033,2034,2035,2036,2037,2038,2039,2040,2041,2042,2043,2044,2045,2046,2047,2048,2049,2050,2051,2052,2053,2054,2055,2056,2057,2058,2059,2060,2061,2062,2063,2064,2065,2066],\"kasios_index\":{\"__ndarray__\":\"AAAAAAAA+H8AAAAAAAD4fwAAAAAAAPh/AAAAAAAA+H8AAAAAAAD4fwAAAAAAAPh/AAAAAAAA+H8AAAAAAAD4fwAAAAAAAPh/AAAAAAAA+H8AAAAAAAD4fwAAAAAAAPh/AAAAAAAA+H8AAAAAAAD4fwAAAAAAAPh/AAAAAAAA+H8AAAAAAAD4fwAAAAAAAPh/AAAAAAAA+H8AAAAAAAD4fwAAAAAAAPh/AAAAAAAA+H8AAAAAAAD4fwAAAAAAAPh/AAAAAAAA+H8AAAAAAAD4fwAAAAAAAPh/AAAAAAAA+H8AAAAAAAD4fwAAAAAAAPh/AAAAAAAA+H8AAAAAAAD4fwAAAAAAAPh/AAAAAAAA+H8AAAAAAAD4fwAAAAAAAPh/AAAAAAAA+H8AAAAAAAD4fwAAAAAAAPh/AAAAAAAA+H8AAAAAAAD4fwAAAAAAAPh/AAAAAAAA+H8AAAAAAAD4fwAAAAAAAPh/AAAAAAAA+H8AAAAAAAD4fwAAAAAAAPh/AAAAAAAA+H8AAAAAAAD4fwAAAAAAAPh/AAAAAAAA+H8AAAAAAAD4fwAAAAAAAPh/AAAAAAAA+H8AAAAAAAD4fwAAAAAAAPh/AAAAAAAA+H8AAAAAAAD4fwAAAAAAAPh/AAAAAAAA+H8AAAAAAAD4fwAAAAAAAPh/AAAAAAAA+H8AAAAAAAD4fwAAAAAAAPh/AAAAAAAA+H8AAAAAAAD4fwAAAAAAAPh/AAAAAAAA+H8AAAAAAAD4fwAAAAAAAPh/AAAAAAAA+H8AAAAAAAD4fwAAAAAAAPh/AAAAAAAA+H8AAAAAAAD4fwAAAAAAAPh/AAAAAAAA+H8AAAAAAAD4fwAAAAAAAPh/AAAAAAAA+H8AAAAAAAD4fwAAAAAAAPh/\",\"dtype\":\"float64\",\"shape\":[84]},\"specie\":[\"Vermillion Trillian\",\"Vermillion Trillian\",\"Vermillion Trillian\",\"Vermillion Trillian\",\"Vermillion Trillian\",\"Vermillion Trillian\",\"Vermillion Trillian\",\"Vermillion Trillian\",\"Vermillion Trillian\",\"Vermillion Trillian\",\"Vermillion Trillian\",\"Vermillion Trillian\",\"Vermillion Trillian\",\"Vermillion Trillian\",\"Vermillion Trillian\",\"Vermillion Trillian\",\"Vermillion Trillian\",\"Vermillion Trillian\",\"Vermillion Trillian\",\"Vermillion Trillian\",\"Vermillion Trillian\",\"Vermillion Trillian\",\"Vermillion Trillian\",\"Vermillion Trillian\",\"Vermillion Trillian\",\"Vermillion Trillian\",\"Vermillion Trillian\",\"Vermillion Trillian\",\"Vermillion Trillian\",\"Vermillion Trillian\",\"Vermillion Trillian\",\"Vermillion Trillian\",\"Vermillion Trillian\",\"Vermillion Trillian\",\"Vermillion Trillian\",\"Vermillion Trillian\",\"Vermillion Trillian\",\"Vermillion Trillian\",\"Vermillion Trillian\",\"Vermillion Trillian\",\"Vermillion Trillian\",\"Vermillion Trillian\",\"Vermillion Trillian\",\"Vermillion Trillian\",\"Vermillion Trillian\",\"Vermillion Trillian\",\"Vermillion Trillian\",\"Vermillion Trillian\",\"Vermillion Trillian\",\"Vermillion Trillian\",\"Vermillion Trillian\",\"Vermillion Trillian\",\"Vermillion Trillian\",\"Vermillion Trillian\",\"Vermillion Trillian\",\"Vermillion Trillian\",\"Vermillion Trillian\",\"Vermillion Trillian\",\"Vermillion Trillian\",\"Vermillion Trillian\",\"Vermillion Trillian\",\"Vermillion Trillian\",\"Vermillion Trillian\",\"Vermillion Trillian\",\"Vermillion Trillian\",\"Vermillion Trillian\",\"Vermillion Trillian\",\"Vermillion Trillian\",\"Vermillion Trillian\",\"Vermillion Trillian\",\"Vermillion Trillian\",\"Vermillion Trillian\",\"Vermillion Trillian\",\"Vermillion Trillian\",\"Vermillion Trillian\",\"Vermillion Trillian\",\"Vermillion Trillian\",\"Vermillion Trillian\",\"Vermillion Trillian\",\"Vermillion Trillian\",\"Vermillion Trillian\",\"Vermillion Trillian\",\"Vermillion Trillian\",\"Vermillion Trillian\"],\"x\":{\"__ndarray__\":\"yiFjwFuDgsB4T6nALZOpwL4Rt8AaOVDALE73vy98DMCdMVXAsBiOwF7kp8DD+wPAj+JBwPQegMCNSBHA/0CowEaXPMAIrDrA4OtjwK0LLsA3yjPAjZdcwOHKgcAR+GvAsiR1wNFXUcDUAWvAPg+RwPsMUMBYyyTAL5YIwNqzf8BvGZnAedBJwAY0CcD6u0/AQfCqQO/Szz+4833AYROEwG4HasARCUbA8QiVwCcXRMD321PAUbILwMrpOcAfXZPAk+I5wMVchMC12JzAwLdQwFCHg8BWVYjA/5dQwG0sAcD4nJdA/lSRwAh2MMBiWoLAav2BwIkeXMCPioDAhLCbv6AWOMAo66zAHjcswM00H8DMSyDAFZoCwJ/3F8CjAkDACwyTQCOgU8Ap0MG/6f13wBPlP8CMKgXAEiOFwEvLZcCcM0PAHOQLwPFTC8CPD3PA\",\"dtype\":\"float32\",\"shape\":[84]},\"y\":{\"__ndarray__\":\"lXSXQCtbbkDEpTVAftH3PlQ7BD+MhnNA26qJQFvsX7+H64NAugqMQOMVSUC8CiW8CXqeQOf9fUBmso5AJVnJPmtrnkBF5ZtAVP8/QG0EcECiQ21AxtSUQKLxkkB/HWVA0FElQKl5aUAVSaE/8fUGQOyDZUA+2oBAW8RhQPITREDobgNADBHjPnWfhUCE92hA6IMFQCMOCb+4VkVA0X2QQAQfjUDGaZxA9F8HQF4BikAYcY1AqERhQHNPkUDyQTg+9y+cQGmcj0B+i21A+65xQAfwi0CzQYpAOe2AQJAHWkCPqZg/Oz5wQG5ma0AQZR1AqUgmQC/paUDRYndAWrPvv+ICmkAKMqA+80owQDhRLkBjci1A3xFmQKeZU0DUUT5A8PRWQMScZkDI8jLAGgpxQAJjdUCsj4BAhll9P8o+FUC2IZ5ApxN7QIohZUBYr7Q/\",\"dtype\":\"float32\",\"shape\":[84]}},\"selected\":{\"id\":\"3ccc06d0-d5b5-4624-aa8a-34f55568e6dd\",\"type\":\"Selection\"},\"selection_policy\":{\"id\":\"f3cb0389-c7a8-46b3-b110-91811e1008be\",\"type\":\"UnionRenderers\"}},\"id\":\"5c112583-51fd-4ce6-9e21-4010263587fa\",\"type\":\"ColumnDataSource\"},{\"attributes\":{},\"id\":\"ff8a2764-4119-4650-bbb0-d0b8a94c9015\",\"type\":\"UnionRenderers\"},{\"attributes\":{},\"id\":\"c5f50f30-4e29-48fc-8fab-344954e2afd5\",\"type\":\"Selection\"},{\"attributes\":{\"fill_alpha\":{\"value\":0.6},\"fill_color\":{\"field\":\"specie\",\"transform\":{\"id\":\"7fce4134-8958-4190-a01d-8079d6ae9cf6\",\"type\":\"CategoricalColorMapper\"}},\"line_alpha\":{\"value\":0.6},\"line_color\":{\"field\":\"specie\",\"transform\":{\"id\":\"7fce4134-8958-4190-a01d-8079d6ae9cf6\",\"type\":\"CategoricalColorMapper\"}},\"size\":{\"units\":\"screen\",\"value\":5},\"x\":{\"field\":\"x\"},\"y\":{\"field\":\"y\"}},\"id\":\"895d4aae-c96c-4a61-9871-86851e5db77b\",\"type\":\"Circle\"},{\"attributes\":{\"label\":{\"value\":\"Rose-crested Blue Pipit\"},\"renderers\":[{\"id\":\"459a622e-e9cc-4a9a-b4c5-11209f279255\",\"type\":\"GlyphRenderer\"}]},\"id\":\"0ebbb57e-bd42-47fa-8e16-8e0384e94a5a\",\"type\":\"LegendItem\"},{\"attributes\":{\"label\":{\"value\":\"Canadian Cootamum\"},\"renderers\":[{\"id\":\"ad12a54c-7e6f-4077-83b6-62ac814f8dd5\",\"type\":\"GlyphRenderer\"}]},\"id\":\"1b67f7e8-ea7d-45f1-b268-81acb82c91e2\",\"type\":\"LegendItem\"},{\"attributes\":{\"callback\":null,\"data\":{\"index\":[253,254,255,256,257,258,259,260,261,262,263,264,265,266,267,268,269,270,271,272,273,274,275,276,277,278,279,280,281,282,283,284,285,286,287,288,289,290,291,292,293,294,295,296,297,298,299,300,301,302,303,304,305,306,307,308,309,310,311,312,313,314,315,316,317,318,319,320,321,322,323,324,325,326,327,328,329,330,331,332,333,334,335,336,337,338,339,340,341,342,343,344,345,346,347,348,349,350,351,352,353,354,355,356,357,358,359,360,361,362,363,364,365,366,367,368,369,370,371,372,373,374,375,376,377,378,379,380,381,382,383,384,385,386,387,388,389],\"kasios_index\":{\"__ndarray__\":\"AAAAAAAA+H8AAAAAAAD4fwAAAAAAAPh/AAAAAAAA+H8AAAAAAAD4fwAAAAAAAPh/AAAAAAAA+H8AAAAAAAD4fwAAAAAAAPh/AAAAAAAA+H8AAAAAAAD4fwAAAAAAAPh/AAAAAAAA+H8AAAAAAAD4fwAAAAAAAPh/AAAAAAAA+H8AAAAAAAD4fwAAAAAAAPh/AAAAAAAA+H8AAAAAAAD4fwAAAAAAAPh/AAAAAAAA+H8AAAAAAAD4fwAAAAAAAPh/AAAAAAAA+H8AAAAAAAD4fwAAAAAAAPh/AAAAAAAA+H8AAAAAAAD4fwAAAAAAAPh/AAAAAAAA+H8AAAAAAAD4fwAAAAAAAPh/AAAAAAAA+H8AAAAAAAD4fwAAAAAAAPh/AAAAAAAA+H8AAAAAAAD4fwAAAAAAAPh/AAAAAAAA+H8AAAAAAAD4fwAAAAAAAPh/AAAAAAAA+H8AAAAAAAD4fwAAAAAAAPh/AAAAAAAA+H8AAAAAAAD4fwAAAAAAAPh/AAAAAAAA+H8AAAAAAAD4fwAAAAAAAPh/AAAAAAAA+H8AAAAAAAD4fwAAAAAAAPh/AAAAAAAA+H8AAAAAAAD4fwAAAAAAAPh/AAAAAAAA+H8AAAAAAAD4fwAAAAAAAPh/AAAAAAAA+H8AAAAAAAD4fwAAAAAAAPh/AAAAAAAA+H8AAAAAAAD4fwAAAAAAAPh/AAAAAAAA+H8AAAAAAAD4fwAAAAAAAPh/AAAAAAAA+H8AAAAAAAD4fwAAAAAAAPh/AAAAAAAA+H8AAAAAAAD4fwAAAAAAAPh/AAAAAAAA+H8AAAAAAAD4fwAAAAAAAPh/AAAAAAAA+H8AAAAAAAD4fwAAAAAAAPh/AAAAAAAA+H8AAAAAAAD4fwAAAAAAAPh/AAAAAAAA+H8AAAAAAAD4fwAAAAAAAPh/AAAAAAAA+H8AAAAAAAD4fwAAAAAAAPh/AAAAAAAA+H8AAAAAAAD4fwAAAAAAAPh/AAAAAAAA+H8AAAAAAAD4fwAAAAAAAPh/AAAAAAAA+H8AAAAAAAD4fwAAAAAAAPh/AAAAAAAA+H8AAAAAAAD4fwAAAAAAAPh/AAAAAAAA+H8AAAAAAAD4fwAAAAAAAPh/AAAAAAAA+H8AAAAAAAD4fwAAAAAAAPh/AAAAAAAA+H8AAAAAAAD4fwAAAAAAAPh/AAAAAAAA+H8AAAAAAAD4fwAAAAAAAPh/AAAAAAAA+H8AAAAAAAD4fwAAAAAAAPh/AAAAAAAA+H8AAAAAAAD4fwAAAAAAAPh/AAAAAAAA+H8AAAAAAAD4fwAAAAAAAPh/AAAAAAAA+H8AAAAAAAD4fwAAAAAAAPh/AAAAAAAA+H8AAAAAAAD4fwAAAAAAAPh/AAAAAAAA+H8AAAAAAAD4fwAAAAAAAPh/AAAAAAAA+H8AAAAAAAD4fwAAAAAAAPh/AAAAAAAA+H8AAAAAAAD4fw==\",\"dtype\":\"float64\",\"shape\":[137]},\"specie\":[\"Bombadil\",\"Bombadil\",\"Bombadil\",\"Bombadil\",\"Bombadil\",\"Bombadil\",\"Bombadil\",\"Bombadil\",\"Bombadil\",\"Bombadil\",\"Bombadil\",\"Bombadil\",\"Bombadil\",\"Bombadil\",\"Bombadil\",\"Bombadil\",\"Bombadil\",\"Bombadil\",\"Bombadil\",\"Bombadil\",\"Bombadil\",\"Bombadil\",\"Bombadil\",\"Bombadil\",\"Bombadil\",\"Bombadil\",\"Bombadil\",\"Bombadil\",\"Bombadil\",\"Bombadil\",\"Bombadil\",\"Bombadil\",\"Bombadil\",\"Bombadil\",\"Bombadil\",\"Bombadil\",\"Bombadil\",\"Bombadil\",\"Bombadil\",\"Bombadil\",\"Bombadil\",\"Bombadil\",\"Bombadil\",\"Bombadil\",\"Bombadil\",\"Bombadil\",\"Bombadil\",\"Bombadil\",\"Bombadil\",\"Bombadil\",\"Bombadil\",\"Bombadil\",\"Bombadil\",\"Bombadil\",\"Bombadil\",\"Bombadil\",\"Bombadil\",\"Bombadil\",\"Bombadil\",\"Bombadil\",\"Bombadil\",\"Bombadil\",\"Bombadil\",\"Bombadil\",\"Bombadil\",\"Bombadil\",\"Bombadil\",\"Bombadil\",\"Bombadil\",\"Bombadil\",\"Bombadil\",\"Bombadil\",\"Bombadil\",\"Bombadil\",\"Bombadil\",\"Bombadil\",\"Bombadil\",\"Bombadil\",\"Bombadil\",\"Bombadil\",\"Bombadil\",\"Bombadil\",\"Bombadil\",\"Bombadil\",\"Bombadil\",\"Bombadil\",\"Bombadil\",\"Bombadil\",\"Bombadil\",\"Bombadil\",\"Bombadil\",\"Bombadil\",\"Bombadil\",\"Bombadil\",\"Bombadil\",\"Bombadil\",\"Bombadil\",\"Bombadil\",\"Bombadil\",\"Bombadil\",\"Bombadil\",\"Bombadil\",\"Bombadil\",\"Bombadil\",\"Bombadil\",\"Bombadil\",\"Bombadil\",\"Bombadil\",\"Bombadil\",\"Bombadil\",\"Bombadil\",\"Bombadil\",\"Bombadil\",\"Bombadil\",\"Bombadil\",\"Bombadil\",\"Bombadil\",\"Bombadil\",\"Bombadil\",\"Bombadil\",\"Bombadil\",\"Bombadil\",\"Bombadil\",\"Bombadil\",\"Bombadil\",\"Bombadil\",\"Bombadil\",\"Bombadil\",\"Bombadil\",\"Bombadil\",\"Bombadil\",\"Bombadil\",\"Bombadil\",\"Bombadil\",\"Bombadil\",\"Bombadil\",\"Bombadil\"],\"x\":{\"__ndarray__\":\"H0AEwMTNpcAN5QrA40E+wONxXsCKEK3AhJGHwBOWAUAu2mrA712lwO2P4b9abY3A/mbTv+5sTsCzdZ/A0huJwNJ/M8BKDAm/uRqtwMm8ocD1o6PAoSqZwAaZqsCEJ7LAHY2QwOdUWMAgnBzAw8mowAq9scDxKdW+wtklQOgxd8DIUILAIN6kwHauXsAyCIXAccSdvzvwCMDonyfA90SswENvmsDpOJvAqA9sQD9EGcDdO3jAbO7Tv1xKJ0C3RgrAk+uawHeLgsDizoPAFOYzwJoaLcCT9i+/Kn99wPOYtr8oWpTAx84XvwwRjb9o5p3A411TwDI+NMAlrc4/cxZewO7UrMCiDDvAqp1TwFP+hkAyhJu/9XsVPgboksB8Ds6/TFRnwGCascAryq7AcHR0wGzUicCxZKrA+hhJwOzXC0DuTkVAyLsyPy6RPsD2NEzANKNEwGOJWsBX7knAdWFIwCYpTMA16v+/CB3Rv3PgTsCCrGTA5OMHwL4wCsB5463AU/RdwFt7ZcCyAa3AsMGtwOI0FsAX2qvAXm+qwIE1hr/6ZTnAIlVbwGM+RkDJOX3AmTWjv+NWwj/CFGPA9KSYwMqQF8DwT31A/bKnwDZRUcC6/tC/htWpQB44psCNM4PA5u1nwLKZIsDB5RFAjMBtP9LcQsAxFVpA3WD0v1tgBEDHbAzAsYfIvx/Ex79z34bAdQliwIDONMDoL2jAZPLmv/O9FcA=\",\"dtype\":\"float32\",\"shape\":[137]},\"y\":{\"__ndarray__\":\"4xxFQCnktj9uhTVAfK8eQALOR0CXxik/06SovucUm784hhk/UFmtPqAPsT+tUAK9jaRLwEBDJD6e/hlA0SlWP174Z7+L3kfAZJePP6ONCUAo+glAYxQRQGKMEz5GEKs+Mv07Pp4eRT34GZO88MC/PwfdsT7H3KW/lxszwGeSzj+IyDtAXEhaPvgeQkDgEAE/mLwvwMfEsb9nV4G/l+KXP2/kCT5Bx8o/ZQ+pPf0gpr/lWN4/5i1hv9NAM78RgLO/ikgTPupI9z8SfzdAYZ63P4Qij79CH9S/nrzJP6GhRr7J4yc+HLDIvw7bOcA3AHW+1VgqvgHVwr71VgHA5fB4PuQSuD+36xlAq16BQNsYDT/KizrAYPkbwIChH0Ce2UnAziPcvyI7sD72UcM+iT7gPy4kAUA4hBY/Kf2eP3dMe7/NcYW/ARE4v1VtG0AZ9VxALyxXQBag7T9A4tM/B8WgPwXYNUCHqIs/D6BaQMohAUAD4ko+JKJmv6lKhL97sqU+FfyWPz0Riz8pOvU+sBCvPpZtS0AdrxE/wErePvx4xb2nKjQ+bD1tPxaVyj+HAeo/oKJovhG8lbtUqPw/d2wSQDKc575vJw4+yacoPxAbwz+DlLQ/fA8rQHRzDj5Al8c/hc+gP/U2Z75V9h0+15iTvwSzZj8JK3y/31kAQIReWjvoI1G/A+RzQL1bXUCdAY4/slIeQKM6P0AUeYY/F+meP+vGbj8=\",\"dtype\":\"float32\",\"shape\":[137]}},\"selected\":{\"id\":\"d09773e0-8fe7-47e2-805c-f39cd16a242c\",\"type\":\"Selection\"},\"selection_policy\":{\"id\":\"8138d42d-85e0-4e9f-aff3-5d6084c2b146\",\"type\":\"UnionRenderers\"}},\"id\":\"b4d14710-e0f2-492e-aad0-269d92e988b5\",\"type\":\"ColumnDataSource\"},{\"attributes\":{\"fill_alpha\":{\"value\":0.1},\"fill_color\":{\"value\":\"#1f77b4\"},\"line_alpha\":{\"value\":0.1},\"line_color\":{\"value\":\"#1f77b4\"},\"size\":{\"units\":\"screen\",\"value\":5},\"x\":{\"field\":\"x\"},\"y\":{\"field\":\"y\"}},\"id\":\"5db9e3c9-bf96-4d59-916b-76da3f30ce1f\",\"type\":\"Circle\"},{\"attributes\":{\"fill_alpha\":{\"value\":0.1},\"fill_color\":{\"value\":\"#1f77b4\"},\"line_alpha\":{\"value\":0.1},\"line_color\":{\"value\":\"#1f77b4\"},\"size\":{\"units\":\"screen\",\"value\":5},\"x\":{\"field\":\"x\"},\"y\":{\"field\":\"y\"}},\"id\":\"355143e6-1175-42de-9507-06396f19e4bb\",\"type\":\"Circle\"},{\"attributes\":{\"fill_alpha\":{\"value\":0.1},\"fill_color\":{\"field\":\"specie\",\"transform\":{\"id\":\"7fce4134-8958-4190-a01d-8079d6ae9cf6\",\"type\":\"CategoricalColorMapper\"}},\"line_alpha\":{\"value\":0.1},\"line_color\":{\"field\":\"specie\",\"transform\":{\"id\":\"7fce4134-8958-4190-a01d-8079d6ae9cf6\",\"type\":\"CategoricalColorMapper\"}},\"size\":{\"units\":\"screen\",\"value\":5},\"x\":{\"field\":\"x\"},\"y\":{\"field\":\"y\"}},\"id\":\"1f131137-90eb-43cf-892d-d104ff175d60\",\"type\":\"Circle\"},{\"attributes\":{},\"id\":\"95ff304d-6c23-45f4-abd3-94413e062b3d\",\"type\":\"Selection\"},{\"attributes\":{\"data_source\":{\"id\":\"15466421-ad29-44e7-822d-0d9683b8a65f\",\"type\":\"ColumnDataSource\"},\"glyph\":{\"id\":\"72ca70ea-f4f6-43b5-ad70-7ab609039027\",\"type\":\"Circle\"},\"hover_glyph\":null,\"muted\":true,\"muted_glyph\":{\"id\":\"efb79dca-71ca-4756-82d8-a35f473cda5b\",\"type\":\"Circle\"},\"nonselection_glyph\":{\"id\":\"d61c249b-1755-4609-afe5-3e6601367d8b\",\"type\":\"Circle\"},\"selection_glyph\":null,\"view\":{\"id\":\"1399d1dd-325f-423a-ad5b-f8ad31ed9a6a\",\"type\":\"CDSView\"}},\"id\":\"59e12331-5edc-47dc-a9ed-4cd7504ce997\",\"type\":\"GlyphRenderer\"},{\"attributes\":{\"source\":{\"id\":\"66156389-4a02-4d82-bf8e-adaee6cab2f0\",\"type\":\"ColumnDataSource\"}},\"id\":\"020e3da8-c5d0-4cc3-bf0b-cafa761a9d60\",\"type\":\"CDSView\"},{\"attributes\":{},\"id\":\"5e7bfc2c-7e28-442e-9d44-3eebdbb500f7\",\"type\":\"UnionRenderers\"},{\"attributes\":{\"callback\":null,\"data\":{\"index\":[390,391,392,393,394,395,396,397,398,399,400,401,402,403,404,405,406,407,408,409,410,411,412,413,414,415,416,417,418,419,420,421,422,423,424,425,426,427,428,429,430,431,432,433,434,435,436,437,438,439,440,441,442,443,444,445,446,447,448,449,450,451,452,453,454,455,456,457,458,459,460,461,462,463,464,465,466,467,468,469,470,471,472,473,474,475,476,477,478,479,480,481,482],\"kasios_index\":{\"__ndarray__\":\"AAAAAAAA+H8AAAAAAAD4fwAAAAAAAPh/AAAAAAAA+H8AAAAAAAD4fwAAAAAAAPh/AAAAAAAA+H8AAAAAAAD4fwAAAAAAAPh/AAAAAAAA+H8AAAAAAAD4fwAAAAAAAPh/AAAAAAAA+H8AAAAAAAD4fwAAAAAAAPh/AAAAAAAA+H8AAAAAAAD4fwAAAAAAAPh/AAAAAAAA+H8AAAAAAAD4fwAAAAAAAPh/AAAAAAAA+H8AAAAAAAD4fwAAAAAAAPh/AAAAAAAA+H8AAAAAAAD4fwAAAAAAAPh/AAAAAAAA+H8AAAAAAAD4fwAAAAAAAPh/AAAAAAAA+H8AAAAAAAD4fwAAAAAAAPh/AAAAAAAA+H8AAAAAAAD4fwAAAAAAAPh/AAAAAAAA+H8AAAAAAAD4fwAAAAAAAPh/AAAAAAAA+H8AAAAAAAD4fwAAAAAAAPh/AAAAAAAA+H8AAAAAAAD4fwAAAAAAAPh/AAAAAAAA+H8AAAAAAAD4fwAAAAAAAPh/AAAAAAAA+H8AAAAAAAD4fwAAAAAAAPh/AAAAAAAA+H8AAAAAAAD4fwAAAAAAAPh/AAAAAAAA+H8AAAAAAAD4fwAAAAAAAPh/AAAAAAAA+H8AAAAAAAD4fwAAAAAAAPh/AAAAAAAA+H8AAAAAAAD4fwAAAAAAAPh/AAAAAAAA+H8AAAAAAAD4fwAAAAAAAPh/AAAAAAAA+H8AAAAAAAD4fwAAAAAAAPh/AAAAAAAA+H8AAAAAAAD4fwAAAAAAAPh/AAAAAAAA+H8AAAAAAAD4fwAAAAAAAPh/AAAAAAAA+H8AAAAAAAD4fwAAAAAAAPh/AAAAAAAA+H8AAAAAAAD4fwAAAAAAAPh/AAAAAAAA+H8AAAAAAAD4fwAAAAAAAPh/AAAAAAAA+H8AAAAAAAD4fwAAAAAAAPh/AAAAAAAA+H8AAAAAAAD4fwAAAAAAAPh/AAAAAAAA+H8AAAAAAAD4fwAAAAAAAPh/\",\"dtype\":\"float64\",\"shape\":[93]},\"specie\":[\"Broad-winged Jojo\",\"Broad-winged Jojo\",\"Broad-winged Jojo\",\"Broad-winged Jojo\",\"Broad-winged Jojo\",\"Broad-winged Jojo\",\"Broad-winged Jojo\",\"Broad-winged Jojo\",\"Broad-winged Jojo\",\"Broad-winged Jojo\",\"Broad-winged Jojo\",\"Broad-winged Jojo\",\"Broad-winged Jojo\",\"Broad-winged Jojo\",\"Broad-winged Jojo\",\"Broad-winged Jojo\",\"Broad-winged Jojo\",\"Broad-winged Jojo\",\"Broad-winged Jojo\",\"Broad-winged Jojo\",\"Broad-winged Jojo\",\"Broad-winged Jojo\",\"Broad-winged Jojo\",\"Broad-winged Jojo\",\"Broad-winged Jojo\",\"Broad-winged Jojo\",\"Broad-winged Jojo\",\"Broad-winged Jojo\",\"Broad-winged Jojo\",\"Broad-winged Jojo\",\"Broad-winged Jojo\",\"Broad-winged Jojo\",\"Broad-winged Jojo\",\"Broad-winged Jojo\",\"Broad-winged Jojo\",\"Broad-winged Jojo\",\"Broad-winged Jojo\",\"Broad-winged Jojo\",\"Broad-winged Jojo\",\"Broad-winged Jojo\",\"Broad-winged Jojo\",\"Broad-winged Jojo\",\"Broad-winged Jojo\",\"Broad-winged Jojo\",\"Broad-winged Jojo\",\"Broad-winged Jojo\",\"Broad-winged Jojo\",\"Broad-winged Jojo\",\"Broad-winged Jojo\",\"Broad-winged Jojo\",\"Broad-winged Jojo\",\"Broad-winged Jojo\",\"Broad-winged Jojo\",\"Broad-winged Jojo\",\"Broad-winged Jojo\",\"Broad-winged Jojo\",\"Broad-winged Jojo\",\"Broad-winged Jojo\",\"Broad-winged Jojo\",\"Broad-winged Jojo\",\"Broad-winged Jojo\",\"Broad-winged Jojo\",\"Broad-winged Jojo\",\"Broad-winged Jojo\",\"Broad-winged Jojo\",\"Broad-winged Jojo\",\"Broad-winged Jojo\",\"Broad-winged Jojo\",\"Broad-winged Jojo\",\"Broad-winged Jojo\",\"Broad-winged Jojo\",\"Broad-winged Jojo\",\"Broad-winged Jojo\",\"Broad-winged Jojo\",\"Broad-winged Jojo\",\"Broad-winged Jojo\",\"Broad-winged Jojo\",\"Broad-winged Jojo\",\"Broad-winged Jojo\",\"Broad-winged Jojo\",\"Broad-winged Jojo\",\"Broad-winged Jojo\",\"Broad-winged Jojo\",\"Broad-winged Jojo\",\"Broad-winged Jojo\",\"Broad-winged Jojo\",\"Broad-winged Jojo\",\"Broad-winged Jojo\",\"Broad-winged Jojo\",\"Broad-winged Jojo\",\"Broad-winged Jojo\",\"Broad-winged Jojo\",\"Broad-winged Jojo\"],\"x\":{\"__ndarray__\":\"bLIwwJo6PMCZIXfA2ru7wDd0gsCSqIzA3f86wGB4b8D20FbAjmOswBCausCcyZvA1Gm6wLi1tsDWqqrAxZ+WwPkWdMCoEJnAnlWNwJ0xSMA6b6HARKmDwDPGDcD+2KHAl24VwLu9RcAzwprAbBNMwD/e6L85rzXAkH5nwJldWsAJd3PAiS9LwNvOTcB4jIjAn3qWwMPln8BzzTjAKI8zwHdajsCcIabAngWTwCT1ecCoBkDAjVZvwMfkLsAXlgvAD4VzwKvZssBcuLrAAtNmwO3wI8DnWanAQpquwKcHpsBCTqfAn+emwFr9ssC8wJvAntVUwGg0s8A9t5jA89J5wGgnY8CJh5jAoDZBwFB5q8Bm/TnAz6O6v5BUgsA34WLA8UdYwATGgcCpSZHAF9NZwNBb2b+QCpHAHi49wGCOdcBKZqDAwlGawK3Aq8A4Qfa/xDmhwJsIhMCA/Y8/dH9dwEELPcDtb9i/B2B7v097zr7C8TxA\",\"dtype\":\"float32\",\"shape\":[93]},\"y\":{\"__ndarray__\":\"qsyfQPk6n0DeZJ4/2ULMPnxYaD+Siko+/0BhP7B0lD+eul2/3XfXPQvhyT7MCjA+39DZPh97pz77k6Q/D/vlPjoqHj/lsCY/LF/xPFv9vj40vdU/oZHwP1nMdkC/88Y/4/5jQAtui7/ukZg+pv1NP09qmECotZ1AYu0Yvx/r679Alw2/CG3MPp97HEA3EYE8PVYEQHrVpb2ajp5AHMEyvwECVj7//tI+YP5cPr5nTr43S5S/1yWCP4Z5oEB0VYtAJj9jP7sJmD4ydMg+hGC9P5T2oECt6J0/pRmQP+8Pxz+o+zU+4BaeP5l9cz9IUKE/jIhkQDjVOT9tIpQ/1GxgP2TcYb9s6HU+32pzv7oGJkCjFNI/b0R2QB0WMj9RbWU/9tehP15dAj/6iuQ+xk1KvMZae70mJS+9LXqeQO1dFr/1H9I/Y3iXP0r/nj9cdiBASK93Pl1/8j+h61m/zbNNQNCCYj+dbJVATO/0vgMbl7+YLlK/\",\"dtype\":\"float32\",\"shape\":[93]}},\"selected\":{\"id\":\"ce933071-e8e8-4c34-99f6-6dc824ce1436\",\"type\":\"Selection\"},\"selection_policy\":{\"id\":\"90b94e6a-8a05-4b09-ae4d-a29526cc4011\",\"type\":\"UnionRenderers\"}},\"id\":\"8d72ac23-cacd-4200-b75f-3430f468b9f0\",\"type\":\"ColumnDataSource\"},{\"attributes\":{\"factors\":[\"Rose-crested Blue Pipit\",\"Blue-collared Zipper\",\"Bombadil\",\"Broad-winged Jojo\",\"Canadian Cootamum\",\"Carries Champagne Pipit\",\"Darkwing Sparrow\",\"Eastern Corn Skeet\",\"Green-tipped Scarlet Pipit\",\"Lesser Birchbeere\",\"Orange Pine Plover\",\"Ordinary Snape\",\"Pinkfinch\",\"Purple Tooting Tout\",\"Qax\",\"Queenscoat\",\"Bent-beak Riffraff\",\"Scrawny Jay\",\"Vermillion Trillian\",\"Kasios Test Bird\"],\"palette\":[\"#1f77b4\",\"#aec7e8\",\"#ff7f0e\",\"#ffbb78\",\"#2ca02c\",\"#98df8a\",\"#d62728\",\"#ff9896\",\"#9467bd\",\"#c5b0d5\",\"#8c564b\",\"#c49c94\",\"#e377c2\",\"#f7b6d2\",\"#7f7f7f\",\"#c7c7c7\",\"#bcbd22\",\"#dbdb8d\",\"#17becf\",\"#9edae5\"]},\"id\":\"7fce4134-8958-4190-a01d-8079d6ae9cf6\",\"type\":\"CategoricalColorMapper\"},{\"attributes\":{},\"id\":\"6c8c00b7-2c11-4b06-81bf-bb00ffba27a0\",\"type\":\"UnionRenderers\"},{\"attributes\":{},\"id\":\"3d1614c1-02d8-4531-86b7-61671ce1637a\",\"type\":\"Selection\"},{\"attributes\":{},\"id\":\"c919022f-c359-4a4f-8805-078fcb544400\",\"type\":\"Selection\"},{\"attributes\":{\"data_source\":{\"id\":\"b4d14710-e0f2-492e-aad0-269d92e988b5\",\"type\":\"ColumnDataSource\"},\"glyph\":{\"id\":\"7bc18d7b-e29a-40bd-90d7-3728774c4113\",\"type\":\"Circle\"},\"hover_glyph\":null,\"muted\":true,\"muted_glyph\":{\"id\":\"76b674c1-6cd5-4871-a7f4-87eec6d48f5f\",\"type\":\"Circle\"},\"nonselection_glyph\":{\"id\":\"23fafbdf-87c4-48a7-be97-d16198b40e16\",\"type\":\"Circle\"},\"selection_glyph\":null,\"view\":{\"id\":\"686341bc-0170-4f2f-8964-852a81f13f74\",\"type\":\"CDSView\"}},\"id\":\"46a8b567-dd8e-40a0-b944-25d3bcd68d9a\",\"type\":\"GlyphRenderer\"},{\"attributes\":{},\"id\":\"cb9b28ee-1ef8-4661-9cea-afcddf66f111\",\"type\":\"Selection\"},{\"attributes\":{\"label\":{\"value\":\"Blue-collared Zipper\"},\"renderers\":[{\"id\":\"3cb594bd-ade8-40ec-8e9e-ea1b6d4abbf5\",\"type\":\"GlyphRenderer\"}]},\"id\":\"1af28669-355a-4f68-8fe3-73c73c290230\",\"type\":\"LegendItem\"},{\"attributes\":{\"source\":{\"id\":\"5c112583-51fd-4ce6-9e21-4010263587fa\",\"type\":\"ColumnDataSource\"}},\"id\":\"3f03703f-bce8-4f9c-b040-1e319307254c\",\"type\":\"CDSView\"},{\"attributes\":{\"fill_alpha\":{\"value\":0.1},\"fill_color\":{\"value\":\"#1f77b4\"},\"line_alpha\":{\"value\":0.1},\"line_color\":{\"value\":\"#1f77b4\"},\"size\":{\"units\":\"screen\",\"value\":5},\"x\":{\"field\":\"x\"},\"y\":{\"field\":\"y\"}},\"id\":\"05298957-8ab0-4cb8-b577-84985f7fcb9c\",\"type\":\"Circle\"},{\"attributes\":{\"source\":{\"id\":\"bb51d650-04de-4dd0-8d3f-9e8689d05f79\",\"type\":\"ColumnDataSource\"}},\"id\":\"45277cc2-4eab-4fd6-a85b-190a12da1d0a\",\"type\":\"CDSView\"},{\"attributes\":{},\"id\":\"05c8ccae-f20e-482c-89da-10c84a9fc69d\",\"type\":\"UnionRenderers\"},{\"attributes\":{},\"id\":\"3ccc06d0-d5b5-4624-aa8a-34f55568e6dd\",\"type\":\"Selection\"},{\"attributes\":{\"label\":{\"value\":\"Ordinary Snape\"},\"renderers\":[{\"id\":\"4d0af75f-0762-4445-a14d-79cf584d24fd\",\"type\":\"GlyphRenderer\"}]},\"id\":\"c047b573-fd50-49be-a221-f075fdff3796\",\"type\":\"LegendItem\"},{\"attributes\":{\"fill_alpha\":{\"value\":0.6},\"fill_color\":{\"field\":\"specie\",\"transform\":{\"id\":\"7fce4134-8958-4190-a01d-8079d6ae9cf6\",\"type\":\"CategoricalColorMapper\"}},\"line_alpha\":{\"value\":0.6},\"line_color\":{\"field\":\"specie\",\"transform\":{\"id\":\"7fce4134-8958-4190-a01d-8079d6ae9cf6\",\"type\":\"CategoricalColorMapper\"}},\"size\":{\"units\":\"screen\",\"value\":5},\"x\":{\"field\":\"x\"},\"y\":{\"field\":\"y\"}},\"id\":\"e1b41187-436d-4397-93c8-39736b8e983c\",\"type\":\"Circle\"},{\"attributes\":{\"source\":{\"id\":\"ea952a5d-acb7-4162-9b92-f24933bd46ad\",\"type\":\"ColumnDataSource\"}},\"id\":\"6b730a4c-fcc1-4c28-9781-9781a3c66c45\",\"type\":\"CDSView\"},{\"attributes\":{\"label\":{\"value\":\"Purple Tooting Tout\"},\"renderers\":[{\"id\":\"631fcf40-9a43-4c81-86b2-f33786c3874b\",\"type\":\"GlyphRenderer\"}]},\"id\":\"10f10ace-441c-4a10-8660-d0bf5ffad1f8\",\"type\":\"LegendItem\"},{\"attributes\":{\"fill_alpha\":{\"value\":0.6},\"fill_color\":{\"field\":\"specie\",\"transform\":{\"id\":\"7fce4134-8958-4190-a01d-8079d6ae9cf6\",\"type\":\"CategoricalColorMapper\"}},\"line_alpha\":{\"value\":0.6},\"line_color\":{\"field\":\"specie\",\"transform\":{\"id\":\"7fce4134-8958-4190-a01d-8079d6ae9cf6\",\"type\":\"CategoricalColorMapper\"}},\"size\":{\"units\":\"screen\",\"value\":5},\"x\":{\"field\":\"x\"},\"y\":{\"field\":\"y\"}},\"id\":\"ee5fc0df-2a48-40ca-8c08-9376fe8f4fd5\",\"type\":\"Circle\"},{\"attributes\":{\"callback\":null,\"data\":{\"index\":[1894,1895,1896,1897,1898,1899,1900,1901,1902,1903,1904,1905,1906,1907,1908,1909,1910,1911,1912,1913,1914,1915,1916,1917,1918,1919,1920,1921,1922,1923,1924,1925,1926,1927,1928,1929,1930,1931,1932,1933,1934,1935,1936,1937,1938,1939,1940,1941,1942,1943,1944,1945,1946,1947,1948,1949,1950,1951,1952,1953,1954,1955,1956,1957,1958,1959,1960,1961,1962,1963,1964,1965,1966,1967,1968,1969,1970,1971,1972,1973,1974,1975,1976,1977,1978,1979,1980,1981,1982],\"kasios_index\":{\"__ndarray__\":\"AAAAAAAA+H8AAAAAAAD4fwAAAAAAAPh/AAAAAAAA+H8AAAAAAAD4fwAAAAAAAPh/AAAAAAAA+H8AAAAAAAD4fwAAAAAAAPh/AAAAAAAA+H8AAAAAAAD4fwAAAAAAAPh/AAAAAAAA+H8AAAAAAAD4fwAAAAAAAPh/AAAAAAAA+H8AAAAAAAD4fwAAAAAAAPh/AAAAAAAA+H8AAAAAAAD4fwAAAAAAAPh/AAAAAAAA+H8AAAAAAAD4fwAAAAAAAPh/AAAAAAAA+H8AAAAAAAD4fwAAAAAAAPh/AAAAAAAA+H8AAAAAAAD4fwAAAAAAAPh/AAAAAAAA+H8AAAAAAAD4fwAAAAAAAPh/AAAAAAAA+H8AAAAAAAD4fwAAAAAAAPh/AAAAAAAA+H8AAAAAAAD4fwAAAAAAAPh/AAAAAAAA+H8AAAAAAAD4fwAAAAAAAPh/AAAAAAAA+H8AAAAAAAD4fwAAAAAAAPh/AAAAAAAA+H8AAAAAAAD4fwAAAAAAAPh/AAAAAAAA+H8AAAAAAAD4fwAAAAAAAPh/AAAAAAAA+H8AAAAAAAD4fwAAAAAAAPh/AAAAAAAA+H8AAAAAAAD4fwAAAAAAAPh/AAAAAAAA+H8AAAAAAAD4fwAAAAAAAPh/AAAAAAAA+H8AAAAAAAD4fwAAAAAAAPh/AAAAAAAA+H8AAAAAAAD4fwAAAAAAAPh/AAAAAAAA+H8AAAAAAAD4fwAAAAAAAPh/AAAAAAAA+H8AAAAAAAD4fwAAAAAAAPh/AAAAAAAA+H8AAAAAAAD4fwAAAAAAAPh/AAAAAAAA+H8AAAAAAAD4fwAAAAAAAPh/AAAAAAAA+H8AAAAAAAD4fwAAAAAAAPh/AAAAAAAA+H8AAAAAAAD4fwAAAAAAAPh/AAAAAAAA+H8AAAAAAAD4fwAAAAAAAPh/AAAAAAAA+H8AAAAAAAD4fw==\",\"dtype\":\"float64\",\"shape\":[89]},\"specie\":[\"Scrawny Jay\",\"Scrawny Jay\",\"Scrawny Jay\",\"Scrawny Jay\",\"Scrawny Jay\",\"Scrawny Jay\",\"Scrawny Jay\",\"Scrawny Jay\",\"Scrawny Jay\",\"Scrawny Jay\",\"Scrawny Jay\",\"Scrawny Jay\",\"Scrawny Jay\",\"Scrawny Jay\",\"Scrawny Jay\",\"Scrawny Jay\",\"Scrawny Jay\",\"Scrawny Jay\",\"Scrawny Jay\",\"Scrawny Jay\",\"Scrawny Jay\",\"Scrawny Jay\",\"Scrawny Jay\",\"Scrawny Jay\",\"Scrawny Jay\",\"Scrawny Jay\",\"Scrawny Jay\",\"Scrawny Jay\",\"Scrawny Jay\",\"Scrawny Jay\",\"Scrawny Jay\",\"Scrawny Jay\",\"Scrawny Jay\",\"Scrawny Jay\",\"Scrawny Jay\",\"Scrawny Jay\",\"Scrawny Jay\",\"Scrawny Jay\",\"Scrawny Jay\",\"Scrawny Jay\",\"Scrawny Jay\",\"Scrawny Jay\",\"Scrawny Jay\",\"Scrawny Jay\",\"Scrawny Jay\",\"Scrawny Jay\",\"Scrawny Jay\",\"Scrawny Jay\",\"Scrawny Jay\",\"Scrawny Jay\",\"Scrawny Jay\",\"Scrawny Jay\",\"Scrawny Jay\",\"Scrawny Jay\",\"Scrawny Jay\",\"Scrawny Jay\",\"Scrawny Jay\",\"Scrawny Jay\",\"Scrawny Jay\",\"Scrawny Jay\",\"Scrawny Jay\",\"Scrawny Jay\",\"Scrawny Jay\",\"Scrawny Jay\",\"Scrawny Jay\",\"Scrawny Jay\",\"Scrawny Jay\",\"Scrawny Jay\",\"Scrawny Jay\",\"Scrawny Jay\",\"Scrawny Jay\",\"Scrawny Jay\",\"Scrawny Jay\",\"Scrawny Jay\",\"Scrawny Jay\",\"Scrawny Jay\",\"Scrawny Jay\",\"Scrawny Jay\",\"Scrawny Jay\",\"Scrawny Jay\",\"Scrawny Jay\",\"Scrawny Jay\",\"Scrawny Jay\",\"Scrawny Jay\",\"Scrawny Jay\",\"Scrawny Jay\",\"Scrawny Jay\",\"Scrawny Jay\",\"Scrawny Jay\"],\"x\":{\"__ndarray__\":\"H6M8wAIo4j9WjYvAQCc4wFUZqb/V1iLAwL2BwAkwn78bl1LATX6awAmFUcDHh4PAX+8gwLCVAcADPFPAtXuGwDFv2797LUTAlNWHwOSuqMA4iyXAZqGAwCqJV8D1xI3AOHeNwKo8rD/P9I7AITFBwOllAcAsufa/eapUwPv5wb83VI3AdDiiwKlYL8BwXYxAgJISwCEoG8D7rai/tnV3wB2DfcBmGH7AvIkrwL5ZLUBgUp+/wnnZv6HKKcCIeDPATVx7wF6hBcC49jTADgcIwAw4kcDVjJy/RJsrwL+4IsB7Ctm/j0wVwMX5AcBKcgPAJfsZwPLUnr+j3rK/PclfwJrZqsDUE1lAKihZwHFbDcBDHzjALWFswDdVqsCWpR3AoFNiwNK1kT8cRSW/IR5ewCn+g8CCfYTAE3cBwFF+BsCNLA/AtWJwwC6WWMDqRVLACA0MwKA+d8CP2kzAWQKGwAX/OMA=\",\"dtype\":\"float32\",\"shape\":[89]},\"y\":{\"__ndarray__\":\"G0CeQNSo7b9YCXE/EeySQKn6RUDKX1o/iGjQP+njQEA19j1AbqMDQBGQjECw839AY/aZQDCDyD/WtI5Azh9wQN2MjUCtMpxA8CMBQKrFpz/CiJ1Aw5MMQMoRB0ACQD5A5vcjQAMzUL/zFok/U2CeQHk6V0DtMHFA+wOEQImRX0D4VYdAghcbQD/oWkCywmhAAViBQFpRcEABYgW/W6sRQCquCj8oFKc/YRxcQKjBUr+5AkRAiHqWP8S7OEATyuc/0jt9P15iZUBeyRdAClZIQAjnbkDBkENAO0AOvwsHn0AGypRAX599QElfe0BWzWZA0z2EQMrUSUAKoVdAC8E7QETsN0AlwgZAlSSNQA3BeEA4/4BAd9E8QAS9nz/b9SJA41I9QNPMTr+DJly/XbEyQMQKjkCg1kNArglzQFmhjEBfSopAsI+FP6/iY0Cye49A6V9uQPpgFUCmYUVAQWFmQGXzhkA=\",\"dtype\":\"float32\",\"shape\":[89]}},\"selected\":{\"id\":\"5f1603db-7811-426f-ae33-373e618076d2\",\"type\":\"Selection\"},\"selection_policy\":{\"id\":\"eb080918-79bb-4a57-8ecf-77e94f656b34\",\"type\":\"UnionRenderers\"}},\"id\":\"a5f57203-238b-4eb5-9038-7825b663f32d\",\"type\":\"ColumnDataSource\"},{\"attributes\":{\"callback\":null,\"data\":{\"index\":[1823,1824,1825,1826,1827,1828,1829,1830,1831,1832,1833,1834,1835,1836,1837,1838,1839,1840,1841,1842,1843,1844,1845,1846,1847,1848,1849,1850,1851,1852,1853,1854,1855,1856,1857,1858,1859,1860,1861,1862,1863,1864,1865,1866,1867,1868,1869,1870,1871,1872,1873,1874,1875,1876,1877,1878,1879,1880,1881,1882,1883,1884,1885,1886,1887,1888,1889,1890,1891,1892,1893],\"kasios_index\":{\"__ndarray__\":\"AAAAAAAA+H8AAAAAAAD4fwAAAAAAAPh/AAAAAAAA+H8AAAAAAAD4fwAAAAAAAPh/AAAAAAAA+H8AAAAAAAD4fwAAAAAAAPh/AAAAAAAA+H8AAAAAAAD4fwAAAAAAAPh/AAAAAAAA+H8AAAAAAAD4fwAAAAAAAPh/AAAAAAAA+H8AAAAAAAD4fwAAAAAAAPh/AAAAAAAA+H8AAAAAAAD4fwAAAAAAAPh/AAAAAAAA+H8AAAAAAAD4fwAAAAAAAPh/AAAAAAAA+H8AAAAAAAD4fwAAAAAAAPh/AAAAAAAA+H8AAAAAAAD4fwAAAAAAAPh/AAAAAAAA+H8AAAAAAAD4fwAAAAAAAPh/AAAAAAAA+H8AAAAAAAD4fwAAAAAAAPh/AAAAAAAA+H8AAAAAAAD4fwAAAAAAAPh/AAAAAAAA+H8AAAAAAAD4fwAAAAAAAPh/AAAAAAAA+H8AAAAAAAD4fwAAAAAAAPh/AAAAAAAA+H8AAAAAAAD4fwAAAAAAAPh/AAAAAAAA+H8AAAAAAAD4fwAAAAAAAPh/AAAAAAAA+H8AAAAAAAD4fwAAAAAAAPh/AAAAAAAA+H8AAAAAAAD4fwAAAAAAAPh/AAAAAAAA+H8AAAAAAAD4fwAAAAAAAPh/AAAAAAAA+H8AAAAAAAD4fwAAAAAAAPh/AAAAAAAA+H8AAAAAAAD4fwAAAAAAAPh/AAAAAAAA+H8AAAAAAAD4fwAAAAAAAPh/AAAAAAAA+H8AAAAAAAD4fw==\",\"dtype\":\"float64\",\"shape\":[71]},\"specie\":[\"Bent-beak Riffraff\",\"Bent-beak Riffraff\",\"Bent-beak Riffraff\",\"Bent-beak Riffraff\",\"Bent-beak Riffraff\",\"Bent-beak Riffraff\",\"Bent-beak Riffraff\",\"Bent-beak Riffraff\",\"Bent-beak Riffraff\",\"Bent-beak Riffraff\",\"Bent-beak Riffraff\",\"Bent-beak Riffraff\",\"Bent-beak Riffraff\",\"Bent-beak Riffraff\",\"Bent-beak Riffraff\",\"Bent-beak Riffraff\",\"Bent-beak Riffraff\",\"Bent-beak Riffraff\",\"Bent-beak Riffraff\",\"Bent-beak Riffraff\",\"Bent-beak Riffraff\",\"Bent-beak Riffraff\",\"Bent-beak Riffraff\",\"Bent-beak Riffraff\",\"Bent-beak Riffraff\",\"Bent-beak Riffraff\",\"Bent-beak Riffraff\",\"Bent-beak Riffraff\",\"Bent-beak Riffraff\",\"Bent-beak Riffraff\",\"Bent-beak Riffraff\",\"Bent-beak Riffraff\",\"Bent-beak Riffraff\",\"Bent-beak Riffraff\",\"Bent-beak Riffraff\",\"Bent-beak Riffraff\",\"Bent-beak Riffraff\",\"Bent-beak Riffraff\",\"Bent-beak Riffraff\",\"Bent-beak Riffraff\",\"Bent-beak Riffraff\",\"Bent-beak Riffraff\",\"Bent-beak Riffraff\",\"Bent-beak Riffraff\",\"Bent-beak Riffraff\",\"Bent-beak Riffraff\",\"Bent-beak Riffraff\",\"Bent-beak Riffraff\",\"Bent-beak Riffraff\",\"Bent-beak Riffraff\",\"Bent-beak Riffraff\",\"Bent-beak Riffraff\",\"Bent-beak Riffraff\",\"Bent-beak Riffraff\",\"Bent-beak Riffraff\",\"Bent-beak Riffraff\",\"Bent-beak Riffraff\",\"Bent-beak Riffraff\",\"Bent-beak Riffraff\",\"Bent-beak Riffraff\",\"Bent-beak Riffraff\",\"Bent-beak Riffraff\",\"Bent-beak Riffraff\",\"Bent-beak Riffraff\",\"Bent-beak Riffraff\",\"Bent-beak Riffraff\",\"Bent-beak Riffraff\",\"Bent-beak Riffraff\",\"Bent-beak Riffraff\",\"Bent-beak Riffraff\",\"Bent-beak Riffraff\"],\"x\":{\"__ndarray__\":\"l2lbwLQycMBdzYPA/GxUwBsNl8BtQILAj3mcwOUokcCUcovA0auOwM7tV8CtN1LAGq6QwNOedcBceZrA6Id7wNrKa8C4u0zAMuVJwLYBkMAIswPA4sl7wITwYcADwIfA5Dd2wBmGbsDNS3LAC+o4wNJAFEAIjj7ApjF/wD8kecBI/1nABlchwAAzf8B58aFA4wGPwESZk8A68XbAvsU/wDRqUcAkHYDAqtlMwMc/ksBwMiXAP9iJwLTfPMBE4HnAIBl9wKF0z7+MsE7AuzJHwIkUk8AKfnLATD6OwEXrkMCLIQnAuViIwHFhlsBQbyfAwgBmQI4rW8Api9a/rzxcwPyMVcA+6XbA7QCBwDOeiMD7zti/ygabQHVuqkA=\",\"dtype\":\"float32\",\"shape\":[71]},\"y\":{\"__ndarray__\":\"dTHyv4SsIzxr3i+/qbKivmBnNb41eXi/C+2ZPpUv7L5ozje/wO3dvpYc8r+jt9y/sd8Vv1qVc78hoTY+FJB6v2oag7/6+ru/DXaKv/T7CL/RuRDAdj0bP268pT8kTpS+26Abvx7sk79hFIO/Mj8CwAEKdMA5LSU8wc0Evxqxpr6Tqe+/ynFbP7l3Cb+r7VRAPusFv4FQDL9Rkka/gPWSvxDH4L+noiy/gNXXv3vQCr+cMDO/yVCrvhRuCb9JCVS/gyZ5v81ziz9Ymr6+QSo8v8ZOAb9iJ06/L9XyvmqzDb/6ShbA/5fbP9Ol574Ma8a+C2YcPwYm9r/UpqQ/njtEv283579t3GS/0f56vwrcCb++iqM/PM48QPY4RUA=\",\"dtype\":\"float32\",\"shape\":[71]}},\"selected\":{\"id\":\"c5f50f30-4e29-48fc-8fab-344954e2afd5\",\"type\":\"Selection\"},\"selection_policy\":{\"id\":\"3f25fe91-1149-4b0f-acf2-5009ab4fe641\",\"type\":\"UnionRenderers\"}},\"id\":\"66156389-4a02-4d82-bf8e-adaee6cab2f0\",\"type\":\"ColumnDataSource\"},{\"attributes\":{},\"id\":\"8f748a83-41ad-43f8-b4e5-9fe251991772\",\"type\":\"Selection\"},{\"attributes\":{},\"id\":\"ec1b5a7d-b9db-40ca-a407-c2799151170d\",\"type\":\"UnionRenderers\"},{\"attributes\":{\"label\":{\"value\":\"Green-tipped Scarlet Pipit\"},\"renderers\":[{\"id\":\"c15eb22d-e3e3-4f4f-b9cb-e165be3ebff2\",\"type\":\"GlyphRenderer\"}]},\"id\":\"dbb7e639-3236-4027-97d5-668862be1ad7\",\"type\":\"LegendItem\"},{\"attributes\":{},\"id\":\"f19636ba-8c2d-42a2-abd1-9c4751cc44fd\",\"type\":\"Selection\"},{\"attributes\":{\"source\":{\"id\":\"15466421-ad29-44e7-822d-0d9683b8a65f\",\"type\":\"ColumnDataSource\"}},\"id\":\"1399d1dd-325f-423a-ad5b-f8ad31ed9a6a\",\"type\":\"CDSView\"},{\"attributes\":{\"callback\":null,\"data\":{\"index\":[2067,2068,2069,2070,2071,2072,2073,2074,2075,2076,2077,2078,2079,2080,2081],\"kasios_index\":{\"__ndarray__\":\"AAAAAAAA8D8AAAAAAAAAQAAAAAAAAAhAAAAAAAAAEEAAAAAAAAAUQAAAAAAAABhAAAAAAAAAHEAAAAAAAAAgQAAAAAAAACJAAAAAAAAAJEAAAAAAAAAmQAAAAAAAAChAAAAAAAAAKkAAAAAAAAAsQAAAAAAAAC5A\",\"dtype\":\"float64\",\"shape\":[15]},\"specie\":[\"Kasios Test Bird\",\"Kasios Test Bird\",\"Kasios Test Bird\",\"Kasios Test Bird\",\"Kasios Test Bird\",\"Kasios Test Bird\",\"Kasios Test Bird\",\"Kasios Test Bird\",\"Kasios Test Bird\",\"Kasios Test Bird\",\"Kasios Test Bird\",\"Kasios Test Bird\",\"Kasios Test Bird\",\"Kasios Test Bird\",\"Kasios Test Bird\"],\"x\":{\"__ndarray__\":\"4heawKQFMECnF6e/GKypv2hAjMAQXeO/JGu1v9wJIkBAtrdAfCOTwHWWjkCPJ5TAD8amQJDnGUAjLozA\",\"dtype\":\"float32\",\"shape\":[15]},\"y\":{\"__ndarray__\":\"HehvPnu/EcBiuTrAa884wMqpej9M2zzA1DlwQIpWbsDanIw/EM9xQGtm9T9ue0JAV8RgP+zkE8Duud8/\",\"dtype\":\"float32\",\"shape\":[15]}},\"selected\":{\"id\":\"b2de39da-3728-4c52-800b-eb8a30de1712\",\"type\":\"Selection\"},\"selection_policy\":{\"id\":\"5d3d16a7-f199-4936-a7ee-e46a24ddb7b9\",\"type\":\"UnionRenderers\"}},\"id\":\"f5761d9c-eea9-43d3-ab2e-b8bf268a55b7\",\"type\":\"ColumnDataSource\"},{\"attributes\":{\"label\":{\"value\":\"Bombadil\"},\"renderers\":[{\"id\":\"46a8b567-dd8e-40a0-b944-25d3bcd68d9a\",\"type\":\"GlyphRenderer\"}]},\"id\":\"f88ab8c4-4184-4624-8b87-497e66ae45ed\",\"type\":\"LegendItem\"},{\"attributes\":{},\"id\":\"5d3d16a7-f199-4936-a7ee-e46a24ddb7b9\",\"type\":\"UnionRenderers\"},{\"attributes\":{\"fill_alpha\":{\"value\":0.6},\"fill_color\":{\"field\":\"specie\",\"transform\":{\"id\":\"7fce4134-8958-4190-a01d-8079d6ae9cf6\",\"type\":\"CategoricalColorMapper\"}},\"line_alpha\":{\"value\":0.6},\"line_color\":{\"field\":\"specie\",\"transform\":{\"id\":\"7fce4134-8958-4190-a01d-8079d6ae9cf6\",\"type\":\"CategoricalColorMapper\"}},\"size\":{\"units\":\"screen\",\"value\":5},\"x\":{\"field\":\"x\"},\"y\":{\"field\":\"y\"}},\"id\":\"7bc18d7b-e29a-40bd-90d7-3728774c4113\",\"type\":\"Circle\"},{\"attributes\":{\"fill_alpha\":{\"value\":0.6},\"fill_color\":{\"field\":\"specie\",\"transform\":{\"id\":\"7fce4134-8958-4190-a01d-8079d6ae9cf6\",\"type\":\"CategoricalColorMapper\"}},\"line_alpha\":{\"value\":0.6},\"line_color\":{\"field\":\"specie\",\"transform\":{\"id\":\"7fce4134-8958-4190-a01d-8079d6ae9cf6\",\"type\":\"CategoricalColorMapper\"}},\"size\":{\"units\":\"screen\",\"value\":5},\"x\":{\"field\":\"x\"},\"y\":{\"field\":\"y\"}},\"id\":\"698ae141-1806-466b-bcc4-a5fd1f33cdeb\",\"type\":\"Circle\"},{\"attributes\":{\"fill_alpha\":{\"value\":0.1},\"fill_color\":{\"field\":\"specie\",\"transform\":{\"id\":\"7fce4134-8958-4190-a01d-8079d6ae9cf6\",\"type\":\"CategoricalColorMapper\"}},\"line_alpha\":{\"value\":0.1},\"line_color\":{\"field\":\"specie\",\"transform\":{\"id\":\"7fce4134-8958-4190-a01d-8079d6ae9cf6\",\"type\":\"CategoricalColorMapper\"}},\"size\":{\"units\":\"screen\",\"value\":5},\"x\":{\"field\":\"x\"},\"y\":{\"field\":\"y\"}},\"id\":\"b3faf8d8-418f-4be9-8b54-1f44779c44c1\",\"type\":\"Circle\"},{\"attributes\":{},\"id\":\"d0cf7a83-035d-43f7-adde-177da9b1fbde\",\"type\":\"Selection\"},{\"attributes\":{},\"id\":\"d8ec9dba-b63b-4ff6-ad83-cecc20e959d3\",\"type\":\"UnionRenderers\"},{\"attributes\":{},\"id\":\"41c42dca-5c43-4cf5-a680-fef1e14cff6f\",\"type\":\"Selection\"},{\"attributes\":{},\"id\":\"ce2f8a48-1b8b-4448-b271-ca4cf309799b\",\"type\":\"UnionRenderers\"},{\"attributes\":{},\"id\":\"00d6c7c2-2f5d-467b-9433-9e46dfa85d0e\",\"type\":\"UnionRenderers\"},{\"attributes\":{},\"id\":\"ce933071-e8e8-4c34-99f6-6dc824ce1436\",\"type\":\"Selection\"},{\"attributes\":{},\"id\":\"f3cb0389-c7a8-46b3-b110-91811e1008be\",\"type\":\"UnionRenderers\"},{\"attributes\":{\"fill_alpha\":{\"value\":0.1},\"fill_color\":{\"field\":\"specie\",\"transform\":{\"id\":\"7fce4134-8958-4190-a01d-8079d6ae9cf6\",\"type\":\"CategoricalColorMapper\"}},\"line_alpha\":{\"value\":0.1},\"line_color\":{\"field\":\"specie\",\"transform\":{\"id\":\"7fce4134-8958-4190-a01d-8079d6ae9cf6\",\"type\":\"CategoricalColorMapper\"}},\"size\":{\"units\":\"screen\",\"value\":5},\"x\":{\"field\":\"x\"},\"y\":{\"field\":\"y\"}},\"id\":\"4b4c0325-cb5e-4796-a108-ee1b6ac98425\",\"type\":\"Circle\"},{\"attributes\":{},\"id\":\"a5c571c2-9ea9-427f-b428-51ebf318c330\",\"type\":\"UnionRenderers\"},{\"attributes\":{\"source\":{\"id\":\"36abac46-71b7-417d-8b0a-3d540d3f5bf2\",\"type\":\"ColumnDataSource\"}},\"id\":\"0b93a316-6e7d-48c0-8c2c-fab954ceb4a3\",\"type\":\"CDSView\"},{\"attributes\":{\"fill_alpha\":{\"value\":0.1},\"fill_color\":{\"field\":\"specie\",\"transform\":{\"id\":\"7fce4134-8958-4190-a01d-8079d6ae9cf6\",\"type\":\"CategoricalColorMapper\"}},\"line_alpha\":{\"value\":0.1},\"line_color\":{\"field\":\"specie\",\"transform\":{\"id\":\"7fce4134-8958-4190-a01d-8079d6ae9cf6\",\"type\":\"CategoricalColorMapper\"}},\"size\":{\"units\":\"screen\",\"value\":5},\"x\":{\"field\":\"x\"},\"y\":{\"field\":\"y\"}},\"id\":\"ad106014-b01a-4826-8ed1-6d454ad912d1\",\"type\":\"Circle\"},{\"attributes\":{},\"id\":\"3f25fe91-1149-4b0f-acf2-5009ab4fe641\",\"type\":\"UnionRenderers\"},{\"attributes\":{\"data_source\":{\"id\":\"66156389-4a02-4d82-bf8e-adaee6cab2f0\",\"type\":\"ColumnDataSource\"},\"glyph\":{\"id\":\"e1b41187-436d-4397-93c8-39736b8e983c\",\"type\":\"Circle\"},\"hover_glyph\":null,\"muted\":true,\"muted_glyph\":{\"id\":\"4b4c0325-cb5e-4796-a108-ee1b6ac98425\",\"type\":\"Circle\"},\"nonselection_glyph\":{\"id\":\"4d6fec5f-ef26-4cef-afda-f02c28d3b5b4\",\"type\":\"Circle\"},\"selection_glyph\":null,\"view\":{\"id\":\"020e3da8-c5d0-4cc3-bf0b-cafa761a9d60\",\"type\":\"CDSView\"}},\"id\":\"1187029d-bda6-4cd1-96dd-9d5c37f4e895\",\"type\":\"GlyphRenderer\"},{\"attributes\":{},\"id\":\"f8790734-8802-4ac7-893c-51af40e3ec79\",\"type\":\"UnionRenderers\"},{\"attributes\":{\"fill_alpha\":{\"value\":0.1},\"fill_color\":{\"value\":\"#1f77b4\"},\"line_alpha\":{\"value\":0.1},\"line_color\":{\"value\":\"#1f77b4\"},\"size\":{\"units\":\"screen\",\"value\":5},\"x\":{\"field\":\"x\"},\"y\":{\"field\":\"y\"}},\"id\":\"4d6fec5f-ef26-4cef-afda-f02c28d3b5b4\",\"type\":\"Circle\"},{\"attributes\":{\"data_source\":{\"id\":\"ea952a5d-acb7-4162-9b92-f24933bd46ad\",\"type\":\"ColumnDataSource\"},\"glyph\":{\"id\":\"91be2d5c-e26e-4981-b5c2-fd1a753c4451\",\"type\":\"Circle\"},\"hover_glyph\":null,\"muted\":true,\"muted_glyph\":{\"id\":\"b3faf8d8-418f-4be9-8b54-1f44779c44c1\",\"type\":\"Circle\"},\"nonselection_glyph\":{\"id\":\"883ab98e-886b-4d10-87f3-600ce0515e90\",\"type\":\"Circle\"},\"selection_glyph\":null,\"view\":{\"id\":\"6b730a4c-fcc1-4c28-9781-9781a3c66c45\",\"type\":\"CDSView\"}},\"id\":\"3cb594bd-ade8-40ec-8e9e-ea1b6d4abbf5\",\"type\":\"GlyphRenderer\"},{\"attributes\":{\"below\":[{\"id\":\"bbafa7ed-240d-487b-9c5e-6a098192973e\",\"type\":\"LinearAxis\"}],\"left\":[{\"id\":\"3995cc72-1aee-453a-8882-0f7b79d5dc90\",\"type\":\"LinearAxis\"}],\"plot_width\":800,\"renderers\":[{\"id\":\"bbafa7ed-240d-487b-9c5e-6a098192973e\",\"type\":\"LinearAxis\"},{\"id\":\"4f6dbd90-bf69-4f75-a9ae-e617b3678b1c\",\"type\":\"Grid\"},{\"id\":\"3995cc72-1aee-453a-8882-0f7b79d5dc90\",\"type\":\"LinearAxis\"},{\"id\":\"55de2fee-972c-44fb-b5d3-4ddd0cc5222d\",\"type\":\"Grid\"},{\"id\":\"459a622e-e9cc-4a9a-b4c5-11209f279255\",\"type\":\"GlyphRenderer\"},{\"id\":\"3cb594bd-ade8-40ec-8e9e-ea1b6d4abbf5\",\"type\":\"GlyphRenderer\"},{\"id\":\"46a8b567-dd8e-40a0-b944-25d3bcd68d9a\",\"type\":\"GlyphRenderer\"},{\"id\":\"db796c8a-fa58-41f9-a77d-527c39986da6\",\"type\":\"GlyphRenderer\"},{\"id\":\"ad12a54c-7e6f-4077-83b6-62ac814f8dd5\",\"type\":\"GlyphRenderer\"},{\"id\":\"d5dacf0c-d271-4c14-a066-88339f8b9407\",\"type\":\"GlyphRenderer\"},{\"id\":\"81dd1bc5-fe28-45b8-81dd-77ce4c26c5a0\",\"type\":\"GlyphRenderer\"},{\"id\":\"f8cd9109-68d5-4c15-8314-f4a7a2a97c95\",\"type\":\"GlyphRenderer\"},{\"id\":\"c15eb22d-e3e3-4f4f-b9cb-e165be3ebff2\",\"type\":\"GlyphRenderer\"},{\"id\":\"65d3f219-d5d3-49c1-ba2b-b8aa7a6d3592\",\"type\":\"GlyphRenderer\"},{\"id\":\"5761b7dd-5c5f-45a4-88be-3c56661f01f2\",\"type\":\"GlyphRenderer\"},{\"id\":\"4d0af75f-0762-4445-a14d-79cf584d24fd\",\"type\":\"GlyphRenderer\"},{\"id\":\"31263b5d-0faf-48bc-a601-3a79c2de5fa9\",\"type\":\"GlyphRenderer\"},{\"id\":\"631fcf40-9a43-4c81-86b2-f33786c3874b\",\"type\":\"GlyphRenderer\"},{\"id\":\"1bc5f750-1877-4d3f-8fda-126616195c45\",\"type\":\"GlyphRenderer\"},{\"id\":\"59e12331-5edc-47dc-a9ed-4cd7504ce997\",\"type\":\"GlyphRenderer\"},{\"id\":\"1187029d-bda6-4cd1-96dd-9d5c37f4e895\",\"type\":\"GlyphRenderer\"},{\"id\":\"a4cc2075-1b78-4b59-ad76-ae804ecd327c\",\"type\":\"GlyphRenderer\"},{\"id\":\"55ecab02-2bdf-4c76-890c-516a52bc8fbc\",\"type\":\"GlyphRenderer\"},{\"id\":\"7d1fdd62-539a-4c07-b8fb-5b957e250fcd\",\"type\":\"GlyphRenderer\"},{\"id\":\"b791502a-ff0a-4780-80b8-f7ca8d24b090\",\"type\":\"GlyphRenderer\"},{\"id\":\"c7a3355a-a880-4037-8699-8b3fe20e2ef6\",\"type\":\"Legend\"}],\"right\":[{\"id\":\"c7a3355a-a880-4037-8699-8b3fe20e2ef6\",\"type\":\"Legend\"}],\"title\":{\"id\":\"d00098da-dce1-406b-b1a3-c223652a2dbd\",\"type\":\"Title\"},\"toolbar\":{\"id\":\"44505227-fb67-42cf-8afd-a44f23be3ddd\",\"type\":\"Toolbar\"},\"toolbar_location\":\"above\",\"x_range\":{\"id\":\"42650b6f-e60e-4e6b-a966-6a5473400f53\",\"type\":\"DataRange1d\"},\"x_scale\":{\"id\":\"7e8f1b73-e0af-4644-a230-a86a34c5bedd\",\"type\":\"LinearScale\"},\"y_range\":{\"id\":\"4c990237-6bc7-4ca3-9545-82e28a773eac\",\"type\":\"DataRange1d\"},\"y_scale\":{\"id\":\"d50dddd2-4954-4abd-841e-a850b985ef6d\",\"type\":\"LinearScale\"}},\"id\":\"7dead913-c2e4-43ad-a3ff-e4408da95dad\",\"subtype\":\"Figure\",\"type\":\"Plot\"},{\"attributes\":{\"fill_alpha\":{\"value\":0.1},\"fill_color\":{\"value\":\"#1f77b4\"},\"line_alpha\":{\"value\":0.1},\"line_color\":{\"value\":\"#1f77b4\"},\"size\":{\"units\":\"screen\",\"value\":5},\"x\":{\"field\":\"x\"},\"y\":{\"field\":\"y\"}},\"id\":\"75fc1e6d-852b-42f3-9b03-c4862510bfd0\",\"type\":\"Circle\"},{\"attributes\":{},\"id\":\"494b2dcf-ea2b-4230-8b55-2afb5fa0bdaf\",\"type\":\"Selection\"},{\"attributes\":{\"label\":{\"value\":\"Qax\"},\"renderers\":[{\"id\":\"1bc5f750-1877-4d3f-8fda-126616195c45\",\"type\":\"GlyphRenderer\"}]},\"id\":\"8ed22922-11fc-46d1-b28a-0945955da415\",\"type\":\"LegendItem\"},{\"attributes\":{},\"id\":\"eb080918-79bb-4a57-8ecf-77e94f656b34\",\"type\":\"UnionRenderers\"},{\"attributes\":{},\"id\":\"d6dd456d-0821-40b2-b0bf-bc228df9af56\",\"type\":\"Selection\"},{\"attributes\":{\"callback\":null,\"data\":{\"index\":[1584,1585,1586,1587,1588,1589,1590,1591,1592,1593,1594,1595,1596,1597,1598,1599,1600,1601,1602,1603,1604,1605,1606,1607,1608,1609,1610,1611,1612,1613,1614,1615,1616,1617,1618,1619,1620,1621,1622,1623,1624,1625,1626,1627,1628,1629,1630,1631,1632,1633,1634,1635,1636,1637,1638,1639,1640,1641,1642,1643,1644,1645,1646,1647,1648,1649,1650,1651,1652,1653,1654,1655,1656,1657,1658,1659,1660,1661,1662,1663,1664,1665,1666,1667,1668,1669,1670,1671,1672,1673,1674,1675,1676,1677,1678,1679,1680,1681,1682,1683,1684,1685,1686,1687,1688,1689,1690,1691,1692,1693,1694,1695,1696,1697,1698,1699,1700,1701,1702,1703,1704,1705,1706,1707,1708,1709,1710,1711,1712,1713,1714,1715,1716,1717,1718,1719,1720,1721,1722,1723,1724,1725,1726,1727,1728,1729,1730,1731,1732,1733,1734,1735,1736,1737,1738,1739,1740,1741,1742,1743,1744,1745,1746,1747,1748,1749,1750,1751,1752,1753,1754,1755,1756,1757,1758,1759,1760,1761,1762,1763,1764,1765,1766,1767,1768,1769,1770,1771,1772,1773,1774,1775,1776,1777,1778,1779,1780,1781,1782,1783,1784,1785,1786,1787,1788,1789,1790,1791,1792,1793,1794,1795,1796,1797,1798,1799,1800,1801,1802,1803,1804,1805,1806,1807,1808,1809,1810,1811,1812,1813,1814,1815,1816,1817,1818,1819,1820,1821,1822],\"kasios_index\":{\"__ndarray__\":\"AAAAAAAA+H8AAAAAAAD4fwAAAAAAAPh/AAAAAAAA+H8AAAAAAAD4fwAAAAAAAPh/AAAAAAAA+H8AAAAAAAD4fwAAAAAAAPh/AAAAAAAA+H8AAAAAAAD4fwAAAAAAAPh/AAAAAAAA+H8AAAAAAAD4fwAAAAAAAPh/AAAAAAAA+H8AAAAAAAD4fwAAAAAAAPh/AAAAAAAA+H8AAAAAAAD4fwAAAAAAAPh/AAAAAAAA+H8AAAAAAAD4fwAAAAAAAPh/AAAAAAAA+H8AAAAAAAD4fwAAAAAAAPh/AAAAAAAA+H8AAAAAAAD4fwAAAAAAAPh/AAAAAAAA+H8AAAAAAAD4fwAAAAAAAPh/AAAAAAAA+H8AAAAAAAD4fwAAAAAAAPh/AAAAAAAA+H8AAAAAAAD4fwAAAAAAAPh/AAAAAAAA+H8AAAAAAAD4fwAAAAAAAPh/AAAAAAAA+H8AAAAAAAD4fwAAAAAAAPh/AAAAAAAA+H8AAAAAAAD4fwAAAAAAAPh/AAAAAAAA+H8AAAAAAAD4fwAAAAAAAPh/AAAAAAAA+H8AAAAAAAD4fwAAAAAAAPh/AAAAAAAA+H8AAAAAAAD4fwAAAAAAAPh/AAAAAAAA+H8AAAAAAAD4fwAAAAAAAPh/AAAAAAAA+H8AAAAAAAD4fwAAAAAAAPh/AAAAAAAA+H8AAAAAAAD4fwAAAAAAAPh/AAAAAAAA+H8AAAAAAAD4fwAAAAAAAPh/AAAAAAAA+H8AAAAAAAD4fwAAAAAAAPh/AAAAAAAA+H8AAAAAAAD4fwAAAAAAAPh/AAAAAAAA+H8AAAAAAAD4fwAAAAAAAPh/AAAAAAAA+H8AAAAAAAD4fwAAAAAAAPh/AAAAAAAA+H8AAAAAAAD4fwAAAAAAAPh/AAAAAAAA+H8AAAAAAAD4fwAAAAAAAPh/AAAAAAAA+H8AAAAAAAD4fwAAAAAAAPh/AAAAAAAA+H8AAAAAAAD4fwAAAAAAAPh/AAAAAAAA+H8AAAAAAAD4fwAAAAAAAPh/AAAAAAAA+H8AAAAAAAD4fwAAAAAAAPh/AAAAAAAA+H8AAAAAAAD4fwAAAAAAAPh/AAAAAAAA+H8AAAAAAAD4fwAAAAAAAPh/AAAAAAAA+H8AAAAAAAD4fwAAAAAAAPh/AAAAAAAA+H8AAAAAAAD4fwAAAAAAAPh/AAAAAAAA+H8AAAAAAAD4fwAAAAAAAPh/AAAAAAAA+H8AAAAAAAD4fwAAAAAAAPh/AAAAAAAA+H8AAAAAAAD4fwAAAAAAAPh/AAAAAAAA+H8AAAAAAAD4fwAAAAAAAPh/AAAAAAAA+H8AAAAAAAD4fwAAAAAAAPh/AAAAAAAA+H8AAAAAAAD4fwAAAAAAAPh/AAAAAAAA+H8AAAAAAAD4fwAAAAAAAPh/AAAAAAAA+H8AAAAAAAD4fwAAAAAAAPh/AAAAAAAA+H8AAAAAAAD4fwAAAAAAAPh/AAAAAAAA+H8AAAAAAAD4fwAAAAAAAPh/AAAAAAAA+H8AAAAAAAD4fwAAAAAAAPh/AAAAAAAA+H8AAAAAAAD4fwAAAAAAAPh/AAAAAAAA+H8AAAAAAAD4fwAAAAAAAPh/AAAAAAAA+H8AAAAAAAD4fwAAAAAAAPh/AAAAAAAA+H8AAAAAAAD4fwAAAAAAAPh/AAAAAAAA+H8AAAAAAAD4fwAAAAAAAPh/AAAAAAAA+H8AAAAAAAD4fwAAAAAAAPh/AAAAAAAA+H8AAAAAAAD4fwAAAAAAAPh/AAAAAAAA+H8AAAAAAAD4fwAAAAAAAPh/AAAAAAAA+H8AAAAAAAD4fwAAAAAAAPh/AAAAAAAA+H8AAAAAAAD4fwAAAAAAAPh/AAAAAAAA+H8AAAAAAAD4fwAAAAAAAPh/AAAAAAAA+H8AAAAAAAD4fwAAAAAAAPh/AAAAAAAA+H8AAAAAAAD4fwAAAAAAAPh/AAAAAAAA+H8AAAAAAAD4fwAAAAAAAPh/AAAAAAAA+H8AAAAAAAD4fwAAAAAAAPh/AAAAAAAA+H8AAAAAAAD4fwAAAAAAAPh/AAAAAAAA+H8AAAAAAAD4fwAAAAAAAPh/AAAAAAAA+H8AAAAAAAD4fwAAAAAAAPh/AAAAAAAA+H8AAAAAAAD4fwAAAAAAAPh/AAAAAAAA+H8AAAAAAAD4fwAAAAAAAPh/AAAAAAAA+H8AAAAAAAD4fwAAAAAAAPh/AAAAAAAA+H8AAAAAAAD4fwAAAAAAAPh/AAAAAAAA+H8AAAAAAAD4fwAAAAAAAPh/AAAAAAAA+H8AAAAAAAD4fwAAAAAAAPh/AAAAAAAA+H8AAAAAAAD4fwAAAAAAAPh/AAAAAAAA+H8AAAAAAAD4fwAAAAAAAPh/AAAAAAAA+H8AAAAAAAD4fwAAAAAAAPh/AAAAAAAA+H8AAAAAAAD4fwAAAAAAAPh/AAAAAAAA+H8AAAAAAAD4fwAAAAAAAPh/AAAAAAAA+H8AAAAAAAD4fwAAAAAAAPh/AAAAAAAA+H8AAAAAAAD4fwAAAAAAAPh/AAAAAAAA+H8AAAAAAAD4fw==\",\"dtype\":\"float64\",\"shape\":[239]},\"specie\":[\"Queenscoat\",\"Queenscoat\",\"Queenscoat\",\"Queenscoat\",\"Queenscoat\",\"Queenscoat\",\"Queenscoat\",\"Queenscoat\",\"Queenscoat\",\"Queenscoat\",\"Queenscoat\",\"Queenscoat\",\"Queenscoat\",\"Queenscoat\",\"Queenscoat\",\"Queenscoat\",\"Queenscoat\",\"Queenscoat\",\"Queenscoat\",\"Queenscoat\",\"Queenscoat\",\"Queenscoat\",\"Queenscoat\",\"Queenscoat\",\"Queenscoat\",\"Queenscoat\",\"Queenscoat\",\"Queenscoat\",\"Queenscoat\",\"Queenscoat\",\"Queenscoat\",\"Queenscoat\",\"Queenscoat\",\"Queenscoat\",\"Queenscoat\",\"Queenscoat\",\"Queenscoat\",\"Queenscoat\",\"Queenscoat\",\"Queenscoat\",\"Queenscoat\",\"Queenscoat\",\"Queenscoat\",\"Queenscoat\",\"Queenscoat\",\"Queenscoat\",\"Queenscoat\",\"Queenscoat\",\"Queenscoat\",\"Queenscoat\",\"Queenscoat\",\"Queenscoat\",\"Queenscoat\",\"Queenscoat\",\"Queenscoat\",\"Queenscoat\",\"Queenscoat\",\"Queenscoat\",\"Queenscoat\",\"Queenscoat\",\"Queenscoat\",\"Queenscoat\",\"Queenscoat\",\"Queenscoat\",\"Queenscoat\",\"Queenscoat\",\"Queenscoat\",\"Queenscoat\",\"Queenscoat\",\"Queenscoat\",\"Queenscoat\",\"Queenscoat\",\"Queenscoat\",\"Queenscoat\",\"Queenscoat\",\"Queenscoat\",\"Queenscoat\",\"Queenscoat\",\"Queenscoat\",\"Queenscoat\",\"Queenscoat\",\"Queenscoat\",\"Queenscoat\",\"Queenscoat\",\"Queenscoat\",\"Queenscoat\",\"Queenscoat\",\"Queenscoat\",\"Queenscoat\",\"Queenscoat\",\"Queenscoat\",\"Queenscoat\",\"Queenscoat\",\"Queenscoat\",\"Queenscoat\",\"Queenscoat\",\"Queenscoat\",\"Queenscoat\",\"Queenscoat\",\"Queenscoat\",\"Queenscoat\",\"Queenscoat\",\"Queenscoat\",\"Queenscoat\",\"Queenscoat\",\"Queenscoat\",\"Queenscoat\",\"Queenscoat\",\"Queenscoat\",\"Queenscoat\",\"Queenscoat\",\"Queenscoat\",\"Queenscoat\",\"Queenscoat\",\"Queenscoat\",\"Queenscoat\",\"Queenscoat\",\"Queenscoat\",\"Queenscoat\",\"Queenscoat\",\"Queenscoat\",\"Queenscoat\",\"Queenscoat\",\"Queenscoat\",\"Queenscoat\",\"Queenscoat\",\"Queenscoat\",\"Queenscoat\",\"Queenscoat\",\"Queenscoat\",\"Queenscoat\",\"Queenscoat\",\"Queenscoat\",\"Queenscoat\",\"Queenscoat\",\"Queenscoat\",\"Queenscoat\",\"Queenscoat\",\"Queenscoat\",\"Queenscoat\",\"Queenscoat\",\"Queenscoat\",\"Queenscoat\",\"Queenscoat\",\"Queenscoat\",\"Queenscoat\",\"Queenscoat\",\"Queenscoat\",\"Queenscoat\",\"Queenscoat\",\"Queenscoat\",\"Queenscoat\",\"Queenscoat\",\"Queenscoat\",\"Queenscoat\",\"Queenscoat\",\"Queenscoat\",\"Queenscoat\",\"Queenscoat\",\"Queenscoat\",\"Queenscoat\",\"Queenscoat\",\"Queenscoat\",\"Queenscoat\",\"Queenscoat\",\"Queenscoat\",\"Queenscoat\",\"Queenscoat\",\"Queenscoat\",\"Queenscoat\",\"Queenscoat\",\"Queenscoat\",\"Queenscoat\",\"Queenscoat\",\"Queenscoat\",\"Queenscoat\",\"Queenscoat\",\"Queenscoat\",\"Queenscoat\",\"Queenscoat\",\"Queenscoat\",\"Queenscoat\",\"Queenscoat\",\"Queenscoat\",\"Queenscoat\",\"Queenscoat\",\"Queenscoat\",\"Queenscoat\",\"Queenscoat\",\"Queenscoat\",\"Queenscoat\",\"Queenscoat\",\"Queenscoat\",\"Queenscoat\",\"Queenscoat\",\"Queenscoat\",\"Queenscoat\",\"Queenscoat\",\"Queenscoat\",\"Queenscoat\",\"Queenscoat\",\"Queenscoat\",\"Queenscoat\",\"Queenscoat\",\"Queenscoat\",\"Queenscoat\",\"Queenscoat\",\"Queenscoat\",\"Queenscoat\",\"Queenscoat\",\"Queenscoat\",\"Queenscoat\",\"Queenscoat\",\"Queenscoat\",\"Queenscoat\",\"Queenscoat\",\"Queenscoat\",\"Queenscoat\",\"Queenscoat\",\"Queenscoat\",\"Queenscoat\",\"Queenscoat\",\"Queenscoat\",\"Queenscoat\",\"Queenscoat\",\"Queenscoat\",\"Queenscoat\",\"Queenscoat\",\"Queenscoat\",\"Queenscoat\",\"Queenscoat\",\"Queenscoat\",\"Queenscoat\",\"Queenscoat\",\"Queenscoat\",\"Queenscoat\",\"Queenscoat\",\"Queenscoat\",\"Queenscoat\"],\"x\":{\"__ndarray__\":\"RBm6QMtZkUCu1sdAgmK9QMxdfEAElpRAGNyxQMfJikACP1NArpJUQDYvikDs88tAW8a4QBBFwUD7schA55rMQKbto0CxrLhArgOZQG5wh0ABqsBAQdqqQMVxW0CzoZNA551yQEirXEDYtMBA6nuxQMxPr0BwkrlAasxlQPK7vkA27pNABCCmQLpdi0CYWpNAC/W2QLbBvkCvdGhAE3m8QAE4e0DRwZ5AlxGRQPQNqMAzxYjAcHmewG0SfUBnBJ1ADMhWQBgqgEDi6llAogYwvyTJzECxNslAd/qFQM/NWkA0OKlARnSLQKJsekCTF3hANEZ2QIlnckB4c7hAduC0QAhlm7/kHKZA23OWQIw7XEAw879AuEqeQEGJmUDj95NAhfB0QOXrScBAbK9AYUiFQMith0Bs9L5AYGPzv6AuYEB2TkfApBJeQH4ju0A8fKJAVrSSQBDIrUAYArxAZEmXQKiOoUCr8LpAAHi8QBmIqkCCbptAIeDJQP5LmUCxDL5A4FTJQIg1zEAFNn5AiijDQH3JRsBqhFxAGg/DQA+qnL+q4H9A33lSQDNNhEDW2axARXaFQBK8a0DIq1dAvs9JQC9DqEAKaE9AOulrQJ8LjkCCAU+/5xW8QFdfD0Af12ZABSPTv5ZRUECPnZ5AZ2HzP+HjVkBpdl1A22KZQKo8rUB8lLhATZlawPLkvUBjHrxAk+23QBFnlEA6IslA+36AQO2kl0DhHK1Ap6/LQIPtvUCntY5AoUWvQAJPm0Dp6rJAysy0QLF0qUDWWplAM/ysQKwSfMBT6Z5Asu9WQFwgvEA+v6NAiqGBQJ5ewEDumqdAhDeqQPsgjEDgqAnA4FxTQOPjvECAEGtAG6a5QC4apUC9YbS/8mBXQAPCoUCHxF1A7JW3QDWKikDIJZDAb063QGyutEACziFA75ijQL+3jkBf3K1AQDfSv7N5TkAd8K2/XS7Tv8FSe0CpmYBAkfBwQNhmTEAds5VA5mmlv+5k1r/Z+MVAVe+TQHYgu0C5yIxAlvt5QLKL778MqOC/DmY+wDRKokBRmqW/3eKcQBcakEAyPy3Aj3bWvwiNlb8q7La/BIy3v6GMbr6dlk9AE1evQEoO0D++uqJAE323QJWAlsDePXlAjgF0QAqwrEDJ9mlAuwixQD14okByj4dAYImiQIhNVUD8l1FA5NRdQBX8pECZ3WBARDBXQHM0ZUCokr2/DXqWQLXetr++D7u/Y8VZQLXfxECGR6hApy9MQHdJA8BWos2/uKJKQI08u0A=\",\"dtype\":\"float32\",\"shape\":[239]},\"y\":{\"__ndarray__\":\"2m1fQN5GP0AhW0pAoFxCQMUyOEB6/itAosBcQAH+SkAElT1A0BsoQIJmR0CpyEFAkmZXQDSYS0DLmjRAwQFCQAsU5T9171JAY2ImQLVPTkBDbjxAIVpYQHDHSkBvql5Aw0NSQPclJEAXH0FA3xK3P6I5AEDrcFlA7pJFQFCDO0D2519AfWU7QEwGRUDwVltAV9o7QK5jLkA3yGRAb15HQH9TSED4bEFAgYUqQMiRIkBdunJA48+fP7aFVkAPz0BACkOsP1odR0ACE2dAacSQv25dPEDvRTNApQ1JQOaCNkC5UV1AXgxLQERDUEDWDU9AvT1WQFWvY0Bx3g9AcsUBQCxBa0ArN0VAyPEKQOy+U0BUa09Ao87bP4bgXkCjLw9AgH5UQM8TCj6PyFdAcglAQPKvTkD+GEtA3y8UQKQSW0B+Y58/26hOQIDszz9IxDxA6QBTQPdQP0CV0SdA5GZMQGpjC0ANCCtApdcpQDdEBEDWZwRAGz42QBlVPUB5/DNAIiY0QKAyPEDZjlRAj9FQQFhfc0Ab8WFAfdVBQJJNbECvC0pAsfD7PzVpS0BzwhJAhFVQQO+YT0AEgEtAIuTBP4vfIEAMeUhARI0ZQPOqT0CR7vG+jjskQJ4Ukj4LddQ/edipP9oMSkDZLztAf/C8v7xtPEBRT09ABzpcQLeHLkBSX1JAzY87QM1DTUAwkEdAW8hEQN/hQkA/nC9AjqQsQH3vXECyku4/PsI/QIkb7j/IFEVAMlYJQAbVPEC9az1Agc86QF5IW0DOp0JA2UdPQET9gr+7NzZAzPdeQK1BTEDy8idACMRFQG2QG0DDbDFA0RgoQNFqTUDh9ZtAEZUrQMK6YEAzzFRA48ZGQAZPOkAlBHlAorgwQG3TO0CVg19AephkQB2FTEA4X4s/S/hXQBh9V0B4uP2/VVJ6P77gZUAhjV5A98sZQB/VV0BHwFpATcEyQGEZQkCctFZAlWhKQHFLUUBpLTFAgilKQBqqPEAe2EhAh1Y6QPvNWkBDQkdAIypXQAP/MkB9DZdAQsy9P2WGMEB/9VFA1bm9PwXvRkCiXui+IhaqP2euX0BY+rE/c4FcvkB2uL8NLV5APRgSQDeb67/34ixAqzwOQBiHkT9owVRAU3FaQPI/P0BsHlpAL0M9QDVXP0ClYj1AJV14P7EDX0A+Bl1AR81fQMGFN0B+1z1AGfY8QK8QUUB/gWZAEMdbQIh2dEAC1WBAaF5PQCxiQ0BPST1AeTxeQEsRGkAMzi1Amj9fQIBx9T8=\",\"dtype\":\"float32\",\"shape\":[239]}},\"selected\":{\"id\":\"72080a08-5bf1-4c85-a2b3-1f1978bc3b2f\",\"type\":\"Selection\"},\"selection_policy\":{\"id\":\"a5c571c2-9ea9-427f-b428-51ebf318c330\",\"type\":\"UnionRenderers\"}},\"id\":\"15466421-ad29-44e7-822d-0d9683b8a65f\",\"type\":\"ColumnDataSource\"},{\"attributes\":{\"source\":{\"id\":\"cd9eca65-181b-49d2-aa19-8b3b3bb30189\",\"type\":\"ColumnDataSource\"}},\"id\":\"9758f5de-3e4b-4fef-8a88-9f811da8491d\",\"type\":\"CDSView\"},{\"attributes\":{\"label\":{\"value\":\"Lesser Birchbeere\"},\"renderers\":[{\"id\":\"65d3f219-d5d3-49c1-ba2b-b8aa7a6d3592\",\"type\":\"GlyphRenderer\"}]},\"id\":\"d32cc24e-7112-4e5e-ab26-479e21903cff\",\"type\":\"LegendItem\"},{\"attributes\":{\"label\":{\"value\":\"Pinkfinch\"},\"renderers\":[{\"id\":\"31263b5d-0faf-48bc-a601-3a79c2de5fa9\",\"type\":\"GlyphRenderer\"}]},\"id\":\"357c8273-5421-41f1-b2e2-f8ea2a6d7c56\",\"type\":\"LegendItem\"},{\"attributes\":{},\"id\":\"0195fbc1-638b-4cd1-81e1-66cfdb438acc\",\"type\":\"UnionRenderers\"},{\"attributes\":{\"fill_alpha\":{\"value\":0.6},\"fill_color\":{\"field\":\"specie\",\"transform\":{\"id\":\"7fce4134-8958-4190-a01d-8079d6ae9cf6\",\"type\":\"CategoricalColorMapper\"}},\"line_alpha\":{\"value\":0.6},\"line_color\":{\"field\":\"specie\",\"transform\":{\"id\":\"7fce4134-8958-4190-a01d-8079d6ae9cf6\",\"type\":\"CategoricalColorMapper\"}},\"size\":{\"units\":\"screen\",\"value\":5},\"x\":{\"field\":\"x\"},\"y\":{\"field\":\"y\"}},\"id\":\"1907bfae-e62f-493c-99cf-76e20df87de7\",\"type\":\"Circle\"},{\"attributes\":{\"label\":{\"value\":\"Orange Pine Plover\"},\"renderers\":[{\"id\":\"5761b7dd-5c5f-45a4-88be-3c56661f01f2\",\"type\":\"GlyphRenderer\"}]},\"id\":\"31d5d85d-ea1c-403f-9953-f3089b030e5c\",\"type\":\"LegendItem\"},{\"attributes\":{\"callback\":null,\"data\":{\"index\":[186,187,188,189,190,191,192,193,194,195,196,197,198,199,200,201,202,203,204,205,206,207,208,209,210,211,212,213,214,215,216,217,218,219,220,221,222,223,224,225,226,227,228,229,230,231,232,233,234,235,236,237,238,239,240,241,242,243,244,245,246,247,248,249,250,251,252],\"kasios_index\":{\"__ndarray__\":\"AAAAAAAA+H8AAAAAAAD4fwAAAAAAAPh/AAAAAAAA+H8AAAAAAAD4fwAAAAAAAPh/AAAAAAAA+H8AAAAAAAD4fwAAAAAAAPh/AAAAAAAA+H8AAAAAAAD4fwAAAAAAAPh/AAAAAAAA+H8AAAAAAAD4fwAAAAAAAPh/AAAAAAAA+H8AAAAAAAD4fwAAAAAAAPh/AAAAAAAA+H8AAAAAAAD4fwAAAAAAAPh/AAAAAAAA+H8AAAAAAAD4fwAAAAAAAPh/AAAAAAAA+H8AAAAAAAD4fwAAAAAAAPh/AAAAAAAA+H8AAAAAAAD4fwAAAAAAAPh/AAAAAAAA+H8AAAAAAAD4fwAAAAAAAPh/AAAAAAAA+H8AAAAAAAD4fwAAAAAAAPh/AAAAAAAA+H8AAAAAAAD4fwAAAAAAAPh/AAAAAAAA+H8AAAAAAAD4fwAAAAAAAPh/AAAAAAAA+H8AAAAAAAD4fwAAAAAAAPh/AAAAAAAA+H8AAAAAAAD4fwAAAAAAAPh/AAAAAAAA+H8AAAAAAAD4fwAAAAAAAPh/AAAAAAAA+H8AAAAAAAD4fwAAAAAAAPh/AAAAAAAA+H8AAAAAAAD4fwAAAAAAAPh/AAAAAAAA+H8AAAAAAAD4fwAAAAAAAPh/AAAAAAAA+H8AAAAAAAD4fwAAAAAAAPh/AAAAAAAA+H8AAAAAAAD4fwAAAAAAAPh/AAAAAAAA+H8=\",\"dtype\":\"float64\",\"shape\":[67]},\"specie\":[\"Blue-collared Zipper\",\"Blue-collared Zipper\",\"Blue-collared Zipper\",\"Blue-collared Zipper\",\"Blue-collared Zipper\",\"Blue-collared Zipper\",\"Blue-collared Zipper\",\"Blue-collared Zipper\",\"Blue-collared Zipper\",\"Blue-collared Zipper\",\"Blue-collared Zipper\",\"Blue-collared Zipper\",\"Blue-collared Zipper\",\"Blue-collared Zipper\",\"Blue-collared Zipper\",\"Blue-collared Zipper\",\"Blue-collared Zipper\",\"Blue-collared Zipper\",\"Blue-collared Zipper\",\"Blue-collared Zipper\",\"Blue-collared Zipper\",\"Blue-collared Zipper\",\"Blue-collared Zipper\",\"Blue-collared Zipper\",\"Blue-collared Zipper\",\"Blue-collared Zipper\",\"Blue-collared Zipper\",\"Blue-collared Zipper\",\"Blue-collared Zipper\",\"Blue-collared Zipper\",\"Blue-collared Zipper\",\"Blue-collared Zipper\",\"Blue-collared Zipper\",\"Blue-collared Zipper\",\"Blue-collared Zipper\",\"Blue-collared Zipper\",\"Blue-collared Zipper\",\"Blue-collared Zipper\",\"Blue-collared Zipper\",\"Blue-collared Zipper\",\"Blue-collared Zipper\",\"Blue-collared Zipper\",\"Blue-collared Zipper\",\"Blue-collared Zipper\",\"Blue-collared Zipper\",\"Blue-collared Zipper\",\"Blue-collared Zipper\",\"Blue-collared Zipper\",\"Blue-collared Zipper\",\"Blue-collared Zipper\",\"Blue-collared Zipper\",\"Blue-collared Zipper\",\"Blue-collared Zipper\",\"Blue-collared Zipper\",\"Blue-collared Zipper\",\"Blue-collared Zipper\",\"Blue-collared Zipper\",\"Blue-collared Zipper\",\"Blue-collared Zipper\",\"Blue-collared Zipper\",\"Blue-collared Zipper\",\"Blue-collared Zipper\",\"Blue-collared Zipper\",\"Blue-collared Zipper\",\"Blue-collared Zipper\",\"Blue-collared Zipper\",\"Blue-collared Zipper\"],\"x\":{\"__ndarray__\":\"LR6cQLZMAECWJZi/+j2GQOa+mEAFvGFA/3U+QIox3z/u7zRAWOYBQMFwb79eY64/UEWmvwafqMByQoJAgTN6QHQHpUDJ2L5AXrjtPwnZC8AX82NAto2xQPWNVz8ky69AV28DwManuL2OVes/H7KzPxOn+z9TqxBADCdpQL9rGj/1gTa/6ET4vypMMECsXwtAMoNsQIfecD+kqrlAU4h9QJdJf0BvfnE/GuX8P4BpNsAyxhZA0bygP4lO/7/SujzAEkE0QKg0EcC1KipAJiyCQCPVBMCWtVHArnNBwJb5YEByqre/lhkKQLSdmz8sEqe/bHvmPxh4Q8DoblvAqRKTQE4zpkC0YlBAPzVVQA==\",\"dtype\":\"float32\",\"shape\":[67]},\"y\":{\"__ndarray__\":\"jqP8PztO/D3rswK/c107P768zD971+Q9H5/Ivx/+wL+N/WW/r+1Ov3Gph78l1J6+8BD1vslzXj4aqum9DstmvUctMz+BTvU/zkCAv5pAx7+tzSo/qyrmPzLnL8AhfuM/KlUywNkYLsCmE1W/UvcAwKfDUb+9qI4++TR4vYsbZb9yt12/4DwwQM62ZD+/Uvm+gaU7Pz5M676Jduo/QQdHP4GHxj3ASYO/w6Wtv7c3TD9mHBe/SokwwLpcxL+30Lg/LPAIwEn/br8MiVQ//dc1QDuSgr+4B3K/uLTDPz0dCz/Uofy/MaCbPp/yg78iVha/iSpCvy9zgT8doBBAMFERQMpuNEDIYL4/eQMSvw==\",\"dtype\":\"float32\",\"shape\":[67]}},\"selected\":{\"id\":\"12b6332f-b2c7-4061-82d5-5831dba22adb\",\"type\":\"Selection\"},\"selection_policy\":{\"id\":\"5e7bfc2c-7e28-442e-9d44-3eebdbb500f7\",\"type\":\"UnionRenderers\"}},\"id\":\"ea952a5d-acb7-4162-9b92-f24933bd46ad\",\"type\":\"ColumnDataSource\"},{\"attributes\":{},\"id\":\"dcdeccf9-42e5-4427-af54-9bfd8cb59167\",\"type\":\"UnionRenderers\"},{\"attributes\":{},\"id\":\"89164001-e656-49fc-8d8f-ad5138e6ab3a\",\"type\":\"BasicTickFormatter\"},{\"attributes\":{},\"id\":\"5f1603db-7811-426f-ae33-373e618076d2\",\"type\":\"Selection\"},{\"attributes\":{\"label\":{\"value\":\"Broad-winged Jojo\"},\"renderers\":[{\"id\":\"db796c8a-fa58-41f9-a77d-527c39986da6\",\"type\":\"GlyphRenderer\"}]},\"id\":\"c93e8a89-b630-4b18-b413-08ed5e789d59\",\"type\":\"LegendItem\"},{\"attributes\":{\"data_source\":{\"id\":\"cd9eca65-181b-49d2-aa19-8b3b3bb30189\",\"type\":\"ColumnDataSource\"},\"glyph\":{\"id\":\"1907bfae-e62f-493c-99cf-76e20df87de7\",\"type\":\"Circle\"},\"hover_glyph\":null,\"muted\":true,\"muted_glyph\":{\"id\":\"ad106014-b01a-4826-8ed1-6d454ad912d1\",\"type\":\"Circle\"},\"nonselection_glyph\":{\"id\":\"75fc1e6d-852b-42f3-9b03-c4862510bfd0\",\"type\":\"Circle\"},\"selection_glyph\":null,\"view\":{\"id\":\"9758f5de-3e4b-4fef-8a88-9f811da8491d\",\"type\":\"CDSView\"}},\"id\":\"1bc5f750-1877-4d3f-8fda-126616195c45\",\"type\":\"GlyphRenderer\"},{\"attributes\":{\"source\":{\"id\":\"b4d14710-e0f2-492e-aad0-269d92e988b5\",\"type\":\"ColumnDataSource\"}},\"id\":\"686341bc-0170-4f2f-8964-852a81f13f74\",\"type\":\"CDSView\"},{\"attributes\":{\"fill_alpha\":{\"value\":0.1},\"fill_color\":{\"value\":\"#1f77b4\"},\"line_alpha\":{\"value\":0.1},\"line_color\":{\"value\":\"#1f77b4\"},\"size\":{\"units\":\"screen\",\"value\":5},\"x\":{\"field\":\"x\"},\"y\":{\"field\":\"y\"}},\"id\":\"d61c249b-1755-4609-afe5-3e6601367d8b\",\"type\":\"Circle\"},{\"attributes\":{\"data_source\":{\"id\":\"bb51d650-04de-4dd0-8d3f-9e8689d05f79\",\"type\":\"ColumnDataSource\"},\"glyph\":{\"id\":\"5ff2a096-8437-47f1-a98c-63f52d5b9be0\",\"type\":\"Circle\"},\"hover_glyph\":null,\"muted_glyph\":{\"id\":\"e4f972da-c1b7-410c-a6dc-8a2947fd9739\",\"type\":\"Circle\"},\"nonselection_glyph\":{\"id\":\"d62010b3-c865-4240-8aba-406ab4161613\",\"type\":\"Circle\"},\"selection_glyph\":null,\"view\":{\"id\":\"45277cc2-4eab-4fd6-a85b-190a12da1d0a\",\"type\":\"CDSView\"}},\"id\":\"459a622e-e9cc-4a9a-b4c5-11209f279255\",\"type\":\"GlyphRenderer\"},{\"attributes\":{\"label\":{\"value\":\"Carries Champagne Pipit\"},\"renderers\":[{\"id\":\"d5dacf0c-d271-4c14-a066-88339f8b9407\",\"type\":\"GlyphRenderer\"}]},\"id\":\"ca39938b-ea0e-411e-a244-75d394fc9bdd\",\"type\":\"LegendItem\"},{\"attributes\":{},\"id\":\"977230a5-cad2-4cdc-8b8c-b9ea51e0c05c\",\"type\":\"Selection\"},{\"attributes\":{\"label\":{\"value\":\"Darkwing Sparrow\"},\"renderers\":[{\"id\":\"81dd1bc5-fe28-45b8-81dd-77ce4c26c5a0\",\"type\":\"GlyphRenderer\"}]},\"id\":\"7482ad91-ed8b-4bfa-8b46-fec187acf73f\",\"type\":\"LegendItem\"},{\"attributes\":{\"label\":{\"value\":\"Eastern Corn Skeet\"},\"renderers\":[{\"id\":\"f8cd9109-68d5-4c15-8314-f4a7a2a97c95\",\"type\":\"GlyphRenderer\"}]},\"id\":\"6428bead-9f3f-4c0b-ae75-ef25f2b48b46\",\"type\":\"LegendItem\"},{\"attributes\":{},\"id\":\"80fe236c-592d-49f8-83c5-4ee80dea2997\",\"type\":\"UnionRenderers\"},{\"attributes\":{},\"id\":\"3536d730-5d53-4210-a8fd-77aa0a56b9b5\",\"type\":\"Selection\"},{\"attributes\":{\"label\":{\"value\":\"Kasios Test Bird\"},\"renderers\":[{\"id\":\"7d1fdd62-539a-4c07-b8fb-5b957e250fcd\",\"type\":\"GlyphRenderer\"}]},\"id\":\"c0ed47a5-6498-4c10-8f1b-4ff04f9d384b\",\"type\":\"LegendItem\"},{\"attributes\":{\"data_source\":{\"id\":\"f5761d9c-eea9-43d3-ab2e-b8bf268a55b7\",\"type\":\"ColumnDataSource\"},\"glyph\":{\"id\":\"f4cfe149-2350-4f3f-95b8-884eafb93dc5\",\"type\":\"Text\"},\"hover_glyph\":null,\"muted_glyph\":null,\"nonselection_glyph\":{\"id\":\"acfd0bed-1bae-4b17-8084-7088090e11b4\",\"type\":\"Text\"},\"selection_glyph\":null,\"view\":{\"id\":\"b4e8c2e7-fc84-43d8-8c35-b7db222d76f9\",\"type\":\"CDSView\"}},\"id\":\"b791502a-ff0a-4780-80b8-f7ca8d24b090\",\"type\":\"GlyphRenderer\"},{\"attributes\":{},\"id\":\"7e8f1b73-e0af-4644-a230-a86a34c5bedd\",\"type\":\"LinearScale\"},{\"attributes\":{\"fill_alpha\":{\"value\":0.1},\"fill_color\":{\"field\":\"specie\",\"transform\":{\"id\":\"7fce4134-8958-4190-a01d-8079d6ae9cf6\",\"type\":\"CategoricalColorMapper\"}},\"line_alpha\":{\"value\":0.1},\"line_color\":{\"field\":\"specie\",\"transform\":{\"id\":\"7fce4134-8958-4190-a01d-8079d6ae9cf6\",\"type\":\"CategoricalColorMapper\"}},\"size\":{\"units\":\"screen\",\"value\":5},\"x\":{\"field\":\"x\"},\"y\":{\"field\":\"y\"}},\"id\":\"23bd57ff-3d05-4282-b607-ea3bd04b0f57\",\"type\":\"Circle\"},{\"attributes\":{\"fill_alpha\":{\"value\":0.1},\"fill_color\":{\"field\":\"specie\",\"transform\":{\"id\":\"7fce4134-8958-4190-a01d-8079d6ae9cf6\",\"type\":\"CategoricalColorMapper\"}},\"line_alpha\":{\"value\":0.1},\"line_color\":{\"field\":\"specie\",\"transform\":{\"id\":\"7fce4134-8958-4190-a01d-8079d6ae9cf6\",\"type\":\"CategoricalColorMapper\"}},\"size\":{\"units\":\"screen\",\"value\":5},\"x\":{\"field\":\"x\"},\"y\":{\"field\":\"y\"}},\"id\":\"0962b593-9fa7-437e-91f0-6e5deea10e90\",\"type\":\"Circle\"},{\"attributes\":{\"data_source\":{\"id\":\"c373aea9-6c45-4688-a357-536b3372d06d\",\"type\":\"ColumnDataSource\"},\"glyph\":{\"id\":\"ae414fbf-44d0-47c1-8f0f-453d7761eeed\",\"type\":\"Circle\"},\"hover_glyph\":null,\"muted\":true,\"muted_glyph\":{\"id\":\"5ee0c146-5d46-4dd5-9bb8-7698b16b0f7c\",\"type\":\"Circle\"},\"nonselection_glyph\":{\"id\":\"194e91c2-d442-4139-a43d-2c026b474e17\",\"type\":\"Circle\"},\"selection_glyph\":null,\"view\":{\"id\":\"989c285f-38f5-452b-b911-87000834811c\",\"type\":\"CDSView\"}},\"id\":\"81dd1bc5-fe28-45b8-81dd-77ce4c26c5a0\",\"type\":\"GlyphRenderer\"},{\"attributes\":{\"data_source\":{\"id\":\"8d72ac23-cacd-4200-b75f-3430f468b9f0\",\"type\":\"ColumnDataSource\"},\"glyph\":{\"id\":\"223c02e6-de76-49ba-ba06-a8e701780a69\",\"type\":\"Circle\"},\"hover_glyph\":null,\"muted\":true,\"muted_glyph\":{\"id\":\"6da8bb04-9fd3-477d-9f24-8eaa7f4ac050\",\"type\":\"Circle\"},\"nonselection_glyph\":{\"id\":\"539179fb-9e86-42e3-a9b8-7e310d0932e6\",\"type\":\"Circle\"},\"selection_glyph\":null,\"view\":{\"id\":\"a6f41f34-5119-4025-ab79-ff28291ffe6d\",\"type\":\"CDSView\"}},\"id\":\"db796c8a-fa58-41f9-a77d-527c39986da6\",\"type\":\"GlyphRenderer\"},{\"attributes\":{\"fill_alpha\":{\"value\":0.1},\"fill_color\":{\"value\":\"#1f77b4\"},\"line_alpha\":{\"value\":0.1},\"line_color\":{\"value\":\"#1f77b4\"},\"size\":{\"units\":\"screen\",\"value\":5},\"x\":{\"field\":\"x\"},\"y\":{\"field\":\"y\"}},\"id\":\"2e2604cc-3213-40f8-af19-a07cf5b58626\",\"type\":\"Circle\"},{\"attributes\":{\"callback\":null,\"data\":{\"index\":[930,931,932,933,934,935,936,937,938,939,940,941,942,943,944,945,946,947,948,949,950,951,952,953,954,955,956,957,958,959,960,961,962,963,964,965,966,967,968,969,970,971,972,973,974,975,976,977,978,979,980,981,982,983,984,985,986,987,988,989,990,991,992,993,994,995,996,997,998,999,1000,1001,1002,1003,1004,1005,1006,1007,1008,1009,1010,1011,1012,1013,1014,1015,1016,1017,1018,1019,1020,1021,1022,1023,1024,1025,1026,1027,1028,1029,1030,1031,1032,1033,1034,1035,1036,1037,1038,1039,1040,1041,1042,1043,1044,1045,1046,1047,1048,1049,1050,1051,1052,1053,1054,1055,1056,1057,1058,1059,1060,1061,1062,1063,1064,1065,1066,1067,1068,1069,1070,1071,1072,1073,1074,1075,1076,1077,1078,1079],\"kasios_index\":{\"__ndarray__\":\"AAAAAAAA+H8AAAAAAAD4fwAAAAAAAPh/AAAAAAAA+H8AAAAAAAD4fwAAAAAAAPh/AAAAAAAA+H8AAAAAAAD4fwAAAAAAAPh/AAAAAAAA+H8AAAAAAAD4fwAAAAAAAPh/AAAAAAAA+H8AAAAAAAD4fwAAAAAAAPh/AAAAAAAA+H8AAAAAAAD4fwAAAAAAAPh/AAAAAAAA+H8AAAAAAAD4fwAAAAAAAPh/AAAAAAAA+H8AAAAAAAD4fwAAAAAAAPh/AAAAAAAA+H8AAAAAAAD4fwAAAAAAAPh/AAAAAAAA+H8AAAAAAAD4fwAAAAAAAPh/AAAAAAAA+H8AAAAAAAD4fwAAAAAAAPh/AAAAAAAA+H8AAAAAAAD4fwAAAAAAAPh/AAAAAAAA+H8AAAAAAAD4fwAAAAAAAPh/AAAAAAAA+H8AAAAAAAD4fwAAAAAAAPh/AAAAAAAA+H8AAAAAAAD4fwAAAAAAAPh/AAAAAAAA+H8AAAAAAAD4fwAAAAAAAPh/AAAAAAAA+H8AAAAAAAD4fwAAAAAAAPh/AAAAAAAA+H8AAAAAAAD4fwAAAAAAAPh/AAAAAAAA+H8AAAAAAAD4fwAAAAAAAPh/AAAAAAAA+H8AAAAAAAD4fwAAAAAAAPh/AAAAAAAA+H8AAAAAAAD4fwAAAAAAAPh/AAAAAAAA+H8AAAAAAAD4fwAAAAAAAPh/AAAAAAAA+H8AAAAAAAD4fwAAAAAAAPh/AAAAAAAA+H8AAAAAAAD4fwAAAAAAAPh/AAAAAAAA+H8AAAAAAAD4fwAAAAAAAPh/AAAAAAAA+H8AAAAAAAD4fwAAAAAAAPh/AAAAAAAA+H8AAAAAAAD4fwAAAAAAAPh/AAAAAAAA+H8AAAAAAAD4fwAAAAAAAPh/AAAAAAAA+H8AAAAAAAD4fwAAAAAAAPh/AAAAAAAA+H8AAAAAAAD4fwAAAAAAAPh/AAAAAAAA+H8AAAAAAAD4fwAAAAAAAPh/AAAAAAAA+H8AAAAAAAD4fwAAAAAAAPh/AAAAAAAA+H8AAAAAAAD4fwAAAAAAAPh/AAAAAAAA+H8AAAAAAAD4fwAAAAAAAPh/AAAAAAAA+H8AAAAAAAD4fwAAAAAAAPh/AAAAAAAA+H8AAAAAAAD4fwAAAAAAAPh/AAAAAAAA+H8AAAAAAAD4fwAAAAAAAPh/AAAAAAAA+H8AAAAAAAD4fwAAAAAAAPh/AAAAAAAA+H8AAAAAAAD4fwAAAAAAAPh/AAAAAAAA+H8AAAAAAAD4fwAAAAAAAPh/AAAAAAAA+H8AAAAAAAD4fwAAAAAAAPh/AAAAAAAA+H8AAAAAAAD4fwAAAAAAAPh/AAAAAAAA+H8AAAAAAAD4fwAAAAAAAPh/AAAAAAAA+H8AAAAAAAD4fwAAAAAAAPh/AAAAAAAA+H8AAAAAAAD4fwAAAAAAAPh/AAAAAAAA+H8AAAAAAAD4fwAAAAAAAPh/AAAAAAAA+H8AAAAAAAD4fwAAAAAAAPh/AAAAAAAA+H8AAAAAAAD4fwAAAAAAAPh/AAAAAAAA+H8AAAAAAAD4fwAAAAAAAPh/AAAAAAAA+H8AAAAAAAD4fwAAAAAAAPh/\",\"dtype\":\"float64\",\"shape\":[150]},\"specie\":[\"Lesser Birchbeere\",\"Lesser Birchbeere\",\"Lesser Birchbeere\",\"Lesser Birchbeere\",\"Lesser Birchbeere\",\"Lesser Birchbeere\",\"Lesser Birchbeere\",\"Lesser Birchbeere\",\"Lesser Birchbeere\",\"Lesser Birchbeere\",\"Lesser Birchbeere\",\"Lesser Birchbeere\",\"Lesser Birchbeere\",\"Lesser Birchbeere\",\"Lesser Birchbeere\",\"Lesser Birchbeere\",\"Lesser Birchbeere\",\"Lesser Birchbeere\",\"Lesser Birchbeere\",\"Lesser Birchbeere\",\"Lesser Birchbeere\",\"Lesser Birchbeere\",\"Lesser Birchbeere\",\"Lesser Birchbeere\",\"Lesser Birchbeere\",\"Lesser Birchbeere\",\"Lesser Birchbeere\",\"Lesser Birchbeere\",\"Lesser Birchbeere\",\"Lesser Birchbeere\",\"Lesser Birchbeere\",\"Lesser Birchbeere\",\"Lesser Birchbeere\",\"Lesser Birchbeere\",\"Lesser Birchbeere\",\"Lesser Birchbeere\",\"Lesser Birchbeere\",\"Lesser Birchbeere\",\"Lesser Birchbeere\",\"Lesser Birchbeere\",\"Lesser Birchbeere\",\"Lesser Birchbeere\",\"Lesser Birchbeere\",\"Lesser Birchbeere\",\"Lesser Birchbeere\",\"Lesser Birchbeere\",\"Lesser Birchbeere\",\"Lesser Birchbeere\",\"Lesser Birchbeere\",\"Lesser Birchbeere\",\"Lesser Birchbeere\",\"Lesser Birchbeere\",\"Lesser Birchbeere\",\"Lesser Birchbeere\",\"Lesser Birchbeere\",\"Lesser Birchbeere\",\"Lesser Birchbeere\",\"Lesser Birchbeere\",\"Lesser Birchbeere\",\"Lesser Birchbeere\",\"Lesser Birchbeere\",\"Lesser Birchbeere\",\"Lesser Birchbeere\",\"Lesser Birchbeere\",\"Lesser Birchbeere\",\"Lesser Birchbeere\",\"Lesser Birchbeere\",\"Lesser Birchbeere\",\"Lesser Birchbeere\",\"Lesser Birchbeere\",\"Lesser Birchbeere\",\"Lesser Birchbeere\",\"Lesser Birchbeere\",\"Lesser Birchbeere\",\"Lesser Birchbeere\",\"Lesser Birchbeere\",\"Lesser Birchbeere\",\"Lesser Birchbeere\",\"Lesser Birchbeere\",\"Lesser Birchbeere\",\"Lesser Birchbeere\",\"Lesser Birchbeere\",\"Lesser Birchbeere\",\"Lesser Birchbeere\",\"Lesser Birchbeere\",\"Lesser Birchbeere\",\"Lesser Birchbeere\",\"Lesser Birchbeere\",\"Lesser Birchbeere\",\"Lesser Birchbeere\",\"Lesser Birchbeere\",\"Lesser Birchbeere\",\"Lesser Birchbeere\",\"Lesser Birchbeere\",\"Lesser Birchbeere\",\"Lesser Birchbeere\",\"Lesser Birchbeere\",\"Lesser Birchbeere\",\"Lesser Birchbeere\",\"Lesser Birchbeere\",\"Lesser Birchbeere\",\"Lesser Birchbeere\",\"Lesser Birchbeere\",\"Lesser Birchbeere\",\"Lesser Birchbeere\",\"Lesser Birchbeere\",\"Lesser Birchbeere\",\"Lesser Birchbeere\",\"Lesser Birchbeere\",\"Lesser Birchbeere\",\"Lesser Birchbeere\",\"Lesser Birchbeere\",\"Lesser Birchbeere\",\"Lesser Birchbeere\",\"Lesser Birchbeere\",\"Lesser Birchbeere\",\"Lesser Birchbeere\",\"Lesser Birchbeere\",\"Lesser Birchbeere\",\"Lesser Birchbeere\",\"Lesser Birchbeere\",\"Lesser Birchbeere\",\"Lesser Birchbeere\",\"Lesser Birchbeere\",\"Lesser Birchbeere\",\"Lesser Birchbeere\",\"Lesser Birchbeere\",\"Lesser Birchbeere\",\"Lesser Birchbeere\",\"Lesser Birchbeere\",\"Lesser Birchbeere\",\"Lesser Birchbeere\",\"Lesser Birchbeere\",\"Lesser Birchbeere\",\"Lesser Birchbeere\",\"Lesser Birchbeere\",\"Lesser Birchbeere\",\"Lesser Birchbeere\",\"Lesser Birchbeere\",\"Lesser Birchbeere\",\"Lesser Birchbeere\",\"Lesser Birchbeere\",\"Lesser Birchbeere\",\"Lesser Birchbeere\",\"Lesser Birchbeere\",\"Lesser Birchbeere\",\"Lesser Birchbeere\",\"Lesser Birchbeere\",\"Lesser Birchbeere\",\"Lesser Birchbeere\"],\"x\":{\"__ndarray__\":\"fTUlQGFSOEB9lbm/lF4EQFMvA0Cw8C2/nsYEQNJxBkC1R6M//U7iP0L3B0C6WeU/BZv9P8Pi7T876x5AE+EBQFHb4T96LuM/kEkZQO4OD0DuctA/Il5HP4HDIsDXdeg+IPSQP/x9iD/YOfa++eQdQJZI076m1x1AuQfvPmQ9pz/p8wtAQjrVPzIVdz/gU0xAsLhRQFPMjj/k9ek/j7w1vwveKEBEp8++4ZK4PQj1xj6WRCxAkzD5PggEGEA6rQO/wnAlQJ4tDUB0p7s/bin9Pr2VJcD/DRpALjr1Py0R6T8soyhAimAMQDgWlT9YyNU/2BlAP8qgD0Cx/hVAXZ3XPqBQDD9ZDTJAOe7jPxkNPT7Ul23AxlavPxryJUBaw4s//a6SP1W5C0AyNfs/TN+4P+BGKUC6jwo/UFMhQHv1UEC8+R1AfeVhQDz/cb7F86Y+t1/7vwkBNkDV5os/v79MPhZjBEB1PiVAQey4P2I/kr8HEw9ADsXyP9wDtT9ysgE/dwmKwO/nIEB/Vsg/2SQKQJX8krxWIyZAN2IHP8j1Fj6EjXi+O+edPmfxJEBXrJA/+GQ4v18qJkBkBSpAai1LQNJsSECwmNQ/+UcZQJ5bFkCEdxBAYEUDQCfkuz6YjZo/qVQDQE+mIEAPaZc/1aa4P5bfIkDQEc4/gGmJP3Cwnj4yFg0/Bxxlv9nBuL8I3FS/36odQH2d1j8RGvU/2DsNQPOPBkA/8Yq/93mUv3b60j+j9Am/gMbDv7TsHkAefqs/UFujP9/JmsA615A/j3AHQNX6rb/9Yr2/\",\"dtype\":\"float32\",\"shape\":[150]},\"y\":{\"__ndarray__\":\"/EBIwFonO8AosVtAzcptwKvUccA+h1i/cvFrwEGVbMBUT2m/mpNZwM0mcMAUKGXASd5pwEbHZ8B7q3PArUDLvsAeZMDu+fu/XXd3wCrWcMBJipa/43+mv8uwFcAvktq/b3WFv2wTQ7/UNrC//Odiv9tswL8FDXLAZNUxwBujg785PmbA8RlYwMNQfr/GdijAU8kTwIUKir9drIy/4nRFwBVJWcAYN5y/+oQLwMp2AMCOPl3AmMbLvzEjbsBbd1u/eqNSwKERZcBGJYy+rFfJvw1Hm78Ny3TA1+9nwAu8ZcCpjmDAIHB2wNfRE7+jTJa/x2VQvx62aMAGr2zAJM0CwOM9yL8VjUm+OHewv464EsBdNvM/hqhzv2mOSsBmpFq/ySRmvx48aMAWcG+/MeBivyi9YcAOMr6/bftpwDHNfb811nHAWXP9vl+Qsr/aoc2/qsQDwC/uNMAamI6/RRWHvyzeb8B56WTAPR9lv8H78L8OonHA9XBpwI8BfL9tqsi/wbQ8QPS0Z8DXXKK/DKZywAGizb/MAmPAjCYuwJKB3b/3ity/M2jtv5SETsAa5Tu/LeKSv36SQMA6D13AqXdzvzoFW7/gC5e/eth2wIkXd8BhAGW/V11xwFZz2r+nGoC/TUMBwGm8bsDlzlu/iGOIvwdTS8BESqG/S3PMvo7eRL+SPLq/rtHdv6ZpU0BgzZe/SrGMvxpllb95e76+jlcevz73eb/2y+e/EMLvv95qU8Bx7IO/xGqfP0Dd3b+X2LW+CuBxv3A5zT9lwhy/pJCGv2S0OEB84mRA\",\"dtype\":\"float32\",\"shape\":[150]}},\"selected\":{\"id\":\"cb9b28ee-1ef8-4661-9cea-afcddf66f111\",\"type\":\"Selection\"},\"selection_policy\":{\"id\":\"05c8ccae-f20e-482c-89da-10c84a9fc69d\",\"type\":\"UnionRenderers\"}},\"id\":\"7b478966-bea7-4771-b6c0-b9a402cb46d2\",\"type\":\"ColumnDataSource\"},{\"attributes\":{\"fill_alpha\":{\"value\":0.1},\"fill_color\":{\"value\":\"#1f77b4\"},\"line_alpha\":{\"value\":0.1},\"line_color\":{\"value\":\"#1f77b4\"},\"size\":{\"units\":\"screen\",\"value\":5},\"x\":{\"field\":\"x\"},\"y\":{\"field\":\"y\"}},\"id\":\"5800acca-59f2-4301-8439-195fd68a544d\",\"type\":\"Circle\"},{\"attributes\":{\"fill_alpha\":{\"value\":0.7},\"fill_color\":{\"value\":\"black\"},\"line_alpha\":{\"value\":0.7},\"size\":{\"units\":\"screen\",\"value\":20},\"x\":{\"field\":\"x\"},\"y\":{\"field\":\"y\"}},\"id\":\"7862cc2d-ab64-488c-bc24-b47cb515108a\",\"type\":\"Circle\"},{\"attributes\":{\"data_source\":{\"id\":\"f5761d9c-eea9-43d3-ab2e-b8bf268a55b7\",\"type\":\"ColumnDataSource\"},\"glyph\":{\"id\":\"7862cc2d-ab64-488c-bc24-b47cb515108a\",\"type\":\"Circle\"},\"hover_glyph\":null,\"muted\":true,\"muted_glyph\":null,\"nonselection_glyph\":{\"id\":\"07bcbfa4-79db-409f-8ada-850deca6d700\",\"type\":\"Circle\"},\"selection_glyph\":null,\"view\":{\"id\":\"7a0b6aa2-dbd4-42f2-b7e0-7e6218114b89\",\"type\":\"CDSView\"}},\"id\":\"7d1fdd62-539a-4c07-b8fb-5b957e250fcd\",\"type\":\"GlyphRenderer\"},{\"attributes\":{\"data_source\":{\"id\":\"25415f3b-5e44-4ddc-a15e-80cfc00f0632\",\"type\":\"ColumnDataSource\"},\"glyph\":{\"id\":\"9b1612bc-5577-4b73-97a6-b5c4708c3ff0\",\"type\":\"Circle\"},\"hover_glyph\":null,\"muted\":true,\"muted_glyph\":{\"id\":\"0d833f45-3ce2-41bb-a540-1c116266bb7b\",\"type\":\"Circle\"},\"nonselection_glyph\":{\"id\":\"80044159-da06-412b-b5b5-65696098680c\",\"type\":\"Circle\"},\"selection_glyph\":null,\"view\":{\"id\":\"1cd47d75-bd32-4f27-870f-3657f6534f70\",\"type\":\"CDSView\"}},\"id\":\"4d0af75f-0762-4445-a14d-79cf584d24fd\",\"type\":\"GlyphRenderer\"},{\"attributes\":{},\"id\":\"eae69752-3af5-47d8-8c26-3835bc513498\",\"type\":\"PanTool\"},{\"attributes\":{\"plot\":null,\"text\":\"UMAP projection of the birds songs\"},\"id\":\"d00098da-dce1-406b-b1a3-c223652a2dbd\",\"type\":\"Title\"},{\"attributes\":{\"callback\":null,\"data\":{\"index\":[1389,1390,1391,1392,1393,1394,1395,1396,1397,1398,1399,1400,1401,1402,1403,1404,1405,1406,1407,1408,1409,1410,1411,1412,1413,1414,1415,1416,1417,1418,1419,1420,1421,1422,1423,1424,1425,1426,1427,1428,1429,1430,1431,1432,1433,1434,1435,1436,1437,1438,1439,1440,1441,1442,1443,1444,1445,1446,1447,1448,1449,1450,1451,1452,1453,1454,1455,1456,1457,1458,1459,1460,1461],\"kasios_index\":{\"__ndarray__\":\"AAAAAAAA+H8AAAAAAAD4fwAAAAAAAPh/AAAAAAAA+H8AAAAAAAD4fwAAAAAAAPh/AAAAAAAA+H8AAAAAAAD4fwAAAAAAAPh/AAAAAAAA+H8AAAAAAAD4fwAAAAAAAPh/AAAAAAAA+H8AAAAAAAD4fwAAAAAAAPh/AAAAAAAA+H8AAAAAAAD4fwAAAAAAAPh/AAAAAAAA+H8AAAAAAAD4fwAAAAAAAPh/AAAAAAAA+H8AAAAAAAD4fwAAAAAAAPh/AAAAAAAA+H8AAAAAAAD4fwAAAAAAAPh/AAAAAAAA+H8AAAAAAAD4fwAAAAAAAPh/AAAAAAAA+H8AAAAAAAD4fwAAAAAAAPh/AAAAAAAA+H8AAAAAAAD4fwAAAAAAAPh/AAAAAAAA+H8AAAAAAAD4fwAAAAAAAPh/AAAAAAAA+H8AAAAAAAD4fwAAAAAAAPh/AAAAAAAA+H8AAAAAAAD4fwAAAAAAAPh/AAAAAAAA+H8AAAAAAAD4fwAAAAAAAPh/AAAAAAAA+H8AAAAAAAD4fwAAAAAAAPh/AAAAAAAA+H8AAAAAAAD4fwAAAAAAAPh/AAAAAAAA+H8AAAAAAAD4fwAAAAAAAPh/AAAAAAAA+H8AAAAAAAD4fwAAAAAAAPh/AAAAAAAA+H8AAAAAAAD4fwAAAAAAAPh/AAAAAAAA+H8AAAAAAAD4fwAAAAAAAPh/AAAAAAAA+H8AAAAAAAD4fwAAAAAAAPh/AAAAAAAA+H8AAAAAAAD4fwAAAAAAAPh/AAAAAAAA+H8=\",\"dtype\":\"float64\",\"shape\":[73]},\"specie\":[\"Pinkfinch\",\"Pinkfinch\",\"Pinkfinch\",\"Pinkfinch\",\"Pinkfinch\",\"Pinkfinch\",\"Pinkfinch\",\"Pinkfinch\",\"Pinkfinch\",\"Pinkfinch\",\"Pinkfinch\",\"Pinkfinch\",\"Pinkfinch\",\"Pinkfinch\",\"Pinkfinch\",\"Pinkfinch\",\"Pinkfinch\",\"Pinkfinch\",\"Pinkfinch\",\"Pinkfinch\",\"Pinkfinch\",\"Pinkfinch\",\"Pinkfinch\",\"Pinkfinch\",\"Pinkfinch\",\"Pinkfinch\",\"Pinkfinch\",\"Pinkfinch\",\"Pinkfinch\",\"Pinkfinch\",\"Pinkfinch\",\"Pinkfinch\",\"Pinkfinch\",\"Pinkfinch\",\"Pinkfinch\",\"Pinkfinch\",\"Pinkfinch\",\"Pinkfinch\",\"Pinkfinch\",\"Pinkfinch\",\"Pinkfinch\",\"Pinkfinch\",\"Pinkfinch\",\"Pinkfinch\",\"Pinkfinch\",\"Pinkfinch\",\"Pinkfinch\",\"Pinkfinch\",\"Pinkfinch\",\"Pinkfinch\",\"Pinkfinch\",\"Pinkfinch\",\"Pinkfinch\",\"Pinkfinch\",\"Pinkfinch\",\"Pinkfinch\",\"Pinkfinch\",\"Pinkfinch\",\"Pinkfinch\",\"Pinkfinch\",\"Pinkfinch\",\"Pinkfinch\",\"Pinkfinch\",\"Pinkfinch\",\"Pinkfinch\",\"Pinkfinch\",\"Pinkfinch\",\"Pinkfinch\",\"Pinkfinch\",\"Pinkfinch\",\"Pinkfinch\",\"Pinkfinch\",\"Pinkfinch\"],\"x\":{\"__ndarray__\":\"JAssvv/v6j8dG70/Q47vPmZvhsBPGZTAHdZPwJDOW8BC85HAhryGwKaGiMAwg8m/aoGbwMKya8DUhjbA1CAdwJrTgsCGaSPAOfmTwP5z179QCX/Ag/2mwJuIq787z27AzLyRwLYD1b+/d3fAIzwFwBpOFsAZfUPAtbmRwMUYz7+pClzAZiKjv6cqicBfYnnAPtycwK02hMBj2jbAd3lGwNNVTcAf0SrAPiotwAfIgMAD8l3ASaxewBI2R8A8YGXAEkpvwCTuR8BatJk/Nd+EQGHQasCfw/S/82s9wLOORsBL7jjAZIs2wGhKpsCX0ibAkYikwE+CBr84DNO/g/77P6H4g8C/ogzADOI1wBO0+b8FCizAGvc9wNNd3r8GGVBAVwWbvw==\",\"dtype\":\"float32\",\"shape\":[73]},\"y\":{\"__ndarray__\":\"izA5v8o4k78Q4Ru/R9Hlv0UOvT/Zb5k/pthGP7Mdkj4yr8e+ZlGgP2bSCj9x0I9AucnMP3cWg77MSLw/kH5wQPKYPT8fLjJA6oaFP1NsMEA7CxBAVY4IQARxTUDXvRA/4p42Pwx8NkAkBUVAqMVRP9/RjkDy8zxAusz8PSPok0Dg976+mLq1vhmomj+7q22/+EgKQL3nEEAA7g9AsRoZQJSlNT+JtEhAmXTqv0JV4T898Vo9vRvjv853HT8d1YS+iQ5lP34eoD70iLS+UFJSQN31hT9FlRxABVhyQCezUr334Om+Xg+vP8gPsT/nYTdALjxXQBNpN78OhJRAeOaTvtuGRz8oLXtAA+eZv/PZHEBA9Ve/JsM9QLcB+j98Nme/ODFOQA==\",\"dtype\":\"float32\",\"shape\":[73]}},\"selected\":{\"id\":\"f19636ba-8c2d-42a2-abd1-9c4751cc44fd\",\"type\":\"Selection\"},\"selection_policy\":{\"id\":\"0195fbc1-638b-4cd1-81e1-66cfdb438acc\",\"type\":\"UnionRenderers\"}},\"id\":\"09d2da67-7678-4e43-9733-4473d6ae9ccb\",\"type\":\"ColumnDataSource\"},{\"attributes\":{\"source\":{\"id\":\"25415f3b-5e44-4ddc-a15e-80cfc00f0632\",\"type\":\"ColumnDataSource\"}},\"id\":\"1cd47d75-bd32-4f27-870f-3657f6534f70\",\"type\":\"CDSView\"},{\"attributes\":{\"source\":{\"id\":\"7b478966-bea7-4771-b6c0-b9a402cb46d2\",\"type\":\"ColumnDataSource\"}},\"id\":\"e57b6b21-0c38-461c-a84c-9c2bcbe3dd33\",\"type\":\"CDSView\"},{\"attributes\":{\"fill_alpha\":{\"value\":0.6},\"fill_color\":{\"field\":\"specie\",\"transform\":{\"id\":\"7fce4134-8958-4190-a01d-8079d6ae9cf6\",\"type\":\"CategoricalColorMapper\"}},\"line_alpha\":{\"value\":0.6},\"line_color\":{\"field\":\"specie\",\"transform\":{\"id\":\"7fce4134-8958-4190-a01d-8079d6ae9cf6\",\"type\":\"CategoricalColorMapper\"}},\"size\":{\"units\":\"screen\",\"value\":5},\"x\":{\"field\":\"x\"},\"y\":{\"field\":\"y\"}},\"id\":\"9e8b39fb-b318-4656-96c2-590b0b292e90\",\"type\":\"Circle\"},{\"attributes\":{\"data_source\":{\"id\":\"09d2da67-7678-4e43-9733-4473d6ae9ccb\",\"type\":\"ColumnDataSource\"},\"glyph\":{\"id\":\"44dc41f8-a2be-43be-a509-1be959041487\",\"type\":\"Circle\"},\"hover_glyph\":null,\"muted\":true,\"muted_glyph\":{\"id\":\"23bd57ff-3d05-4282-b607-ea3bd04b0f57\",\"type\":\"Circle\"},\"nonselection_glyph\":{\"id\":\"5800acca-59f2-4301-8439-195fd68a544d\",\"type\":\"Circle\"},\"selection_glyph\":null,\"view\":{\"id\":\"a28b4b9b-ce17-4eba-bde4-3606a7e8a327\",\"type\":\"CDSView\"}},\"id\":\"31263b5d-0faf-48bc-a601-3a79c2de5fa9\",\"type\":\"GlyphRenderer\"},{\"attributes\":{\"active_drag\":\"auto\",\"active_inspect\":\"auto\",\"active_multi\":null,\"active_scroll\":\"auto\",\"active_tap\":\"auto\",\"tools\":[{\"id\":\"eae69752-3af5-47d8-8c26-3835bc513498\",\"type\":\"PanTool\"},{\"id\":\"762a033e-26e7-405c-bdd4-b0af4a1e0276\",\"type\":\"WheelZoomTool\"},{\"id\":\"6dbba393-c289-4681-abba-045c87118603\",\"type\":\"ResetTool\"},{\"id\":\"b8ddab51-2b27-4549-8254-53c1e099f6f7\",\"type\":\"HoverTool\"}]},\"id\":\"44505227-fb67-42cf-8afd-a44f23be3ddd\",\"type\":\"Toolbar\"},{\"attributes\":{\"fill_alpha\":{\"value\":0.1},\"fill_color\":{\"value\":\"#1f77b4\"},\"line_alpha\":{\"value\":0.1},\"line_color\":{\"value\":\"#1f77b4\"},\"size\":{\"units\":\"screen\",\"value\":5},\"x\":{\"field\":\"x\"},\"y\":{\"field\":\"y\"}},\"id\":\"d62010b3-c865-4240-8aba-406ab4161613\",\"type\":\"Circle\"},{\"attributes\":{\"source\":{\"id\":\"f5761d9c-eea9-43d3-ab2e-b8bf268a55b7\",\"type\":\"ColumnDataSource\"}},\"id\":\"7a0b6aa2-dbd4-42f2-b7e0-7e6218114b89\",\"type\":\"CDSView\"},{\"attributes\":{\"fill_alpha\":{\"value\":0.6},\"fill_color\":{\"field\":\"specie\",\"transform\":{\"id\":\"7fce4134-8958-4190-a01d-8079d6ae9cf6\",\"type\":\"CategoricalColorMapper\"}},\"line_alpha\":{\"value\":0.6},\"line_color\":{\"field\":\"specie\",\"transform\":{\"id\":\"7fce4134-8958-4190-a01d-8079d6ae9cf6\",\"type\":\"CategoricalColorMapper\"}},\"size\":{\"units\":\"screen\",\"value\":5},\"x\":{\"field\":\"x\"},\"y\":{\"field\":\"y\"}},\"id\":\"223c02e6-de76-49ba-ba06-a8e701780a69\",\"type\":\"Circle\"},{\"attributes\":{\"source\":{\"id\":\"c373aea9-6c45-4688-a357-536b3372d06d\",\"type\":\"ColumnDataSource\"}},\"id\":\"989c285f-38f5-452b-b911-87000834811c\",\"type\":\"CDSView\"},{\"attributes\":{\"plot\":{\"id\":\"7dead913-c2e4-43ad-a3ff-e4408da95dad\",\"subtype\":\"Figure\",\"type\":\"Plot\"},\"ticker\":{\"id\":\"0dcbf40f-38f6-4014-b550-bed9f6b4854f\",\"type\":\"BasicTicker\"}},\"id\":\"4f6dbd90-bf69-4f75-a9ae-e617b3678b1c\",\"type\":\"Grid\"},{\"attributes\":{\"fill_alpha\":{\"value\":0.1},\"fill_color\":{\"value\":\"#1f77b4\"},\"line_alpha\":{\"value\":0.1},\"line_color\":{\"value\":\"#1f77b4\"},\"size\":{\"units\":\"screen\",\"value\":5},\"x\":{\"field\":\"x\"},\"y\":{\"field\":\"y\"}},\"id\":\"aeadf545-d079-4319-a600-fe5b8e0ca48b\",\"type\":\"Circle\"},{\"attributes\":{\"fill_alpha\":{\"value\":0.1},\"fill_color\":{\"field\":\"specie\",\"transform\":{\"id\":\"7fce4134-8958-4190-a01d-8079d6ae9cf6\",\"type\":\"CategoricalColorMapper\"}},\"line_alpha\":{\"value\":0.1},\"line_color\":{\"field\":\"specie\",\"transform\":{\"id\":\"7fce4134-8958-4190-a01d-8079d6ae9cf6\",\"type\":\"CategoricalColorMapper\"}},\"size\":{\"units\":\"screen\",\"value\":5},\"x\":{\"field\":\"x\"},\"y\":{\"field\":\"y\"}},\"id\":\"3edab6b6-334e-4bdd-bb4f-0970a3bcb4de\",\"type\":\"Circle\"},{\"attributes\":{\"source\":{\"id\":\"9a90607f-83db-4639-9cf2-35d823755378\",\"type\":\"ColumnDataSource\"}},\"id\":\"e3831145-5920-4745-9f88-d37656daa63a\",\"type\":\"CDSView\"},{\"attributes\":{},\"id\":\"6dbba393-c289-4681-abba-045c87118603\",\"type\":\"ResetTool\"},{\"attributes\":{\"callback\":null},\"id\":\"4c990237-6bc7-4ca3-9545-82e28a773eac\",\"type\":\"DataRange1d\"},{\"attributes\":{\"fill_alpha\":{\"value\":0.1},\"fill_color\":{\"value\":\"#1f77b4\"},\"line_alpha\":{\"value\":0.1},\"line_color\":{\"value\":\"#1f77b4\"},\"size\":{\"units\":\"screen\",\"value\":5},\"x\":{\"field\":\"x\"},\"y\":{\"field\":\"y\"}},\"id\":\"f95c1f4d-f4d9-41b9-92d9-3ccd5d5fcfed\",\"type\":\"Circle\"},{\"attributes\":{\"callback\":null,\"data\":{\"index\":[1462,1463,1464,1465,1466,1467,1468,1469,1470,1471,1472,1473,1474,1475,1476,1477,1478,1479,1480,1481,1482,1483,1484,1485,1486,1487,1488,1489,1490,1491,1492,1493,1494,1495,1496,1497,1498,1499,1500,1501,1502,1503,1504,1505,1506,1507,1508,1509,1510,1511,1512,1513,1514,1515,1516,1517,1518,1519,1520,1521,1522,1523,1524,1525,1526,1527,1528,1529,1530,1531,1532],\"kasios_index\":{\"__ndarray__\":\"AAAAAAAA+H8AAAAAAAD4fwAAAAAAAPh/AAAAAAAA+H8AAAAAAAD4fwAAAAAAAPh/AAAAAAAA+H8AAAAAAAD4fwAAAAAAAPh/AAAAAAAA+H8AAAAAAAD4fwAAAAAAAPh/AAAAAAAA+H8AAAAAAAD4fwAAAAAAAPh/AAAAAAAA+H8AAAAAAAD4fwAAAAAAAPh/AAAAAAAA+H8AAAAAAAD4fwAAAAAAAPh/AAAAAAAA+H8AAAAAAAD4fwAAAAAAAPh/AAAAAAAA+H8AAAAAAAD4fwAAAAAAAPh/AAAAAAAA+H8AAAAAAAD4fwAAAAAAAPh/AAAAAAAA+H8AAAAAAAD4fwAAAAAAAPh/AAAAAAAA+H8AAAAAAAD4fwAAAAAAAPh/AAAAAAAA+H8AAAAAAAD4fwAAAAAAAPh/AAAAAAAA+H8AAAAAAAD4fwAAAAAAAPh/AAAAAAAA+H8AAAAAAAD4fwAAAAAAAPh/AAAAAAAA+H8AAAAAAAD4fwAAAAAAAPh/AAAAAAAA+H8AAAAAAAD4fwAAAAAAAPh/AAAAAAAA+H8AAAAAAAD4fwAAAAAAAPh/AAAAAAAA+H8AAAAAAAD4fwAAAAAAAPh/AAAAAAAA+H8AAAAAAAD4fwAAAAAAAPh/AAAAAAAA+H8AAAAAAAD4fwAAAAAAAPh/AAAAAAAA+H8AAAAAAAD4fwAAAAAAAPh/AAAAAAAA+H8AAAAAAAD4fwAAAAAAAPh/AAAAAAAA+H8AAAAAAAD4fw==\",\"dtype\":\"float64\",\"shape\":[71]},\"specie\":[\"Purple Tooting Tout\",\"Purple Tooting Tout\",\"Purple Tooting Tout\",\"Purple Tooting Tout\",\"Purple Tooting Tout\",\"Purple Tooting Tout\",\"Purple Tooting Tout\",\"Purple Tooting Tout\",\"Purple Tooting Tout\",\"Purple Tooting Tout\",\"Purple Tooting Tout\",\"Purple Tooting Tout\",\"Purple Tooting Tout\",\"Purple Tooting Tout\",\"Purple Tooting Tout\",\"Purple Tooting Tout\",\"Purple Tooting Tout\",\"Purple Tooting Tout\",\"Purple Tooting Tout\",\"Purple Tooting Tout\",\"Purple Tooting Tout\",\"Purple Tooting Tout\",\"Purple Tooting Tout\",\"Purple Tooting Tout\",\"Purple Tooting Tout\",\"Purple Tooting Tout\",\"Purple Tooting Tout\",\"Purple Tooting Tout\",\"Purple Tooting Tout\",\"Purple Tooting Tout\",\"Purple Tooting Tout\",\"Purple Tooting Tout\",\"Purple Tooting Tout\",\"Purple Tooting Tout\",\"Purple Tooting Tout\",\"Purple Tooting Tout\",\"Purple Tooting Tout\",\"Purple Tooting Tout\",\"Purple Tooting Tout\",\"Purple Tooting Tout\",\"Purple Tooting Tout\",\"Purple Tooting Tout\",\"Purple Tooting Tout\",\"Purple Tooting Tout\",\"Purple Tooting Tout\",\"Purple Tooting Tout\",\"Purple Tooting Tout\",\"Purple Tooting Tout\",\"Purple Tooting Tout\",\"Purple Tooting Tout\",\"Purple Tooting Tout\",\"Purple Tooting Tout\",\"Purple Tooting Tout\",\"Purple Tooting Tout\",\"Purple Tooting Tout\",\"Purple Tooting Tout\",\"Purple Tooting Tout\",\"Purple Tooting Tout\",\"Purple Tooting Tout\",\"Purple Tooting Tout\",\"Purple Tooting Tout\",\"Purple Tooting Tout\",\"Purple Tooting Tout\",\"Purple Tooting Tout\",\"Purple Tooting Tout\",\"Purple Tooting Tout\",\"Purple Tooting Tout\",\"Purple Tooting Tout\",\"Purple Tooting Tout\",\"Purple Tooting Tout\",\"Purple Tooting Tout\"],\"x\":{\"__ndarray__\":\"MPINQPZqksAvr/s/vVPbPyilGUCKUG3A6/guQHuIyj8gwTg/nNPYPzsLHUA2+6RAdOulQK3s+7wEJ5PAkluQwN7B/j8MjHxAkhLuPzmynUAJyFRAw1GRP+XLkj/27pE/5QqXPriBOMClNFfAPfr4v92KV8A2nI0/6biUv8JLqUCh8YdA6wBFwOvWdsCB50rAhz+lQFMZu0D3H6BAmP/vP2cbrL8ypGnAvcXHv6vZnMCzkXlAe7Rvv3NAH0A5TYFA1GVVwPQkfz+700XAjIZtwOcOw78xeVRAWgG1QB1BcUAoI1fALJ7+PYlTXz/+5xlAGSaUP/sVK0CHUT3A9AddQOuzacBiRRRAUNyGQOJA27/FqoFAkHuKQK42nUA=\",\"dtype\":\"float32\",\"shape\":[71]},\"y\":{\"__ndarray__\":\"HMFQwOHb4T9EajrAsWCWPX2uLsBaNgRAm5nWv3/Plb8V1TbAaW7Lv4vC8r8OML4+A4BiPsBG4L+/fJY/ml75PY1vNMAYEjk/vDK7v+XHiz+XZt+/RFo7wBvKP8DArjzAa/0rwDeuoEC8tKM/W9IiQBlrMUDIAee/zlJLvx40XUAgy08/YdaCP7jFhz+NDo8/RnJbQBcFZUBLe64/eLeAvjTSRkBa7ZNAhyhcQKp8tj7qKdS8WM7Jvp3fub5fMOc+HL+XP8XDuL+D1Bw/yL4UQCjocb1hvHi/MG1YQNbPP0DldHm8u3scwAeEKMAE3nfAUdQ6vwNBV8ClSbY/VhRtQGOS2z+f96M+Fpo5QKGJVUBFRwE/5dxJQH4guD4=\",\"dtype\":\"float32\",\"shape\":[71]}},\"selected\":{\"id\":\"494b2dcf-ea2b-4230-8b55-2afb5fa0bdaf\",\"type\":\"Selection\"},\"selection_policy\":{\"id\":\"ec1b5a7d-b9db-40ca-a407-c2799151170d\",\"type\":\"UnionRenderers\"}},\"id\":\"9038f97c-a0a8-4d97-9984-891aaf57c58c\",\"type\":\"ColumnDataSource\"},{\"attributes\":{},\"id\":\"762a033e-26e7-405c-bdd4-b0af4a1e0276\",\"type\":\"WheelZoomTool\"},{\"attributes\":{\"callback\":null,\"data\":{\"index\":[565,566,567,568,569,570,571,572,573,574,575,576,577,578,579,580,581,582,583,584,585,586,587,588,589,590,591,592,593,594,595,596,597,598,599,600,601,602,603,604,605,606,607,608,609,610,611,612,613,614,615,616,617,618,619,620,621,622,623,624,625,626,627,628,629,630,631,632,633,634,635,636,637,638,639,640,641,642,643,644,645,646,647,648,649,650,651,652,653,654,655,656,657,658,659,660,661,662,663,664,665,666,667,668],\"kasios_index\":{\"__ndarray__\":\"AAAAAAAA+H8AAAAAAAD4fwAAAAAAAPh/AAAAAAAA+H8AAAAAAAD4fwAAAAAAAPh/AAAAAAAA+H8AAAAAAAD4fwAAAAAAAPh/AAAAAAAA+H8AAAAAAAD4fwAAAAAAAPh/AAAAAAAA+H8AAAAAAAD4fwAAAAAAAPh/AAAAAAAA+H8AAAAAAAD4fwAAAAAAAPh/AAAAAAAA+H8AAAAAAAD4fwAAAAAAAPh/AAAAAAAA+H8AAAAAAAD4fwAAAAAAAPh/AAAAAAAA+H8AAAAAAAD4fwAAAAAAAPh/AAAAAAAA+H8AAAAAAAD4fwAAAAAAAPh/AAAAAAAA+H8AAAAAAAD4fwAAAAAAAPh/AAAAAAAA+H8AAAAAAAD4fwAAAAAAAPh/AAAAAAAA+H8AAAAAAAD4fwAAAAAAAPh/AAAAAAAA+H8AAAAAAAD4fwAAAAAAAPh/AAAAAAAA+H8AAAAAAAD4fwAAAAAAAPh/AAAAAAAA+H8AAAAAAAD4fwAAAAAAAPh/AAAAAAAA+H8AAAAAAAD4fwAAAAAAAPh/AAAAAAAA+H8AAAAAAAD4fwAAAAAAAPh/AAAAAAAA+H8AAAAAAAD4fwAAAAAAAPh/AAAAAAAA+H8AAAAAAAD4fwAAAAAAAPh/AAAAAAAA+H8AAAAAAAD4fwAAAAAAAPh/AAAAAAAA+H8AAAAAAAD4fwAAAAAAAPh/AAAAAAAA+H8AAAAAAAD4fwAAAAAAAPh/AAAAAAAA+H8AAAAAAAD4fwAAAAAAAPh/AAAAAAAA+H8AAAAAAAD4fwAAAAAAAPh/AAAAAAAA+H8AAAAAAAD4fwAAAAAAAPh/AAAAAAAA+H8AAAAAAAD4fwAAAAAAAPh/AAAAAAAA+H8AAAAAAAD4fwAAAAAAAPh/AAAAAAAA+H8AAAAAAAD4fwAAAAAAAPh/AAAAAAAA+H8AAAAAAAD4fwAAAAAAAPh/AAAAAAAA+H8AAAAAAAD4fwAAAAAAAPh/AAAAAAAA+H8AAAAAAAD4fwAAAAAAAPh/AAAAAAAA+H8AAAAAAAD4fwAAAAAAAPh/AAAAAAAA+H8AAAAAAAD4fwAAAAAAAPh/AAAAAAAA+H8AAAAAAAD4fw==\",\"dtype\":\"float64\",\"shape\":[104]},\"specie\":[\"Carries Champagne Pipit\",\"Carries Champagne Pipit\",\"Carries Champagne Pipit\",\"Carries Champagne Pipit\",\"Carries Champagne Pipit\",\"Carries Champagne Pipit\",\"Carries Champagne Pipit\",\"Carries Champagne Pipit\",\"Carries Champagne Pipit\",\"Carries Champagne Pipit\",\"Carries Champagne Pipit\",\"Carries Champagne Pipit\",\"Carries Champagne Pipit\",\"Carries Champagne Pipit\",\"Carries Champagne Pipit\",\"Carries Champagne Pipit\",\"Carries Champagne Pipit\",\"Carries Champagne Pipit\",\"Carries Champagne Pipit\",\"Carries Champagne Pipit\",\"Carries Champagne Pipit\",\"Carries Champagne Pipit\",\"Carries Champagne Pipit\",\"Carries Champagne Pipit\",\"Carries Champagne Pipit\",\"Carries Champagne Pipit\",\"Carries Champagne Pipit\",\"Carries Champagne Pipit\",\"Carries Champagne Pipit\",\"Carries Champagne Pipit\",\"Carries Champagne Pipit\",\"Carries Champagne Pipit\",\"Carries Champagne Pipit\",\"Carries Champagne Pipit\",\"Carries Champagne Pipit\",\"Carries Champagne Pipit\",\"Carries Champagne Pipit\",\"Carries Champagne Pipit\",\"Carries Champagne Pipit\",\"Carries Champagne Pipit\",\"Carries Champagne Pipit\",\"Carries Champagne Pipit\",\"Carries Champagne Pipit\",\"Carries Champagne Pipit\",\"Carries Champagne Pipit\",\"Carries Champagne Pipit\",\"Carries Champagne Pipit\",\"Carries Champagne Pipit\",\"Carries Champagne Pipit\",\"Carries Champagne Pipit\",\"Carries Champagne Pipit\",\"Carries Champagne Pipit\",\"Carries Champagne Pipit\",\"Carries Champagne Pipit\",\"Carries Champagne Pipit\",\"Carries Champagne Pipit\",\"Carries Champagne Pipit\",\"Carries Champagne Pipit\",\"Carries Champagne Pipit\",\"Carries Champagne Pipit\",\"Carries Champagne Pipit\",\"Carries Champagne Pipit\",\"Carries Champagne Pipit\",\"Carries Champagne Pipit\",\"Carries Champagne Pipit\",\"Carries Champagne Pipit\",\"Carries Champagne Pipit\",\"Carries Champagne Pipit\",\"Carries Champagne Pipit\",\"Carries Champagne Pipit\",\"Carries Champagne Pipit\",\"Carries Champagne Pipit\",\"Carries Champagne Pipit\",\"Carries Champagne Pipit\",\"Carries Champagne Pipit\",\"Carries Champagne Pipit\",\"Carries Champagne Pipit\",\"Carries Champagne Pipit\",\"Carries Champagne Pipit\",\"Carries Champagne Pipit\",\"Carries Champagne Pipit\",\"Carries Champagne Pipit\",\"Carries Champagne Pipit\",\"Carries Champagne Pipit\",\"Carries Champagne Pipit\",\"Carries Champagne Pipit\",\"Carries Champagne Pipit\",\"Carries Champagne Pipit\",\"Carries Champagne Pipit\",\"Carries Champagne Pipit\",\"Carries Champagne Pipit\",\"Carries Champagne Pipit\",\"Carries Champagne Pipit\",\"Carries Champagne Pipit\",\"Carries Champagne Pipit\",\"Carries Champagne Pipit\",\"Carries Champagne Pipit\",\"Carries Champagne Pipit\",\"Carries Champagne Pipit\",\"Carries Champagne Pipit\",\"Carries Champagne Pipit\",\"Carries Champagne Pipit\",\"Carries Champagne Pipit\",\"Carries Champagne Pipit\"],\"x\":{\"__ndarray__\":\"quFVwH9YWcDnoVDA2vG3P1AuMkAI0/+/q3JQvfBw7z+x/Ic/SGbZv1O/DEC4mCzAFFyYv9138T7dQSxA20vCP+juJr7OoV5A1jceQKu6K72WHxVA6qjwv2XkFEDWiydAWy0lQJwbLz8NVxxAZNOIPz1aa777M/Q8Ym3EPjfOLUAPVgNA8ApOPwCg/D/dNFI+ccbmvstk6T9FOL6/8GuGPjuSGUBU0m1AcW9iQGETmUBRRTZAL06Mv/YLzT/jUUlAcvMjQE2D0b553x9AuhaYP+wifr4E+Ms/HyGpvnPNP8CaFde/CiVjPqNaAr+rKTlAMRvwP6OGnr5lykhAoCY2QI/xtT5GLiFAA8JcQJQG2T9AL6O/IXLev4Uv3r/BDPW/dPD4P/+1E0CDXrC/qOI/vvo48z6fBx8/OUrBv5UPdj4JBME/4DJ2vZ/+AEDbga69LDgfQJ1d4T+ObDW/hpiivzTo5z/Q08S/aQC3v9eFwr9Go7O/7yuUv8lqxj8F+qu/FHqjP6Dtnb+zdtW/zkI1viL2rL9jFhlA1aKmvy6lnb8=\",\"dtype\":\"float32\",\"shape\":[104]},\"y\":{\"__ndarray__\":\"w+mfP6kK1D9hCMW9sB9EwHztJr9A2Ly/Fyw8wCj4wr/7HqG+DuDvvgSOxr/I0Wa/GrrWvlVz/b5yheK+/vMMv+DrGr8Zg9i+kjEEwPaWML+m+QnAzcBIP0i5XL9GD46/mzv2vwHXxL9SQvu+lfe2vg9Hj79J+rS/kWEywJg5GcAMPCTAUe6KviyDoz16TaG/FXkMvx4Qtb5Nf1ZA1z5Qvzj43L9xqU8/BdM3QCdFhj9Mfmo/sbq4vsXxmLxxvSTAJQYJwI5QTL/W4qy9rFpdvplTkL8YQ8K/oig8vzswfb/oARfARF5Nv9Yxd7/f4X8/zxK/v4IEgb//jps/cDM9PwynG781bwa/dy1yv7i5KL9raaa/6mZyvkS/xz8rqEtAL0UovQQ08r3ogCG/XYKcv7Aedb+WQoK/1GprQN3kg79iU0S94Nt3v40GHL4Y4ou/tM0UvcloDz0wzY6/dJgUv3raQT440EtAoNdTQJHMSr6f/Yy+lf0Uv9qOXDwRZTtAK7APvavNSEDZObQ/wqN2v+FlW0AH5t09nEmAP2REQ0A=\",\"dtype\":\"float32\",\"shape\":[104]}},\"selected\":{\"id\":\"d0cf7a83-035d-43f7-adde-177da9b1fbde\",\"type\":\"Selection\"},\"selection_policy\":{\"id\":\"00d6c7c2-2f5d-467b-9433-9e46dfa85d0e\",\"type\":\"UnionRenderers\"}},\"id\":\"9a90607f-83db-4639-9cf2-35d823755378\",\"type\":\"ColumnDataSource\"},{\"attributes\":{\"fill_alpha\":{\"value\":0.6},\"fill_color\":{\"field\":\"specie\",\"transform\":{\"id\":\"7fce4134-8958-4190-a01d-8079d6ae9cf6\",\"type\":\"CategoricalColorMapper\"}},\"line_alpha\":{\"value\":0.6},\"line_color\":{\"field\":\"specie\",\"transform\":{\"id\":\"7fce4134-8958-4190-a01d-8079d6ae9cf6\",\"type\":\"CategoricalColorMapper\"}},\"size\":{\"units\":\"screen\",\"value\":5},\"x\":{\"field\":\"x\"},\"y\":{\"field\":\"y\"}},\"id\":\"66fd3858-b86f-46ff-a32d-e3a89b6461c1\",\"type\":\"Circle\"},{\"attributes\":{},\"id\":\"0dcbf40f-38f6-4014-b550-bed9f6b4854f\",\"type\":\"BasicTicker\"},{\"attributes\":{\"fill_alpha\":{\"value\":0.1},\"fill_color\":{\"field\":\"specie\",\"transform\":{\"id\":\"7fce4134-8958-4190-a01d-8079d6ae9cf6\",\"type\":\"CategoricalColorMapper\"}},\"line_alpha\":{\"value\":0.1},\"line_color\":{\"field\":\"specie\",\"transform\":{\"id\":\"7fce4134-8958-4190-a01d-8079d6ae9cf6\",\"type\":\"CategoricalColorMapper\"}},\"size\":{\"units\":\"screen\",\"value\":5},\"x\":{\"field\":\"x\"},\"y\":{\"field\":\"y\"}},\"id\":\"49829c8b-e21d-4a46-b321-49dee6a1ca42\",\"type\":\"Circle\"},{\"attributes\":{\"source\":{\"id\":\"09d2da67-7678-4e43-9733-4473d6ae9ccb\",\"type\":\"ColumnDataSource\"}},\"id\":\"a28b4b9b-ce17-4eba-bde4-3606a7e8a327\",\"type\":\"CDSView\"},{\"attributes\":{\"fill_alpha\":{\"value\":0.6},\"fill_color\":{\"field\":\"specie\",\"transform\":{\"id\":\"7fce4134-8958-4190-a01d-8079d6ae9cf6\",\"type\":\"CategoricalColorMapper\"}},\"line_alpha\":{\"value\":0.6},\"line_color\":{\"field\":\"specie\",\"transform\":{\"id\":\"7fce4134-8958-4190-a01d-8079d6ae9cf6\",\"type\":\"CategoricalColorMapper\"}},\"size\":{\"units\":\"screen\",\"value\":5},\"x\":{\"field\":\"x\"},\"y\":{\"field\":\"y\"}},\"id\":\"9b1612bc-5577-4b73-97a6-b5c4708c3ff0\",\"type\":\"Circle\"},{\"attributes\":{\"source\":{\"id\":\"9038f97c-a0a8-4d97-9984-891aaf57c58c\",\"type\":\"ColumnDataSource\"}},\"id\":\"164cf57a-93ee-4f53-81d7-34e82cda65d8\",\"type\":\"CDSView\"},{\"attributes\":{\"callback\":null},\"id\":\"42650b6f-e60e-4e6b-a966-6a5473400f53\",\"type\":\"DataRange1d\"},{\"attributes\":{\"data_source\":{\"id\":\"9038f97c-a0a8-4d97-9984-891aaf57c58c\",\"type\":\"ColumnDataSource\"},\"glyph\":{\"id\":\"c56fd890-99d3-4564-8ed8-11a872d698b1\",\"type\":\"Circle\"},\"hover_glyph\":null,\"muted\":true,\"muted_glyph\":{\"id\":\"49829c8b-e21d-4a46-b321-49dee6a1ca42\",\"type\":\"Circle\"},\"nonselection_glyph\":{\"id\":\"e60ed547-9112-410a-b1e0-19f191e35258\",\"type\":\"Circle\"},\"selection_glyph\":null,\"view\":{\"id\":\"164cf57a-93ee-4f53-81d7-34e82cda65d8\",\"type\":\"CDSView\"}},\"id\":\"631fcf40-9a43-4c81-86b2-f33786c3874b\",\"type\":\"GlyphRenderer\"},{\"attributes\":{\"callback\":null,\"data\":{\"index\":[1533,1534,1535,1536,1537,1538,1539,1540,1541,1542,1543,1544,1545,1546,1547,1548,1549,1550,1551,1552,1553,1554,1555,1556,1557,1558,1559,1560,1561,1562,1563,1564,1565,1566,1567,1568,1569,1570,1571,1572,1573,1574,1575,1576,1577,1578,1579,1580,1581,1582,1583],\"kasios_index\":{\"__ndarray__\":\"AAAAAAAA+H8AAAAAAAD4fwAAAAAAAPh/AAAAAAAA+H8AAAAAAAD4fwAAAAAAAPh/AAAAAAAA+H8AAAAAAAD4fwAAAAAAAPh/AAAAAAAA+H8AAAAAAAD4fwAAAAAAAPh/AAAAAAAA+H8AAAAAAAD4fwAAAAAAAPh/AAAAAAAA+H8AAAAAAAD4fwAAAAAAAPh/AAAAAAAA+H8AAAAAAAD4fwAAAAAAAPh/AAAAAAAA+H8AAAAAAAD4fwAAAAAAAPh/AAAAAAAA+H8AAAAAAAD4fwAAAAAAAPh/AAAAAAAA+H8AAAAAAAD4fwAAAAAAAPh/AAAAAAAA+H8AAAAAAAD4fwAAAAAAAPh/AAAAAAAA+H8AAAAAAAD4fwAAAAAAAPh/AAAAAAAA+H8AAAAAAAD4fwAAAAAAAPh/AAAAAAAA+H8AAAAAAAD4fwAAAAAAAPh/AAAAAAAA+H8AAAAAAAD4fwAAAAAAAPh/AAAAAAAA+H8AAAAAAAD4fwAAAAAAAPh/AAAAAAAA+H8AAAAAAAD4fwAAAAAAAPh/\",\"dtype\":\"float64\",\"shape\":[51]},\"specie\":[\"Qax\",\"Qax\",\"Qax\",\"Qax\",\"Qax\",\"Qax\",\"Qax\",\"Qax\",\"Qax\",\"Qax\",\"Qax\",\"Qax\",\"Qax\",\"Qax\",\"Qax\",\"Qax\",\"Qax\",\"Qax\",\"Qax\",\"Qax\",\"Qax\",\"Qax\",\"Qax\",\"Qax\",\"Qax\",\"Qax\",\"Qax\",\"Qax\",\"Qax\",\"Qax\",\"Qax\",\"Qax\",\"Qax\",\"Qax\",\"Qax\",\"Qax\",\"Qax\",\"Qax\",\"Qax\",\"Qax\",\"Qax\",\"Qax\",\"Qax\",\"Qax\",\"Qax\",\"Qax\",\"Qax\",\"Qax\",\"Qax\",\"Qax\",\"Qax\"],\"x\":{\"__ndarray__\":\"9iRawICFk8BTaxLAh7OiwLcHVMAxQl/AGaQiwHctpcCf1ZLAluElwNOOocASRaHAdIfXv0PQO8CuNofAyTwawH92i8AjiHjAIlmZwP7DjcB8pEzAYWgkwLI/j8CzI1/AYIWiwGfeCsDygDvATc5IwIC4UMD4x57ALrSqwFWCXMBGB5TAIHolwNwqBcAQknTAwn05wL9BocCw0tC/n522v9a9YsBSskHAGsQ1wNeEhsBjUAPAl10lwHlFGMBUVBTAgXQkwHETrz6rb1JA\",\"dtype\":\"float32\",\"shape\":[51]},\"y\":{\"__ndarray__\":\"sQCQQCVtKz+KT4BAAeNZP56PgkBLOyxAbRpmQNBqyz/XFFpAKN2BQFnpzj/XwQBAmiQwQMJHCUA0yXpAYnA/QMbZYkDKwh1ANr2tPwyZnT+SbXtAFWhkQLHrhEBwQCNAXVUXQCG7bEDq3aBA9Os2P2+UmkC8WS1AjUA0QJbGmD9mSEg/NSZ/QLDngkBtNSdA1nOkP641EUDxiI9ANFlTQKozhkDmE3JAQUOfQL0sckC2GH9A1pQ7QOPjTkAIBAi/SSyNQJs1XL89aTpA\",\"dtype\":\"float32\",\"shape\":[51]}},\"selected\":{\"id\":\"977230a5-cad2-4cdc-8b8c-b9ea51e0c05c\",\"type\":\"Selection\"},\"selection_policy\":{\"id\":\"ce2f8a48-1b8b-4448-b271-ca4cf309799b\",\"type\":\"UnionRenderers\"}},\"id\":\"cd9eca65-181b-49d2-aa19-8b3b3bb30189\",\"type\":\"ColumnDataSource\"},{\"attributes\":{\"fill_alpha\":{\"value\":0.6},\"fill_color\":{\"field\":\"specie\",\"transform\":{\"id\":\"7fce4134-8958-4190-a01d-8079d6ae9cf6\",\"type\":\"CategoricalColorMapper\"}},\"line_alpha\":{\"value\":0.6},\"line_color\":{\"field\":\"specie\",\"transform\":{\"id\":\"7fce4134-8958-4190-a01d-8079d6ae9cf6\",\"type\":\"CategoricalColorMapper\"}},\"size\":{\"units\":\"screen\",\"value\":5},\"x\":{\"field\":\"x\"},\"y\":{\"field\":\"y\"}},\"id\":\"c56fd890-99d3-4564-8ed8-11a872d698b1\",\"type\":\"Circle\"},{\"attributes\":{\"fill_alpha\":{\"value\":0.1},\"fill_color\":{\"field\":\"specie\",\"transform\":{\"id\":\"7fce4134-8958-4190-a01d-8079d6ae9cf6\",\"type\":\"CategoricalColorMapper\"}},\"line_alpha\":{\"value\":0.1},\"line_color\":{\"field\":\"specie\",\"transform\":{\"id\":\"7fce4134-8958-4190-a01d-8079d6ae9cf6\",\"type\":\"CategoricalColorMapper\"}},\"size\":{\"units\":\"screen\",\"value\":5},\"x\":{\"field\":\"x\"},\"y\":{\"field\":\"y\"}},\"id\":\"6da8bb04-9fd3-477d-9f24-8eaa7f4ac050\",\"type\":\"Circle\"},{\"attributes\":{\"fill_alpha\":{\"value\":0.1},\"fill_color\":{\"field\":\"specie\",\"transform\":{\"id\":\"7fce4134-8958-4190-a01d-8079d6ae9cf6\",\"type\":\"CategoricalColorMapper\"}},\"line_alpha\":{\"value\":0.1},\"line_color\":{\"field\":\"specie\",\"transform\":{\"id\":\"7fce4134-8958-4190-a01d-8079d6ae9cf6\",\"type\":\"CategoricalColorMapper\"}},\"size\":{\"units\":\"screen\",\"value\":5},\"x\":{\"field\":\"x\"},\"y\":{\"field\":\"y\"}},\"id\":\"0d833f45-3ce2-41bb-a540-1c116266bb7b\",\"type\":\"Circle\"},{\"attributes\":{\"text\":{\"field\":\"kasios_index\"},\"text_color\":{\"value\":\"white\"},\"text_font_size\":{\"value\":\"10pt\"},\"x\":{\"field\":\"x\"},\"x_offset\":{\"value\":-5},\"y\":{\"field\":\"y\"},\"y_offset\":{\"value\":8}},\"id\":\"f4cfe149-2350-4f3f-95b8-884eafb93dc5\",\"type\":\"Text\"},{\"attributes\":{\"fill_alpha\":{\"value\":0.6},\"fill_color\":{\"field\":\"specie\",\"transform\":{\"id\":\"7fce4134-8958-4190-a01d-8079d6ae9cf6\",\"type\":\"CategoricalColorMapper\"}},\"line_alpha\":{\"value\":0.6},\"line_color\":{\"field\":\"specie\",\"transform\":{\"id\":\"7fce4134-8958-4190-a01d-8079d6ae9cf6\",\"type\":\"CategoricalColorMapper\"}},\"size\":{\"units\":\"screen\",\"value\":5},\"x\":{\"field\":\"x\"},\"y\":{\"field\":\"y\"}},\"id\":\"ab2c0ab7-bf30-40e4-b2db-f5b32d3b642d\",\"type\":\"Circle\"},{\"attributes\":{\"fill_alpha\":{\"value\":0.1},\"fill_color\":{\"value\":\"#1f77b4\"},\"line_alpha\":{\"value\":0.1},\"line_color\":{\"value\":\"#1f77b4\"},\"size\":{\"units\":\"screen\",\"value\":5},\"x\":{\"field\":\"x\"},\"y\":{\"field\":\"y\"}},\"id\":\"80044159-da06-412b-b5b5-65696098680c\",\"type\":\"Circle\"},{\"attributes\":{},\"id\":\"12b6332f-b2c7-4061-82d5-5831dba22adb\",\"type\":\"Selection\"},{\"attributes\":{\"callback\":null,\"data\":{\"index\":[1080,1081,1082,1083,1084,1085,1086,1087,1088,1089,1090,1091,1092,1093,1094,1095,1096,1097,1098,1099,1100,1101,1102,1103,1104,1105,1106,1107,1108,1109,1110,1111,1112,1113,1114,1115,1116,1117,1118,1119,1120,1121,1122,1123,1124,1125,1126,1127,1128,1129,1130,1131,1132,1133,1134,1135,1136,1137,1138,1139,1140,1141,1142,1143,1144,1145,1146,1147,1148,1149,1150,1151,1152,1153,1154,1155,1156,1157,1158,1159,1160,1161,1162,1163,1164,1165,1166,1167,1168,1169,1170,1171,1172,1173,1174,1175,1176,1177,1178,1179,1180,1181,1182,1183,1184,1185,1186,1187,1188,1189,1190,1191,1192,1193,1194,1195,1196,1197,1198,1199,1200,1201,1202,1203,1204,1205,1206,1207,1208,1209,1210,1211,1212,1213,1214,1215,1216,1217,1218,1219,1220,1221,1222,1223,1224,1225,1226,1227,1228,1229,1230,1231,1232,1233,1234,1235,1236,1237,1238,1239,1240,1241,1242,1243,1244,1245,1246,1247,1248,1249,1250,1251,1252,1253,1254,1255,1256,1257,1258,1259,1260,1261,1262,1263,1264,1265,1266,1267,1268,1269,1270,1271,1272,1273,1274,1275,1276,1277,1278,1279,1280,1281,1282,1283,1284,1285,1286,1287,1288,1289,1290,1291,1292,1293,1294],\"kasios_index\":{\"__ndarray__\":\"AAAAAAAA+H8AAAAAAAD4fwAAAAAAAPh/AAAAAAAA+H8AAAAAAAD4fwAAAAAAAPh/AAAAAAAA+H8AAAAAAAD4fwAAAAAAAPh/AAAAAAAA+H8AAAAAAAD4fwAAAAAAAPh/AAAAAAAA+H8AAAAAAAD4fwAAAAAAAPh/AAAAAAAA+H8AAAAAAAD4fwAAAAAAAPh/AAAAAAAA+H8AAAAAAAD4fwAAAAAAAPh/AAAAAAAA+H8AAAAAAAD4fwAAAAAAAPh/AAAAAAAA+H8AAAAAAAD4fwAAAAAAAPh/AAAAAAAA+H8AAAAAAAD4fwAAAAAAAPh/AAAAAAAA+H8AAAAAAAD4fwAAAAAAAPh/AAAAAAAA+H8AAAAAAAD4fwAAAAAAAPh/AAAAAAAA+H8AAAAAAAD4fwAAAAAAAPh/AAAAAAAA+H8AAAAAAAD4fwAAAAAAAPh/AAAAAAAA+H8AAAAAAAD4fwAAAAAAAPh/AAAAAAAA+H8AAAAAAAD4fwAAAAAAAPh/AAAAAAAA+H8AAAAAAAD4fwAAAAAAAPh/AAAAAAAA+H8AAAAAAAD4fwAAAAAAAPh/AAAAAAAA+H8AAAAAAAD4fwAAAAAAAPh/AAAAAAAA+H8AAAAAAAD4fwAAAAAAAPh/AAAAAAAA+H8AAAAAAAD4fwAAAAAAAPh/AAAAAAAA+H8AAAAAAAD4fwAAAAAAAPh/AAAAAAAA+H8AAAAAAAD4fwAAAAAAAPh/AAAAAAAA+H8AAAAAAAD4fwAAAAAAAPh/AAAAAAAA+H8AAAAAAAD4fwAAAAAAAPh/AAAAAAAA+H8AAAAAAAD4fwAAAAAAAPh/AAAAAAAA+H8AAAAAAAD4fwAAAAAAAPh/AAAAAAAA+H8AAAAAAAD4fwAAAAAAAPh/AAAAAAAA+H8AAAAAAAD4fwAAAAAAAPh/AAAAAAAA+H8AAAAAAAD4fwAAAAAAAPh/AAAAAAAA+H8AAAAAAAD4fwAAAAAAAPh/AAAAAAAA+H8AAAAAAAD4fwAAAAAAAPh/AAAAAAAA+H8AAAAAAAD4fwAAAAAAAPh/AAAAAAAA+H8AAAAAAAD4fwAAAAAAAPh/AAAAAAAA+H8AAAAAAAD4fwAAAAAAAPh/AAAAAAAA+H8AAAAAAAD4fwAAAAAAAPh/AAAAAAAA+H8AAAAAAAD4fwAAAAAAAPh/AAAAAAAA+H8AAAAAAAD4fwAAAAAAAPh/AAAAAAAA+H8AAAAAAAD4fwAAAAAAAPh/AAAAAAAA+H8AAAAAAAD4fwAAAAAAAPh/AAAAAAAA+H8AAAAAAAD4fwAAAAAAAPh/AAAAAAAA+H8AAAAAAAD4fwAAAAAAAPh/AAAAAAAA+H8AAAAAAAD4fwAAAAAAAPh/AAAAAAAA+H8AAAAAAAD4fwAAAAAAAPh/AAAAAAAA+H8AAAAAAAD4fwAAAAAAAPh/AAAAAAAA+H8AAAAAAAD4fwAAAAAAAPh/AAAAAAAA+H8AAAAAAAD4fwAAAAAAAPh/AAAAAAAA+H8AAAAAAAD4fwAAAAAAAPh/AAAAAAAA+H8AAAAAAAD4fwAAAAAAAPh/AAAAAAAA+H8AAAAAAAD4fwAAAAAAAPh/AAAAAAAA+H8AAAAAAAD4fwAAAAAAAPh/AAAAAAAA+H8AAAAAAAD4fwAAAAAAAPh/AAAAAAAA+H8AAAAAAAD4fwAAAAAAAPh/AAAAAAAA+H8AAAAAAAD4fwAAAAAAAPh/AAAAAAAA+H8AAAAAAAD4fwAAAAAAAPh/AAAAAAAA+H8AAAAAAAD4fwAAAAAAAPh/AAAAAAAA+H8AAAAAAAD4fwAAAAAAAPh/AAAAAAAA+H8AAAAAAAD4fwAAAAAAAPh/AAAAAAAA+H8AAAAAAAD4fwAAAAAAAPh/AAAAAAAA+H8AAAAAAAD4fwAAAAAAAPh/AAAAAAAA+H8AAAAAAAD4fwAAAAAAAPh/AAAAAAAA+H8AAAAAAAD4fwAAAAAAAPh/AAAAAAAA+H8AAAAAAAD4fwAAAAAAAPh/AAAAAAAA+H8AAAAAAAD4fwAAAAAAAPh/AAAAAAAA+H8AAAAAAAD4fwAAAAAAAPh/AAAAAAAA+H8AAAAAAAD4fwAAAAAAAPh/AAAAAAAA+H8AAAAAAAD4fwAAAAAAAPh/AAAAAAAA+H8AAAAAAAD4fwAAAAAAAPh/AAAAAAAA+H8AAAAAAAD4fwAAAAAAAPh/AAAAAAAA+H8AAAAAAAD4fwAAAAAAAPh/AAAAAAAA+H8AAAAAAAD4fwAAAAAAAPh/AAAAAAAA+H8AAAAAAAD4fw==\",\"dtype\":\"float64\",\"shape\":[215]},\"specie\":[\"Orange Pine Plover\",\"Orange Pine Plover\",\"Orange Pine Plover\",\"Orange Pine Plover\",\"Orange Pine Plover\",\"Orange Pine Plover\",\"Orange Pine Plover\",\"Orange Pine Plover\",\"Orange Pine Plover\",\"Orange Pine Plover\",\"Orange Pine Plover\",\"Orange Pine Plover\",\"Orange Pine Plover\",\"Orange Pine Plover\",\"Orange Pine Plover\",\"Orange Pine Plover\",\"Orange Pine Plover\",\"Orange Pine Plover\",\"Orange Pine Plover\",\"Orange Pine Plover\",\"Orange Pine Plover\",\"Orange Pine Plover\",\"Orange Pine Plover\",\"Orange Pine Plover\",\"Orange Pine Plover\",\"Orange Pine Plover\",\"Orange Pine Plover\",\"Orange Pine Plover\",\"Orange Pine Plover\",\"Orange Pine Plover\",\"Orange Pine Plover\",\"Orange Pine Plover\",\"Orange Pine Plover\",\"Orange Pine Plover\",\"Orange Pine Plover\",\"Orange Pine Plover\",\"Orange Pine Plover\",\"Orange Pine Plover\",\"Orange Pine Plover\",\"Orange Pine Plover\",\"Orange Pine Plover\",\"Orange Pine Plover\",\"Orange Pine Plover\",\"Orange Pine Plover\",\"Orange Pine Plover\",\"Orange Pine Plover\",\"Orange Pine Plover\",\"Orange Pine Plover\",\"Orange Pine Plover\",\"Orange Pine Plover\",\"Orange Pine Plover\",\"Orange Pine Plover\",\"Orange Pine Plover\",\"Orange Pine Plover\",\"Orange Pine Plover\",\"Orange Pine Plover\",\"Orange Pine Plover\",\"Orange Pine Plover\",\"Orange Pine Plover\",\"Orange Pine Plover\",\"Orange Pine Plover\",\"Orange Pine Plover\",\"Orange Pine Plover\",\"Orange Pine Plover\",\"Orange Pine Plover\",\"Orange Pine Plover\",\"Orange Pine Plover\",\"Orange Pine Plover\",\"Orange Pine Plover\",\"Orange Pine Plover\",\"Orange Pine Plover\",\"Orange Pine Plover\",\"Orange Pine Plover\",\"Orange Pine Plover\",\"Orange Pine Plover\",\"Orange Pine Plover\",\"Orange Pine Plover\",\"Orange Pine Plover\",\"Orange Pine Plover\",\"Orange Pine Plover\",\"Orange Pine Plover\",\"Orange Pine Plover\",\"Orange Pine Plover\",\"Orange Pine Plover\",\"Orange Pine Plover\",\"Orange Pine Plover\",\"Orange Pine Plover\",\"Orange Pine Plover\",\"Orange Pine Plover\",\"Orange Pine Plover\",\"Orange Pine Plover\",\"Orange Pine Plover\",\"Orange Pine Plover\",\"Orange Pine Plover\",\"Orange Pine Plover\",\"Orange Pine Plover\",\"Orange Pine Plover\",\"Orange Pine Plover\",\"Orange Pine Plover\",\"Orange Pine Plover\",\"Orange Pine Plover\",\"Orange Pine Plover\",\"Orange Pine Plover\",\"Orange Pine Plover\",\"Orange Pine Plover\",\"Orange Pine Plover\",\"Orange Pine Plover\",\"Orange Pine Plover\",\"Orange Pine Plover\",\"Orange Pine Plover\",\"Orange Pine Plover\",\"Orange Pine Plover\",\"Orange Pine Plover\",\"Orange Pine Plover\",\"Orange Pine Plover\",\"Orange Pine Plover\",\"Orange Pine Plover\",\"Orange Pine Plover\",\"Orange Pine Plover\",\"Orange Pine Plover\",\"Orange Pine Plover\",\"Orange Pine Plover\",\"Orange Pine Plover\",\"Orange Pine Plover\",\"Orange Pine Plover\",\"Orange Pine Plover\",\"Orange Pine Plover\",\"Orange Pine Plover\",\"Orange Pine Plover\",\"Orange Pine Plover\",\"Orange Pine Plover\",\"Orange Pine Plover\",\"Orange Pine Plover\",\"Orange Pine Plover\",\"Orange Pine Plover\",\"Orange Pine Plover\",\"Orange Pine Plover\",\"Orange Pine Plover\",\"Orange Pine Plover\",\"Orange Pine Plover\",\"Orange Pine Plover\",\"Orange Pine Plover\",\"Orange Pine Plover\",\"Orange Pine Plover\",\"Orange Pine Plover\",\"Orange Pine Plover\",\"Orange Pine Plover\",\"Orange Pine Plover\",\"Orange Pine Plover\",\"Orange Pine Plover\",\"Orange Pine Plover\",\"Orange Pine Plover\",\"Orange Pine Plover\",\"Orange Pine Plover\",\"Orange Pine Plover\",\"Orange Pine Plover\",\"Orange Pine Plover\",\"Orange Pine Plover\",\"Orange Pine Plover\",\"Orange Pine Plover\",\"Orange Pine Plover\",\"Orange Pine Plover\",\"Orange Pine Plover\",\"Orange Pine Plover\",\"Orange Pine Plover\",\"Orange Pine Plover\",\"Orange Pine Plover\",\"Orange Pine Plover\",\"Orange Pine Plover\",\"Orange Pine Plover\",\"Orange Pine Plover\",\"Orange Pine Plover\",\"Orange Pine Plover\",\"Orange Pine Plover\",\"Orange Pine Plover\",\"Orange Pine Plover\",\"Orange Pine Plover\",\"Orange Pine Plover\",\"Orange Pine Plover\",\"Orange Pine Plover\",\"Orange Pine Plover\",\"Orange Pine Plover\",\"Orange Pine Plover\",\"Orange Pine Plover\",\"Orange Pine Plover\",\"Orange Pine Plover\",\"Orange Pine Plover\",\"Orange Pine Plover\",\"Orange Pine Plover\",\"Orange Pine Plover\",\"Orange Pine Plover\",\"Orange Pine Plover\",\"Orange Pine Plover\",\"Orange Pine Plover\",\"Orange Pine Plover\",\"Orange Pine Plover\",\"Orange Pine Plover\",\"Orange Pine Plover\",\"Orange Pine Plover\",\"Orange Pine Plover\",\"Orange Pine Plover\",\"Orange Pine Plover\",\"Orange Pine Plover\",\"Orange Pine Plover\",\"Orange Pine Plover\",\"Orange Pine Plover\",\"Orange Pine Plover\",\"Orange Pine Plover\",\"Orange Pine Plover\",\"Orange Pine Plover\",\"Orange Pine Plover\",\"Orange Pine Plover\",\"Orange Pine Plover\",\"Orange Pine Plover\",\"Orange Pine Plover\"],\"x\":{\"__ndarray__\":\"zg1vwFGrmMB7qZPAEtWIwBFJZsAZlh/A7CZNQKciDsD9dVPAwnuMwPgfq8CTlkbAOVafwI/gfcAhXum/+mxCwAlYjMAZ8jDAKS6XwNsojcAHDybAqoVCwIDslcDJgGbAcqGIwNJ0GMBSqWjA+xtJwFfijcCOTZHAr3FdwPziVEDjSojA5yUWPYxrjMDF4Y7AisygwLOtmkAnKs5AYetmwO1X8j9fmGrAc8eTwIbKisC+l2RAyneBwDr/jMCBrp7AWdGOwC6fWcACdlnAy1CIPyOGUsBaQY/AKJqNwE2ojcD48jPA4eScwD26OsCiihvAQuDdupePh8AVRG7ALsTev4ipacBEVZHAx46CwKkGk8C4OXfAGEiiwESoUsCoTZXAJI+KwOoch8CLxILAGbNqwI0Rh8CiTpDAWqtEwCZnhsAkfDLANOw4wMg6IMCMpDfAOMpRwHo1V8DNbYPA9qkCwG+3PMCP20LAJ+p4wP71fcCXMZPAjfK0v1JLjMDX2DzAztdhQPEvUsAsYFfA0ZVMwKLtRMCHBr6/8wfGv0YGNcDofWdAHa6KwOU9j8DDHo/AtfN5QICPG8BdmPm/I1BswEH/q8BNGK3AiXaWwEeFlsD0aZTA/sFQwKFZv0A6GyzAJ+6WwHWMjMCd7yzALZGNwJyshUAjRci/XYxGwGbuOMApyxLAq6JWwJYzZcBYQZDA6yOKwFZhEsB5hDXAL8QLQN5KLcD1T75ArBUNwHEnC8BlfU7ALkSIwAuGjMAJyZ/AcVeFwMaji8B+3krAy6swwB44icAc+jnAOKSOwF0Th8BCGDrATyqOwNVTksC9E6XA36orwAYeUcCzyCbAesWNwC4/k8BE4xjAvV/KP/xAkr8736FAwJ6SwAFFO8D6ZzLAZclQwPDLb8DByKLA2NxowFFUiMCAkZ/AwoqSwJRym8DSL3rAS1G5vygWjMCv7YrAAQFbwIKxkMDEP1zA8o2YwPFvUEAKm5nAaDiIwD4cPcDgZqrAtKOFwGi5HsA7r1LA+WPIvySejEC0t4rAqQeIwFUCpcDh5pvAfCVrwNe3i8BsoKbAh3RAwPY+lED8kGDAoDkxwNmc179fEk3Ap7k5wLtCU8DGvs+/BIWmwIfZWsCGzLdAVGPQv4erjMA=\",\"dtype\":\"float32\",\"shape\":[215]},\"y\":{\"__ndarray__\":\"sMaQP8Wu/D84z1tAwCyBQIGw/D/TOHVAu9+bP9tcU0Aan+y9Ubw6QO9uO0A/JpBAxVITQFSAg0CfgjxADMNHQAw2ib55NWM/5eEtvup2gED4qVtAsMmNQLdAcUCozDpAKQ+RQE+v5L4fZglAe0Vtv5SxZ0B35G9AVicEQKS0QUDiZXk/CV4mwEH/0j+2xMU/iJ8RQKgkPkAqIz5AFIQ/QIv4dr8htes/UduAQDjSoL52PD9A+dFlQH7nlkA/Ew9AhiofQDh8hEAwjU8/6i0+wNABOkCx3so/cqWVQNkgTz8EYCdAmGAaQIG+LkAENhO+WYLQv3BIgEB/DkFAJkyCQNMziz8c8cA+k2w0QHCC7r7V7hBAqaolQONFc0DFdXBA18GSQGWDBkAYuh9AuW88QA5dkUAmom1ADcdOQLNwjkDI8RJAbaVHQEabAEDtrQBAfue9P+MMwj+0gHBACJDEv/i0NUC7SlJA0r+HP3+VGkAKoGVA/7GEQNe8PEA0h3i/R/d8Pt+uWkAtvVdAWQdzQP25JkDA+3dA17qIQMrR5T8F1TlAnCpgP5RrjEBIl4tAFJtXQHawFkDhXxNARF8KQBFgOUDJnDZAL0dtQFBFQUBNgnJAUOqCQBYG/T+qeFQ/G5NvQCqZlECbwHU/sIx/QADSUkCRvjdAPftJQBGWF0BpLlY/z2jAP+S+PEDPiYlAt4s/QC/KgkBY2xpATUzMvzD24z/mzU9AuTmGQPM5h0BNjItAr/OSQEMzQkBucjhAVTmQQOdzyT/rMzVACe+JQBpikkDJo4NASK+4viUWnj+qe4xAvLPJP75/akAWehZAdvaHvk8cQUDccAVAhqrGP03qJj/NQFtAWfvKv4Pyur/fTTdA02ByQOcAAr8falBAEtxBQJyCQUAyhh1ATUipP9rsGUBREhRA8wQhQByZBECrI+M/HFtyQEQhckAAJJRAmwC/PwgoYUDArLE/Q93ZP+eGYEC5DgVAMzqnP4LaIkDBy5M+0HtOQJ52Sr/li3FAueePQG4yS0BI45NAqUGSQG5CGUBkkApAgvEKQGwPPEDUlgc/806Uv86mYUCgTwxAMOJFQBRQYkBLGV1ANx6KQC2WcEAnXH5AFOsmQGPBgkDwLfI/LKEewHbdg0A=\",\"dtype\":\"float32\",\"shape\":[215]}},\"selected\":{\"id\":\"95ff304d-6c23-45f4-abd3-94413e062b3d\",\"type\":\"Selection\"},\"selection_policy\":{\"id\":\"d8ec9dba-b63b-4ff6-ad83-cecc20e959d3\",\"type\":\"UnionRenderers\"}},\"id\":\"cc8e6f97-8a68-48d1-b259-f387e93f9feb\",\"type\":\"ColumnDataSource\"},{\"attributes\":{\"data_source\":{\"id\":\"cc8e6f97-8a68-48d1-b259-f387e93f9feb\",\"type\":\"ColumnDataSource\"},\"glyph\":{\"id\":\"ab2c0ab7-bf30-40e4-b2db-f5b32d3b642d\",\"type\":\"Circle\"},\"hover_glyph\":null,\"muted\":true,\"muted_glyph\":{\"id\":\"dc6c83c2-6243-4160-b23a-4bd8d68905a7\",\"type\":\"Circle\"},\"nonselection_glyph\":{\"id\":\"e2f7a285-de18-421c-8a82-2a6d1d919106\",\"type\":\"Circle\"},\"selection_glyph\":null,\"view\":{\"id\":\"86c2c145-5426-48e4-a7e6-c41aa1548abf\",\"type\":\"CDSView\"}},\"id\":\"5761b7dd-5c5f-45a4-88be-3c56661f01f2\",\"type\":\"GlyphRenderer\"},{\"attributes\":{\"fill_alpha\":{\"value\":0.1},\"fill_color\":{\"field\":\"specie\",\"transform\":{\"id\":\"7fce4134-8958-4190-a01d-8079d6ae9cf6\",\"type\":\"CategoricalColorMapper\"}},\"line_alpha\":{\"value\":0.1},\"line_color\":{\"field\":\"specie\",\"transform\":{\"id\":\"7fce4134-8958-4190-a01d-8079d6ae9cf6\",\"type\":\"CategoricalColorMapper\"}},\"size\":{\"units\":\"screen\",\"value\":5},\"x\":{\"field\":\"x\"},\"y\":{\"field\":\"y\"}},\"id\":\"5ee0c146-5d46-4dd5-9bb8-7698b16b0f7c\",\"type\":\"Circle\"},{\"attributes\":{\"fill_alpha\":{\"value\":0.1},\"fill_color\":{\"field\":\"specie\",\"transform\":{\"id\":\"7fce4134-8958-4190-a01d-8079d6ae9cf6\",\"type\":\"CategoricalColorMapper\"}},\"line_alpha\":{\"value\":0.1},\"line_color\":{\"field\":\"specie\",\"transform\":{\"id\":\"7fce4134-8958-4190-a01d-8079d6ae9cf6\",\"type\":\"CategoricalColorMapper\"}},\"size\":{\"units\":\"screen\",\"value\":5},\"x\":{\"field\":\"x\"},\"y\":{\"field\":\"y\"}},\"id\":\"1fd3867e-5ed7-4762-9e1b-d0475ebe93f9\",\"type\":\"Circle\"},{\"attributes\":{},\"id\":\"d50dddd2-4954-4abd-841e-a850b985ef6d\",\"type\":\"LinearScale\"},{\"attributes\":{\"callback\":null,\"data\":{\"index\":[755,756,757,758,759,760,761,762,763,764,765,766,767,768,769,770,771,772,773,774,775,776,777,778,779,780,781,782,783,784,785,786,787,788,789,790,791,792,793,794,795,796,797,798,799,800,801,802,803,804,805,806,807,808,809,810,811,812,813,814,815,816,817,818,819,820,821,822,823,824,825,826,827,828,829,830,831,832,833,834,835,836,837,838,839,840,841,842],\"kasios_index\":{\"__ndarray__\":\"AAAAAAAA+H8AAAAAAAD4fwAAAAAAAPh/AAAAAAAA+H8AAAAAAAD4fwAAAAAAAPh/AAAAAAAA+H8AAAAAAAD4fwAAAAAAAPh/AAAAAAAA+H8AAAAAAAD4fwAAAAAAAPh/AAAAAAAA+H8AAAAAAAD4fwAAAAAAAPh/AAAAAAAA+H8AAAAAAAD4fwAAAAAAAPh/AAAAAAAA+H8AAAAAAAD4fwAAAAAAAPh/AAAAAAAA+H8AAAAAAAD4fwAAAAAAAPh/AAAAAAAA+H8AAAAAAAD4fwAAAAAAAPh/AAAAAAAA+H8AAAAAAAD4fwAAAAAAAPh/AAAAAAAA+H8AAAAAAAD4fwAAAAAAAPh/AAAAAAAA+H8AAAAAAAD4fwAAAAAAAPh/AAAAAAAA+H8AAAAAAAD4fwAAAAAAAPh/AAAAAAAA+H8AAAAAAAD4fwAAAAAAAPh/AAAAAAAA+H8AAAAAAAD4fwAAAAAAAPh/AAAAAAAA+H8AAAAAAAD4fwAAAAAAAPh/AAAAAAAA+H8AAAAAAAD4fwAAAAAAAPh/AAAAAAAA+H8AAAAAAAD4fwAAAAAAAPh/AAAAAAAA+H8AAAAAAAD4fwAAAAAAAPh/AAAAAAAA+H8AAAAAAAD4fwAAAAAAAPh/AAAAAAAA+H8AAAAAAAD4fwAAAAAAAPh/AAAAAAAA+H8AAAAAAAD4fwAAAAAAAPh/AAAAAAAA+H8AAAAAAAD4fwAAAAAAAPh/AAAAAAAA+H8AAAAAAAD4fwAAAAAAAPh/AAAAAAAA+H8AAAAAAAD4fwAAAAAAAPh/AAAAAAAA+H8AAAAAAAD4fwAAAAAAAPh/AAAAAAAA+H8AAAAAAAD4fwAAAAAAAPh/AAAAAAAA+H8AAAAAAAD4fwAAAAAAAPh/AAAAAAAA+H8AAAAAAAD4fwAAAAAAAPh/AAAAAAAA+H8=\",\"dtype\":\"float64\",\"shape\":[88]},\"specie\":[\"Eastern Corn Skeet\",\"Eastern Corn Skeet\",\"Eastern Corn Skeet\",\"Eastern Corn Skeet\",\"Eastern Corn Skeet\",\"Eastern Corn Skeet\",\"Eastern Corn Skeet\",\"Eastern Corn Skeet\",\"Eastern Corn Skeet\",\"Eastern Corn Skeet\",\"Eastern Corn Skeet\",\"Eastern Corn Skeet\",\"Eastern Corn Skeet\",\"Eastern Corn Skeet\",\"Eastern Corn Skeet\",\"Eastern Corn Skeet\",\"Eastern Corn Skeet\",\"Eastern Corn Skeet\",\"Eastern Corn Skeet\",\"Eastern Corn Skeet\",\"Eastern Corn Skeet\",\"Eastern Corn Skeet\",\"Eastern Corn Skeet\",\"Eastern Corn Skeet\",\"Eastern Corn Skeet\",\"Eastern Corn Skeet\",\"Eastern Corn Skeet\",\"Eastern Corn Skeet\",\"Eastern Corn Skeet\",\"Eastern Corn Skeet\",\"Eastern Corn Skeet\",\"Eastern Corn Skeet\",\"Eastern Corn Skeet\",\"Eastern Corn Skeet\",\"Eastern Corn Skeet\",\"Eastern Corn Skeet\",\"Eastern Corn Skeet\",\"Eastern Corn Skeet\",\"Eastern Corn Skeet\",\"Eastern Corn Skeet\",\"Eastern Corn Skeet\",\"Eastern Corn Skeet\",\"Eastern Corn Skeet\",\"Eastern Corn Skeet\",\"Eastern Corn Skeet\",\"Eastern Corn Skeet\",\"Eastern Corn Skeet\",\"Eastern Corn Skeet\",\"Eastern Corn Skeet\",\"Eastern Corn Skeet\",\"Eastern Corn Skeet\",\"Eastern Corn Skeet\",\"Eastern Corn Skeet\",\"Eastern Corn Skeet\",\"Eastern Corn Skeet\",\"Eastern Corn Skeet\",\"Eastern Corn Skeet\",\"Eastern Corn Skeet\",\"Eastern Corn Skeet\",\"Eastern Corn Skeet\",\"Eastern Corn Skeet\",\"Eastern Corn Skeet\",\"Eastern Corn Skeet\",\"Eastern Corn Skeet\",\"Eastern Corn Skeet\",\"Eastern Corn Skeet\",\"Eastern Corn Skeet\",\"Eastern Corn Skeet\",\"Eastern Corn Skeet\",\"Eastern Corn Skeet\",\"Eastern Corn Skeet\",\"Eastern Corn Skeet\",\"Eastern Corn Skeet\",\"Eastern Corn Skeet\",\"Eastern Corn Skeet\",\"Eastern Corn Skeet\",\"Eastern Corn Skeet\",\"Eastern Corn Skeet\",\"Eastern Corn Skeet\",\"Eastern Corn Skeet\",\"Eastern Corn Skeet\",\"Eastern Corn Skeet\",\"Eastern Corn Skeet\",\"Eastern Corn Skeet\",\"Eastern Corn Skeet\",\"Eastern Corn Skeet\",\"Eastern Corn Skeet\",\"Eastern Corn Skeet\"],\"x\":{\"__ndarray__\":\"Jf6OPjEBx78g/MBAAaJJQPqeYcD09Z0/b1krQBdqv0DF8gdAl2FWP0VSh8A82gRAiqPBP0w6tj3FYqRAF12iQOS9EkA/dFZA4E9Dvpr5WECyHxZAvCJNQNwIWkDDSnJA1nITQBPJK0Al9e0/Q7raP2s0D8DAPGFAodYsQPPHhT5/e4JAUa0vQPr3AkCkmJU/yP8HQP9nu79I09w/VRgEQJY9Mj8mfB9Akoqbv4SsnkDlF/I/9PQPwEta2T+b1No/xyAvQImeLT7PmV1ArL+gQMuZqUCWRmZAaeC3P1Xf2T8aLUS/Lpg9QMnVREAKc2dAaS0LQH+9KUCK/R5Axls/QLslaUDZhT1AEC0AQGmYg0CzeB1Aec5pQLGp0b/nKMK/jlrjP03bpb4aMUjA0aZWQOiMqkCFLipAS/MPQIlEr0DucPG/nZLUv0LIY0C0fWVAk48OQNYKgkCwRoBA8A5nQA==\",\"dtype\":\"float32\",\"shape\":[88]},\"y\":{\"__ndarray__\":\"etTdv2avWUBalgBApRbIv8V6tD8S2TPAiMuLv/+3sj4CNEfA/BwfwFV+gUB4hTHAaZaAv6Prqb8nWpc/+YIrP5I1lr/MB4y/qEU1wPbrC8BQZuO/Z54nwKt/cL+/2Le+fdNTwDUnX8DpP/W/+8Lxv3vW0r/iHvu+rVk2wI17nb9r8eQ+7mdgvznXFcCecFG/SigOwAVMaUCUe1DA2pnAv8xeMMBmP+e/q4EHwJcYtD7AdjrAdKxFvxRv478Ksbu/Nb0ywFAIRcD9l4y/OmjJP9r5Gz/T8MG+2yhRwAIqir9saxO/NoC9v6WZI8AO/OG+ombBv8iQPsC9DVTAcoYzwJWWRL5E2V+/q46uv9i3zT6U/x3AU+6ivh6PR8DbaoNAbPk8wL+GFb/swaI/eQRdvxQR3z9yeKK/vH8gwFhcJb0ZQq6/tRPnvuI3O7+4NBa+VrpMwDiCiL5URQi+niBIvg==\",\"dtype\":\"float32\",\"shape\":[88]}},\"selected\":{\"id\":\"3536d730-5d53-4210-a8fd-77aa0a56b9b5\",\"type\":\"Selection\"},\"selection_policy\":{\"id\":\"80fe236c-592d-49f8-83c5-4ee80dea2997\",\"type\":\"UnionRenderers\"}},\"id\":\"d3728e46-c1d3-45bf-afbc-627b3207030a\",\"type\":\"ColumnDataSource\"},{\"attributes\":{\"fill_alpha\":{\"value\":0.6},\"fill_color\":{\"field\":\"specie\",\"transform\":{\"id\":\"7fce4134-8958-4190-a01d-8079d6ae9cf6\",\"type\":\"CategoricalColorMapper\"}},\"line_alpha\":{\"value\":0.6},\"line_color\":{\"field\":\"specie\",\"transform\":{\"id\":\"7fce4134-8958-4190-a01d-8079d6ae9cf6\",\"type\":\"CategoricalColorMapper\"}},\"size\":{\"units\":\"screen\",\"value\":5},\"x\":{\"field\":\"x\"},\"y\":{\"field\":\"y\"}},\"id\":\"5ff2a096-8437-47f1-a98c-63f52d5b9be0\",\"type\":\"Circle\"},{\"attributes\":{\"fill_alpha\":{\"value\":0.1},\"fill_color\":{\"value\":\"#1f77b4\"},\"line_alpha\":{\"value\":0.1},\"line_color\":{\"value\":\"#1f77b4\"},\"size\":{\"units\":\"screen\",\"value\":5},\"x\":{\"field\":\"x\"},\"y\":{\"field\":\"y\"}},\"id\":\"539179fb-9e86-42e3-a9b8-7e310d0932e6\",\"type\":\"Circle\"},{\"attributes\":{\"fill_alpha\":{\"value\":0.1},\"fill_color\":{\"value\":\"#1f77b4\"},\"line_alpha\":{\"value\":0.1},\"line_color\":{\"value\":\"#1f77b4\"},\"size\":{\"units\":\"screen\",\"value\":20},\"x\":{\"field\":\"x\"},\"y\":{\"field\":\"y\"}},\"id\":\"07bcbfa4-79db-409f-8ada-850deca6d700\",\"type\":\"Circle\"},{\"attributes\":{},\"id\":\"8138d42d-85e0-4e9f-aff3-5d6084c2b146\",\"type\":\"UnionRenderers\"},{\"attributes\":{\"data_source\":{\"id\":\"9a90607f-83db-4639-9cf2-35d823755378\",\"type\":\"ColumnDataSource\"},\"glyph\":{\"id\":\"566de034-c3f2-47b6-8907-4af05cf5853e\",\"type\":\"Circle\"},\"hover_glyph\":null,\"muted\":true,\"muted_glyph\":{\"id\":\"8117e40e-3a24-426d-a6e2-6c4991c183a5\",\"type\":\"Circle\"},\"nonselection_glyph\":{\"id\":\"f95c1f4d-f4d9-41b9-92d9-3ccd5d5fcfed\",\"type\":\"Circle\"},\"selection_glyph\":null,\"view\":{\"id\":\"e3831145-5920-4745-9f88-d37656daa63a\",\"type\":\"CDSView\"}},\"id\":\"d5dacf0c-d271-4c14-a066-88339f8b9407\",\"type\":\"GlyphRenderer\"},{\"attributes\":{\"fill_alpha\":{\"value\":0.1},\"fill_color\":{\"field\":\"specie\",\"transform\":{\"id\":\"7fce4134-8958-4190-a01d-8079d6ae9cf6\",\"type\":\"CategoricalColorMapper\"}},\"line_alpha\":{\"value\":0.1},\"line_color\":{\"field\":\"specie\",\"transform\":{\"id\":\"7fce4134-8958-4190-a01d-8079d6ae9cf6\",\"type\":\"CategoricalColorMapper\"}},\"size\":{\"units\":\"screen\",\"value\":5},\"x\":{\"field\":\"x\"},\"y\":{\"field\":\"y\"}},\"id\":\"e4f972da-c1b7-410c-a6dc-8a2947fd9739\",\"type\":\"Circle\"},{\"attributes\":{\"dimension\":1,\"plot\":{\"id\":\"7dead913-c2e4-43ad-a3ff-e4408da95dad\",\"subtype\":\"Figure\",\"type\":\"Plot\"},\"ticker\":{\"id\":\"a9f7c65d-4d52-4af2-84cd-78a775313f8e\",\"type\":\"BasicTicker\"}},\"id\":\"55de2fee-972c-44fb-b5d3-4ddd0cc5222d\",\"type\":\"Grid\"},{\"attributes\":{\"data_source\":{\"id\":\"1577d4d7-e7db-4001-92a6-1d29250f6bae\",\"type\":\"ColumnDataSource\"},\"glyph\":{\"id\":\"332de627-9c4c-4624-bdba-017701ec7b9e\",\"type\":\"Circle\"},\"hover_glyph\":null,\"muted\":true,\"muted_glyph\":{\"id\":\"0962b593-9fa7-437e-91f0-6e5deea10e90\",\"type\":\"Circle\"},\"nonselection_glyph\":{\"id\":\"aeadf545-d079-4319-a600-fe5b8e0ca48b\",\"type\":\"Circle\"},\"selection_glyph\":null,\"view\":{\"id\":\"ff069c99-721b-4c62-95d0-5b0a8e73518c\",\"type\":\"CDSView\"}},\"id\":\"ad12a54c-7e6f-4077-83b6-62ac814f8dd5\",\"type\":\"GlyphRenderer\"},{\"attributes\":{\"callback\":null,\"data\":{\"index\":[1295,1296,1297,1298,1299,1300,1301,1302,1303,1304,1305,1306,1307,1308,1309,1310,1311,1312,1313,1314,1315,1316,1317,1318,1319,1320,1321,1322,1323,1324,1325,1326,1327,1328,1329,1330,1331,1332,1333,1334,1335,1336,1337,1338,1339,1340,1341,1342,1343,1344,1345,1346,1347,1348,1349,1350,1351,1352,1353,1354,1355,1356,1357,1358,1359,1360,1361,1362,1363,1364,1365,1366,1367,1368,1369,1370,1371,1372,1373,1374,1375,1376,1377,1378,1379,1380,1381,1382,1383,1384,1385,1386,1387,1388],\"kasios_index\":{\"__ndarray__\":\"AAAAAAAA+H8AAAAAAAD4fwAAAAAAAPh/AAAAAAAA+H8AAAAAAAD4fwAAAAAAAPh/AAAAAAAA+H8AAAAAAAD4fwAAAAAAAPh/AAAAAAAA+H8AAAAAAAD4fwAAAAAAAPh/AAAAAAAA+H8AAAAAAAD4fwAAAAAAAPh/AAAAAAAA+H8AAAAAAAD4fwAAAAAAAPh/AAAAAAAA+H8AAAAAAAD4fwAAAAAAAPh/AAAAAAAA+H8AAAAAAAD4fwAAAAAAAPh/AAAAAAAA+H8AAAAAAAD4fwAAAAAAAPh/AAAAAAAA+H8AAAAAAAD4fwAAAAAAAPh/AAAAAAAA+H8AAAAAAAD4fwAAAAAAAPh/AAAAAAAA+H8AAAAAAAD4fwAAAAAAAPh/AAAAAAAA+H8AAAAAAAD4fwAAAAAAAPh/AAAAAAAA+H8AAAAAAAD4fwAAAAAAAPh/AAAAAAAA+H8AAAAAAAD4fwAAAAAAAPh/AAAAAAAA+H8AAAAAAAD4fwAAAAAAAPh/AAAAAAAA+H8AAAAAAAD4fwAAAAAAAPh/AAAAAAAA+H8AAAAAAAD4fwAAAAAAAPh/AAAAAAAA+H8AAAAAAAD4fwAAAAAAAPh/AAAAAAAA+H8AAAAAAAD4fwAAAAAAAPh/AAAAAAAA+H8AAAAAAAD4fwAAAAAAAPh/AAAAAAAA+H8AAAAAAAD4fwAAAAAAAPh/AAAAAAAA+H8AAAAAAAD4fwAAAAAAAPh/AAAAAAAA+H8AAAAAAAD4fwAAAAAAAPh/AAAAAAAA+H8AAAAAAAD4fwAAAAAAAPh/AAAAAAAA+H8AAAAAAAD4fwAAAAAAAPh/AAAAAAAA+H8AAAAAAAD4fwAAAAAAAPh/AAAAAAAA+H8AAAAAAAD4fwAAAAAAAPh/AAAAAAAA+H8AAAAAAAD4fwAAAAAAAPh/AAAAAAAA+H8AAAAAAAD4fwAAAAAAAPh/AAAAAAAA+H8AAAAAAAD4fwAAAAAAAPh/AAAAAAAA+H8=\",\"dtype\":\"float64\",\"shape\":[94]},\"specie\":[\"Ordinary Snape\",\"Ordinary Snape\",\"Ordinary Snape\",\"Ordinary Snape\",\"Ordinary Snape\",\"Ordinary Snape\",\"Ordinary Snape\",\"Ordinary Snape\",\"Ordinary Snape\",\"Ordinary Snape\",\"Ordinary Snape\",\"Ordinary Snape\",\"Ordinary Snape\",\"Ordinary Snape\",\"Ordinary Snape\",\"Ordinary Snape\",\"Ordinary Snape\",\"Ordinary Snape\",\"Ordinary Snape\",\"Ordinary Snape\",\"Ordinary Snape\",\"Ordinary Snape\",\"Ordinary Snape\",\"Ordinary Snape\",\"Ordinary Snape\",\"Ordinary Snape\",\"Ordinary Snape\",\"Ordinary Snape\",\"Ordinary Snape\",\"Ordinary Snape\",\"Ordinary Snape\",\"Ordinary Snape\",\"Ordinary Snape\",\"Ordinary Snape\",\"Ordinary Snape\",\"Ordinary Snape\",\"Ordinary Snape\",\"Ordinary Snape\",\"Ordinary Snape\",\"Ordinary Snape\",\"Ordinary Snape\",\"Ordinary Snape\",\"Ordinary Snape\",\"Ordinary Snape\",\"Ordinary Snape\",\"Ordinary Snape\",\"Ordinary Snape\",\"Ordinary Snape\",\"Ordinary Snape\",\"Ordinary Snape\",\"Ordinary Snape\",\"Ordinary Snape\",\"Ordinary Snape\",\"Ordinary Snape\",\"Ordinary Snape\",\"Ordinary Snape\",\"Ordinary Snape\",\"Ordinary Snape\",\"Ordinary Snape\",\"Ordinary Snape\",\"Ordinary Snape\",\"Ordinary Snape\",\"Ordinary Snape\",\"Ordinary Snape\",\"Ordinary Snape\",\"Ordinary Snape\",\"Ordinary Snape\",\"Ordinary Snape\",\"Ordinary Snape\",\"Ordinary Snape\",\"Ordinary Snape\",\"Ordinary Snape\",\"Ordinary Snape\",\"Ordinary Snape\",\"Ordinary Snape\",\"Ordinary Snape\",\"Ordinary Snape\",\"Ordinary Snape\",\"Ordinary Snape\",\"Ordinary Snape\",\"Ordinary Snape\",\"Ordinary Snape\",\"Ordinary Snape\",\"Ordinary Snape\",\"Ordinary Snape\",\"Ordinary Snape\",\"Ordinary Snape\",\"Ordinary Snape\",\"Ordinary Snape\",\"Ordinary Snape\",\"Ordinary Snape\",\"Ordinary Snape\",\"Ordinary Snape\",\"Ordinary Snape\"],\"x\":{\"__ndarray__\":\"5iHMP6PISMAoxdI/MBryP94BvT/VnrtAF7EeQIR83z8YqplAljIGQFsc6r/rKFVA9GTtP7bmrkAOTgnAtjVfv5qe3j7SXNQ/+z71P22U1z/Vww7AGZYNP3rlk0DO1388oCT/P9CjpD/5bmG/ZfhLQCdv+j+HFzC9pVanP77iHkBPR8w/jgOrQIDzvEAONadAZ6YLQNGba8BImss/gwsPQOMm3j+lOdm/CWuxPu+4CkBEgxDA8ea6P5tAYEBm8X++6Uasvw8rjT98hPw+P38KQHgCv0CDkJg/POWmQFBczr/HW3BAaB2HQHR4BD+vPi3AC0kSwBJw0z/6sadAjcVJQEg/wz+KJRZA+5aYvy7mr7/aHYBA177qPv7NpD5BVTe/ODNFQPYxYUAVtR3AtDLrv8qPskBlD+A/eo22v12NTEAWXuG/o0XNPypIo0ASL9a+Rjm+P6WN3T+RDTZA3RWQwOu9QkDspJo/+clMQDHxmD5TUNG/rNl3wA==\",\"dtype\":\"float32\",\"shape\":[94]},\"y\":{\"__ndarray__\":\"5TEXwEGwrT9AgFLAI5T+v6rRIcD7tng/9EPov9AIO8Ap7oU/+hgXwLhiQsAaGy3Ac2vHv8MeFL77r62/5aqQv2duO8CNwQ7Ag7M5wOx8JcBKfIK/hc80wDFJPUC5a0PA17oOwAmeKMBFfkLAwBs1wBJxOcD0c0LAvG9IwNTc2L9qhBfA0mZSP0bNAUAGQ18/TtAovmnD6T+QOM2/7J5Fv8U0ur+SzjC/IiVDwLRPzL+89u2+ErEMwGYmD7/wjE6/tfgnwCBdLMBOSjPA91gePt+EoT6VKB7AeFxXPt3HE77ZfnA/IkK7PvaiM8AfZyi/wulZQMDC3r+5vXk+UJ0hwEvSOMC1RFw9QAOYv8zkOsBpn00/c+vDv2ZDOsC1XYG/XrlIv3bU+75s6Ti/I/e9PgAr3T9SpMO/ncGBv4OGK8BSZ9M/huggv0PdaT9uZUPA1gjDv98eWT0igSzAj2vZP0IFtr9n/xzAhpS/P8+xlr9U4z5AI4iRPw==\",\"dtype\":\"float32\",\"shape\":[94]}},\"selected\":{\"id\":\"c919022f-c359-4a4f-8805-078fcb544400\",\"type\":\"Selection\"},\"selection_policy\":{\"id\":\"f8790734-8802-4ac7-893c-51af40e3ec79\",\"type\":\"UnionRenderers\"}},\"id\":\"25415f3b-5e44-4ddc-a15e-80cfc00f0632\",\"type\":\"ColumnDataSource\"},{\"attributes\":{\"fill_alpha\":{\"value\":0.1},\"fill_color\":{\"value\":\"#1f77b4\"},\"line_alpha\":{\"value\":0.1},\"line_color\":{\"value\":\"#1f77b4\"},\"size\":{\"units\":\"screen\",\"value\":5},\"x\":{\"field\":\"x\"},\"y\":{\"field\":\"y\"}},\"id\":\"e60ed547-9112-410a-b1e0-19f191e35258\",\"type\":\"Circle\"},{\"attributes\":{\"fill_alpha\":{\"value\":0.6},\"fill_color\":{\"field\":\"specie\",\"transform\":{\"id\":\"7fce4134-8958-4190-a01d-8079d6ae9cf6\",\"type\":\"CategoricalColorMapper\"}},\"line_alpha\":{\"value\":0.6},\"line_color\":{\"field\":\"specie\",\"transform\":{\"id\":\"7fce4134-8958-4190-a01d-8079d6ae9cf6\",\"type\":\"CategoricalColorMapper\"}},\"size\":{\"units\":\"screen\",\"value\":5},\"x\":{\"field\":\"x\"},\"y\":{\"field\":\"y\"}},\"id\":\"44dc41f8-a2be-43be-a509-1be959041487\",\"type\":\"Circle\"},{\"attributes\":{\"callback\":null,\"data\":{\"index\":[483,484,485,486,487,488,489,490,491,492,493,494,495,496,497,498,499,500,501,502,503,504,505,506,507,508,509,510,511,512,513,514,515,516,517,518,519,520,521,522,523,524,525,526,527,528,529,530,531,532,533,534,535,536,537,538,539,540,541,542,543,544,545,546,547,548,549,550,551,552,553,554,555,556,557,558,559,560,561,562,563,564],\"kasios_index\":{\"__ndarray__\":\"AAAAAAAA+H8AAAAAAAD4fwAAAAAAAPh/AAAAAAAA+H8AAAAAAAD4fwAAAAAAAPh/AAAAAAAA+H8AAAAAAAD4fwAAAAAAAPh/AAAAAAAA+H8AAAAAAAD4fwAAAAAAAPh/AAAAAAAA+H8AAAAAAAD4fwAAAAAAAPh/AAAAAAAA+H8AAAAAAAD4fwAAAAAAAPh/AAAAAAAA+H8AAAAAAAD4fwAAAAAAAPh/AAAAAAAA+H8AAAAAAAD4fwAAAAAAAPh/AAAAAAAA+H8AAAAAAAD4fwAAAAAAAPh/AAAAAAAA+H8AAAAAAAD4fwAAAAAAAPh/AAAAAAAA+H8AAAAAAAD4fwAAAAAAAPh/AAAAAAAA+H8AAAAAAAD4fwAAAAAAAPh/AAAAAAAA+H8AAAAAAAD4fwAAAAAAAPh/AAAAAAAA+H8AAAAAAAD4fwAAAAAAAPh/AAAAAAAA+H8AAAAAAAD4fwAAAAAAAPh/AAAAAAAA+H8AAAAAAAD4fwAAAAAAAPh/AAAAAAAA+H8AAAAAAAD4fwAAAAAAAPh/AAAAAAAA+H8AAAAAAAD4fwAAAAAAAPh/AAAAAAAA+H8AAAAAAAD4fwAAAAAAAPh/AAAAAAAA+H8AAAAAAAD4fwAAAAAAAPh/AAAAAAAA+H8AAAAAAAD4fwAAAAAAAPh/AAAAAAAA+H8AAAAAAAD4fwAAAAAAAPh/AAAAAAAA+H8AAAAAAAD4fwAAAAAAAPh/AAAAAAAA+H8AAAAAAAD4fwAAAAAAAPh/AAAAAAAA+H8AAAAAAAD4fwAAAAAAAPh/AAAAAAAA+H8AAAAAAAD4fwAAAAAAAPh/AAAAAAAA+H8AAAAAAAD4fwAAAAAAAPh/AAAAAAAA+H8=\",\"dtype\":\"float64\",\"shape\":[82]},\"specie\":[\"Canadian Cootamum\",\"Canadian Cootamum\",\"Canadian Cootamum\",\"Canadian Cootamum\",\"Canadian Cootamum\",\"Canadian Cootamum\",\"Canadian Cootamum\",\"Canadian Cootamum\",\"Canadian Cootamum\",\"Canadian Cootamum\",\"Canadian Cootamum\",\"Canadian Cootamum\",\"Canadian Cootamum\",\"Canadian Cootamum\",\"Canadian Cootamum\",\"Canadian Cootamum\",\"Canadian Cootamum\",\"Canadian Cootamum\",\"Canadian Cootamum\",\"Canadian Cootamum\",\"Canadian Cootamum\",\"Canadian Cootamum\",\"Canadian Cootamum\",\"Canadian Cootamum\",\"Canadian Cootamum\",\"Canadian Cootamum\",\"Canadian Cootamum\",\"Canadian Cootamum\",\"Canadian Cootamum\",\"Canadian Cootamum\",\"Canadian Cootamum\",\"Canadian Cootamum\",\"Canadian Cootamum\",\"Canadian Cootamum\",\"Canadian Cootamum\",\"Canadian Cootamum\",\"Canadian Cootamum\",\"Canadian Cootamum\",\"Canadian Cootamum\",\"Canadian Cootamum\",\"Canadian Cootamum\",\"Canadian Cootamum\",\"Canadian Cootamum\",\"Canadian Cootamum\",\"Canadian Cootamum\",\"Canadian Cootamum\",\"Canadian Cootamum\",\"Canadian Cootamum\",\"Canadian Cootamum\",\"Canadian Cootamum\",\"Canadian Cootamum\",\"Canadian Cootamum\",\"Canadian Cootamum\",\"Canadian Cootamum\",\"Canadian Cootamum\",\"Canadian Cootamum\",\"Canadian Cootamum\",\"Canadian Cootamum\",\"Canadian Cootamum\",\"Canadian Cootamum\",\"Canadian Cootamum\",\"Canadian Cootamum\",\"Canadian Cootamum\",\"Canadian Cootamum\",\"Canadian Cootamum\",\"Canadian Cootamum\",\"Canadian Cootamum\",\"Canadian Cootamum\",\"Canadian Cootamum\",\"Canadian Cootamum\",\"Canadian Cootamum\",\"Canadian Cootamum\",\"Canadian Cootamum\",\"Canadian Cootamum\",\"Canadian Cootamum\",\"Canadian Cootamum\",\"Canadian Cootamum\",\"Canadian Cootamum\",\"Canadian Cootamum\",\"Canadian Cootamum\",\"Canadian Cootamum\",\"Canadian Cootamum\"],\"x\":{\"__ndarray__\":\"5GfaP0Ep17+k9hFA4IqFQG/IakDJeohA6FpeQE7DqEBJ+hpAIGJIQE0lBUBXEmJAsW+kQAE4LUBO+odAt9UMQB0uhUBHKUVAVR1IQEBJv0Dpv2NAYu9KQK5XS0DFslxAtIqrQKlAc0D9PjFAigSoQBNtvkCnZ0ZAU7GWwC7gu0DLeD1AqOKNQGjdq8Bbz11AyYc5QJWKrECaUKlAIOOJQEegc0CewmdA7lDiPuq/qECFh6JAOEG/QPlVv0CsHUnAz5w7QB/FmcBnyr5AQF9uQPCgUUDKI01Am0EFQAVLKEDlSLk/z4KFQLicqEDXyUtAvQaBP7gEj8BGdim/vRyLQIrFi0B4JhNAay+pQFwxbEB2tgnAhGQSQEqdDMBAP8g/s2asQKAolL8IBZ9AVyzfv+ylTsAGpb1A9VSlQFqDYcD/B4hA1AhCwA==\",\"dtype\":\"float32\",\"shape\":[82]},\"y\":{\"__ndarray__\":\"fdrDvzigpz8aaF7AO+GuPui+4b5Lzp4+nvaQP78SLj58d/S/rtczwICIgL8we92+YytmPphHG78BXdQ+94gSwAnBCj8rn0G/BOsewDWvoj6ijIy/tGr9v8KwIsCjzdS/QQ6SvLvslD9umgvAKYsXPhVwlz4odynAMRGdPxz7OD8gCjbAuw6hPjyyoD62q8a+8OtBv9rcHj/aWWc+ZMCfPhV4Sj+33DO+ClGPv5eFDD4J/HI+7UXDPsr53D46qx5AivSQvzuCOUCO8AA/NEotPxAjLsCRPx3A9V48PSPB5b92ISPA/wEKP9SRzz3VPDTAFk2Xvle7KEDxes+/ALa7PmZojj7dEzg9ch6kPQlUnL5EO0S+osZAwErtWUC1xzbArGrjPxtARED8KQtAo62UQHHRrT8WOas+DFw7Pp3zWUAfnZ8+BZYIwA==\",\"dtype\":\"float32\",\"shape\":[82]}},\"selected\":{\"id\":\"d6dd456d-0821-40b2-b0bf-bc228df9af56\",\"type\":\"Selection\"},\"selection_policy\":{\"id\":\"ff8a2764-4119-4650-bbb0-d0b8a94c9015\",\"type\":\"UnionRenderers\"}},\"id\":\"1577d4d7-e7db-4001-92a6-1d29250f6bae\",\"type\":\"ColumnDataSource\"},{\"attributes\":{\"data_source\":{\"id\":\"d3728e46-c1d3-45bf-afbc-627b3207030a\",\"type\":\"ColumnDataSource\"},\"glyph\":{\"id\":\"9e8b39fb-b318-4656-96c2-590b0b292e90\",\"type\":\"Circle\"},\"hover_glyph\":null,\"muted\":true,\"muted_glyph\":{\"id\":\"3edab6b6-334e-4bdd-bb4f-0970a3bcb4de\",\"type\":\"Circle\"},\"nonselection_glyph\":{\"id\":\"c82620e4-9e9b-494a-bb92-0a6b155d7131\",\"type\":\"Circle\"},\"selection_glyph\":null,\"view\":{\"id\":\"3a128b71-e052-4e83-9ea4-311abb171ceb\",\"type\":\"CDSView\"}},\"id\":\"f8cd9109-68d5-4c15-8314-f4a7a2a97c95\",\"type\":\"GlyphRenderer\"},{\"attributes\":{\"source\":{\"id\":\"8d72ac23-cacd-4200-b75f-3430f468b9f0\",\"type\":\"ColumnDataSource\"}},\"id\":\"a6f41f34-5119-4025-ab79-ff28291ffe6d\",\"type\":\"CDSView\"},{\"attributes\":{\"formatter\":{\"id\":\"89164001-e656-49fc-8d8f-ad5138e6ab3a\",\"type\":\"BasicTickFormatter\"},\"plot\":{\"id\":\"7dead913-c2e4-43ad-a3ff-e4408da95dad\",\"subtype\":\"Figure\",\"type\":\"Plot\"},\"ticker\":{\"id\":\"a9f7c65d-4d52-4af2-84cd-78a775313f8e\",\"type\":\"BasicTicker\"}},\"id\":\"3995cc72-1aee-453a-8882-0f7b79d5dc90\",\"type\":\"LinearAxis\"},{\"attributes\":{\"source\":{\"id\":\"d3728e46-c1d3-45bf-afbc-627b3207030a\",\"type\":\"ColumnDataSource\"}},\"id\":\"3a128b71-e052-4e83-9ea4-311abb171ceb\",\"type\":\"CDSView\"},{\"attributes\":{\"callback\":null,\"data\":{\"index\":[0,1,2,3,4,5,6,7,8,9,10,11,12,13,14,15,16,17,18,19,20,21,22,23,24,25,26,27,28,29,30,31,32,33,34,35,36,37,38,39,40,41,42,43,44,45,46,47,48,49,50,51,52,53,54,55,56,57,58,59,60,61,62,63,64,65,66,67,68,69,70,71,72,73,74,75,76,77,78,79,80,81,82,83,84,85,86,87,88,89,90,91,92,93,94,95,96,97,98,99,100,101,102,103,104,105,106,107,108,109,110,111,112,113,114,115,116,117,118,119,120,121,122,123,124,125,126,127,128,129,130,131,132,133,134,135,136,137,138,139,140,141,142,143,144,145,146,147,148,149,150,151,152,153,154,155,156,157,158,159,160,161,162,163,164,165,166,167,168,169,170,171,172,173,174,175,176,177,178,179,180,181,182,183,184,185],\"kasios_index\":{\"__ndarray__\":\"AAAAAAAA+H8AAAAAAAD4fwAAAAAAAPh/AAAAAAAA+H8AAAAAAAD4fwAAAAAAAPh/AAAAAAAA+H8AAAAAAAD4fwAAAAAAAPh/AAAAAAAA+H8AAAAAAAD4fwAAAAAAAPh/AAAAAAAA+H8AAAAAAAD4fwAAAAAAAPh/AAAAAAAA+H8AAAAAAAD4fwAAAAAAAPh/AAAAAAAA+H8AAAAAAAD4fwAAAAAAAPh/AAAAAAAA+H8AAAAAAAD4fwAAAAAAAPh/AAAAAAAA+H8AAAAAAAD4fwAAAAAAAPh/AAAAAAAA+H8AAAAAAAD4fwAAAAAAAPh/AAAAAAAA+H8AAAAAAAD4fwAAAAAAAPh/AAAAAAAA+H8AAAAAAAD4fwAAAAAAAPh/AAAAAAAA+H8AAAAAAAD4fwAAAAAAAPh/AAAAAAAA+H8AAAAAAAD4fwAAAAAAAPh/AAAAAAAA+H8AAAAAAAD4fwAAAAAAAPh/AAAAAAAA+H8AAAAAAAD4fwAAAAAAAPh/AAAAAAAA+H8AAAAAAAD4fwAAAAAAAPh/AAAAAAAA+H8AAAAAAAD4fwAAAAAAAPh/AAAAAAAA+H8AAAAAAAD4fwAAAAAAAPh/AAAAAAAA+H8AAAAAAAD4fwAAAAAAAPh/AAAAAAAA+H8AAAAAAAD4fwAAAAAAAPh/AAAAAAAA+H8AAAAAAAD4fwAAAAAAAPh/AAAAAAAA+H8AAAAAAAD4fwAAAAAAAPh/AAAAAAAA+H8AAAAAAAD4fwAAAAAAAPh/AAAAAAAA+H8AAAAAAAD4fwAAAAAAAPh/AAAAAAAA+H8AAAAAAAD4fwAAAAAAAPh/AAAAAAAA+H8AAAAAAAD4fwAAAAAAAPh/AAAAAAAA+H8AAAAAAAD4fwAAAAAAAPh/AAAAAAAA+H8AAAAAAAD4fwAAAAAAAPh/AAAAAAAA+H8AAAAAAAD4fwAAAAAAAPh/AAAAAAAA+H8AAAAAAAD4fwAAAAAAAPh/AAAAAAAA+H8AAAAAAAD4fwAAAAAAAPh/AAAAAAAA+H8AAAAAAAD4fwAAAAAAAPh/AAAAAAAA+H8AAAAAAAD4fwAAAAAAAPh/AAAAAAAA+H8AAAAAAAD4fwAAAAAAAPh/AAAAAAAA+H8AAAAAAAD4fwAAAAAAAPh/AAAAAAAA+H8AAAAAAAD4fwAAAAAAAPh/AAAAAAAA+H8AAAAAAAD4fwAAAAAAAPh/AAAAAAAA+H8AAAAAAAD4fwAAAAAAAPh/AAAAAAAA+H8AAAAAAAD4fwAAAAAAAPh/AAAAAAAA+H8AAAAAAAD4fwAAAAAAAPh/AAAAAAAA+H8AAAAAAAD4fwAAAAAAAPh/AAAAAAAA+H8AAAAAAAD4fwAAAAAAAPh/AAAAAAAA+H8AAAAAAAD4fwAAAAAAAPh/AAAAAAAA+H8AAAAAAAD4fwAAAAAAAPh/AAAAAAAA+H8AAAAAAAD4fwAAAAAAAPh/AAAAAAAA+H8AAAAAAAD4fwAAAAAAAPh/AAAAAAAA+H8AAAAAAAD4fwAAAAAAAPh/AAAAAAAA+H8AAAAAAAD4fwAAAAAAAPh/AAAAAAAA+H8AAAAAAAD4fwAAAAAAAPh/AAAAAAAA+H8AAAAAAAD4fwAAAAAAAPh/AAAAAAAA+H8AAAAAAAD4fwAAAAAAAPh/AAAAAAAA+H8AAAAAAAD4fwAAAAAAAPh/AAAAAAAA+H8AAAAAAAD4fwAAAAAAAPh/AAAAAAAA+H8AAAAAAAD4fwAAAAAAAPh/AAAAAAAA+H8AAAAAAAD4fwAAAAAAAPh/AAAAAAAA+H8AAAAAAAD4fwAAAAAAAPh/AAAAAAAA+H8AAAAAAAD4fwAAAAAAAPh/AAAAAAAA+H8AAAAAAAD4fwAAAAAAAPh/AAAAAAAA+H8AAAAAAAD4fwAAAAAAAPh/AAAAAAAA+H8AAAAAAAD4fwAAAAAAAPh/AAAAAAAA+H8AAAAAAAD4fwAAAAAAAPh/\",\"dtype\":\"float64\",\"shape\":[186]},\"specie\":[\"Rose-crested Blue Pipit\",\"Rose-crested Blue Pipit\",\"Rose-crested Blue Pipit\",\"Rose-crested Blue Pipit\",\"Rose-crested Blue Pipit\",\"Rose-crested Blue Pipit\",\"Rose-crested Blue Pipit\",\"Rose-crested Blue Pipit\",\"Rose-crested Blue Pipit\",\"Rose-crested Blue Pipit\",\"Rose-crested Blue Pipit\",\"Rose-crested Blue Pipit\",\"Rose-crested Blue Pipit\",\"Rose-crested Blue Pipit\",\"Rose-crested Blue Pipit\",\"Rose-crested Blue Pipit\",\"Rose-crested Blue Pipit\",\"Rose-crested Blue Pipit\",\"Rose-crested Blue Pipit\",\"Rose-crested Blue Pipit\",\"Rose-crested Blue Pipit\",\"Rose-crested Blue Pipit\",\"Rose-crested Blue Pipit\",\"Rose-crested Blue Pipit\",\"Rose-crested Blue Pipit\",\"Rose-crested Blue Pipit\",\"Rose-crested Blue Pipit\",\"Rose-crested Blue Pipit\",\"Rose-crested Blue Pipit\",\"Rose-crested Blue Pipit\",\"Rose-crested Blue Pipit\",\"Rose-crested Blue Pipit\",\"Rose-crested Blue Pipit\",\"Rose-crested Blue Pipit\",\"Rose-crested Blue Pipit\",\"Rose-crested Blue Pipit\",\"Rose-crested Blue Pipit\",\"Rose-crested Blue Pipit\",\"Rose-crested Blue Pipit\",\"Rose-crested Blue Pipit\",\"Rose-crested Blue Pipit\",\"Rose-crested Blue Pipit\",\"Rose-crested Blue Pipit\",\"Rose-crested Blue Pipit\",\"Rose-crested Blue Pipit\",\"Rose-crested Blue Pipit\",\"Rose-crested Blue Pipit\",\"Rose-crested Blue Pipit\",\"Rose-crested Blue Pipit\",\"Rose-crested Blue Pipit\",\"Rose-crested Blue Pipit\",\"Rose-crested Blue Pipit\",\"Rose-crested Blue Pipit\",\"Rose-crested Blue Pipit\",\"Rose-crested Blue Pipit\",\"Rose-crested Blue Pipit\",\"Rose-crested Blue Pipit\",\"Rose-crested Blue Pipit\",\"Rose-crested Blue Pipit\",\"Rose-crested Blue Pipit\",\"Rose-crested Blue Pipit\",\"Rose-crested Blue Pipit\",\"Rose-crested Blue Pipit\",\"Rose-crested Blue Pipit\",\"Rose-crested Blue Pipit\",\"Rose-crested Blue Pipit\",\"Rose-crested Blue Pipit\",\"Rose-crested Blue Pipit\",\"Rose-crested Blue Pipit\",\"Rose-crested Blue Pipit\",\"Rose-crested Blue Pipit\",\"Rose-crested Blue Pipit\",\"Rose-crested Blue Pipit\",\"Rose-crested Blue Pipit\",\"Rose-crested Blue Pipit\",\"Rose-crested Blue Pipit\",\"Rose-crested Blue Pipit\",\"Rose-crested Blue Pipit\",\"Rose-crested Blue Pipit\",\"Rose-crested Blue Pipit\",\"Rose-crested Blue Pipit\",\"Rose-crested Blue Pipit\",\"Rose-crested Blue Pipit\",\"Rose-crested Blue Pipit\",\"Rose-crested Blue Pipit\",\"Rose-crested Blue Pipit\",\"Rose-crested Blue Pipit\",\"Rose-crested Blue Pipit\",\"Rose-crested Blue Pipit\",\"Rose-crested Blue Pipit\",\"Rose-crested Blue Pipit\",\"Rose-crested Blue Pipit\",\"Rose-crested Blue Pipit\",\"Rose-crested Blue Pipit\",\"Rose-crested Blue Pipit\",\"Rose-crested Blue Pipit\",\"Rose-crested Blue Pipit\",\"Rose-crested Blue Pipit\",\"Rose-crested Blue Pipit\",\"Rose-crested Blue Pipit\",\"Rose-crested Blue Pipit\",\"Rose-crested Blue Pipit\",\"Rose-crested Blue Pipit\",\"Rose-crested Blue Pipit\",\"Rose-crested Blue Pipit\",\"Rose-crested Blue Pipit\",\"Rose-crested Blue Pipit\",\"Rose-crested Blue Pipit\",\"Rose-crested Blue Pipit\",\"Rose-crested Blue Pipit\",\"Rose-crested Blue Pipit\",\"Rose-crested Blue Pipit\",\"Rose-crested Blue Pipit\",\"Rose-crested Blue Pipit\",\"Rose-crested Blue Pipit\",\"Rose-crested Blue Pipit\",\"Rose-crested Blue Pipit\",\"Rose-crested Blue Pipit\",\"Rose-crested Blue Pipit\",\"Rose-crested Blue Pipit\",\"Rose-crested Blue Pipit\",\"Rose-crested Blue Pipit\",\"Rose-crested Blue Pipit\",\"Rose-crested Blue Pipit\",\"Rose-crested Blue Pipit\",\"Rose-crested Blue Pipit\",\"Rose-crested Blue Pipit\",\"Rose-crested Blue Pipit\",\"Rose-crested Blue Pipit\",\"Rose-crested Blue Pipit\",\"Rose-crested Blue Pipit\",\"Rose-crested Blue Pipit\",\"Rose-crested Blue Pipit\",\"Rose-crested Blue Pipit\",\"Rose-crested Blue Pipit\",\"Rose-crested Blue Pipit\",\"Rose-crested Blue Pipit\",\"Rose-crested Blue Pipit\",\"Rose-crested Blue Pipit\",\"Rose-crested Blue Pipit\",\"Rose-crested Blue Pipit\",\"Rose-crested Blue Pipit\",\"Rose-crested Blue Pipit\",\"Rose-crested Blue Pipit\",\"Rose-crested Blue Pipit\",\"Rose-crested Blue Pipit\",\"Rose-crested Blue Pipit\",\"Rose-crested Blue Pipit\",\"Rose-crested Blue Pipit\",\"Rose-crested Blue Pipit\",\"Rose-crested Blue Pipit\",\"Rose-crested Blue Pipit\",\"Rose-crested Blue Pipit\",\"Rose-crested Blue Pipit\",\"Rose-crested Blue Pipit\",\"Rose-crested Blue Pipit\",\"Rose-crested Blue Pipit\",\"Rose-crested Blue Pipit\",\"Rose-crested Blue Pipit\",\"Rose-crested Blue Pipit\",\"Rose-crested Blue Pipit\",\"Rose-crested Blue Pipit\",\"Rose-crested Blue Pipit\",\"Rose-crested Blue Pipit\",\"Rose-crested Blue Pipit\",\"Rose-crested Blue Pipit\",\"Rose-crested Blue Pipit\",\"Rose-crested Blue Pipit\",\"Rose-crested Blue Pipit\",\"Rose-crested Blue Pipit\",\"Rose-crested Blue Pipit\",\"Rose-crested Blue Pipit\",\"Rose-crested Blue Pipit\",\"Rose-crested Blue Pipit\",\"Rose-crested Blue Pipit\",\"Rose-crested Blue Pipit\",\"Rose-crested Blue Pipit\",\"Rose-crested Blue Pipit\",\"Rose-crested Blue Pipit\",\"Rose-crested Blue Pipit\",\"Rose-crested Blue Pipit\",\"Rose-crested Blue Pipit\",\"Rose-crested Blue Pipit\",\"Rose-crested Blue Pipit\",\"Rose-crested Blue Pipit\",\"Rose-crested Blue Pipit\"],\"x\":{\"__ndarray__\":\"dYFDQBV8oECcmABA0KKcQN6NFEDta7FAqKoOQGiIWUD2dqRAq8hMQII9oUAqDZw9hBpqQD4fZ0BNGItA3mavQNl/nkBtVrxABiajQDC2OsB28aRAdwfHQMEKGkC/w65AwzWJPzVblT9rloBAr0yVQP7Kh0BbPlVA+aKpQGJoN0Bq/xlA/kqyQKdyVEBIEERAyL1HQGpmqsA17a1AMKhhQKrAY0C2gW1Ab7Q4QMFXbr0TXl/AjnJvQHE3s0DN63RA7Kw3QK4yjT9rl6lA1tKNQEreZkCmYWJA9MPNP1XGWUC/UIRAgI1IQOEWM0Ad/VhAll61QLMoUUApjR5Ay5UsQBAGXUBr8khA+t9cQM6cvkAQRlNAvRFkQKl8YkBbdHFAafFmQFeMCkAMxEJAqYb8P4uzokBSOqRAYQxeQMKbfkCSCxNAayOJQBDOnT8LuwRAod9KQI4mh0BZFIlA89DPP9sUqkBmE9a/eBBTQAzFmEBSFdQ+5KoZQHfIH0Bx7BxAV3y+QB9woUCt8GVA2q5bQLw8HkCS65NArLWGQEjjm0CHp+k/eSSwQJ2irEAksqJACiaGQIhXMkD5fWpArou2P4zQqEAy+D1AetnZP9JvlkBXzylAlVgaQMu0TUAehZlA7iZUQEm+c0DNvhdAjtGxQGf7fkDrknZAptgBQFAJWkANX2NA9Ty6Py3iC0D1vNs/H+KZQNehvD9sqpq/H08kP59BoUBjFvU/yxmgQHctHkAubaNAFCQiQJLPSEBDNYBA4ZvmP+9Qg0Bd6NY/52+DQGWH4L4hjJQ/DNgMQM7EUUC4zq5A0s6JP214pb/0Y0hAWZRPP4nZlEA7iTNAaYDxP5X2xT9KKAdAXu9mQBZtFkDL0KFAR6GaQFRDPkBLwTzAHO5OQPpSi799fGVA/Q+HQP2pxr1C/ylA5BQdwHi+HcCnJmNAOP+DQKKU3r9xrwbAULHBv1+JJkAThNG/8+0EQH26gMAO3wPA\",\"dtype\":\"float32\",\"shape\":[186]},\"y\":{\"__ndarray__\":\"gufUP9NwYj5sxCk95sCpPwZAqL9rGbc/JvvJvyEmC78a+Kw+ZD/IP/kTuT+uMR/A7scnP06gSD/0BgVAxg33PyD0pz/sdiI/cNIeQBrZjb7NXSVA/ApDQLsxOD7lOzc/GlcawCF0K8B/BBO+NBvlP0ezgj+KXTFAbxEiP1RrFcAfkNe/Ez2zPztAc7+8Nx/ApV4iwCcFpj/wDfo/QYJqP9BMFj9OS7U/tNPivyWrPsDW3TQ9kQF1PxDjwT/tLh9A6uWFv0vPMcA01eY97YR5P0pxPD/9kq0/cSbcvjJXdT+1tvo/7G7BP2JwWL+4rbU/WIe6P7we5j9GIY++QWGov+5GLT8gAJG/a2hNv0Kq4j9qAK0+YhJDP71ZRz/C/MW+V+avvjYmYj3SDrC/kUTPvo4jdD+s1Fc/0apSvk2r/D46T0e/ynj9PpDz1r63Kzy+W4nMP61owj4O3pc/p9KOv/5WLz7dYXpAFHmrPwy0jT9H4Xi/hswAPk8gKr4IzZg+FaagPsElmz6A5gs/xZhAPxNk6b8yniY/CsSHP6xUvj/aLDK/b3PNP6JMPz8fgPU/PolKQNhjC8CX2NA/PYISwHaU1bwvag++80iyv1dbnz9znBrA8xZBPiHdHcAhb+s+5Q/aPyMwGkCy+Nq/I9a1P7QgrDx9Pjc/FAqkPhhVGECcPGs/VsZGwLHHxr9n1yu9Wo4yQNiDyL5ccD9AlO4twJPvfT9hotS/+L26P4t/8r/HpJw/KC/yv3MpcD8k6L4+o3mqvbodkT8L2zDA4GAIQLugdL+A9mK/7yWqPSwWTUCxrQ9ARuJRv53yS0AuwlRAZjo4wF6pgT9OoPe/SwRVwP8fNcCC6gq/vgyhPuIMQ78VtXw/+uiKP0aj9L+5lkpAkn2xP/Pk5L83Ijk/a7mIP4hikL/6yhO9waoKQH9nAUDYuDE/U51BQDccTUD7Hpu/GweGQP4NrL2/PJRANjQJPlxpoz8uFhlA\",\"dtype\":\"float32\",\"shape\":[186]}},\"selected\":{\"id\":\"8f748a83-41ad-43f8-b4e5-9fe251991772\",\"type\":\"Selection\"},\"selection_policy\":{\"id\":\"d81afc12-3e7a-4234-ba7f-436030406f7f\",\"type\":\"UnionRenderers\"}},\"id\":\"bb51d650-04de-4dd0-8d3f-9e8689d05f79\",\"type\":\"ColumnDataSource\"},{\"attributes\":{\"fill_alpha\":{\"value\":0.6},\"fill_color\":{\"field\":\"specie\",\"transform\":{\"id\":\"7fce4134-8958-4190-a01d-8079d6ae9cf6\",\"type\":\"CategoricalColorMapper\"}},\"line_alpha\":{\"value\":0.6},\"line_color\":{\"field\":\"specie\",\"transform\":{\"id\":\"7fce4134-8958-4190-a01d-8079d6ae9cf6\",\"type\":\"CategoricalColorMapper\"}},\"size\":{\"units\":\"screen\",\"value\":5},\"x\":{\"field\":\"x\"},\"y\":{\"field\":\"y\"}},\"id\":\"332de627-9c4c-4624-bdba-017701ec7b9e\",\"type\":\"Circle\"},{\"attributes\":{\"fill_alpha\":{\"value\":0.1},\"fill_color\":{\"field\":\"specie\",\"transform\":{\"id\":\"7fce4134-8958-4190-a01d-8079d6ae9cf6\",\"type\":\"CategoricalColorMapper\"}},\"line_alpha\":{\"value\":0.1},\"line_color\":{\"field\":\"specie\",\"transform\":{\"id\":\"7fce4134-8958-4190-a01d-8079d6ae9cf6\",\"type\":\"CategoricalColorMapper\"}},\"size\":{\"units\":\"screen\",\"value\":5},\"x\":{\"field\":\"x\"},\"y\":{\"field\":\"y\"}},\"id\":\"5dc2bc53-4d46-423d-b2e5-c237fd0b6eb8\",\"type\":\"Circle\"},{\"attributes\":{\"fill_alpha\":{\"value\":0.6},\"fill_color\":{\"field\":\"specie\",\"transform\":{\"id\":\"7fce4134-8958-4190-a01d-8079d6ae9cf6\",\"type\":\"CategoricalColorMapper\"}},\"line_alpha\":{\"value\":0.6},\"line_color\":{\"field\":\"specie\",\"transform\":{\"id\":\"7fce4134-8958-4190-a01d-8079d6ae9cf6\",\"type\":\"CategoricalColorMapper\"}},\"size\":{\"units\":\"screen\",\"value\":5},\"x\":{\"field\":\"x\"},\"y\":{\"field\":\"y\"}},\"id\":\"ae414fbf-44d0-47c1-8f0f-453d7761eeed\",\"type\":\"Circle\"},{\"attributes\":{\"data_source\":{\"id\":\"36abac46-71b7-417d-8b0a-3d540d3f5bf2\",\"type\":\"ColumnDataSource\"},\"glyph\":{\"id\":\"66fd3858-b86f-46ff-a32d-e3a89b6461c1\",\"type\":\"Circle\"},\"hover_glyph\":null,\"muted\":true,\"muted_glyph\":{\"id\":\"5dc2bc53-4d46-423d-b2e5-c237fd0b6eb8\",\"type\":\"Circle\"},\"nonselection_glyph\":{\"id\":\"2e2604cc-3213-40f8-af19-a07cf5b58626\",\"type\":\"Circle\"},\"selection_glyph\":null,\"view\":{\"id\":\"0b93a316-6e7d-48c0-8c2c-fab954ceb4a3\",\"type\":\"CDSView\"}},\"id\":\"c15eb22d-e3e3-4f4f-b9cb-e165be3ebff2\",\"type\":\"GlyphRenderer\"},{\"attributes\":{\"click_policy\":\"hide\",\"items\":[{\"id\":\"0ebbb57e-bd42-47fa-8e16-8e0384e94a5a\",\"type\":\"LegendItem\"},{\"id\":\"1af28669-355a-4f68-8fe3-73c73c290230\",\"type\":\"LegendItem\"},{\"id\":\"f88ab8c4-4184-4624-8b87-497e66ae45ed\",\"type\":\"LegendItem\"},{\"id\":\"c93e8a89-b630-4b18-b413-08ed5e789d59\",\"type\":\"LegendItem\"},{\"id\":\"1b67f7e8-ea7d-45f1-b268-81acb82c91e2\",\"type\":\"LegendItem\"},{\"id\":\"ca39938b-ea0e-411e-a244-75d394fc9bdd\",\"type\":\"LegendItem\"},{\"id\":\"7482ad91-ed8b-4bfa-8b46-fec187acf73f\",\"type\":\"LegendItem\"},{\"id\":\"6428bead-9f3f-4c0b-ae75-ef25f2b48b46\",\"type\":\"LegendItem\"},{\"id\":\"dbb7e639-3236-4027-97d5-668862be1ad7\",\"type\":\"LegendItem\"},{\"id\":\"d32cc24e-7112-4e5e-ab26-479e21903cff\",\"type\":\"LegendItem\"},{\"id\":\"31d5d85d-ea1c-403f-9953-f3089b030e5c\",\"type\":\"LegendItem\"},{\"id\":\"c047b573-fd50-49be-a221-f075fdff3796\",\"type\":\"LegendItem\"},{\"id\":\"357c8273-5421-41f1-b2e2-f8ea2a6d7c56\",\"type\":\"LegendItem\"},{\"id\":\"10f10ace-441c-4a10-8660-d0bf5ffad1f8\",\"type\":\"LegendItem\"},{\"id\":\"8ed22922-11fc-46d1-b28a-0945955da415\",\"type\":\"LegendItem\"},{\"id\":\"1f025fd0-fda5-4035-b566-a229655a29af\",\"type\":\"LegendItem\"},{\"id\":\"178bac63-1933-4e5e-856f-aade9f173f0b\",\"type\":\"LegendItem\"},{\"id\":\"54cda899-7cbc-4ab4-a4d0-40477245c28a\",\"type\":\"LegendItem\"},{\"id\":\"d6a910be-c72c-47a2-a31f-cb418e13b19b\",\"type\":\"LegendItem\"},{\"id\":\"c0ed47a5-6498-4c10-8f1b-4ff04f9d384b\",\"type\":\"LegendItem\"}],\"location\":[30,50],\"plot\":{\"id\":\"7dead913-c2e4-43ad-a3ff-e4408da95dad\",\"subtype\":\"Figure\",\"type\":\"Plot\"}},\"id\":\"c7a3355a-a880-4037-8699-8b3fe20e2ef6\",\"type\":\"Legend\"},{\"attributes\":{\"fill_alpha\":{\"value\":0.6},\"fill_color\":{\"field\":\"specie\",\"transform\":{\"id\":\"7fce4134-8958-4190-a01d-8079d6ae9cf6\",\"type\":\"CategoricalColorMapper\"}},\"line_alpha\":{\"value\":0.6},\"line_color\":{\"field\":\"specie\",\"transform\":{\"id\":\"7fce4134-8958-4190-a01d-8079d6ae9cf6\",\"type\":\"CategoricalColorMapper\"}},\"size\":{\"units\":\"screen\",\"value\":5},\"x\":{\"field\":\"x\"},\"y\":{\"field\":\"y\"}},\"id\":\"566de034-c3f2-47b6-8907-4af05cf5853e\",\"type\":\"Circle\"},{\"attributes\":{\"formatter\":{\"id\":\"79068af9-1ed7-4df6-95e4-b98168edf588\",\"type\":\"BasicTickFormatter\"},\"plot\":{\"id\":\"7dead913-c2e4-43ad-a3ff-e4408da95dad\",\"subtype\":\"Figure\",\"type\":\"Plot\"},\"ticker\":{\"id\":\"0dcbf40f-38f6-4014-b550-bed9f6b4854f\",\"type\":\"BasicTicker\"}},\"id\":\"bbafa7ed-240d-487b-9c5e-6a098192973e\",\"type\":\"LinearAxis\"},{\"attributes\":{\"fill_alpha\":{\"value\":0.1},\"fill_color\":{\"value\":\"#1f77b4\"},\"line_alpha\":{\"value\":0.1},\"line_color\":{\"value\":\"#1f77b4\"},\"size\":{\"units\":\"screen\",\"value\":5},\"x\":{\"field\":\"x\"},\"y\":{\"field\":\"y\"}},\"id\":\"194e91c2-d442-4139-a43d-2c026b474e17\",\"type\":\"Circle\"},{\"attributes\":{\"source\":{\"id\":\"cc8e6f97-8a68-48d1-b259-f387e93f9feb\",\"type\":\"ColumnDataSource\"}},\"id\":\"86c2c145-5426-48e4-a7e6-c41aa1548abf\",\"type\":\"CDSView\"},{\"attributes\":{\"fill_alpha\":{\"value\":0.1},\"fill_color\":{\"value\":\"#1f77b4\"},\"line_alpha\":{\"value\":0.1},\"line_color\":{\"value\":\"#1f77b4\"},\"size\":{\"units\":\"screen\",\"value\":5},\"x\":{\"field\":\"x\"},\"y\":{\"field\":\"y\"}},\"id\":\"e2f7a285-de18-421c-8a82-2a6d1d919106\",\"type\":\"Circle\"},{\"attributes\":{\"fill_alpha\":{\"value\":0.1},\"fill_color\":{\"field\":\"specie\",\"transform\":{\"id\":\"7fce4134-8958-4190-a01d-8079d6ae9cf6\",\"type\":\"CategoricalColorMapper\"}},\"line_alpha\":{\"value\":0.1},\"line_color\":{\"field\":\"specie\",\"transform\":{\"id\":\"7fce4134-8958-4190-a01d-8079d6ae9cf6\",\"type\":\"CategoricalColorMapper\"}},\"size\":{\"units\":\"screen\",\"value\":5},\"x\":{\"field\":\"x\"},\"y\":{\"field\":\"y\"}},\"id\":\"8117e40e-3a24-426d-a6e2-6c4991c183a5\",\"type\":\"Circle\"},{\"attributes\":{\"fill_alpha\":{\"value\":0.1},\"fill_color\":{\"field\":\"specie\",\"transform\":{\"id\":\"7fce4134-8958-4190-a01d-8079d6ae9cf6\",\"type\":\"CategoricalColorMapper\"}},\"line_alpha\":{\"value\":0.1},\"line_color\":{\"field\":\"specie\",\"transform\":{\"id\":\"7fce4134-8958-4190-a01d-8079d6ae9cf6\",\"type\":\"CategoricalColorMapper\"}},\"size\":{\"units\":\"screen\",\"value\":5},\"x\":{\"field\":\"x\"},\"y\":{\"field\":\"y\"}},\"id\":\"dc6c83c2-6243-4160-b23a-4bd8d68905a7\",\"type\":\"Circle\"},{\"attributes\":{\"text\":{\"field\":\"kasios_index\"},\"text_alpha\":{\"value\":0.1},\"text_color\":{\"value\":\"black\"},\"text_font_size\":{\"value\":\"10pt\"},\"x\":{\"field\":\"x\"},\"x_offset\":{\"value\":-5},\"y\":{\"field\":\"y\"},\"y_offset\":{\"value\":8}},\"id\":\"acfd0bed-1bae-4b17-8084-7088090e11b4\",\"type\":\"Text\"},{\"attributes\":{\"callback\":null,\"data\":{\"index\":[669,670,671,672,673,674,675,676,677,678,679,680,681,682,683,684,685,686,687,688,689,690,691,692,693,694,695,696,697,698,699,700,701,702,703,704,705,706,707,708,709,710,711,712,713,714,715,716,717,718,719,720,721,722,723,724,725,726,727,728,729,730,731,732,733,734,735,736,737,738,739,740,741,742,743,744,745,746,747,748,749,750,751,752,753,754],\"kasios_index\":{\"__ndarray__\":\"AAAAAAAA+H8AAAAAAAD4fwAAAAAAAPh/AAAAAAAA+H8AAAAAAAD4fwAAAAAAAPh/AAAAAAAA+H8AAAAAAAD4fwAAAAAAAPh/AAAAAAAA+H8AAAAAAAD4fwAAAAAAAPh/AAAAAAAA+H8AAAAAAAD4fwAAAAAAAPh/AAAAAAAA+H8AAAAAAAD4fwAAAAAAAPh/AAAAAAAA+H8AAAAAAAD4fwAAAAAAAPh/AAAAAAAA+H8AAAAAAAD4fwAAAAAAAPh/AAAAAAAA+H8AAAAAAAD4fwAAAAAAAPh/AAAAAAAA+H8AAAAAAAD4fwAAAAAAAPh/AAAAAAAA+H8AAAAAAAD4fwAAAAAAAPh/AAAAAAAA+H8AAAAAAAD4fwAAAAAAAPh/AAAAAAAA+H8AAAAAAAD4fwAAAAAAAPh/AAAAAAAA+H8AAAAAAAD4fwAAAAAAAPh/AAAAAAAA+H8AAAAAAAD4fwAAAAAAAPh/AAAAAAAA+H8AAAAAAAD4fwAAAAAAAPh/AAAAAAAA+H8AAAAAAAD4fwAAAAAAAPh/AAAAAAAA+H8AAAAAAAD4fwAAAAAAAPh/AAAAAAAA+H8AAAAAAAD4fwAAAAAAAPh/AAAAAAAA+H8AAAAAAAD4fwAAAAAAAPh/AAAAAAAA+H8AAAAAAAD4fwAAAAAAAPh/AAAAAAAA+H8AAAAAAAD4fwAAAAAAAPh/AAAAAAAA+H8AAAAAAAD4fwAAAAAAAPh/AAAAAAAA+H8AAAAAAAD4fwAAAAAAAPh/AAAAAAAA+H8AAAAAAAD4fwAAAAAAAPh/AAAAAAAA+H8AAAAAAAD4fwAAAAAAAPh/AAAAAAAA+H8AAAAAAAD4fwAAAAAAAPh/AAAAAAAA+H8AAAAAAAD4fwAAAAAAAPh/AAAAAAAA+H8AAAAAAAD4fw==\",\"dtype\":\"float64\",\"shape\":[86]},\"specie\":[\"Darkwing Sparrow\",\"Darkwing Sparrow\",\"Darkwing Sparrow\",\"Darkwing Sparrow\",\"Darkwing Sparrow\",\"Darkwing Sparrow\",\"Darkwing Sparrow\",\"Darkwing Sparrow\",\"Darkwing Sparrow\",\"Darkwing Sparrow\",\"Darkwing Sparrow\",\"Darkwing Sparrow\",\"Darkwing Sparrow\",\"Darkwing Sparrow\",\"Darkwing Sparrow\",\"Darkwing Sparrow\",\"Darkwing Sparrow\",\"Darkwing Sparrow\",\"Darkwing Sparrow\",\"Darkwing Sparrow\",\"Darkwing Sparrow\",\"Darkwing Sparrow\",\"Darkwing Sparrow\",\"Darkwing Sparrow\",\"Darkwing Sparrow\",\"Darkwing Sparrow\",\"Darkwing Sparrow\",\"Darkwing Sparrow\",\"Darkwing Sparrow\",\"Darkwing Sparrow\",\"Darkwing Sparrow\",\"Darkwing Sparrow\",\"Darkwing Sparrow\",\"Darkwing Sparrow\",\"Darkwing Sparrow\",\"Darkwing Sparrow\",\"Darkwing Sparrow\",\"Darkwing Sparrow\",\"Darkwing Sparrow\",\"Darkwing Sparrow\",\"Darkwing Sparrow\",\"Darkwing Sparrow\",\"Darkwing Sparrow\",\"Darkwing Sparrow\",\"Darkwing Sparrow\",\"Darkwing Sparrow\",\"Darkwing Sparrow\",\"Darkwing Sparrow\",\"Darkwing Sparrow\",\"Darkwing Sparrow\",\"Darkwing Sparrow\",\"Darkwing Sparrow\",\"Darkwing Sparrow\",\"Darkwing Sparrow\",\"Darkwing Sparrow\",\"Darkwing Sparrow\",\"Darkwing Sparrow\",\"Darkwing Sparrow\",\"Darkwing Sparrow\",\"Darkwing Sparrow\",\"Darkwing Sparrow\",\"Darkwing Sparrow\",\"Darkwing Sparrow\",\"Darkwing Sparrow\",\"Darkwing Sparrow\",\"Darkwing Sparrow\",\"Darkwing Sparrow\",\"Darkwing Sparrow\",\"Darkwing Sparrow\",\"Darkwing Sparrow\",\"Darkwing Sparrow\",\"Darkwing Sparrow\",\"Darkwing Sparrow\",\"Darkwing Sparrow\",\"Darkwing Sparrow\",\"Darkwing Sparrow\",\"Darkwing Sparrow\",\"Darkwing Sparrow\",\"Darkwing Sparrow\",\"Darkwing Sparrow\",\"Darkwing Sparrow\",\"Darkwing Sparrow\",\"Darkwing Sparrow\",\"Darkwing Sparrow\",\"Darkwing Sparrow\",\"Darkwing Sparrow\"],\"x\":{\"__ndarray__\":\"H4D5P132d0AldtK/SD+yQCxWrr9pFXNAhAWUwJCov78wVMO/LsfLv0myD8BdlNq/zys1wDZOFsD4GP6/5Q04PIN3lUCWSYE/hSMPwIWG5j7BzpHAT3cBwMdR4L9V5ZE/GulqwIMEE0BZ+n+/56guwAnm578P+OI/T9KwvmO1kj8OlRvAeNvUvjpROUCWOwfAjiilvysHWUAYnbO9VwzWvc8XpEBtAwi/f/kzwOEYMUDoXcy/B7QlwLximL8bRWPAyXEawCKw7L/EHgjA12Puv1KTxb8VoA3AJw7Uv5G/K8DiIjK/jcH4PvSqhcCCuRZAmzr0P3PkF8CCXIY+OP3KPSZq0b9pXMC/VvrHv8dD8D9Yc6k/UFvkPw1qrb+Qt+a/nw8HwNg+FcBVsrC/8yuUwHhXD8AV153A9YLQv39MSr/tWFNANv5JQDkdxbyA5UO/y8YDvtHPv78=\",\"dtype\":\"float32\",\"shape\":[86]},\"y\":{\"__ndarray__\":\"Zos4wHx8br4AsUjAJpViP7njPsCcrrQ+1jN3PnyEQsCu7EnAochKwDc8tb/i6UXAzc+dvwIPwr5ljLu/Q4ZFwKwlnD+xT7u/fy6zvdF9NsA4GkI91EK4v83bQ8ChsN2/9weRv00WFMBiA0TAnKMZP9m6g78g3e6/bYMxwKcyJb9Bz5i/6qE8wBKVCMD1e6+/uX0owJCjXD/SgEjAAJM2wCXVbD9DZF+/DrZdQFMQQb+qqj/AJclkvw7zXr9X//++TheOv0Srwb+5/rK/6J1DwAbZScDhw86/luJIwJeZFL61B0fAE9s+wAiwmb6yE3bAia0CwIaGqr3YEzfAaMBGwMTLWEDl1hbAsiRIwNy4OMDXdxzAuTE+wMZ2QsBFCULA9eq2vw8ykb/0iUjAuzofPrPj0b8y7gpA+2lJwIEWRsCTTlS/pSe2v96zNcBNqUTAJFNHwMcoQ8A=\",\"dtype\":\"float32\",\"shape\":[86]}},\"selected\":{\"id\":\"41c42dca-5c43-4cf5-a680-fef1e14cff6f\",\"type\":\"Selection\"},\"selection_policy\":{\"id\":\"dcdeccf9-42e5-4427-af54-9bfd8cb59167\",\"type\":\"UnionRenderers\"}},\"id\":\"c373aea9-6c45-4688-a357-536b3372d06d\",\"type\":\"ColumnDataSource\"},{\"attributes\":{\"callback\":null,\"renderers\":\"auto\",\"tooltips\":\"\\n<div>\\n    <div>\\n        <span style='font-size: 13px; color: #224499'>Specie:</span>\\n        <span style='font-size: 13px'>@specie</span>\\n    </div>\\n</div>\\n\"},\"id\":\"b8ddab51-2b27-4549-8254-53c1e099f6f7\",\"type\":\"HoverTool\"},{\"attributes\":{\"data_source\":{\"id\":\"7b478966-bea7-4771-b6c0-b9a402cb46d2\",\"type\":\"ColumnDataSource\"},\"glyph\":{\"id\":\"ee5fc0df-2a48-40ca-8c08-9376fe8f4fd5\",\"type\":\"Circle\"},\"hover_glyph\":null,\"muted\":true,\"muted_glyph\":{\"id\":\"1fd3867e-5ed7-4762-9e1b-d0475ebe93f9\",\"type\":\"Circle\"},\"nonselection_glyph\":{\"id\":\"355143e6-1175-42de-9507-06396f19e4bb\",\"type\":\"Circle\"},\"selection_glyph\":null,\"view\":{\"id\":\"e57b6b21-0c38-461c-a84c-9c2bcbe3dd33\",\"type\":\"CDSView\"}},\"id\":\"65d3f219-d5d3-49c1-ba2b-b8aa7a6d3592\",\"type\":\"GlyphRenderer\"},{\"attributes\":{},\"id\":\"a9f7c65d-4d52-4af2-84cd-78a775313f8e\",\"type\":\"BasicTicker\"},{\"attributes\":{\"fill_alpha\":{\"value\":0.1},\"fill_color\":{\"value\":\"#1f77b4\"},\"line_alpha\":{\"value\":0.1},\"line_color\":{\"value\":\"#1f77b4\"},\"size\":{\"units\":\"screen\",\"value\":5},\"x\":{\"field\":\"x\"},\"y\":{\"field\":\"y\"}},\"id\":\"c82620e4-9e9b-494a-bb92-0a6b155d7131\",\"type\":\"Circle\"},{\"attributes\":{\"source\":{\"id\":\"1577d4d7-e7db-4001-92a6-1d29250f6bae\",\"type\":\"ColumnDataSource\"}},\"id\":\"ff069c99-721b-4c62-95d0-5b0a8e73518c\",\"type\":\"CDSView\"},{\"attributes\":{\"callback\":null,\"data\":{\"index\":[843,844,845,846,847,848,849,850,851,852,853,854,855,856,857,858,859,860,861,862,863,864,865,866,867,868,869,870,871,872,873,874,875,876,877,878,879,880,881,882,883,884,885,886,887,888,889,890,891,892,893,894,895,896,897,898,899,900,901,902,903,904,905,906,907,908,909,910,911,912,913,914,915,916,917,918,919,920,921,922,923,924,925,926,927,928,929],\"kasios_index\":{\"__ndarray__\":\"AAAAAAAA+H8AAAAAAAD4fwAAAAAAAPh/AAAAAAAA+H8AAAAAAAD4fwAAAAAAAPh/AAAAAAAA+H8AAAAAAAD4fwAAAAAAAPh/AAAAAAAA+H8AAAAAAAD4fwAAAAAAAPh/AAAAAAAA+H8AAAAAAAD4fwAAAAAAAPh/AAAAAAAA+H8AAAAAAAD4fwAAAAAAAPh/AAAAAAAA+H8AAAAAAAD4fwAAAAAAAPh/AAAAAAAA+H8AAAAAAAD4fwAAAAAAAPh/AAAAAAAA+H8AAAAAAAD4fwAAAAAAAPh/AAAAAAAA+H8AAAAAAAD4fwAAAAAAAPh/AAAAAAAA+H8AAAAAAAD4fwAAAAAAAPh/AAAAAAAA+H8AAAAAAAD4fwAAAAAAAPh/AAAAAAAA+H8AAAAAAAD4fwAAAAAAAPh/AAAAAAAA+H8AAAAAAAD4fwAAAAAAAPh/AAAAAAAA+H8AAAAAAAD4fwAAAAAAAPh/AAAAAAAA+H8AAAAAAAD4fwAAAAAAAPh/AAAAAAAA+H8AAAAAAAD4fwAAAAAAAPh/AAAAAAAA+H8AAAAAAAD4fwAAAAAAAPh/AAAAAAAA+H8AAAAAAAD4fwAAAAAAAPh/AAAAAAAA+H8AAAAAAAD4fwAAAAAAAPh/AAAAAAAA+H8AAAAAAAD4fwAAAAAAAPh/AAAAAAAA+H8AAAAAAAD4fwAAAAAAAPh/AAAAAAAA+H8AAAAAAAD4fwAAAAAAAPh/AAAAAAAA+H8AAAAAAAD4fwAAAAAAAPh/AAAAAAAA+H8AAAAAAAD4fwAAAAAAAPh/AAAAAAAA+H8AAAAAAAD4fwAAAAAAAPh/AAAAAAAA+H8AAAAAAAD4fwAAAAAAAPh/AAAAAAAA+H8AAAAAAAD4fwAAAAAAAPh/AAAAAAAA+H8AAAAAAAD4fwAAAAAAAPh/\",\"dtype\":\"float64\",\"shape\":[87]},\"specie\":[\"Green-tipped Scarlet Pipit\",\"Green-tipped Scarlet Pipit\",\"Green-tipped Scarlet Pipit\",\"Green-tipped Scarlet Pipit\",\"Green-tipped Scarlet Pipit\",\"Green-tipped Scarlet Pipit\",\"Green-tipped Scarlet Pipit\",\"Green-tipped Scarlet Pipit\",\"Green-tipped Scarlet Pipit\",\"Green-tipped Scarlet Pipit\",\"Green-tipped Scarlet Pipit\",\"Green-tipped Scarlet Pipit\",\"Green-tipped Scarlet Pipit\",\"Green-tipped Scarlet Pipit\",\"Green-tipped Scarlet Pipit\",\"Green-tipped Scarlet Pipit\",\"Green-tipped Scarlet Pipit\",\"Green-tipped Scarlet Pipit\",\"Green-tipped Scarlet Pipit\",\"Green-tipped Scarlet Pipit\",\"Green-tipped Scarlet Pipit\",\"Green-tipped Scarlet Pipit\",\"Green-tipped Scarlet Pipit\",\"Green-tipped Scarlet Pipit\",\"Green-tipped Scarlet Pipit\",\"Green-tipped Scarlet Pipit\",\"Green-tipped Scarlet Pipit\",\"Green-tipped Scarlet Pipit\",\"Green-tipped Scarlet Pipit\",\"Green-tipped Scarlet Pipit\",\"Green-tipped Scarlet Pipit\",\"Green-tipped Scarlet Pipit\",\"Green-tipped Scarlet Pipit\",\"Green-tipped Scarlet Pipit\",\"Green-tipped Scarlet Pipit\",\"Green-tipped Scarlet Pipit\",\"Green-tipped Scarlet Pipit\",\"Green-tipped Scarlet Pipit\",\"Green-tipped Scarlet Pipit\",\"Green-tipped Scarlet Pipit\",\"Green-tipped Scarlet Pipit\",\"Green-tipped Scarlet Pipit\",\"Green-tipped Scarlet Pipit\",\"Green-tipped Scarlet Pipit\",\"Green-tipped Scarlet Pipit\",\"Green-tipped Scarlet Pipit\",\"Green-tipped Scarlet Pipit\",\"Green-tipped Scarlet Pipit\",\"Green-tipped Scarlet Pipit\",\"Green-tipped Scarlet Pipit\",\"Green-tipped Scarlet Pipit\",\"Green-tipped Scarlet Pipit\",\"Green-tipped Scarlet Pipit\",\"Green-tipped Scarlet Pipit\",\"Green-tipped Scarlet Pipit\",\"Green-tipped Scarlet Pipit\",\"Green-tipped Scarlet Pipit\",\"Green-tipped Scarlet Pipit\",\"Green-tipped Scarlet Pipit\",\"Green-tipped Scarlet Pipit\",\"Green-tipped Scarlet Pipit\",\"Green-tipped Scarlet Pipit\",\"Green-tipped Scarlet Pipit\",\"Green-tipped Scarlet Pipit\",\"Green-tipped Scarlet Pipit\",\"Green-tipped Scarlet Pipit\",\"Green-tipped Scarlet Pipit\",\"Green-tipped Scarlet Pipit\",\"Green-tipped Scarlet Pipit\",\"Green-tipped Scarlet Pipit\",\"Green-tipped Scarlet Pipit\",\"Green-tipped Scarlet Pipit\",\"Green-tipped Scarlet Pipit\",\"Green-tipped Scarlet Pipit\",\"Green-tipped Scarlet Pipit\",\"Green-tipped Scarlet Pipit\",\"Green-tipped Scarlet Pipit\",\"Green-tipped Scarlet Pipit\",\"Green-tipped Scarlet Pipit\",\"Green-tipped Scarlet Pipit\",\"Green-tipped Scarlet Pipit\",\"Green-tipped Scarlet Pipit\",\"Green-tipped Scarlet Pipit\",\"Green-tipped Scarlet Pipit\",\"Green-tipped Scarlet Pipit\",\"Green-tipped Scarlet Pipit\",\"Green-tipped Scarlet Pipit\"],\"x\":{\"__ndarray__\":\"m1qmv2nf+r90UTnATjWjvxqlL8D/6yy/QIpvv2ZnL8B1dNe/J5QdwN15nr8wcQ7Ab4pDwAyMMsCYN4i/B2eBv2gEU7/Uz3i/dkQnwLVnFMCriybADI4WwHzb2b9OqjHASAs6wJSEmr6kZeS/TD8vwBYwMsCfVbe/pNkpwJ+6RMDksivAV+dAwJ8nQMCoVb+/ffoxwHMY7L8u1AXAZ5S2vwdlK8BHxzq/tMk4wI5CJsByHQfAb+iYv9qpCsDkpdK+DAy/v8Z+O7/0kOm/LH4xwPn/lL/OLQPAhRx0wECVq781lFHABPqovxqQ879kvIq/zUNEwMgjTsAdnc+/DDD5v6J9jb+B8Yu/mx3dvxvV+7+PkTHALPo9wCn2fD/nBQnAXcciwB/Wsb+xSKY/wD0+wKGYWcBps0nAIs2Xv6MDQsABoT/ASV59v9WRJ8CnSETAPeH1v1q3nr9XugHA\",\"dtype\":\"float32\",\"shape\":[87]},\"y\":{\"__ndarray__\":\"JCxDv3JZ+L9wR/O/azzvvtNwAMBCUqW/iprlvyueEsCGZhLAxl/yv+RGZ79NSRnAjgPhvyYhEcCuMey/j3EWvxMTmr8zfe2/whsCwJjGEcBl1AjAxNERwHvEDMDS0fO/wT4AwDtg7b9zKzTAdU/iv6p/+r/JC++/vwuIv3OFm7+evfe/TEbJvzlKsL+twwzAK9Tqv6JyDcAuRQrAtyTnv7Fq8b8hYW6/DoIgv9QpP7/CtxbAWND7v1JjB8AEB+W/gAYKwLzQkL808wzADv/5vhaXJb+4TAfAat+HvzQnNkDkT+i/56UEvxUEFMDsUDa/HLgCwN4A679l7xrAl+IAwBAF+7/CD+2/l0sNwNHpAMCdawzALuH7v9DZm77Y3RfALAwCwPZjCb+pwne/dGAJwKXr57/Cou+/SCfLvtbYvL8vBcy/g0YVvyY3Xr83TP6/0DoOwKKj9b8xlQHA\",\"dtype\":\"float32\",\"shape\":[87]}},\"selected\":{\"id\":\"3d1614c1-02d8-4531-86b7-61671ce1637a\",\"type\":\"Selection\"},\"selection_policy\":{\"id\":\"6c8c00b7-2c11-4b06-81bf-bb00ffba27a0\",\"type\":\"UnionRenderers\"}},\"id\":\"36abac46-71b7-417d-8b0a-3d540d3f5bf2\",\"type\":\"ColumnDataSource\"}],\"root_ids\":[\"7dead913-c2e4-43ad-a3ff-e4408da95dad\"]},\"title\":\"Bokeh Application\",\"version\":\"0.13.0\"}};\n",
       "  var render_items = [{\"docid\":\"03b1e086-c078-499e-92b4-6743b614e742\",\"roots\":{\"7dead913-c2e4-43ad-a3ff-e4408da95dad\":\"bf418137-4648-4a70-a419-2d1a3f254b45\"}}];\n",
       "  root.Bokeh.embed.embed_items_notebook(docs_json, render_items);\n",
       "\n",
       "  }\n",
       "  if (root.Bokeh !== undefined) {\n",
       "    embed_document(root);\n",
       "  } else {\n",
       "    var attempts = 0;\n",
       "    var timer = setInterval(function(root) {\n",
       "      if (root.Bokeh !== undefined) {\n",
       "        embed_document(root);\n",
       "        clearInterval(timer);\n",
       "      }\n",
       "      attempts++;\n",
       "      if (attempts > 100) {\n",
       "        console.log(\"Bokeh: ERROR: Unable to run BokehJS code because BokehJS library is missing\")\n",
       "        clearInterval(timer);\n",
       "      }\n",
       "    }, 10, root)\n",
       "  }\n",
       "})(window);"
      ],
      "application/vnd.bokehjs_exec.v0+json": ""
     },
     "metadata": {
      "application/vnd.bokehjs_exec.v0+json": {
       "id": "7dead913-c2e4-43ad-a3ff-e4408da95dad"
      }
     },
     "output_type": "display_data"
    }
   ],
   "source": [
    "plot_figure = figure(\n",
    "    title='UMAP projection of the birds songs',\n",
    "    plot_width=800,\n",
    "    plot_height=600,\n",
    "    tools=('pan, wheel_zoom, reset'), \n",
    "    toolbar_location='above'\n",
    ")\n",
    "\n",
    "color_mapping = CategoricalColorMapper(factors=df_umap['specie'].unique(),\n",
    "                                       palette=Category20[20])\n",
    "\n",
    "plot_figure.add_tools(HoverTool(tooltips=\"\"\"\n",
    "<div>\n",
    "    <div>\n",
    "        <span style='font-size: 13px; color: #224499'>Specie:</span>\n",
    "        <span style='font-size: 13px'>@specie</span>\n",
    "    </div>\n",
    "</div>\n",
    "\"\"\"))\n",
    "\n",
    "legend_items = []\n",
    "\n",
    "for specie in df_umap['specie'].unique():\n",
    "\n",
    "    datasource = ColumnDataSource(df_umap.loc[df_umap['specie'] == specie])\n",
    "    if specie == 'Kasios Test Bird':\n",
    "        c = plot_figure.circle('x', 'y', source=datasource, color='black',\n",
    "                               line_alpha=0.7, fill_alpha=0.7, size=20)\n",
    "\n",
    "        plot_figure.text('x', 'y', text='kasios_index', x_offset=-5, y_offset=8,\n",
    "                         source=datasource, text_font_size='10pt', text_color='white')\n",
    "    else:\n",
    "        c = plot_figure.circle('x', 'y', source=datasource,\n",
    "                               color=dict(field='specie', transform=color_mapping),\n",
    "                               muted_color=dict(field='specie', transform=color_mapping),\n",
    "                               line_alpha=0.6, fill_alpha=0.6, size=5, muted_alpha=0.1)\n",
    "        \n",
    "    legend_items.append((specie, [c]))\n",
    "    if specie != 'Rose-crested Blue Pipit': \n",
    "        c.muted = True\n",
    "    \n",
    "legend = Legend(items=legend_items, location=(30, 50))\n",
    "legend.click_policy = 'hide'\n",
    "plot_figure.add_layout(legend, 'right')\n",
    "\n",
    "show(plot_figure)"
   ]
  }
 ],
 "metadata": {
  "kernelspec": {
   "display_name": "Python 3",
   "language": "python",
   "name": "python3"
  },
  "language_info": {
   "codemirror_mode": {
    "name": "ipython",
    "version": 3
   },
   "file_extension": ".py",
   "mimetype": "text/x-python",
   "name": "python",
   "nbconvert_exporter": "python",
   "pygments_lexer": "ipython3",
   "version": "3.7.0"
  },
  "toc": {
   "base_numbering": 1,
   "nav_menu": {},
   "number_sections": true,
   "sideBar": true,
   "skip_h1_title": true,
   "title_cell": "Table of Contents",
   "title_sidebar": "Contents",
   "toc_cell": false,
   "toc_position": {},
   "toc_section_display": true,
   "toc_window_display": false
  },
  "varInspector": {
   "cols": {
    "lenName": 16,
    "lenType": 16,
    "lenVar": 40
   },
   "kernels_config": {
    "python": {
     "delete_cmd_postfix": "",
     "delete_cmd_prefix": "del ",
     "library": "var_list.py",
     "varRefreshCmd": "print(var_dic_list())"
    },
    "r": {
     "delete_cmd_postfix": ") ",
     "delete_cmd_prefix": "rm(",
     "library": "var_list.r",
     "varRefreshCmd": "cat(var_dic_list()) "
    }
   },
   "types_to_exclude": [
    "module",
    "function",
    "builtin_function_or_method",
    "instance",
    "_Feature"
   ],
   "window_display": false
  }
 },
 "nbformat": 4,
 "nbformat_minor": 2
}
