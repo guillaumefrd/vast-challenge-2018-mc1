{
 "cells": [
  {
   "cell_type": "markdown",
   "metadata": {},
   "source": [
    "# Classification of the sound with Machine Learning and visualization"
   ]
  },
  {
   "cell_type": "markdown",
   "metadata": {
    "toc": true
   },
   "source": [
    "<h1>Table of Contents<span class=\"tocSkip\"></span></h1>\n",
    "<div class=\"toc\"><ul class=\"toc-item\"><li><span><a href=\"#Import-and-load-data\" data-toc-modified-id=\"Import-and-load-data-1\"><span class=\"toc-item-num\">1&nbsp;&nbsp;</span>Import and load data</a></span></li><li><span><a href=\"#I---Binary-classification\" data-toc-modified-id=\"I---Binary-classification-2\"><span class=\"toc-item-num\">2&nbsp;&nbsp;</span>I - Binary classification</a></span><ul class=\"toc-item\"><li><span><a href=\"#1)-k-Nearest-Neighbour-(k-NN)\" data-toc-modified-id=\"1)-k-Nearest-Neighbour-(k-NN)-2.1\"><span class=\"toc-item-num\">2.1&nbsp;&nbsp;</span>1) k Nearest Neighbour (k-NN)</a></span><ul class=\"toc-item\"><li><span><a href=\"#Fitting\" data-toc-modified-id=\"Fitting-2.1.1\"><span class=\"toc-item-num\">2.1.1&nbsp;&nbsp;</span>Fitting</a></span></li><li><span><a href=\"#Predicting\" data-toc-modified-id=\"Predicting-2.1.2\"><span class=\"toc-item-num\">2.1.2&nbsp;&nbsp;</span>Predicting</a></span></li></ul></li><li><span><a href=\"#2)--Support-Vector-Machine-(SVM)\" data-toc-modified-id=\"2)--Support-Vector-Machine-(SVM)-2.2\"><span class=\"toc-item-num\">2.2&nbsp;&nbsp;</span>2)  Support Vector Machine (SVM)</a></span><ul class=\"toc-item\"><li><span><a href=\"#Fitting\" data-toc-modified-id=\"Fitting-2.2.1\"><span class=\"toc-item-num\">2.2.1&nbsp;&nbsp;</span>Fitting</a></span></li><li><span><a href=\"#Predicting\" data-toc-modified-id=\"Predicting-2.2.2\"><span class=\"toc-item-num\">2.2.2&nbsp;&nbsp;</span>Predicting</a></span></li></ul></li><li><span><a href=\"#3)-Random-Forest\" data-toc-modified-id=\"3)-Random-Forest-2.3\"><span class=\"toc-item-num\">2.3&nbsp;&nbsp;</span>3) Random Forest</a></span><ul class=\"toc-item\"><li><span><a href=\"#Fitting\" data-toc-modified-id=\"Fitting-2.3.1\"><span class=\"toc-item-num\">2.3.1&nbsp;&nbsp;</span>Fitting</a></span></li><li><span><a href=\"#Predicting\" data-toc-modified-id=\"Predicting-2.3.2\"><span class=\"toc-item-num\">2.3.2&nbsp;&nbsp;</span>Predicting</a></span></li></ul></li></ul></li><li><span><a href=\"#II---Multi-classification\" data-toc-modified-id=\"II---Multi-classification-3\"><span class=\"toc-item-num\">3&nbsp;&nbsp;</span>II - Multi classification</a></span><ul class=\"toc-item\"><li><span><a href=\"#1)-k-Nearest-Neighbour-(k-NN)\" data-toc-modified-id=\"1)-k-Nearest-Neighbour-(k-NN)-3.1\"><span class=\"toc-item-num\">3.1&nbsp;&nbsp;</span>1) k Nearest Neighbour (k-NN)</a></span><ul class=\"toc-item\"><li><span><a href=\"#Fitting\" data-toc-modified-id=\"Fitting-3.1.1\"><span class=\"toc-item-num\">3.1.1&nbsp;&nbsp;</span>Fitting</a></span></li><li><span><a href=\"#Predicting\" data-toc-modified-id=\"Predicting-3.1.2\"><span class=\"toc-item-num\">3.1.2&nbsp;&nbsp;</span>Predicting</a></span></li></ul></li><li><span><a href=\"#2)--Support-Vector-Machine-(SVM)\" data-toc-modified-id=\"2)--Support-Vector-Machine-(SVM)-3.2\"><span class=\"toc-item-num\">3.2&nbsp;&nbsp;</span>2)  Support Vector Machine (SVM)</a></span><ul class=\"toc-item\"><li><span><a href=\"#Fitting\" data-toc-modified-id=\"Fitting-3.2.1\"><span class=\"toc-item-num\">3.2.1&nbsp;&nbsp;</span>Fitting</a></span></li><li><span><a href=\"#Predicting\" data-toc-modified-id=\"Predicting-3.2.2\"><span class=\"toc-item-num\">3.2.2&nbsp;&nbsp;</span>Predicting</a></span></li></ul></li><li><span><a href=\"#3)-Random-Forest\" data-toc-modified-id=\"3)-Random-Forest-3.3\"><span class=\"toc-item-num\">3.3&nbsp;&nbsp;</span>3) Random Forest</a></span><ul class=\"toc-item\"><li><span><a href=\"#Fitting\" data-toc-modified-id=\"Fitting-3.3.1\"><span class=\"toc-item-num\">3.3.1&nbsp;&nbsp;</span>Fitting</a></span></li><li><span><a href=\"#Predicting\" data-toc-modified-id=\"Predicting-3.3.2\"><span class=\"toc-item-num\">3.3.2&nbsp;&nbsp;</span>Predicting</a></span></li></ul></li></ul></li><li><span><a href=\"#III---UMAP-(visualization)\" data-toc-modified-id=\"III---UMAP-(visualization)-4\"><span class=\"toc-item-num\">4&nbsp;&nbsp;</span>III - UMAP (visualization)</a></span></li></ul></div>"
   ]
  },
  {
   "cell_type": "markdown",
   "metadata": {},
   "source": [
    "## Import and load data"
   ]
  },
  {
   "cell_type": "code",
   "execution_count": 1,
   "metadata": {
    "ExecuteTime": {
     "end_time": "2018-12-01T10:27:25.539868Z",
     "start_time": "2018-12-01T10:27:25.042086Z"
    }
   },
   "outputs": [],
   "source": [
    "from lib.File import File\n",
    "from matplotlib import pyplot as plt\n",
    "from data.loader import get_kasios_obs, get_obs, map_path\n",
    "import numpy as np\n",
    "\n",
    "from math import sqrt\n",
    "import pandas as pd"
   ]
  },
  {
   "cell_type": "code",
   "execution_count": 2,
   "metadata": {
    "ExecuteTime": {
     "end_time": "2018-12-01T10:27:27.354620Z",
     "start_time": "2018-12-01T10:27:27.282213Z"
    }
   },
   "outputs": [
    {
     "name": "stdout",
     "output_type": "stream",
     "text": [
      "Loading wav files...\n",
      "Done.\n",
      "Loading wav files...\n",
      "Done.\n"
     ]
    }
   ],
   "source": [
    "# Loads files and makes conversion if necessary\n",
    "df_all = get_obs(songs = True)\n",
    "df_kasios = get_kasios_obs(songs = True)"
   ]
  },
  {
   "cell_type": "code",
   "execution_count": 3,
   "metadata": {
    "ExecuteTime": {
     "end_time": "2018-12-01T10:27:28.502450Z",
     "start_time": "2018-12-01T10:27:28.468806Z"
    }
   },
   "outputs": [
    {
     "data": {
      "text/html": [
       "<div>\n",
       "<style scoped>\n",
       "    .dataframe tbody tr th:only-of-type {\n",
       "        vertical-align: middle;\n",
       "    }\n",
       "\n",
       "    .dataframe tbody tr th {\n",
       "        vertical-align: top;\n",
       "    }\n",
       "\n",
       "    .dataframe thead th {\n",
       "        text-align: right;\n",
       "    }\n",
       "</style>\n",
       "<table border=\"1\" class=\"dataframe\">\n",
       "  <thead>\n",
       "    <tr style=\"text-align: right;\">\n",
       "      <th></th>\n",
       "      <th>1900.0</th>\n",
       "      <th>1910.0</th>\n",
       "      <th>1920.0</th>\n",
       "      <th>1930.0</th>\n",
       "      <th>1940.0</th>\n",
       "      <th>1950.0</th>\n",
       "      <th>1960.0</th>\n",
       "      <th>1970.0</th>\n",
       "      <th>1980.0</th>\n",
       "      <th>1990.0</th>\n",
       "      <th>...</th>\n",
       "      <th>5900.0</th>\n",
       "      <th>5910.0</th>\n",
       "      <th>5920.0</th>\n",
       "      <th>5930.0</th>\n",
       "      <th>5940.0</th>\n",
       "      <th>5950.0</th>\n",
       "      <th>5960.0</th>\n",
       "      <th>5970.0</th>\n",
       "      <th>5980.0</th>\n",
       "      <th>5990.0</th>\n",
       "    </tr>\n",
       "    <tr>\n",
       "      <th>File ID</th>\n",
       "      <th></th>\n",
       "      <th></th>\n",
       "      <th></th>\n",
       "      <th></th>\n",
       "      <th></th>\n",
       "      <th></th>\n",
       "      <th></th>\n",
       "      <th></th>\n",
       "      <th></th>\n",
       "      <th></th>\n",
       "      <th></th>\n",
       "      <th></th>\n",
       "      <th></th>\n",
       "      <th></th>\n",
       "      <th></th>\n",
       "      <th></th>\n",
       "      <th></th>\n",
       "      <th></th>\n",
       "      <th></th>\n",
       "      <th></th>\n",
       "      <th></th>\n",
       "    </tr>\n",
       "  </thead>\n",
       "  <tbody>\n",
       "    <tr>\n",
       "      <th>402254</th>\n",
       "      <td>-0.777891</td>\n",
       "      <td>-0.398350</td>\n",
       "      <td>-0.014216</td>\n",
       "      <td>-0.855008</td>\n",
       "      <td>2.075899</td>\n",
       "      <td>-0.221931</td>\n",
       "      <td>-0.655440</td>\n",
       "      <td>-1.191778</td>\n",
       "      <td>0.585549</td>\n",
       "      <td>0.236256</td>\n",
       "      <td>...</td>\n",
       "      <td>0.433391</td>\n",
       "      <td>0.306798</td>\n",
       "      <td>-1.075585</td>\n",
       "      <td>-0.452546</td>\n",
       "      <td>-0.197668</td>\n",
       "      <td>-0.996424</td>\n",
       "      <td>-0.379281</td>\n",
       "      <td>-0.244899</td>\n",
       "      <td>-0.400091</td>\n",
       "      <td>-0.611824</td>\n",
       "    </tr>\n",
       "    <tr>\n",
       "      <th>406171</th>\n",
       "      <td>-4.162661</td>\n",
       "      <td>-4.180349</td>\n",
       "      <td>-4.229848</td>\n",
       "      <td>-4.230835</td>\n",
       "      <td>-4.269890</td>\n",
       "      <td>-4.245544</td>\n",
       "      <td>-4.282711</td>\n",
       "      <td>-4.257561</td>\n",
       "      <td>-4.243178</td>\n",
       "      <td>-4.282526</td>\n",
       "      <td>...</td>\n",
       "      <td>-1.510778</td>\n",
       "      <td>-1.968467</td>\n",
       "      <td>-1.824303</td>\n",
       "      <td>-1.519034</td>\n",
       "      <td>-1.865900</td>\n",
       "      <td>-1.872201</td>\n",
       "      <td>-1.824038</td>\n",
       "      <td>-1.760304</td>\n",
       "      <td>-1.728515</td>\n",
       "      <td>-1.927553</td>\n",
       "    </tr>\n",
       "    <tr>\n",
       "      <th>405901</th>\n",
       "      <td>-0.580728</td>\n",
       "      <td>-0.633019</td>\n",
       "      <td>-0.707576</td>\n",
       "      <td>-0.645468</td>\n",
       "      <td>-0.603866</td>\n",
       "      <td>-0.725716</td>\n",
       "      <td>-0.672938</td>\n",
       "      <td>-0.657233</td>\n",
       "      <td>-0.662175</td>\n",
       "      <td>-0.732691</td>\n",
       "      <td>...</td>\n",
       "      <td>-0.300444</td>\n",
       "      <td>-0.458147</td>\n",
       "      <td>-0.586822</td>\n",
       "      <td>-0.149122</td>\n",
       "      <td>-0.337683</td>\n",
       "      <td>-0.258401</td>\n",
       "      <td>-0.292191</td>\n",
       "      <td>-0.543218</td>\n",
       "      <td>-0.267194</td>\n",
       "      <td>-0.134089</td>\n",
       "    </tr>\n",
       "    <tr>\n",
       "      <th>405548</th>\n",
       "      <td>-3.228091</td>\n",
       "      <td>-3.251748</td>\n",
       "      <td>-3.226915</td>\n",
       "      <td>-3.256686</td>\n",
       "      <td>-3.309930</td>\n",
       "      <td>-3.233574</td>\n",
       "      <td>-3.255813</td>\n",
       "      <td>-3.283560</td>\n",
       "      <td>-3.262860</td>\n",
       "      <td>-3.241711</td>\n",
       "      <td>...</td>\n",
       "      <td>7.121533</td>\n",
       "      <td>6.845443</td>\n",
       "      <td>6.915710</td>\n",
       "      <td>6.386549</td>\n",
       "      <td>5.541339</td>\n",
       "      <td>4.538464</td>\n",
       "      <td>2.270188</td>\n",
       "      <td>0.207980</td>\n",
       "      <td>1.365019</td>\n",
       "      <td>3.283181</td>\n",
       "    </tr>\n",
       "    <tr>\n",
       "      <th>401782</th>\n",
       "      <td>-3.740562</td>\n",
       "      <td>-3.741388</td>\n",
       "      <td>-3.765818</td>\n",
       "      <td>-3.748055</td>\n",
       "      <td>-3.741544</td>\n",
       "      <td>-3.737901</td>\n",
       "      <td>-3.745398</td>\n",
       "      <td>-3.741317</td>\n",
       "      <td>-3.749377</td>\n",
       "      <td>-3.750319</td>\n",
       "      <td>...</td>\n",
       "      <td>-2.814041</td>\n",
       "      <td>-2.563670</td>\n",
       "      <td>-2.758136</td>\n",
       "      <td>-2.482101</td>\n",
       "      <td>-2.802750</td>\n",
       "      <td>-2.417855</td>\n",
       "      <td>-2.802082</td>\n",
       "      <td>-2.927259</td>\n",
       "      <td>-2.785790</td>\n",
       "      <td>-2.790771</td>\n",
       "    </tr>\n",
       "  </tbody>\n",
       "</table>\n",
       "<p>5 rows × 410 columns</p>\n",
       "</div>"
      ],
      "text/plain": [
       "           1900.0    1910.0    1920.0    1930.0    1940.0    1950.0    1960.0  \\\n",
       "File ID                                                                         \n",
       "402254  -0.777891 -0.398350 -0.014216 -0.855008  2.075899 -0.221931 -0.655440   \n",
       "406171  -4.162661 -4.180349 -4.229848 -4.230835 -4.269890 -4.245544 -4.282711   \n",
       "405901  -0.580728 -0.633019 -0.707576 -0.645468 -0.603866 -0.725716 -0.672938   \n",
       "405548  -3.228091 -3.251748 -3.226915 -3.256686 -3.309930 -3.233574 -3.255813   \n",
       "401782  -3.740562 -3.741388 -3.765818 -3.748055 -3.741544 -3.737901 -3.745398   \n",
       "\n",
       "           1970.0    1980.0    1990.0    ...       5900.0    5910.0    5920.0  \\\n",
       "File ID                                  ...                                    \n",
       "402254  -1.191778  0.585549  0.236256    ...     0.433391  0.306798 -1.075585   \n",
       "406171  -4.257561 -4.243178 -4.282526    ...    -1.510778 -1.968467 -1.824303   \n",
       "405901  -0.657233 -0.662175 -0.732691    ...    -0.300444 -0.458147 -0.586822   \n",
       "405548  -3.283560 -3.262860 -3.241711    ...     7.121533  6.845443  6.915710   \n",
       "401782  -3.741317 -3.749377 -3.750319    ...    -2.814041 -2.563670 -2.758136   \n",
       "\n",
       "           5930.0    5940.0    5950.0    5960.0    5970.0    5980.0    5990.0  \n",
       "File ID                                                                        \n",
       "402254  -0.452546 -0.197668 -0.996424 -0.379281 -0.244899 -0.400091 -0.611824  \n",
       "406171  -1.519034 -1.865900 -1.872201 -1.824038 -1.760304 -1.728515 -1.927553  \n",
       "405901  -0.149122 -0.337683 -0.258401 -0.292191 -0.543218 -0.267194 -0.134089  \n",
       "405548   6.386549  5.541339  4.538464  2.270188  0.207980  1.365019  3.283181  \n",
       "401782  -2.482101 -2.802750 -2.417855 -2.802082 -2.927259 -2.785790 -2.790771  \n",
       "\n",
       "[5 rows x 410 columns]"
      ]
     },
     "execution_count": 3,
     "metadata": {},
     "output_type": "execute_result"
    }
   ],
   "source": [
    "# X = get_spectres(df_all) # Can be very long\n",
    "# X.to_pickle(\"data/all_birds_freq.pickle\") # Save to cache\n",
    "X = pd.read_pickle(\"data/all_birds_freq.pickle\") # Quicker to use cache\n",
    "\n",
    "X.head()"
   ]
  },
  {
   "cell_type": "code",
   "execution_count": 4,
   "metadata": {
    "ExecuteTime": {
     "end_time": "2018-12-01T10:27:30.705376Z",
     "start_time": "2018-12-01T10:27:30.678128Z"
    }
   },
   "outputs": [
    {
     "data": {
      "text/html": [
       "<div>\n",
       "<style scoped>\n",
       "    .dataframe tbody tr th:only-of-type {\n",
       "        vertical-align: middle;\n",
       "    }\n",
       "\n",
       "    .dataframe tbody tr th {\n",
       "        vertical-align: top;\n",
       "    }\n",
       "\n",
       "    .dataframe thead th {\n",
       "        text-align: right;\n",
       "    }\n",
       "</style>\n",
       "<table border=\"1\" class=\"dataframe\">\n",
       "  <thead>\n",
       "    <tr style=\"text-align: right;\">\n",
       "      <th></th>\n",
       "      <th>1900.0</th>\n",
       "      <th>1910.0</th>\n",
       "      <th>1920.0</th>\n",
       "      <th>1930.0</th>\n",
       "      <th>1940.0</th>\n",
       "      <th>1950.0</th>\n",
       "      <th>1960.0</th>\n",
       "      <th>1970.0</th>\n",
       "      <th>1980.0</th>\n",
       "      <th>1990.0</th>\n",
       "      <th>...</th>\n",
       "      <th>5900.0</th>\n",
       "      <th>5910.0</th>\n",
       "      <th>5920.0</th>\n",
       "      <th>5930.0</th>\n",
       "      <th>5940.0</th>\n",
       "      <th>5950.0</th>\n",
       "      <th>5960.0</th>\n",
       "      <th>5970.0</th>\n",
       "      <th>5980.0</th>\n",
       "      <th>5990.0</th>\n",
       "    </tr>\n",
       "    <tr>\n",
       "      <th>ID</th>\n",
       "      <th></th>\n",
       "      <th></th>\n",
       "      <th></th>\n",
       "      <th></th>\n",
       "      <th></th>\n",
       "      <th></th>\n",
       "      <th></th>\n",
       "      <th></th>\n",
       "      <th></th>\n",
       "      <th></th>\n",
       "      <th></th>\n",
       "      <th></th>\n",
       "      <th></th>\n",
       "      <th></th>\n",
       "      <th></th>\n",
       "      <th></th>\n",
       "      <th></th>\n",
       "      <th></th>\n",
       "      <th></th>\n",
       "      <th></th>\n",
       "      <th></th>\n",
       "    </tr>\n",
       "  </thead>\n",
       "  <tbody>\n",
       "    <tr>\n",
       "      <th>1</th>\n",
       "      <td>-3.529268</td>\n",
       "      <td>-3.329053</td>\n",
       "      <td>-3.513426</td>\n",
       "      <td>-3.523270</td>\n",
       "      <td>-3.362683</td>\n",
       "      <td>-3.481535</td>\n",
       "      <td>-3.410325</td>\n",
       "      <td>-3.471149</td>\n",
       "      <td>-3.358526</td>\n",
       "      <td>-3.415705</td>\n",
       "      <td>...</td>\n",
       "      <td>-3.231955</td>\n",
       "      <td>-3.377782</td>\n",
       "      <td>-3.150853</td>\n",
       "      <td>-3.322742</td>\n",
       "      <td>-3.141581</td>\n",
       "      <td>-3.317984</td>\n",
       "      <td>-3.318084</td>\n",
       "      <td>-3.201280</td>\n",
       "      <td>-3.373770</td>\n",
       "      <td>-3.249895</td>\n",
       "    </tr>\n",
       "    <tr>\n",
       "      <th>2</th>\n",
       "      <td>-7.770975</td>\n",
       "      <td>-7.789180</td>\n",
       "      <td>-7.807659</td>\n",
       "      <td>-7.812153</td>\n",
       "      <td>-7.826096</td>\n",
       "      <td>-7.787444</td>\n",
       "      <td>-7.798715</td>\n",
       "      <td>-7.757632</td>\n",
       "      <td>-7.766777</td>\n",
       "      <td>-7.717729</td>\n",
       "      <td>...</td>\n",
       "      <td>2.070107</td>\n",
       "      <td>1.240989</td>\n",
       "      <td>0.342733</td>\n",
       "      <td>1.253810</td>\n",
       "      <td>-0.095410</td>\n",
       "      <td>0.345641</td>\n",
       "      <td>-0.313179</td>\n",
       "      <td>-0.376685</td>\n",
       "      <td>-0.871546</td>\n",
       "      <td>-0.830625</td>\n",
       "    </tr>\n",
       "    <tr>\n",
       "      <th>3</th>\n",
       "      <td>-10.823887</td>\n",
       "      <td>-10.997442</td>\n",
       "      <td>-10.907166</td>\n",
       "      <td>-10.946253</td>\n",
       "      <td>-10.891168</td>\n",
       "      <td>-10.957196</td>\n",
       "      <td>-11.014657</td>\n",
       "      <td>-10.992509</td>\n",
       "      <td>-10.977279</td>\n",
       "      <td>-11.082591</td>\n",
       "      <td>...</td>\n",
       "      <td>-7.309365</td>\n",
       "      <td>-7.188007</td>\n",
       "      <td>-8.339784</td>\n",
       "      <td>-6.470934</td>\n",
       "      <td>-6.471953</td>\n",
       "      <td>-7.001865</td>\n",
       "      <td>-8.281127</td>\n",
       "      <td>-7.377273</td>\n",
       "      <td>-7.894899</td>\n",
       "      <td>-7.307045</td>\n",
       "    </tr>\n",
       "    <tr>\n",
       "      <th>4</th>\n",
       "      <td>-7.564831</td>\n",
       "      <td>-7.604928</td>\n",
       "      <td>-7.853263</td>\n",
       "      <td>-7.667681</td>\n",
       "      <td>-7.446895</td>\n",
       "      <td>-7.664611</td>\n",
       "      <td>-7.868092</td>\n",
       "      <td>-7.727359</td>\n",
       "      <td>-7.579639</td>\n",
       "      <td>-7.770928</td>\n",
       "      <td>...</td>\n",
       "      <td>-6.860031</td>\n",
       "      <td>-6.743433</td>\n",
       "      <td>-6.865163</td>\n",
       "      <td>-6.472720</td>\n",
       "      <td>-6.746985</td>\n",
       "      <td>-6.491604</td>\n",
       "      <td>-6.479721</td>\n",
       "      <td>-6.478345</td>\n",
       "      <td>-6.351524</td>\n",
       "      <td>-6.770690</td>\n",
       "    </tr>\n",
       "    <tr>\n",
       "      <th>5</th>\n",
       "      <td>13.974970</td>\n",
       "      <td>13.250154</td>\n",
       "      <td>12.210977</td>\n",
       "      <td>12.134556</td>\n",
       "      <td>11.516458</td>\n",
       "      <td>11.235900</td>\n",
       "      <td>10.998921</td>\n",
       "      <td>10.493838</td>\n",
       "      <td>10.029321</td>\n",
       "      <td>9.747640</td>\n",
       "      <td>...</td>\n",
       "      <td>-3.994871</td>\n",
       "      <td>-3.862566</td>\n",
       "      <td>-3.970654</td>\n",
       "      <td>-4.009346</td>\n",
       "      <td>-3.824077</td>\n",
       "      <td>-4.031627</td>\n",
       "      <td>-3.842823</td>\n",
       "      <td>-3.883048</td>\n",
       "      <td>-4.091320</td>\n",
       "      <td>-3.786353</td>\n",
       "    </tr>\n",
       "  </tbody>\n",
       "</table>\n",
       "<p>5 rows × 410 columns</p>\n",
       "</div>"
      ],
      "text/plain": [
       "       1900.0     1910.0     1920.0     1930.0     1940.0     1950.0  \\\n",
       "ID                                                                     \n",
       "1   -3.529268  -3.329053  -3.513426  -3.523270  -3.362683  -3.481535   \n",
       "2   -7.770975  -7.789180  -7.807659  -7.812153  -7.826096  -7.787444   \n",
       "3  -10.823887 -10.997442 -10.907166 -10.946253 -10.891168 -10.957196   \n",
       "4   -7.564831  -7.604928  -7.853263  -7.667681  -7.446895  -7.664611   \n",
       "5   13.974970  13.250154  12.210977  12.134556  11.516458  11.235900   \n",
       "\n",
       "       1960.0     1970.0     1980.0     1990.0    ...       5900.0    5910.0  \\\n",
       "ID                                                ...                          \n",
       "1   -3.410325  -3.471149  -3.358526  -3.415705    ...    -3.231955 -3.377782   \n",
       "2   -7.798715  -7.757632  -7.766777  -7.717729    ...     2.070107  1.240989   \n",
       "3  -11.014657 -10.992509 -10.977279 -11.082591    ...    -7.309365 -7.188007   \n",
       "4   -7.868092  -7.727359  -7.579639  -7.770928    ...    -6.860031 -6.743433   \n",
       "5   10.998921  10.493838  10.029321   9.747640    ...    -3.994871 -3.862566   \n",
       "\n",
       "      5920.0    5930.0    5940.0    5950.0    5960.0    5970.0    5980.0  \\\n",
       "ID                                                                         \n",
       "1  -3.150853 -3.322742 -3.141581 -3.317984 -3.318084 -3.201280 -3.373770   \n",
       "2   0.342733  1.253810 -0.095410  0.345641 -0.313179 -0.376685 -0.871546   \n",
       "3  -8.339784 -6.470934 -6.471953 -7.001865 -8.281127 -7.377273 -7.894899   \n",
       "4  -6.865163 -6.472720 -6.746985 -6.491604 -6.479721 -6.478345 -6.351524   \n",
       "5  -3.970654 -4.009346 -3.824077 -4.031627 -3.842823 -3.883048 -4.091320   \n",
       "\n",
       "      5990.0  \n",
       "ID            \n",
       "1  -3.249895  \n",
       "2  -0.830625  \n",
       "3  -7.307045  \n",
       "4  -6.770690  \n",
       "5  -3.786353  \n",
       "\n",
       "[5 rows x 410 columns]"
      ]
     },
     "execution_count": 4,
     "metadata": {},
     "output_type": "execute_result"
    }
   ],
   "source": [
    "# X_kasios = get_spectres(df_kasios) # Can be very long\n",
    "# X_kasios.to_pickle(\"data/kasios_birds_freq.pickle\")\n",
    "X_kasios = pd.read_pickle(\"data/kasios_birds_freq.pickle\") # Quicker to use cache\n",
    "\n",
    "X_kasios.head()"
   ]
  },
  {
   "cell_type": "code",
   "execution_count": 5,
   "metadata": {
    "ExecuteTime": {
     "end_time": "2018-12-01T10:27:34.174391Z",
     "start_time": "2018-12-01T10:27:34.168829Z"
    }
   },
   "outputs": [],
   "source": [
    "Y = df_all.English_name\n",
    "Y_bin = df_all.English_name == \"Rose-crested Blue Pipit\""
   ]
  },
  {
   "cell_type": "code",
   "execution_count": 6,
   "metadata": {
    "ExecuteTime": {
     "end_time": "2018-12-01T10:27:34.968407Z",
     "start_time": "2018-12-01T10:27:34.927954Z"
    }
   },
   "outputs": [],
   "source": [
    "from sklearn.model_selection import train_test_split\n",
    "from sklearn.metrics import accuracy_score,recall_score,confusion_matrix\n",
    "\n",
    "X_train, X_test, y_train, y_test = train_test_split(X, Y, test_size = 0.33)\n",
    "X_bin_train, X_bin_test, y_bin_train, y_bin_test = train_test_split(X, Y_bin, test_size = 0.33)"
   ]
  },
  {
   "cell_type": "markdown",
   "metadata": {},
   "source": [
    "## I - Binary classification\n",
    "\n",
    "### 1) k Nearest Neighbour (k-NN)\n",
    "\n",
    "#### Fitting"
   ]
  },
  {
   "cell_type": "code",
   "execution_count": 7,
   "metadata": {},
   "outputs": [],
   "source": [
    "from sklearn.neighbors import KNeighborsClassifier"
   ]
  },
  {
   "cell_type": "code",
   "execution_count": 8,
   "metadata": {},
   "outputs": [
    {
     "data": {
      "text/plain": [
       "KNeighborsClassifier(algorithm='auto', leaf_size=30, metric='minkowski',\n",
       "           metric_params=None, n_jobs=1, n_neighbors=2, p=2,\n",
       "           weights='uniform')"
      ]
     },
     "execution_count": 8,
     "metadata": {},
     "output_type": "execute_result"
    }
   ],
   "source": [
    "clf = KNeighborsClassifier(n_neighbors=2)\n",
    "clf.fit(X_bin_train, y_bin_train)"
   ]
  },
  {
   "cell_type": "code",
   "execution_count": 9,
   "metadata": {},
   "outputs": [
    {
     "name": "stdout",
     "output_type": "stream",
     "text": [
      "Accuracy of the model: 0.9194729136163983\n",
      "Confusion matrix: \n",
      "[[614   8]\n",
      " [ 47  14]]\n"
     ]
    }
   ],
   "source": [
    "# Accuracy of the model\n",
    "accuracy = clf.score(X_bin_test, y_bin_test)\n",
    "print(\"Accuracy of the model: %s\" % accuracy)\n",
    "\n",
    "# Confusion matrix\n",
    "y_bin_predict = clf.predict(X_bin_test)\n",
    "print(\"Confusion matrix: \\n%s\" % confusion_matrix(y_bin_test, y_bin_predict))"
   ]
  },
  {
   "cell_type": "markdown",
   "metadata": {},
   "source": [
    "#### Predicting"
   ]
  },
  {
   "cell_type": "code",
   "execution_count": 10,
   "metadata": {},
   "outputs": [
    {
     "name": "stdout",
     "output_type": "stream",
     "text": [
      "Binary classification with kNN \n",
      "\n",
      "Kasios song n°1 : False\n",
      "Kasios song n°2 : False\n",
      "Kasios song n°3 : False\n",
      "Kasios song n°4 : False\n",
      "Kasios song n°5 : False\n",
      "Kasios song n°6 : False\n",
      "Kasios song n°7 : False\n",
      "Kasios song n°8 : False\n",
      "Kasios song n°9 : True\n",
      "Kasios song n°10 : False\n",
      "Kasios song n°11 : False\n",
      "Kasios song n°12 : False\n",
      "Kasios song n°13 : False\n",
      "Kasios song n°14 : False\n",
      "Kasios song n°15 : False\n"
     ]
    }
   ],
   "source": [
    "print(\"Binary classification with kNN \\n\")\n",
    "y_kasios = clf.predict(X_kasios)\n",
    "for i in range(len(y_kasios)):\n",
    "    print(\"Kasios song n°%s : %s\" % (i+1, y_kasios[i]))"
   ]
  },
  {
   "cell_type": "markdown",
   "metadata": {},
   "source": [
    "### 2)  Support Vector Machine (SVM)\n",
    "\n",
    "#### Fitting"
   ]
  },
  {
   "cell_type": "code",
   "execution_count": 11,
   "metadata": {},
   "outputs": [],
   "source": [
    "from sklearn import svm"
   ]
  },
  {
   "cell_type": "code",
   "execution_count": 12,
   "metadata": {},
   "outputs": [],
   "source": [
    "x_list = np.linspace(2**-5, 2**5, 30)\n",
    "accuracy_C = []\n",
    "for x in x_list:\n",
    "    model = svm.SVC(kernel='linear', C=x)\n",
    "    model.fit(X_bin_train, y_bin_train)\n",
    "    accuracy_C.append(model.score(X_bin_test, y_bin_test))\n",
    "x = 0\n",
    "\n",
    "# select the C with max accuracy\n",
    "max_index = accuracy_C.index(max(accuracy_C))\n",
    "C_chosed = x_list[max_index]"
   ]
  },
  {
   "cell_type": "code",
   "execution_count": 13,
   "metadata": {},
   "outputs": [],
   "source": [
    "# we do the same thing for gamma\n",
    "accuracy_gamma = []\n",
    "for x in x_list:\n",
    "    model = svm.SVC(kernel='linear', C=C_chosed, gamma=x)\n",
    "    model.fit(X_bin_train, y_bin_train)\n",
    "    accuracy_gamma.append(model.score(X_bin_test, y_bin_test))\n",
    "\n",
    "# to find the C with the max accuracy\n",
    "max_index = accuracy_gamma.index(max(accuracy_gamma))\n",
    "gamma_chosed = x_list[max_index]  # the C that we will choose"
   ]
  },
  {
   "cell_type": "code",
   "execution_count": 14,
   "metadata": {},
   "outputs": [
    {
     "data": {
      "text/plain": [
       "SVC(C=0.03125, cache_size=200, class_weight=None, coef0=0.0,\n",
       "  decision_function_shape='ovr', degree=3, gamma=0.03125, kernel='linear',\n",
       "  max_iter=-1, probability=False, random_state=None, shrinking=True,\n",
       "  tol=0.001, verbose=False)"
      ]
     },
     "execution_count": 14,
     "metadata": {},
     "output_type": "execute_result"
    }
   ],
   "source": [
    "# We can now define our SVM model\n",
    "clf = svm.SVC(kernel='linear', C=C_chosed, gamma=gamma_chosed)\n",
    "clf.fit(X_bin_train, y_bin_train)"
   ]
  },
  {
   "cell_type": "code",
   "execution_count": 15,
   "metadata": {},
   "outputs": [
    {
     "name": "stdout",
     "output_type": "stream",
     "text": [
      "Accuracy of the model: 0.8594436310395315\n",
      "Confusion matrix: \n",
      "[[571  51]\n",
      " [ 45  16]]\n"
     ]
    }
   ],
   "source": [
    "# Accuracy of the model\n",
    "accuracy = clf.score(X_bin_test, y_bin_test)\n",
    "print(\"Accuracy of the model: %s\" % accuracy)\n",
    "\n",
    "# Confusion matrix\n",
    "y_bin_predict = clf.predict(X_bin_test)\n",
    "print(\"Confusion matrix: \\n%s\" % confusion_matrix(y_bin_test, y_bin_predict))"
   ]
  },
  {
   "cell_type": "markdown",
   "metadata": {},
   "source": [
    "#### Predicting"
   ]
  },
  {
   "cell_type": "code",
   "execution_count": 16,
   "metadata": {},
   "outputs": [
    {
     "name": "stdout",
     "output_type": "stream",
     "text": [
      "Kasios song n°1 : False\n",
      "Kasios song n°2 : False\n",
      "Kasios song n°3 : False\n",
      "Kasios song n°4 : False\n",
      "Kasios song n°5 : False\n",
      "Kasios song n°6 : False\n",
      "Kasios song n°7 : False\n",
      "Kasios song n°8 : True\n",
      "Kasios song n°9 : True\n",
      "Kasios song n°10 : False\n",
      "Kasios song n°11 : False\n",
      "Kasios song n°12 : False\n",
      "Kasios song n°13 : False\n",
      "Kasios song n°14 : False\n",
      "Kasios song n°15 : False\n"
     ]
    }
   ],
   "source": [
    "y_kasios = clf.predict(X_kasios)\n",
    "for i in range(len(y_kasios)):\n",
    "    print(\"Kasios song n°%s : %s\" % (i+1, y_kasios[i]))"
   ]
  },
  {
   "cell_type": "markdown",
   "metadata": {},
   "source": [
    "### 3) Random Forest \n",
    "\n",
    "#### Fitting"
   ]
  },
  {
   "cell_type": "code",
   "execution_count": 17,
   "metadata": {
    "ExecuteTime": {
     "end_time": "2018-11-30T22:39:53.455692Z",
     "start_time": "2018-11-30T22:39:53.406036Z"
    }
   },
   "outputs": [
    {
     "name": "stderr",
     "output_type": "stream",
     "text": [
      "/home/sajeevan/anaconda3/lib/python3.7/site-packages/sklearn/ensemble/weight_boosting.py:29: DeprecationWarning: numpy.core.umath_tests is an internal NumPy module and should not be imported. It will be removed in a future NumPy release.\n",
      "  from numpy.core.umath_tests import inner1d\n"
     ]
    }
   ],
   "source": [
    "from sklearn.ensemble import RandomForestClassifier"
   ]
  },
  {
   "cell_type": "code",
   "execution_count": 18,
   "metadata": {
    "ExecuteTime": {
     "end_time": "2018-11-30T22:39:53.488843Z",
     "start_time": "2018-11-30T22:39:53.486022Z"
    }
   },
   "outputs": [],
   "source": [
    "clf = RandomForestClassifier(n_estimators=100, max_depth=7)"
   ]
  },
  {
   "cell_type": "code",
   "execution_count": 19,
   "metadata": {
    "ExecuteTime": {
     "end_time": "2018-11-30T22:39:54.985833Z",
     "start_time": "2018-11-30T22:39:53.490601Z"
    }
   },
   "outputs": [
    {
     "data": {
      "text/plain": [
       "RandomForestClassifier(bootstrap=True, class_weight=None, criterion='gini',\n",
       "            max_depth=7, max_features='auto', max_leaf_nodes=None,\n",
       "            min_impurity_decrease=0.0, min_impurity_split=None,\n",
       "            min_samples_leaf=1, min_samples_split=2,\n",
       "            min_weight_fraction_leaf=0.0, n_estimators=100, n_jobs=1,\n",
       "            oob_score=False, random_state=None, verbose=0,\n",
       "            warm_start=False)"
      ]
     },
     "execution_count": 19,
     "metadata": {},
     "output_type": "execute_result"
    }
   ],
   "source": [
    "clf.fit(X_bin_train, y_bin_train)"
   ]
  },
  {
   "cell_type": "markdown",
   "metadata": {},
   "source": [
    "#### Predicting"
   ]
  },
  {
   "cell_type": "code",
   "execution_count": 20,
   "metadata": {
    "ExecuteTime": {
     "end_time": "2018-11-30T22:39:55.079655Z",
     "start_time": "2018-11-30T22:39:54.987635Z"
    }
   },
   "outputs": [],
   "source": [
    "y_pred_train = clf.predict(X_bin_train)\n",
    "y_pred_test = clf.predict(X_bin_test)"
   ]
  },
  {
   "cell_type": "code",
   "execution_count": 21,
   "metadata": {
    "ExecuteTime": {
     "end_time": "2018-11-30T22:39:55.098079Z",
     "start_time": "2018-11-30T22:39:55.081421Z"
    }
   },
   "outputs": [
    {
     "name": "stdout",
     "output_type": "stream",
     "text": [
      "Confusion matrix on trainning: (Overfit)\n",
      "[[1257    2]\n",
      " [  22  103]]\n",
      "\n",
      "\n",
      "Confusion matrix on testing:\n",
      "[[616   6]\n",
      " [ 48  13]]\n",
      "\n"
     ]
    }
   ],
   "source": [
    "print(\"Confusion matrix on trainning: (Overfit)\")\n",
    "print(confusion_matrix(y_bin_train, y_pred_train))\n",
    "\n",
    "print(\"\\n\")\n",
    "\n",
    "print(\"Confusion matrix on testing:\")\n",
    "print(confusion_matrix(y_bin_test, y_pred_test))\n",
    "\n",
    "print()"
   ]
  },
  {
   "cell_type": "code",
   "execution_count": 22,
   "metadata": {
    "ExecuteTime": {
     "end_time": "2018-11-30T22:39:55.106426Z",
     "start_time": "2018-11-30T22:39:55.100055Z"
    }
   },
   "outputs": [
    {
     "name": "stdout",
     "output_type": "stream",
     "text": [
      "0.9826589595375722\n",
      "Accuracy: 0.9209370424597365\n"
     ]
    }
   ],
   "source": [
    "print(accuracy_score(y_bin_train, y_pred_train))\n",
    "print(\"Accuracy: %s\" % accuracy_score(y_bin_test,y_pred_test))"
   ]
  },
  {
   "cell_type": "code",
   "execution_count": 23,
   "metadata": {
    "ExecuteTime": {
     "end_time": "2018-11-30T22:39:55.122694Z",
     "start_time": "2018-11-30T22:39:55.109071Z"
    }
   },
   "outputs": [],
   "source": [
    "y_kasios = clf.predict(X_kasios)"
   ]
  },
  {
   "cell_type": "code",
   "execution_count": 24,
   "metadata": {
    "ExecuteTime": {
     "end_time": "2018-11-30T22:39:55.129954Z",
     "start_time": "2018-11-30T22:39:55.124284Z"
    }
   },
   "outputs": [
    {
     "name": "stdout",
     "output_type": "stream",
     "text": [
      "Classification with Random Forest \n",
      "\n",
      "Kasios song n°1 : False\n",
      "Kasios song n°2 : False\n",
      "Kasios song n°3 : False\n",
      "Kasios song n°4 : False\n",
      "Kasios song n°5 : False\n",
      "Kasios song n°6 : False\n",
      "Kasios song n°7 : False\n",
      "Kasios song n°8 : False\n",
      "Kasios song n°9 : False\n",
      "Kasios song n°10 : False\n",
      "Kasios song n°11 : False\n",
      "Kasios song n°12 : False\n",
      "Kasios song n°13 : True\n",
      "Kasios song n°14 : False\n",
      "Kasios song n°15 : False\n"
     ]
    }
   ],
   "source": [
    "print(\"Classification with Random Forest \\n\")\n",
    "for i in range(len(y_kasios)):\n",
    "    print(\"Kasios song n°%s : %s\"% (i+1, y_kasios[i]))"
   ]
  },
  {
   "cell_type": "markdown",
   "metadata": {},
   "source": [
    "## II - Multi classification\n",
    "\n",
    "### 1) k Nearest Neighbour (k-NN)\n",
    "\n",
    "#### Fitting"
   ]
  },
  {
   "cell_type": "code",
   "execution_count": 25,
   "metadata": {},
   "outputs": [
    {
     "data": {
      "text/plain": [
       "KNeighborsClassifier(algorithm='auto', leaf_size=30, metric='minkowski',\n",
       "           metric_params=None, n_jobs=1, n_neighbors=2, p=2,\n",
       "           weights='uniform')"
      ]
     },
     "execution_count": 25,
     "metadata": {},
     "output_type": "execute_result"
    }
   ],
   "source": [
    "clf = KNeighborsClassifier(n_neighbors=2)\n",
    "clf.fit(X_train, y_train)"
   ]
  },
  {
   "cell_type": "code",
   "execution_count": 26,
   "metadata": {},
   "outputs": [
    {
     "name": "stdout",
     "output_type": "stream",
     "text": [
      "Accuracy of the model: 0.38653001464128844\n",
      "Confusion matrix: \n",
      "[[15  1  0  1  0  0  1  0  3  1  0  0  0  0  0  0  0  0  0]\n",
      " [ 0  5  1  1  2  5  2  1  0  1  0  3  0  0  0  3  0  0  0]\n",
      " [ 0  1 19 10  2  3  5  0  0  1  0  1  0  0  1  1  2  0  0]\n",
      " [ 0  3  5 19  0  3  0  0  0  1  0  0  0  0  1  0  0  1  0]\n",
      " [ 1  3  1  1 16  2  1  3  0  1  1  3  0  0  0  1  0  1  0]\n",
      " [ 0  3  3  0  2 19  0  0  0  0  1  1  0  1  0  2  1  1  0]\n",
      " [ 0  3  2  2  1  4  7  0  0  1  1  2  0  0  0  0  0  0  0]\n",
      " [ 0  1  2  0  3  3  3  4  0  5  2  2  0  2  0  0  0  0  0]\n",
      " [ 0  3  2  2  0  1  2  0 17  1  0  0  0  0  0  0  0  0  0]\n",
      " [ 0  3  1  1  1  3  0  6  3 31  1  0  0  0  0  0  0  0  0]\n",
      " [ 5  3  8  4  1  1  1  0  0  2 29  0  1  1  6  0  2  2  3]\n",
      " [ 1  2  1  1  4 18  3  3  0  2  0  3  0  0  0  1  0  0  0]\n",
      " [ 2  1  2  7  0  2  2  0  1  1  3  1  1  0  0  1  0  0  0]\n",
      " [ 2  1  2  1  2  2  0  3  0  3  4  2  0  4  0  4  0  0  0]\n",
      " [ 0  0  0  5  0  1  0  0  0  0  4  0  0  0  1  0  0  1  1]\n",
      " [ 0  0  1  2  0  1  0  1  1  0  2  1  0  0  1 60  3  0  0]\n",
      " [ 0  3  2  2  7 11  2  9  0  2  1  1  0  1  0 11 10  0  0]\n",
      " [ 0  1  5  2  0  1  0  1  0  1  4  0  2  0  5  1  0  1  2]\n",
      " [ 0  0  2  3  1  2  0  0  0  0  6  1  1  0  2  0  0  4  3]]\n"
     ]
    }
   ],
   "source": [
    "# Accuracy of the model\n",
    "accuracy = clf.score(X_test, y_test)\n",
    "print(\"Accuracy of the model: %s\" % accuracy)\n",
    "\n",
    "# Confusion matrix\n",
    "y_predict = clf.predict(X_test)\n",
    "print(\"Confusion matrix: \\n%s\" % confusion_matrix(y_test, y_predict))"
   ]
  },
  {
   "cell_type": "markdown",
   "metadata": {},
   "source": [
    "#### Predicting"
   ]
  },
  {
   "cell_type": "code",
   "execution_count": 27,
   "metadata": {},
   "outputs": [
    {
     "name": "stdout",
     "output_type": "stream",
     "text": [
      "Kasios song n°1 : Bent-beak Riffraff\n",
      "Kasios song n°2 : Blue-collared Zipper\n",
      "Kasios song n°3 : Darkwing Sparrow\n",
      "Kasios song n°4 : Darkwing Sparrow\n",
      "Kasios song n°5 : Orange Pine Plover\n",
      "Kasios song n°6 : Eastern Corn Skeet\n",
      "Kasios song n°7 : Queenscoat\n",
      "Kasios song n°8 : Lesser Birchbeere\n",
      "Kasios song n°9 : Darkwing Sparrow\n",
      "Kasios song n°10 : Orange Pine Plover\n",
      "Kasios song n°11 : Canadian Cootamum\n",
      "Kasios song n°12 : Orange Pine Plover\n",
      "Kasios song n°13 : Queenscoat\n",
      "Kasios song n°14 : Darkwing Sparrow\n",
      "Kasios song n°15 : Scrawny Jay\n"
     ]
    }
   ],
   "source": [
    "y_kasios = clf.predict(X_kasios)\n",
    "for i in range(len(y_kasios)):\n",
    "    print(\"Kasios song n°%s : %s\" % (i+1, y_kasios[i]))"
   ]
  },
  {
   "cell_type": "markdown",
   "metadata": {},
   "source": [
    "### 2)  Support Vector Machine (SVM)\n",
    "\n",
    "#### Fitting"
   ]
  },
  {
   "cell_type": "code",
   "execution_count": 28,
   "metadata": {},
   "outputs": [],
   "source": [
    "x_list = np.linspace(2**-5, 2**5, 30)\n",
    "accuracy_C = []\n",
    "for x in x_list:\n",
    "    model = svm.SVC(kernel='linear', C=x)\n",
    "    model.fit(X_train, y_train)\n",
    "    accuracy_C.append(model.score(X_test, y_test))\n",
    "x = 0\n",
    "\n",
    "# select the C with max accuracy\n",
    "max_index = accuracy_C.index(max(accuracy_C))\n",
    "C_chosed = x_list[max_index]"
   ]
  },
  {
   "cell_type": "code",
   "execution_count": 29,
   "metadata": {},
   "outputs": [],
   "source": [
    "# we do the same thing for gamma\n",
    "\n",
    "accuracy_gamma = []\n",
    "for x in x_list:\n",
    "    model = svm.SVC(kernel='linear', C=C_chosed, gamma=x)\n",
    "    model.fit(X_train, y_train)\n",
    "    accuracy_gamma.append(model.score(X_test, y_test))\n",
    "\n",
    "# to find the C with the max accuracy\n",
    "max_index = accuracy_gamma.index(max(accuracy_gamma))\n",
    "gamma_chosed = x_list[max_index]  # the C that we will choose"
   ]
  },
  {
   "cell_type": "code",
   "execution_count": 30,
   "metadata": {},
   "outputs": [
    {
     "data": {
      "text/plain": [
       "SVC(C=0.03125, cache_size=200, class_weight=None, coef0=0.0,\n",
       "  decision_function_shape='ovr', degree=3, gamma=0.03125, kernel='linear',\n",
       "  max_iter=-1, probability=False, random_state=None, shrinking=True,\n",
       "  tol=0.001, verbose=False)"
      ]
     },
     "execution_count": 30,
     "metadata": {},
     "output_type": "execute_result"
    }
   ],
   "source": [
    "# We can now define our SVM model\n",
    "clf = svm.SVC(kernel='linear', C=C_chosed, gamma=gamma_chosed)\n",
    "clf.fit(X_train, y_train)"
   ]
  },
  {
   "cell_type": "code",
   "execution_count": 31,
   "metadata": {},
   "outputs": [
    {
     "name": "stdout",
     "output_type": "stream",
     "text": [
      "Accuracy of the model: 0.42020497803806733\n",
      "Confusion matrix: \n",
      "[[15  0  0  1  0  0  2  0  3  1  0  0  0  0  0  0  0  0  0]\n",
      " [ 0  2  3  0  1  3  2  0  1  0  0  3  0  1  0  4  4  0  0]\n",
      " [ 1  2 21  4  0  0  4  1  0  0  6  1  0  1  1  1  1  0  2]\n",
      " [ 3  0  4 12  0  1  0  0  1  0  2  0  1  1  3  0  0  3  2]\n",
      " [ 0  0  2  1  5  1  1  8  0  2  0  5  1  0  0  2  7  0  0]\n",
      " [ 0  1  3  0  1 15  0  3  0  3  0  1  1  0  0  2  3  1  0]\n",
      " [ 0  0  3  0  0  1 14  0  0  0  0  2  0  1  0  0  2  0  0]\n",
      " [ 0  4  1  1  2  6  0  4  0  3  0  2  0  0  0  1  3  0  0]\n",
      " [ 0  0  1  0  0  1  1  0 20  2  1  0  0  0  0  0  1  0  1]\n",
      " [ 0  0  1  0  1  4  0  3  3 35  0  0  0  0  0  0  2  1  0]\n",
      " [ 2  4  3  3  0  0  1  0  0  1 35  2  3  0  3  1  1  4  6]\n",
      " [ 0  3  3  0  1  6  4  6  0  3  1  6  0  0  1  0  5  0  0]\n",
      " [ 2  0  4  4  0  3  1  0  1  0  1  1  1  0  2  1  1  1  1]\n",
      " [ 1  3  1  1  3  1  1  2  0  2  2  2  0  2  1  4  3  0  1]\n",
      " [ 0  0  1  4  0  1  0  0  0  0  2  0  0  0  2  0  0  1  2]\n",
      " [ 1  0  0  1  0  2  0  0  0  0  6  0  0  0  0 60  2  1  0]\n",
      " [ 0  2  4  1  2  5  0  6  0  4  1  2  0  1  0  6 27  1  0]\n",
      " [ 1  0  4  3  0  3  1  0  0  1  7  0  2  0  0  0  0  2  2]\n",
      " [ 0  0  2  3  0  0  0  1  0  0  6  0  0  0  2  0  0  2  9]]\n"
     ]
    }
   ],
   "source": [
    "# Accuracy of the model\n",
    "accuracy = clf.score(X_test, y_test)\n",
    "print(\"Accuracy of the model: %s\" % accuracy)\n",
    "\n",
    "# Confusion matrix\n",
    "y_predict = clf.predict(X_test)\n",
    "print(\"Confusion matrix: \\n%s\" % confusion_matrix(y_test, y_predict))"
   ]
  },
  {
   "cell_type": "markdown",
   "metadata": {},
   "source": [
    "#### Predicting"
   ]
  },
  {
   "cell_type": "code",
   "execution_count": 32,
   "metadata": {},
   "outputs": [
    {
     "name": "stdout",
     "output_type": "stream",
     "text": [
      "Kasios song n°1 : Bent-beak Riffraff\n",
      "Kasios song n°2 : Rose-crested Blue Pipit\n",
      "Kasios song n°3 : Darkwing Sparrow\n",
      "Kasios song n°4 : Darkwing Sparrow\n",
      "Kasios song n°5 : Broad-winged Jojo\n",
      "Kasios song n°6 : Green-tipped Scarlet Pipit\n",
      "Kasios song n°7 : Scrawny Jay\n",
      "Kasios song n°8 : Lesser Birchbeere\n",
      "Kasios song n°9 : Darkwing Sparrow\n",
      "Kasios song n°10 : Bombadil\n",
      "Kasios song n°11 : Bent-beak Riffraff\n",
      "Kasios song n°12 : Orange Pine Plover\n",
      "Kasios song n°13 : Rose-crested Blue Pipit\n",
      "Kasios song n°14 : Darkwing Sparrow\n",
      "Kasios song n°15 : Orange Pine Plover\n"
     ]
    }
   ],
   "source": [
    "y_kasios = model.predict(X_kasios)\n",
    "for i in range(len(y_kasios)):\n",
    "    print(\"Kasios song n°%s : %s\" % (i+1, y_kasios[i]))"
   ]
  },
  {
   "cell_type": "markdown",
   "metadata": {},
   "source": [
    "### 3) Random Forest \n",
    "\n",
    "#### Fitting"
   ]
  },
  {
   "cell_type": "code",
   "execution_count": 33,
   "metadata": {},
   "outputs": [
    {
     "data": {
      "text/plain": [
       "RandomForestClassifier(bootstrap=True, class_weight=None, criterion='gini',\n",
       "            max_depth=7, max_features='auto', max_leaf_nodes=None,\n",
       "            min_impurity_decrease=0.0, min_impurity_split=None,\n",
       "            min_samples_leaf=1, min_samples_split=2,\n",
       "            min_weight_fraction_leaf=0.0, n_estimators=100, n_jobs=1,\n",
       "            oob_score=False, random_state=None, verbose=0,\n",
       "            warm_start=False)"
      ]
     },
     "execution_count": 33,
     "metadata": {},
     "output_type": "execute_result"
    }
   ],
   "source": [
    "clf = RandomForestClassifier(n_estimators=100, max_depth=7)\n",
    "clf.fit(X_train, y_train)"
   ]
  },
  {
   "cell_type": "markdown",
   "metadata": {},
   "source": [
    "#### Predicting"
   ]
  },
  {
   "cell_type": "code",
   "execution_count": 34,
   "metadata": {},
   "outputs": [],
   "source": [
    "y_pred_train = clf.predict(X_train)\n",
    "y_pred_test = clf.predict(X_test)"
   ]
  },
  {
   "cell_type": "code",
   "execution_count": 35,
   "metadata": {},
   "outputs": [
    {
     "name": "stdout",
     "output_type": "stream",
     "text": [
      "Confusion matrix on trainning: (Overfit)\n",
      "[[ 42   0   0   0   0   1   0   0   3   0   1   0   0   0   0   2   0   0\n",
      "    0]\n",
      " [  0  14   3   0   0   8   4   0   0   2   4   1   0   0   0   0   7   0\n",
      "    0]\n",
      " [  0   0  78   1   0   1   1   1   0   1   5   0   0   0   0   0   3   0\n",
      "    0]\n",
      " [  1   0   2  48   0   0   0   0   1   0   0   0   0   0   1   0   1   4\n",
      "    2]\n",
      " [  0   0   1   0  24   3   1   2   1   2   3   0   0   0   0   0   8   1\n",
      "    1]\n",
      " [  0   0   2   0   0  50   1   0   2   1   2   3   0   0   0   0   9   0\n",
      "    0]\n",
      " [  1   0   1   1   1   1  50   1   1   0   1   1   0   0   0   0   4   0\n",
      "    0]\n",
      " [  0   0   2   0   0   7   4  35   0   3   1   2   0   0   0   0   7   0\n",
      "    0]\n",
      " [  1   0   0   0   0   1   0   0  56   1   0   0   0   0   0   0   0   0\n",
      "    0]\n",
      " [  0   0   1   0   0   1   0   0   1  94   1   1   0   0   0   0   1   0\n",
      "    0]\n",
      " [  0   0   2   2   0   2   0   0   3   0 136   0   0   0   0   0   0   0\n",
      "    1]\n",
      " [  0   0   3   0   1   6   4   1   0   0   0  30   0   0   0   2   8   0\n",
      "    0]\n",
      " [  0   0   0   1   0   0   0   0   0   2   2   0  39   0   0   0   1   2\n",
      "    2]\n",
      " [  2   0   2   2   0   6   1   4   0   3   3   1   0   6   0   2   8   1\n",
      "    0]\n",
      " [  0   0   1   3   0   1   0   0   0   0  11   0   0   0  15   1   0   2\n",
      "    4]\n",
      " [  0   0   4   2   0   2   0   0   2   1   0   0   0   0   0 153   1   1\n",
      "    0]\n",
      " [  0   0   0   2   0   2   0   2   0   6   2   1   0   0   0   3 102   4\n",
      "    0]\n",
      " [  0   0   2   1   0   0   0   0   0   4   7   0   0   0   0   0   1  48\n",
      "    0]\n",
      " [  0   0   8   2   0   0   0   0   1   0  11   0   0   0   0   1   0   0\n",
      "   36]]\n",
      "\n",
      "\n",
      "Confusion matrix on testing:\n",
      "[[14  0  1  0  0  0  0  0  5  1  0  0  0  0  0  0  1  0  0]\n",
      " [ 0  1  1  0  0  1  3  1  3  2  1  0  0  0  0  5  6  0  0]\n",
      " [ 0  0 24  6  0  0  5  0  0  0  6  0  0  0  0  1  3  0  1]\n",
      " [ 3  0  8 13  0  2  0  0  1  0  3  0  1  0  1  0  0  1  0]\n",
      " [ 0  0  0  0  7  2  1  4  0  2  3  2  0  0  0  1 12  0  1]\n",
      " [ 0  0  3  0  0 14  0  0  0  4  1  1  0  0  0  1  9  1  0]\n",
      " [ 0  0  3  0  0  0 14  1  0  0  0  3  0  0  0  0  2  0  0]\n",
      " [ 0  0  0  0  0  2  2  6  0  6  1  0  0  0  0  1  7  2  0]\n",
      " [ 0  0  0  0  0  2  0  0 23  3  0  0  0  0  0  0  0  0  0]\n",
      " [ 0  0  2  0  0  1  0  2  2 42  0  0  0  0  0  0  1  0  0]\n",
      " [ 0  0  3  1  0  0  2  0  1  2 57  0  0  0  0  1  1  1  0]\n",
      " [ 0  0  1  1  1 12  4  6  0  3  2  2  0  0  0  0  7  0  0]\n",
      " [ 0  0  3  5  0  3  0  0  1  1  4  0  3  0  1  1  0  1  1]\n",
      " [ 0  0  3  0  0  2  1  3  0  1  6  2  1  0  0  4  7  0  0]\n",
      " [ 0  0  1  4  0  0  0  0  0  0  4  0  0  0  0  0  0  2  2]\n",
      " [ 0  0  1  1  0  2  0  0  0  0  0  0  0  0  0 63  5  1  0]\n",
      " [ 0  0  2  1  0  5  1  4  0  5  2  0  0  0  0  6 35  1  0]\n",
      " [ 2  0  3  1  0  1  0  0  0  2  9  0  0  0  0  0  0  7  1]\n",
      " [ 0  0  4  1  0  1  0  0  0  0  8  0  0  0  0  0  1  0 10]]\n",
      "\n"
     ]
    }
   ],
   "source": [
    "print(\"Confusion matrix on trainning: (Overfit)\")\n",
    "print(confusion_matrix(y_train, y_pred_train))\n",
    "\n",
    "print(\"\\n\")\n",
    "\n",
    "print(\"Confusion matrix on testing:\")\n",
    "print(confusion_matrix(y_test, y_pred_test))\n",
    "\n",
    "print()"
   ]
  },
  {
   "cell_type": "code",
   "execution_count": 36,
   "metadata": {},
   "outputs": [
    {
     "name": "stdout",
     "output_type": "stream",
     "text": [
      "0.7630057803468208\n",
      "Accuracy: 0.4904831625183016\n"
     ]
    }
   ],
   "source": [
    "print(accuracy_score(y_train, y_pred_train))\n",
    "print(\"Accuracy: %s\" % accuracy_score(y_test,y_pred_test))"
   ]
  },
  {
   "cell_type": "code",
   "execution_count": 37,
   "metadata": {},
   "outputs": [],
   "source": [
    "y_kasios = clf.predict(X_kasios)"
   ]
  },
  {
   "cell_type": "code",
   "execution_count": 38,
   "metadata": {},
   "outputs": [
    {
     "name": "stdout",
     "output_type": "stream",
     "text": [
      "Classification with Random Forest \n",
      "\n",
      "Kasios song n°1 : Bent-beak Riffraff\n",
      "Kasios song n°2 : Rose-crested Blue Pipit\n",
      "Kasios song n°3 : Bombadil\n",
      "Kasios song n°4 : Darkwing Sparrow\n",
      "Kasios song n°5 : Orange Pine Plover\n",
      "Kasios song n°6 : Green-tipped Scarlet Pipit\n",
      "Kasios song n°7 : Scrawny Jay\n",
      "Kasios song n°8 : Lesser Birchbeere\n",
      "Kasios song n°9 : Rose-crested Blue Pipit\n",
      "Kasios song n°10 : Orange Pine Plover\n",
      "Kasios song n°11 : Queenscoat\n",
      "Kasios song n°12 : Orange Pine Plover\n",
      "Kasios song n°13 : Rose-crested Blue Pipit\n",
      "Kasios song n°14 : Darkwing Sparrow\n",
      "Kasios song n°15 : Orange Pine Plover\n"
     ]
    }
   ],
   "source": [
    "print(\"Classification with Random Forest \\n\")\n",
    "for i in range(len(y_kasios)):\n",
    "    print(\"Kasios song n°%s : %s\"% (i+1, y_kasios[i]))"
   ]
  },
  {
   "cell_type": "markdown",
   "metadata": {},
   "source": [
    "## III - UMAP (visualization)"
   ]
  },
  {
   "cell_type": "code",
   "execution_count": 7,
   "metadata": {
    "ExecuteTime": {
     "end_time": "2018-12-01T10:29:15.898690Z",
     "start_time": "2018-12-01T10:29:06.031903Z"
    }
   },
   "outputs": [
    {
     "name": "stderr",
     "output_type": "stream",
     "text": [
      "/home/guillaume/anaconda3/lib/python3.6/site-packages/sklearn/metrics/pairwise.py:257: RuntimeWarning: invalid value encountered in sqrt\n",
      "  return distances if squared else np.sqrt(distances, out=distances)\n"
     ]
    }
   ],
   "source": [
    "import umap\n",
    "\n",
    "embedding = umap.UMAP(n_neighbors=10).fit_transform(pd.concat([X, X_kasios]))"
   ]
  },
  {
   "cell_type": "code",
   "execution_count": 8,
   "metadata": {
    "ExecuteTime": {
     "end_time": "2018-12-01T10:29:17.977533Z",
     "start_time": "2018-12-01T10:29:17.774175Z"
    }
   },
   "outputs": [
    {
     "data": {
      "text/html": [
       "\n",
       "    <div class=\"bk-root\">\n",
       "        <a href=\"https://bokeh.pydata.org\" target=\"_blank\" class=\"bk-logo bk-logo-small bk-logo-notebook\"></a>\n",
       "        <span id=\"414a9493-bbc4-4cd2-9cad-b4ea16300104\">Loading BokehJS ...</span>\n",
       "    </div>"
      ]
     },
     "metadata": {},
     "output_type": "display_data"
    },
    {
     "data": {
      "application/javascript": [
       "\n",
       "(function(root) {\n",
       "  function now() {\n",
       "    return new Date();\n",
       "  }\n",
       "\n",
       "  var force = true;\n",
       "\n",
       "  if (typeof (root._bokeh_onload_callbacks) === \"undefined\" || force === true) {\n",
       "    root._bokeh_onload_callbacks = [];\n",
       "    root._bokeh_is_loading = undefined;\n",
       "  }\n",
       "\n",
       "  var JS_MIME_TYPE = 'application/javascript';\n",
       "  var HTML_MIME_TYPE = 'text/html';\n",
       "  var EXEC_MIME_TYPE = 'application/vnd.bokehjs_exec.v0+json';\n",
       "  var CLASS_NAME = 'output_bokeh rendered_html';\n",
       "\n",
       "  /**\n",
       "   * Render data to the DOM node\n",
       "   */\n",
       "  function render(props, node) {\n",
       "    var script = document.createElement(\"script\");\n",
       "    node.appendChild(script);\n",
       "  }\n",
       "\n",
       "  /**\n",
       "   * Handle when an output is cleared or removed\n",
       "   */\n",
       "  function handleClearOutput(event, handle) {\n",
       "    var cell = handle.cell;\n",
       "\n",
       "    var id = cell.output_area._bokeh_element_id;\n",
       "    var server_id = cell.output_area._bokeh_server_id;\n",
       "    // Clean up Bokeh references\n",
       "    if (id != null && id in Bokeh.index) {\n",
       "      Bokeh.index[id].model.document.clear();\n",
       "      delete Bokeh.index[id];\n",
       "    }\n",
       "\n",
       "    if (server_id !== undefined) {\n",
       "      // Clean up Bokeh references\n",
       "      var cmd = \"from bokeh.io.state import curstate; print(curstate().uuid_to_server['\" + server_id + \"'].get_sessions()[0].document.roots[0]._id)\";\n",
       "      cell.notebook.kernel.execute(cmd, {\n",
       "        iopub: {\n",
       "          output: function(msg) {\n",
       "            var id = msg.content.text.trim();\n",
       "            if (id in Bokeh.index) {\n",
       "              Bokeh.index[id].model.document.clear();\n",
       "              delete Bokeh.index[id];\n",
       "            }\n",
       "          }\n",
       "        }\n",
       "      });\n",
       "      // Destroy server and session\n",
       "      var cmd = \"import bokeh.io.notebook as ion; ion.destroy_server('\" + server_id + \"')\";\n",
       "      cell.notebook.kernel.execute(cmd);\n",
       "    }\n",
       "  }\n",
       "\n",
       "  /**\n",
       "   * Handle when a new output is added\n",
       "   */\n",
       "  function handleAddOutput(event, handle) {\n",
       "    var output_area = handle.output_area;\n",
       "    var output = handle.output;\n",
       "\n",
       "    // limit handleAddOutput to display_data with EXEC_MIME_TYPE content only\n",
       "    if ((output.output_type != \"display_data\") || (!output.data.hasOwnProperty(EXEC_MIME_TYPE))) {\n",
       "      return\n",
       "    }\n",
       "\n",
       "    var toinsert = output_area.element.find(\".\" + CLASS_NAME.split(' ')[0]);\n",
       "\n",
       "    if (output.metadata[EXEC_MIME_TYPE][\"id\"] !== undefined) {\n",
       "      toinsert[toinsert.length - 1].firstChild.textContent = output.data[JS_MIME_TYPE];\n",
       "      // store reference to embed id on output_area\n",
       "      output_area._bokeh_element_id = output.metadata[EXEC_MIME_TYPE][\"id\"];\n",
       "    }\n",
       "    if (output.metadata[EXEC_MIME_TYPE][\"server_id\"] !== undefined) {\n",
       "      var bk_div = document.createElement(\"div\");\n",
       "      bk_div.innerHTML = output.data[HTML_MIME_TYPE];\n",
       "      var script_attrs = bk_div.children[0].attributes;\n",
       "      for (var i = 0; i < script_attrs.length; i++) {\n",
       "        toinsert[toinsert.length - 1].firstChild.setAttribute(script_attrs[i].name, script_attrs[i].value);\n",
       "      }\n",
       "      // store reference to server id on output_area\n",
       "      output_area._bokeh_server_id = output.metadata[EXEC_MIME_TYPE][\"server_id\"];\n",
       "    }\n",
       "  }\n",
       "\n",
       "  function register_renderer(events, OutputArea) {\n",
       "\n",
       "    function append_mime(data, metadata, element) {\n",
       "      // create a DOM node to render to\n",
       "      var toinsert = this.create_output_subarea(\n",
       "        metadata,\n",
       "        CLASS_NAME,\n",
       "        EXEC_MIME_TYPE\n",
       "      );\n",
       "      this.keyboard_manager.register_events(toinsert);\n",
       "      // Render to node\n",
       "      var props = {data: data, metadata: metadata[EXEC_MIME_TYPE]};\n",
       "      render(props, toinsert[toinsert.length - 1]);\n",
       "      element.append(toinsert);\n",
       "      return toinsert\n",
       "    }\n",
       "\n",
       "    /* Handle when an output is cleared or removed */\n",
       "    events.on('clear_output.CodeCell', handleClearOutput);\n",
       "    events.on('delete.Cell', handleClearOutput);\n",
       "\n",
       "    /* Handle when a new output is added */\n",
       "    events.on('output_added.OutputArea', handleAddOutput);\n",
       "\n",
       "    /**\n",
       "     * Register the mime type and append_mime function with output_area\n",
       "     */\n",
       "    OutputArea.prototype.register_mime_type(EXEC_MIME_TYPE, append_mime, {\n",
       "      /* Is output safe? */\n",
       "      safe: true,\n",
       "      /* Index of renderer in `output_area.display_order` */\n",
       "      index: 0\n",
       "    });\n",
       "  }\n",
       "\n",
       "  // register the mime type if in Jupyter Notebook environment and previously unregistered\n",
       "  if (root.Jupyter !== undefined) {\n",
       "    var events = require('base/js/events');\n",
       "    var OutputArea = require('notebook/js/outputarea').OutputArea;\n",
       "\n",
       "    if (OutputArea.prototype.mime_types().indexOf(EXEC_MIME_TYPE) == -1) {\n",
       "      register_renderer(events, OutputArea);\n",
       "    }\n",
       "  }\n",
       "\n",
       "  \n",
       "  if (typeof (root._bokeh_timeout) === \"undefined\" || force === true) {\n",
       "    root._bokeh_timeout = Date.now() + 5000;\n",
       "    root._bokeh_failed_load = false;\n",
       "  }\n",
       "\n",
       "  var NB_LOAD_WARNING = {'data': {'text/html':\n",
       "     \"<div style='background-color: #fdd'>\\n\"+\n",
       "     \"<p>\\n\"+\n",
       "     \"BokehJS does not appear to have successfully loaded. If loading BokehJS from CDN, this \\n\"+\n",
       "     \"may be due to a slow or bad network connection. Possible fixes:\\n\"+\n",
       "     \"</p>\\n\"+\n",
       "     \"<ul>\\n\"+\n",
       "     \"<li>re-rerun `output_notebook()` to attempt to load from CDN again, or</li>\\n\"+\n",
       "     \"<li>use INLINE resources instead, as so:</li>\\n\"+\n",
       "     \"</ul>\\n\"+\n",
       "     \"<code>\\n\"+\n",
       "     \"from bokeh.resources import INLINE\\n\"+\n",
       "     \"output_notebook(resources=INLINE)\\n\"+\n",
       "     \"</code>\\n\"+\n",
       "     \"</div>\"}};\n",
       "\n",
       "  function display_loaded() {\n",
       "    var el = document.getElementById(\"414a9493-bbc4-4cd2-9cad-b4ea16300104\");\n",
       "    if (el != null) {\n",
       "      el.textContent = \"BokehJS is loading...\";\n",
       "    }\n",
       "    if (root.Bokeh !== undefined) {\n",
       "      if (el != null) {\n",
       "        el.textContent = \"BokehJS \" + root.Bokeh.version + \" successfully loaded.\";\n",
       "      }\n",
       "    } else if (Date.now() < root._bokeh_timeout) {\n",
       "      setTimeout(display_loaded, 100)\n",
       "    }\n",
       "  }\n",
       "\n",
       "\n",
       "  function run_callbacks() {\n",
       "    try {\n",
       "      root._bokeh_onload_callbacks.forEach(function(callback) { callback() });\n",
       "    }\n",
       "    finally {\n",
       "      delete root._bokeh_onload_callbacks\n",
       "    }\n",
       "    console.info(\"Bokeh: all callbacks have finished\");\n",
       "  }\n",
       "\n",
       "  function load_libs(js_urls, callback) {\n",
       "    root._bokeh_onload_callbacks.push(callback);\n",
       "    if (root._bokeh_is_loading > 0) {\n",
       "      console.log(\"Bokeh: BokehJS is being loaded, scheduling callback at\", now());\n",
       "      return null;\n",
       "    }\n",
       "    if (js_urls == null || js_urls.length === 0) {\n",
       "      run_callbacks();\n",
       "      return null;\n",
       "    }\n",
       "    console.log(\"Bokeh: BokehJS not loaded, scheduling load and callback at\", now());\n",
       "    root._bokeh_is_loading = js_urls.length;\n",
       "    for (var i = 0; i < js_urls.length; i++) {\n",
       "      var url = js_urls[i];\n",
       "      var s = document.createElement('script');\n",
       "      s.src = url;\n",
       "      s.async = false;\n",
       "      s.onreadystatechange = s.onload = function() {\n",
       "        root._bokeh_is_loading--;\n",
       "        if (root._bokeh_is_loading === 0) {\n",
       "          console.log(\"Bokeh: all BokehJS libraries loaded\");\n",
       "          run_callbacks()\n",
       "        }\n",
       "      };\n",
       "      s.onerror = function() {\n",
       "        console.warn(\"failed to load library \" + url);\n",
       "      };\n",
       "      console.log(\"Bokeh: injecting script tag for BokehJS library: \", url);\n",
       "      document.getElementsByTagName(\"head\")[0].appendChild(s);\n",
       "    }\n",
       "  };var element = document.getElementById(\"414a9493-bbc4-4cd2-9cad-b4ea16300104\");\n",
       "  if (element == null) {\n",
       "    console.log(\"Bokeh: ERROR: autoload.js configured with elementid '414a9493-bbc4-4cd2-9cad-b4ea16300104' but no matching script tag was found. \")\n",
       "    return false;\n",
       "  }\n",
       "\n",
       "  var js_urls = [\"https://cdn.pydata.org/bokeh/release/bokeh-0.13.0.min.js\", \"https://cdn.pydata.org/bokeh/release/bokeh-widgets-0.13.0.min.js\", \"https://cdn.pydata.org/bokeh/release/bokeh-tables-0.13.0.min.js\", \"https://cdn.pydata.org/bokeh/release/bokeh-gl-0.13.0.min.js\"];\n",
       "\n",
       "  var inline_js = [\n",
       "    function(Bokeh) {\n",
       "      Bokeh.set_log_level(\"info\");\n",
       "    },\n",
       "    \n",
       "    function(Bokeh) {\n",
       "      \n",
       "    },\n",
       "    function(Bokeh) {\n",
       "      console.log(\"Bokeh: injecting CSS: https://cdn.pydata.org/bokeh/release/bokeh-0.13.0.min.css\");\n",
       "      Bokeh.embed.inject_css(\"https://cdn.pydata.org/bokeh/release/bokeh-0.13.0.min.css\");\n",
       "      console.log(\"Bokeh: injecting CSS: https://cdn.pydata.org/bokeh/release/bokeh-widgets-0.13.0.min.css\");\n",
       "      Bokeh.embed.inject_css(\"https://cdn.pydata.org/bokeh/release/bokeh-widgets-0.13.0.min.css\");\n",
       "      console.log(\"Bokeh: injecting CSS: https://cdn.pydata.org/bokeh/release/bokeh-tables-0.13.0.min.css\");\n",
       "      Bokeh.embed.inject_css(\"https://cdn.pydata.org/bokeh/release/bokeh-tables-0.13.0.min.css\");\n",
       "    }\n",
       "  ];\n",
       "\n",
       "  function run_inline_js() {\n",
       "    \n",
       "    if ((root.Bokeh !== undefined) || (force === true)) {\n",
       "      for (var i = 0; i < inline_js.length; i++) {\n",
       "        inline_js[i].call(root, root.Bokeh);\n",
       "      }if (force === true) {\n",
       "        display_loaded();\n",
       "      }} else if (Date.now() < root._bokeh_timeout) {\n",
       "      setTimeout(run_inline_js, 100);\n",
       "    } else if (!root._bokeh_failed_load) {\n",
       "      console.log(\"Bokeh: BokehJS failed to load within specified timeout.\");\n",
       "      root._bokeh_failed_load = true;\n",
       "    } else if (force !== true) {\n",
       "      var cell = $(document.getElementById(\"414a9493-bbc4-4cd2-9cad-b4ea16300104\")).parents('.cell').data().cell;\n",
       "      cell.output_area.append_execute_result(NB_LOAD_WARNING)\n",
       "    }\n",
       "\n",
       "  }\n",
       "\n",
       "  if (root._bokeh_is_loading === 0) {\n",
       "    console.log(\"Bokeh: BokehJS loaded, going straight to plotting\");\n",
       "    run_inline_js();\n",
       "  } else {\n",
       "    load_libs(js_urls, function() {\n",
       "      console.log(\"Bokeh: BokehJS plotting callback run at\", now());\n",
       "      run_inline_js();\n",
       "    });\n",
       "  }\n",
       "}(window));"
      ],
      "application/vnd.bokehjs_load.v0+json": "\n(function(root) {\n  function now() {\n    return new Date();\n  }\n\n  var force = true;\n\n  if (typeof (root._bokeh_onload_callbacks) === \"undefined\" || force === true) {\n    root._bokeh_onload_callbacks = [];\n    root._bokeh_is_loading = undefined;\n  }\n\n  \n\n  \n  if (typeof (root._bokeh_timeout) === \"undefined\" || force === true) {\n    root._bokeh_timeout = Date.now() + 5000;\n    root._bokeh_failed_load = false;\n  }\n\n  var NB_LOAD_WARNING = {'data': {'text/html':\n     \"<div style='background-color: #fdd'>\\n\"+\n     \"<p>\\n\"+\n     \"BokehJS does not appear to have successfully loaded. If loading BokehJS from CDN, this \\n\"+\n     \"may be due to a slow or bad network connection. Possible fixes:\\n\"+\n     \"</p>\\n\"+\n     \"<ul>\\n\"+\n     \"<li>re-rerun `output_notebook()` to attempt to load from CDN again, or</li>\\n\"+\n     \"<li>use INLINE resources instead, as so:</li>\\n\"+\n     \"</ul>\\n\"+\n     \"<code>\\n\"+\n     \"from bokeh.resources import INLINE\\n\"+\n     \"output_notebook(resources=INLINE)\\n\"+\n     \"</code>\\n\"+\n     \"</div>\"}};\n\n  function display_loaded() {\n    var el = document.getElementById(\"414a9493-bbc4-4cd2-9cad-b4ea16300104\");\n    if (el != null) {\n      el.textContent = \"BokehJS is loading...\";\n    }\n    if (root.Bokeh !== undefined) {\n      if (el != null) {\n        el.textContent = \"BokehJS \" + root.Bokeh.version + \" successfully loaded.\";\n      }\n    } else if (Date.now() < root._bokeh_timeout) {\n      setTimeout(display_loaded, 100)\n    }\n  }\n\n\n  function run_callbacks() {\n    try {\n      root._bokeh_onload_callbacks.forEach(function(callback) { callback() });\n    }\n    finally {\n      delete root._bokeh_onload_callbacks\n    }\n    console.info(\"Bokeh: all callbacks have finished\");\n  }\n\n  function load_libs(js_urls, callback) {\n    root._bokeh_onload_callbacks.push(callback);\n    if (root._bokeh_is_loading > 0) {\n      console.log(\"Bokeh: BokehJS is being loaded, scheduling callback at\", now());\n      return null;\n    }\n    if (js_urls == null || js_urls.length === 0) {\n      run_callbacks();\n      return null;\n    }\n    console.log(\"Bokeh: BokehJS not loaded, scheduling load and callback at\", now());\n    root._bokeh_is_loading = js_urls.length;\n    for (var i = 0; i < js_urls.length; i++) {\n      var url = js_urls[i];\n      var s = document.createElement('script');\n      s.src = url;\n      s.async = false;\n      s.onreadystatechange = s.onload = function() {\n        root._bokeh_is_loading--;\n        if (root._bokeh_is_loading === 0) {\n          console.log(\"Bokeh: all BokehJS libraries loaded\");\n          run_callbacks()\n        }\n      };\n      s.onerror = function() {\n        console.warn(\"failed to load library \" + url);\n      };\n      console.log(\"Bokeh: injecting script tag for BokehJS library: \", url);\n      document.getElementsByTagName(\"head\")[0].appendChild(s);\n    }\n  };var element = document.getElementById(\"414a9493-bbc4-4cd2-9cad-b4ea16300104\");\n  if (element == null) {\n    console.log(\"Bokeh: ERROR: autoload.js configured with elementid '414a9493-bbc4-4cd2-9cad-b4ea16300104' but no matching script tag was found. \")\n    return false;\n  }\n\n  var js_urls = [\"https://cdn.pydata.org/bokeh/release/bokeh-0.13.0.min.js\", \"https://cdn.pydata.org/bokeh/release/bokeh-widgets-0.13.0.min.js\", \"https://cdn.pydata.org/bokeh/release/bokeh-tables-0.13.0.min.js\", \"https://cdn.pydata.org/bokeh/release/bokeh-gl-0.13.0.min.js\"];\n\n  var inline_js = [\n    function(Bokeh) {\n      Bokeh.set_log_level(\"info\");\n    },\n    \n    function(Bokeh) {\n      \n    },\n    function(Bokeh) {\n      console.log(\"Bokeh: injecting CSS: https://cdn.pydata.org/bokeh/release/bokeh-0.13.0.min.css\");\n      Bokeh.embed.inject_css(\"https://cdn.pydata.org/bokeh/release/bokeh-0.13.0.min.css\");\n      console.log(\"Bokeh: injecting CSS: https://cdn.pydata.org/bokeh/release/bokeh-widgets-0.13.0.min.css\");\n      Bokeh.embed.inject_css(\"https://cdn.pydata.org/bokeh/release/bokeh-widgets-0.13.0.min.css\");\n      console.log(\"Bokeh: injecting CSS: https://cdn.pydata.org/bokeh/release/bokeh-tables-0.13.0.min.css\");\n      Bokeh.embed.inject_css(\"https://cdn.pydata.org/bokeh/release/bokeh-tables-0.13.0.min.css\");\n    }\n  ];\n\n  function run_inline_js() {\n    \n    if ((root.Bokeh !== undefined) || (force === true)) {\n      for (var i = 0; i < inline_js.length; i++) {\n        inline_js[i].call(root, root.Bokeh);\n      }if (force === true) {\n        display_loaded();\n      }} else if (Date.now() < root._bokeh_timeout) {\n      setTimeout(run_inline_js, 100);\n    } else if (!root._bokeh_failed_load) {\n      console.log(\"Bokeh: BokehJS failed to load within specified timeout.\");\n      root._bokeh_failed_load = true;\n    } else if (force !== true) {\n      var cell = $(document.getElementById(\"414a9493-bbc4-4cd2-9cad-b4ea16300104\")).parents('.cell').data().cell;\n      cell.output_area.append_execute_result(NB_LOAD_WARNING)\n    }\n\n  }\n\n  if (root._bokeh_is_loading === 0) {\n    console.log(\"Bokeh: BokehJS loaded, going straight to plotting\");\n    run_inline_js();\n  } else {\n    load_libs(js_urls, function() {\n      console.log(\"Bokeh: BokehJS plotting callback run at\", now());\n      run_inline_js();\n    });\n  }\n}(window));"
     },
     "metadata": {},
     "output_type": "display_data"
    }
   ],
   "source": [
    "from bokeh.plotting import figure, show, output_notebook\n",
    "from bokeh.models import HoverTool, ColumnDataSource, CategoricalColorMapper\n",
    "from bokeh.palettes import Category20\n",
    "from bokeh.models import Legend\n",
    "\n",
    "output_notebook()"
   ]
  },
  {
   "cell_type": "code",
   "execution_count": 9,
   "metadata": {
    "ExecuteTime": {
     "end_time": "2018-12-01T10:29:19.239228Z",
     "start_time": "2018-12-01T10:29:19.036872Z"
    },
    "scrolled": false
   },
   "outputs": [
    {
     "data": {
      "text/html": [
       "\n",
       "\n",
       "\n",
       "\n",
       "\n",
       "\n",
       "  <div class=\"bk-root\" id=\"547f3547-8cf9-489d-bb70-1c033512e689\"></div>\n"
      ]
     },
     "metadata": {},
     "output_type": "display_data"
    },
    {
     "data": {
      "application/javascript": [
       "(function(root) {\n",
       "  function embed_document(root) {\n",
       "    \n",
       "  var docs_json = {\"ba7f2e8a-84ad-4923-9079-14c3d7efc64a\":{\"roots\":{\"references\":[{\"attributes\":{\"active_drag\":\"auto\",\"active_inspect\":\"auto\",\"active_multi\":null,\"active_scroll\":\"auto\",\"active_tap\":\"auto\",\"tools\":[{\"id\":\"67681e82-35b2-4d9a-b035-7da7c493084d\",\"type\":\"PanTool\"},{\"id\":\"a5ebd797-207c-4483-8831-5b69cb3ca346\",\"type\":\"WheelZoomTool\"},{\"id\":\"c60bf5ed-45ed-46d2-ac39-47c1359ee0eb\",\"type\":\"ResetTool\"},{\"id\":\"1b0f3cf6-ee8f-48e5-b4ed-ec6083c5e627\",\"type\":\"HoverTool\"}]},\"id\":\"62f50f53-486e-4fd9-9d57-63dcea2cd45d\",\"type\":\"Toolbar\"},{\"attributes\":{\"source\":{\"id\":\"6cf3563c-f4ce-479e-8c0b-d5faebdb75c6\",\"type\":\"ColumnDataSource\"}},\"id\":\"ee2844b5-879e-4c0d-ba5c-eb1aedf15585\",\"type\":\"CDSView\"},{\"attributes\":{\"source\":{\"id\":\"732468e4-4602-43ec-b70f-b7dcb6b94a48\",\"type\":\"ColumnDataSource\"}},\"id\":\"cdebefc0-5069-4b47-bd5e-1248225cfdb0\",\"type\":\"CDSView\"},{\"attributes\":{\"fill_alpha\":{\"value\":0.6},\"fill_color\":{\"field\":\"specie\",\"transform\":{\"id\":\"57b3006a-fb74-499d-b328-2f993b3973b8\",\"type\":\"CategoricalColorMapper\"}},\"line_alpha\":{\"value\":0.6},\"line_color\":{\"field\":\"specie\",\"transform\":{\"id\":\"57b3006a-fb74-499d-b328-2f993b3973b8\",\"type\":\"CategoricalColorMapper\"}},\"size\":{\"units\":\"screen\",\"value\":5},\"x\":{\"field\":\"x\"},\"y\":{\"field\":\"y\"}},\"id\":\"c774e443-ca0f-48e5-94ba-49322b98315a\",\"type\":\"Circle\"},{\"attributes\":{\"dimension\":1,\"plot\":{\"id\":\"0c442e89-95f0-45bb-9978-cde3b2988620\",\"subtype\":\"Figure\",\"type\":\"Plot\"},\"ticker\":{\"id\":\"cbfc3a45-c0d0-4780-8e39-f8650d0f0c29\",\"type\":\"BasicTicker\"}},\"id\":\"d305a507-d74e-49cd-8d0e-e0e7d7d41b73\",\"type\":\"Grid\"},{\"attributes\":{},\"id\":\"a5ebd797-207c-4483-8831-5b69cb3ca346\",\"type\":\"WheelZoomTool\"},{\"attributes\":{\"fill_alpha\":{\"value\":0.1},\"fill_color\":{\"value\":\"#1f77b4\"},\"line_alpha\":{\"value\":0.1},\"line_color\":{\"value\":\"#1f77b4\"},\"size\":{\"units\":\"screen\",\"value\":5},\"x\":{\"field\":\"x\"},\"y\":{\"field\":\"y\"}},\"id\":\"f0e43e19-b7d8-4fc9-b0ec-4458a1365531\",\"type\":\"Circle\"},{\"attributes\":{\"data_source\":{\"id\":\"296e65c9-0c73-4ad2-b7da-7f3993fba47d\",\"type\":\"ColumnDataSource\"},\"glyph\":{\"id\":\"695046ec-b027-4a79-844c-98886fc082f5\",\"type\":\"Circle\"},\"hover_glyph\":null,\"muted_glyph\":null,\"nonselection_glyph\":{\"id\":\"1b9ee654-ae5a-43bb-a700-f389e1eb9c29\",\"type\":\"Circle\"},\"selection_glyph\":null,\"view\":{\"id\":\"b4ac1d8f-6eba-47c4-956f-f1c523643e3b\",\"type\":\"CDSView\"}},\"id\":\"93efd6cc-8f72-4205-aaee-b3ef0cbaf8f2\",\"type\":\"GlyphRenderer\"},{\"attributes\":{},\"id\":\"9e84c84c-febb-46a2-bab1-91c9f8d24330\",\"type\":\"UnionRenderers\"},{\"attributes\":{\"callback\":null,\"data\":{\"index\":[186,187,188,189,190,191,192,193,194,195,196,197,198,199,200,201,202,203,204,205,206,207,208,209,210,211,212,213,214,215,216,217,218,219,220,221,222,223,224,225,226,227,228,229,230,231,232,233,234,235,236,237,238,239,240,241,242,243,244,245,246,247,248,249,250,251,252],\"kasios_index\":{\"__ndarray__\":\"AAAAAAAA+H8AAAAAAAD4fwAAAAAAAPh/AAAAAAAA+H8AAAAAAAD4fwAAAAAAAPh/AAAAAAAA+H8AAAAAAAD4fwAAAAAAAPh/AAAAAAAA+H8AAAAAAAD4fwAAAAAAAPh/AAAAAAAA+H8AAAAAAAD4fwAAAAAAAPh/AAAAAAAA+H8AAAAAAAD4fwAAAAAAAPh/AAAAAAAA+H8AAAAAAAD4fwAAAAAAAPh/AAAAAAAA+H8AAAAAAAD4fwAAAAAAAPh/AAAAAAAA+H8AAAAAAAD4fwAAAAAAAPh/AAAAAAAA+H8AAAAAAAD4fwAAAAAAAPh/AAAAAAAA+H8AAAAAAAD4fwAAAAAAAPh/AAAAAAAA+H8AAAAAAAD4fwAAAAAAAPh/AAAAAAAA+H8AAAAAAAD4fwAAAAAAAPh/AAAAAAAA+H8AAAAAAAD4fwAAAAAAAPh/AAAAAAAA+H8AAAAAAAD4fwAAAAAAAPh/AAAAAAAA+H8AAAAAAAD4fwAAAAAAAPh/AAAAAAAA+H8AAAAAAAD4fwAAAAAAAPh/AAAAAAAA+H8AAAAAAAD4fwAAAAAAAPh/AAAAAAAA+H8AAAAAAAD4fwAAAAAAAPh/AAAAAAAA+H8AAAAAAAD4fwAAAAAAAPh/AAAAAAAA+H8AAAAAAAD4fwAAAAAAAPh/AAAAAAAA+H8AAAAAAAD4fwAAAAAAAPh/AAAAAAAA+H8=\",\"dtype\":\"float64\",\"shape\":[67]},\"specie\":[\"Blue-collared Zipper\",\"Blue-collared Zipper\",\"Blue-collared Zipper\",\"Blue-collared Zipper\",\"Blue-collared Zipper\",\"Blue-collared Zipper\",\"Blue-collared Zipper\",\"Blue-collared Zipper\",\"Blue-collared Zipper\",\"Blue-collared Zipper\",\"Blue-collared Zipper\",\"Blue-collared Zipper\",\"Blue-collared Zipper\",\"Blue-collared Zipper\",\"Blue-collared Zipper\",\"Blue-collared Zipper\",\"Blue-collared Zipper\",\"Blue-collared Zipper\",\"Blue-collared Zipper\",\"Blue-collared Zipper\",\"Blue-collared Zipper\",\"Blue-collared Zipper\",\"Blue-collared Zipper\",\"Blue-collared Zipper\",\"Blue-collared Zipper\",\"Blue-collared Zipper\",\"Blue-collared Zipper\",\"Blue-collared Zipper\",\"Blue-collared Zipper\",\"Blue-collared Zipper\",\"Blue-collared Zipper\",\"Blue-collared Zipper\",\"Blue-collared Zipper\",\"Blue-collared Zipper\",\"Blue-collared Zipper\",\"Blue-collared Zipper\",\"Blue-collared Zipper\",\"Blue-collared Zipper\",\"Blue-collared Zipper\",\"Blue-collared Zipper\",\"Blue-collared Zipper\",\"Blue-collared Zipper\",\"Blue-collared Zipper\",\"Blue-collared Zipper\",\"Blue-collared Zipper\",\"Blue-collared Zipper\",\"Blue-collared Zipper\",\"Blue-collared Zipper\",\"Blue-collared Zipper\",\"Blue-collared Zipper\",\"Blue-collared Zipper\",\"Blue-collared Zipper\",\"Blue-collared Zipper\",\"Blue-collared Zipper\",\"Blue-collared Zipper\",\"Blue-collared Zipper\",\"Blue-collared Zipper\",\"Blue-collared Zipper\",\"Blue-collared Zipper\",\"Blue-collared Zipper\",\"Blue-collared Zipper\",\"Blue-collared Zipper\",\"Blue-collared Zipper\",\"Blue-collared Zipper\",\"Blue-collared Zipper\",\"Blue-collared Zipper\",\"Blue-collared Zipper\"],\"x\":{\"__ndarray__\":\"KVekQZNwiEEzJl5B3bGcQVGXokERhpZBGOyNQX73hEGG+I1B3muHQR0OYkEywIJBv2JcQYyfHUGe2JlB8UeZQYWBpEGmKa1Bo8qFQTQ2T0Gx9JdBUdSpQWA8fUEJXKlBuqVTQcbRbUFqoYZBqY6CQVjQhkFn5IlBw+aWQSc8dkEMBGZBgzBXQVvQkUHRg4dBjTeZQTXbfUFFRatBz+GaQbhEm0FczH5B7oyGQfhxRUFc/IlBwT6BQe0TUUE1n0RBUS2NQafdTUEbk5FBVXygQdbZT0EK5TtBTdlDQYhhl0EO9FdBh8GJQUu4gEGt+11B6VGGQf8CQ0EXXj9BOWCjQQkwqUGYjZZBs1KUQQ==\",\"dtype\":\"float32\",\"shape\":[67]},\"y\":{\"__ndarray__\":\"2Gd9QdjKZEEfWFlBLbFrQZkMeEFhA2RBRRNHQXsFSkGgkVRB42BUQScuU0HSoF9BrctZQZ/FZ0FPQ1xBS89dQf51akEAOXpB8fBPQX0CSEGYt2tBTXJ6QeCXOEEg4HlBjak2QR4TOUFxyVRBYPFDQYmtU0EtAWhBrPxfQfIRVUH9O1ZBngiHQZ6scEEI7FpBiv9rQZ0aXEFbqXhBlblrQQyBYUF5nFNBx5VOQdQNbUFoTFhBBio3Qb/TSEFnZ3pB6SZBQSTrUUHDnnBBVi+HQepAUUGhV1FBogt6QbtYakHxK0NB6GlnQeREU0Ebv1lB7RRZQVg4c0G4qYNBx5OBQey9hUHHbXpBtPNZQQ==\",\"dtype\":\"float32\",\"shape\":[67]}},\"selected\":{\"id\":\"642f2a0d-1b94-459f-9456-1c2b9a224eb7\",\"type\":\"Selection\"},\"selection_policy\":{\"id\":\"d7f2aaac-fd60-4f42-b67b-f34b42ea62d7\",\"type\":\"UnionRenderers\"}},\"id\":\"6cf3563c-f4ce-479e-8c0b-d5faebdb75c6\",\"type\":\"ColumnDataSource\"},{\"attributes\":{\"callback\":null,\"data\":{\"index\":[1894,1895,1896,1897,1898,1899,1900,1901,1902,1903,1904,1905,1906,1907,1908,1909,1910,1911,1912,1913,1914,1915,1916,1917,1918,1919,1920,1921,1922,1923,1924,1925,1926,1927,1928,1929,1930,1931,1932,1933,1934,1935,1936,1937,1938,1939,1940,1941,1942,1943,1944,1945,1946,1947,1948,1949,1950,1951,1952,1953,1954,1955,1956,1957,1958,1959,1960,1961,1962,1963,1964,1965,1966,1967,1968,1969,1970,1971,1972,1973,1974,1975,1976,1977,1978,1979,1980,1981,1982],\"kasios_index\":{\"__ndarray__\":\"AAAAAAAA+H8AAAAAAAD4fwAAAAAAAPh/AAAAAAAA+H8AAAAAAAD4fwAAAAAAAPh/AAAAAAAA+H8AAAAAAAD4fwAAAAAAAPh/AAAAAAAA+H8AAAAAAAD4fwAAAAAAAPh/AAAAAAAA+H8AAAAAAAD4fwAAAAAAAPh/AAAAAAAA+H8AAAAAAAD4fwAAAAAAAPh/AAAAAAAA+H8AAAAAAAD4fwAAAAAAAPh/AAAAAAAA+H8AAAAAAAD4fwAAAAAAAPh/AAAAAAAA+H8AAAAAAAD4fwAAAAAAAPh/AAAAAAAA+H8AAAAAAAD4fwAAAAAAAPh/AAAAAAAA+H8AAAAAAAD4fwAAAAAAAPh/AAAAAAAA+H8AAAAAAAD4fwAAAAAAAPh/AAAAAAAA+H8AAAAAAAD4fwAAAAAAAPh/AAAAAAAA+H8AAAAAAAD4fwAAAAAAAPh/AAAAAAAA+H8AAAAAAAD4fwAAAAAAAPh/AAAAAAAA+H8AAAAAAAD4fwAAAAAAAPh/AAAAAAAA+H8AAAAAAAD4fwAAAAAAAPh/AAAAAAAA+H8AAAAAAAD4fwAAAAAAAPh/AAAAAAAA+H8AAAAAAAD4fwAAAAAAAPh/AAAAAAAA+H8AAAAAAAD4fwAAAAAAAPh/AAAAAAAA+H8AAAAAAAD4fwAAAAAAAPh/AAAAAAAA+H8AAAAAAAD4fwAAAAAAAPh/AAAAAAAA+H8AAAAAAAD4fwAAAAAAAPh/AAAAAAAA+H8AAAAAAAD4fwAAAAAAAPh/AAAAAAAA+H8AAAAAAAD4fwAAAAAAAPh/AAAAAAAA+H8AAAAAAAD4fwAAAAAAAPh/AAAAAAAA+H8AAAAAAAD4fwAAAAAAAPh/AAAAAAAA+H8AAAAAAAD4fwAAAAAAAPh/AAAAAAAA+H8AAAAAAAD4fwAAAAAAAPh/AAAAAAAA+H8AAAAAAAD4fw==\",\"dtype\":\"float64\",\"shape\":[89]},\"specie\":[\"Scrawny Jay\",\"Scrawny Jay\",\"Scrawny Jay\",\"Scrawny Jay\",\"Scrawny Jay\",\"Scrawny Jay\",\"Scrawny Jay\",\"Scrawny Jay\",\"Scrawny Jay\",\"Scrawny Jay\",\"Scrawny Jay\",\"Scrawny Jay\",\"Scrawny Jay\",\"Scrawny Jay\",\"Scrawny Jay\",\"Scrawny Jay\",\"Scrawny Jay\",\"Scrawny Jay\",\"Scrawny Jay\",\"Scrawny Jay\",\"Scrawny Jay\",\"Scrawny Jay\",\"Scrawny Jay\",\"Scrawny Jay\",\"Scrawny Jay\",\"Scrawny Jay\",\"Scrawny Jay\",\"Scrawny Jay\",\"Scrawny Jay\",\"Scrawny Jay\",\"Scrawny Jay\",\"Scrawny Jay\",\"Scrawny Jay\",\"Scrawny Jay\",\"Scrawny Jay\",\"Scrawny Jay\",\"Scrawny Jay\",\"Scrawny Jay\",\"Scrawny Jay\",\"Scrawny Jay\",\"Scrawny Jay\",\"Scrawny Jay\",\"Scrawny Jay\",\"Scrawny Jay\",\"Scrawny Jay\",\"Scrawny Jay\",\"Scrawny Jay\",\"Scrawny Jay\",\"Scrawny Jay\",\"Scrawny Jay\",\"Scrawny Jay\",\"Scrawny Jay\",\"Scrawny Jay\",\"Scrawny Jay\",\"Scrawny Jay\",\"Scrawny Jay\",\"Scrawny Jay\",\"Scrawny Jay\",\"Scrawny Jay\",\"Scrawny Jay\",\"Scrawny Jay\",\"Scrawny Jay\",\"Scrawny Jay\",\"Scrawny Jay\",\"Scrawny Jay\",\"Scrawny Jay\",\"Scrawny Jay\",\"Scrawny Jay\",\"Scrawny Jay\",\"Scrawny Jay\",\"Scrawny Jay\",\"Scrawny Jay\",\"Scrawny Jay\",\"Scrawny Jay\",\"Scrawny Jay\",\"Scrawny Jay\",\"Scrawny Jay\",\"Scrawny Jay\",\"Scrawny Jay\",\"Scrawny Jay\",\"Scrawny Jay\",\"Scrawny Jay\",\"Scrawny Jay\",\"Scrawny Jay\",\"Scrawny Jay\",\"Scrawny Jay\",\"Scrawny Jay\",\"Scrawny Jay\",\"Scrawny Jay\"],\"x\":{\"__ndarray__\":\"B8hOQSb4hEEODDBBBVBMQRhRYUEgJ0tBFFgwQZpXY0GdF0NBQkopQWnIREF5bTZBH4VSQVH+UkFRaURBEYAzQdl9XkG8NUtBat8xQXapHkH8nFNBfs80QanhQkGDtS9BvB8vQbBggkFIZjBB8QVMQT7NV0EXy1lBfLdBQdpIX0HW1zBBT8EkQaFdTEGEpaJBXr5UQblgUUG9flxB8jE4QTcdM0HlAjRBqvVMQfcZjUGbwGBBhshWQYEMTEHEl0dBfoY0QSzCVUHl9klBGIZUQZ8XMEFy3WJBmeZEQfbTVEF62GBBt7lTQRPwV0EZTFdBgjhWQYjAYkEoEWFBkShAQe1WIEEyEJlBbvZDQVddVEGv5kpBfeQ8Qa1RHkH9p05Bg3M/QU1TgEHJbGZB/stAQcX5NkExnzNBmFpYQa/5WkGvEVZBlpk2QdXxQEHffUVBgBtUQQgxOUGOsURBTSk0QbBIS0E=\",\"dtype\":\"float32\",\"shape\":[89]},\"y\":{\"__ndarray__\":\"iQKYQd+cRUHoZ3JBbX2VQWdph0F0jm5B7sl7QdIGh0EaBYlBlvCCQSHAlEHh4pBBXt+WQfsyeUE5IZVBYLGNQWR/kkFBL5hBDjuBQSZQeUEqy5ZBpyaEQczDgUFIhIlBcxqGQePKVUHiA3RBipOYQaOCi0FbF45BPS2SQedii0Er75NBfNWFQdcbjEFZgIxBye+QQYVPjkHi51pBubiDQbX6bEHRC3lBE/eLQaXvU0GGGIhBYQZyQeMsiEHRTX5BljJyQd90jUFQtIRBC7GJQUk5j0HOoodBSR5XQWBll0HP+5NBv5SQQUv2j0FAw4xB9diRQfzTh0HPvYlBT/yIQeIsiEHawIBB886UQcf3j0GmT5FBikWJQSnQd0G5/YRBVi+JQSrlVUHt1lZBYiqHQbQSlUHpAIpBx1qPQZy7kkHsWJNBtSlzQb86jUHy+ZRBJveNQeuZg0E69YlBqjaOQQnykUE=\",\"dtype\":\"float32\",\"shape\":[89]}},\"selected\":{\"id\":\"a2d5d3e0-8eb6-46e6-96e3-bfa7aa34c01f\",\"type\":\"Selection\"},\"selection_policy\":{\"id\":\"ae5bdb8e-7de3-4560-b23b-28a63ac9b831\",\"type\":\"UnionRenderers\"}},\"id\":\"37602aa4-266a-4569-91d9-05b066650693\",\"type\":\"ColumnDataSource\"},{\"attributes\":{\"fill_alpha\":{\"value\":0.1},\"fill_color\":{\"value\":\"#1f77b4\"},\"line_alpha\":{\"value\":0.1},\"line_color\":{\"value\":\"#1f77b4\"},\"size\":{\"units\":\"screen\",\"value\":5},\"x\":{\"field\":\"x\"},\"y\":{\"field\":\"y\"}},\"id\":\"2afd6879-3315-4314-a496-f11402b39175\",\"type\":\"Circle\"},{\"attributes\":{\"fill_alpha\":{\"value\":0.6},\"fill_color\":{\"field\":\"specie\",\"transform\":{\"id\":\"57b3006a-fb74-499d-b328-2f993b3973b8\",\"type\":\"CategoricalColorMapper\"}},\"line_alpha\":{\"value\":0.6},\"line_color\":{\"field\":\"specie\",\"transform\":{\"id\":\"57b3006a-fb74-499d-b328-2f993b3973b8\",\"type\":\"CategoricalColorMapper\"}},\"size\":{\"units\":\"screen\",\"value\":5},\"x\":{\"field\":\"x\"},\"y\":{\"field\":\"y\"}},\"id\":\"a8144ea9-14e4-4306-a057-bb15a889dabc\",\"type\":\"Circle\"},{\"attributes\":{\"source\":{\"id\":\"1fb53da5-09d6-4969-bdbe-b856f1ae69ee\",\"type\":\"ColumnDataSource\"}},\"id\":\"eaf91c0c-04f7-4272-94c1-17ed87971fa6\",\"type\":\"CDSView\"},{\"attributes\":{\"factors\":[\"Rose-crested Blue Pipit\",\"Blue-collared Zipper\",\"Bombadil\",\"Broad-winged Jojo\",\"Canadian Cootamum\",\"Carries Champagne Pipit\",\"Darkwing Sparrow\",\"Eastern Corn Skeet\",\"Green-tipped Scarlet Pipit\",\"Lesser Birchbeere\",\"Orange Pine Plover\",\"Ordinary Snape\",\"Pinkfinch\",\"Purple Tooting Tout\",\"Qax\",\"Queenscoat\",\"Bent-beak Riffraff\",\"Scrawny Jay\",\"Vermillion Trillian\",\"Kasios Test Bird\"],\"palette\":[\"#1f77b4\",\"#aec7e8\",\"#ff7f0e\",\"#ffbb78\",\"#2ca02c\",\"#98df8a\",\"#d62728\",\"#ff9896\",\"#9467bd\",\"#c5b0d5\",\"#8c564b\",\"#c49c94\",\"#e377c2\",\"#f7b6d2\",\"#7f7f7f\",\"#c7c7c7\",\"#bcbd22\",\"#dbdb8d\",\"#17becf\",\"#9edae5\"]},\"id\":\"57b3006a-fb74-499d-b328-2f993b3973b8\",\"type\":\"CategoricalColorMapper\"},{\"attributes\":{\"source\":{\"id\":\"f64429d8-75a4-4e0c-be5f-46ab8cbd5235\",\"type\":\"ColumnDataSource\"}},\"id\":\"4899df41-fdc0-42b6-ac09-50df76e802ef\",\"type\":\"CDSView\"},{\"attributes\":{},\"id\":\"c60bf5ed-45ed-46d2-ac39-47c1359ee0eb\",\"type\":\"ResetTool\"},{\"attributes\":{\"data_source\":{\"id\":\"61cad34c-eb9d-446e-9c77-637d6282e163\",\"type\":\"ColumnDataSource\"},\"glyph\":{\"id\":\"bfbd699f-6b0e-468f-939b-fb22f9c14685\",\"type\":\"Circle\"},\"hover_glyph\":null,\"muted_glyph\":null,\"nonselection_glyph\":{\"id\":\"2afd6879-3315-4314-a496-f11402b39175\",\"type\":\"Circle\"},\"selection_glyph\":null,\"view\":{\"id\":\"1722ed66-55d6-4605-8fae-40e0263a3395\",\"type\":\"CDSView\"}},\"id\":\"f5003651-680b-410a-9d57-38156e2537d5\",\"type\":\"GlyphRenderer\"},{\"attributes\":{\"fill_alpha\":{\"value\":0.1},\"fill_color\":{\"value\":\"#1f77b4\"},\"line_alpha\":{\"value\":0.1},\"line_color\":{\"value\":\"#1f77b4\"},\"size\":{\"units\":\"screen\",\"value\":5},\"x\":{\"field\":\"x\"},\"y\":{\"field\":\"y\"}},\"id\":\"19cc69e9-3967-480f-9800-268e05c1a383\",\"type\":\"Circle\"},{\"attributes\":{\"data_source\":{\"id\":\"d0407813-1ea0-467a-a3b6-b1f89e51fd39\",\"type\":\"ColumnDataSource\"},\"glyph\":{\"id\":\"3e994624-9b33-4e8f-88ca-2aef0d28ef8b\",\"type\":\"Circle\"},\"hover_glyph\":null,\"muted_glyph\":null,\"nonselection_glyph\":{\"id\":\"a6c2f8df-1da1-4026-bf86-be035114c0d9\",\"type\":\"Circle\"},\"selection_glyph\":null,\"view\":{\"id\":\"1aec07b1-144d-42bc-8e26-f1a8fff759d1\",\"type\":\"CDSView\"}},\"id\":\"92732f32-37cb-4a59-a859-397c2027f79f\",\"type\":\"GlyphRenderer\"},{\"attributes\":{\"fill_alpha\":{\"value\":0.6},\"fill_color\":{\"field\":\"specie\",\"transform\":{\"id\":\"57b3006a-fb74-499d-b328-2f993b3973b8\",\"type\":\"CategoricalColorMapper\"}},\"line_alpha\":{\"value\":0.6},\"line_color\":{\"field\":\"specie\",\"transform\":{\"id\":\"57b3006a-fb74-499d-b328-2f993b3973b8\",\"type\":\"CategoricalColorMapper\"}},\"size\":{\"units\":\"screen\",\"value\":5},\"x\":{\"field\":\"x\"},\"y\":{\"field\":\"y\"}},\"id\":\"cee59e8f-437c-4140-9987-9216f55c6d11\",\"type\":\"Circle\"},{\"attributes\":{\"source\":{\"id\":\"37602aa4-266a-4569-91d9-05b066650693\",\"type\":\"ColumnDataSource\"}},\"id\":\"f94411fe-3fe7-44b1-baa9-60c2890669f6\",\"type\":\"CDSView\"},{\"attributes\":{\"data_source\":{\"id\":\"ac4dc7bf-cd69-4eb7-981c-a8d66ef060ad\",\"type\":\"ColumnDataSource\"},\"glyph\":{\"id\":\"5187d73e-f52c-4e2a-b737-f944e3fc53f8\",\"type\":\"Circle\"},\"hover_glyph\":null,\"muted_glyph\":null,\"nonselection_glyph\":{\"id\":\"f85ee5ec-bd8f-41bb-bb4b-e34f2d87b9de\",\"type\":\"Circle\"},\"selection_glyph\":null,\"view\":{\"id\":\"27dca96c-9179-480b-ab75-42e508d3ce52\",\"type\":\"CDSView\"}},\"id\":\"daf2b972-05c7-44b7-a091-7f58c955f97f\",\"type\":\"GlyphRenderer\"},{\"attributes\":{\"data_source\":{\"id\":\"c858f7d7-3687-4893-9ac7-0cef478a4a7c\",\"type\":\"ColumnDataSource\"},\"glyph\":{\"id\":\"f2b5af0c-55eb-44a5-8d48-e6693add1436\",\"type\":\"Circle\"},\"hover_glyph\":null,\"muted_glyph\":null,\"nonselection_glyph\":{\"id\":\"c64b74c4-cc44-4ebd-b5b8-af297a16ebc4\",\"type\":\"Circle\"},\"selection_glyph\":null,\"view\":{\"id\":\"2d2c7b7e-e182-4943-97d5-c80b5a43d43e\",\"type\":\"CDSView\"}},\"id\":\"497f43b0-f8c5-4487-a79c-a1f985de1897\",\"type\":\"GlyphRenderer\"},{\"attributes\":{\"fill_alpha\":{\"value\":0.6},\"fill_color\":{\"field\":\"specie\",\"transform\":{\"id\":\"57b3006a-fb74-499d-b328-2f993b3973b8\",\"type\":\"CategoricalColorMapper\"}},\"line_alpha\":{\"value\":0.6},\"line_color\":{\"field\":\"specie\",\"transform\":{\"id\":\"57b3006a-fb74-499d-b328-2f993b3973b8\",\"type\":\"CategoricalColorMapper\"}},\"size\":{\"units\":\"screen\",\"value\":5},\"x\":{\"field\":\"x\"},\"y\":{\"field\":\"y\"}},\"id\":\"3e994624-9b33-4e8f-88ca-2aef0d28ef8b\",\"type\":\"Circle\"},{\"attributes\":{\"fill_alpha\":{\"value\":0.1},\"fill_color\":{\"value\":\"#1f77b4\"},\"line_alpha\":{\"value\":0.1},\"line_color\":{\"value\":\"#1f77b4\"},\"size\":{\"units\":\"screen\",\"value\":5},\"x\":{\"field\":\"x\"},\"y\":{\"field\":\"y\"}},\"id\":\"6e5db4a1-28f9-42b7-a47c-9e84a4f4888c\",\"type\":\"Circle\"},{\"attributes\":{\"fill_alpha\":{\"value\":0.1},\"fill_color\":{\"value\":\"#1f77b4\"},\"line_alpha\":{\"value\":0.1},\"line_color\":{\"value\":\"#1f77b4\"},\"size\":{\"units\":\"screen\",\"value\":5},\"x\":{\"field\":\"x\"},\"y\":{\"field\":\"y\"}},\"id\":\"3a82ab50-fe5e-43e2-84ee-22ff8e72b69d\",\"type\":\"Circle\"},{\"attributes\":{\"callback\":null,\"data\":{\"index\":[930,931,932,933,934,935,936,937,938,939,940,941,942,943,944,945,946,947,948,949,950,951,952,953,954,955,956,957,958,959,960,961,962,963,964,965,966,967,968,969,970,971,972,973,974,975,976,977,978,979,980,981,982,983,984,985,986,987,988,989,990,991,992,993,994,995,996,997,998,999,1000,1001,1002,1003,1004,1005,1006,1007,1008,1009,1010,1011,1012,1013,1014,1015,1016,1017,1018,1019,1020,1021,1022,1023,1024,1025,1026,1027,1028,1029,1030,1031,1032,1033,1034,1035,1036,1037,1038,1039,1040,1041,1042,1043,1044,1045,1046,1047,1048,1049,1050,1051,1052,1053,1054,1055,1056,1057,1058,1059,1060,1061,1062,1063,1064,1065,1066,1067,1068,1069,1070,1071,1072,1073,1074,1075,1076,1077,1078,1079],\"kasios_index\":{\"__ndarray__\":\"AAAAAAAA+H8AAAAAAAD4fwAAAAAAAPh/AAAAAAAA+H8AAAAAAAD4fwAAAAAAAPh/AAAAAAAA+H8AAAAAAAD4fwAAAAAAAPh/AAAAAAAA+H8AAAAAAAD4fwAAAAAAAPh/AAAAAAAA+H8AAAAAAAD4fwAAAAAAAPh/AAAAAAAA+H8AAAAAAAD4fwAAAAAAAPh/AAAAAAAA+H8AAAAAAAD4fwAAAAAAAPh/AAAAAAAA+H8AAAAAAAD4fwAAAAAAAPh/AAAAAAAA+H8AAAAAAAD4fwAAAAAAAPh/AAAAAAAA+H8AAAAAAAD4fwAAAAAAAPh/AAAAAAAA+H8AAAAAAAD4fwAAAAAAAPh/AAAAAAAA+H8AAAAAAAD4fwAAAAAAAPh/AAAAAAAA+H8AAAAAAAD4fwAAAAAAAPh/AAAAAAAA+H8AAAAAAAD4fwAAAAAAAPh/AAAAAAAA+H8AAAAAAAD4fwAAAAAAAPh/AAAAAAAA+H8AAAAAAAD4fwAAAAAAAPh/AAAAAAAA+H8AAAAAAAD4fwAAAAAAAPh/AAAAAAAA+H8AAAAAAAD4fwAAAAAAAPh/AAAAAAAA+H8AAAAAAAD4fwAAAAAAAPh/AAAAAAAA+H8AAAAAAAD4fwAAAAAAAPh/AAAAAAAA+H8AAAAAAAD4fwAAAAAAAPh/AAAAAAAA+H8AAAAAAAD4fwAAAAAAAPh/AAAAAAAA+H8AAAAAAAD4fwAAAAAAAPh/AAAAAAAA+H8AAAAAAAD4fwAAAAAAAPh/AAAAAAAA+H8AAAAAAAD4fwAAAAAAAPh/AAAAAAAA+H8AAAAAAAD4fwAAAAAAAPh/AAAAAAAA+H8AAAAAAAD4fwAAAAAAAPh/AAAAAAAA+H8AAAAAAAD4fwAAAAAAAPh/AAAAAAAA+H8AAAAAAAD4fwAAAAAAAPh/AAAAAAAA+H8AAAAAAAD4fwAAAAAAAPh/AAAAAAAA+H8AAAAAAAD4fwAAAAAAAPh/AAAAAAAA+H8AAAAAAAD4fwAAAAAAAPh/AAAAAAAA+H8AAAAAAAD4fwAAAAAAAPh/AAAAAAAA+H8AAAAAAAD4fwAAAAAAAPh/AAAAAAAA+H8AAAAAAAD4fwAAAAAAAPh/AAAAAAAA+H8AAAAAAAD4fwAAAAAAAPh/AAAAAAAA+H8AAAAAAAD4fwAAAAAAAPh/AAAAAAAA+H8AAAAAAAD4fwAAAAAAAPh/AAAAAAAA+H8AAAAAAAD4fwAAAAAAAPh/AAAAAAAA+H8AAAAAAAD4fwAAAAAAAPh/AAAAAAAA+H8AAAAAAAD4fwAAAAAAAPh/AAAAAAAA+H8AAAAAAAD4fwAAAAAAAPh/AAAAAAAA+H8AAAAAAAD4fwAAAAAAAPh/AAAAAAAA+H8AAAAAAAD4fwAAAAAAAPh/AAAAAAAA+H8AAAAAAAD4fwAAAAAAAPh/AAAAAAAA+H8AAAAAAAD4fwAAAAAAAPh/AAAAAAAA+H8AAAAAAAD4fwAAAAAAAPh/AAAAAAAA+H8AAAAAAAD4fwAAAAAAAPh/AAAAAAAA+H8AAAAAAAD4fwAAAAAAAPh/AAAAAAAA+H8AAAAAAAD4fwAAAAAAAPh/\",\"dtype\":\"float64\",\"shape\":[150]},\"specie\":[\"Lesser Birchbeere\",\"Lesser Birchbeere\",\"Lesser Birchbeere\",\"Lesser Birchbeere\",\"Lesser Birchbeere\",\"Lesser Birchbeere\",\"Lesser Birchbeere\",\"Lesser Birchbeere\",\"Lesser Birchbeere\",\"Lesser Birchbeere\",\"Lesser Birchbeere\",\"Lesser Birchbeere\",\"Lesser Birchbeere\",\"Lesser Birchbeere\",\"Lesser Birchbeere\",\"Lesser Birchbeere\",\"Lesser Birchbeere\",\"Lesser Birchbeere\",\"Lesser Birchbeere\",\"Lesser Birchbeere\",\"Lesser Birchbeere\",\"Lesser Birchbeere\",\"Lesser Birchbeere\",\"Lesser Birchbeere\",\"Lesser Birchbeere\",\"Lesser Birchbeere\",\"Lesser Birchbeere\",\"Lesser Birchbeere\",\"Lesser Birchbeere\",\"Lesser Birchbeere\",\"Lesser Birchbeere\",\"Lesser Birchbeere\",\"Lesser Birchbeere\",\"Lesser Birchbeere\",\"Lesser Birchbeere\",\"Lesser Birchbeere\",\"Lesser Birchbeere\",\"Lesser Birchbeere\",\"Lesser Birchbeere\",\"Lesser Birchbeere\",\"Lesser Birchbeere\",\"Lesser Birchbeere\",\"Lesser Birchbeere\",\"Lesser Birchbeere\",\"Lesser Birchbeere\",\"Lesser Birchbeere\",\"Lesser Birchbeere\",\"Lesser Birchbeere\",\"Lesser Birchbeere\",\"Lesser Birchbeere\",\"Lesser Birchbeere\",\"Lesser Birchbeere\",\"Lesser Birchbeere\",\"Lesser Birchbeere\",\"Lesser Birchbeere\",\"Lesser Birchbeere\",\"Lesser Birchbeere\",\"Lesser Birchbeere\",\"Lesser Birchbeere\",\"Lesser Birchbeere\",\"Lesser Birchbeere\",\"Lesser Birchbeere\",\"Lesser Birchbeere\",\"Lesser Birchbeere\",\"Lesser Birchbeere\",\"Lesser Birchbeere\",\"Lesser Birchbeere\",\"Lesser Birchbeere\",\"Lesser Birchbeere\",\"Lesser Birchbeere\",\"Lesser Birchbeere\",\"Lesser Birchbeere\",\"Lesser Birchbeere\",\"Lesser Birchbeere\",\"Lesser Birchbeere\",\"Lesser Birchbeere\",\"Lesser Birchbeere\",\"Lesser Birchbeere\",\"Lesser Birchbeere\",\"Lesser Birchbeere\",\"Lesser Birchbeere\",\"Lesser Birchbeere\",\"Lesser Birchbeere\",\"Lesser Birchbeere\",\"Lesser Birchbeere\",\"Lesser Birchbeere\",\"Lesser Birchbeere\",\"Lesser Birchbeere\",\"Lesser Birchbeere\",\"Lesser Birchbeere\",\"Lesser Birchbeere\",\"Lesser Birchbeere\",\"Lesser Birchbeere\",\"Lesser Birchbeere\",\"Lesser Birchbeere\",\"Lesser Birchbeere\",\"Lesser Birchbeere\",\"Lesser Birchbeere\",\"Lesser Birchbeere\",\"Lesser Birchbeere\",\"Lesser Birchbeere\",\"Lesser Birchbeere\",\"Lesser Birchbeere\",\"Lesser Birchbeere\",\"Lesser Birchbeere\",\"Lesser Birchbeere\",\"Lesser Birchbeere\",\"Lesser Birchbeere\",\"Lesser Birchbeere\",\"Lesser Birchbeere\",\"Lesser Birchbeere\",\"Lesser Birchbeere\",\"Lesser Birchbeere\",\"Lesser Birchbeere\",\"Lesser Birchbeere\",\"Lesser Birchbeere\",\"Lesser Birchbeere\",\"Lesser Birchbeere\",\"Lesser Birchbeere\",\"Lesser Birchbeere\",\"Lesser Birchbeere\",\"Lesser Birchbeere\",\"Lesser Birchbeere\",\"Lesser Birchbeere\",\"Lesser Birchbeere\",\"Lesser Birchbeere\",\"Lesser Birchbeere\",\"Lesser Birchbeere\",\"Lesser Birchbeere\",\"Lesser Birchbeere\",\"Lesser Birchbeere\",\"Lesser Birchbeere\",\"Lesser Birchbeere\",\"Lesser Birchbeere\",\"Lesser Birchbeere\",\"Lesser Birchbeere\",\"Lesser Birchbeere\",\"Lesser Birchbeere\",\"Lesser Birchbeere\",\"Lesser Birchbeere\",\"Lesser Birchbeere\",\"Lesser Birchbeere\",\"Lesser Birchbeere\",\"Lesser Birchbeere\",\"Lesser Birchbeere\",\"Lesser Birchbeere\",\"Lesser Birchbeere\",\"Lesser Birchbeere\",\"Lesser Birchbeere\",\"Lesser Birchbeere\"],\"x\":{\"__ndarray__\":\"bIyLQYqDjUGnGWFBZQaHQX8Mh0F1omVB1jCHQQXThkFfwYFBCyyEQUbvhkG0tIRB4lGGQeJthUFbxIpBKseHQQPGhEGt84VBVdqKQc1EiEE4qoRBCOl6QQ3TRkGXLXZBGuB/QXdrf0GRmWZBKkiLQb54Z0FMMYpBt/d0QaqigUExgIdBqouDQSEXf0Eooo9BzKaQQW8XgEGT54ZBs9djQeZqi0GhPWlBdAVwQehtdEHxT4xBtfd2QeIdiUFigmdB/82LQeJriEGgloJBo5x3QVKNREF4EItBj+KFQcw6hUFMa4tBUVuIQQ25gEFLvIRBN/B7QcKyiEENqIlBmM50QaDEd0EQiI1BlImFQbntcEGwOjxB2pmCQSMki0FTSn9BZc+AQcwziEGeJIhB6+2CQVyUi0EkondB4G6KQZLnkUGhA4tB3O2UQfpAa0FbaXNBcz9OQf2RjUEDKYBB3e9xQUcNh0EeOItBOlCCQQYeXUHt74hBkVuGQXxyg0GgZHdBlmgxQakYi0GKKoVBkcaHQf+CbkEwbItBlAR2QTFbcUFgC2pB9Ql0Qbv0i0FQDYBBH6NkQUt8i0EYA4xB7UqRQYgBkUF+QYRBTMSKQcJ4ikF8F4pBM5yGQSszdUEazIBB/dqHQTsci0H2N4BBBVWDQegCjEFi4oRBk+Z/Qa8/ckFx6HdBTL9gQcjpYUEp3mJBp2+LQWlohUFsU4dB5C+KQQIwiUEiOl1BZyZcQacIg0EfQmdBYFBZQaAzikFYXoJBQ9OBQWQTKUEvjIBBvUuJQfexX0FU2WBB\",\"dtype\":\"float32\",\"shape\":[150]},\"y\":{\"__ndarray__\":\"6LEwQYW4NUGMuolBKjEnQbjAJUH7T1ZBGT0nQVnAJkHuh1RBKjgsQZH3JUEpHydBbaskQWyQJ0FOhCZB+elbQU70KEGDfUFBOb0nQaolJ0Hl+lBB2GFOQaO5OkHel0hBR+pSQXkfVUFSeExBarFTQarfSkEk0SVBEzc4QVhBUkFC1CdB5eUrQXr6UkGbqzhByd48QSFcUkGTEFNBc8wxQb9ZL0FeclBBJVlBQSnCQ0GkWSxBxEVLQZCVJUH7yFVBFeAtQcX8KUEfY11Byt5LQdU7TEHhQyhBK6MoQZCbKEFZ/StB+R4mQdQVWUH13U9BUkJVQcZXJUF2OSZBUlpDQXiASkGO315BASdMQUUnQEF/CoFBUEBTQUvjMEHTmlRB9CNVQbh4KEGiSVNBpyRUQd/yKkGXYUxBguUoQQMcU0H2BChBcNNZQU5UTUHqBUtB9ktAQTk+NkG0f1JBHYxSQT88J0GNZSlB26JVQZlJRUFntiVBI5onQRC3UUECYUtBITqJQeGQKUEueE9BiS4lQYnlSUHZhipB2ZY5QXAHSUEu1EdBR5NFQYfVLkF8oFVBk6RRQWS4M0FWGy1BPmNUQWuIVUEsL09BOxEoQe6NJ0FPtFNB4volQc3rSEHBN1NBJ8RCQY7yKEF+AVVBIq5RQVooMEGYL05BdW9cQZj6VUEimkxBwa9HQfGoiEEDZFFB2AlQQfl9UEFuA11ByXlWQUYKVEHdr0VBwhdFQdCHLUEqkVJBsUdzQabxRkEWK11B5n9UQcA/fUHZPllBtdVRQaPwhUGcKItB\",\"dtype\":\"float32\",\"shape\":[150]}},\"selected\":{\"id\":\"a57e7373-716f-48ec-bd22-60f036613cfe\",\"type\":\"Selection\"},\"selection_policy\":{\"id\":\"fefa5d69-131c-4bf9-8d8f-8ad0192f30dd\",\"type\":\"UnionRenderers\"}},\"id\":\"1fb53da5-09d6-4969-bdbe-b856f1ae69ee\",\"type\":\"ColumnDataSource\"},{\"attributes\":{\"callback\":null,\"data\":{\"index\":[565,566,567,568,569,570,571,572,573,574,575,576,577,578,579,580,581,582,583,584,585,586,587,588,589,590,591,592,593,594,595,596,597,598,599,600,601,602,603,604,605,606,607,608,609,610,611,612,613,614,615,616,617,618,619,620,621,622,623,624,625,626,627,628,629,630,631,632,633,634,635,636,637,638,639,640,641,642,643,644,645,646,647,648,649,650,651,652,653,654,655,656,657,658,659,660,661,662,663,664,665,666,667,668],\"kasios_index\":{\"__ndarray__\":\"AAAAAAAA+H8AAAAAAAD4fwAAAAAAAPh/AAAAAAAA+H8AAAAAAAD4fwAAAAAAAPh/AAAAAAAA+H8AAAAAAAD4fwAAAAAAAPh/AAAAAAAA+H8AAAAAAAD4fwAAAAAAAPh/AAAAAAAA+H8AAAAAAAD4fwAAAAAAAPh/AAAAAAAA+H8AAAAAAAD4fwAAAAAAAPh/AAAAAAAA+H8AAAAAAAD4fwAAAAAAAPh/AAAAAAAA+H8AAAAAAAD4fwAAAAAAAPh/AAAAAAAA+H8AAAAAAAD4fwAAAAAAAPh/AAAAAAAA+H8AAAAAAAD4fwAAAAAAAPh/AAAAAAAA+H8AAAAAAAD4fwAAAAAAAPh/AAAAAAAA+H8AAAAAAAD4fwAAAAAAAPh/AAAAAAAA+H8AAAAAAAD4fwAAAAAAAPh/AAAAAAAA+H8AAAAAAAD4fwAAAAAAAPh/AAAAAAAA+H8AAAAAAAD4fwAAAAAAAPh/AAAAAAAA+H8AAAAAAAD4fwAAAAAAAPh/AAAAAAAA+H8AAAAAAAD4fwAAAAAAAPh/AAAAAAAA+H8AAAAAAAD4fwAAAAAAAPh/AAAAAAAA+H8AAAAAAAD4fwAAAAAAAPh/AAAAAAAA+H8AAAAAAAD4fwAAAAAAAPh/AAAAAAAA+H8AAAAAAAD4fwAAAAAAAPh/AAAAAAAA+H8AAAAAAAD4fwAAAAAAAPh/AAAAAAAA+H8AAAAAAAD4fwAAAAAAAPh/AAAAAAAA+H8AAAAAAAD4fwAAAAAAAPh/AAAAAAAA+H8AAAAAAAD4fwAAAAAAAPh/AAAAAAAA+H8AAAAAAAD4fwAAAAAAAPh/AAAAAAAA+H8AAAAAAAD4fwAAAAAAAPh/AAAAAAAA+H8AAAAAAAD4fwAAAAAAAPh/AAAAAAAA+H8AAAAAAAD4fwAAAAAAAPh/AAAAAAAA+H8AAAAAAAD4fwAAAAAAAPh/AAAAAAAA+H8AAAAAAAD4fwAAAAAAAPh/AAAAAAAA+H8AAAAAAAD4fwAAAAAAAPh/AAAAAAAA+H8AAAAAAAD4fwAAAAAAAPh/AAAAAAAA+H8AAAAAAAD4fwAAAAAAAPh/AAAAAAAA+H8AAAAAAAD4fw==\",\"dtype\":\"float64\",\"shape\":[104]},\"specie\":[\"Carries Champagne Pipit\",\"Carries Champagne Pipit\",\"Carries Champagne Pipit\",\"Carries Champagne Pipit\",\"Carries Champagne Pipit\",\"Carries Champagne Pipit\",\"Carries Champagne Pipit\",\"Carries Champagne Pipit\",\"Carries Champagne Pipit\",\"Carries Champagne Pipit\",\"Carries Champagne Pipit\",\"Carries Champagne Pipit\",\"Carries Champagne Pipit\",\"Carries Champagne Pipit\",\"Carries Champagne Pipit\",\"Carries Champagne Pipit\",\"Carries Champagne Pipit\",\"Carries Champagne Pipit\",\"Carries Champagne Pipit\",\"Carries Champagne Pipit\",\"Carries Champagne Pipit\",\"Carries Champagne Pipit\",\"Carries Champagne Pipit\",\"Carries Champagne Pipit\",\"Carries Champagne Pipit\",\"Carries Champagne Pipit\",\"Carries Champagne Pipit\",\"Carries Champagne Pipit\",\"Carries Champagne Pipit\",\"Carries Champagne Pipit\",\"Carries Champagne Pipit\",\"Carries Champagne Pipit\",\"Carries Champagne Pipit\",\"Carries Champagne Pipit\",\"Carries Champagne Pipit\",\"Carries Champagne Pipit\",\"Carries Champagne Pipit\",\"Carries Champagne Pipit\",\"Carries Champagne Pipit\",\"Carries Champagne Pipit\",\"Carries Champagne Pipit\",\"Carries Champagne Pipit\",\"Carries Champagne Pipit\",\"Carries Champagne Pipit\",\"Carries Champagne Pipit\",\"Carries Champagne Pipit\",\"Carries Champagne Pipit\",\"Carries Champagne Pipit\",\"Carries Champagne Pipit\",\"Carries Champagne Pipit\",\"Carries Champagne Pipit\",\"Carries Champagne Pipit\",\"Carries Champagne Pipit\",\"Carries Champagne Pipit\",\"Carries Champagne Pipit\",\"Carries Champagne Pipit\",\"Carries Champagne Pipit\",\"Carries Champagne Pipit\",\"Carries Champagne Pipit\",\"Carries Champagne Pipit\",\"Carries Champagne Pipit\",\"Carries Champagne Pipit\",\"Carries Champagne Pipit\",\"Carries Champagne Pipit\",\"Carries Champagne Pipit\",\"Carries Champagne Pipit\",\"Carries Champagne Pipit\",\"Carries Champagne Pipit\",\"Carries Champagne Pipit\",\"Carries Champagne Pipit\",\"Carries Champagne Pipit\",\"Carries Champagne Pipit\",\"Carries Champagne Pipit\",\"Carries Champagne Pipit\",\"Carries Champagne Pipit\",\"Carries Champagne Pipit\",\"Carries Champagne Pipit\",\"Carries Champagne Pipit\",\"Carries Champagne Pipit\",\"Carries Champagne Pipit\",\"Carries Champagne Pipit\",\"Carries Champagne Pipit\",\"Carries Champagne Pipit\",\"Carries Champagne Pipit\",\"Carries Champagne Pipit\",\"Carries Champagne Pipit\",\"Carries Champagne Pipit\",\"Carries Champagne Pipit\",\"Carries Champagne Pipit\",\"Carries Champagne Pipit\",\"Carries Champagne Pipit\",\"Carries Champagne Pipit\",\"Carries Champagne Pipit\",\"Carries Champagne Pipit\",\"Carries Champagne Pipit\",\"Carries Champagne Pipit\",\"Carries Champagne Pipit\",\"Carries Champagne Pipit\",\"Carries Champagne Pipit\",\"Carries Champagne Pipit\",\"Carries Champagne Pipit\",\"Carries Champagne Pipit\",\"Carries Champagne Pipit\",\"Carries Champagne Pipit\"],\"x\":{\"__ndarray__\":\"U3M9QW2bPUFRlUBB74eCQa8ejkEgR1FBYjhuQb6HhkHW0oBBF5lWQb8uiEEPjERBHBNfQTLJfUFvjo1BTwWEQeUKbUE1HZZByCiLQZeRbUHhqopB2V5UQVwniUHEdoxBCMyLQSFheEEJOYpBkz2AQbl/a0HVB29Bw6F0QYprjEHGS4ZBTpR7QeOdh0FmQ3JBqztoQe30hUH/sV9BEYJ0QRT/iUFJlZlBf8CbQb2loUG2p5JBrlhfQQNEhEFlc49BVpmLQcfqZ0FRbIxBWT2BQdLRa0Hcu4NB2oFrQa31P0HZqVNBvEtyQdGuZkHtE5NBOjiGQb2KakHcXJVBF9uRQZH7c0FgsYtBma2TQS6mhEFyqFtB/qhUQR6BV0EYSFhBwm6GQXN9ikHhu1pBychrQaj/dUGXeXlBNEBfQX8AdUGOqYNBLltuQTZIiEEAEG5BzOOLQUCYhUHu02RBD6FcQaBahkF+Z2BB+D1hQSQfWUGhcFpByV1fQeoKhEGoBWBBQwqBQTNYY0HDjlhBQWBsQRVZYkFTRItBB8xgQVlhYUE=\",\"dtype\":\"float32\",\"shape\":[104]},\"y\":{\"__ndarray__\":\"o0x1QfJAfUFh/V5BGKsxQWwTWkGHZElBSZI1QVI0SUF4Al5B81daQXU6SUFbg1NBe+1bQcW9WkGMy1tBESxZQbNLWkFOCl1BOoBBQVKBV0HEUUBB7s9tQSJNVEEoHVJBmHxFQY/1SEHqxllBfZRdQV39UEHNQE5BnvA3QduePEEjWDlBICleQaljZEHB9E1BSKRZQUIvYUFS3IlB4XdXQaJsR0GUb21BfxeGQSSgb0H1XnFB4OlcQajNYkGhcTpBGsFAQR7HVkHQCGFBTilgQSPhUUEn+EtBsslYQZl/UkFSBjxBAAZXQdZyVEHaVnJBHwBLQd96UkF4p3VBvCluQWA2WUGu6lpBKnFUQfPeW0H4501BjcxeQeK7d0F1TIpB0XJiQVn4YUHSYlhBfARPQW88VEE8XFRBxCiMQdwvU0FXhWJBSa9TQcYgYUFkpVFB6JRhQX2gY0HMXFJBg4RaQVYNZkEHYYhBPIeIQdYkX0EgzF5BZ1hZQRzOY0Hb3oVBDzhiQe7fh0FJu3VBh85TQRyWikHer2RBomtoQUa2hkE=\",\"dtype\":\"float32\",\"shape\":[104]}},\"selected\":{\"id\":\"fe3bbbee-d41a-4ee8-82f2-04f048458d6a\",\"type\":\"Selection\"},\"selection_policy\":{\"id\":\"be8e3e72-1233-40f2-a13d-7f5e8106ee99\",\"type\":\"UnionRenderers\"}},\"id\":\"61cad34c-eb9d-446e-9c77-637d6282e163\",\"type\":\"ColumnDataSource\"},{\"attributes\":{\"plot\":{\"id\":\"0c442e89-95f0-45bb-9978-cde3b2988620\",\"subtype\":\"Figure\",\"type\":\"Plot\"},\"ticker\":{\"id\":\"17ac3860-b361-4305-b6eb-ee7d79f95d29\",\"type\":\"BasicTicker\"}},\"id\":\"fc3b7486-51c1-4458-b911-76bf024f0363\",\"type\":\"Grid\"},{\"attributes\":{\"callback\":null,\"data\":{\"index\":[0,1,2,3,4,5,6,7,8,9,10,11,12,13,14,15,16,17,18,19,20,21,22,23,24,25,26,27,28,29,30,31,32,33,34,35,36,37,38,39,40,41,42,43,44,45,46,47,48,49,50,51,52,53,54,55,56,57,58,59,60,61,62,63,64,65,66,67,68,69,70,71,72,73,74,75,76,77,78,79,80,81,82,83,84,85,86,87,88,89,90,91,92,93,94,95,96,97,98,99,100,101,102,103,104,105,106,107,108,109,110,111,112,113,114,115,116,117,118,119,120,121,122,123,124,125,126,127,128,129,130,131,132,133,134,135,136,137,138,139,140,141,142,143,144,145,146,147,148,149,150,151,152,153,154,155,156,157,158,159,160,161,162,163,164,165,166,167,168,169,170,171,172,173,174,175,176,177,178,179,180,181,182,183,184,185],\"kasios_index\":{\"__ndarray__\":\"AAAAAAAA+H8AAAAAAAD4fwAAAAAAAPh/AAAAAAAA+H8AAAAAAAD4fwAAAAAAAPh/AAAAAAAA+H8AAAAAAAD4fwAAAAAAAPh/AAAAAAAA+H8AAAAAAAD4fwAAAAAAAPh/AAAAAAAA+H8AAAAAAAD4fwAAAAAAAPh/AAAAAAAA+H8AAAAAAAD4fwAAAAAAAPh/AAAAAAAA+H8AAAAAAAD4fwAAAAAAAPh/AAAAAAAA+H8AAAAAAAD4fwAAAAAAAPh/AAAAAAAA+H8AAAAAAAD4fwAAAAAAAPh/AAAAAAAA+H8AAAAAAAD4fwAAAAAAAPh/AAAAAAAA+H8AAAAAAAD4fwAAAAAAAPh/AAAAAAAA+H8AAAAAAAD4fwAAAAAAAPh/AAAAAAAA+H8AAAAAAAD4fwAAAAAAAPh/AAAAAAAA+H8AAAAAAAD4fwAAAAAAAPh/AAAAAAAA+H8AAAAAAAD4fwAAAAAAAPh/AAAAAAAA+H8AAAAAAAD4fwAAAAAAAPh/AAAAAAAA+H8AAAAAAAD4fwAAAAAAAPh/AAAAAAAA+H8AAAAAAAD4fwAAAAAAAPh/AAAAAAAA+H8AAAAAAAD4fwAAAAAAAPh/AAAAAAAA+H8AAAAAAAD4fwAAAAAAAPh/AAAAAAAA+H8AAAAAAAD4fwAAAAAAAPh/AAAAAAAA+H8AAAAAAAD4fwAAAAAAAPh/AAAAAAAA+H8AAAAAAAD4fwAAAAAAAPh/AAAAAAAA+H8AAAAAAAD4fwAAAAAAAPh/AAAAAAAA+H8AAAAAAAD4fwAAAAAAAPh/AAAAAAAA+H8AAAAAAAD4fwAAAAAAAPh/AAAAAAAA+H8AAAAAAAD4fwAAAAAAAPh/AAAAAAAA+H8AAAAAAAD4fwAAAAAAAPh/AAAAAAAA+H8AAAAAAAD4fwAAAAAAAPh/AAAAAAAA+H8AAAAAAAD4fwAAAAAAAPh/AAAAAAAA+H8AAAAAAAD4fwAAAAAAAPh/AAAAAAAA+H8AAAAAAAD4fwAAAAAAAPh/AAAAAAAA+H8AAAAAAAD4fwAAAAAAAPh/AAAAAAAA+H8AAAAAAAD4fwAAAAAAAPh/AAAAAAAA+H8AAAAAAAD4fwAAAAAAAPh/AAAAAAAA+H8AAAAAAAD4fwAAAAAAAPh/AAAAAAAA+H8AAAAAAAD4fwAAAAAAAPh/AAAAAAAA+H8AAAAAAAD4fwAAAAAAAPh/AAAAAAAA+H8AAAAAAAD4fwAAAAAAAPh/AAAAAAAA+H8AAAAAAAD4fwAAAAAAAPh/AAAAAAAA+H8AAAAAAAD4fwAAAAAAAPh/AAAAAAAA+H8AAAAAAAD4fwAAAAAAAPh/AAAAAAAA+H8AAAAAAAD4fwAAAAAAAPh/AAAAAAAA+H8AAAAAAAD4fwAAAAAAAPh/AAAAAAAA+H8AAAAAAAD4fwAAAAAAAPh/AAAAAAAA+H8AAAAAAAD4fwAAAAAAAPh/AAAAAAAA+H8AAAAAAAD4fwAAAAAAAPh/AAAAAAAA+H8AAAAAAAD4fwAAAAAAAPh/AAAAAAAA+H8AAAAAAAD4fwAAAAAAAPh/AAAAAAAA+H8AAAAAAAD4fwAAAAAAAPh/AAAAAAAA+H8AAAAAAAD4fwAAAAAAAPh/AAAAAAAA+H8AAAAAAAD4fwAAAAAAAPh/AAAAAAAA+H8AAAAAAAD4fwAAAAAAAPh/AAAAAAAA+H8AAAAAAAD4fwAAAAAAAPh/AAAAAAAA+H8AAAAAAAD4fwAAAAAAAPh/AAAAAAAA+H8AAAAAAAD4fwAAAAAAAPh/AAAAAAAA+H8AAAAAAAD4fwAAAAAAAPh/AAAAAAAA+H8AAAAAAAD4fwAAAAAAAPh/AAAAAAAA+H8AAAAAAAD4fwAAAAAAAPh/AAAAAAAA+H8AAAAAAAD4fwAAAAAAAPh/AAAAAAAA+H8AAAAAAAD4fwAAAAAAAPh/AAAAAAAA+H8AAAAAAAD4fwAAAAAAAPh/\",\"dtype\":\"float64\",\"shape\":[186]},\"specie\":[\"Rose-crested Blue Pipit\",\"Rose-crested Blue Pipit\",\"Rose-crested Blue Pipit\",\"Rose-crested Blue Pipit\",\"Rose-crested Blue Pipit\",\"Rose-crested Blue Pipit\",\"Rose-crested Blue Pipit\",\"Rose-crested Blue Pipit\",\"Rose-crested Blue Pipit\",\"Rose-crested Blue Pipit\",\"Rose-crested Blue Pipit\",\"Rose-crested Blue Pipit\",\"Rose-crested Blue Pipit\",\"Rose-crested Blue Pipit\",\"Rose-crested Blue Pipit\",\"Rose-crested Blue Pipit\",\"Rose-crested Blue Pipit\",\"Rose-crested Blue Pipit\",\"Rose-crested Blue Pipit\",\"Rose-crested Blue Pipit\",\"Rose-crested Blue Pipit\",\"Rose-crested Blue Pipit\",\"Rose-crested Blue Pipit\",\"Rose-crested Blue Pipit\",\"Rose-crested Blue Pipit\",\"Rose-crested Blue Pipit\",\"Rose-crested Blue Pipit\",\"Rose-crested Blue Pipit\",\"Rose-crested Blue Pipit\",\"Rose-crested Blue Pipit\",\"Rose-crested Blue Pipit\",\"Rose-crested Blue Pipit\",\"Rose-crested Blue Pipit\",\"Rose-crested Blue Pipit\",\"Rose-crested Blue Pipit\",\"Rose-crested Blue Pipit\",\"Rose-crested Blue Pipit\",\"Rose-crested Blue Pipit\",\"Rose-crested Blue Pipit\",\"Rose-crested Blue Pipit\",\"Rose-crested Blue Pipit\",\"Rose-crested Blue Pipit\",\"Rose-crested Blue Pipit\",\"Rose-crested Blue Pipit\",\"Rose-crested Blue Pipit\",\"Rose-crested Blue Pipit\",\"Rose-crested Blue Pipit\",\"Rose-crested Blue Pipit\",\"Rose-crested Blue Pipit\",\"Rose-crested Blue Pipit\",\"Rose-crested Blue Pipit\",\"Rose-crested Blue Pipit\",\"Rose-crested Blue Pipit\",\"Rose-crested Blue Pipit\",\"Rose-crested Blue Pipit\",\"Rose-crested Blue Pipit\",\"Rose-crested Blue Pipit\",\"Rose-crested Blue Pipit\",\"Rose-crested Blue Pipit\",\"Rose-crested Blue Pipit\",\"Rose-crested Blue Pipit\",\"Rose-crested Blue Pipit\",\"Rose-crested Blue Pipit\",\"Rose-crested Blue Pipit\",\"Rose-crested Blue Pipit\",\"Rose-crested Blue Pipit\",\"Rose-crested Blue Pipit\",\"Rose-crested Blue Pipit\",\"Rose-crested Blue Pipit\",\"Rose-crested Blue Pipit\",\"Rose-crested Blue Pipit\",\"Rose-crested Blue Pipit\",\"Rose-crested Blue Pipit\",\"Rose-crested Blue Pipit\",\"Rose-crested Blue Pipit\",\"Rose-crested Blue Pipit\",\"Rose-crested Blue Pipit\",\"Rose-crested Blue Pipit\",\"Rose-crested Blue Pipit\",\"Rose-crested Blue Pipit\",\"Rose-crested Blue Pipit\",\"Rose-crested Blue Pipit\",\"Rose-crested Blue Pipit\",\"Rose-crested Blue Pipit\",\"Rose-crested Blue Pipit\",\"Rose-crested Blue Pipit\",\"Rose-crested Blue Pipit\",\"Rose-crested Blue Pipit\",\"Rose-crested Blue Pipit\",\"Rose-crested Blue Pipit\",\"Rose-crested Blue Pipit\",\"Rose-crested Blue Pipit\",\"Rose-crested Blue Pipit\",\"Rose-crested Blue Pipit\",\"Rose-crested Blue Pipit\",\"Rose-crested Blue Pipit\",\"Rose-crested Blue Pipit\",\"Rose-crested Blue Pipit\",\"Rose-crested Blue Pipit\",\"Rose-crested Blue Pipit\",\"Rose-crested Blue Pipit\",\"Rose-crested Blue Pipit\",\"Rose-crested Blue Pipit\",\"Rose-crested Blue Pipit\",\"Rose-crested Blue Pipit\",\"Rose-crested Blue Pipit\",\"Rose-crested Blue Pipit\",\"Rose-crested Blue Pipit\",\"Rose-crested Blue Pipit\",\"Rose-crested Blue Pipit\",\"Rose-crested Blue Pipit\",\"Rose-crested Blue Pipit\",\"Rose-crested Blue Pipit\",\"Rose-crested Blue Pipit\",\"Rose-crested Blue Pipit\",\"Rose-crested Blue Pipit\",\"Rose-crested Blue Pipit\",\"Rose-crested Blue Pipit\",\"Rose-crested Blue Pipit\",\"Rose-crested Blue Pipit\",\"Rose-crested Blue Pipit\",\"Rose-crested Blue Pipit\",\"Rose-crested Blue Pipit\",\"Rose-crested Blue Pipit\",\"Rose-crested Blue Pipit\",\"Rose-crested Blue Pipit\",\"Rose-crested Blue Pipit\",\"Rose-crested Blue Pipit\",\"Rose-crested Blue Pipit\",\"Rose-crested Blue Pipit\",\"Rose-crested Blue Pipit\",\"Rose-crested Blue Pipit\",\"Rose-crested Blue Pipit\",\"Rose-crested Blue Pipit\",\"Rose-crested Blue Pipit\",\"Rose-crested Blue Pipit\",\"Rose-crested Blue Pipit\",\"Rose-crested Blue Pipit\",\"Rose-crested Blue Pipit\",\"Rose-crested Blue Pipit\",\"Rose-crested Blue Pipit\",\"Rose-crested Blue Pipit\",\"Rose-crested Blue Pipit\",\"Rose-crested Blue Pipit\",\"Rose-crested Blue Pipit\",\"Rose-crested Blue Pipit\",\"Rose-crested Blue Pipit\",\"Rose-crested Blue Pipit\",\"Rose-crested Blue Pipit\",\"Rose-crested Blue Pipit\",\"Rose-crested Blue Pipit\",\"Rose-crested Blue Pipit\",\"Rose-crested Blue Pipit\",\"Rose-crested Blue Pipit\",\"Rose-crested Blue Pipit\",\"Rose-crested Blue Pipit\",\"Rose-crested Blue Pipit\",\"Rose-crested Blue Pipit\",\"Rose-crested Blue Pipit\",\"Rose-crested Blue Pipit\",\"Rose-crested Blue Pipit\",\"Rose-crested Blue Pipit\",\"Rose-crested Blue Pipit\",\"Rose-crested Blue Pipit\",\"Rose-crested Blue Pipit\",\"Rose-crested Blue Pipit\",\"Rose-crested Blue Pipit\",\"Rose-crested Blue Pipit\",\"Rose-crested Blue Pipit\",\"Rose-crested Blue Pipit\",\"Rose-crested Blue Pipit\",\"Rose-crested Blue Pipit\",\"Rose-crested Blue Pipit\",\"Rose-crested Blue Pipit\",\"Rose-crested Blue Pipit\",\"Rose-crested Blue Pipit\",\"Rose-crested Blue Pipit\",\"Rose-crested Blue Pipit\",\"Rose-crested Blue Pipit\",\"Rose-crested Blue Pipit\",\"Rose-crested Blue Pipit\",\"Rose-crested Blue Pipit\",\"Rose-crested Blue Pipit\",\"Rose-crested Blue Pipit\",\"Rose-crested Blue Pipit\",\"Rose-crested Blue Pipit\"],\"x\":{\"__ndarray__\":\"ZmyWQXuFokFZzIhBB7KjQbfjikFLo6hBmWqJQfqSk0Ee9KNBps2WQTJbpUFCpG9BwpqYQWJvmEEr8J9BXCKqQdu1o0GXcapBnqmnQQ9gQUElJqhBmHewQe9Ni0GSxqZBsUh+QW/Qf0EuyZlBzGmiQcsynUEks5lBnOelQdhSjUFVPopBps2oQbofk0Hba45B7hOPQUJVHUHKValBXlCYQZU2l0FnRppBboeNQel9bkGfvztB4O+ZQb4cqUEYw5xBkZWOQcOxf0FH/aRByZCeQeAhmEF7mphBccaEQfXllkGyWp5BjXmWQWAbjkHrw5dBdSiqQTE0mEEKVIpBPiCNQQyBlkGHe5BBkZyTQcsJrUEZfZRBiP+XQZaLl0FS85ZBqhyWQRq3iUEtXI9BQOiHQTjAo0FDPqRBhnKVQTpxm0GTrolB5vmcQWZCgUHAsIhBdCSXQafKnUGjsZ5BUeODQXWZpUFG6l9BbeyWQYs4okFJlnVBWCeLQcQ5jEG/Q4tBlkOqQdRwokH2i5dBoomXQdY+i0EiIaFBsKucQSSno0HPrYZBlyCpQci6pkG2MaZBhH2hQXnZjEE7iZpB7ZyCQXDApEEnM5BB6yGFQVd2oUEGN4tB+quMQc1IkEHsNKFBER6YQc3PnEFqlopBAcmoQT0dmkH935lBk0uIQerTmUH9FZhButuCQbSrh0H7poZBRl+lQWvrgkGRxmFBUuV5QVe2o0F7P4dBqLekQcgbi0EaPKVBXLyKQQfplEFdzJpBKiKFQZ9UnEHzXIRBCtmeQbIKZ0G3UoBBPDqKQZSsmEHbKKpBx8t/QVWRYUELCplBK319QTIDoUHDRo1BN7+EQRy8gkGiA4hBEamXQZ44iUGrP6NBzSWiQfOyjkGrmEhBURWWQWhIXUFU2pdB9I2dQdyIbkEghoxBk69NQVEfTUGNZZdBOvmgQWIWWkHNmFBBozNjQV9zjUHurGFBSiWIQfP3MkGiAlRB\",\"dtype\":\"float32\",\"shape\":[186]},\"y\":{\"__ndarray__\":\"hb17QfVRYUEkQmNBjdByQYM1TkE+1XNBSrhIQd2bWkHRemRBRLh6QUi0dUFprTxBAKNqQfCLbUE5wn9BSNh8QcvzckENi2hBRT6DQe7aXUH0PoRBl8qGQUVeZEEnimlB1909QSGKN0G9YFxBPrd6QeDmb0GLNIZBH/NpQYahPUFrDEZBp/9yQa9IU0Eq3DpBbo46QWqleEFp03xBRTBwQXjEakE4m3ZBeUNIQQr5NEHZOWJBwbFuQTUBdUFQ+IJBUutQQVVnNkH86WBBo59uQf/tbEGGxXVBOpleQd/4cUH4a35B9OV3Qbd+VUHkjndB/O5zQUsXfkG6zl5BB1BPQcfLbEEqZ1FBAmZVQa9DeEGj52ZBVa9sQZqrbUFrh1pBnjxcQadJY0GiZUxBTz5eQWfDbUHkNGxBnqJdQcLCZ0ErRVhBR2JlQYliW0HZJWBBmkd5QUMeYkGAOXNBDOFSQfVJYkE+gI1Baxt3QedxcEHiJVRBZwhkQZlzX0GYsWVB4jNiQdFLZEFW9GlBgxNtQSrwRUEdqmpBxepwQaa/dkHSdFZBdkl3QYK8a0Fk1nxBXCuJQWHIQEH0R3pBLRZAQdz7X0EQ+V9BuP1MQSAcc0FnWz1BoW9kQfIVPEFlH2ZB5Ct8QWjFgkHV8kdB505zQQiPYEFFvmpB/D9nQQpkgkFMaW9BXsowQc8HSUHZIGFB3rCEQdKlWkG3uoZBr2c3QfmtbEFcVUZBBuF0Qb8GREHNj3JBQxJEQa0Wb0Gz3GVBbMhhQSHZckFeMDdB3YKAQfgcVEF1r1RBP5xjQWRziUFpKYFBmDZVQSsUiUGqCopBwd41QY4Yb0FkL0NBxBYtQWLpNEGscllB+y1mQf10VUHrv25BHqFvQYDzQ0HaYIpBU3x4QS0WRkFFkWtBSihxQdV6UEGaKWJBSa+BQY+lgEEO8mtB4A+HQd8IiEGY8k5BrmaQQZApYEEL/pNBgA9lQegLeEFwS4NB\",\"dtype\":\"float32\",\"shape\":[186]}},\"selected\":{\"id\":\"9365a4ea-f4ce-423d-960c-105a075f5cbe\",\"type\":\"Selection\"},\"selection_policy\":{\"id\":\"9e84c84c-febb-46a2-bab1-91c9f8d24330\",\"type\":\"UnionRenderers\"}},\"id\":\"296e65c9-0c73-4ad2-b7da-7f3993fba47d\",\"type\":\"ColumnDataSource\"},{\"attributes\":{\"fill_alpha\":{\"value\":0.1},\"fill_color\":{\"value\":\"#1f77b4\"},\"line_alpha\":{\"value\":0.1},\"line_color\":{\"value\":\"#1f77b4\"},\"size\":{\"units\":\"screen\",\"value\":5},\"x\":{\"field\":\"x\"},\"y\":{\"field\":\"y\"}},\"id\":\"7f9984f4-5a2f-4f01-af61-d05a152d3d3d\",\"type\":\"Circle\"},{\"attributes\":{\"fill_alpha\":{\"value\":0.1},\"fill_color\":{\"value\":\"#1f77b4\"},\"line_alpha\":{\"value\":0.1},\"line_color\":{\"value\":\"#1f77b4\"},\"size\":{\"units\":\"screen\",\"value\":5},\"x\":{\"field\":\"x\"},\"y\":{\"field\":\"y\"}},\"id\":\"a6c2f8df-1da1-4026-bf86-be035114c0d9\",\"type\":\"Circle\"},{\"attributes\":{\"fill_alpha\":{\"value\":0.1},\"fill_color\":{\"value\":\"#1f77b4\"},\"line_alpha\":{\"value\":0.1},\"line_color\":{\"value\":\"#1f77b4\"},\"size\":{\"units\":\"screen\",\"value\":5},\"x\":{\"field\":\"x\"},\"y\":{\"field\":\"y\"}},\"id\":\"8830ff64-81a4-4d08-a530-4dce8638142d\",\"type\":\"Circle\"},{\"attributes\":{\"data_source\":{\"id\":\"4842c977-7ba0-4179-bd89-73a0def58e75\",\"type\":\"ColumnDataSource\"},\"glyph\":{\"id\":\"863d5106-e137-499a-82be-b1b9a9483479\",\"type\":\"Circle\"},\"hover_glyph\":null,\"muted_glyph\":null,\"nonselection_glyph\":{\"id\":\"a3565daa-7755-49b0-a9d6-84818596e548\",\"type\":\"Circle\"},\"selection_glyph\":null,\"view\":{\"id\":\"de4adff0-049a-403b-a008-b0fa1cf4adc5\",\"type\":\"CDSView\"}},\"id\":\"c376eae8-1efa-4a70-84ce-3f40bfd29b9c\",\"type\":\"GlyphRenderer\"},{\"attributes\":{\"callback\":null,\"data\":{\"index\":[755,756,757,758,759,760,761,762,763,764,765,766,767,768,769,770,771,772,773,774,775,776,777,778,779,780,781,782,783,784,785,786,787,788,789,790,791,792,793,794,795,796,797,798,799,800,801,802,803,804,805,806,807,808,809,810,811,812,813,814,815,816,817,818,819,820,821,822,823,824,825,826,827,828,829,830,831,832,833,834,835,836,837,838,839,840,841,842],\"kasios_index\":{\"__ndarray__\":\"AAAAAAAA+H8AAAAAAAD4fwAAAAAAAPh/AAAAAAAA+H8AAAAAAAD4fwAAAAAAAPh/AAAAAAAA+H8AAAAAAAD4fwAAAAAAAPh/AAAAAAAA+H8AAAAAAAD4fwAAAAAAAPh/AAAAAAAA+H8AAAAAAAD4fwAAAAAAAPh/AAAAAAAA+H8AAAAAAAD4fwAAAAAAAPh/AAAAAAAA+H8AAAAAAAD4fwAAAAAAAPh/AAAAAAAA+H8AAAAAAAD4fwAAAAAAAPh/AAAAAAAA+H8AAAAAAAD4fwAAAAAAAPh/AAAAAAAA+H8AAAAAAAD4fwAAAAAAAPh/AAAAAAAA+H8AAAAAAAD4fwAAAAAAAPh/AAAAAAAA+H8AAAAAAAD4fwAAAAAAAPh/AAAAAAAA+H8AAAAAAAD4fwAAAAAAAPh/AAAAAAAA+H8AAAAAAAD4fwAAAAAAAPh/AAAAAAAA+H8AAAAAAAD4fwAAAAAAAPh/AAAAAAAA+H8AAAAAAAD4fwAAAAAAAPh/AAAAAAAA+H8AAAAAAAD4fwAAAAAAAPh/AAAAAAAA+H8AAAAAAAD4fwAAAAAAAPh/AAAAAAAA+H8AAAAAAAD4fwAAAAAAAPh/AAAAAAAA+H8AAAAAAAD4fwAAAAAAAPh/AAAAAAAA+H8AAAAAAAD4fwAAAAAAAPh/AAAAAAAA+H8AAAAAAAD4fwAAAAAAAPh/AAAAAAAA+H8AAAAAAAD4fwAAAAAAAPh/AAAAAAAA+H8AAAAAAAD4fwAAAAAAAPh/AAAAAAAA+H8AAAAAAAD4fwAAAAAAAPh/AAAAAAAA+H8AAAAAAAD4fwAAAAAAAPh/AAAAAAAA+H8AAAAAAAD4fwAAAAAAAPh/AAAAAAAA+H8AAAAAAAD4fwAAAAAAAPh/AAAAAAAA+H8AAAAAAAD4fwAAAAAAAPh/AAAAAAAA+H8=\",\"dtype\":\"float64\",\"shape\":[88]},\"specie\":[\"Eastern Corn Skeet\",\"Eastern Corn Skeet\",\"Eastern Corn Skeet\",\"Eastern Corn Skeet\",\"Eastern Corn Skeet\",\"Eastern Corn Skeet\",\"Eastern Corn Skeet\",\"Eastern Corn Skeet\",\"Eastern Corn Skeet\",\"Eastern Corn Skeet\",\"Eastern Corn Skeet\",\"Eastern Corn Skeet\",\"Eastern Corn Skeet\",\"Eastern Corn Skeet\",\"Eastern Corn Skeet\",\"Eastern Corn Skeet\",\"Eastern Corn Skeet\",\"Eastern Corn Skeet\",\"Eastern Corn Skeet\",\"Eastern Corn Skeet\",\"Eastern Corn Skeet\",\"Eastern Corn Skeet\",\"Eastern Corn Skeet\",\"Eastern Corn Skeet\",\"Eastern Corn Skeet\",\"Eastern Corn Skeet\",\"Eastern Corn Skeet\",\"Eastern Corn Skeet\",\"Eastern Corn Skeet\",\"Eastern Corn Skeet\",\"Eastern Corn Skeet\",\"Eastern Corn Skeet\",\"Eastern Corn Skeet\",\"Eastern Corn Skeet\",\"Eastern Corn Skeet\",\"Eastern Corn Skeet\",\"Eastern Corn Skeet\",\"Eastern Corn Skeet\",\"Eastern Corn Skeet\",\"Eastern Corn Skeet\",\"Eastern Corn Skeet\",\"Eastern Corn Skeet\",\"Eastern Corn Skeet\",\"Eastern Corn Skeet\",\"Eastern Corn Skeet\",\"Eastern Corn Skeet\",\"Eastern Corn Skeet\",\"Eastern Corn Skeet\",\"Eastern Corn Skeet\",\"Eastern Corn Skeet\",\"Eastern Corn Skeet\",\"Eastern Corn Skeet\",\"Eastern Corn Skeet\",\"Eastern Corn Skeet\",\"Eastern Corn Skeet\",\"Eastern Corn Skeet\",\"Eastern Corn Skeet\",\"Eastern Corn Skeet\",\"Eastern Corn Skeet\",\"Eastern Corn Skeet\",\"Eastern Corn Skeet\",\"Eastern Corn Skeet\",\"Eastern Corn Skeet\",\"Eastern Corn Skeet\",\"Eastern Corn Skeet\",\"Eastern Corn Skeet\",\"Eastern Corn Skeet\",\"Eastern Corn Skeet\",\"Eastern Corn Skeet\",\"Eastern Corn Skeet\",\"Eastern Corn Skeet\",\"Eastern Corn Skeet\",\"Eastern Corn Skeet\",\"Eastern Corn Skeet\",\"Eastern Corn Skeet\",\"Eastern Corn Skeet\",\"Eastern Corn Skeet\",\"Eastern Corn Skeet\",\"Eastern Corn Skeet\",\"Eastern Corn Skeet\",\"Eastern Corn Skeet\",\"Eastern Corn Skeet\",\"Eastern Corn Skeet\",\"Eastern Corn Skeet\",\"Eastern Corn Skeet\",\"Eastern Corn Skeet\",\"Eastern Corn Skeet\",\"Eastern Corn Skeet\"],\"x\":{\"__ndarray__\":\"xnxzQTocYUFVra1B6B+QQTrBPEGD8X9BxBSNQSSpqkEvqYdB/SN6QSyuNUHrSIdBYCmEQYIrcUEYBqVBIyKkQcSZiUFXiZJBd0ZsQQM0kUGQ/opBJaWPQdIzk0GijJZBomSIQYpli0GhtYZBtkGEQXJ9TkEzupVBIfCLQSHac0EhfJtBpMWNQZ8Rh0Fmg4FBi9yIQbX1YEFTuYNBwH6HQcoLeEFw94pBxn9bQaO0oUF0ioVB861NQVaMhUF8coRBCJCMQRU2cUGciJNBLjulQWTwpUFa7pVBmWaCQXY0hUE5aWVBlo6OQTljjkEbjZVB1RyIQd6/i0HWLYpBvpGOQVMvlkFHQo9B8/KHQVXQm0GcuIpBLriWQaeLWUH8CmJBZJmEQRoca0FV7UBBqMSRQaXZp0HDeIxBHq+IQTVHpkEWZVJBNcBVQZhzlEHR2JVBKEKIQY2AmUE+i5lBT6OWQQ==\",\"dtype\":\"float32\",\"shape\":[88]},\"y\":{\"__ndarray__\":\"CDNHQfUDiUFV2XtB3PpGQVvedEGU4DVBjDBRQTUgY0Hc8C5BEpA6QdVykkHq/TZBSfNSQQGfTEGJGnBBEQZqQRhrTkGTCFFBz9o2QZnqPkEJl0dBIIk5QeD2U0GPw1lB15otQYY7LUESlENB+aFFQQaxRkG3IVtBZLg1QSWIT0HXNGZB8e5UQYMxPkEclldBBwA/QSOIjEECnS5B9a9JQQdoN0GHGEVBGM1AQetjZUFcxzNBtChVQToTR0GdKUxBsHQ3QUxMNEFghU9Bkvl4QTsAaUHV+VtBRyouQYUrUEFK2VlBaL5KQd/MOkG7EFtB2MVJQRQGNUHpXi5BJrY2QV+hXUErFFVBsCdMQXY7ZEFkazpB215dQQw2MkHShY9BbhwzQZPvWUEoTHZBXOBTQbuSeUFWQE1BaAo6QVnnXkE3V0tBIJpaQftdVkFSVl5BDwwuQSH7W0FjqVxBZ3peQQ==\",\"dtype\":\"float32\",\"shape\":[88]}},\"selected\":{\"id\":\"1ef0e9d7-1771-40f7-a4f6-e633fec8aa0c\",\"type\":\"Selection\"},\"selection_policy\":{\"id\":\"b915ab87-7c7d-48a1-a632-98605ff2b3b5\",\"type\":\"UnionRenderers\"}},\"id\":\"ac4dc7bf-cd69-4eb7-981c-a8d66ef060ad\",\"type\":\"ColumnDataSource\"},{\"attributes\":{\"fill_alpha\":{\"value\":0.6},\"fill_color\":{\"field\":\"specie\",\"transform\":{\"id\":\"57b3006a-fb74-499d-b328-2f993b3973b8\",\"type\":\"CategoricalColorMapper\"}},\"line_alpha\":{\"value\":0.6},\"line_color\":{\"field\":\"specie\",\"transform\":{\"id\":\"57b3006a-fb74-499d-b328-2f993b3973b8\",\"type\":\"CategoricalColorMapper\"}},\"size\":{\"units\":\"screen\",\"value\":5},\"x\":{\"field\":\"x\"},\"y\":{\"field\":\"y\"}},\"id\":\"f07fe077-c619-4217-9887-a3d45d2e9faf\",\"type\":\"Circle\"},{\"attributes\":{\"fill_alpha\":{\"value\":0.7},\"fill_color\":{\"value\":\"black\"},\"line_alpha\":{\"value\":0.7},\"size\":{\"units\":\"screen\",\"value\":20},\"x\":{\"field\":\"x\"},\"y\":{\"field\":\"y\"}},\"id\":\"17230ae3-08ab-4174-b75e-7dd66f3b78a2\",\"type\":\"Circle\"},{\"attributes\":{\"fill_alpha\":{\"value\":0.6},\"fill_color\":{\"field\":\"specie\",\"transform\":{\"id\":\"57b3006a-fb74-499d-b328-2f993b3973b8\",\"type\":\"CategoricalColorMapper\"}},\"line_alpha\":{\"value\":0.6},\"line_color\":{\"field\":\"specie\",\"transform\":{\"id\":\"57b3006a-fb74-499d-b328-2f993b3973b8\",\"type\":\"CategoricalColorMapper\"}},\"size\":{\"units\":\"screen\",\"value\":5},\"x\":{\"field\":\"x\"},\"y\":{\"field\":\"y\"}},\"id\":\"889046e1-c0d3-443a-8635-9cc2723359b1\",\"type\":\"Circle\"},{\"attributes\":{\"fill_alpha\":{\"value\":0.1},\"fill_color\":{\"value\":\"#1f77b4\"},\"line_alpha\":{\"value\":0.1},\"line_color\":{\"value\":\"#1f77b4\"},\"size\":{\"units\":\"screen\",\"value\":5},\"x\":{\"field\":\"x\"},\"y\":{\"field\":\"y\"}},\"id\":\"47892374-e8dd-40e6-a0ca-8c475ad8dd41\",\"type\":\"Circle\"},{\"attributes\":{\"fill_alpha\":{\"value\":0.6},\"fill_color\":{\"field\":\"specie\",\"transform\":{\"id\":\"57b3006a-fb74-499d-b328-2f993b3973b8\",\"type\":\"CategoricalColorMapper\"}},\"line_alpha\":{\"value\":0.6},\"line_color\":{\"field\":\"specie\",\"transform\":{\"id\":\"57b3006a-fb74-499d-b328-2f993b3973b8\",\"type\":\"CategoricalColorMapper\"}},\"size\":{\"units\":\"screen\",\"value\":5},\"x\":{\"field\":\"x\"},\"y\":{\"field\":\"y\"}},\"id\":\"5187d73e-f52c-4e2a-b737-f944e3fc53f8\",\"type\":\"Circle\"},{\"attributes\":{\"source\":{\"id\":\"ac4dc7bf-cd69-4eb7-981c-a8d66ef060ad\",\"type\":\"ColumnDataSource\"}},\"id\":\"27dca96c-9179-480b-ab75-42e508d3ce52\",\"type\":\"CDSView\"},{\"attributes\":{\"data_source\":{\"id\":\"6cf3563c-f4ce-479e-8c0b-d5faebdb75c6\",\"type\":\"ColumnDataSource\"},\"glyph\":{\"id\":\"f07fe077-c619-4217-9887-a3d45d2e9faf\",\"type\":\"Circle\"},\"hover_glyph\":null,\"muted_glyph\":null,\"nonselection_glyph\":{\"id\":\"3a82ab50-fe5e-43e2-84ee-22ff8e72b69d\",\"type\":\"Circle\"},\"selection_glyph\":null,\"view\":{\"id\":\"ee2844b5-879e-4c0d-ba5c-eb1aedf15585\",\"type\":\"CDSView\"}},\"id\":\"775bd1c5-4f5e-43c0-a996-703f3c00d6df\",\"type\":\"GlyphRenderer\"},{\"attributes\":{\"callback\":null,\"data\":{\"index\":[2067,2068,2069,2070,2071,2072,2073,2074,2075,2076,2077,2078,2079,2080,2081],\"kasios_index\":{\"__ndarray__\":\"AAAAAAAA8D8AAAAAAAAAQAAAAAAAAAhAAAAAAAAAEEAAAAAAAAAUQAAAAAAAABhAAAAAAAAAHEAAAAAAAAAgQAAAAAAAACJAAAAAAAAAJEAAAAAAAAAmQAAAAAAAAChAAAAAAAAAKkAAAAAAAAAsQAAAAAAAAC5A\",\"dtype\":\"float64\",\"shape\":[15]},\"specie\":[\"Kasios Test Bird\",\"Kasios Test Bird\",\"Kasios Test Bird\",\"Kasios Test Bird\",\"Kasios Test Bird\",\"Kasios Test Bird\",\"Kasios Test Bird\",\"Kasios Test Bird\",\"Kasios Test Bird\",\"Kasios Test Bird\",\"Kasios Test Bird\",\"Kasios Test Bird\",\"Kasios Test Bird\",\"Kasios Test Bird\",\"Kasios Test Bird\"],\"x\":{\"__ndarray__\":\"G6clQcEujEGM0V9BiSZgQX1jL0HCz1ZBKoFiQcTmikHWCKpBWW8uQZGKoEFcQyxBtRulQRnpiUF+Ry9B\",\"dtype\":\"float32\",\"shape\":[15]},\"y\":{\"__ndarray__\":\"GGNoQdTvPUGuXjdBIto3Qd7nckFdIDNBX8uMQWNJJ0F5NW9BemKPQbTxfUF4QIpBPB9sQdtOP0F+rX5B\",\"dtype\":\"float32\",\"shape\":[15]}},\"selected\":{\"id\":\"95491a28-4cd1-4bc0-9790-f7d6ef797c1c\",\"type\":\"Selection\"},\"selection_policy\":{\"id\":\"b7176679-b667-4aaf-853b-8342d55a8b6e\",\"type\":\"UnionRenderers\"}},\"id\":\"40842bdc-b083-4746-8baa-9d01cc01bdde\",\"type\":\"ColumnDataSource\"},{\"attributes\":{\"data_source\":{\"id\":\"732468e4-4602-43ec-b70f-b7dcb6b94a48\",\"type\":\"ColumnDataSource\"},\"glyph\":{\"id\":\"2e1519cb-6cca-4a68-9645-e0eaceea9f4e\",\"type\":\"Circle\"},\"hover_glyph\":null,\"muted_glyph\":null,\"nonselection_glyph\":{\"id\":\"f0e43e19-b7d8-4fc9-b0ec-4458a1365531\",\"type\":\"Circle\"},\"selection_glyph\":null,\"view\":{\"id\":\"cdebefc0-5069-4b47-bd5e-1248225cfdb0\",\"type\":\"CDSView\"}},\"id\":\"bd1e75f7-5074-4e78-b9a7-2b1d4800b863\",\"type\":\"GlyphRenderer\"},{\"attributes\":{},\"id\":\"8a8234c6-c7b0-4b75-818d-889160c75d27\",\"type\":\"UnionRenderers\"},{\"attributes\":{\"source\":{\"id\":\"d0407813-1ea0-467a-a3b6-b1f89e51fd39\",\"type\":\"ColumnDataSource\"}},\"id\":\"1aec07b1-144d-42bc-8e26-f1a8fff759d1\",\"type\":\"CDSView\"},{\"attributes\":{\"data_source\":{\"id\":\"f64429d8-75a4-4e0c-be5f-46ab8cbd5235\",\"type\":\"ColumnDataSource\"},\"glyph\":{\"id\":\"ec439cd1-dbac-45e2-8c93-962cf2177acf\",\"type\":\"Circle\"},\"hover_glyph\":null,\"muted_glyph\":null,\"nonselection_glyph\":{\"id\":\"47892374-e8dd-40e6-a0ca-8c475ad8dd41\",\"type\":\"Circle\"},\"selection_glyph\":null,\"view\":{\"id\":\"4899df41-fdc0-42b6-ac09-50df76e802ef\",\"type\":\"CDSView\"}},\"id\":\"45a34ff2-7264-43e7-8175-237c8af43762\",\"type\":\"GlyphRenderer\"},{\"attributes\":{\"fill_alpha\":{\"value\":0.1},\"fill_color\":{\"value\":\"#1f77b4\"},\"line_alpha\":{\"value\":0.1},\"line_color\":{\"value\":\"#1f77b4\"},\"size\":{\"units\":\"screen\",\"value\":5},\"x\":{\"field\":\"x\"},\"y\":{\"field\":\"y\"}},\"id\":\"f85ee5ec-bd8f-41bb-bb4b-e34f2d87b9de\",\"type\":\"Circle\"},{\"attributes\":{},\"id\":\"9365a4ea-f4ce-423d-960c-105a075f5cbe\",\"type\":\"Selection\"},{\"attributes\":{\"fill_alpha\":{\"value\":0.1},\"fill_color\":{\"value\":\"#1f77b4\"},\"line_alpha\":{\"value\":0.1},\"line_color\":{\"value\":\"#1f77b4\"},\"size\":{\"units\":\"screen\",\"value\":5},\"x\":{\"field\":\"x\"},\"y\":{\"field\":\"y\"}},\"id\":\"a3565daa-7755-49b0-a9d6-84818596e548\",\"type\":\"Circle\"},{\"attributes\":{\"fill_alpha\":{\"value\":0.6},\"fill_color\":{\"field\":\"specie\",\"transform\":{\"id\":\"57b3006a-fb74-499d-b328-2f993b3973b8\",\"type\":\"CategoricalColorMapper\"}},\"line_alpha\":{\"value\":0.6},\"line_color\":{\"field\":\"specie\",\"transform\":{\"id\":\"57b3006a-fb74-499d-b328-2f993b3973b8\",\"type\":\"CategoricalColorMapper\"}},\"size\":{\"units\":\"screen\",\"value\":5},\"x\":{\"field\":\"x\"},\"y\":{\"field\":\"y\"}},\"id\":\"ec439cd1-dbac-45e2-8c93-962cf2177acf\",\"type\":\"Circle\"},{\"attributes\":{\"source\":{\"id\":\"4e018ed8-4d2e-4516-b08f-42b5250032ed\",\"type\":\"ColumnDataSource\"}},\"id\":\"c2b57882-cd11-4d1d-8586-5f29ac8ab467\",\"type\":\"CDSView\"},{\"attributes\":{\"fill_alpha\":{\"value\":0.6},\"fill_color\":{\"field\":\"specie\",\"transform\":{\"id\":\"57b3006a-fb74-499d-b328-2f993b3973b8\",\"type\":\"CategoricalColorMapper\"}},\"line_alpha\":{\"value\":0.6},\"line_color\":{\"field\":\"specie\",\"transform\":{\"id\":\"57b3006a-fb74-499d-b328-2f993b3973b8\",\"type\":\"CategoricalColorMapper\"}},\"size\":{\"units\":\"screen\",\"value\":5},\"x\":{\"field\":\"x\"},\"y\":{\"field\":\"y\"}},\"id\":\"863d5106-e137-499a-82be-b1b9a9483479\",\"type\":\"Circle\"},{\"attributes\":{\"callback\":null,\"data\":{\"index\":[390,391,392,393,394,395,396,397,398,399,400,401,402,403,404,405,406,407,408,409,410,411,412,413,414,415,416,417,418,419,420,421,422,423,424,425,426,427,428,429,430,431,432,433,434,435,436,437,438,439,440,441,442,443,444,445,446,447,448,449,450,451,452,453,454,455,456,457,458,459,460,461,462,463,464,465,466,467,468,469,470,471,472,473,474,475,476,477,478,479,480,481,482],\"kasios_index\":{\"__ndarray__\":\"AAAAAAAA+H8AAAAAAAD4fwAAAAAAAPh/AAAAAAAA+H8AAAAAAAD4fwAAAAAAAPh/AAAAAAAA+H8AAAAAAAD4fwAAAAAAAPh/AAAAAAAA+H8AAAAAAAD4fwAAAAAAAPh/AAAAAAAA+H8AAAAAAAD4fwAAAAAAAPh/AAAAAAAA+H8AAAAAAAD4fwAAAAAAAPh/AAAAAAAA+H8AAAAAAAD4fwAAAAAAAPh/AAAAAAAA+H8AAAAAAAD4fwAAAAAAAPh/AAAAAAAA+H8AAAAAAAD4fwAAAAAAAPh/AAAAAAAA+H8AAAAAAAD4fwAAAAAAAPh/AAAAAAAA+H8AAAAAAAD4fwAAAAAAAPh/AAAAAAAA+H8AAAAAAAD4fwAAAAAAAPh/AAAAAAAA+H8AAAAAAAD4fwAAAAAAAPh/AAAAAAAA+H8AAAAAAAD4fwAAAAAAAPh/AAAAAAAA+H8AAAAAAAD4fwAAAAAAAPh/AAAAAAAA+H8AAAAAAAD4fwAAAAAAAPh/AAAAAAAA+H8AAAAAAAD4fwAAAAAAAPh/AAAAAAAA+H8AAAAAAAD4fwAAAAAAAPh/AAAAAAAA+H8AAAAAAAD4fwAAAAAAAPh/AAAAAAAA+H8AAAAAAAD4fwAAAAAAAPh/AAAAAAAA+H8AAAAAAAD4fwAAAAAAAPh/AAAAAAAA+H8AAAAAAAD4fwAAAAAAAPh/AAAAAAAA+H8AAAAAAAD4fwAAAAAAAPh/AAAAAAAA+H8AAAAAAAD4fwAAAAAAAPh/AAAAAAAA+H8AAAAAAAD4fwAAAAAAAPh/AAAAAAAA+H8AAAAAAAD4fwAAAAAAAPh/AAAAAAAA+H8AAAAAAAD4fwAAAAAAAPh/AAAAAAAA+H8AAAAAAAD4fwAAAAAAAPh/AAAAAAAA+H8AAAAAAAD4fwAAAAAAAPh/AAAAAAAA+H8AAAAAAAD4fwAAAAAAAPh/AAAAAAAA+H8AAAAAAAD4fwAAAAAAAPh/\",\"dtype\":\"float64\",\"shape\":[93]},\"specie\":[\"Broad-winged Jojo\",\"Broad-winged Jojo\",\"Broad-winged Jojo\",\"Broad-winged Jojo\",\"Broad-winged Jojo\",\"Broad-winged Jojo\",\"Broad-winged Jojo\",\"Broad-winged Jojo\",\"Broad-winged Jojo\",\"Broad-winged Jojo\",\"Broad-winged Jojo\",\"Broad-winged Jojo\",\"Broad-winged Jojo\",\"Broad-winged Jojo\",\"Broad-winged Jojo\",\"Broad-winged Jojo\",\"Broad-winged Jojo\",\"Broad-winged Jojo\",\"Broad-winged Jojo\",\"Broad-winged Jojo\",\"Broad-winged Jojo\",\"Broad-winged Jojo\",\"Broad-winged Jojo\",\"Broad-winged Jojo\",\"Broad-winged Jojo\",\"Broad-winged Jojo\",\"Broad-winged Jojo\",\"Broad-winged Jojo\",\"Broad-winged Jojo\",\"Broad-winged Jojo\",\"Broad-winged Jojo\",\"Broad-winged Jojo\",\"Broad-winged Jojo\",\"Broad-winged Jojo\",\"Broad-winged Jojo\",\"Broad-winged Jojo\",\"Broad-winged Jojo\",\"Broad-winged Jojo\",\"Broad-winged Jojo\",\"Broad-winged Jojo\",\"Broad-winged Jojo\",\"Broad-winged Jojo\",\"Broad-winged Jojo\",\"Broad-winged Jojo\",\"Broad-winged Jojo\",\"Broad-winged Jojo\",\"Broad-winged Jojo\",\"Broad-winged Jojo\",\"Broad-winged Jojo\",\"Broad-winged Jojo\",\"Broad-winged Jojo\",\"Broad-winged Jojo\",\"Broad-winged Jojo\",\"Broad-winged Jojo\",\"Broad-winged Jojo\",\"Broad-winged Jojo\",\"Broad-winged Jojo\",\"Broad-winged Jojo\",\"Broad-winged Jojo\",\"Broad-winged Jojo\",\"Broad-winged Jojo\",\"Broad-winged Jojo\",\"Broad-winged Jojo\",\"Broad-winged Jojo\",\"Broad-winged Jojo\",\"Broad-winged Jojo\",\"Broad-winged Jojo\",\"Broad-winged Jojo\",\"Broad-winged Jojo\",\"Broad-winged Jojo\",\"Broad-winged Jojo\",\"Broad-winged Jojo\",\"Broad-winged Jojo\",\"Broad-winged Jojo\",\"Broad-winged Jojo\",\"Broad-winged Jojo\",\"Broad-winged Jojo\",\"Broad-winged Jojo\",\"Broad-winged Jojo\",\"Broad-winged Jojo\",\"Broad-winged Jojo\",\"Broad-winged Jojo\",\"Broad-winged Jojo\",\"Broad-winged Jojo\",\"Broad-winged Jojo\",\"Broad-winged Jojo\",\"Broad-winged Jojo\",\"Broad-winged Jojo\",\"Broad-winged Jojo\",\"Broad-winged Jojo\",\"Broad-winged Jojo\",\"Broad-winged Jojo\",\"Broad-winged Jojo\"],\"x\":{\"__ndarray__\":\"lP1RQRVZTkGYyTZBK4oVQUxUMUFdyilBYXtDQeroOEHmoztBYgAeQe/hFUEZfCRB0wkWQTfNF0Ftjx5BRiwnQUeeNUEyqiZBHr4oQVDTP0GVtSRBYFUzQaUqVEH+qSNBqGZSQWfdPkHTTCFByEI/QZHRXkHr2E9BPUQ2QXZAOkGkZTNBrixAQT8/Q0HNgClBI90sQeBXJUESlU9BV9JCQZevJkEXtB9BWaMjQSxfMkGcXkBB9TY4QUcUVEFL7VpB5Bs2Qf+UGUHl9RVBNjY8QW3MVEFS0R5BDwEcQYR0IUFXlx5BDaQgQTzqGUH9QydBNKxBQafaGEFYpSlBMQA1QeC9N0EJECZBXqw/QfqkHkEJjUVB6zdhQUANMUGDRjxB7PE8QWMNMkG8silB7YA+QTNVV0HW+iZBogZOQVKDNEHcHCZBZJ8nQVfaHUEP81ZB2xEkQUqjM0EEoYBB7vo/QSwNQ0E4AWFB17xhQVfdZEEGPY9B\",\"dtype\":\"float32\",\"shape\":[93]},\"y\":{\"__ndarray__\":\"KsuXQZdAmEHUP3hBhSdwQa5KcUGQxmZBAkZwQfuFdUFtGFRBbg1oQRM+cEHFV2dBTeZwQVN/bkEYrnhBlwprQWbja0Eu621B2SZjQa0QakHwpH1BPpJ9QR2wjkEon3tBQyOMQacMUEH+fGhBB2luQeeulEHfkZdB3qpXQal2QUFTM1hBe4pqQf8AhEFfdWNBNiqCQehjZEH8eJdBHQBWQZf8ZkGKvW1BuMFmQe3HXUHpdE9BqHRxQWzil0HK6ZJBsIdxQXZtbkGnMnBBiyp5QaLpl0GT63dBYU93QV5NfEG7rWhBZSJ4QUnGd0F+oXdB2dmNQUNHdEG4A3ZB2D5xQSHfUkEwKmlBSVRTQa05hUGKwntBcZGNQSwzbkH633BBtBB3QaFua0GfmmpBho5fQchLYUH+U2BB+sCXQT0pWUFU4nxBiz92QcG+eEFpZ4NByFtpQRV6f0HHF1RBpD+LQSuBbkH90JNBbGdaQUrGUkGrLlZB\",\"dtype\":\"float32\",\"shape\":[93]}},\"selected\":{\"id\":\"4b818e19-3718-49fe-b39d-d24d8630d163\",\"type\":\"Selection\"},\"selection_policy\":{\"id\":\"bbd85155-9ae5-4035-85d4-17fe46d104e1\",\"type\":\"UnionRenderers\"}},\"id\":\"d0407813-1ea0-467a-a3b6-b1f89e51fd39\",\"type\":\"ColumnDataSource\"},{\"attributes\":{\"source\":{\"id\":\"4842c977-7ba0-4179-bd89-73a0def58e75\",\"type\":\"ColumnDataSource\"}},\"id\":\"de4adff0-049a-403b-a008-b0fa1cf4adc5\",\"type\":\"CDSView\"},{\"attributes\":{\"fill_alpha\":{\"value\":0.6},\"fill_color\":{\"field\":\"specie\",\"transform\":{\"id\":\"57b3006a-fb74-499d-b328-2f993b3973b8\",\"type\":\"CategoricalColorMapper\"}},\"line_alpha\":{\"value\":0.6},\"line_color\":{\"field\":\"specie\",\"transform\":{\"id\":\"57b3006a-fb74-499d-b328-2f993b3973b8\",\"type\":\"CategoricalColorMapper\"}},\"size\":{\"units\":\"screen\",\"value\":5},\"x\":{\"field\":\"x\"},\"y\":{\"field\":\"y\"}},\"id\":\"695046ec-b027-4a79-844c-98886fc082f5\",\"type\":\"Circle\"},{\"attributes\":{\"source\":{\"id\":\"1553022e-696e-4e7f-ab9c-1e1c7bfb3cd4\",\"type\":\"ColumnDataSource\"}},\"id\":\"6835bd24-4047-40b5-bacb-047eebb567ae\",\"type\":\"CDSView\"},{\"attributes\":{},\"id\":\"17ac3860-b361-4305-b6eb-ee7d79f95d29\",\"type\":\"BasicTicker\"},{\"attributes\":{\"source\":{\"id\":\"813e3f2a-c1f7-46d8-a9d0-596ee5a2f6c9\",\"type\":\"ColumnDataSource\"}},\"id\":\"b9e1a273-d473-4997-b65b-d4a5fb514f32\",\"type\":\"CDSView\"},{\"attributes\":{\"callback\":null},\"id\":\"9fe35ba8-0976-4c79-aab6-b3e02264c436\",\"type\":\"DataRange1d\"},{\"attributes\":{\"data_source\":{\"id\":\"1553022e-696e-4e7f-ab9c-1e1c7bfb3cd4\",\"type\":\"ColumnDataSource\"},\"glyph\":{\"id\":\"889046e1-c0d3-443a-8635-9cc2723359b1\",\"type\":\"Circle\"},\"hover_glyph\":null,\"muted_glyph\":null,\"nonselection_glyph\":{\"id\":\"8830ff64-81a4-4d08-a530-4dce8638142d\",\"type\":\"Circle\"},\"selection_glyph\":null,\"view\":{\"id\":\"6835bd24-4047-40b5-bacb-047eebb567ae\",\"type\":\"CDSView\"}},\"id\":\"50698259-1556-46cd-8e22-5f3f1858b8e8\",\"type\":\"GlyphRenderer\"},{\"attributes\":{\"fill_alpha\":{\"value\":0.1},\"fill_color\":{\"value\":\"#1f77b4\"},\"line_alpha\":{\"value\":0.1},\"line_color\":{\"value\":\"#1f77b4\"},\"size\":{\"units\":\"screen\",\"value\":5},\"x\":{\"field\":\"x\"},\"y\":{\"field\":\"y\"}},\"id\":\"1b9ee654-ae5a-43bb-a700-f389e1eb9c29\",\"type\":\"Circle\"},{\"attributes\":{\"source\":{\"id\":\"61cad34c-eb9d-446e-9c77-637d6282e163\",\"type\":\"ColumnDataSource\"}},\"id\":\"1722ed66-55d6-4605-8fae-40e0263a3395\",\"type\":\"CDSView\"},{\"attributes\":{\"callback\":null,\"data\":{\"index\":[253,254,255,256,257,258,259,260,261,262,263,264,265,266,267,268,269,270,271,272,273,274,275,276,277,278,279,280,281,282,283,284,285,286,287,288,289,290,291,292,293,294,295,296,297,298,299,300,301,302,303,304,305,306,307,308,309,310,311,312,313,314,315,316,317,318,319,320,321,322,323,324,325,326,327,328,329,330,331,332,333,334,335,336,337,338,339,340,341,342,343,344,345,346,347,348,349,350,351,352,353,354,355,356,357,358,359,360,361,362,363,364,365,366,367,368,369,370,371,372,373,374,375,376,377,378,379,380,381,382,383,384,385,386,387,388,389],\"kasios_index\":{\"__ndarray__\":\"AAAAAAAA+H8AAAAAAAD4fwAAAAAAAPh/AAAAAAAA+H8AAAAAAAD4fwAAAAAAAPh/AAAAAAAA+H8AAAAAAAD4fwAAAAAAAPh/AAAAAAAA+H8AAAAAAAD4fwAAAAAAAPh/AAAAAAAA+H8AAAAAAAD4fwAAAAAAAPh/AAAAAAAA+H8AAAAAAAD4fwAAAAAAAPh/AAAAAAAA+H8AAAAAAAD4fwAAAAAAAPh/AAAAAAAA+H8AAAAAAAD4fwAAAAAAAPh/AAAAAAAA+H8AAAAAAAD4fwAAAAAAAPh/AAAAAAAA+H8AAAAAAAD4fwAAAAAAAPh/AAAAAAAA+H8AAAAAAAD4fwAAAAAAAPh/AAAAAAAA+H8AAAAAAAD4fwAAAAAAAPh/AAAAAAAA+H8AAAAAAAD4fwAAAAAAAPh/AAAAAAAA+H8AAAAAAAD4fwAAAAAAAPh/AAAAAAAA+H8AAAAAAAD4fwAAAAAAAPh/AAAAAAAA+H8AAAAAAAD4fwAAAAAAAPh/AAAAAAAA+H8AAAAAAAD4fwAAAAAAAPh/AAAAAAAA+H8AAAAAAAD4fwAAAAAAAPh/AAAAAAAA+H8AAAAAAAD4fwAAAAAAAPh/AAAAAAAA+H8AAAAAAAD4fwAAAAAAAPh/AAAAAAAA+H8AAAAAAAD4fwAAAAAAAPh/AAAAAAAA+H8AAAAAAAD4fwAAAAAAAPh/AAAAAAAA+H8AAAAAAAD4fwAAAAAAAPh/AAAAAAAA+H8AAAAAAAD4fwAAAAAAAPh/AAAAAAAA+H8AAAAAAAD4fwAAAAAAAPh/AAAAAAAA+H8AAAAAAAD4fwAAAAAAAPh/AAAAAAAA+H8AAAAAAAD4fwAAAAAAAPh/AAAAAAAA+H8AAAAAAAD4fwAAAAAAAPh/AAAAAAAA+H8AAAAAAAD4fwAAAAAAAPh/AAAAAAAA+H8AAAAAAAD4fwAAAAAAAPh/AAAAAAAA+H8AAAAAAAD4fwAAAAAAAPh/AAAAAAAA+H8AAAAAAAD4fwAAAAAAAPh/AAAAAAAA+H8AAAAAAAD4fwAAAAAAAPh/AAAAAAAA+H8AAAAAAAD4fwAAAAAAAPh/AAAAAAAA+H8AAAAAAAD4fwAAAAAAAPh/AAAAAAAA+H8AAAAAAAD4fwAAAAAAAPh/AAAAAAAA+H8AAAAAAAD4fwAAAAAAAPh/AAAAAAAA+H8AAAAAAAD4fwAAAAAAAPh/AAAAAAAA+H8AAAAAAAD4fwAAAAAAAPh/AAAAAAAA+H8AAAAAAAD4fwAAAAAAAPh/AAAAAAAA+H8AAAAAAAD4fwAAAAAAAPh/AAAAAAAA+H8AAAAAAAD4fwAAAAAAAPh/AAAAAAAA+H8AAAAAAAD4fwAAAAAAAPh/AAAAAAAA+H8AAAAAAAD4fwAAAAAAAPh/AAAAAAAA+H8AAAAAAAD4fwAAAAAAAPh/AAAAAAAA+H8AAAAAAAD4fw==\",\"dtype\":\"float64\",\"shape\":[137]},\"specie\":[\"Bombadil\",\"Bombadil\",\"Bombadil\",\"Bombadil\",\"Bombadil\",\"Bombadil\",\"Bombadil\",\"Bombadil\",\"Bombadil\",\"Bombadil\",\"Bombadil\",\"Bombadil\",\"Bombadil\",\"Bombadil\",\"Bombadil\",\"Bombadil\",\"Bombadil\",\"Bombadil\",\"Bombadil\",\"Bombadil\",\"Bombadil\",\"Bombadil\",\"Bombadil\",\"Bombadil\",\"Bombadil\",\"Bombadil\",\"Bombadil\",\"Bombadil\",\"Bombadil\",\"Bombadil\",\"Bombadil\",\"Bombadil\",\"Bombadil\",\"Bombadil\",\"Bombadil\",\"Bombadil\",\"Bombadil\",\"Bombadil\",\"Bombadil\",\"Bombadil\",\"Bombadil\",\"Bombadil\",\"Bombadil\",\"Bombadil\",\"Bombadil\",\"Bombadil\",\"Bombadil\",\"Bombadil\",\"Bombadil\",\"Bombadil\",\"Bombadil\",\"Bombadil\",\"Bombadil\",\"Bombadil\",\"Bombadil\",\"Bombadil\",\"Bombadil\",\"Bombadil\",\"Bombadil\",\"Bombadil\",\"Bombadil\",\"Bombadil\",\"Bombadil\",\"Bombadil\",\"Bombadil\",\"Bombadil\",\"Bombadil\",\"Bombadil\",\"Bombadil\",\"Bombadil\",\"Bombadil\",\"Bombadil\",\"Bombadil\",\"Bombadil\",\"Bombadil\",\"Bombadil\",\"Bombadil\",\"Bombadil\",\"Bombadil\",\"Bombadil\",\"Bombadil\",\"Bombadil\",\"Bombadil\",\"Bombadil\",\"Bombadil\",\"Bombadil\",\"Bombadil\",\"Bombadil\",\"Bombadil\",\"Bombadil\",\"Bombadil\",\"Bombadil\",\"Bombadil\",\"Bombadil\",\"Bombadil\",\"Bombadil\",\"Bombadil\",\"Bombadil\",\"Bombadil\",\"Bombadil\",\"Bombadil\",\"Bombadil\",\"Bombadil\",\"Bombadil\",\"Bombadil\",\"Bombadil\",\"Bombadil\",\"Bombadil\",\"Bombadil\",\"Bombadil\",\"Bombadil\",\"Bombadil\",\"Bombadil\",\"Bombadil\",\"Bombadil\",\"Bombadil\",\"Bombadil\",\"Bombadil\",\"Bombadil\",\"Bombadil\",\"Bombadil\",\"Bombadil\",\"Bombadil\",\"Bombadil\",\"Bombadil\",\"Bombadil\",\"Bombadil\",\"Bombadil\",\"Bombadil\",\"Bombadil\",\"Bombadil\",\"Bombadil\",\"Bombadil\",\"Bombadil\",\"Bombadil\",\"Bombadil\",\"Bombadil\"],\"x\":{\"__ndarray__\":\"Ri9UQRbGIEHRsVRBcDpGQcxSPUHJHhxB5zoyQRhQh0ERrTxBrWgfQWBUVkFvZiVBUyBZQYX+QUGgeiVBMuQuQWjpQkEw4GVBvk0cQdl5JEHaSiJBz/smQePmHEHbkhlBEFckQVI5PkFLbklBgOcfQY+zGUE8/mFBflCKQRwKNUFJdTVB8IAfQdHEPkENZy9BVbxhQSp1TUFNM0dBC9UcQbbuJUGg7SdB2EKXQXi3S0HAuTZByJNWQVzJjEGin0pB204kQWLMM0HCLDNBdq5HQWO1SEHWI2JBPo40QYBbXEEEeCNBVmtkQfXzYkGpCyRBKpw/QYqWREFrgYNB3UE9QfksHkHvlUZBoK9CQSqVnEGwu2FBmkNxQVrcLEFoXFpBoUc3QYNHGUHwrBpBowM3QUctMEHARx1BZzNBQe7iiUGU6I9BYQN7QYPOR0Fnx0NBjqJGQTG4QEH/UENBkRFDQVw3Q0Fbz1NBlwReQXypQEEuBztB0mVQQRYCUEEfLxxBkKw7QdGPPEH4BB1BWJMbQXyFUUFJYR1BBOkcQelsX0GAT0ZBfjA8QQz6lUEL8zVBi7pbQWmYg0FLdD5BnhYoQbeoSkEblppBygkfQToiQUHUYlhB1OqoQQ8/HkESITJB6jM6QZvcSUEJqItBKNh9QWLfQEEQC5NBPO9VQVcFiUGGgk9BBQ9gQYLBX0EjJzNB9h0+QXLDSUFgsjpBRn5WQeX5TUE=\",\"dtype\":\"float32\",\"shape\":[137]},\"y\":{\"__ndarray__\":\"MimIQSRLekFta4ZBm3GEQfhgiEF0GHFBWvxhQYPGTkGmKWdBTr1pQX69dkEtQGFBrF8yQVebY0HKbYVBmXJwQbVSUUFS+jJBJsB1Qe4hg0FvNoNBGDGEQZvRaEGb4WlBetZnQfEQYUFccWBBdud7QSRKakE/G1BBl1c1QW4dfkGjOYlBeD9nQZQBiUGHjWtBMjA7QUFaSkHkW1NBSkF3QY/bZ0E5oH1BeFhhQb0dTUGAu39BsP5TQSHFWUE3VUlBt5FkQW6ugUGPXohBJ8B3QSauTkGA6EhBZ6p9QTzoYEHQ8WRBMFZJQQ9qOEH8NWNB5Q9fQVvyWkHn8kFBfr1iQQaNeUGVT4RBiK2RQd/lZUECMTdBOp48QaB0hkG9XTFBWjdCQUtea0Gfu2pBqqx/QYQBgkGnHm9BVNJ2QQ/wVkEOp1NBsGJXQYCahEHsQ4xB6yWLQb4fgUGQa31BRvB1QeWsh0F4xHFBXWKKQdsIg0EmeGNBnOBSQd71UEG9ImlBAvZ0QRfMc0GSDGxBDeRpQUeTikE3yW1BzHBrQbjYY0EX/GJBMv9xQU9reUGQNX5Bd19eQVAqY0FrpYBBzw+EQVS2WUHCUmJBRMBuQQoEeUEX7HRBsNmDQTCwZ0FJvnxBgn12QVSyXUFjgWVBwiFQQaAgb0GzDlNBRxmAQcTgYkEoiVRBMhCNQS0Ei0Hdu3RBnnyFQU4ciUFxfHNBJ5pzQYrZbkE=\",\"dtype\":\"float32\",\"shape\":[137]}},\"selected\":{\"id\":\"b76a55d3-70a7-47f9-8a14-90bc6de14480\",\"type\":\"Selection\"},\"selection_policy\":{\"id\":\"8a8234c6-c7b0-4b75-818d-889160c75d27\",\"type\":\"UnionRenderers\"}},\"id\":\"4e018ed8-4d2e-4516-b08f-42b5250032ed\",\"type\":\"ColumnDataSource\"},{\"attributes\":{\"callback\":null,\"data\":{\"index\":[843,844,845,846,847,848,849,850,851,852,853,854,855,856,857,858,859,860,861,862,863,864,865,866,867,868,869,870,871,872,873,874,875,876,877,878,879,880,881,882,883,884,885,886,887,888,889,890,891,892,893,894,895,896,897,898,899,900,901,902,903,904,905,906,907,908,909,910,911,912,913,914,915,916,917,918,919,920,921,922,923,924,925,926,927,928,929],\"kasios_index\":{\"__ndarray__\":\"AAAAAAAA+H8AAAAAAAD4fwAAAAAAAPh/AAAAAAAA+H8AAAAAAAD4fwAAAAAAAPh/AAAAAAAA+H8AAAAAAAD4fwAAAAAAAPh/AAAAAAAA+H8AAAAAAAD4fwAAAAAAAPh/AAAAAAAA+H8AAAAAAAD4fwAAAAAAAPh/AAAAAAAA+H8AAAAAAAD4fwAAAAAAAPh/AAAAAAAA+H8AAAAAAAD4fwAAAAAAAPh/AAAAAAAA+H8AAAAAAAD4fwAAAAAAAPh/AAAAAAAA+H8AAAAAAAD4fwAAAAAAAPh/AAAAAAAA+H8AAAAAAAD4fwAAAAAAAPh/AAAAAAAA+H8AAAAAAAD4fwAAAAAAAPh/AAAAAAAA+H8AAAAAAAD4fwAAAAAAAPh/AAAAAAAA+H8AAAAAAAD4fwAAAAAAAPh/AAAAAAAA+H8AAAAAAAD4fwAAAAAAAPh/AAAAAAAA+H8AAAAAAAD4fwAAAAAAAPh/AAAAAAAA+H8AAAAAAAD4fwAAAAAAAPh/AAAAAAAA+H8AAAAAAAD4fwAAAAAAAPh/AAAAAAAA+H8AAAAAAAD4fwAAAAAAAPh/AAAAAAAA+H8AAAAAAAD4fwAAAAAAAPh/AAAAAAAA+H8AAAAAAAD4fwAAAAAAAPh/AAAAAAAA+H8AAAAAAAD4fwAAAAAAAPh/AAAAAAAA+H8AAAAAAAD4fwAAAAAAAPh/AAAAAAAA+H8AAAAAAAD4fwAAAAAAAPh/AAAAAAAA+H8AAAAAAAD4fwAAAAAAAPh/AAAAAAAA+H8AAAAAAAD4fwAAAAAAAPh/AAAAAAAA+H8AAAAAAAD4fwAAAAAAAPh/AAAAAAAA+H8AAAAAAAD4fwAAAAAAAPh/AAAAAAAA+H8AAAAAAAD4fwAAAAAAAPh/AAAAAAAA+H8AAAAAAAD4fwAAAAAAAPh/\",\"dtype\":\"float64\",\"shape\":[87]},\"specie\":[\"Green-tipped Scarlet Pipit\",\"Green-tipped Scarlet Pipit\",\"Green-tipped Scarlet Pipit\",\"Green-tipped Scarlet Pipit\",\"Green-tipped Scarlet Pipit\",\"Green-tipped Scarlet Pipit\",\"Green-tipped Scarlet Pipit\",\"Green-tipped Scarlet Pipit\",\"Green-tipped Scarlet Pipit\",\"Green-tipped Scarlet Pipit\",\"Green-tipped Scarlet Pipit\",\"Green-tipped Scarlet Pipit\",\"Green-tipped Scarlet Pipit\",\"Green-tipped Scarlet Pipit\",\"Green-tipped Scarlet Pipit\",\"Green-tipped Scarlet Pipit\",\"Green-tipped Scarlet Pipit\",\"Green-tipped Scarlet Pipit\",\"Green-tipped Scarlet Pipit\",\"Green-tipped Scarlet Pipit\",\"Green-tipped Scarlet Pipit\",\"Green-tipped Scarlet Pipit\",\"Green-tipped Scarlet Pipit\",\"Green-tipped Scarlet Pipit\",\"Green-tipped Scarlet Pipit\",\"Green-tipped Scarlet Pipit\",\"Green-tipped Scarlet Pipit\",\"Green-tipped Scarlet Pipit\",\"Green-tipped Scarlet Pipit\",\"Green-tipped Scarlet Pipit\",\"Green-tipped Scarlet Pipit\",\"Green-tipped Scarlet Pipit\",\"Green-tipped Scarlet Pipit\",\"Green-tipped Scarlet Pipit\",\"Green-tipped Scarlet Pipit\",\"Green-tipped Scarlet Pipit\",\"Green-tipped Scarlet Pipit\",\"Green-tipped Scarlet Pipit\",\"Green-tipped Scarlet Pipit\",\"Green-tipped Scarlet Pipit\",\"Green-tipped Scarlet Pipit\",\"Green-tipped Scarlet Pipit\",\"Green-tipped Scarlet Pipit\",\"Green-tipped Scarlet Pipit\",\"Green-tipped Scarlet Pipit\",\"Green-tipped Scarlet Pipit\",\"Green-tipped Scarlet Pipit\",\"Green-tipped Scarlet Pipit\",\"Green-tipped Scarlet Pipit\",\"Green-tipped Scarlet Pipit\",\"Green-tipped Scarlet Pipit\",\"Green-tipped Scarlet Pipit\",\"Green-tipped Scarlet Pipit\",\"Green-tipped Scarlet Pipit\",\"Green-tipped Scarlet Pipit\",\"Green-tipped Scarlet Pipit\",\"Green-tipped Scarlet Pipit\",\"Green-tipped Scarlet Pipit\",\"Green-tipped Scarlet Pipit\",\"Green-tipped Scarlet Pipit\",\"Green-tipped Scarlet Pipit\",\"Green-tipped Scarlet Pipit\",\"Green-tipped Scarlet Pipit\",\"Green-tipped Scarlet Pipit\",\"Green-tipped Scarlet Pipit\",\"Green-tipped Scarlet Pipit\",\"Green-tipped Scarlet Pipit\",\"Green-tipped Scarlet Pipit\",\"Green-tipped Scarlet Pipit\",\"Green-tipped Scarlet Pipit\",\"Green-tipped Scarlet Pipit\",\"Green-tipped Scarlet Pipit\",\"Green-tipped Scarlet Pipit\",\"Green-tipped Scarlet Pipit\",\"Green-tipped Scarlet Pipit\",\"Green-tipped Scarlet Pipit\",\"Green-tipped Scarlet Pipit\",\"Green-tipped Scarlet Pipit\",\"Green-tipped Scarlet Pipit\",\"Green-tipped Scarlet Pipit\",\"Green-tipped Scarlet Pipit\",\"Green-tipped Scarlet Pipit\",\"Green-tipped Scarlet Pipit\",\"Green-tipped Scarlet Pipit\",\"Green-tipped Scarlet Pipit\",\"Green-tipped Scarlet Pipit\",\"Green-tipped Scarlet Pipit\"],\"x\":{\"__ndarray__\":\"7qNbQZ67TkE0XEFB/HFeQUtnQ0EuQGVBcXtfQRlTREHU4FJBJtZIQeqWW0HFsUpBAE0/QaHiQ0F0Ul5BnpxgQUFBYkFZmF5B5g1GQb+LSUHackhBEVdKQf0nU0HZckNBzgNBQWU/akExsVRBL01EQd05REHv1VZB0UVDQfvBPUGrgkRBxr89QYLjP0F/s1dBhxdCQcJOUUFcvk5BX5ZXQSdNQ0EFpWRBqRZBQTKVRUF9gExBUFFcQQ7YS0FVwWdBx9dXQVkeZEFK7VBBjvRDQVBNXUFQhU5BBMkyQYtFYEHOXzpB419cQUhbUEErwl1BMJpAQeVnPUEtjFNBKi1PQV0KXUHunF1Bm0lUQRwMTkHeUkNBuJBCQRqnfkGb2UtBlLJFQQdcWkEBioFBOzFBQbvNOUGP/DxBRcFdQRfIPkHNOD5BTPVhQRagRkED5T5B3GtQQXXOW0GgCU1B\",\"dtype\":\"float32\",\"shape\":[87]},\"y\":{\"__ndarray__\":\"hmlXQZNNQUGEeUJBOM5bQaM0QEF/4k1BfjJGQTEcO0FsujxBDyNDQTspVEFczTlBK3ZDQYHjO0FEakZBwXhYQTrpT0EpiURBL9c/QRNaPEEtpj1Brh88QW18PUFNDkFB4MM/Qb/9RUF+jDVBtqpDQViyQEHnx0NBo5ZPQfozTEFW50FB4dJGQXcIS0EOXT9B9eNCQaDwPUHy+T1BMd5EQU0rQkEAzFVB7oZXQVGnVUEFoTpBfOdDQVI1QEEkJ0dBA9k/Qa9oUUEjUz1BICxZQZn6V0Fwhz9BNGFQQfV1hUHEmUFBBPpbQRkIPEFJUFhBYLM+QYJ+QkE4ijpBk0lAQS/IQkG5q0VBwGA+QZ+wQEHfNT1B5Uo/QdU2XkGzOjpBUINBQfwOWUHO5lNBhvQ9QS/0QEFoCkJB0s1aQbfySEEGsEVBotJZQSzYU0GnfEBBP4I8QbcVRUGAJEFB\",\"dtype\":\"float32\",\"shape\":[87]}},\"selected\":{\"id\":\"5d4af5aa-acc6-44c6-805e-997e98aa63cf\",\"type\":\"Selection\"},\"selection_policy\":{\"id\":\"ef8a1893-2e71-4923-8b87-28e16c80e0d9\",\"type\":\"UnionRenderers\"}},\"id\":\"4842c977-7ba0-4179-bd89-73a0def58e75\",\"type\":\"ColumnDataSource\"},{\"attributes\":{\"callback\":null,\"data\":{\"index\":[1584,1585,1586,1587,1588,1589,1590,1591,1592,1593,1594,1595,1596,1597,1598,1599,1600,1601,1602,1603,1604,1605,1606,1607,1608,1609,1610,1611,1612,1613,1614,1615,1616,1617,1618,1619,1620,1621,1622,1623,1624,1625,1626,1627,1628,1629,1630,1631,1632,1633,1634,1635,1636,1637,1638,1639,1640,1641,1642,1643,1644,1645,1646,1647,1648,1649,1650,1651,1652,1653,1654,1655,1656,1657,1658,1659,1660,1661,1662,1663,1664,1665,1666,1667,1668,1669,1670,1671,1672,1673,1674,1675,1676,1677,1678,1679,1680,1681,1682,1683,1684,1685,1686,1687,1688,1689,1690,1691,1692,1693,1694,1695,1696,1697,1698,1699,1700,1701,1702,1703,1704,1705,1706,1707,1708,1709,1710,1711,1712,1713,1714,1715,1716,1717,1718,1719,1720,1721,1722,1723,1724,1725,1726,1727,1728,1729,1730,1731,1732,1733,1734,1735,1736,1737,1738,1739,1740,1741,1742,1743,1744,1745,1746,1747,1748,1749,1750,1751,1752,1753,1754,1755,1756,1757,1758,1759,1760,1761,1762,1763,1764,1765,1766,1767,1768,1769,1770,1771,1772,1773,1774,1775,1776,1777,1778,1779,1780,1781,1782,1783,1784,1785,1786,1787,1788,1789,1790,1791,1792,1793,1794,1795,1796,1797,1798,1799,1800,1801,1802,1803,1804,1805,1806,1807,1808,1809,1810,1811,1812,1813,1814,1815,1816,1817,1818,1819,1820,1821,1822],\"kasios_index\":{\"__ndarray__\":\"AAAAAAAA+H8AAAAAAAD4fwAAAAAAAPh/AAAAAAAA+H8AAAAAAAD4fwAAAAAAAPh/AAAAAAAA+H8AAAAAAAD4fwAAAAAAAPh/AAAAAAAA+H8AAAAAAAD4fwAAAAAAAPh/AAAAAAAA+H8AAAAAAAD4fwAAAAAAAPh/AAAAAAAA+H8AAAAAAAD4fwAAAAAAAPh/AAAAAAAA+H8AAAAAAAD4fwAAAAAAAPh/AAAAAAAA+H8AAAAAAAD4fwAAAAAAAPh/AAAAAAAA+H8AAAAAAAD4fwAAAAAAAPh/AAAAAAAA+H8AAAAAAAD4fwAAAAAAAPh/AAAAAAAA+H8AAAAAAAD4fwAAAAAAAPh/AAAAAAAA+H8AAAAAAAD4fwAAAAAAAPh/AAAAAAAA+H8AAAAAAAD4fwAAAAAAAPh/AAAAAAAA+H8AAAAAAAD4fwAAAAAAAPh/AAAAAAAA+H8AAAAAAAD4fwAAAAAAAPh/AAAAAAAA+H8AAAAAAAD4fwAAAAAAAPh/AAAAAAAA+H8AAAAAAAD4fwAAAAAAAPh/AAAAAAAA+H8AAAAAAAD4fwAAAAAAAPh/AAAAAAAA+H8AAAAAAAD4fwAAAAAAAPh/AAAAAAAA+H8AAAAAAAD4fwAAAAAAAPh/AAAAAAAA+H8AAAAAAAD4fwAAAAAAAPh/AAAAAAAA+H8AAAAAAAD4fwAAAAAAAPh/AAAAAAAA+H8AAAAAAAD4fwAAAAAAAPh/AAAAAAAA+H8AAAAAAAD4fwAAAAAAAPh/AAAAAAAA+H8AAAAAAAD4fwAAAAAAAPh/AAAAAAAA+H8AAAAAAAD4fwAAAAAAAPh/AAAAAAAA+H8AAAAAAAD4fwAAAAAAAPh/AAAAAAAA+H8AAAAAAAD4fwAAAAAAAPh/AAAAAAAA+H8AAAAAAAD4fwAAAAAAAPh/AAAAAAAA+H8AAAAAAAD4fwAAAAAAAPh/AAAAAAAA+H8AAAAAAAD4fwAAAAAAAPh/AAAAAAAA+H8AAAAAAAD4fwAAAAAAAPh/AAAAAAAA+H8AAAAAAAD4fwAAAAAAAPh/AAAAAAAA+H8AAAAAAAD4fwAAAAAAAPh/AAAAAAAA+H8AAAAAAAD4fwAAAAAAAPh/AAAAAAAA+H8AAAAAAAD4fwAAAAAAAPh/AAAAAAAA+H8AAAAAAAD4fwAAAAAAAPh/AAAAAAAA+H8AAAAAAAD4fwAAAAAAAPh/AAAAAAAA+H8AAAAAAAD4fwAAAAAAAPh/AAAAAAAA+H8AAAAAAAD4fwAAAAAAAPh/AAAAAAAA+H8AAAAAAAD4fwAAAAAAAPh/AAAAAAAA+H8AAAAAAAD4fwAAAAAAAPh/AAAAAAAA+H8AAAAAAAD4fwAAAAAAAPh/AAAAAAAA+H8AAAAAAAD4fwAAAAAAAPh/AAAAAAAA+H8AAAAAAAD4fwAAAAAAAPh/AAAAAAAA+H8AAAAAAAD4fwAAAAAAAPh/AAAAAAAA+H8AAAAAAAD4fwAAAAAAAPh/AAAAAAAA+H8AAAAAAAD4fwAAAAAAAPh/AAAAAAAA+H8AAAAAAAD4fwAAAAAAAPh/AAAAAAAA+H8AAAAAAAD4fwAAAAAAAPh/AAAAAAAA+H8AAAAAAAD4fwAAAAAAAPh/AAAAAAAA+H8AAAAAAAD4fwAAAAAAAPh/AAAAAAAA+H8AAAAAAAD4fwAAAAAAAPh/AAAAAAAA+H8AAAAAAAD4fwAAAAAAAPh/AAAAAAAA+H8AAAAAAAD4fwAAAAAAAPh/AAAAAAAA+H8AAAAAAAD4fwAAAAAAAPh/AAAAAAAA+H8AAAAAAAD4fwAAAAAAAPh/AAAAAAAA+H8AAAAAAAD4fwAAAAAAAPh/AAAAAAAA+H8AAAAAAAD4fwAAAAAAAPh/AAAAAAAA+H8AAAAAAAD4fwAAAAAAAPh/AAAAAAAA+H8AAAAAAAD4fwAAAAAAAPh/AAAAAAAA+H8AAAAAAAD4fwAAAAAAAPh/AAAAAAAA+H8AAAAAAAD4fwAAAAAAAPh/AAAAAAAA+H8AAAAAAAD4fwAAAAAAAPh/AAAAAAAA+H8AAAAAAAD4fwAAAAAAAPh/AAAAAAAA+H8AAAAAAAD4fwAAAAAAAPh/AAAAAAAA+H8AAAAAAAD4fwAAAAAAAPh/AAAAAAAA+H8AAAAAAAD4fwAAAAAAAPh/AAAAAAAA+H8AAAAAAAD4fwAAAAAAAPh/AAAAAAAA+H8AAAAAAAD4fwAAAAAAAPh/AAAAAAAA+H8AAAAAAAD4fwAAAAAAAPh/AAAAAAAA+H8AAAAAAAD4fwAAAAAAAPh/AAAAAAAA+H8AAAAAAAD4fwAAAAAAAPh/AAAAAAAA+H8AAAAAAAD4fwAAAAAAAPh/AAAAAAAA+H8AAAAAAAD4fwAAAAAAAPh/AAAAAAAA+H8AAAAAAAD4fwAAAAAAAPh/AAAAAAAA+H8AAAAAAAD4fwAAAAAAAPh/AAAAAAAA+H8AAAAAAAD4fwAAAAAAAPh/AAAAAAAA+H8AAAAAAAD4fwAAAAAAAPh/AAAAAAAA+H8AAAAAAAD4fw==\",\"dtype\":\"float64\",\"shape\":[239]},\"specie\":[\"Queenscoat\",\"Queenscoat\",\"Queenscoat\",\"Queenscoat\",\"Queenscoat\",\"Queenscoat\",\"Queenscoat\",\"Queenscoat\",\"Queenscoat\",\"Queenscoat\",\"Queenscoat\",\"Queenscoat\",\"Queenscoat\",\"Queenscoat\",\"Queenscoat\",\"Queenscoat\",\"Queenscoat\",\"Queenscoat\",\"Queenscoat\",\"Queenscoat\",\"Queenscoat\",\"Queenscoat\",\"Queenscoat\",\"Queenscoat\",\"Queenscoat\",\"Queenscoat\",\"Queenscoat\",\"Queenscoat\",\"Queenscoat\",\"Queenscoat\",\"Queenscoat\",\"Queenscoat\",\"Queenscoat\",\"Queenscoat\",\"Queenscoat\",\"Queenscoat\",\"Queenscoat\",\"Queenscoat\",\"Queenscoat\",\"Queenscoat\",\"Queenscoat\",\"Queenscoat\",\"Queenscoat\",\"Queenscoat\",\"Queenscoat\",\"Queenscoat\",\"Queenscoat\",\"Queenscoat\",\"Queenscoat\",\"Queenscoat\",\"Queenscoat\",\"Queenscoat\",\"Queenscoat\",\"Queenscoat\",\"Queenscoat\",\"Queenscoat\",\"Queenscoat\",\"Queenscoat\",\"Queenscoat\",\"Queenscoat\",\"Queenscoat\",\"Queenscoat\",\"Queenscoat\",\"Queenscoat\",\"Queenscoat\",\"Queenscoat\",\"Queenscoat\",\"Queenscoat\",\"Queenscoat\",\"Queenscoat\",\"Queenscoat\",\"Queenscoat\",\"Queenscoat\",\"Queenscoat\",\"Queenscoat\",\"Queenscoat\",\"Queenscoat\",\"Queenscoat\",\"Queenscoat\",\"Queenscoat\",\"Queenscoat\",\"Queenscoat\",\"Queenscoat\",\"Queenscoat\",\"Queenscoat\",\"Queenscoat\",\"Queenscoat\",\"Queenscoat\",\"Queenscoat\",\"Queenscoat\",\"Queenscoat\",\"Queenscoat\",\"Queenscoat\",\"Queenscoat\",\"Queenscoat\",\"Queenscoat\",\"Queenscoat\",\"Queenscoat\",\"Queenscoat\",\"Queenscoat\",\"Queenscoat\",\"Queenscoat\",\"Queenscoat\",\"Queenscoat\",\"Queenscoat\",\"Queenscoat\",\"Queenscoat\",\"Queenscoat\",\"Queenscoat\",\"Queenscoat\",\"Queenscoat\",\"Queenscoat\",\"Queenscoat\",\"Queenscoat\",\"Queenscoat\",\"Queenscoat\",\"Queenscoat\",\"Queenscoat\",\"Queenscoat\",\"Queenscoat\",\"Queenscoat\",\"Queenscoat\",\"Queenscoat\",\"Queenscoat\",\"Queenscoat\",\"Queenscoat\",\"Queenscoat\",\"Queenscoat\",\"Queenscoat\",\"Queenscoat\",\"Queenscoat\",\"Queenscoat\",\"Queenscoat\",\"Queenscoat\",\"Queenscoat\",\"Queenscoat\",\"Queenscoat\",\"Queenscoat\",\"Queenscoat\",\"Queenscoat\",\"Queenscoat\",\"Queenscoat\",\"Queenscoat\",\"Queenscoat\",\"Queenscoat\",\"Queenscoat\",\"Queenscoat\",\"Queenscoat\",\"Queenscoat\",\"Queenscoat\",\"Queenscoat\",\"Queenscoat\",\"Queenscoat\",\"Queenscoat\",\"Queenscoat\",\"Queenscoat\",\"Queenscoat\",\"Queenscoat\",\"Queenscoat\",\"Queenscoat\",\"Queenscoat\",\"Queenscoat\",\"Queenscoat\",\"Queenscoat\",\"Queenscoat\",\"Queenscoat\",\"Queenscoat\",\"Queenscoat\",\"Queenscoat\",\"Queenscoat\",\"Queenscoat\",\"Queenscoat\",\"Queenscoat\",\"Queenscoat\",\"Queenscoat\",\"Queenscoat\",\"Queenscoat\",\"Queenscoat\",\"Queenscoat\",\"Queenscoat\",\"Queenscoat\",\"Queenscoat\",\"Queenscoat\",\"Queenscoat\",\"Queenscoat\",\"Queenscoat\",\"Queenscoat\",\"Queenscoat\",\"Queenscoat\",\"Queenscoat\",\"Queenscoat\",\"Queenscoat\",\"Queenscoat\",\"Queenscoat\",\"Queenscoat\",\"Queenscoat\",\"Queenscoat\",\"Queenscoat\",\"Queenscoat\",\"Queenscoat\",\"Queenscoat\",\"Queenscoat\",\"Queenscoat\",\"Queenscoat\",\"Queenscoat\",\"Queenscoat\",\"Queenscoat\",\"Queenscoat\",\"Queenscoat\",\"Queenscoat\",\"Queenscoat\",\"Queenscoat\",\"Queenscoat\",\"Queenscoat\",\"Queenscoat\",\"Queenscoat\",\"Queenscoat\",\"Queenscoat\",\"Queenscoat\",\"Queenscoat\",\"Queenscoat\",\"Queenscoat\",\"Queenscoat\",\"Queenscoat\",\"Queenscoat\",\"Queenscoat\",\"Queenscoat\",\"Queenscoat\",\"Queenscoat\",\"Queenscoat\",\"Queenscoat\",\"Queenscoat\",\"Queenscoat\",\"Queenscoat\",\"Queenscoat\",\"Queenscoat\",\"Queenscoat\",\"Queenscoat\",\"Queenscoat\"],\"x\":{\"__ndarray__\":\"5X2tQbUOpEEn6rBBeDeuQevwnkFJz6NBMterQVq3oUFiyJlB8MOZQbSooUHaxLFB+yutQc7yrkHmc7FBPqOxQeiopkGTlqxBnB+lQXLQoEExca9BebKqQallmkEJsaVBr0+fQRmBmkG5Ya9B9L+oQd66qUGOFa1B//eaQYMnr0EhtKRBa7yoQbAkokHtGqVBnUKtQcHArkEPuZ1Be5OtQULnnkFNG6dBK36jQQOBIEGvXTJBpoglQaYMn0EkSaZBWj6XQfbenkEg5ptBsDRlQeAKskEnDrFBDmGgQdykmkGG8qlB/uWhQW2NnkFW355BD5+eQWmKnkEXRKxBEPqqQZm6YkFhx6hBY5ujQYFim0FHma5B1tekQQc6pkGqoaNB/46eQfZgPUEXJatBnzqgQeUUokFscK5Bmm9XQYzum0GhO0FBqVSbQXR/q0GrWahByzykQZ8qqkEaXK5B1UqmQRbapUGbeq5BPXmuQdYEqUF8zaRBeIyxQZ8YpUFdIa9B2m+xQbDBsUEJFKBB2+yuQcHJRUGNtJpBTLGvQXHDYkHadp9BzS6YQe7JoEHrwKlBxZugQaJynUEPtZpBz42WQSDQqEEzCZlB8KabQS6io0Ge1GRBg62uQZNZikHFvJpBlklYQZTBmEHsVqdBnCyHQccfmkH9DZtBvCOmQXopqkH1Lq1Bmkc/QfQ8rkFT4K1BVJ6sQd6opEFW+7BBnjWfQVZJpkHlNqlBRZixQfcKrUE2OKNBumCqQRAjpkGJBaxBcNWsQU9ZqUGIbaVB48WqQUQPNEETi6ZByzuaQZPDrkEFIahBPk6fQU0Vr0FKpKhBbzKpQd3VokG7pFtB/riZQQOkrUHgvZxBF/ysQWUOqEGFW2JB8FiaQdWIp0ExxJtBWpqsQQNloUEhry9B8eqsQbtKrEHF14tBCDWkQbGvo0Ge1qpBZkpaQa1WmUFu019BxgJcQdJjnkHs659BnEudQQ++mEGQp6RB28ViQaOrXEHxabBBEJ+kQZN5rUE7SaJBDKaeQYmGWUG5zV9Bw5ZEQecPqEEhqWJBPn+jQZ8Ho0H4XkRBUExXQUutY0FNN1tBwrdZQYjvaUFhp5lBZZmqQWmlg0FZW6hBVdyrQUF1KkGexp5BGLqeQQhcqkGE7JxBh96rQb4XqEFX5aBBu+OjQWTEmUGz9plBIT6bQVrWp0GLN5tBUVGaQafnm0HG3GBB9G2lQTZYYUH+3WBBkEGbQVgtsEGB36lBbj+ZQYByVEFP9FpBNM6YQdkurEE=\",\"dtype\":\"float32\",\"shape\":[239]},\"y\":{\"__ndarray__\":\"qO+JQYhMh0F0B4dBE8+GQdf/hkEcJIVBjqeKQfGMiEGZsIdBej2FQflhiEG514VBXASKQYu8h0GwGYVBaOCFQS6MekF6CYpBWyyEQc9WiUFLZYZBpGKKQaIqiUENu4tBUXqKQTU3hEGCboZBEs5zQSAsfUGddYpBLT+IQeOZhUFOl4tBluGFQfMViEFt4opBX+iFQS6Qg0GJO4xBRUqHQcVLiEFN3YZBSsaEQeQKhEFbo49BmT14Qc7ZikG+IIZBOLN2Qdanh0H5voxBDgJRQYBHhUEvVYRBQM6IQdwGhkFG6YpBo6eIQXy/iUFT1IlBCo6KQdv2i0HsCn9BrDl8QYzQi0GvpYdBFZKAQZnjiUELc4dBqHp6QX5ri0H3QYFBIn2JQY29ZUH/v4lBFJeHQUKWiUGLtodBnmGCQWtmikGo/3RBPluJQU8kdkG7woZBscqJQRYvh0HGroNBXTyIQQt7gEHvpINBwc6DQX8Gf0H9tX9BhSyFQbDAhUGUtIRBVC+FQbh8hUGmgIpBUkWIQXMzj0EFK4tBJNqGQdYBjEFy5IhB+LR/Qb7JiEFZSIFBejaJQYRdiUGsKIlBGRd6QQ59g0FfE4lByZCCQdiKiUEQ1VtB0x+DQaUrZ0HTdnxBt9x0QQ63iEFd8IZBEuRKQc9wh0FC04lBD6mKQeljhEHOkIlBbnWJQYD5h0F3CYdBlEGHQcCch0HWDIRB1FOFQQIDi0Ezr3tB8r+FQeNCeUHm44dBORx/QdAphkH58oZBBKWFQSJIikFl4IZBVTuIQb6KUEFx54VBZIiLQWkviEHudYNBk++IQQ4UgkEkB4VBYHWDQas/iUGqypVBKS6FQe8nikEUfYpBbZiHQURmhkHC7o1BfACGQUW9hkHzFotBWICKQeVZiUHoUXRBewiKQT/ziUG4NUNBHa5tQTpYjEFWtIpBl52CQbGoikGUBIpBv4WFQfTDiEHWd4pBrHiJQdqJiUEdu4VB772IQQXhhUH2M4dBfeiGQQ3YiUFhV4hBx3eKQayLhkHfb5RBO596QVS/hUFgbYlBzy50QYa7iEHqAlhBa8h0QZu4ikEqd3VBuuNeQd+dTEGmQotBxcCBQUrERkFrd4RBMSN+QcyzdEHWsopBLtiKQXLThkHDFYtBN/OFQcNkh0EYFYdBohJuQbAFi0EDHYtBW3CLQTgzhkH62YZB19aHQdLOiUE+FIxB682KQS7YjUGKgYtBvHiJQUqXhkEZAYdBYOyKQTSFg0GllIRBBQWLQYChekE=\",\"dtype\":\"float32\",\"shape\":[239]}},\"selected\":{\"id\":\"287b17db-eb71-4a90-9580-1cd7758cc3ab\",\"type\":\"Selection\"},\"selection_policy\":{\"id\":\"0fbb89b7-1ac5-4a20-bdf6-07a8769e637a\",\"type\":\"UnionRenderers\"}},\"id\":\"6530e1e4-cc5a-4737-858b-9d2aceabc3dc\",\"type\":\"ColumnDataSource\"},{\"attributes\":{},\"id\":\"67681e82-35b2-4d9a-b035-7da7c493084d\",\"type\":\"PanTool\"},{\"attributes\":{\"click_policy\":\"hide\",\"items\":[{\"id\":\"a083f819-3c40-490f-b275-d55fd6f9498b\",\"type\":\"LegendItem\"},{\"id\":\"ec1af1de-8041-47ff-bd92-5dcb6d46e9db\",\"type\":\"LegendItem\"},{\"id\":\"04819bbf-dc28-46c8-8395-9bcd622d8c80\",\"type\":\"LegendItem\"},{\"id\":\"e82f5dd8-3624-4b81-8b17-496a04c21735\",\"type\":\"LegendItem\"},{\"id\":\"93c1ed66-a332-4ec2-b9ac-a40d669b36d7\",\"type\":\"LegendItem\"},{\"id\":\"04cb67c2-fcc2-4af8-a7f1-1781e7e97dc0\",\"type\":\"LegendItem\"},{\"id\":\"162b9c63-6cdc-4919-9d8b-8435227be64b\",\"type\":\"LegendItem\"},{\"id\":\"d4bde34b-78e5-4207-b731-6eaf639f987c\",\"type\":\"LegendItem\"},{\"id\":\"24c793d4-11a1-4fe1-9f00-8fdeccc06ff7\",\"type\":\"LegendItem\"},{\"id\":\"4bd5337f-19d5-4573-b54b-233d3f7f563c\",\"type\":\"LegendItem\"},{\"id\":\"3b0ccb93-5df3-4c6a-8a3b-a73c1fed54db\",\"type\":\"LegendItem\"},{\"id\":\"6a880b22-ad18-4f65-bf10-9334a1700e6c\",\"type\":\"LegendItem\"},{\"id\":\"571c8682-8cb1-4df0-9f8d-e1a5049282ba\",\"type\":\"LegendItem\"},{\"id\":\"f960c526-864f-41b3-92ff-f898f0fa77e1\",\"type\":\"LegendItem\"},{\"id\":\"12b14311-7662-4f8e-a566-87279c3ba3d5\",\"type\":\"LegendItem\"},{\"id\":\"9cab5598-f846-415c-b8d6-7e6c1ebe5064\",\"type\":\"LegendItem\"},{\"id\":\"e3a13fbb-4721-4eea-9ce4-5d6c5187662b\",\"type\":\"LegendItem\"},{\"id\":\"5eb60e77-16ad-4586-b3c4-5f40357660ef\",\"type\":\"LegendItem\"},{\"id\":\"cddacc8f-3859-49d9-ab45-f95162a6108f\",\"type\":\"LegendItem\"},{\"id\":\"f56cb711-427c-4999-a391-eeab481a6f3c\",\"type\":\"LegendItem\"}],\"location\":[30,50],\"plot\":{\"id\":\"0c442e89-95f0-45bb-9978-cde3b2988620\",\"subtype\":\"Figure\",\"type\":\"Plot\"}},\"id\":\"8308d4bf-15b8-45bf-8889-bcd88dfcfe46\",\"type\":\"Legend\"},{\"attributes\":{\"callback\":null,\"data\":{\"index\":[1533,1534,1535,1536,1537,1538,1539,1540,1541,1542,1543,1544,1545,1546,1547,1548,1549,1550,1551,1552,1553,1554,1555,1556,1557,1558,1559,1560,1561,1562,1563,1564,1565,1566,1567,1568,1569,1570,1571,1572,1573,1574,1575,1576,1577,1578,1579,1580,1581,1582,1583],\"kasios_index\":{\"__ndarray__\":\"AAAAAAAA+H8AAAAAAAD4fwAAAAAAAPh/AAAAAAAA+H8AAAAAAAD4fwAAAAAAAPh/AAAAAAAA+H8AAAAAAAD4fwAAAAAAAPh/AAAAAAAA+H8AAAAAAAD4fwAAAAAAAPh/AAAAAAAA+H8AAAAAAAD4fwAAAAAAAPh/AAAAAAAA+H8AAAAAAAD4fwAAAAAAAPh/AAAAAAAA+H8AAAAAAAD4fwAAAAAAAPh/AAAAAAAA+H8AAAAAAAD4fwAAAAAAAPh/AAAAAAAA+H8AAAAAAAD4fwAAAAAAAPh/AAAAAAAA+H8AAAAAAAD4fwAAAAAAAPh/AAAAAAAA+H8AAAAAAAD4fwAAAAAAAPh/AAAAAAAA+H8AAAAAAAD4fwAAAAAAAPh/AAAAAAAA+H8AAAAAAAD4fwAAAAAAAPh/AAAAAAAA+H8AAAAAAAD4fwAAAAAAAPh/AAAAAAAA+H8AAAAAAAD4fwAAAAAAAPh/AAAAAAAA+H8AAAAAAAD4fwAAAAAAAPh/AAAAAAAA+H8AAAAAAAD4fwAAAAAAAPh/\",\"dtype\":\"float64\",\"shape\":[51]},\"specie\":[\"Qax\",\"Qax\",\"Qax\",\"Qax\",\"Qax\",\"Qax\",\"Qax\",\"Qax\",\"Qax\",\"Qax\",\"Qax\",\"Qax\",\"Qax\",\"Qax\",\"Qax\",\"Qax\",\"Qax\",\"Qax\",\"Qax\",\"Qax\",\"Qax\",\"Qax\",\"Qax\",\"Qax\",\"Qax\",\"Qax\",\"Qax\",\"Qax\",\"Qax\",\"Qax\",\"Qax\",\"Qax\",\"Qax\",\"Qax\",\"Qax\",\"Qax\",\"Qax\",\"Qax\",\"Qax\",\"Qax\",\"Qax\",\"Qax\",\"Qax\",\"Qax\",\"Qax\",\"Qax\",\"Qax\",\"Qax\",\"Qax\",\"Qax\",\"Qax\"],\"x\":{\"__ndarray__\":\"UyBDQT4tKUFll1NBQC4iQQePQkHyPD9B0yRPQatqIkH+mS1BmI9SQdPdJEGR8SRBNvNbQWxNR0Gx2TRByTtRQU9vMEENVDhBdWAnQd8TL0ECAEVBMTNOQW5sMEFaED9BF0skQQ4bVUHOHk5BglFAQUslQ0G53ydBJQEgQQdJPEG56ChB5tVSQfR6V0EnjThBtktEQV0eJEG5xGBBcyxhQbEoPkHCyEdBBE1PQVilNEF24FZBbddLQeIoU0FoLUxBecVTQeRQdEEF0JlB\",\"dtype\":\"float32\",\"shape\":[51]},\"y\":{\"__ndarray__\":\"WEOVQezrbUHG45BByIZ2QVsJkkHCfoZBy+KNQQ5FfUGqPo1BunuSQXHofEFcsYFB922FQfFJgkEzzZBB1IGIQUtgjkFabIVBWSh5QbEVd0FlapBBUy6NQeZ7k0FkHYVBzjCFQeeijUFuC5hBn5VrQdMpl0EbyodBfkGIQZRWdUG4oHBBLO2RQW59kUGMA4ZBqYhzQc6hhEGJC5NBrRaKQcHck0HBaY9BJu2XQdjYj0FnZZBBuVOIQSPNiEF1J1pBMiaUQQ9RVkFOmIdB\",\"dtype\":\"float32\",\"shape\":[51]}},\"selected\":{\"id\":\"a8df3063-5042-43d4-a0ce-dfdd3bd23bff\",\"type\":\"Selection\"},\"selection_policy\":{\"id\":\"487d4433-d184-420b-b32f-155b2720948a\",\"type\":\"UnionRenderers\"}},\"id\":\"1553022e-696e-4e7f-ab9c-1e1c7bfb3cd4\",\"type\":\"ColumnDataSource\"},{\"attributes\":{\"fill_alpha\":{\"value\":0.6},\"fill_color\":{\"field\":\"specie\",\"transform\":{\"id\":\"57b3006a-fb74-499d-b328-2f993b3973b8\",\"type\":\"CategoricalColorMapper\"}},\"line_alpha\":{\"value\":0.6},\"line_color\":{\"field\":\"specie\",\"transform\":{\"id\":\"57b3006a-fb74-499d-b328-2f993b3973b8\",\"type\":\"CategoricalColorMapper\"}},\"size\":{\"units\":\"screen\",\"value\":5},\"x\":{\"field\":\"x\"},\"y\":{\"field\":\"y\"}},\"id\":\"bfbd699f-6b0e-468f-939b-fb22f9c14685\",\"type\":\"Circle\"},{\"attributes\":{\"fill_alpha\":{\"value\":0.1},\"fill_color\":{\"value\":\"#1f77b4\"},\"line_alpha\":{\"value\":0.1},\"line_color\":{\"value\":\"#1f77b4\"},\"size\":{\"units\":\"screen\",\"value\":5},\"x\":{\"field\":\"x\"},\"y\":{\"field\":\"y\"}},\"id\":\"748d6920-29e3-444e-8d5a-00e5fc8c7afc\",\"type\":\"Circle\"},{\"attributes\":{},\"id\":\"b0a88f81-0101-4a95-8302-881ebe08dde4\",\"type\":\"LinearScale\"},{\"attributes\":{\"fill_alpha\":{\"value\":0.6},\"fill_color\":{\"field\":\"specie\",\"transform\":{\"id\":\"57b3006a-fb74-499d-b328-2f993b3973b8\",\"type\":\"CategoricalColorMapper\"}},\"line_alpha\":{\"value\":0.6},\"line_color\":{\"field\":\"specie\",\"transform\":{\"id\":\"57b3006a-fb74-499d-b328-2f993b3973b8\",\"type\":\"CategoricalColorMapper\"}},\"size\":{\"units\":\"screen\",\"value\":5},\"x\":{\"field\":\"x\"},\"y\":{\"field\":\"y\"}},\"id\":\"d50f7906-0be2-4f11-95f6-00c59eaa1eb0\",\"type\":\"Circle\"},{\"attributes\":{},\"id\":\"9482616d-215b-4154-9422-889d33cdf3f1\",\"type\":\"LinearScale\"},{\"attributes\":{\"fill_alpha\":{\"value\":0.6},\"fill_color\":{\"field\":\"specie\",\"transform\":{\"id\":\"57b3006a-fb74-499d-b328-2f993b3973b8\",\"type\":\"CategoricalColorMapper\"}},\"line_alpha\":{\"value\":0.6},\"line_color\":{\"field\":\"specie\",\"transform\":{\"id\":\"57b3006a-fb74-499d-b328-2f993b3973b8\",\"type\":\"CategoricalColorMapper\"}},\"size\":{\"units\":\"screen\",\"value\":5},\"x\":{\"field\":\"x\"},\"y\":{\"field\":\"y\"}},\"id\":\"619686f7-d64d-4a67-9dcb-4a3ec6863b74\",\"type\":\"Circle\"},{\"attributes\":{\"callback\":null},\"id\":\"cf866e32-b833-4144-9b7b-99290283a9b1\",\"type\":\"DataRange1d\"},{\"attributes\":{\"fill_alpha\":{\"value\":0.6},\"fill_color\":{\"field\":\"specie\",\"transform\":{\"id\":\"57b3006a-fb74-499d-b328-2f993b3973b8\",\"type\":\"CategoricalColorMapper\"}},\"line_alpha\":{\"value\":0.6},\"line_color\":{\"field\":\"specie\",\"transform\":{\"id\":\"57b3006a-fb74-499d-b328-2f993b3973b8\",\"type\":\"CategoricalColorMapper\"}},\"size\":{\"units\":\"screen\",\"value\":5},\"x\":{\"field\":\"x\"},\"y\":{\"field\":\"y\"}},\"id\":\"81d49c6f-ba99-474d-8141-a4cae948fe80\",\"type\":\"Circle\"},{\"attributes\":{\"plot\":null,\"text\":\"UMAP projection of the birds songs\"},\"id\":\"04291ed2-a094-4c71-8a1d-e92fefd7672f\",\"type\":\"Title\"},{\"attributes\":{\"fill_alpha\":{\"value\":0.1},\"fill_color\":{\"value\":\"#1f77b4\"},\"line_alpha\":{\"value\":0.1},\"line_color\":{\"value\":\"#1f77b4\"},\"size\":{\"units\":\"screen\",\"value\":5},\"x\":{\"field\":\"x\"},\"y\":{\"field\":\"y\"}},\"id\":\"c64b74c4-cc44-4ebd-b5b8-af297a16ebc4\",\"type\":\"Circle\"},{\"attributes\":{\"data_source\":{\"id\":\"813e3f2a-c1f7-46d8-a9d0-596ee5a2f6c9\",\"type\":\"ColumnDataSource\"},\"glyph\":{\"id\":\"cee59e8f-437c-4140-9987-9216f55c6d11\",\"type\":\"Circle\"},\"hover_glyph\":null,\"muted_glyph\":null,\"nonselection_glyph\":{\"id\":\"a5e22ac0-cf10-4757-b9fd-8aebee24a5ee\",\"type\":\"Circle\"},\"selection_glyph\":null,\"view\":{\"id\":\"b9e1a273-d473-4997-b65b-d4a5fb514f32\",\"type\":\"CDSView\"}},\"id\":\"7a348bf9-b0aa-40fd-b4aa-0f099563e221\",\"type\":\"GlyphRenderer\"},{\"attributes\":{\"fill_alpha\":{\"value\":0.6},\"fill_color\":{\"field\":\"specie\",\"transform\":{\"id\":\"57b3006a-fb74-499d-b328-2f993b3973b8\",\"type\":\"CategoricalColorMapper\"}},\"line_alpha\":{\"value\":0.6},\"line_color\":{\"field\":\"specie\",\"transform\":{\"id\":\"57b3006a-fb74-499d-b328-2f993b3973b8\",\"type\":\"CategoricalColorMapper\"}},\"size\":{\"units\":\"screen\",\"value\":5},\"x\":{\"field\":\"x\"},\"y\":{\"field\":\"y\"}},\"id\":\"2e1519cb-6cca-4a68-9645-e0eaceea9f4e\",\"type\":\"Circle\"},{\"attributes\":{},\"id\":\"d7f2aaac-fd60-4f42-b67b-f34b42ea62d7\",\"type\":\"UnionRenderers\"},{\"attributes\":{\"callback\":null,\"data\":{\"index\":[1080,1081,1082,1083,1084,1085,1086,1087,1088,1089,1090,1091,1092,1093,1094,1095,1096,1097,1098,1099,1100,1101,1102,1103,1104,1105,1106,1107,1108,1109,1110,1111,1112,1113,1114,1115,1116,1117,1118,1119,1120,1121,1122,1123,1124,1125,1126,1127,1128,1129,1130,1131,1132,1133,1134,1135,1136,1137,1138,1139,1140,1141,1142,1143,1144,1145,1146,1147,1148,1149,1150,1151,1152,1153,1154,1155,1156,1157,1158,1159,1160,1161,1162,1163,1164,1165,1166,1167,1168,1169,1170,1171,1172,1173,1174,1175,1176,1177,1178,1179,1180,1181,1182,1183,1184,1185,1186,1187,1188,1189,1190,1191,1192,1193,1194,1195,1196,1197,1198,1199,1200,1201,1202,1203,1204,1205,1206,1207,1208,1209,1210,1211,1212,1213,1214,1215,1216,1217,1218,1219,1220,1221,1222,1223,1224,1225,1226,1227,1228,1229,1230,1231,1232,1233,1234,1235,1236,1237,1238,1239,1240,1241,1242,1243,1244,1245,1246,1247,1248,1249,1250,1251,1252,1253,1254,1255,1256,1257,1258,1259,1260,1261,1262,1263,1264,1265,1266,1267,1268,1269,1270,1271,1272,1273,1274,1275,1276,1277,1278,1279,1280,1281,1282,1283,1284,1285,1286,1287,1288,1289,1290,1291,1292,1293,1294],\"kasios_index\":{\"__ndarray__\":\"AAAAAAAA+H8AAAAAAAD4fwAAAAAAAPh/AAAAAAAA+H8AAAAAAAD4fwAAAAAAAPh/AAAAAAAA+H8AAAAAAAD4fwAAAAAAAPh/AAAAAAAA+H8AAAAAAAD4fwAAAAAAAPh/AAAAAAAA+H8AAAAAAAD4fwAAAAAAAPh/AAAAAAAA+H8AAAAAAAD4fwAAAAAAAPh/AAAAAAAA+H8AAAAAAAD4fwAAAAAAAPh/AAAAAAAA+H8AAAAAAAD4fwAAAAAAAPh/AAAAAAAA+H8AAAAAAAD4fwAAAAAAAPh/AAAAAAAA+H8AAAAAAAD4fwAAAAAAAPh/AAAAAAAA+H8AAAAAAAD4fwAAAAAAAPh/AAAAAAAA+H8AAAAAAAD4fwAAAAAAAPh/AAAAAAAA+H8AAAAAAAD4fwAAAAAAAPh/AAAAAAAA+H8AAAAAAAD4fwAAAAAAAPh/AAAAAAAA+H8AAAAAAAD4fwAAAAAAAPh/AAAAAAAA+H8AAAAAAAD4fwAAAAAAAPh/AAAAAAAA+H8AAAAAAAD4fwAAAAAAAPh/AAAAAAAA+H8AAAAAAAD4fwAAAAAAAPh/AAAAAAAA+H8AAAAAAAD4fwAAAAAAAPh/AAAAAAAA+H8AAAAAAAD4fwAAAAAAAPh/AAAAAAAA+H8AAAAAAAD4fwAAAAAAAPh/AAAAAAAA+H8AAAAAAAD4fwAAAAAAAPh/AAAAAAAA+H8AAAAAAAD4fwAAAAAAAPh/AAAAAAAA+H8AAAAAAAD4fwAAAAAAAPh/AAAAAAAA+H8AAAAAAAD4fwAAAAAAAPh/AAAAAAAA+H8AAAAAAAD4fwAAAAAAAPh/AAAAAAAA+H8AAAAAAAD4fwAAAAAAAPh/AAAAAAAA+H8AAAAAAAD4fwAAAAAAAPh/AAAAAAAA+H8AAAAAAAD4fwAAAAAAAPh/AAAAAAAA+H8AAAAAAAD4fwAAAAAAAPh/AAAAAAAA+H8AAAAAAAD4fwAAAAAAAPh/AAAAAAAA+H8AAAAAAAD4fwAAAAAAAPh/AAAAAAAA+H8AAAAAAAD4fwAAAAAAAPh/AAAAAAAA+H8AAAAAAAD4fwAAAAAAAPh/AAAAAAAA+H8AAAAAAAD4fwAAAAAAAPh/AAAAAAAA+H8AAAAAAAD4fwAAAAAAAPh/AAAAAAAA+H8AAAAAAAD4fwAAAAAAAPh/AAAAAAAA+H8AAAAAAAD4fwAAAAAAAPh/AAAAAAAA+H8AAAAAAAD4fwAAAAAAAPh/AAAAAAAA+H8AAAAAAAD4fwAAAAAAAPh/AAAAAAAA+H8AAAAAAAD4fwAAAAAAAPh/AAAAAAAA+H8AAAAAAAD4fwAAAAAAAPh/AAAAAAAA+H8AAAAAAAD4fwAAAAAAAPh/AAAAAAAA+H8AAAAAAAD4fwAAAAAAAPh/AAAAAAAA+H8AAAAAAAD4fwAAAAAAAPh/AAAAAAAA+H8AAAAAAAD4fwAAAAAAAPh/AAAAAAAA+H8AAAAAAAD4fwAAAAAAAPh/AAAAAAAA+H8AAAAAAAD4fwAAAAAAAPh/AAAAAAAA+H8AAAAAAAD4fwAAAAAAAPh/AAAAAAAA+H8AAAAAAAD4fwAAAAAAAPh/AAAAAAAA+H8AAAAAAAD4fwAAAAAAAPh/AAAAAAAA+H8AAAAAAAD4fwAAAAAAAPh/AAAAAAAA+H8AAAAAAAD4fwAAAAAAAPh/AAAAAAAA+H8AAAAAAAD4fwAAAAAAAPh/AAAAAAAA+H8AAAAAAAD4fwAAAAAAAPh/AAAAAAAA+H8AAAAAAAD4fwAAAAAAAPh/AAAAAAAA+H8AAAAAAAD4fwAAAAAAAPh/AAAAAAAA+H8AAAAAAAD4fwAAAAAAAPh/AAAAAAAA+H8AAAAAAAD4fwAAAAAAAPh/AAAAAAAA+H8AAAAAAAD4fwAAAAAAAPh/AAAAAAAA+H8AAAAAAAD4fwAAAAAAAPh/AAAAAAAA+H8AAAAAAAD4fwAAAAAAAPh/AAAAAAAA+H8AAAAAAAD4fwAAAAAAAPh/AAAAAAAA+H8AAAAAAAD4fwAAAAAAAPh/AAAAAAAA+H8AAAAAAAD4fwAAAAAAAPh/AAAAAAAA+H8AAAAAAAD4fwAAAAAAAPh/AAAAAAAA+H8AAAAAAAD4fwAAAAAAAPh/AAAAAAAA+H8AAAAAAAD4fwAAAAAAAPh/AAAAAAAA+H8AAAAAAAD4fwAAAAAAAPh/AAAAAAAA+H8AAAAAAAD4fwAAAAAAAPh/AAAAAAAA+H8AAAAAAAD4fwAAAAAAAPh/AAAAAAAA+H8AAAAAAAD4fw==\",\"dtype\":\"float64\",\"shape\":[215]},\"specie\":[\"Orange Pine Plover\",\"Orange Pine Plover\",\"Orange Pine Plover\",\"Orange Pine Plover\",\"Orange Pine Plover\",\"Orange Pine Plover\",\"Orange Pine Plover\",\"Orange Pine Plover\",\"Orange Pine Plover\",\"Orange Pine Plover\",\"Orange Pine Plover\",\"Orange Pine Plover\",\"Orange Pine Plover\",\"Orange Pine Plover\",\"Orange Pine Plover\",\"Orange Pine Plover\",\"Orange Pine Plover\",\"Orange Pine Plover\",\"Orange Pine Plover\",\"Orange Pine Plover\",\"Orange Pine Plover\",\"Orange Pine Plover\",\"Orange Pine Plover\",\"Orange Pine Plover\",\"Orange Pine Plover\",\"Orange Pine Plover\",\"Orange Pine Plover\",\"Orange Pine Plover\",\"Orange Pine Plover\",\"Orange Pine Plover\",\"Orange Pine Plover\",\"Orange Pine Plover\",\"Orange Pine Plover\",\"Orange Pine Plover\",\"Orange Pine Plover\",\"Orange Pine Plover\",\"Orange Pine Plover\",\"Orange Pine Plover\",\"Orange Pine Plover\",\"Orange Pine Plover\",\"Orange Pine Plover\",\"Orange Pine Plover\",\"Orange Pine Plover\",\"Orange Pine Plover\",\"Orange Pine Plover\",\"Orange Pine Plover\",\"Orange Pine Plover\",\"Orange Pine Plover\",\"Orange Pine Plover\",\"Orange Pine Plover\",\"Orange Pine Plover\",\"Orange Pine Plover\",\"Orange Pine Plover\",\"Orange Pine Plover\",\"Orange Pine Plover\",\"Orange Pine Plover\",\"Orange Pine Plover\",\"Orange Pine Plover\",\"Orange Pine Plover\",\"Orange Pine Plover\",\"Orange Pine Plover\",\"Orange Pine Plover\",\"Orange Pine Plover\",\"Orange Pine Plover\",\"Orange Pine Plover\",\"Orange Pine Plover\",\"Orange Pine Plover\",\"Orange Pine Plover\",\"Orange Pine Plover\",\"Orange Pine Plover\",\"Orange Pine Plover\",\"Orange Pine Plover\",\"Orange Pine Plover\",\"Orange Pine Plover\",\"Orange Pine Plover\",\"Orange Pine Plover\",\"Orange Pine Plover\",\"Orange Pine Plover\",\"Orange Pine Plover\",\"Orange Pine Plover\",\"Orange Pine Plover\",\"Orange Pine Plover\",\"Orange Pine Plover\",\"Orange Pine Plover\",\"Orange Pine Plover\",\"Orange Pine Plover\",\"Orange Pine Plover\",\"Orange Pine Plover\",\"Orange Pine Plover\",\"Orange Pine Plover\",\"Orange Pine Plover\",\"Orange Pine Plover\",\"Orange Pine Plover\",\"Orange Pine Plover\",\"Orange Pine Plover\",\"Orange Pine Plover\",\"Orange Pine Plover\",\"Orange Pine Plover\",\"Orange Pine Plover\",\"Orange Pine Plover\",\"Orange Pine Plover\",\"Orange Pine Plover\",\"Orange Pine Plover\",\"Orange Pine Plover\",\"Orange Pine Plover\",\"Orange Pine Plover\",\"Orange Pine Plover\",\"Orange Pine Plover\",\"Orange Pine Plover\",\"Orange Pine Plover\",\"Orange Pine Plover\",\"Orange Pine Plover\",\"Orange Pine Plover\",\"Orange Pine Plover\",\"Orange Pine Plover\",\"Orange Pine Plover\",\"Orange Pine Plover\",\"Orange Pine Plover\",\"Orange Pine Plover\",\"Orange Pine Plover\",\"Orange Pine Plover\",\"Orange Pine Plover\",\"Orange Pine Plover\",\"Orange Pine Plover\",\"Orange Pine Plover\",\"Orange Pine Plover\",\"Orange Pine Plover\",\"Orange Pine Plover\",\"Orange Pine Plover\",\"Orange Pine Plover\",\"Orange Pine Plover\",\"Orange Pine Plover\",\"Orange Pine Plover\",\"Orange Pine Plover\",\"Orange Pine Plover\",\"Orange Pine Plover\",\"Orange Pine Plover\",\"Orange Pine Plover\",\"Orange Pine Plover\",\"Orange Pine Plover\",\"Orange Pine Plover\",\"Orange Pine Plover\",\"Orange Pine Plover\",\"Orange Pine Plover\",\"Orange Pine Plover\",\"Orange Pine Plover\",\"Orange Pine Plover\",\"Orange Pine Plover\",\"Orange Pine Plover\",\"Orange Pine Plover\",\"Orange Pine Plover\",\"Orange Pine Plover\",\"Orange Pine Plover\",\"Orange Pine Plover\",\"Orange Pine Plover\",\"Orange Pine Plover\",\"Orange Pine Plover\",\"Orange Pine Plover\",\"Orange Pine Plover\",\"Orange Pine Plover\",\"Orange Pine Plover\",\"Orange Pine Plover\",\"Orange Pine Plover\",\"Orange Pine Plover\",\"Orange Pine Plover\",\"Orange Pine Plover\",\"Orange Pine Plover\",\"Orange Pine Plover\",\"Orange Pine Plover\",\"Orange Pine Plover\",\"Orange Pine Plover\",\"Orange Pine Plover\",\"Orange Pine Plover\",\"Orange Pine Plover\",\"Orange Pine Plover\",\"Orange Pine Plover\",\"Orange Pine Plover\",\"Orange Pine Plover\",\"Orange Pine Plover\",\"Orange Pine Plover\",\"Orange Pine Plover\",\"Orange Pine Plover\",\"Orange Pine Plover\",\"Orange Pine Plover\",\"Orange Pine Plover\",\"Orange Pine Plover\",\"Orange Pine Plover\",\"Orange Pine Plover\",\"Orange Pine Plover\",\"Orange Pine Plover\",\"Orange Pine Plover\",\"Orange Pine Plover\",\"Orange Pine Plover\",\"Orange Pine Plover\",\"Orange Pine Plover\",\"Orange Pine Plover\",\"Orange Pine Plover\",\"Orange Pine Plover\",\"Orange Pine Plover\",\"Orange Pine Plover\",\"Orange Pine Plover\",\"Orange Pine Plover\",\"Orange Pine Plover\",\"Orange Pine Plover\",\"Orange Pine Plover\",\"Orange Pine Plover\",\"Orange Pine Plover\",\"Orange Pine Plover\",\"Orange Pine Plover\",\"Orange Pine Plover\",\"Orange Pine Plover\",\"Orange Pine Plover\",\"Orange Pine Plover\",\"Orange Pine Plover\",\"Orange Pine Plover\"],\"x\":{\"__ndarray__\":\"hyo5Qb6UKEFydCxBgG0yQe4aOUHCVVBBB1yWQT6+U0GkqD5BMTcvQeTPH0E+q0hB0OUlQTo3OEHJyVxBUFhGQYOBMEHFB5xB9h0qQQLyMUFwnU9B77NIQWYpLUHMKzxBqx80QQN4SkGMeTxBePo8QVI0MkGQri9Bd+w+QbwDmkG/vjFBvFRvQTMbLUEdWC1B1vEkQT88pkG61bFB0ns7QYdbh0FpSDxBSLwtQcKTMUE2VjhBogw2QUdwM0EJSydB3kUuQSU4REGqoTlBvf5+QVaDQEHgMyxBI8oyQV0dLEG3vkdBR+8nQZevRkEg1kxBM1NuQYaxNEGB1ztBoShbQZ8VOEF6OylBILc0QVGGLEFm+jlBPOQmQQxXQ0HSVS1Bqm4yQTDzMUEp/DRBJm47Qc+cNEHLJzBBmGxFQbYzNUGrckhBIzNIQUmWTEGgwUdBvj4/QUJIP0H89TZBoGlQQbDNR0EuE0ZBVZM1QSD1NkHNBC5B5+FjQQWvL0FSCUFBGxiWQUc3QUEIsUFB99xFQTbeQ0GNG2FBBbNhQZm1RkEVL5xBXEovQc7vMEGpPDFBGeWeQeq1TkHee1ZBrf07QZi4H0Ezah9BmpIsQRssK0FeJS5BrGpFQa5WrUErIJxBC78sQWOTMkEfnZpBs3cwQW9wn0F/FV5ByoNFQYYuR0GREU9BWqo+QUqjPEEHtjBBR5YwQYGWVEExy0hBrkyIQQ6rSEHV2K5BYlFWQXpXVkEgnEVBG6QzQcYLL0HKpiZBZO01QYWzLUEq40FBSD9OQXkJM0Hrv0pBRrsuQW2AMUFs5kpBY0wtQWETL0EToiRBpNZGQQgaQkF/NUtBH2kuQbtrKUG65VFB4mqEQdixXEEcxqdBWwAvQXeBQkHN20xBNcRBQZ6fOkGy2iRBqNM7QZzzMUG5ASVBo/wsQRr5JkGYVTZBj+BgQXzTMEF9wzNBqdE7QQcRLkG9h0FBmKgpQUW4mUG6VSpBcSwvQYdURUE2DR1BYlIyQe3aR0Gwf0RBeZFiQWeuoUFadTNBh/szQQZgI0H/iihB7sg8QSbSL0FiUR9BNxs/QdijpUGPXz9BDKxKQc7zXUGZkkNBcSdLQfsrREHdQ19BPy0jQfzlQkFOW6tBZn5TQZBLMUE=\",\"dtype\":\"float32\",\"shape\":[215]},\"y\":{\"__ndarray__\":\"Jq90QU47gkHrUYxBv62RQZP/gEFY8o5BQip0Qa7vi0GpY15B8rmJQYXxiEEyq5RB98qEQYZ2kkEGJodBkWqKQXj0ZUHBCIVB6HllQas9kkF22IxBw4SUQUayj0EhiolBZK6VQa/+WkHn6YFB/q5QQaKtjUFSM49BBjeBQX5eh0H6SHJBXvM6QUIpf0EI8XxBG1qFQSc9h0EtwIVBVfOJQYiGVUGAP4BBfiWSQZ3cYkEpZItBkYiNQS3tlkHz14NBDt+FQYlxkkFUXm1BpJczQfzyiEFt5XxBOO2WQa+XcEG0/YVBkY6FQYFLhkE0uF5BduVIQVxakkEFM4pBmkGQQXjDc0GiqmpB25OIQQEsYUE434JBfT6GQUEzj0GHf49BEuOVQZC8gUHtuIVBjxWJQfQ9lkFr0o5BdE+LQSu5lUGwG4RBqB+KQfGAgEEnUoFBvPF5QXt1ekGCW5BBvO1IQcvSiEHCTIxBg5NyQZIUhUGECY9Byu2PQT1eiUFmclJBhfJkQVuUjEGirYxBBYuPQeQkh0FwDY5BbReRQfw4f0F8K4ZBdpVxQXvQlEEw/JRBuNKKQQeJg0HFH4JBxuyBQStviEGg+4dBhy2PQZaiikGTdo9BA2OSQYSre0EaLoVBhmyPQY3SlkFwH4VB5EiRQYISiUEUqIVB/gCLQUD1g0F5iW1BzOV5QbVCiUEVFJRBJ/SJQXhPkUHaQ4VBVINIQQvwfUG8yYdBb1mSQZVwkkHCG5RBVuWWQSX3iUExs4hBEH+WQbycfkEbiYhBkyeTQYhQlkF0EZFBKTJjQfw3dEEvEpRB9rR9QXizjkF4XYVBLahcQXiDiUEQLoFBFy58QbBXb0HXvYtBGDlKQVIGTEHpbYZBoJOPQYdpWkHeWoxBA2WJQSTKiUEmJIZBvQZ5QTclhUFrGYVBg22GQXIHg0FMOYBBbvmMQfpOj0E8w5ZBnBZ8QZnpjUFX7npBJTKAQX08i0HHKoJBqUl4QdLChUGN0GdBkSuLQcBeVEHVjI9BhTCSQYrFiEFW5ZZB+kCWQSW0hEEmqYNBHLaBQWiRiUEeX21BT/hPQQuVi0FkeYNB8T2JQTB7i0HKK4xBHIyTQdh2j0G+R45BgMiGQSbrkUFSOnpBwGA5QbJdkkE=\",\"dtype\":\"float32\",\"shape\":[215]}},\"selected\":{\"id\":\"e54d198e-35de-49b3-9e04-93a231314ffd\",\"type\":\"Selection\"},\"selection_policy\":{\"id\":\"2a5f14f8-e2e2-4630-b0bb-8658312530f8\",\"type\":\"UnionRenderers\"}},\"id\":\"c858f7d7-3687-4893-9ac7-0cef478a4a7c\",\"type\":\"ColumnDataSource\"},{\"attributes\":{\"fill_alpha\":{\"value\":0.1},\"fill_color\":{\"value\":\"#1f77b4\"},\"line_alpha\":{\"value\":0.1},\"line_color\":{\"value\":\"#1f77b4\"},\"size\":{\"units\":\"screen\",\"value\":5},\"x\":{\"field\":\"x\"},\"y\":{\"field\":\"y\"}},\"id\":\"3c7e255a-e3a7-4934-8cae-76d66a2037a2\",\"type\":\"Circle\"},{\"attributes\":{\"source\":{\"id\":\"5e620be9-0f8b-4451-bdea-ec0e19e29ff7\",\"type\":\"ColumnDataSource\"}},\"id\":\"b79d3302-ff86-4ee8-956a-29ec2ac91a44\",\"type\":\"CDSView\"},{\"attributes\":{\"data_source\":{\"id\":\"4e018ed8-4d2e-4516-b08f-42b5250032ed\",\"type\":\"ColumnDataSource\"},\"glyph\":{\"id\":\"c774e443-ca0f-48e5-94ba-49322b98315a\",\"type\":\"Circle\"},\"hover_glyph\":null,\"muted_glyph\":null,\"nonselection_glyph\":{\"id\":\"3c7e255a-e3a7-4934-8cae-76d66a2037a2\",\"type\":\"Circle\"},\"selection_glyph\":null,\"view\":{\"id\":\"c2b57882-cd11-4d1d-8586-5f29ac8ab467\",\"type\":\"CDSView\"}},\"id\":\"45258a99-31a0-4812-82c5-ce019c590349\",\"type\":\"GlyphRenderer\"},{\"attributes\":{\"data_source\":{\"id\":\"5e620be9-0f8b-4451-bdea-ec0e19e29ff7\",\"type\":\"ColumnDataSource\"},\"glyph\":{\"id\":\"81d49c6f-ba99-474d-8141-a4cae948fe80\",\"type\":\"Circle\"},\"hover_glyph\":null,\"muted_glyph\":null,\"nonselection_glyph\":{\"id\":\"34385838-ffef-49a5-8802-1bfd2a96f1ea\",\"type\":\"Circle\"},\"selection_glyph\":null,\"view\":{\"id\":\"b79d3302-ff86-4ee8-956a-29ec2ac91a44\",\"type\":\"CDSView\"}},\"id\":\"072e435b-d1f2-4980-befd-12b1c5368ffc\",\"type\":\"GlyphRenderer\"},{\"attributes\":{\"source\":{\"id\":\"296e65c9-0c73-4ad2-b7da-7f3993fba47d\",\"type\":\"ColumnDataSource\"}},\"id\":\"b4ac1d8f-6eba-47c4-956f-f1c523643e3b\",\"type\":\"CDSView\"},{\"attributes\":{\"fill_alpha\":{\"value\":0.1},\"fill_color\":{\"value\":\"#1f77b4\"},\"line_alpha\":{\"value\":0.1},\"line_color\":{\"value\":\"#1f77b4\"},\"size\":{\"units\":\"screen\",\"value\":5},\"x\":{\"field\":\"x\"},\"y\":{\"field\":\"y\"}},\"id\":\"a5e22ac0-cf10-4757-b9fd-8aebee24a5ee\",\"type\":\"Circle\"},{\"attributes\":{\"callback\":null,\"data\":{\"index\":[483,484,485,486,487,488,489,490,491,492,493,494,495,496,497,498,499,500,501,502,503,504,505,506,507,508,509,510,511,512,513,514,515,516,517,518,519,520,521,522,523,524,525,526,527,528,529,530,531,532,533,534,535,536,537,538,539,540,541,542,543,544,545,546,547,548,549,550,551,552,553,554,555,556,557,558,559,560,561,562,563,564],\"kasios_index\":{\"__ndarray__\":\"AAAAAAAA+H8AAAAAAAD4fwAAAAAAAPh/AAAAAAAA+H8AAAAAAAD4fwAAAAAAAPh/AAAAAAAA+H8AAAAAAAD4fwAAAAAAAPh/AAAAAAAA+H8AAAAAAAD4fwAAAAAAAPh/AAAAAAAA+H8AAAAAAAD4fwAAAAAAAPh/AAAAAAAA+H8AAAAAAAD4fwAAAAAAAPh/AAAAAAAA+H8AAAAAAAD4fwAAAAAAAPh/AAAAAAAA+H8AAAAAAAD4fwAAAAAAAPh/AAAAAAAA+H8AAAAAAAD4fwAAAAAAAPh/AAAAAAAA+H8AAAAAAAD4fwAAAAAAAPh/AAAAAAAA+H8AAAAAAAD4fwAAAAAAAPh/AAAAAAAA+H8AAAAAAAD4fwAAAAAAAPh/AAAAAAAA+H8AAAAAAAD4fwAAAAAAAPh/AAAAAAAA+H8AAAAAAAD4fwAAAAAAAPh/AAAAAAAA+H8AAAAAAAD4fwAAAAAAAPh/AAAAAAAA+H8AAAAAAAD4fwAAAAAAAPh/AAAAAAAA+H8AAAAAAAD4fwAAAAAAAPh/AAAAAAAA+H8AAAAAAAD4fwAAAAAAAPh/AAAAAAAA+H8AAAAAAAD4fwAAAAAAAPh/AAAAAAAA+H8AAAAAAAD4fwAAAAAAAPh/AAAAAAAA+H8AAAAAAAD4fwAAAAAAAPh/AAAAAAAA+H8AAAAAAAD4fwAAAAAAAPh/AAAAAAAA+H8AAAAAAAD4fwAAAAAAAPh/AAAAAAAA+H8AAAAAAAD4fwAAAAAAAPh/AAAAAAAA+H8AAAAAAAD4fwAAAAAAAPh/AAAAAAAA+H8AAAAAAAD4fwAAAAAAAPh/AAAAAAAA+H8AAAAAAAD4fwAAAAAAAPh/AAAAAAAA+H8=\",\"dtype\":\"float64\",\"shape\":[82]},\"specie\":[\"Canadian Cootamum\",\"Canadian Cootamum\",\"Canadian Cootamum\",\"Canadian Cootamum\",\"Canadian Cootamum\",\"Canadian Cootamum\",\"Canadian Cootamum\",\"Canadian Cootamum\",\"Canadian Cootamum\",\"Canadian Cootamum\",\"Canadian Cootamum\",\"Canadian Cootamum\",\"Canadian Cootamum\",\"Canadian Cootamum\",\"Canadian Cootamum\",\"Canadian Cootamum\",\"Canadian Cootamum\",\"Canadian Cootamum\",\"Canadian Cootamum\",\"Canadian Cootamum\",\"Canadian Cootamum\",\"Canadian Cootamum\",\"Canadian Cootamum\",\"Canadian Cootamum\",\"Canadian Cootamum\",\"Canadian Cootamum\",\"Canadian Cootamum\",\"Canadian Cootamum\",\"Canadian Cootamum\",\"Canadian Cootamum\",\"Canadian Cootamum\",\"Canadian Cootamum\",\"Canadian Cootamum\",\"Canadian Cootamum\",\"Canadian Cootamum\",\"Canadian Cootamum\",\"Canadian Cootamum\",\"Canadian Cootamum\",\"Canadian Cootamum\",\"Canadian Cootamum\",\"Canadian Cootamum\",\"Canadian Cootamum\",\"Canadian Cootamum\",\"Canadian Cootamum\",\"Canadian Cootamum\",\"Canadian Cootamum\",\"Canadian Cootamum\",\"Canadian Cootamum\",\"Canadian Cootamum\",\"Canadian Cootamum\",\"Canadian Cootamum\",\"Canadian Cootamum\",\"Canadian Cootamum\",\"Canadian Cootamum\",\"Canadian Cootamum\",\"Canadian Cootamum\",\"Canadian Cootamum\",\"Canadian Cootamum\",\"Canadian Cootamum\",\"Canadian Cootamum\",\"Canadian Cootamum\",\"Canadian Cootamum\",\"Canadian Cootamum\",\"Canadian Cootamum\",\"Canadian Cootamum\",\"Canadian Cootamum\",\"Canadian Cootamum\",\"Canadian Cootamum\",\"Canadian Cootamum\",\"Canadian Cootamum\",\"Canadian Cootamum\",\"Canadian Cootamum\",\"Canadian Cootamum\",\"Canadian Cootamum\",\"Canadian Cootamum\",\"Canadian Cootamum\",\"Canadian Cootamum\",\"Canadian Cootamum\",\"Canadian Cootamum\",\"Canadian Cootamum\",\"Canadian Cootamum\",\"Canadian Cootamum\"],\"x\":{\"__ndarray__\":\"6jiFQa6SWEFdZohBkT6cQQdnmEHWCJ1B0wOYQcuppEHqlotBf+qOQYeiiEHLzZVBCZujQQzjjUF4+JxBGICIQWL0m0HIQpFBuoOPQchzqkEMMJRBWhCQQTkqj0GFiJFBgTWlQT/3mUG2y4xBq3+kQTVpqkFuCI9Bw2wrQYaWqkFzsY1BMlyeQTBqG0H4DpVBJ9OPQS5CpkH7JqVBRc6cQWhnmUFewJZBoeR2QVzWpEG7fKNB1dyqQfq+qkEQlkJBDxOPQftDKkGNrqpBbFOZQTEbkEFVFZBB8O+HQVUxjEGtD4JBHsGcQcWdpEEQ/o5Bb4d+Qas5LkFMvGNB29GdQXRXnkFcRotBSdekQQoKlUHGqE5BEwyJQenSUkG68oJBHqWoQRpcY0ENY6VBDthfQXYBQEEYV6pBVPmjQQAPQEHhM5xBWuo+QQ==\",\"dtype\":\"float32\",\"shape\":[82]},\"y\":{\"__ndarray__\":\"IhxKQSgzdEGnNytBjh5kQbMiXUFQ7mJBlOVzQSyTYUHC7kVBDhM2QQq+UkFkClxBrHJiQT/mWkGnCGNBC3Q+QeX7ZUFOI1ZB7qU7QaxrYkEU0U9BuYBCQWEFO0HrOERBjpFfQfPXb0Gdgj9BcfpgQV9eYkGr4ThByjF3Qf+TaEH/hTVBXRFjQW/xaUFh11pBlLtXQU1jaEE3LWNBp6xiQTk+a0EIpF9BsQ5RQZhzYUHu+mFBWXRjQeS1ZEH8KIVBsSRRQfZsiUGQgWVBA+ZpQQ1sOEEiuztB6/NjQfrqRkEFOTtBEsplQcAvYEH+lzRBscZeQXVeh0E2a0lBlPhiQY7RYUGVeGNBcJFgQddyXUHMbV1BNAozQWHyi0G9CzVBA4h5QS8th0HTJYBBWxeUQWJEeUGyemNBSRFgQRaNi0Hx32JBi/s7QQ==\",\"dtype\":\"float32\",\"shape\":[82]}},\"selected\":{\"id\":\"0ecc3260-ae7e-48d8-9648-7993ba265b6d\",\"type\":\"Selection\"},\"selection_policy\":{\"id\":\"b07f43bb-e5ea-44ce-94cc-896324abc0d3\",\"type\":\"UnionRenderers\"}},\"id\":\"732468e4-4602-43ec-b70f-b7dcb6b94a48\",\"type\":\"ColumnDataSource\"},{\"attributes\":{\"callback\":null,\"data\":{\"index\":[1462,1463,1464,1465,1466,1467,1468,1469,1470,1471,1472,1473,1474,1475,1476,1477,1478,1479,1480,1481,1482,1483,1484,1485,1486,1487,1488,1489,1490,1491,1492,1493,1494,1495,1496,1497,1498,1499,1500,1501,1502,1503,1504,1505,1506,1507,1508,1509,1510,1511,1512,1513,1514,1515,1516,1517,1518,1519,1520,1521,1522,1523,1524,1525,1526,1527,1528,1529,1530,1531,1532],\"kasios_index\":{\"__ndarray__\":\"AAAAAAAA+H8AAAAAAAD4fwAAAAAAAPh/AAAAAAAA+H8AAAAAAAD4fwAAAAAAAPh/AAAAAAAA+H8AAAAAAAD4fwAAAAAAAPh/AAAAAAAA+H8AAAAAAAD4fwAAAAAAAPh/AAAAAAAA+H8AAAAAAAD4fwAAAAAAAPh/AAAAAAAA+H8AAAAAAAD4fwAAAAAAAPh/AAAAAAAA+H8AAAAAAAD4fwAAAAAAAPh/AAAAAAAA+H8AAAAAAAD4fwAAAAAAAPh/AAAAAAAA+H8AAAAAAAD4fwAAAAAAAPh/AAAAAAAA+H8AAAAAAAD4fwAAAAAAAPh/AAAAAAAA+H8AAAAAAAD4fwAAAAAAAPh/AAAAAAAA+H8AAAAAAAD4fwAAAAAAAPh/AAAAAAAA+H8AAAAAAAD4fwAAAAAAAPh/AAAAAAAA+H8AAAAAAAD4fwAAAAAAAPh/AAAAAAAA+H8AAAAAAAD4fwAAAAAAAPh/AAAAAAAA+H8AAAAAAAD4fwAAAAAAAPh/AAAAAAAA+H8AAAAAAAD4fwAAAAAAAPh/AAAAAAAA+H8AAAAAAAD4fwAAAAAAAPh/AAAAAAAA+H8AAAAAAAD4fwAAAAAAAPh/AAAAAAAA+H8AAAAAAAD4fwAAAAAAAPh/AAAAAAAA+H8AAAAAAAD4fwAAAAAAAPh/AAAAAAAA+H8AAAAAAAD4fwAAAAAAAPh/AAAAAAAA+H8AAAAAAAD4fwAAAAAAAPh/AAAAAAAA+H8AAAAAAAD4fw==\",\"dtype\":\"float64\",\"shape\":[71]},\"specie\":[\"Purple Tooting Tout\",\"Purple Tooting Tout\",\"Purple Tooting Tout\",\"Purple Tooting Tout\",\"Purple Tooting Tout\",\"Purple Tooting Tout\",\"Purple Tooting Tout\",\"Purple Tooting Tout\",\"Purple Tooting Tout\",\"Purple Tooting Tout\",\"Purple Tooting Tout\",\"Purple Tooting Tout\",\"Purple Tooting Tout\",\"Purple Tooting Tout\",\"Purple Tooting Tout\",\"Purple Tooting Tout\",\"Purple Tooting Tout\",\"Purple Tooting Tout\",\"Purple Tooting Tout\",\"Purple Tooting Tout\",\"Purple Tooting Tout\",\"Purple Tooting Tout\",\"Purple Tooting Tout\",\"Purple Tooting Tout\",\"Purple Tooting Tout\",\"Purple Tooting Tout\",\"Purple Tooting Tout\",\"Purple Tooting Tout\",\"Purple Tooting Tout\",\"Purple Tooting Tout\",\"Purple Tooting Tout\",\"Purple Tooting Tout\",\"Purple Tooting Tout\",\"Purple Tooting Tout\",\"Purple Tooting Tout\",\"Purple Tooting Tout\",\"Purple Tooting Tout\",\"Purple Tooting Tout\",\"Purple Tooting Tout\",\"Purple Tooting Tout\",\"Purple Tooting Tout\",\"Purple Tooting Tout\",\"Purple Tooting Tout\",\"Purple Tooting Tout\",\"Purple Tooting Tout\",\"Purple Tooting Tout\",\"Purple Tooting Tout\",\"Purple Tooting Tout\",\"Purple Tooting Tout\",\"Purple Tooting Tout\",\"Purple Tooting Tout\",\"Purple Tooting Tout\",\"Purple Tooting Tout\",\"Purple Tooting Tout\",\"Purple Tooting Tout\",\"Purple Tooting Tout\",\"Purple Tooting Tout\",\"Purple Tooting Tout\",\"Purple Tooting Tout\",\"Purple Tooting Tout\",\"Purple Tooting Tout\",\"Purple Tooting Tout\",\"Purple Tooting Tout\",\"Purple Tooting Tout\",\"Purple Tooting Tout\",\"Purple Tooting Tout\",\"Purple Tooting Tout\",\"Purple Tooting Tout\",\"Purple Tooting Tout\",\"Purple Tooting Tout\",\"Purple Tooting Tout\"],\"x\":{\"__ndarray__\":\"UEeIQaQvLEEUCIdBCNmEQbIWiUHTgjpBjjWNQfA5hEFfcnlBvsSDQSLIi0Huv6NBsRmkQTGxbUEoMCxB11gqQaHzhkELtZpBQSSGQZ8Ho0HeCpFB/FWAQQrGf0FdEYBB5mxzQZSXTkHSFT1BV4ZWQSflQEHLKIBBkCldQUXzqUFhTZ1B5UNBQSXWNkHNNkBBZ56oQcqPrUGHN6RBixmGQeHEYEHfSjxBMS9gQSC1JEHPQ5lBd8thQRN2i0ERwppBvTM9QUL2fkHbLEFBvWo6QeYWWUHkl5JBwWisQVpdnkGFBD9B1VdwQWpsekHCmopBMiuAQYhwi0HePkRBdG2cQdJvS0EMiYpBK6WhQYp9W0FWWZtBLUChQX7zoUE=\",\"dtype\":\"float32\",\"shape\":[71]},\"y\":{\"__ndarray__\":\"5AktQUvJgEGjETFB5e9kQS5hN0GGnYFBumlJQeX1T0GyHTZBRnZHQeQoRkF5MGVBrZ1iQdhBR0G6xnVBBVtmQX7BNUHddGpBjSpLQUzeb0FYBERB1R40QdDBM0GEwDJBi9Y5QZQ8mEGImndBA1SEQZrFh0GQuEVBmPhVQXUAi0GukmtBRFByQVuKckHxBXVBwTKKQaupikGeGnNBtm9eQeOHh0E/LZZBn0+KQbqrakGAuV5BIF5cQdx2XUGavWVBH290QYTYTEEnZGpBYueDQXHeYEHejVNBQWOKQYpPiEFNIGBBj1c9QeHCOEEVdidBkLlVQSGULkHJJHhByAmNQVnGYkFbCGdBjgyHQWjUiEF3AGZB1KWJQegMZUE=\",\"dtype\":\"float32\",\"shape\":[71]}},\"selected\":{\"id\":\"5fbfff58-8c9b-4f47-97ae-f72d2a891d62\",\"type\":\"Selection\"},\"selection_policy\":{\"id\":\"2e5b0e08-2532-4f96-a897-9055bf42e418\",\"type\":\"UnionRenderers\"}},\"id\":\"813e3f2a-c1f7-46d8-a9d0-596ee5a2f6c9\",\"type\":\"ColumnDataSource\"},{\"attributes\":{\"source\":{\"id\":\"0c29b4da-06fb-4f7e-a4f8-b8c57bcd2fb5\",\"type\":\"ColumnDataSource\"}},\"id\":\"ded6f9b7-a32f-456b-8afb-685068b3eb86\",\"type\":\"CDSView\"},{\"attributes\":{\"source\":{\"id\":\"773b4e53-abf1-47c6-aadb-e6ad5f72dd6d\",\"type\":\"ColumnDataSource\"}},\"id\":\"7f45d9b1-2aab-47b3-abbe-bb4b5807dcaa\",\"type\":\"CDSView\"},{\"attributes\":{},\"id\":\"cf543514-0404-40be-aee4-d4dad0d4296c\",\"type\":\"BasicTickFormatter\"},{\"attributes\":{\"callback\":null,\"data\":{\"index\":[1983,1984,1985,1986,1987,1988,1989,1990,1991,1992,1993,1994,1995,1996,1997,1998,1999,2000,2001,2002,2003,2004,2005,2006,2007,2008,2009,2010,2011,2012,2013,2014,2015,2016,2017,2018,2019,2020,2021,2022,2023,2024,2025,2026,2027,2028,2029,2030,2031,2032,2033,2034,2035,2036,2037,2038,2039,2040,2041,2042,2043,2044,2045,2046,2047,2048,2049,2050,2051,2052,2053,2054,2055,2056,2057,2058,2059,2060,2061,2062,2063,2064,2065,2066],\"kasios_index\":{\"__ndarray__\":\"AAAAAAAA+H8AAAAAAAD4fwAAAAAAAPh/AAAAAAAA+H8AAAAAAAD4fwAAAAAAAPh/AAAAAAAA+H8AAAAAAAD4fwAAAAAAAPh/AAAAAAAA+H8AAAAAAAD4fwAAAAAAAPh/AAAAAAAA+H8AAAAAAAD4fwAAAAAAAPh/AAAAAAAA+H8AAAAAAAD4fwAAAAAAAPh/AAAAAAAA+H8AAAAAAAD4fwAAAAAAAPh/AAAAAAAA+H8AAAAAAAD4fwAAAAAAAPh/AAAAAAAA+H8AAAAAAAD4fwAAAAAAAPh/AAAAAAAA+H8AAAAAAAD4fwAAAAAAAPh/AAAAAAAA+H8AAAAAAAD4fwAAAAAAAPh/AAAAAAAA+H8AAAAAAAD4fwAAAAAAAPh/AAAAAAAA+H8AAAAAAAD4fwAAAAAAAPh/AAAAAAAA+H8AAAAAAAD4fwAAAAAAAPh/AAAAAAAA+H8AAAAAAAD4fwAAAAAAAPh/AAAAAAAA+H8AAAAAAAD4fwAAAAAAAPh/AAAAAAAA+H8AAAAAAAD4fwAAAAAAAPh/AAAAAAAA+H8AAAAAAAD4fwAAAAAAAPh/AAAAAAAA+H8AAAAAAAD4fwAAAAAAAPh/AAAAAAAA+H8AAAAAAAD4fwAAAAAAAPh/AAAAAAAA+H8AAAAAAAD4fwAAAAAAAPh/AAAAAAAA+H8AAAAAAAD4fwAAAAAAAPh/AAAAAAAA+H8AAAAAAAD4fwAAAAAAAPh/AAAAAAAA+H8AAAAAAAD4fwAAAAAAAPh/AAAAAAAA+H8AAAAAAAD4fwAAAAAAAPh/AAAAAAAA+H8AAAAAAAD4fwAAAAAAAPh/AAAAAAAA+H8AAAAAAAD4fwAAAAAAAPh/AAAAAAAA+H8AAAAAAAD4fwAAAAAAAPh/\",\"dtype\":\"float64\",\"shape\":[84]},\"specie\":[\"Vermillion Trillian\",\"Vermillion Trillian\",\"Vermillion Trillian\",\"Vermillion Trillian\",\"Vermillion Trillian\",\"Vermillion Trillian\",\"Vermillion Trillian\",\"Vermillion Trillian\",\"Vermillion Trillian\",\"Vermillion Trillian\",\"Vermillion Trillian\",\"Vermillion Trillian\",\"Vermillion Trillian\",\"Vermillion Trillian\",\"Vermillion Trillian\",\"Vermillion Trillian\",\"Vermillion Trillian\",\"Vermillion Trillian\",\"Vermillion Trillian\",\"Vermillion Trillian\",\"Vermillion Trillian\",\"Vermillion Trillian\",\"Vermillion Trillian\",\"Vermillion Trillian\",\"Vermillion Trillian\",\"Vermillion Trillian\",\"Vermillion Trillian\",\"Vermillion Trillian\",\"Vermillion Trillian\",\"Vermillion Trillian\",\"Vermillion Trillian\",\"Vermillion Trillian\",\"Vermillion Trillian\",\"Vermillion Trillian\",\"Vermillion Trillian\",\"Vermillion Trillian\",\"Vermillion Trillian\",\"Vermillion Trillian\",\"Vermillion Trillian\",\"Vermillion Trillian\",\"Vermillion Trillian\",\"Vermillion Trillian\",\"Vermillion Trillian\",\"Vermillion Trillian\",\"Vermillion Trillian\",\"Vermillion Trillian\",\"Vermillion Trillian\",\"Vermillion Trillian\",\"Vermillion Trillian\",\"Vermillion Trillian\",\"Vermillion Trillian\",\"Vermillion Trillian\",\"Vermillion Trillian\",\"Vermillion Trillian\",\"Vermillion Trillian\",\"Vermillion Trillian\",\"Vermillion Trillian\",\"Vermillion Trillian\",\"Vermillion Trillian\",\"Vermillion Trillian\",\"Vermillion Trillian\",\"Vermillion Trillian\",\"Vermillion Trillian\",\"Vermillion Trillian\",\"Vermillion Trillian\",\"Vermillion Trillian\",\"Vermillion Trillian\",\"Vermillion Trillian\",\"Vermillion Trillian\",\"Vermillion Trillian\",\"Vermillion Trillian\",\"Vermillion Trillian\",\"Vermillion Trillian\",\"Vermillion Trillian\",\"Vermillion Trillian\",\"Vermillion Trillian\",\"Vermillion Trillian\",\"Vermillion Trillian\",\"Vermillion Trillian\",\"Vermillion Trillian\",\"Vermillion Trillian\",\"Vermillion Trillian\",\"Vermillion Trillian\",\"Vermillion Trillian\"],\"x\":{\"__ndarray__\":\"eRhAQY1wNUHBAyFBCRAeQW/oFkEIUEJBG9tYQZMKT0F6REJBAs8yQRWzIkFRt09BY+RMQY07N0EUc1VBBzMeQad6TUGQq01Bhwo+QYR1TUFaNUtBU1lBQWCtNkE6eTtBe/I4QfPdQkG35jlBlbssQdOrQ0Gc6FJBbk9WQZwINUGoCipB23tAQXePVkH+e0JBEvWoQepQhUGmjTVBfFU2QahZPkH8O0tBxRssQa+oSEGKf0RB+elTQfn3S0GplCRBUr1NQSLXNUHm6yhBp1lDQUPrNUEBQzRBPfpCQc4DV0GMIaJBgGQuQcl/TEEl5zVBGZY0QfmuQEF8OTdB7NFbQY/1TUGMyBtBrEFLQX3TTUExPU5B2ENWQbv9UEG1UkZBzYikQStDQkHi+VtBZGo5QWRfSEEIFldBvUgwQfd3PUGQ/ktBAptVQcBeVEFQhDdB\",\"dtype\":\"float32\",\"shape\":[84]},\"y\":{\"__ndarray__\":\"cbmWQWD9jkE3aohB4D1tQTzTcUEau45BMV6SQVt7U0FJgZJBdbGVQVa9ikEb+mBBdHaYQdlekUF52ZNBB+9qQXswmEHGAZhBq7qJQf7JjkGNzY5BBTiWQWdqlkHCWo1B4nqGQTrSjUGT3XZBxwCCQUu1jUFJIpJBKA+NQRxyikGdxYFBfMNqQcQSkkH9To5BXDl+QYeEW0HUeItBfvuVQSM9lEE235dBq7uCQXp7k0GN9JRBwDmNQTTnlEFPLWZBKQ+YQeqllUFCD49BS02PQTamlEEQLJRBF8qRQVcljEGmWXFBot2PQd0mjkF33IRBIaqGQQo1jkE7l5BBrWZFQbV6l0EwymhBL3GHQUKGhkEgjIZBLR6NQdA5jEH0Q4lBBi6KQdj6jUE4JjlB5YaPQV/Rj0GghpBBDbVzQQ1bhEE2IphBvPyPQdKsjUGrdXhB\",\"dtype\":\"float32\",\"shape\":[84]}},\"selected\":{\"id\":\"eb0c79ed-cdde-478c-8e3d-0b265021b9ee\",\"type\":\"Selection\"},\"selection_policy\":{\"id\":\"e7d38fa1-b0e5-4a26-8423-5e4876fcc5ef\",\"type\":\"UnionRenderers\"}},\"id\":\"f64429d8-75a4-4e0c-be5f-46ab8cbd5235\",\"type\":\"ColumnDataSource\"},{\"attributes\":{\"data_source\":{\"id\":\"37602aa4-266a-4569-91d9-05b066650693\",\"type\":\"ColumnDataSource\"},\"glyph\":{\"id\":\"a8144ea9-14e4-4306-a057-bb15a889dabc\",\"type\":\"Circle\"},\"hover_glyph\":null,\"muted_glyph\":null,\"nonselection_glyph\":{\"id\":\"748d6920-29e3-444e-8d5a-00e5fc8c7afc\",\"type\":\"Circle\"},\"selection_glyph\":null,\"view\":{\"id\":\"f94411fe-3fe7-44b1-baa9-60c2890669f6\",\"type\":\"CDSView\"}},\"id\":\"107e6841-1b69-48ae-8151-90c568b3f02b\",\"type\":\"GlyphRenderer\"},{\"attributes\":{\"callback\":null,\"data\":{\"index\":[1389,1390,1391,1392,1393,1394,1395,1396,1397,1398,1399,1400,1401,1402,1403,1404,1405,1406,1407,1408,1409,1410,1411,1412,1413,1414,1415,1416,1417,1418,1419,1420,1421,1422,1423,1424,1425,1426,1427,1428,1429,1430,1431,1432,1433,1434,1435,1436,1437,1438,1439,1440,1441,1442,1443,1444,1445,1446,1447,1448,1449,1450,1451,1452,1453,1454,1455,1456,1457,1458,1459,1460,1461],\"kasios_index\":{\"__ndarray__\":\"AAAAAAAA+H8AAAAAAAD4fwAAAAAAAPh/AAAAAAAA+H8AAAAAAAD4fwAAAAAAAPh/AAAAAAAA+H8AAAAAAAD4fwAAAAAAAPh/AAAAAAAA+H8AAAAAAAD4fwAAAAAAAPh/AAAAAAAA+H8AAAAAAAD4fwAAAAAAAPh/AAAAAAAA+H8AAAAAAAD4fwAAAAAAAPh/AAAAAAAA+H8AAAAAAAD4fwAAAAAAAPh/AAAAAAAA+H8AAAAAAAD4fwAAAAAAAPh/AAAAAAAA+H8AAAAAAAD4fwAAAAAAAPh/AAAAAAAA+H8AAAAAAAD4fwAAAAAAAPh/AAAAAAAA+H8AAAAAAAD4fwAAAAAAAPh/AAAAAAAA+H8AAAAAAAD4fwAAAAAAAPh/AAAAAAAA+H8AAAAAAAD4fwAAAAAAAPh/AAAAAAAA+H8AAAAAAAD4fwAAAAAAAPh/AAAAAAAA+H8AAAAAAAD4fwAAAAAAAPh/AAAAAAAA+H8AAAAAAAD4fwAAAAAAAPh/AAAAAAAA+H8AAAAAAAD4fwAAAAAAAPh/AAAAAAAA+H8AAAAAAAD4fwAAAAAAAPh/AAAAAAAA+H8AAAAAAAD4fwAAAAAAAPh/AAAAAAAA+H8AAAAAAAD4fwAAAAAAAPh/AAAAAAAA+H8AAAAAAAD4fwAAAAAAAPh/AAAAAAAA+H8AAAAAAAD4fwAAAAAAAPh/AAAAAAAA+H8AAAAAAAD4fwAAAAAAAPh/AAAAAAAA+H8AAAAAAAD4fwAAAAAAAPh/AAAAAAAA+H8=\",\"dtype\":\"float64\",\"shape\":[73]},\"specie\":[\"Pinkfinch\",\"Pinkfinch\",\"Pinkfinch\",\"Pinkfinch\",\"Pinkfinch\",\"Pinkfinch\",\"Pinkfinch\",\"Pinkfinch\",\"Pinkfinch\",\"Pinkfinch\",\"Pinkfinch\",\"Pinkfinch\",\"Pinkfinch\",\"Pinkfinch\",\"Pinkfinch\",\"Pinkfinch\",\"Pinkfinch\",\"Pinkfinch\",\"Pinkfinch\",\"Pinkfinch\",\"Pinkfinch\",\"Pinkfinch\",\"Pinkfinch\",\"Pinkfinch\",\"Pinkfinch\",\"Pinkfinch\",\"Pinkfinch\",\"Pinkfinch\",\"Pinkfinch\",\"Pinkfinch\",\"Pinkfinch\",\"Pinkfinch\",\"Pinkfinch\",\"Pinkfinch\",\"Pinkfinch\",\"Pinkfinch\",\"Pinkfinch\",\"Pinkfinch\",\"Pinkfinch\",\"Pinkfinch\",\"Pinkfinch\",\"Pinkfinch\",\"Pinkfinch\",\"Pinkfinch\",\"Pinkfinch\",\"Pinkfinch\",\"Pinkfinch\",\"Pinkfinch\",\"Pinkfinch\",\"Pinkfinch\",\"Pinkfinch\",\"Pinkfinch\",\"Pinkfinch\",\"Pinkfinch\",\"Pinkfinch\",\"Pinkfinch\",\"Pinkfinch\",\"Pinkfinch\",\"Pinkfinch\",\"Pinkfinch\",\"Pinkfinch\",\"Pinkfinch\",\"Pinkfinch\",\"Pinkfinch\",\"Pinkfinch\",\"Pinkfinch\",\"Pinkfinch\",\"Pinkfinch\",\"Pinkfinch\",\"Pinkfinch\",\"Pinkfinch\",\"Pinkfinch\",\"Pinkfinch\"],\"x\":{\"__ndarray__\":\"7IFuQcmNh0EkVoNBsPR1QSiSMUF6pSZBTv49QUjYPUEjxSpBNRIyQcGCLkHlqWJBVswoQckNNEHYbkZBTdhQQXDQMEE3kE1BP6QrQSczXEHmSTVBvJghQdLzYEEFhTdBhUYqQb+xW0HFUThBoRpRQUMTVUEZhEZBN7MlQS/bYUEi6TlBTOxbQaSJL0GogTFBxuImQZ0MNEEWvkhBeXVEQb54PkEz3EpBBkRFQVpKM0GJDTpBrZU4Qdb0P0H5uzZB0CM3QawTQUGUcoFBcwqhQd7sOUECUVdBdkpIQbieP0EoVENB8mVGQbvUIUGcyktBDvgjQUVpZ0FPOmFBStWHQWhRMkHxr1RBMshCQbGCVkGTsERBK+dHQSVMWEHUQZJBRhdjQQ==\",\"dtype\":\"float32\",\"shape\":[73]},\"y\":{\"__ndarray__\":\"eBdYQSD2T0HA+FdB2rpHQdy4ekFVjXVBXhJyQXwDZEEdhmJBvzF3QUxIa0HYg5JBmPB8QX6qW0Fu1XhB+0OOQW9yb0FkWYdBkSVzQeP8hEF36oJBKouDQYPTh0EweGtB5ApwQVwhhkGFEIpB3C5tQQXjk0Hk/IhBg8RkQRKZk0FF6VxBHSNcQcPOdUHnblJBb7iDQQcqg0ED2oJBYNGEQbJHbUHTqopB5h9DQdFngEGnhmRBkrFBQfiybEF0f1tBRQNxQXw4aUEiVlxB2DWKQe0/dEHGQ4NB0kSPQX/4YUGSqVpBbfh3QSN3ekHYTIhBPyKMQcqxWEHU2ZNBpcRdQT4PcUEQ2I9BRtlNQSMIg0F7gFJBeweJQefkfEF/eVRBQ3KJQQ==\",\"dtype\":\"float32\",\"shape\":[73]}},\"selected\":{\"id\":\"3d86e62f-92b3-4554-91c1-3e7aa72598b2\",\"type\":\"Selection\"},\"selection_policy\":{\"id\":\"d84ae62d-a987-4500-b589-fe6d5d85f160\",\"type\":\"UnionRenderers\"}},\"id\":\"5e620be9-0f8b-4451-bdea-ec0e19e29ff7\",\"type\":\"ColumnDataSource\"},{\"attributes\":{\"data_source\":{\"id\":\"773b4e53-abf1-47c6-aadb-e6ad5f72dd6d\",\"type\":\"ColumnDataSource\"},\"glyph\":{\"id\":\"3a718698-f934-465d-9e8d-b6645dc3d73e\",\"type\":\"Circle\"},\"hover_glyph\":null,\"muted_glyph\":null,\"nonselection_glyph\":{\"id\":\"6e5db4a1-28f9-42b7-a47c-9e84a4f4888c\",\"type\":\"Circle\"},\"selection_glyph\":null,\"view\":{\"id\":\"7f45d9b1-2aab-47b3-abbe-bb4b5807dcaa\",\"type\":\"CDSView\"}},\"id\":\"a44d7b03-eaf4-4ebd-9e92-9099193d5303\",\"type\":\"GlyphRenderer\"},{\"attributes\":{},\"id\":\"642f2a0d-1b94-459f-9456-1c2b9a224eb7\",\"type\":\"Selection\"},{\"attributes\":{\"fill_alpha\":{\"value\":0.1},\"fill_color\":{\"value\":\"#1f77b4\"},\"line_alpha\":{\"value\":0.1},\"line_color\":{\"value\":\"#1f77b4\"},\"size\":{\"units\":\"screen\",\"value\":20},\"x\":{\"field\":\"x\"},\"y\":{\"field\":\"y\"}},\"id\":\"902e39cc-cef9-4176-8012-30e2d1e6b207\",\"type\":\"Circle\"},{\"attributes\":{\"below\":[{\"id\":\"ebbadb60-be6f-4996-9808-3e0255ee2794\",\"type\":\"LinearAxis\"}],\"left\":[{\"id\":\"1d0c687c-0055-4768-b5cd-38e93b3c04b2\",\"type\":\"LinearAxis\"}],\"plot_width\":800,\"renderers\":[{\"id\":\"ebbadb60-be6f-4996-9808-3e0255ee2794\",\"type\":\"LinearAxis\"},{\"id\":\"fc3b7486-51c1-4458-b911-76bf024f0363\",\"type\":\"Grid\"},{\"id\":\"1d0c687c-0055-4768-b5cd-38e93b3c04b2\",\"type\":\"LinearAxis\"},{\"id\":\"d305a507-d74e-49cd-8d0e-e0e7d7d41b73\",\"type\":\"Grid\"},{\"id\":\"93efd6cc-8f72-4205-aaee-b3ef0cbaf8f2\",\"type\":\"GlyphRenderer\"},{\"id\":\"775bd1c5-4f5e-43c0-a996-703f3c00d6df\",\"type\":\"GlyphRenderer\"},{\"id\":\"45258a99-31a0-4812-82c5-ce019c590349\",\"type\":\"GlyphRenderer\"},{\"id\":\"92732f32-37cb-4a59-a859-397c2027f79f\",\"type\":\"GlyphRenderer\"},{\"id\":\"bd1e75f7-5074-4e78-b9a7-2b1d4800b863\",\"type\":\"GlyphRenderer\"},{\"id\":\"f5003651-680b-410a-9d57-38156e2537d5\",\"type\":\"GlyphRenderer\"},{\"id\":\"90269917-cfa8-4ba7-81da-0608ace49d4b\",\"type\":\"GlyphRenderer\"},{\"id\":\"daf2b972-05c7-44b7-a091-7f58c955f97f\",\"type\":\"GlyphRenderer\"},{\"id\":\"c376eae8-1efa-4a70-84ce-3f40bfd29b9c\",\"type\":\"GlyphRenderer\"},{\"id\":\"e9f0c932-2fee-4705-9d0b-8a9785f1ff1f\",\"type\":\"GlyphRenderer\"},{\"id\":\"497f43b0-f8c5-4487-a79c-a1f985de1897\",\"type\":\"GlyphRenderer\"},{\"id\":\"a44d7b03-eaf4-4ebd-9e92-9099193d5303\",\"type\":\"GlyphRenderer\"},{\"id\":\"072e435b-d1f2-4980-befd-12b1c5368ffc\",\"type\":\"GlyphRenderer\"},{\"id\":\"7a348bf9-b0aa-40fd-b4aa-0f099563e221\",\"type\":\"GlyphRenderer\"},{\"id\":\"50698259-1556-46cd-8e22-5f3f1858b8e8\",\"type\":\"GlyphRenderer\"},{\"id\":\"4e0e9e24-cf23-4d2a-a29c-1c5f9d1b7692\",\"type\":\"GlyphRenderer\"},{\"id\":\"0d0b44b3-8285-4514-bd5a-b67f37aed753\",\"type\":\"GlyphRenderer\"},{\"id\":\"107e6841-1b69-48ae-8151-90c568b3f02b\",\"type\":\"GlyphRenderer\"},{\"id\":\"45a34ff2-7264-43e7-8175-237c8af43762\",\"type\":\"GlyphRenderer\"},{\"id\":\"580c79dd-ef42-4343-ab9a-7458f457f341\",\"type\":\"GlyphRenderer\"},{\"id\":\"3edc7354-b41f-475b-8e19-85e9802d55cf\",\"type\":\"GlyphRenderer\"},{\"id\":\"8308d4bf-15b8-45bf-8889-bcd88dfcfe46\",\"type\":\"Legend\"}],\"right\":[{\"id\":\"8308d4bf-15b8-45bf-8889-bcd88dfcfe46\",\"type\":\"Legend\"}],\"title\":{\"id\":\"04291ed2-a094-4c71-8a1d-e92fefd7672f\",\"type\":\"Title\"},\"toolbar\":{\"id\":\"62f50f53-486e-4fd9-9d57-63dcea2cd45d\",\"type\":\"Toolbar\"},\"toolbar_location\":\"above\",\"x_range\":{\"id\":\"9fe35ba8-0976-4c79-aab6-b3e02264c436\",\"type\":\"DataRange1d\"},\"x_scale\":{\"id\":\"9482616d-215b-4154-9422-889d33cdf3f1\",\"type\":\"LinearScale\"},\"y_range\":{\"id\":\"cf866e32-b833-4144-9b7b-99290283a9b1\",\"type\":\"DataRange1d\"},\"y_scale\":{\"id\":\"b0a88f81-0101-4a95-8302-881ebe08dde4\",\"type\":\"LinearScale\"}},\"id\":\"0c442e89-95f0-45bb-9978-cde3b2988620\",\"subtype\":\"Figure\",\"type\":\"Plot\"},{\"attributes\":{\"fill_alpha\":{\"value\":0.6},\"fill_color\":{\"field\":\"specie\",\"transform\":{\"id\":\"57b3006a-fb74-499d-b328-2f993b3973b8\",\"type\":\"CategoricalColorMapper\"}},\"line_alpha\":{\"value\":0.6},\"line_color\":{\"field\":\"specie\",\"transform\":{\"id\":\"57b3006a-fb74-499d-b328-2f993b3973b8\",\"type\":\"CategoricalColorMapper\"}},\"size\":{\"units\":\"screen\",\"value\":5},\"x\":{\"field\":\"x\"},\"y\":{\"field\":\"y\"}},\"id\":\"3a718698-f934-465d-9e8d-b6645dc3d73e\",\"type\":\"Circle\"},{\"attributes\":{\"fill_alpha\":{\"value\":0.6},\"fill_color\":{\"field\":\"specie\",\"transform\":{\"id\":\"57b3006a-fb74-499d-b328-2f993b3973b8\",\"type\":\"CategoricalColorMapper\"}},\"line_alpha\":{\"value\":0.6},\"line_color\":{\"field\":\"specie\",\"transform\":{\"id\":\"57b3006a-fb74-499d-b328-2f993b3973b8\",\"type\":\"CategoricalColorMapper\"}},\"size\":{\"units\":\"screen\",\"value\":5},\"x\":{\"field\":\"x\"},\"y\":{\"field\":\"y\"}},\"id\":\"4dc2079c-1c82-440b-8822-0aae4ce66f60\",\"type\":\"Circle\"},{\"attributes\":{\"fill_alpha\":{\"value\":0.1},\"fill_color\":{\"value\":\"#1f77b4\"},\"line_alpha\":{\"value\":0.1},\"line_color\":{\"value\":\"#1f77b4\"},\"size\":{\"units\":\"screen\",\"value\":5},\"x\":{\"field\":\"x\"},\"y\":{\"field\":\"y\"}},\"id\":\"34385838-ffef-49a5-8802-1bfd2a96f1ea\",\"type\":\"Circle\"},{\"attributes\":{\"formatter\":{\"id\":\"959268fa-5392-4f03-83da-b5166b57763f\",\"type\":\"BasicTickFormatter\"},\"plot\":{\"id\":\"0c442e89-95f0-45bb-9978-cde3b2988620\",\"subtype\":\"Figure\",\"type\":\"Plot\"},\"ticker\":{\"id\":\"cbfc3a45-c0d0-4780-8e39-f8650d0f0c29\",\"type\":\"BasicTicker\"}},\"id\":\"1d0c687c-0055-4768-b5cd-38e93b3c04b2\",\"type\":\"LinearAxis\"},{\"attributes\":{\"callback\":null,\"data\":{\"index\":[1295,1296,1297,1298,1299,1300,1301,1302,1303,1304,1305,1306,1307,1308,1309,1310,1311,1312,1313,1314,1315,1316,1317,1318,1319,1320,1321,1322,1323,1324,1325,1326,1327,1328,1329,1330,1331,1332,1333,1334,1335,1336,1337,1338,1339,1340,1341,1342,1343,1344,1345,1346,1347,1348,1349,1350,1351,1352,1353,1354,1355,1356,1357,1358,1359,1360,1361,1362,1363,1364,1365,1366,1367,1368,1369,1370,1371,1372,1373,1374,1375,1376,1377,1378,1379,1380,1381,1382,1383,1384,1385,1386,1387,1388],\"kasios_index\":{\"__ndarray__\":\"AAAAAAAA+H8AAAAAAAD4fwAAAAAAAPh/AAAAAAAA+H8AAAAAAAD4fwAAAAAAAPh/AAAAAAAA+H8AAAAAAAD4fwAAAAAAAPh/AAAAAAAA+H8AAAAAAAD4fwAAAAAAAPh/AAAAAAAA+H8AAAAAAAD4fwAAAAAAAPh/AAAAAAAA+H8AAAAAAAD4fwAAAAAAAPh/AAAAAAAA+H8AAAAAAAD4fwAAAAAAAPh/AAAAAAAA+H8AAAAAAAD4fwAAAAAAAPh/AAAAAAAA+H8AAAAAAAD4fwAAAAAAAPh/AAAAAAAA+H8AAAAAAAD4fwAAAAAAAPh/AAAAAAAA+H8AAAAAAAD4fwAAAAAAAPh/AAAAAAAA+H8AAAAAAAD4fwAAAAAAAPh/AAAAAAAA+H8AAAAAAAD4fwAAAAAAAPh/AAAAAAAA+H8AAAAAAAD4fwAAAAAAAPh/AAAAAAAA+H8AAAAAAAD4fwAAAAAAAPh/AAAAAAAA+H8AAAAAAAD4fwAAAAAAAPh/AAAAAAAA+H8AAAAAAAD4fwAAAAAAAPh/AAAAAAAA+H8AAAAAAAD4fwAAAAAAAPh/AAAAAAAA+H8AAAAAAAD4fwAAAAAAAPh/AAAAAAAA+H8AAAAAAAD4fwAAAAAAAPh/AAAAAAAA+H8AAAAAAAD4fwAAAAAAAPh/AAAAAAAA+H8AAAAAAAD4fwAAAAAAAPh/AAAAAAAA+H8AAAAAAAD4fwAAAAAAAPh/AAAAAAAA+H8AAAAAAAD4fwAAAAAAAPh/AAAAAAAA+H8AAAAAAAD4fwAAAAAAAPh/AAAAAAAA+H8AAAAAAAD4fwAAAAAAAPh/AAAAAAAA+H8AAAAAAAD4fwAAAAAAAPh/AAAAAAAA+H8AAAAAAAD4fwAAAAAAAPh/AAAAAAAA+H8AAAAAAAD4fwAAAAAAAPh/AAAAAAAA+H8AAAAAAAD4fwAAAAAAAPh/AAAAAAAA+H8AAAAAAAD4fwAAAAAAAPh/AAAAAAAA+H8=\",\"dtype\":\"float64\",\"shape\":[94]},\"specie\":[\"Ordinary Snape\",\"Ordinary Snape\",\"Ordinary Snape\",\"Ordinary Snape\",\"Ordinary Snape\",\"Ordinary Snape\",\"Ordinary Snape\",\"Ordinary Snape\",\"Ordinary Snape\",\"Ordinary Snape\",\"Ordinary Snape\",\"Ordinary Snape\",\"Ordinary Snape\",\"Ordinary Snape\",\"Ordinary Snape\",\"Ordinary Snape\",\"Ordinary Snape\",\"Ordinary Snape\",\"Ordinary Snape\",\"Ordinary Snape\",\"Ordinary Snape\",\"Ordinary Snape\",\"Ordinary Snape\",\"Ordinary Snape\",\"Ordinary Snape\",\"Ordinary Snape\",\"Ordinary Snape\",\"Ordinary Snape\",\"Ordinary Snape\",\"Ordinary Snape\",\"Ordinary Snape\",\"Ordinary Snape\",\"Ordinary Snape\",\"Ordinary Snape\",\"Ordinary Snape\",\"Ordinary Snape\",\"Ordinary Snape\",\"Ordinary Snape\",\"Ordinary Snape\",\"Ordinary Snape\",\"Ordinary Snape\",\"Ordinary Snape\",\"Ordinary Snape\",\"Ordinary Snape\",\"Ordinary Snape\",\"Ordinary Snape\",\"Ordinary Snape\",\"Ordinary Snape\",\"Ordinary Snape\",\"Ordinary Snape\",\"Ordinary Snape\",\"Ordinary Snape\",\"Ordinary Snape\",\"Ordinary Snape\",\"Ordinary Snape\",\"Ordinary Snape\",\"Ordinary Snape\",\"Ordinary Snape\",\"Ordinary Snape\",\"Ordinary Snape\",\"Ordinary Snape\",\"Ordinary Snape\",\"Ordinary Snape\",\"Ordinary Snape\",\"Ordinary Snape\",\"Ordinary Snape\",\"Ordinary Snape\",\"Ordinary Snape\",\"Ordinary Snape\",\"Ordinary Snape\",\"Ordinary Snape\",\"Ordinary Snape\",\"Ordinary Snape\",\"Ordinary Snape\",\"Ordinary Snape\",\"Ordinary Snape\",\"Ordinary Snape\",\"Ordinary Snape\",\"Ordinary Snape\",\"Ordinary Snape\",\"Ordinary Snape\",\"Ordinary Snape\",\"Ordinary Snape\",\"Ordinary Snape\",\"Ordinary Snape\",\"Ordinary Snape\",\"Ordinary Snape\",\"Ordinary Snape\",\"Ordinary Snape\",\"Ordinary Snape\",\"Ordinary Snape\",\"Ordinary Snape\",\"Ordinary Snape\",\"Ordinary Snape\"],\"x\":{\"__ndarray__\":\"p7aDQVDNPEFpQoNBOKeFQTUzgkH4xqpB/o2LQc9qhEEO86FB4OyHQVgzV0FILpBB3I2FQRf4pUG1Gk9BsY1jQbUqdkFGzoNBCyOFQT3dg0H3uktBh4F2Qde4pEG2eG9BjCiHQQJggEEP6GFBUUaPQXeVhUHAN25B+qGBQZiHi0HMe4NBy/qlQZTjrEHWR6VB5PeJQQ/zOkHvLoRBNNGIQdEYhUH4VlZByiN2QfuAiEGVnExB7C+CQXvmlEFf92tBeCBYQYJNfkEOgnZBPVWJQTNxqkH0LIBBRP2jQRP0V0Gmc5lBdp6cQbJKd0FTqUVBhI5UQUGTg0Hmd6RBgcaPQbwug0Hz2IpBzHheQaiGXkEkUJtBJix2QdkmdUHsO2dBV7uQQUoblUFM7kdBQcdUQWdFqkFRtYVBV0BZQZGtj0E3LVhBRz2FQTQkpEHWA2pBnNeCQSsFhkHq/YtBtG0sQXd5j0F0CYBBGVuWQTsbdEGrDlxB5mw2QQ==\",\"dtype\":\"float32\",\"shape\":[94]},\"y\":{\"__ndarray__\":\"RaY8QRxmckGyZyxBMQhDQVwsO0GGSG1BbVNGQco2M0HSOm9B+8E9QYmBNEHX+TdBcx5JQYxeXkEYQUtBeP1RQW5oNUH2lz9BCVkzQSd2OkFmRlJBsb43QXZFh0FLsjNBAnE/QaQ5OkGIEjJBvBQ2QRT7M0HVFzRBZhYwQRc5SEE8ajxB64hrQZ7de0GMhmxB+LtgQcx4gEHTxElB+rZVQXGVSkHa51ZBaa8zQVeiSEFJTFpBUAhAQS1bWUEPK1ZBoiQ4QXZ9OEEYGzdB+IhlQVVUYkGfwjtBjEFjQWo/YEGiIW9B7hpkQYFTNkFZrFdB3X2MQYfCRkH2iGNB09c6QQGCNUHcOWNBVSBQQY0ROEENVWxBEr5LQSojNkG0VlVBmDpVQbtIWkGK8lVBLfBmQWRPeUELm0pBYKBSQd4KOUEuFXpBf3ZWQVmjbUFnzjNBzohLQaj6Y0HjDTdBMuZ/QdfeS0GFsjtB9Sd5QZffT0HfJ4hBMxZ1QQ==\",\"dtype\":\"float32\",\"shape\":[94]}},\"selected\":{\"id\":\"1bd9929a-788f-4f02-ab25-f0cced86f860\",\"type\":\"Selection\"},\"selection_policy\":{\"id\":\"195ec37f-126f-466c-8778-5e4a5738dc20\",\"type\":\"UnionRenderers\"}},\"id\":\"773b4e53-abf1-47c6-aadb-e6ad5f72dd6d\",\"type\":\"ColumnDataSource\"},{\"attributes\":{\"data_source\":{\"id\":\"0c29b4da-06fb-4f7e-a4f8-b8c57bcd2fb5\",\"type\":\"ColumnDataSource\"},\"glyph\":{\"id\":\"4dc2079c-1c82-440b-8822-0aae4ce66f60\",\"type\":\"Circle\"},\"hover_glyph\":null,\"muted_glyph\":null,\"nonselection_glyph\":{\"id\":\"19cc69e9-3967-480f-9800-268e05c1a383\",\"type\":\"Circle\"},\"selection_glyph\":null,\"view\":{\"id\":\"ded6f9b7-a32f-456b-8afb-685068b3eb86\",\"type\":\"CDSView\"}},\"id\":\"90269917-cfa8-4ba7-81da-0608ace49d4b\",\"type\":\"GlyphRenderer\"},{\"attributes\":{\"data_source\":{\"id\":\"1fb53da5-09d6-4969-bdbe-b856f1ae69ee\",\"type\":\"ColumnDataSource\"},\"glyph\":{\"id\":\"d50f7906-0be2-4f11-95f6-00c59eaa1eb0\",\"type\":\"Circle\"},\"hover_glyph\":null,\"muted_glyph\":null,\"nonselection_glyph\":{\"id\":\"7f9984f4-5a2f-4f01-af61-d05a152d3d3d\",\"type\":\"Circle\"},\"selection_glyph\":null,\"view\":{\"id\":\"eaf91c0c-04f7-4272-94c1-17ed87971fa6\",\"type\":\"CDSView\"}},\"id\":\"e9f0c932-2fee-4705-9d0b-8a9785f1ff1f\",\"type\":\"GlyphRenderer\"},{\"attributes\":{\"source\":{\"id\":\"2d76e013-8018-4de9-862c-cfb5b496cc3f\",\"type\":\"ColumnDataSource\"}},\"id\":\"6ca008d8-42f8-4f76-aaca-989cd411344f\",\"type\":\"CDSView\"},{\"attributes\":{\"fill_alpha\":{\"value\":0.6},\"fill_color\":{\"field\":\"specie\",\"transform\":{\"id\":\"57b3006a-fb74-499d-b328-2f993b3973b8\",\"type\":\"CategoricalColorMapper\"}},\"line_alpha\":{\"value\":0.6},\"line_color\":{\"field\":\"specie\",\"transform\":{\"id\":\"57b3006a-fb74-499d-b328-2f993b3973b8\",\"type\":\"CategoricalColorMapper\"}},\"size\":{\"units\":\"screen\",\"value\":5},\"x\":{\"field\":\"x\"},\"y\":{\"field\":\"y\"}},\"id\":\"f2b5af0c-55eb-44a5-8d48-e6693add1436\",\"type\":\"Circle\"},{\"attributes\":{\"callback\":null,\"renderers\":\"auto\",\"tooltips\":\"\\n<div>\\n    <div>\\n        <span style='font-size: 13px; color: #224499'>Specie:</span>\\n        <span style='font-size: 13px'>@specie</span>\\n    </div>\\n</div>\\n\"},\"id\":\"1b0f3cf6-ee8f-48e5-b4ed-ec6083c5e627\",\"type\":\"HoverTool\"},{\"attributes\":{\"source\":{\"id\":\"c858f7d7-3687-4893-9ac7-0cef478a4a7c\",\"type\":\"ColumnDataSource\"}},\"id\":\"2d2c7b7e-e182-4943-97d5-c80b5a43d43e\",\"type\":\"CDSView\"},{\"attributes\":{\"label\":{\"value\":\"Canadian Cootamum\"},\"renderers\":[{\"id\":\"bd1e75f7-5074-4e78-b9a7-2b1d4800b863\",\"type\":\"GlyphRenderer\"}]},\"id\":\"93c1ed66-a332-4ec2-b9ac-a40d669b36d7\",\"type\":\"LegendItem\"},{\"attributes\":{\"label\":{\"value\":\"Bombadil\"},\"renderers\":[{\"id\":\"45258a99-31a0-4812-82c5-ce019c590349\",\"type\":\"GlyphRenderer\"}]},\"id\":\"04819bbf-dc28-46c8-8395-9bcd622d8c80\",\"type\":\"LegendItem\"},{\"attributes\":{},\"id\":\"a2d5d3e0-8eb6-46e6-96e3-bfa7aa34c01f\",\"type\":\"Selection\"},{\"attributes\":{},\"id\":\"80338885-b90f-4ea4-9e2b-384ce6faa49f\",\"type\":\"Selection\"},{\"attributes\":{},\"id\":\"95491a28-4cd1-4bc0-9790-f7d6ef797c1c\",\"type\":\"Selection\"},{\"attributes\":{},\"id\":\"e7d38fa1-b0e5-4a26-8423-5e4876fcc5ef\",\"type\":\"UnionRenderers\"},{\"attributes\":{\"callback\":null,\"data\":{\"index\":[1823,1824,1825,1826,1827,1828,1829,1830,1831,1832,1833,1834,1835,1836,1837,1838,1839,1840,1841,1842,1843,1844,1845,1846,1847,1848,1849,1850,1851,1852,1853,1854,1855,1856,1857,1858,1859,1860,1861,1862,1863,1864,1865,1866,1867,1868,1869,1870,1871,1872,1873,1874,1875,1876,1877,1878,1879,1880,1881,1882,1883,1884,1885,1886,1887,1888,1889,1890,1891,1892,1893],\"kasios_index\":{\"__ndarray__\":\"AAAAAAAA+H8AAAAAAAD4fwAAAAAAAPh/AAAAAAAA+H8AAAAAAAD4fwAAAAAAAPh/AAAAAAAA+H8AAAAAAAD4fwAAAAAAAPh/AAAAAAAA+H8AAAAAAAD4fwAAAAAAAPh/AAAAAAAA+H8AAAAAAAD4fwAAAAAAAPh/AAAAAAAA+H8AAAAAAAD4fwAAAAAAAPh/AAAAAAAA+H8AAAAAAAD4fwAAAAAAAPh/AAAAAAAA+H8AAAAAAAD4fwAAAAAAAPh/AAAAAAAA+H8AAAAAAAD4fwAAAAAAAPh/AAAAAAAA+H8AAAAAAAD4fwAAAAAAAPh/AAAAAAAA+H8AAAAAAAD4fwAAAAAAAPh/AAAAAAAA+H8AAAAAAAD4fwAAAAAAAPh/AAAAAAAA+H8AAAAAAAD4fwAAAAAAAPh/AAAAAAAA+H8AAAAAAAD4fwAAAAAAAPh/AAAAAAAA+H8AAAAAAAD4fwAAAAAAAPh/AAAAAAAA+H8AAAAAAAD4fwAAAAAAAPh/AAAAAAAA+H8AAAAAAAD4fwAAAAAAAPh/AAAAAAAA+H8AAAAAAAD4fwAAAAAAAPh/AAAAAAAA+H8AAAAAAAD4fwAAAAAAAPh/AAAAAAAA+H8AAAAAAAD4fwAAAAAAAPh/AAAAAAAA+H8AAAAAAAD4fwAAAAAAAPh/AAAAAAAA+H8AAAAAAAD4fwAAAAAAAPh/AAAAAAAA+H8AAAAAAAD4fwAAAAAAAPh/AAAAAAAA+H8AAAAAAAD4fw==\",\"dtype\":\"float64\",\"shape\":[71]},\"specie\":[\"Bent-beak Riffraff\",\"Bent-beak Riffraff\",\"Bent-beak Riffraff\",\"Bent-beak Riffraff\",\"Bent-beak Riffraff\",\"Bent-beak Riffraff\",\"Bent-beak Riffraff\",\"Bent-beak Riffraff\",\"Bent-beak Riffraff\",\"Bent-beak Riffraff\",\"Bent-beak Riffraff\",\"Bent-beak Riffraff\",\"Bent-beak Riffraff\",\"Bent-beak Riffraff\",\"Bent-beak Riffraff\",\"Bent-beak Riffraff\",\"Bent-beak Riffraff\",\"Bent-beak Riffraff\",\"Bent-beak Riffraff\",\"Bent-beak Riffraff\",\"Bent-beak Riffraff\",\"Bent-beak Riffraff\",\"Bent-beak Riffraff\",\"Bent-beak Riffraff\",\"Bent-beak Riffraff\",\"Bent-beak Riffraff\",\"Bent-beak Riffraff\",\"Bent-beak Riffraff\",\"Bent-beak Riffraff\",\"Bent-beak Riffraff\",\"Bent-beak Riffraff\",\"Bent-beak Riffraff\",\"Bent-beak Riffraff\",\"Bent-beak Riffraff\",\"Bent-beak Riffraff\",\"Bent-beak Riffraff\",\"Bent-beak Riffraff\",\"Bent-beak Riffraff\",\"Bent-beak Riffraff\",\"Bent-beak Riffraff\",\"Bent-beak Riffraff\",\"Bent-beak Riffraff\",\"Bent-beak Riffraff\",\"Bent-beak Riffraff\",\"Bent-beak Riffraff\",\"Bent-beak Riffraff\",\"Bent-beak Riffraff\",\"Bent-beak Riffraff\",\"Bent-beak Riffraff\",\"Bent-beak Riffraff\",\"Bent-beak Riffraff\",\"Bent-beak Riffraff\",\"Bent-beak Riffraff\",\"Bent-beak Riffraff\",\"Bent-beak Riffraff\",\"Bent-beak Riffraff\",\"Bent-beak Riffraff\",\"Bent-beak Riffraff\",\"Bent-beak Riffraff\",\"Bent-beak Riffraff\",\"Bent-beak Riffraff\",\"Bent-beak Riffraff\",\"Bent-beak Riffraff\",\"Bent-beak Riffraff\",\"Bent-beak Riffraff\",\"Bent-beak Riffraff\",\"Bent-beak Riffraff\",\"Bent-beak Riffraff\",\"Bent-beak Riffraff\",\"Bent-beak Riffraff\",\"Bent-beak Riffraff\"],\"x\":{\"__ndarray__\":\"5zA6QTGrNUEF1y5BNvo5QZjsKkHCsC9BpXcmQe0+LEEooSxBZHctQXQ7OkEb2zpBeqQqQUVqMkFJQiZBzDUxQWjsNUEL8jtBWag9QY+DLUF+W01B8GUzQV85O0HqADBB2P4yQRLkM0FbVTNBuuNCQS7piUE3vEFBxZUxQS7PMkErnTlBqTZLQZ03MkHh/6dBS4wsQTOnKkEoijFBOKM/QfAJO0FavTBBGYQ8QV8PLEEV/UVBCQ8xQQg0QUHk3TBBxwQxQRoYWEHXNjtBnus/QUPDKEEvfTNBsHsuQYbfK0HFOEtBFesuQVKvJ0EW+UdBTKeXQQe9OUEhEFhB7I85QW7COkFAVzNBoN4vQVmkLkHxFFhBJrylQaYpqkE=\",\"dtype\":\"float32\",\"shape\":[71]},\"y\":{\"__ndarray__\":\"wBVBQWbCY0GvvFdB2F1dQZkhZUF1GlRBk71qQaTCYEFzQ1lBZD9fQdQ0QEFcMENBKmtcQRPiUEFhRmhBJ5ZRQXcbUUF5SUdBP25PQbAsXkHpmjxBYz1uQSdtd0H4Y2FBIABXQSufTkGjPlBBujg/QQNDJ0EE1GNBB2FaQQiwWkEKyEFBlEFuQXPtWkFNr4lBMb1fQbRNXkFjHlVBGe1OQZzCQkF4tlZBrFZEQWsoYEHmrFZBT45iQV38WUHxQFRBDkFSQZLFcEGHlVxB7NdVQW/rXEEkp1VBjeRfQYfCXkGUKTxBXLOAQVL0X0G3HFtBTudqQW4mQEGx13NBxp9VQcVSQkHk5VBB+ApTQWLWW0F3VXRBO2CHQeXTh0E=\",\"dtype\":\"float32\",\"shape\":[71]}},\"selected\":{\"id\":\"80338885-b90f-4ea4-9e2b-384ce6faa49f\",\"type\":\"Selection\"},\"selection_policy\":{\"id\":\"93081023-e235-41ae-aea6-b03f817aac4a\",\"type\":\"UnionRenderers\"}},\"id\":\"2d76e013-8018-4de9-862c-cfb5b496cc3f\",\"type\":\"ColumnDataSource\"},{\"attributes\":{},\"id\":\"287b17db-eb71-4a90-9580-1cd7758cc3ab\",\"type\":\"Selection\"},{\"attributes\":{\"label\":{\"value\":\"Carries Champagne Pipit\"},\"renderers\":[{\"id\":\"f5003651-680b-410a-9d57-38156e2537d5\",\"type\":\"GlyphRenderer\"}]},\"id\":\"04cb67c2-fcc2-4af8-a7f1-1781e7e97dc0\",\"type\":\"LegendItem\"},{\"attributes\":{\"source\":{\"id\":\"6530e1e4-cc5a-4737-858b-9d2aceabc3dc\",\"type\":\"ColumnDataSource\"}},\"id\":\"e033cfbb-8d99-4157-9a03-4c696493e50d\",\"type\":\"CDSView\"},{\"attributes\":{\"label\":{\"value\":\"Broad-winged Jojo\"},\"renderers\":[{\"id\":\"92732f32-37cb-4a59-a859-397c2027f79f\",\"type\":\"GlyphRenderer\"}]},\"id\":\"e82f5dd8-3624-4b81-8b17-496a04c21735\",\"type\":\"LegendItem\"},{\"attributes\":{\"label\":{\"value\":\"Blue-collared Zipper\"},\"renderers\":[{\"id\":\"775bd1c5-4f5e-43c0-a996-703f3c00d6df\",\"type\":\"GlyphRenderer\"}]},\"id\":\"ec1af1de-8041-47ff-bd92-5dcb6d46e9db\",\"type\":\"LegendItem\"},{\"attributes\":{\"label\":{\"value\":\"Darkwing Sparrow\"},\"renderers\":[{\"id\":\"90269917-cfa8-4ba7-81da-0608ace49d4b\",\"type\":\"GlyphRenderer\"}]},\"id\":\"162b9c63-6cdc-4919-9d8b-8435227be64b\",\"type\":\"LegendItem\"},{\"attributes\":{\"label\":{\"value\":\"Green-tipped Scarlet Pipit\"},\"renderers\":[{\"id\":\"c376eae8-1efa-4a70-84ce-3f40bfd29b9c\",\"type\":\"GlyphRenderer\"}]},\"id\":\"24c793d4-11a1-4fe1-9f00-8fdeccc06ff7\",\"type\":\"LegendItem\"},{\"attributes\":{},\"id\":\"a8df3063-5042-43d4-a0ce-dfdd3bd23bff\",\"type\":\"Selection\"},{\"attributes\":{},\"id\":\"0fbb89b7-1ac5-4a20-bdf6-07a8769e637a\",\"type\":\"UnionRenderers\"},{\"attributes\":{\"label\":{\"value\":\"Eastern Corn Skeet\"},\"renderers\":[{\"id\":\"daf2b972-05c7-44b7-a091-7f58c955f97f\",\"type\":\"GlyphRenderer\"}]},\"id\":\"d4bde34b-78e5-4207-b731-6eaf639f987c\",\"type\":\"LegendItem\"},{\"attributes\":{\"label\":{\"value\":\"Ordinary Snape\"},\"renderers\":[{\"id\":\"a44d7b03-eaf4-4ebd-9e92-9099193d5303\",\"type\":\"GlyphRenderer\"}]},\"id\":\"6a880b22-ad18-4f65-bf10-9334a1700e6c\",\"type\":\"LegendItem\"},{\"attributes\":{\"label\":{\"value\":\"Lesser Birchbeere\"},\"renderers\":[{\"id\":\"e9f0c932-2fee-4705-9d0b-8a9785f1ff1f\",\"type\":\"GlyphRenderer\"}]},\"id\":\"4bd5337f-19d5-4573-b54b-233d3f7f563c\",\"type\":\"LegendItem\"},{\"attributes\":{},\"id\":\"ae5bdb8e-7de3-4560-b23b-28a63ac9b831\",\"type\":\"UnionRenderers\"},{\"attributes\":{},\"id\":\"93081023-e235-41ae-aea6-b03f817aac4a\",\"type\":\"UnionRenderers\"},{\"attributes\":{\"label\":{\"value\":\"Orange Pine Plover\"},\"renderers\":[{\"id\":\"497f43b0-f8c5-4487-a79c-a1f985de1897\",\"type\":\"GlyphRenderer\"}]},\"id\":\"3b0ccb93-5df3-4c6a-8a3b-a73c1fed54db\",\"type\":\"LegendItem\"},{\"attributes\":{},\"id\":\"4b818e19-3718-49fe-b39d-d24d8630d163\",\"type\":\"Selection\"},{\"attributes\":{\"label\":{\"value\":\"Qax\"},\"renderers\":[{\"id\":\"50698259-1556-46cd-8e22-5f3f1858b8e8\",\"type\":\"GlyphRenderer\"}]},\"id\":\"12b14311-7662-4f8e-a566-87279c3ba3d5\",\"type\":\"LegendItem\"},{\"attributes\":{\"label\":{\"value\":\"Purple Tooting Tout\"},\"renderers\":[{\"id\":\"7a348bf9-b0aa-40fd-b4aa-0f099563e221\",\"type\":\"GlyphRenderer\"}]},\"id\":\"f960c526-864f-41b3-92ff-f898f0fa77e1\",\"type\":\"LegendItem\"},{\"attributes\":{\"label\":{\"value\":\"Pinkfinch\"},\"renderers\":[{\"id\":\"072e435b-d1f2-4980-befd-12b1c5368ffc\",\"type\":\"GlyphRenderer\"}]},\"id\":\"571c8682-8cb1-4df0-9f8d-e1a5049282ba\",\"type\":\"LegendItem\"},{\"attributes\":{},\"id\":\"b7176679-b667-4aaf-853b-8342d55a8b6e\",\"type\":\"UnionRenderers\"},{\"attributes\":{},\"id\":\"eb0c79ed-cdde-478c-8e3d-0b265021b9ee\",\"type\":\"Selection\"},{\"attributes\":{\"data_source\":{\"id\":\"40842bdc-b083-4746-8baa-9d01cc01bdde\",\"type\":\"ColumnDataSource\"},\"glyph\":{\"id\":\"17230ae3-08ab-4174-b75e-7dd66f3b78a2\",\"type\":\"Circle\"},\"hover_glyph\":null,\"muted_glyph\":null,\"nonselection_glyph\":{\"id\":\"902e39cc-cef9-4176-8012-30e2d1e6b207\",\"type\":\"Circle\"},\"selection_glyph\":null,\"view\":{\"id\":\"b01eb6d1-63cb-4ed8-80a3-351dc9ba3784\",\"type\":\"CDSView\"}},\"id\":\"580c79dd-ef42-4343-ab9a-7458f457f341\",\"type\":\"GlyphRenderer\"},{\"attributes\":{\"fill_alpha\":{\"value\":0.1},\"fill_color\":{\"value\":\"#1f77b4\"},\"line_alpha\":{\"value\":0.1},\"line_color\":{\"value\":\"#1f77b4\"},\"size\":{\"units\":\"screen\",\"value\":5},\"x\":{\"field\":\"x\"},\"y\":{\"field\":\"y\"}},\"id\":\"a60ff818-1cbb-49be-8971-a2859d8059ae\",\"type\":\"Circle\"},{\"attributes\":{\"label\":{\"value\":\"Queenscoat\"},\"renderers\":[{\"id\":\"4e0e9e24-cf23-4d2a-a29c-1c5f9d1b7692\",\"type\":\"GlyphRenderer\"}]},\"id\":\"9cab5598-f846-415c-b8d6-7e6c1ebe5064\",\"type\":\"LegendItem\"},{\"attributes\":{},\"id\":\"487d4433-d184-420b-b32f-155b2720948a\",\"type\":\"UnionRenderers\"},{\"attributes\":{\"label\":{\"value\":\"Bent-beak Riffraff\"},\"renderers\":[{\"id\":\"0d0b44b3-8285-4514-bd5a-b67f37aed753\",\"type\":\"GlyphRenderer\"}]},\"id\":\"e3a13fbb-4721-4eea-9ce4-5d6c5187662b\",\"type\":\"LegendItem\"},{\"attributes\":{\"label\":{\"value\":\"Kasios Test Bird\"},\"renderers\":[{\"id\":\"580c79dd-ef42-4343-ab9a-7458f457f341\",\"type\":\"GlyphRenderer\"}]},\"id\":\"f56cb711-427c-4999-a391-eeab481a6f3c\",\"type\":\"LegendItem\"},{\"attributes\":{\"label\":{\"value\":\"Scrawny Jay\"},\"renderers\":[{\"id\":\"107e6841-1b69-48ae-8151-90c568b3f02b\",\"type\":\"GlyphRenderer\"}]},\"id\":\"5eb60e77-16ad-4586-b3c4-5f40357660ef\",\"type\":\"LegendItem\"},{\"attributes\":{},\"id\":\"5d4af5aa-acc6-44c6-805e-997e98aa63cf\",\"type\":\"Selection\"},{\"attributes\":{\"label\":{\"value\":\"Vermillion Trillian\"},\"renderers\":[{\"id\":\"45a34ff2-7264-43e7-8175-237c8af43762\",\"type\":\"GlyphRenderer\"}]},\"id\":\"cddacc8f-3859-49d9-ab45-f95162a6108f\",\"type\":\"LegendItem\"},{\"attributes\":{},\"id\":\"0ecc3260-ae7e-48d8-9648-7993ba265b6d\",\"type\":\"Selection\"},{\"attributes\":{},\"id\":\"fe3bbbee-d41a-4ee8-82f2-04f048458d6a\",\"type\":\"Selection\"},{\"attributes\":{},\"id\":\"be8e3e72-1233-40f2-a13d-7f5e8106ee99\",\"type\":\"UnionRenderers\"},{\"attributes\":{},\"id\":\"05c48d27-b7e2-4aaf-a0b3-63c443bd5110\",\"type\":\"Selection\"},{\"attributes\":{},\"id\":\"7670fe59-7def-4d8e-b3e0-1c238bce5a12\",\"type\":\"UnionRenderers\"},{\"attributes\":{},\"id\":\"ef8a1893-2e71-4923-8b87-28e16c80e0d9\",\"type\":\"UnionRenderers\"},{\"attributes\":{},\"id\":\"b915ab87-7c7d-48a1-a632-98605ff2b3b5\",\"type\":\"UnionRenderers\"},{\"attributes\":{},\"id\":\"a57e7373-716f-48ec-bd22-60f036613cfe\",\"type\":\"Selection\"},{\"attributes\":{\"formatter\":{\"id\":\"cf543514-0404-40be-aee4-d4dad0d4296c\",\"type\":\"BasicTickFormatter\"},\"plot\":{\"id\":\"0c442e89-95f0-45bb-9978-cde3b2988620\",\"subtype\":\"Figure\",\"type\":\"Plot\"},\"ticker\":{\"id\":\"17ac3860-b361-4305-b6eb-ee7d79f95d29\",\"type\":\"BasicTicker\"}},\"id\":\"ebbadb60-be6f-4996-9808-3e0255ee2794\",\"type\":\"LinearAxis\"},{\"attributes\":{},\"id\":\"1ef0e9d7-1771-40f7-a4f6-e633fec8aa0c\",\"type\":\"Selection\"},{\"attributes\":{},\"id\":\"e54d198e-35de-49b3-9e04-93a231314ffd\",\"type\":\"Selection\"},{\"attributes\":{},\"id\":\"fefa5d69-131c-4bf9-8d8f-8ad0192f30dd\",\"type\":\"UnionRenderers\"},{\"attributes\":{},\"id\":\"2a5f14f8-e2e2-4630-b0bb-8658312530f8\",\"type\":\"UnionRenderers\"},{\"attributes\":{},\"id\":\"959268fa-5392-4f03-83da-b5166b57763f\",\"type\":\"BasicTickFormatter\"},{\"attributes\":{},\"id\":\"bbd85155-9ae5-4035-85d4-17fe46d104e1\",\"type\":\"UnionRenderers\"},{\"attributes\":{\"source\":{\"id\":\"40842bdc-b083-4746-8baa-9d01cc01bdde\",\"type\":\"ColumnDataSource\"}},\"id\":\"8c9f29e0-0240-47d7-b52e-c91ea6f2d682\",\"type\":\"CDSView\"},{\"attributes\":{},\"id\":\"b07f43bb-e5ea-44ce-94cc-896324abc0d3\",\"type\":\"UnionRenderers\"},{\"attributes\":{\"label\":{\"value\":\"Rose-crested Blue Pipit\"},\"renderers\":[{\"id\":\"93efd6cc-8f72-4205-aaee-b3ef0cbaf8f2\",\"type\":\"GlyphRenderer\"}]},\"id\":\"a083f819-3c40-490f-b275-d55fd6f9498b\",\"type\":\"LegendItem\"},{\"attributes\":{\"fill_alpha\":{\"value\":0.1},\"fill_color\":{\"value\":\"#1f77b4\"},\"line_alpha\":{\"value\":0.1},\"line_color\":{\"value\":\"#1f77b4\"},\"size\":{\"units\":\"screen\",\"value\":5},\"x\":{\"field\":\"x\"},\"y\":{\"field\":\"y\"}},\"id\":\"5c3917be-8e95-4142-825d-81165a054034\",\"type\":\"Circle\"},{\"attributes\":{\"source\":{\"id\":\"40842bdc-b083-4746-8baa-9d01cc01bdde\",\"type\":\"ColumnDataSource\"}},\"id\":\"b01eb6d1-63cb-4ed8-80a3-351dc9ba3784\",\"type\":\"CDSView\"},{\"attributes\":{\"data_source\":{\"id\":\"40842bdc-b083-4746-8baa-9d01cc01bdde\",\"type\":\"ColumnDataSource\"},\"glyph\":{\"id\":\"4ec8ee08-994e-451d-bdf1-07d289337564\",\"type\":\"Text\"},\"hover_glyph\":null,\"muted_glyph\":null,\"nonselection_glyph\":{\"id\":\"1af47e4c-cfbf-4e41-8e33-3e74c2e8ed26\",\"type\":\"Text\"},\"selection_glyph\":null,\"view\":{\"id\":\"8c9f29e0-0240-47d7-b52e-c91ea6f2d682\",\"type\":\"CDSView\"}},\"id\":\"3edc7354-b41f-475b-8e19-85e9802d55cf\",\"type\":\"GlyphRenderer\"},{\"attributes\":{\"callback\":null,\"data\":{\"index\":[669,670,671,672,673,674,675,676,677,678,679,680,681,682,683,684,685,686,687,688,689,690,691,692,693,694,695,696,697,698,699,700,701,702,703,704,705,706,707,708,709,710,711,712,713,714,715,716,717,718,719,720,721,722,723,724,725,726,727,728,729,730,731,732,733,734,735,736,737,738,739,740,741,742,743,744,745,746,747,748,749,750,751,752,753,754],\"kasios_index\":{\"__ndarray__\":\"AAAAAAAA+H8AAAAAAAD4fwAAAAAAAPh/AAAAAAAA+H8AAAAAAAD4fwAAAAAAAPh/AAAAAAAA+H8AAAAAAAD4fwAAAAAAAPh/AAAAAAAA+H8AAAAAAAD4fwAAAAAAAPh/AAAAAAAA+H8AAAAAAAD4fwAAAAAAAPh/AAAAAAAA+H8AAAAAAAD4fwAAAAAAAPh/AAAAAAAA+H8AAAAAAAD4fwAAAAAAAPh/AAAAAAAA+H8AAAAAAAD4fwAAAAAAAPh/AAAAAAAA+H8AAAAAAAD4fwAAAAAAAPh/AAAAAAAA+H8AAAAAAAD4fwAAAAAAAPh/AAAAAAAA+H8AAAAAAAD4fwAAAAAAAPh/AAAAAAAA+H8AAAAAAAD4fwAAAAAAAPh/AAAAAAAA+H8AAAAAAAD4fwAAAAAAAPh/AAAAAAAA+H8AAAAAAAD4fwAAAAAAAPh/AAAAAAAA+H8AAAAAAAD4fwAAAAAAAPh/AAAAAAAA+H8AAAAAAAD4fwAAAAAAAPh/AAAAAAAA+H8AAAAAAAD4fwAAAAAAAPh/AAAAAAAA+H8AAAAAAAD4fwAAAAAAAPh/AAAAAAAA+H8AAAAAAAD4fwAAAAAAAPh/AAAAAAAA+H8AAAAAAAD4fwAAAAAAAPh/AAAAAAAA+H8AAAAAAAD4fwAAAAAAAPh/AAAAAAAA+H8AAAAAAAD4fwAAAAAAAPh/AAAAAAAA+H8AAAAAAAD4fwAAAAAAAPh/AAAAAAAA+H8AAAAAAAD4fwAAAAAAAPh/AAAAAAAA+H8AAAAAAAD4fwAAAAAAAPh/AAAAAAAA+H8AAAAAAAD4fwAAAAAAAPh/AAAAAAAA+H8AAAAAAAD4fwAAAAAAAPh/AAAAAAAA+H8AAAAAAAD4fwAAAAAAAPh/AAAAAAAA+H8AAAAAAAD4fw==\",\"dtype\":\"float64\",\"shape\":[86]},\"specie\":[\"Darkwing Sparrow\",\"Darkwing Sparrow\",\"Darkwing Sparrow\",\"Darkwing Sparrow\",\"Darkwing Sparrow\",\"Darkwing Sparrow\",\"Darkwing Sparrow\",\"Darkwing Sparrow\",\"Darkwing Sparrow\",\"Darkwing Sparrow\",\"Darkwing Sparrow\",\"Darkwing Sparrow\",\"Darkwing Sparrow\",\"Darkwing Sparrow\",\"Darkwing Sparrow\",\"Darkwing Sparrow\",\"Darkwing Sparrow\",\"Darkwing Sparrow\",\"Darkwing Sparrow\",\"Darkwing Sparrow\",\"Darkwing Sparrow\",\"Darkwing Sparrow\",\"Darkwing Sparrow\",\"Darkwing Sparrow\",\"Darkwing Sparrow\",\"Darkwing Sparrow\",\"Darkwing Sparrow\",\"Darkwing Sparrow\",\"Darkwing Sparrow\",\"Darkwing Sparrow\",\"Darkwing Sparrow\",\"Darkwing Sparrow\",\"Darkwing Sparrow\",\"Darkwing Sparrow\",\"Darkwing Sparrow\",\"Darkwing Sparrow\",\"Darkwing Sparrow\",\"Darkwing Sparrow\",\"Darkwing Sparrow\",\"Darkwing Sparrow\",\"Darkwing Sparrow\",\"Darkwing Sparrow\",\"Darkwing Sparrow\",\"Darkwing Sparrow\",\"Darkwing Sparrow\",\"Darkwing Sparrow\",\"Darkwing Sparrow\",\"Darkwing Sparrow\",\"Darkwing Sparrow\",\"Darkwing Sparrow\",\"Darkwing Sparrow\",\"Darkwing Sparrow\",\"Darkwing Sparrow\",\"Darkwing Sparrow\",\"Darkwing Sparrow\",\"Darkwing Sparrow\",\"Darkwing Sparrow\",\"Darkwing Sparrow\",\"Darkwing Sparrow\",\"Darkwing Sparrow\",\"Darkwing Sparrow\",\"Darkwing Sparrow\",\"Darkwing Sparrow\",\"Darkwing Sparrow\",\"Darkwing Sparrow\",\"Darkwing Sparrow\",\"Darkwing Sparrow\",\"Darkwing Sparrow\",\"Darkwing Sparrow\",\"Darkwing Sparrow\",\"Darkwing Sparrow\",\"Darkwing Sparrow\",\"Darkwing Sparrow\",\"Darkwing Sparrow\",\"Darkwing Sparrow\",\"Darkwing Sparrow\",\"Darkwing Sparrow\",\"Darkwing Sparrow\",\"Darkwing Sparrow\",\"Darkwing Sparrow\",\"Darkwing Sparrow\",\"Darkwing Sparrow\",\"Darkwing Sparrow\",\"Darkwing Sparrow\",\"Darkwing Sparrow\",\"Darkwing Sparrow\"],\"x\":{\"__ndarray__\":\"xUWFQWevmEExIFpBGd+nQRllYEFPCppBZcAoQabAXEERzlpBSzhaQfo2T0HA91hBiVRDQbWWSkE73lFBMG9vQQD+oEFSnn9BrH9MQVpidkH3DCZBgCJQQU4SWEFxmIBBK9k1QUJ2iUH01GBBdEhGQWjGUkEZxIVBxEBpQdpjgEHgN0xBIk1nQd3IjUFpPU9B+wNdQWy9lkEqTWxBtxdtQf48pEEZm2ZBbshKQQYBjkEAtVpBahlJQcGCXEHihTdB9JtIQT/RUkFNjk1BQAVXQeOWWkEcp09BFRpaQQZYRkFB8mRB5MF3Qb8ELEHOaopBMoaGQU9+SkFKsHFBkdZvQT6hXUGYwFZBpz9bQZ82hUGupoBBX/CFQQ/qX0G5/FZBnIZOQQQVTEFevF5BZE0kQYlGT0GmQCZBj7BaQWccY0H3d5JBRZuPQfEKbUFBX2NBRPlsQVCrXUE=\",\"dtype\":\"float32\",\"shape\":[86]},\"y\":{\"__ndarray__\":\"8kwzQdNhW0FhkDJByXlsQZr+N0FCiWZBoR5nQYI9NUHQujJBP1IyQcyDSkHhijRBSxlOQeeiW0GHDUpBFtIyQasbc0FuA0tBttleQSv8NUESUGRB/RZKQUkRNEHwU0ZBuDhOQaMQP0E9iTFBNcVpQfSVUUHt60VBQb44Qet3WEH4kU9ByFI1QYKYQEFrYUtBuMc4QVI7cEGTsTJBvEw3QeCFbEEsp1RBQP+NQf9ZVkFyQTZBBg9TQd6tVUEAGVlBfb1QQWtOSUGXmkpB2sg0QcM1MkGTAUdBNOIyQYN9XkGqbDFBaXI1QbePW0Gz/SZBsp9CQb6HX0GeODdBdZwzQbj6iEFLdj1B3ngzQY7cMkENtTtB4IM0QWATNkEvkjRB5PBKQVaZUEFG+zRBtudlQT7aRkGmsINBWmQxQYaJMUHHV1RBlpdJQTvMNkEx7DFBqtszQTztNUE=\",\"dtype\":\"float32\",\"shape\":[86]}},\"selected\":{\"id\":\"05c48d27-b7e2-4aaf-a0b3-63c443bd5110\",\"type\":\"Selection\"},\"selection_policy\":{\"id\":\"7670fe59-7def-4d8e-b3e0-1c238bce5a12\",\"type\":\"UnionRenderers\"}},\"id\":\"0c29b4da-06fb-4f7e-a4f8-b8c57bcd2fb5\",\"type\":\"ColumnDataSource\"},{\"attributes\":{},\"id\":\"b76a55d3-70a7-47f9-8a14-90bc6de14480\",\"type\":\"Selection\"},{\"attributes\":{\"fill_alpha\":{\"value\":0.6},\"fill_color\":{\"field\":\"specie\",\"transform\":{\"id\":\"57b3006a-fb74-499d-b328-2f993b3973b8\",\"type\":\"CategoricalColorMapper\"}},\"line_alpha\":{\"value\":0.6},\"line_color\":{\"field\":\"specie\",\"transform\":{\"id\":\"57b3006a-fb74-499d-b328-2f993b3973b8\",\"type\":\"CategoricalColorMapper\"}},\"size\":{\"units\":\"screen\",\"value\":5},\"x\":{\"field\":\"x\"},\"y\":{\"field\":\"y\"}},\"id\":\"6923ec53-0d60-47dc-962a-ab94e34252e4\",\"type\":\"Circle\"},{\"attributes\":{},\"id\":\"195ec37f-126f-466c-8778-5e4a5738dc20\",\"type\":\"UnionRenderers\"},{\"attributes\":{\"text\":{\"field\":\"kasios_index\"},\"text_alpha\":{\"value\":0.1},\"text_color\":{\"value\":\"black\"},\"text_font_size\":{\"value\":\"10pt\"},\"x\":{\"field\":\"x\"},\"x_offset\":{\"value\":-5},\"y\":{\"field\":\"y\"},\"y_offset\":{\"value\":8}},\"id\":\"1af47e4c-cfbf-4e41-8e33-3e74c2e8ed26\",\"type\":\"Text\"},{\"attributes\":{\"data_source\":{\"id\":\"6530e1e4-cc5a-4737-858b-9d2aceabc3dc\",\"type\":\"ColumnDataSource\"},\"glyph\":{\"id\":\"619686f7-d64d-4a67-9dcb-4a3ec6863b74\",\"type\":\"Circle\"},\"hover_glyph\":null,\"muted_glyph\":null,\"nonselection_glyph\":{\"id\":\"a60ff818-1cbb-49be-8971-a2859d8059ae\",\"type\":\"Circle\"},\"selection_glyph\":null,\"view\":{\"id\":\"e033cfbb-8d99-4157-9a03-4c696493e50d\",\"type\":\"CDSView\"}},\"id\":\"4e0e9e24-cf23-4d2a-a29c-1c5f9d1b7692\",\"type\":\"GlyphRenderer\"},{\"attributes\":{\"data_source\":{\"id\":\"2d76e013-8018-4de9-862c-cfb5b496cc3f\",\"type\":\"ColumnDataSource\"},\"glyph\":{\"id\":\"6923ec53-0d60-47dc-962a-ab94e34252e4\",\"type\":\"Circle\"},\"hover_glyph\":null,\"muted_glyph\":null,\"nonselection_glyph\":{\"id\":\"5c3917be-8e95-4142-825d-81165a054034\",\"type\":\"Circle\"},\"selection_glyph\":null,\"view\":{\"id\":\"6ca008d8-42f8-4f76-aaca-989cd411344f\",\"type\":\"CDSView\"}},\"id\":\"0d0b44b3-8285-4514-bd5a-b67f37aed753\",\"type\":\"GlyphRenderer\"},{\"attributes\":{},\"id\":\"1bd9929a-788f-4f02-ab25-f0cced86f860\",\"type\":\"Selection\"},{\"attributes\":{\"text\":{\"field\":\"kasios_index\"},\"text_color\":{\"value\":\"white\"},\"text_font_size\":{\"value\":\"10pt\"},\"x\":{\"field\":\"x\"},\"x_offset\":{\"value\":-5},\"y\":{\"field\":\"y\"},\"y_offset\":{\"value\":8}},\"id\":\"4ec8ee08-994e-451d-bdf1-07d289337564\",\"type\":\"Text\"},{\"attributes\":{},\"id\":\"2e5b0e08-2532-4f96-a897-9055bf42e418\",\"type\":\"UnionRenderers\"},{\"attributes\":{},\"id\":\"cbfc3a45-c0d0-4780-8e39-f8650d0f0c29\",\"type\":\"BasicTicker\"},{\"attributes\":{},\"id\":\"d84ae62d-a987-4500-b589-fe6d5d85f160\",\"type\":\"UnionRenderers\"},{\"attributes\":{},\"id\":\"3d86e62f-92b3-4554-91c1-3e7aa72598b2\",\"type\":\"Selection\"},{\"attributes\":{},\"id\":\"5fbfff58-8c9b-4f47-97ae-f72d2a891d62\",\"type\":\"Selection\"}],\"root_ids\":[\"0c442e89-95f0-45bb-9978-cde3b2988620\"]},\"title\":\"Bokeh Application\",\"version\":\"0.13.0\"}};\n",
       "  var render_items = [{\"docid\":\"ba7f2e8a-84ad-4923-9079-14c3d7efc64a\",\"roots\":{\"0c442e89-95f0-45bb-9978-cde3b2988620\":\"547f3547-8cf9-489d-bb70-1c033512e689\"}}];\n",
       "  root.Bokeh.embed.embed_items_notebook(docs_json, render_items);\n",
       "\n",
       "  }\n",
       "  if (root.Bokeh !== undefined) {\n",
       "    embed_document(root);\n",
       "  } else {\n",
       "    var attempts = 0;\n",
       "    var timer = setInterval(function(root) {\n",
       "      if (root.Bokeh !== undefined) {\n",
       "        embed_document(root);\n",
       "        clearInterval(timer);\n",
       "      }\n",
       "      attempts++;\n",
       "      if (attempts > 100) {\n",
       "        console.log(\"Bokeh: ERROR: Unable to run BokehJS code because BokehJS library is missing\")\n",
       "        clearInterval(timer);\n",
       "      }\n",
       "    }, 10, root)\n",
       "  }\n",
       "})(window);"
      ],
      "application/vnd.bokehjs_exec.v0+json": ""
     },
     "metadata": {
      "application/vnd.bokehjs_exec.v0+json": {
       "id": "0c442e89-95f0-45bb-9978-cde3b2988620"
      }
     },
     "output_type": "display_data"
    }
   ],
   "source": [
    "df_umap = pd.DataFrame(embedding, columns=('x', 'y'))\n",
    "df_umap['specie'] = [specie for specie in Y] + ['Kasios Test Bird' for i in range(15)]\n",
    "df_umap['kasios_index'] = [None for i in Y] + [i for i in range(1, 16)]\n",
    "\n",
    "\n",
    "plot_figure = figure(\n",
    "    title='UMAP projection of the birds songs',\n",
    "    plot_width=800,\n",
    "    plot_height=600,\n",
    "    tools=('pan, wheel_zoom, reset'), \n",
    "    toolbar_location='above'\n",
    ")\n",
    "\n",
    "color_mapping = CategoricalColorMapper(factors=df_umap['specie'].unique(),\n",
    "                                       palette=Category20[20])\n",
    "\n",
    "plot_figure.add_tools(HoverTool(tooltips=\"\"\"\n",
    "<div>\n",
    "    <div>\n",
    "        <span style='font-size: 13px; color: #224499'>Specie:</span>\n",
    "        <span style='font-size: 13px'>@specie</span>\n",
    "    </div>\n",
    "</div>\n",
    "\"\"\"))\n",
    "\n",
    "legend_items = []\n",
    "\n",
    "for specie in df_umap['specie'].unique():\n",
    "    datasource = ColumnDataSource(df_umap.loc[df_umap['specie'] == specie])\n",
    "    if specie == 'Kasios Test Bird':\n",
    "        c = plot_figure.circle('x', 'y', source=datasource, color='black',\n",
    "                               line_alpha=0.7, fill_alpha=0.7, size=20)\n",
    "\n",
    "        plot_figure.text('x', 'y', text='kasios_index', x_offset=-5, y_offset=8,\n",
    "                         source=datasource, text_font_size='10pt', text_color='white')\n",
    "    else:\n",
    "        c = plot_figure.circle('x', 'y', source=datasource,\n",
    "                               color=dict(field='specie', transform=color_mapping),\n",
    "                               line_alpha=0.6, fill_alpha=0.6, size=5)\n",
    "        \n",
    "    legend_items.append((specie, [c]))\n",
    "    \n",
    "\n",
    "legend = Legend(items=legend_items, location=(30, 50))\n",
    "legend.click_policy = 'hide'\n",
    "plot_figure.add_layout(legend, 'right')\n",
    "\n",
    "show(plot_figure)"
   ]
  },
  {
   "cell_type": "code",
   "execution_count": 10,
   "metadata": {
    "ExecuteTime": {
     "end_time": "2018-12-01T10:29:24.347369Z",
     "start_time": "2018-12-01T10:29:24.137998Z"
    }
   },
   "outputs": [
    {
     "data": {
      "text/html": [
       "\n",
       "\n",
       "\n",
       "\n",
       "\n",
       "\n",
       "  <div class=\"bk-root\" id=\"2e842862-a341-4800-831b-709afbd706d6\"></div>\n"
      ]
     },
     "metadata": {},
     "output_type": "display_data"
    },
    {
     "data": {
      "application/javascript": [
       "(function(root) {\n",
       "  function embed_document(root) {\n",
       "    \n",
       "  var docs_json = {\"b8094a21-099e-4cb1-acc4-006a82c1c501\":{\"roots\":{\"references\":[{\"attributes\":{\"fill_alpha\":{\"value\":0.1},\"fill_color\":{\"value\":\"#1f77b4\"},\"line_alpha\":{\"value\":0.1},\"line_color\":{\"value\":\"#1f77b4\"},\"size\":{\"units\":\"screen\",\"value\":5},\"x\":{\"field\":\"x\"},\"y\":{\"field\":\"y\"}},\"id\":\"5b8cb7ad-4ddb-47b9-bd60-fe448bbe79f8\",\"type\":\"Circle\"},{\"attributes\":{\"fill_alpha\":{\"value\":0.1},\"fill_color\":{\"value\":\"#1f77b4\"},\"line_alpha\":{\"value\":0.1},\"line_color\":{\"value\":\"#1f77b4\"},\"size\":{\"units\":\"screen\",\"value\":5},\"x\":{\"field\":\"x\"},\"y\":{\"field\":\"y\"}},\"id\":\"b3264db5-8a53-4b54-a6cd-aa8d01bb69be\",\"type\":\"Circle\"},{\"attributes\":{},\"id\":\"1dc15e8d-42c4-41ed-88cb-c9cbe99964aa\",\"type\":\"LinearScale\"},{\"attributes\":{},\"id\":\"94f17ad4-939e-46cb-a7d6-9c94644bad07\",\"type\":\"Selection\"},{\"attributes\":{},\"id\":\"c4c95717-e245-4069-add3-e754369ccdc2\",\"type\":\"LinearScale\"},{\"attributes\":{\"fill_alpha\":{\"value\":0.1},\"fill_color\":{\"value\":\"#1f77b4\"},\"line_alpha\":{\"value\":0.1},\"line_color\":{\"value\":\"#1f77b4\"},\"size\":{\"units\":\"screen\",\"value\":5},\"x\":{\"field\":\"x\"},\"y\":{\"field\":\"y\"}},\"id\":\"e57085b1-dabc-4bc7-8be5-19dfd24ed7fc\",\"type\":\"Circle\"},{\"attributes\":{\"source\":{\"id\":\"85ca2dcd-ab81-469a-ba40-90c901b1dfa5\",\"type\":\"ColumnDataSource\"}},\"id\":\"75338490-d9c5-4d09-b45c-deeb5b80f604\",\"type\":\"CDSView\"},{\"attributes\":{},\"id\":\"f9540078-46e4-432b-ac37-e18c87674e59\",\"type\":\"Selection\"},{\"attributes\":{},\"id\":\"12579bcb-0690-4eaa-b38f-1b65e6c0c9c4\",\"type\":\"UnionRenderers\"},{\"attributes\":{},\"id\":\"ffaffbcc-83ec-42af-aee9-8d9a1acc2e29\",\"type\":\"WheelZoomTool\"},{\"attributes\":{},\"id\":\"f8a99805-82c8-402c-ab87-474500c1d2f7\",\"type\":\"Selection\"},{\"attributes\":{\"callback\":null,\"data\":{\"index\":[253,254,255,256,257,258,259,260,261,262,263,264,265,266,267,268,269,270,271,272,273,274,275,276,277,278,279,280,281,282,283,284,285,286,287,288,289,290,291,292,293,294,295,296,297,298,299,300,301,302,303,304,305,306,307,308,309,310,311,312,313,314,315,316,317,318,319,320,321,322,323,324,325,326,327,328,329,330,331,332,333,334,335,336,337,338,339,340,341,342,343,344,345,346,347,348,349,350,351,352,353,354,355,356,357,358,359,360,361,362,363,364,365,366,367,368,369,370,371,372,373,374,375,376,377,378,379,380,381,382,383,384,385,386,387,388,389],\"kasios_index\":{\"__ndarray__\":\"AAAAAAAA+H8AAAAAAAD4fwAAAAAAAPh/AAAAAAAA+H8AAAAAAAD4fwAAAAAAAPh/AAAAAAAA+H8AAAAAAAD4fwAAAAAAAPh/AAAAAAAA+H8AAAAAAAD4fwAAAAAAAPh/AAAAAAAA+H8AAAAAAAD4fwAAAAAAAPh/AAAAAAAA+H8AAAAAAAD4fwAAAAAAAPh/AAAAAAAA+H8AAAAAAAD4fwAAAAAAAPh/AAAAAAAA+H8AAAAAAAD4fwAAAAAAAPh/AAAAAAAA+H8AAAAAAAD4fwAAAAAAAPh/AAAAAAAA+H8AAAAAAAD4fwAAAAAAAPh/AAAAAAAA+H8AAAAAAAD4fwAAAAAAAPh/AAAAAAAA+H8AAAAAAAD4fwAAAAAAAPh/AAAAAAAA+H8AAAAAAAD4fwAAAAAAAPh/AAAAAAAA+H8AAAAAAAD4fwAAAAAAAPh/AAAAAAAA+H8AAAAAAAD4fwAAAAAAAPh/AAAAAAAA+H8AAAAAAAD4fwAAAAAAAPh/AAAAAAAA+H8AAAAAAAD4fwAAAAAAAPh/AAAAAAAA+H8AAAAAAAD4fwAAAAAAAPh/AAAAAAAA+H8AAAAAAAD4fwAAAAAAAPh/AAAAAAAA+H8AAAAAAAD4fwAAAAAAAPh/AAAAAAAA+H8AAAAAAAD4fwAAAAAAAPh/AAAAAAAA+H8AAAAAAAD4fwAAAAAAAPh/AAAAAAAA+H8AAAAAAAD4fwAAAAAAAPh/AAAAAAAA+H8AAAAAAAD4fwAAAAAAAPh/AAAAAAAA+H8AAAAAAAD4fwAAAAAAAPh/AAAAAAAA+H8AAAAAAAD4fwAAAAAAAPh/AAAAAAAA+H8AAAAAAAD4fwAAAAAAAPh/AAAAAAAA+H8AAAAAAAD4fwAAAAAAAPh/AAAAAAAA+H8AAAAAAAD4fwAAAAAAAPh/AAAAAAAA+H8AAAAAAAD4fwAAAAAAAPh/AAAAAAAA+H8AAAAAAAD4fwAAAAAAAPh/AAAAAAAA+H8AAAAAAAD4fwAAAAAAAPh/AAAAAAAA+H8AAAAAAAD4fwAAAAAAAPh/AAAAAAAA+H8AAAAAAAD4fwAAAAAAAPh/AAAAAAAA+H8AAAAAAAD4fwAAAAAAAPh/AAAAAAAA+H8AAAAAAAD4fwAAAAAAAPh/AAAAAAAA+H8AAAAAAAD4fwAAAAAAAPh/AAAAAAAA+H8AAAAAAAD4fwAAAAAAAPh/AAAAAAAA+H8AAAAAAAD4fwAAAAAAAPh/AAAAAAAA+H8AAAAAAAD4fwAAAAAAAPh/AAAAAAAA+H8AAAAAAAD4fwAAAAAAAPh/AAAAAAAA+H8AAAAAAAD4fwAAAAAAAPh/AAAAAAAA+H8AAAAAAAD4fwAAAAAAAPh/AAAAAAAA+H8AAAAAAAD4fwAAAAAAAPh/AAAAAAAA+H8AAAAAAAD4fwAAAAAAAPh/AAAAAAAA+H8AAAAAAAD4fw==\",\"dtype\":\"float64\",\"shape\":[137]},\"specie\":[\"Bombadil\",\"Bombadil\",\"Bombadil\",\"Bombadil\",\"Bombadil\",\"Bombadil\",\"Bombadil\",\"Bombadil\",\"Bombadil\",\"Bombadil\",\"Bombadil\",\"Bombadil\",\"Bombadil\",\"Bombadil\",\"Bombadil\",\"Bombadil\",\"Bombadil\",\"Bombadil\",\"Bombadil\",\"Bombadil\",\"Bombadil\",\"Bombadil\",\"Bombadil\",\"Bombadil\",\"Bombadil\",\"Bombadil\",\"Bombadil\",\"Bombadil\",\"Bombadil\",\"Bombadil\",\"Bombadil\",\"Bombadil\",\"Bombadil\",\"Bombadil\",\"Bombadil\",\"Bombadil\",\"Bombadil\",\"Bombadil\",\"Bombadil\",\"Bombadil\",\"Bombadil\",\"Bombadil\",\"Bombadil\",\"Bombadil\",\"Bombadil\",\"Bombadil\",\"Bombadil\",\"Bombadil\",\"Bombadil\",\"Bombadil\",\"Bombadil\",\"Bombadil\",\"Bombadil\",\"Bombadil\",\"Bombadil\",\"Bombadil\",\"Bombadil\",\"Bombadil\",\"Bombadil\",\"Bombadil\",\"Bombadil\",\"Bombadil\",\"Bombadil\",\"Bombadil\",\"Bombadil\",\"Bombadil\",\"Bombadil\",\"Bombadil\",\"Bombadil\",\"Bombadil\",\"Bombadil\",\"Bombadil\",\"Bombadil\",\"Bombadil\",\"Bombadil\",\"Bombadil\",\"Bombadil\",\"Bombadil\",\"Bombadil\",\"Bombadil\",\"Bombadil\",\"Bombadil\",\"Bombadil\",\"Bombadil\",\"Bombadil\",\"Bombadil\",\"Bombadil\",\"Bombadil\",\"Bombadil\",\"Bombadil\",\"Bombadil\",\"Bombadil\",\"Bombadil\",\"Bombadil\",\"Bombadil\",\"Bombadil\",\"Bombadil\",\"Bombadil\",\"Bombadil\",\"Bombadil\",\"Bombadil\",\"Bombadil\",\"Bombadil\",\"Bombadil\",\"Bombadil\",\"Bombadil\",\"Bombadil\",\"Bombadil\",\"Bombadil\",\"Bombadil\",\"Bombadil\",\"Bombadil\",\"Bombadil\",\"Bombadil\",\"Bombadil\",\"Bombadil\",\"Bombadil\",\"Bombadil\",\"Bombadil\",\"Bombadil\",\"Bombadil\",\"Bombadil\",\"Bombadil\",\"Bombadil\",\"Bombadil\",\"Bombadil\",\"Bombadil\",\"Bombadil\",\"Bombadil\",\"Bombadil\",\"Bombadil\",\"Bombadil\",\"Bombadil\",\"Bombadil\",\"Bombadil\",\"Bombadil\",\"Bombadil\"],\"x\":{\"__ndarray__\":\"Ri9UQRbGIEHRsVRBcDpGQcxSPUHJHhxB5zoyQRhQh0ERrTxBrWgfQWBUVkFvZiVBUyBZQYX+QUGgeiVBMuQuQWjpQkEw4GVBvk0cQdl5JEHaSiJBz/smQePmHEHbkhlBEFckQVI5PkFLbklBgOcfQY+zGUE8/mFBflCKQRwKNUFJdTVB8IAfQdHEPkENZy9BVbxhQSp1TUFNM0dBC9UcQbbuJUGg7SdB2EKXQXi3S0HAuTZByJNWQVzJjEGin0pB204kQWLMM0HCLDNBdq5HQWO1SEHWI2JBPo40QYBbXEEEeCNBVmtkQfXzYkGpCyRBKpw/QYqWREFrgYNB3UE9QfksHkHvlUZBoK9CQSqVnEGwu2FBmkNxQVrcLEFoXFpBoUc3QYNHGUHwrBpBowM3QUctMEHARx1BZzNBQe7iiUGU6I9BYQN7QYPOR0Fnx0NBjqJGQTG4QEH/UENBkRFDQVw3Q0Fbz1NBlwReQXypQEEuBztB0mVQQRYCUEEfLxxBkKw7QdGPPEH4BB1BWJMbQXyFUUFJYR1BBOkcQelsX0GAT0ZBfjA8QQz6lUEL8zVBi7pbQWmYg0FLdD5BnhYoQbeoSkEblppBygkfQToiQUHUYlhB1OqoQQ8/HkESITJB6jM6QZvcSUEJqItBKNh9QWLfQEEQC5NBPO9VQVcFiUGGgk9BBQ9gQYLBX0EjJzNB9h0+QXLDSUFgsjpBRn5WQeX5TUE=\",\"dtype\":\"float32\",\"shape\":[137]},\"y\":{\"__ndarray__\":\"MimIQSRLekFta4ZBm3GEQfhgiEF0GHFBWvxhQYPGTkGmKWdBTr1pQX69dkEtQGFBrF8yQVebY0HKbYVBmXJwQbVSUUFS+jJBJsB1Qe4hg0FvNoNBGDGEQZvRaEGb4WlBetZnQfEQYUFccWBBdud7QSRKakE/G1BBl1c1QW4dfkGjOYlBeD9nQZQBiUGHjWtBMjA7QUFaSkHkW1NBSkF3QY/bZ0E5oH1BeFhhQb0dTUGAu39BsP5TQSHFWUE3VUlBt5FkQW6ugUGPXohBJ8B3QSauTkGA6EhBZ6p9QTzoYEHQ8WRBMFZJQQ9qOEH8NWNB5Q9fQVvyWkHn8kFBfr1iQQaNeUGVT4RBiK2RQd/lZUECMTdBOp48QaB0hkG9XTFBWjdCQUtea0Gfu2pBqqx/QYQBgkGnHm9BVNJ2QQ/wVkEOp1NBsGJXQYCahEHsQ4xB6yWLQb4fgUGQa31BRvB1QeWsh0F4xHFBXWKKQdsIg0EmeGNBnOBSQd71UEG9ImlBAvZ0QRfMc0GSDGxBDeRpQUeTikE3yW1BzHBrQbjYY0EX/GJBMv9xQU9reUGQNX5Bd19eQVAqY0FrpYBBzw+EQVS2WUHCUmJBRMBuQQoEeUEX7HRBsNmDQTCwZ0FJvnxBgn12QVSyXUFjgWVBwiFQQaAgb0GzDlNBRxmAQcTgYkEoiVRBMhCNQS0Ei0Hdu3RBnnyFQU4ciUFxfHNBJ5pzQYrZbkE=\",\"dtype\":\"float32\",\"shape\":[137]}},\"selected\":{\"id\":\"80af2737-4ec0-41da-ac8e-16736e8982f9\",\"type\":\"Selection\"},\"selection_policy\":{\"id\":\"12579bcb-0690-4eaa-b38f-1b65e6c0c9c4\",\"type\":\"UnionRenderers\"}},\"id\":\"a5c3a610-c485-47bd-8c2d-9d641d2ec7fa\",\"type\":\"ColumnDataSource\"},{\"attributes\":{\"callback\":null,\"data\":{\"index\":[483,484,485,486,487,488,489,490,491,492,493,494,495,496,497,498,499,500,501,502,503,504,505,506,507,508,509,510,511,512,513,514,515,516,517,518,519,520,521,522,523,524,525,526,527,528,529,530,531,532,533,534,535,536,537,538,539,540,541,542,543,544,545,546,547,548,549,550,551,552,553,554,555,556,557,558,559,560,561,562,563,564],\"kasios_index\":{\"__ndarray__\":\"AAAAAAAA+H8AAAAAAAD4fwAAAAAAAPh/AAAAAAAA+H8AAAAAAAD4fwAAAAAAAPh/AAAAAAAA+H8AAAAAAAD4fwAAAAAAAPh/AAAAAAAA+H8AAAAAAAD4fwAAAAAAAPh/AAAAAAAA+H8AAAAAAAD4fwAAAAAAAPh/AAAAAAAA+H8AAAAAAAD4fwAAAAAAAPh/AAAAAAAA+H8AAAAAAAD4fwAAAAAAAPh/AAAAAAAA+H8AAAAAAAD4fwAAAAAAAPh/AAAAAAAA+H8AAAAAAAD4fwAAAAAAAPh/AAAAAAAA+H8AAAAAAAD4fwAAAAAAAPh/AAAAAAAA+H8AAAAAAAD4fwAAAAAAAPh/AAAAAAAA+H8AAAAAAAD4fwAAAAAAAPh/AAAAAAAA+H8AAAAAAAD4fwAAAAAAAPh/AAAAAAAA+H8AAAAAAAD4fwAAAAAAAPh/AAAAAAAA+H8AAAAAAAD4fwAAAAAAAPh/AAAAAAAA+H8AAAAAAAD4fwAAAAAAAPh/AAAAAAAA+H8AAAAAAAD4fwAAAAAAAPh/AAAAAAAA+H8AAAAAAAD4fwAAAAAAAPh/AAAAAAAA+H8AAAAAAAD4fwAAAAAAAPh/AAAAAAAA+H8AAAAAAAD4fwAAAAAAAPh/AAAAAAAA+H8AAAAAAAD4fwAAAAAAAPh/AAAAAAAA+H8AAAAAAAD4fwAAAAAAAPh/AAAAAAAA+H8AAAAAAAD4fwAAAAAAAPh/AAAAAAAA+H8AAAAAAAD4fwAAAAAAAPh/AAAAAAAA+H8AAAAAAAD4fwAAAAAAAPh/AAAAAAAA+H8AAAAAAAD4fwAAAAAAAPh/AAAAAAAA+H8AAAAAAAD4fwAAAAAAAPh/AAAAAAAA+H8=\",\"dtype\":\"float64\",\"shape\":[82]},\"specie\":[\"Canadian Cootamum\",\"Canadian Cootamum\",\"Canadian Cootamum\",\"Canadian Cootamum\",\"Canadian Cootamum\",\"Canadian Cootamum\",\"Canadian Cootamum\",\"Canadian Cootamum\",\"Canadian Cootamum\",\"Canadian Cootamum\",\"Canadian Cootamum\",\"Canadian Cootamum\",\"Canadian Cootamum\",\"Canadian Cootamum\",\"Canadian Cootamum\",\"Canadian Cootamum\",\"Canadian Cootamum\",\"Canadian Cootamum\",\"Canadian Cootamum\",\"Canadian Cootamum\",\"Canadian Cootamum\",\"Canadian Cootamum\",\"Canadian Cootamum\",\"Canadian Cootamum\",\"Canadian Cootamum\",\"Canadian Cootamum\",\"Canadian Cootamum\",\"Canadian Cootamum\",\"Canadian Cootamum\",\"Canadian Cootamum\",\"Canadian Cootamum\",\"Canadian Cootamum\",\"Canadian Cootamum\",\"Canadian Cootamum\",\"Canadian Cootamum\",\"Canadian Cootamum\",\"Canadian Cootamum\",\"Canadian Cootamum\",\"Canadian Cootamum\",\"Canadian Cootamum\",\"Canadian Cootamum\",\"Canadian Cootamum\",\"Canadian Cootamum\",\"Canadian Cootamum\",\"Canadian Cootamum\",\"Canadian Cootamum\",\"Canadian Cootamum\",\"Canadian Cootamum\",\"Canadian Cootamum\",\"Canadian Cootamum\",\"Canadian Cootamum\",\"Canadian Cootamum\",\"Canadian Cootamum\",\"Canadian Cootamum\",\"Canadian Cootamum\",\"Canadian Cootamum\",\"Canadian Cootamum\",\"Canadian Cootamum\",\"Canadian Cootamum\",\"Canadian Cootamum\",\"Canadian Cootamum\",\"Canadian Cootamum\",\"Canadian Cootamum\",\"Canadian Cootamum\",\"Canadian Cootamum\",\"Canadian Cootamum\",\"Canadian Cootamum\",\"Canadian Cootamum\",\"Canadian Cootamum\",\"Canadian Cootamum\",\"Canadian Cootamum\",\"Canadian Cootamum\",\"Canadian Cootamum\",\"Canadian Cootamum\",\"Canadian Cootamum\",\"Canadian Cootamum\",\"Canadian Cootamum\",\"Canadian Cootamum\",\"Canadian Cootamum\",\"Canadian Cootamum\",\"Canadian Cootamum\",\"Canadian Cootamum\"],\"x\":{\"__ndarray__\":\"6jiFQa6SWEFdZohBkT6cQQdnmEHWCJ1B0wOYQcuppEHqlotBf+qOQYeiiEHLzZVBCZujQQzjjUF4+JxBGICIQWL0m0HIQpFBuoOPQchzqkEMMJRBWhCQQTkqj0GFiJFBgTWlQT/3mUG2y4xBq3+kQTVpqkFuCI9Bw2wrQYaWqkFzsY1BMlyeQTBqG0H4DpVBJ9OPQS5CpkH7JqVBRc6cQWhnmUFewJZBoeR2QVzWpEG7fKNB1dyqQfq+qkEQlkJBDxOPQftDKkGNrqpBbFOZQTEbkEFVFZBB8O+HQVUxjEGtD4JBHsGcQcWdpEEQ/o5Bb4d+Qas5LkFMvGNB29GdQXRXnkFcRotBSdekQQoKlUHGqE5BEwyJQenSUkG68oJBHqWoQRpcY0ENY6VBDthfQXYBQEEYV6pBVPmjQQAPQEHhM5xBWuo+QQ==\",\"dtype\":\"float32\",\"shape\":[82]},\"y\":{\"__ndarray__\":\"IhxKQSgzdEGnNytBjh5kQbMiXUFQ7mJBlOVzQSyTYUHC7kVBDhM2QQq+UkFkClxBrHJiQT/mWkGnCGNBC3Q+QeX7ZUFOI1ZB7qU7QaxrYkEU0U9BuYBCQWEFO0HrOERBjpFfQfPXb0Gdgj9BcfpgQV9eYkGr4ThByjF3Qf+TaEH/hTVBXRFjQW/xaUFh11pBlLtXQU1jaEE3LWNBp6xiQTk+a0EIpF9BsQ5RQZhzYUHu+mFBWXRjQeS1ZEH8KIVBsSRRQfZsiUGQgWVBA+ZpQQ1sOEEiuztB6/NjQfrqRkEFOTtBEsplQcAvYEH+lzRBscZeQXVeh0E2a0lBlPhiQY7RYUGVeGNBcJFgQddyXUHMbV1BNAozQWHyi0G9CzVBA4h5QS8th0HTJYBBWxeUQWJEeUGyemNBSRFgQRaNi0Hx32JBi/s7QQ==\",\"dtype\":\"float32\",\"shape\":[82]}},\"selected\":{\"id\":\"3c6a73f5-a4e4-43d7-964d-90c283344ec0\",\"type\":\"Selection\"},\"selection_policy\":{\"id\":\"0077cc59-10bf-4dd7-88c9-3f04e7b6bfac\",\"type\":\"UnionRenderers\"}},\"id\":\"74a94e6c-3116-4923-ae98-1aa080dc258f\",\"type\":\"ColumnDataSource\"},{\"attributes\":{\"fill_alpha\":{\"value\":0.1},\"fill_color\":{\"field\":\"specie\",\"transform\":{\"id\":\"5ba08051-a679-4f79-a961-70c2e65836be\",\"type\":\"CategoricalColorMapper\"}},\"line_alpha\":{\"value\":0.1},\"line_color\":{\"field\":\"specie\",\"transform\":{\"id\":\"5ba08051-a679-4f79-a961-70c2e65836be\",\"type\":\"CategoricalColorMapper\"}},\"size\":{\"units\":\"screen\",\"value\":5},\"x\":{\"field\":\"x\"},\"y\":{\"field\":\"y\"}},\"id\":\"e95ea0a2-75ad-450e-a191-f7bb5ed978af\",\"type\":\"Circle\"},{\"attributes\":{\"source\":{\"id\":\"276688aa-4d1f-48d7-a024-170e196c20c4\",\"type\":\"ColumnDataSource\"}},\"id\":\"2ba0db2e-bc50-452a-ac6d-63ecff84d565\",\"type\":\"CDSView\"},{\"attributes\":{\"fill_alpha\":{\"value\":0.1},\"fill_color\":{\"value\":\"#1f77b4\"},\"line_alpha\":{\"value\":0.1},\"line_color\":{\"value\":\"#1f77b4\"},\"size\":{\"units\":\"screen\",\"value\":5},\"x\":{\"field\":\"x\"},\"y\":{\"field\":\"y\"}},\"id\":\"8557bca8-ec67-462e-a39c-75896197e964\",\"type\":\"Circle\"},{\"attributes\":{},\"id\":\"e53e1318-54c6-41f2-af34-9d8c392cadea\",\"type\":\"Selection\"},{\"attributes\":{\"fill_alpha\":{\"value\":0.1},\"fill_color\":{\"value\":\"#1f77b4\"},\"line_alpha\":{\"value\":0.1},\"line_color\":{\"value\":\"#1f77b4\"},\"size\":{\"units\":\"screen\",\"value\":5},\"x\":{\"field\":\"x\"},\"y\":{\"field\":\"y\"}},\"id\":\"8a372421-8e28-4b04-96ef-6beeb039d43a\",\"type\":\"Circle\"},{\"attributes\":{\"source\":{\"id\":\"19dc4f90-93d2-4fe7-9674-f72004e6ea74\",\"type\":\"ColumnDataSource\"}},\"id\":\"d2b243a1-d4d2-44fc-b6ac-6098ad9dc267\",\"type\":\"CDSView\"},{\"attributes\":{\"source\":{\"id\":\"7a08e699-c8d7-487d-ad9f-971c01072e39\",\"type\":\"ColumnDataSource\"}},\"id\":\"4804b1bb-be0a-4ca3-8338-56e17a50b053\",\"type\":\"CDSView\"},{\"attributes\":{},\"id\":\"16b98692-d703-45f8-bf04-c49224c3216e\",\"type\":\"Selection\"},{\"attributes\":{},\"id\":\"a9da65c4-6b5d-404e-9045-550b7704975f\",\"type\":\"UnionRenderers\"},{\"attributes\":{\"plot\":null,\"text\":\"UMAP projection of the birds songs\"},\"id\":\"1ec3c817-fa54-498a-8349-aebf37424524\",\"type\":\"Title\"},{\"attributes\":{\"label\":{\"value\":\"Kasios Test Bird\"},\"renderers\":[{\"id\":\"f3f79db8-0eb6-4c78-8b37-d5cb26ae396d\",\"type\":\"GlyphRenderer\"}]},\"id\":\"d65f38cf-c514-492e-b4ff-b40e0a663c74\",\"type\":\"LegendItem\"},{\"attributes\":{\"fill_alpha\":{\"value\":0.1},\"fill_color\":{\"field\":\"specie\",\"transform\":{\"id\":\"5ba08051-a679-4f79-a961-70c2e65836be\",\"type\":\"CategoricalColorMapper\"}},\"line_alpha\":{\"value\":0.1},\"line_color\":{\"field\":\"specie\",\"transform\":{\"id\":\"5ba08051-a679-4f79-a961-70c2e65836be\",\"type\":\"CategoricalColorMapper\"}},\"size\":{\"units\":\"screen\",\"value\":5},\"x\":{\"field\":\"x\"},\"y\":{\"field\":\"y\"}},\"id\":\"1a94eb13-1399-4f0a-8e7c-b3a808f2b581\",\"type\":\"Circle\"},{\"attributes\":{},\"id\":\"eed5b1c9-786f-4a21-855f-fd10ae4cab27\",\"type\":\"UnionRenderers\"},{\"attributes\":{},\"id\":\"3c6a73f5-a4e4-43d7-964d-90c283344ec0\",\"type\":\"Selection\"},{\"attributes\":{},\"id\":\"6833feeb-5d33-414f-abe8-71228d89a5ca\",\"type\":\"UnionRenderers\"},{\"attributes\":{\"fill_alpha\":{\"value\":0.6},\"fill_color\":{\"field\":\"specie\",\"transform\":{\"id\":\"5ba08051-a679-4f79-a961-70c2e65836be\",\"type\":\"CategoricalColorMapper\"}},\"line_alpha\":{\"value\":0.6},\"line_color\":{\"field\":\"specie\",\"transform\":{\"id\":\"5ba08051-a679-4f79-a961-70c2e65836be\",\"type\":\"CategoricalColorMapper\"}},\"size\":{\"units\":\"screen\",\"value\":5},\"x\":{\"field\":\"x\"},\"y\":{\"field\":\"y\"}},\"id\":\"37584cd4-6ded-42c9-af74-73636e2ed470\",\"type\":\"Circle\"},{\"attributes\":{\"data_source\":{\"id\":\"a0b2e492-f5a7-4dfd-920d-f32a10ee60fb\",\"type\":\"ColumnDataSource\"},\"glyph\":{\"id\":\"49eafe12-91e5-4e54-b3fd-17cf79068236\",\"type\":\"Circle\"},\"hover_glyph\":null,\"muted\":true,\"muted_glyph\":{\"id\":\"4255aa7c-9d9c-4ecf-a239-bbd957f655b6\",\"type\":\"Circle\"},\"nonselection_glyph\":{\"id\":\"44bcc3d8-c3d2-463a-836a-7b6f8a44964e\",\"type\":\"Circle\"},\"selection_glyph\":null,\"view\":{\"id\":\"acd8027d-dce2-4989-b53a-d8b055f54867\",\"type\":\"CDSView\"}},\"id\":\"54586397-3ec5-430e-bb87-854edc8a6797\",\"type\":\"GlyphRenderer\"},{\"attributes\":{\"data_source\":{\"id\":\"29d5e9fd-7a23-4f29-b4df-bd8c3055ec0d\",\"type\":\"ColumnDataSource\"},\"glyph\":{\"id\":\"387a5578-8521-4d3c-bf4e-455745f5f23f\",\"type\":\"Circle\"},\"hover_glyph\":null,\"muted\":true,\"muted_glyph\":{\"id\":\"303c17d9-f745-469f-a840-e1c45638e8a9\",\"type\":\"Circle\"},\"nonselection_glyph\":{\"id\":\"60139d9d-b13f-4bfe-8917-d2b52402e57b\",\"type\":\"Circle\"},\"selection_glyph\":null,\"view\":{\"id\":\"2dfe944a-581d-4af0-8ccf-1ae50ac79d1f\",\"type\":\"CDSView\"}},\"id\":\"732b1a18-ee46-4f02-93be-ca295a8f7449\",\"type\":\"GlyphRenderer\"},{\"attributes\":{\"fill_alpha\":{\"value\":0.6},\"fill_color\":{\"field\":\"specie\",\"transform\":{\"id\":\"5ba08051-a679-4f79-a961-70c2e65836be\",\"type\":\"CategoricalColorMapper\"}},\"line_alpha\":{\"value\":0.6},\"line_color\":{\"field\":\"specie\",\"transform\":{\"id\":\"5ba08051-a679-4f79-a961-70c2e65836be\",\"type\":\"CategoricalColorMapper\"}},\"size\":{\"units\":\"screen\",\"value\":5},\"x\":{\"field\":\"x\"},\"y\":{\"field\":\"y\"}},\"id\":\"387a5578-8521-4d3c-bf4e-455745f5f23f\",\"type\":\"Circle\"},{\"attributes\":{\"source\":{\"id\":\"a80130f6-f04d-454e-a3a2-17e41719687e\",\"type\":\"ColumnDataSource\"}},\"id\":\"246c9dd3-e96d-4094-bb83-eac9882dc163\",\"type\":\"CDSView\"},{\"attributes\":{\"fill_alpha\":{\"value\":0.6},\"fill_color\":{\"field\":\"specie\",\"transform\":{\"id\":\"5ba08051-a679-4f79-a961-70c2e65836be\",\"type\":\"CategoricalColorMapper\"}},\"line_alpha\":{\"value\":0.6},\"line_color\":{\"field\":\"specie\",\"transform\":{\"id\":\"5ba08051-a679-4f79-a961-70c2e65836be\",\"type\":\"CategoricalColorMapper\"}},\"size\":{\"units\":\"screen\",\"value\":5},\"x\":{\"field\":\"x\"},\"y\":{\"field\":\"y\"}},\"id\":\"86798b7a-a6a5-4338-8938-6c652d8bf7fc\",\"type\":\"Circle\"},{\"attributes\":{},\"id\":\"5dd448a7-3ae2-456c-924c-bf588d4fd364\",\"type\":\"Selection\"},{\"attributes\":{},\"id\":\"7e3ceda3-b6e1-45fe-a152-f45fea1342c7\",\"type\":\"BasicTicker\"},{\"attributes\":{\"callback\":null,\"renderers\":\"auto\",\"tooltips\":\"\\n<div>\\n    <div>\\n        <span style='font-size: 13px; color: #224499'>Specie:</span>\\n        <span style='font-size: 13px'>@specie</span>\\n    </div>\\n</div>\\n\"},\"id\":\"c44ced74-b482-4685-814c-87f8318f7dd6\",\"type\":\"HoverTool\"},{\"attributes\":{\"dimension\":1,\"plot\":{\"id\":\"fa24c88a-85bb-4b4c-92f7-b8aec5a77e8f\",\"subtype\":\"Figure\",\"type\":\"Plot\"},\"ticker\":{\"id\":\"7e3ceda3-b6e1-45fe-a152-f45fea1342c7\",\"type\":\"BasicTicker\"}},\"id\":\"0eed0ee0-6347-43ac-aceb-dd552e3dde16\",\"type\":\"Grid\"},{\"attributes\":{\"fill_alpha\":{\"value\":0.6},\"fill_color\":{\"field\":\"specie\",\"transform\":{\"id\":\"5ba08051-a679-4f79-a961-70c2e65836be\",\"type\":\"CategoricalColorMapper\"}},\"line_alpha\":{\"value\":0.6},\"line_color\":{\"field\":\"specie\",\"transform\":{\"id\":\"5ba08051-a679-4f79-a961-70c2e65836be\",\"type\":\"CategoricalColorMapper\"}},\"size\":{\"units\":\"screen\",\"value\":5},\"x\":{\"field\":\"x\"},\"y\":{\"field\":\"y\"}},\"id\":\"d768805d-5a3f-4e92-ba71-20a983c9146e\",\"type\":\"Circle\"},{\"attributes\":{\"fill_alpha\":{\"value\":0.6},\"fill_color\":{\"field\":\"specie\",\"transform\":{\"id\":\"5ba08051-a679-4f79-a961-70c2e65836be\",\"type\":\"CategoricalColorMapper\"}},\"line_alpha\":{\"value\":0.6},\"line_color\":{\"field\":\"specie\",\"transform\":{\"id\":\"5ba08051-a679-4f79-a961-70c2e65836be\",\"type\":\"CategoricalColorMapper\"}},\"size\":{\"units\":\"screen\",\"value\":5},\"x\":{\"field\":\"x\"},\"y\":{\"field\":\"y\"}},\"id\":\"49eafe12-91e5-4e54-b3fd-17cf79068236\",\"type\":\"Circle\"},{\"attributes\":{\"fill_alpha\":{\"value\":0.1},\"fill_color\":{\"field\":\"specie\",\"transform\":{\"id\":\"5ba08051-a679-4f79-a961-70c2e65836be\",\"type\":\"CategoricalColorMapper\"}},\"line_alpha\":{\"value\":0.1},\"line_color\":{\"field\":\"specie\",\"transform\":{\"id\":\"5ba08051-a679-4f79-a961-70c2e65836be\",\"type\":\"CategoricalColorMapper\"}},\"size\":{\"units\":\"screen\",\"value\":5},\"x\":{\"field\":\"x\"},\"y\":{\"field\":\"y\"}},\"id\":\"90693eae-f1be-498e-85d9-73bade3de907\",\"type\":\"Circle\"},{\"attributes\":{\"click_policy\":\"hide\",\"items\":[{\"id\":\"fd0dfe1b-5063-40b5-b163-2fe2b6b86fcb\",\"type\":\"LegendItem\"},{\"id\":\"bbec5604-58ee-4fa2-ad52-fd0509d0d8b0\",\"type\":\"LegendItem\"},{\"id\":\"0bb2661a-dfdd-482e-b13c-baf5970a5ba5\",\"type\":\"LegendItem\"},{\"id\":\"3d5c5b7c-d90b-4120-b56f-7570cd756448\",\"type\":\"LegendItem\"},{\"id\":\"17a36863-9db1-4314-9af1-90aee6480cb6\",\"type\":\"LegendItem\"},{\"id\":\"c4d093fc-eac2-4094-835e-fa57916c8c25\",\"type\":\"LegendItem\"},{\"id\":\"b1ffe0fb-d262-4964-9468-8ead1caaf74f\",\"type\":\"LegendItem\"},{\"id\":\"f247ae1d-4a37-4d53-888b-c984d593aa6a\",\"type\":\"LegendItem\"},{\"id\":\"80051287-58ac-45d1-9c9c-fcf3eef83994\",\"type\":\"LegendItem\"},{\"id\":\"65ff9668-b435-419e-9af5-66b71cdc9f04\",\"type\":\"LegendItem\"},{\"id\":\"c979be38-ae38-4a2e-af79-36946c4f2eba\",\"type\":\"LegendItem\"},{\"id\":\"23fe10c8-8799-4b99-8548-6e058896a2ea\",\"type\":\"LegendItem\"},{\"id\":\"23b7d948-2325-4797-bcd0-d7dc5b116a1b\",\"type\":\"LegendItem\"},{\"id\":\"155d4755-16ed-4d05-aa80-45c5283fa45f\",\"type\":\"LegendItem\"},{\"id\":\"d9bb1a3e-177b-44a9-8c7d-b07ed81144e8\",\"type\":\"LegendItem\"},{\"id\":\"767421a7-2192-4232-8608-c3d5c10661e7\",\"type\":\"LegendItem\"},{\"id\":\"885fdaab-fb7a-4afb-bbb6-ad6a8782944d\",\"type\":\"LegendItem\"},{\"id\":\"850418ae-4d3e-4f73-b919-332920ae87bc\",\"type\":\"LegendItem\"},{\"id\":\"95fda459-4943-4d4b-a515-6cb2d0992e7c\",\"type\":\"LegendItem\"},{\"id\":\"d65f38cf-c514-492e-b4ff-b40e0a663c74\",\"type\":\"LegendItem\"}],\"location\":[30,50],\"plot\":{\"id\":\"fa24c88a-85bb-4b4c-92f7-b8aec5a77e8f\",\"subtype\":\"Figure\",\"type\":\"Plot\"}},\"id\":\"6e5922a2-dde0-435f-9a0c-fff9b20d45b5\",\"type\":\"Legend\"},{\"attributes\":{\"fill_alpha\":{\"value\":0.1},\"fill_color\":{\"value\":\"#1f77b4\"},\"line_alpha\":{\"value\":0.1},\"line_color\":{\"value\":\"#1f77b4\"},\"size\":{\"units\":\"screen\",\"value\":5},\"x\":{\"field\":\"x\"},\"y\":{\"field\":\"y\"}},\"id\":\"9e66cf5d-172a-4700-ab85-bcc8e00c0f92\",\"type\":\"Circle\"},{\"attributes\":{},\"id\":\"276cadd9-ea90-4fa7-bf75-ae5b4cc15747\",\"type\":\"UnionRenderers\"},{\"attributes\":{\"fill_alpha\":{\"value\":0.6},\"fill_color\":{\"field\":\"specie\",\"transform\":{\"id\":\"5ba08051-a679-4f79-a961-70c2e65836be\",\"type\":\"CategoricalColorMapper\"}},\"line_alpha\":{\"value\":0.6},\"line_color\":{\"field\":\"specie\",\"transform\":{\"id\":\"5ba08051-a679-4f79-a961-70c2e65836be\",\"type\":\"CategoricalColorMapper\"}},\"size\":{\"units\":\"screen\",\"value\":5},\"x\":{\"field\":\"x\"},\"y\":{\"field\":\"y\"}},\"id\":\"e3073166-d0d3-4cc7-a4d2-c9ecacbc02f4\",\"type\":\"Circle\"},{\"attributes\":{\"callback\":null,\"data\":{\"index\":[1462,1463,1464,1465,1466,1467,1468,1469,1470,1471,1472,1473,1474,1475,1476,1477,1478,1479,1480,1481,1482,1483,1484,1485,1486,1487,1488,1489,1490,1491,1492,1493,1494,1495,1496,1497,1498,1499,1500,1501,1502,1503,1504,1505,1506,1507,1508,1509,1510,1511,1512,1513,1514,1515,1516,1517,1518,1519,1520,1521,1522,1523,1524,1525,1526,1527,1528,1529,1530,1531,1532],\"kasios_index\":{\"__ndarray__\":\"AAAAAAAA+H8AAAAAAAD4fwAAAAAAAPh/AAAAAAAA+H8AAAAAAAD4fwAAAAAAAPh/AAAAAAAA+H8AAAAAAAD4fwAAAAAAAPh/AAAAAAAA+H8AAAAAAAD4fwAAAAAAAPh/AAAAAAAA+H8AAAAAAAD4fwAAAAAAAPh/AAAAAAAA+H8AAAAAAAD4fwAAAAAAAPh/AAAAAAAA+H8AAAAAAAD4fwAAAAAAAPh/AAAAAAAA+H8AAAAAAAD4fwAAAAAAAPh/AAAAAAAA+H8AAAAAAAD4fwAAAAAAAPh/AAAAAAAA+H8AAAAAAAD4fwAAAAAAAPh/AAAAAAAA+H8AAAAAAAD4fwAAAAAAAPh/AAAAAAAA+H8AAAAAAAD4fwAAAAAAAPh/AAAAAAAA+H8AAAAAAAD4fwAAAAAAAPh/AAAAAAAA+H8AAAAAAAD4fwAAAAAAAPh/AAAAAAAA+H8AAAAAAAD4fwAAAAAAAPh/AAAAAAAA+H8AAAAAAAD4fwAAAAAAAPh/AAAAAAAA+H8AAAAAAAD4fwAAAAAAAPh/AAAAAAAA+H8AAAAAAAD4fwAAAAAAAPh/AAAAAAAA+H8AAAAAAAD4fwAAAAAAAPh/AAAAAAAA+H8AAAAAAAD4fwAAAAAAAPh/AAAAAAAA+H8AAAAAAAD4fwAAAAAAAPh/AAAAAAAA+H8AAAAAAAD4fwAAAAAAAPh/AAAAAAAA+H8AAAAAAAD4fwAAAAAAAPh/AAAAAAAA+H8AAAAAAAD4fw==\",\"dtype\":\"float64\",\"shape\":[71]},\"specie\":[\"Purple Tooting Tout\",\"Purple Tooting Tout\",\"Purple Tooting Tout\",\"Purple Tooting Tout\",\"Purple Tooting Tout\",\"Purple Tooting Tout\",\"Purple Tooting Tout\",\"Purple Tooting Tout\",\"Purple Tooting Tout\",\"Purple Tooting Tout\",\"Purple Tooting Tout\",\"Purple Tooting Tout\",\"Purple Tooting Tout\",\"Purple Tooting Tout\",\"Purple Tooting Tout\",\"Purple Tooting Tout\",\"Purple Tooting Tout\",\"Purple Tooting Tout\",\"Purple Tooting Tout\",\"Purple Tooting Tout\",\"Purple Tooting Tout\",\"Purple Tooting Tout\",\"Purple Tooting Tout\",\"Purple Tooting Tout\",\"Purple Tooting Tout\",\"Purple Tooting Tout\",\"Purple Tooting Tout\",\"Purple Tooting Tout\",\"Purple Tooting Tout\",\"Purple Tooting Tout\",\"Purple Tooting Tout\",\"Purple Tooting Tout\",\"Purple Tooting Tout\",\"Purple Tooting Tout\",\"Purple Tooting Tout\",\"Purple Tooting Tout\",\"Purple Tooting Tout\",\"Purple Tooting Tout\",\"Purple Tooting Tout\",\"Purple Tooting Tout\",\"Purple Tooting Tout\",\"Purple Tooting Tout\",\"Purple Tooting Tout\",\"Purple Tooting Tout\",\"Purple Tooting Tout\",\"Purple Tooting Tout\",\"Purple Tooting Tout\",\"Purple Tooting Tout\",\"Purple Tooting Tout\",\"Purple Tooting Tout\",\"Purple Tooting Tout\",\"Purple Tooting Tout\",\"Purple Tooting Tout\",\"Purple Tooting Tout\",\"Purple Tooting Tout\",\"Purple Tooting Tout\",\"Purple Tooting Tout\",\"Purple Tooting Tout\",\"Purple Tooting Tout\",\"Purple Tooting Tout\",\"Purple Tooting Tout\",\"Purple Tooting Tout\",\"Purple Tooting Tout\",\"Purple Tooting Tout\",\"Purple Tooting Tout\",\"Purple Tooting Tout\",\"Purple Tooting Tout\",\"Purple Tooting Tout\",\"Purple Tooting Tout\",\"Purple Tooting Tout\",\"Purple Tooting Tout\"],\"x\":{\"__ndarray__\":\"UEeIQaQvLEEUCIdBCNmEQbIWiUHTgjpBjjWNQfA5hEFfcnlBvsSDQSLIi0Huv6NBsRmkQTGxbUEoMCxB11gqQaHzhkELtZpBQSSGQZ8Ho0HeCpFB/FWAQQrGf0FdEYBB5mxzQZSXTkHSFT1BV4ZWQSflQEHLKIBBkCldQUXzqUFhTZ1B5UNBQSXWNkHNNkBBZ56oQcqPrUGHN6RBixmGQeHEYEHfSjxBMS9gQSC1JEHPQ5lBd8thQRN2i0ERwppBvTM9QUL2fkHbLEFBvWo6QeYWWUHkl5JBwWisQVpdnkGFBD9B1VdwQWpsekHCmopBMiuAQYhwi0HePkRBdG2cQdJvS0EMiYpBK6WhQYp9W0FWWZtBLUChQX7zoUE=\",\"dtype\":\"float32\",\"shape\":[71]},\"y\":{\"__ndarray__\":\"5AktQUvJgEGjETFB5e9kQS5hN0GGnYFBumlJQeX1T0GyHTZBRnZHQeQoRkF5MGVBrZ1iQdhBR0G6xnVBBVtmQX7BNUHddGpBjSpLQUzeb0FYBERB1R40QdDBM0GEwDJBi9Y5QZQ8mEGImndBA1SEQZrFh0GQuEVBmPhVQXUAi0GukmtBRFByQVuKckHxBXVBwTKKQaupikGeGnNBtm9eQeOHh0E/LZZBn0+KQbqrakGAuV5BIF5cQdx2XUGavWVBH290QYTYTEEnZGpBYueDQXHeYEHejVNBQWOKQYpPiEFNIGBBj1c9QeHCOEEVdidBkLlVQSGULkHJJHhByAmNQVnGYkFbCGdBjgyHQWjUiEF3AGZB1KWJQegMZUE=\",\"dtype\":\"float32\",\"shape\":[71]}},\"selected\":{\"id\":\"b592fdb1-2115-4490-9606-52885a1138ce\",\"type\":\"Selection\"},\"selection_policy\":{\"id\":\"6833feeb-5d33-414f-abe8-71228d89a5ca\",\"type\":\"UnionRenderers\"}},\"id\":\"9d797ec0-1b28-4f08-bef0-ebddbf9903db\",\"type\":\"ColumnDataSource\"},{\"attributes\":{\"fill_alpha\":{\"value\":0.6},\"fill_color\":{\"field\":\"specie\",\"transform\":{\"id\":\"5ba08051-a679-4f79-a961-70c2e65836be\",\"type\":\"CategoricalColorMapper\"}},\"line_alpha\":{\"value\":0.6},\"line_color\":{\"field\":\"specie\",\"transform\":{\"id\":\"5ba08051-a679-4f79-a961-70c2e65836be\",\"type\":\"CategoricalColorMapper\"}},\"size\":{\"units\":\"screen\",\"value\":5},\"x\":{\"field\":\"x\"},\"y\":{\"field\":\"y\"}},\"id\":\"17ac3ddc-7f48-48ae-9b5c-8a13c1fe05a6\",\"type\":\"Circle\"},{\"attributes\":{},\"id\":\"a44ddea1-eb7f-4b1d-8255-7886d53c841b\",\"type\":\"UnionRenderers\"},{\"attributes\":{\"data_source\":{\"id\":\"c50a8558-4e47-4f8b-a50c-be0d0e9066cc\",\"type\":\"ColumnDataSource\"},\"glyph\":{\"id\":\"3e935bfc-0da9-4105-a115-26963f3f40d2\",\"type\":\"Circle\"},\"hover_glyph\":null,\"muted\":true,\"muted_glyph\":{\"id\":\"aaae4b74-cfeb-41b7-a470-1b62105ea320\",\"type\":\"Circle\"},\"nonselection_glyph\":{\"id\":\"d249b050-c984-458e-880b-33f6801de53e\",\"type\":\"Circle\"},\"selection_glyph\":null,\"view\":{\"id\":\"e107a07f-a197-47e7-aae3-e610f192abc9\",\"type\":\"CDSView\"}},\"id\":\"bd1fea84-55fe-4762-90ec-f799b5d5c50d\",\"type\":\"GlyphRenderer\"},{\"attributes\":{\"callback\":null,\"data\":{\"index\":[390,391,392,393,394,395,396,397,398,399,400,401,402,403,404,405,406,407,408,409,410,411,412,413,414,415,416,417,418,419,420,421,422,423,424,425,426,427,428,429,430,431,432,433,434,435,436,437,438,439,440,441,442,443,444,445,446,447,448,449,450,451,452,453,454,455,456,457,458,459,460,461,462,463,464,465,466,467,468,469,470,471,472,473,474,475,476,477,478,479,480,481,482],\"kasios_index\":{\"__ndarray__\":\"AAAAAAAA+H8AAAAAAAD4fwAAAAAAAPh/AAAAAAAA+H8AAAAAAAD4fwAAAAAAAPh/AAAAAAAA+H8AAAAAAAD4fwAAAAAAAPh/AAAAAAAA+H8AAAAAAAD4fwAAAAAAAPh/AAAAAAAA+H8AAAAAAAD4fwAAAAAAAPh/AAAAAAAA+H8AAAAAAAD4fwAAAAAAAPh/AAAAAAAA+H8AAAAAAAD4fwAAAAAAAPh/AAAAAAAA+H8AAAAAAAD4fwAAAAAAAPh/AAAAAAAA+H8AAAAAAAD4fwAAAAAAAPh/AAAAAAAA+H8AAAAAAAD4fwAAAAAAAPh/AAAAAAAA+H8AAAAAAAD4fwAAAAAAAPh/AAAAAAAA+H8AAAAAAAD4fwAAAAAAAPh/AAAAAAAA+H8AAAAAAAD4fwAAAAAAAPh/AAAAAAAA+H8AAAAAAAD4fwAAAAAAAPh/AAAAAAAA+H8AAAAAAAD4fwAAAAAAAPh/AAAAAAAA+H8AAAAAAAD4fwAAAAAAAPh/AAAAAAAA+H8AAAAAAAD4fwAAAAAAAPh/AAAAAAAA+H8AAAAAAAD4fwAAAAAAAPh/AAAAAAAA+H8AAAAAAAD4fwAAAAAAAPh/AAAAAAAA+H8AAAAAAAD4fwAAAAAAAPh/AAAAAAAA+H8AAAAAAAD4fwAAAAAAAPh/AAAAAAAA+H8AAAAAAAD4fwAAAAAAAPh/AAAAAAAA+H8AAAAAAAD4fwAAAAAAAPh/AAAAAAAA+H8AAAAAAAD4fwAAAAAAAPh/AAAAAAAA+H8AAAAAAAD4fwAAAAAAAPh/AAAAAAAA+H8AAAAAAAD4fwAAAAAAAPh/AAAAAAAA+H8AAAAAAAD4fwAAAAAAAPh/AAAAAAAA+H8AAAAAAAD4fwAAAAAAAPh/AAAAAAAA+H8AAAAAAAD4fwAAAAAAAPh/AAAAAAAA+H8AAAAAAAD4fwAAAAAAAPh/AAAAAAAA+H8AAAAAAAD4fwAAAAAAAPh/\",\"dtype\":\"float64\",\"shape\":[93]},\"specie\":[\"Broad-winged Jojo\",\"Broad-winged Jojo\",\"Broad-winged Jojo\",\"Broad-winged Jojo\",\"Broad-winged Jojo\",\"Broad-winged Jojo\",\"Broad-winged Jojo\",\"Broad-winged Jojo\",\"Broad-winged Jojo\",\"Broad-winged Jojo\",\"Broad-winged Jojo\",\"Broad-winged Jojo\",\"Broad-winged Jojo\",\"Broad-winged Jojo\",\"Broad-winged Jojo\",\"Broad-winged Jojo\",\"Broad-winged Jojo\",\"Broad-winged Jojo\",\"Broad-winged Jojo\",\"Broad-winged Jojo\",\"Broad-winged Jojo\",\"Broad-winged Jojo\",\"Broad-winged Jojo\",\"Broad-winged Jojo\",\"Broad-winged Jojo\",\"Broad-winged Jojo\",\"Broad-winged Jojo\",\"Broad-winged Jojo\",\"Broad-winged Jojo\",\"Broad-winged Jojo\",\"Broad-winged Jojo\",\"Broad-winged Jojo\",\"Broad-winged Jojo\",\"Broad-winged Jojo\",\"Broad-winged Jojo\",\"Broad-winged Jojo\",\"Broad-winged Jojo\",\"Broad-winged Jojo\",\"Broad-winged Jojo\",\"Broad-winged Jojo\",\"Broad-winged Jojo\",\"Broad-winged Jojo\",\"Broad-winged Jojo\",\"Broad-winged Jojo\",\"Broad-winged Jojo\",\"Broad-winged Jojo\",\"Broad-winged Jojo\",\"Broad-winged Jojo\",\"Broad-winged Jojo\",\"Broad-winged Jojo\",\"Broad-winged Jojo\",\"Broad-winged Jojo\",\"Broad-winged Jojo\",\"Broad-winged Jojo\",\"Broad-winged Jojo\",\"Broad-winged Jojo\",\"Broad-winged Jojo\",\"Broad-winged Jojo\",\"Broad-winged Jojo\",\"Broad-winged Jojo\",\"Broad-winged Jojo\",\"Broad-winged Jojo\",\"Broad-winged Jojo\",\"Broad-winged Jojo\",\"Broad-winged Jojo\",\"Broad-winged Jojo\",\"Broad-winged Jojo\",\"Broad-winged Jojo\",\"Broad-winged Jojo\",\"Broad-winged Jojo\",\"Broad-winged Jojo\",\"Broad-winged Jojo\",\"Broad-winged Jojo\",\"Broad-winged Jojo\",\"Broad-winged Jojo\",\"Broad-winged Jojo\",\"Broad-winged Jojo\",\"Broad-winged Jojo\",\"Broad-winged Jojo\",\"Broad-winged Jojo\",\"Broad-winged Jojo\",\"Broad-winged Jojo\",\"Broad-winged Jojo\",\"Broad-winged Jojo\",\"Broad-winged Jojo\",\"Broad-winged Jojo\",\"Broad-winged Jojo\",\"Broad-winged Jojo\",\"Broad-winged Jojo\",\"Broad-winged Jojo\",\"Broad-winged Jojo\",\"Broad-winged Jojo\",\"Broad-winged Jojo\"],\"x\":{\"__ndarray__\":\"lP1RQRVZTkGYyTZBK4oVQUxUMUFdyilBYXtDQeroOEHmoztBYgAeQe/hFUEZfCRB0wkWQTfNF0Ftjx5BRiwnQUeeNUEyqiZBHr4oQVDTP0GVtSRBYFUzQaUqVEH+qSNBqGZSQWfdPkHTTCFByEI/QZHRXkHr2E9BPUQ2QXZAOkGkZTNBrixAQT8/Q0HNgClBI90sQeBXJUESlU9BV9JCQZevJkEXtB9BWaMjQSxfMkGcXkBB9TY4QUcUVEFL7VpB5Bs2Qf+UGUHl9RVBNjY8QW3MVEFS0R5BDwEcQYR0IUFXlx5BDaQgQTzqGUH9QydBNKxBQafaGEFYpSlBMQA1QeC9N0EJECZBXqw/QfqkHkEJjUVB6zdhQUANMUGDRjxB7PE8QWMNMkG8silB7YA+QTNVV0HW+iZBogZOQVKDNEHcHCZBZJ8nQVfaHUEP81ZB2xEkQUqjM0EEoYBB7vo/QSwNQ0E4AWFB17xhQVfdZEEGPY9B\",\"dtype\":\"float32\",\"shape\":[93]},\"y\":{\"__ndarray__\":\"KsuXQZdAmEHUP3hBhSdwQa5KcUGQxmZBAkZwQfuFdUFtGFRBbg1oQRM+cEHFV2dBTeZwQVN/bkEYrnhBlwprQWbja0Eu621B2SZjQa0QakHwpH1BPpJ9QR2wjkEon3tBQyOMQacMUEH+fGhBB2luQeeulEHfkZdB3qpXQal2QUFTM1hBe4pqQf8AhEFfdWNBNiqCQehjZEH8eJdBHQBWQZf8ZkGKvW1BuMFmQe3HXUHpdE9BqHRxQWzil0HK6ZJBsIdxQXZtbkGnMnBBiyp5QaLpl0GT63dBYU93QV5NfEG7rWhBZSJ4QUnGd0F+oXdB2dmNQUNHdEG4A3ZB2D5xQSHfUkEwKmlBSVRTQa05hUGKwntBcZGNQSwzbkH633BBtBB3QaFua0GfmmpBho5fQchLYUH+U2BB+sCXQT0pWUFU4nxBiz92QcG+eEFpZ4NByFtpQRV6f0HHF1RBpD+LQSuBbkH90JNBbGdaQUrGUkGrLlZB\",\"dtype\":\"float32\",\"shape\":[93]}},\"selected\":{\"id\":\"cd3c609e-bd65-406f-a204-4f8f23d6e116\",\"type\":\"Selection\"},\"selection_policy\":{\"id\":\"eed5b1c9-786f-4a21-855f-fd10ae4cab27\",\"type\":\"UnionRenderers\"}},\"id\":\"3ffd523f-9570-4a4a-a69e-4748644a0f36\",\"type\":\"ColumnDataSource\"},{\"attributes\":{\"fill_alpha\":{\"value\":0.6},\"fill_color\":{\"field\":\"specie\",\"transform\":{\"id\":\"5ba08051-a679-4f79-a961-70c2e65836be\",\"type\":\"CategoricalColorMapper\"}},\"line_alpha\":{\"value\":0.6},\"line_color\":{\"field\":\"specie\",\"transform\":{\"id\":\"5ba08051-a679-4f79-a961-70c2e65836be\",\"type\":\"CategoricalColorMapper\"}},\"size\":{\"units\":\"screen\",\"value\":5},\"x\":{\"field\":\"x\"},\"y\":{\"field\":\"y\"}},\"id\":\"85faa1a7-16d5-4f19-b423-a2e99a6592a6\",\"type\":\"Circle\"},{\"attributes\":{\"callback\":null,\"data\":{\"index\":[1894,1895,1896,1897,1898,1899,1900,1901,1902,1903,1904,1905,1906,1907,1908,1909,1910,1911,1912,1913,1914,1915,1916,1917,1918,1919,1920,1921,1922,1923,1924,1925,1926,1927,1928,1929,1930,1931,1932,1933,1934,1935,1936,1937,1938,1939,1940,1941,1942,1943,1944,1945,1946,1947,1948,1949,1950,1951,1952,1953,1954,1955,1956,1957,1958,1959,1960,1961,1962,1963,1964,1965,1966,1967,1968,1969,1970,1971,1972,1973,1974,1975,1976,1977,1978,1979,1980,1981,1982],\"kasios_index\":{\"__ndarray__\":\"AAAAAAAA+H8AAAAAAAD4fwAAAAAAAPh/AAAAAAAA+H8AAAAAAAD4fwAAAAAAAPh/AAAAAAAA+H8AAAAAAAD4fwAAAAAAAPh/AAAAAAAA+H8AAAAAAAD4fwAAAAAAAPh/AAAAAAAA+H8AAAAAAAD4fwAAAAAAAPh/AAAAAAAA+H8AAAAAAAD4fwAAAAAAAPh/AAAAAAAA+H8AAAAAAAD4fwAAAAAAAPh/AAAAAAAA+H8AAAAAAAD4fwAAAAAAAPh/AAAAAAAA+H8AAAAAAAD4fwAAAAAAAPh/AAAAAAAA+H8AAAAAAAD4fwAAAAAAAPh/AAAAAAAA+H8AAAAAAAD4fwAAAAAAAPh/AAAAAAAA+H8AAAAAAAD4fwAAAAAAAPh/AAAAAAAA+H8AAAAAAAD4fwAAAAAAAPh/AAAAAAAA+H8AAAAAAAD4fwAAAAAAAPh/AAAAAAAA+H8AAAAAAAD4fwAAAAAAAPh/AAAAAAAA+H8AAAAAAAD4fwAAAAAAAPh/AAAAAAAA+H8AAAAAAAD4fwAAAAAAAPh/AAAAAAAA+H8AAAAAAAD4fwAAAAAAAPh/AAAAAAAA+H8AAAAAAAD4fwAAAAAAAPh/AAAAAAAA+H8AAAAAAAD4fwAAAAAAAPh/AAAAAAAA+H8AAAAAAAD4fwAAAAAAAPh/AAAAAAAA+H8AAAAAAAD4fwAAAAAAAPh/AAAAAAAA+H8AAAAAAAD4fwAAAAAAAPh/AAAAAAAA+H8AAAAAAAD4fwAAAAAAAPh/AAAAAAAA+H8AAAAAAAD4fwAAAAAAAPh/AAAAAAAA+H8AAAAAAAD4fwAAAAAAAPh/AAAAAAAA+H8AAAAAAAD4fwAAAAAAAPh/AAAAAAAA+H8AAAAAAAD4fwAAAAAAAPh/AAAAAAAA+H8AAAAAAAD4fwAAAAAAAPh/AAAAAAAA+H8AAAAAAAD4fw==\",\"dtype\":\"float64\",\"shape\":[89]},\"specie\":[\"Scrawny Jay\",\"Scrawny Jay\",\"Scrawny Jay\",\"Scrawny Jay\",\"Scrawny Jay\",\"Scrawny Jay\",\"Scrawny Jay\",\"Scrawny Jay\",\"Scrawny Jay\",\"Scrawny Jay\",\"Scrawny Jay\",\"Scrawny Jay\",\"Scrawny Jay\",\"Scrawny Jay\",\"Scrawny Jay\",\"Scrawny Jay\",\"Scrawny Jay\",\"Scrawny Jay\",\"Scrawny Jay\",\"Scrawny Jay\",\"Scrawny Jay\",\"Scrawny Jay\",\"Scrawny Jay\",\"Scrawny Jay\",\"Scrawny Jay\",\"Scrawny Jay\",\"Scrawny Jay\",\"Scrawny Jay\",\"Scrawny Jay\",\"Scrawny Jay\",\"Scrawny Jay\",\"Scrawny Jay\",\"Scrawny Jay\",\"Scrawny Jay\",\"Scrawny Jay\",\"Scrawny Jay\",\"Scrawny Jay\",\"Scrawny Jay\",\"Scrawny Jay\",\"Scrawny Jay\",\"Scrawny Jay\",\"Scrawny Jay\",\"Scrawny Jay\",\"Scrawny Jay\",\"Scrawny Jay\",\"Scrawny Jay\",\"Scrawny Jay\",\"Scrawny Jay\",\"Scrawny Jay\",\"Scrawny Jay\",\"Scrawny Jay\",\"Scrawny Jay\",\"Scrawny Jay\",\"Scrawny Jay\",\"Scrawny Jay\",\"Scrawny Jay\",\"Scrawny Jay\",\"Scrawny Jay\",\"Scrawny Jay\",\"Scrawny Jay\",\"Scrawny Jay\",\"Scrawny Jay\",\"Scrawny Jay\",\"Scrawny Jay\",\"Scrawny Jay\",\"Scrawny Jay\",\"Scrawny Jay\",\"Scrawny Jay\",\"Scrawny Jay\",\"Scrawny Jay\",\"Scrawny Jay\",\"Scrawny Jay\",\"Scrawny Jay\",\"Scrawny Jay\",\"Scrawny Jay\",\"Scrawny Jay\",\"Scrawny Jay\",\"Scrawny Jay\",\"Scrawny Jay\",\"Scrawny Jay\",\"Scrawny Jay\",\"Scrawny Jay\",\"Scrawny Jay\",\"Scrawny Jay\",\"Scrawny Jay\",\"Scrawny Jay\",\"Scrawny Jay\",\"Scrawny Jay\",\"Scrawny Jay\"],\"x\":{\"__ndarray__\":\"B8hOQSb4hEEODDBBBVBMQRhRYUEgJ0tBFFgwQZpXY0GdF0NBQkopQWnIREF5bTZBH4VSQVH+UkFRaURBEYAzQdl9XkG8NUtBat8xQXapHkH8nFNBfs80QanhQkGDtS9BvB8vQbBggkFIZjBB8QVMQT7NV0EXy1lBfLdBQdpIX0HW1zBBT8EkQaFdTEGEpaJBXr5UQblgUUG9flxB8jE4QTcdM0HlAjRBqvVMQfcZjUGbwGBBhshWQYEMTEHEl0dBfoY0QSzCVUHl9klBGIZUQZ8XMEFy3WJBmeZEQfbTVEF62GBBt7lTQRPwV0EZTFdBgjhWQYjAYkEoEWFBkShAQe1WIEEyEJlBbvZDQVddVEGv5kpBfeQ8Qa1RHkH9p05Bg3M/QU1TgEHJbGZB/stAQcX5NkExnzNBmFpYQa/5WkGvEVZBlpk2QdXxQEHffUVBgBtUQQgxOUGOsURBTSk0QbBIS0E=\",\"dtype\":\"float32\",\"shape\":[89]},\"y\":{\"__ndarray__\":\"iQKYQd+cRUHoZ3JBbX2VQWdph0F0jm5B7sl7QdIGh0EaBYlBlvCCQSHAlEHh4pBBXt+WQfsyeUE5IZVBYLGNQWR/kkFBL5hBDjuBQSZQeUEqy5ZBpyaEQczDgUFIhIlBcxqGQePKVUHiA3RBipOYQaOCi0FbF45BPS2SQedii0Er75NBfNWFQdcbjEFZgIxBye+QQYVPjkHi51pBubiDQbX6bEHRC3lBE/eLQaXvU0GGGIhBYQZyQeMsiEHRTX5BljJyQd90jUFQtIRBC7GJQUk5j0HOoodBSR5XQWBll0HP+5NBv5SQQUv2j0FAw4xB9diRQfzTh0HPvYlBT/yIQeIsiEHawIBB886UQcf3j0GmT5FBikWJQSnQd0G5/YRBVi+JQSrlVUHt1lZBYiqHQbQSlUHpAIpBx1qPQZy7kkHsWJNBtSlzQb86jUHy+ZRBJveNQeuZg0E69YlBqjaOQQnykUE=\",\"dtype\":\"float32\",\"shape\":[89]}},\"selected\":{\"id\":\"772ba317-ff56-4103-a833-6ac6ce6f98e7\",\"type\":\"Selection\"},\"selection_policy\":{\"id\":\"c693e204-998d-4b06-8547-67edbe2e833b\",\"type\":\"UnionRenderers\"}},\"id\":\"fce1b433-e0bf-426c-b3c0-0a85d8836f81\",\"type\":\"ColumnDataSource\"},{\"attributes\":{\"active_drag\":\"auto\",\"active_inspect\":\"auto\",\"active_multi\":null,\"active_scroll\":\"auto\",\"active_tap\":\"auto\",\"tools\":[{\"id\":\"192c8126-369c-4bb0-8ded-969a584d0d43\",\"type\":\"PanTool\"},{\"id\":\"ffaffbcc-83ec-42af-aee9-8d9a1acc2e29\",\"type\":\"WheelZoomTool\"},{\"id\":\"e31a152e-c4b6-49b2-8cfb-916def076662\",\"type\":\"ResetTool\"},{\"id\":\"c44ced74-b482-4685-814c-87f8318f7dd6\",\"type\":\"HoverTool\"}]},\"id\":\"951fa845-b3e5-40fe-a414-f9a1fe0e08c0\",\"type\":\"Toolbar\"},{\"attributes\":{},\"id\":\"c693e204-998d-4b06-8547-67edbe2e833b\",\"type\":\"UnionRenderers\"},{\"attributes\":{\"below\":[{\"id\":\"ecb93021-4ab2-4ed2-9d6f-d5ffdbf29232\",\"type\":\"LinearAxis\"}],\"left\":[{\"id\":\"9b787e4a-12ae-4601-92ea-6949d1d65844\",\"type\":\"LinearAxis\"}],\"plot_width\":800,\"renderers\":[{\"id\":\"ecb93021-4ab2-4ed2-9d6f-d5ffdbf29232\",\"type\":\"LinearAxis\"},{\"id\":\"b2f698b6-8865-41cc-888b-218a7959a446\",\"type\":\"Grid\"},{\"id\":\"9b787e4a-12ae-4601-92ea-6949d1d65844\",\"type\":\"LinearAxis\"},{\"id\":\"0eed0ee0-6347-43ac-aceb-dd552e3dde16\",\"type\":\"Grid\"},{\"id\":\"2b94c6c8-6a94-45fd-8f47-a7f1ce81caf0\",\"type\":\"GlyphRenderer\"},{\"id\":\"f754b5ef-7859-431b-98cb-a972c5f3d496\",\"type\":\"GlyphRenderer\"},{\"id\":\"4bdc3c72-0ee9-46eb-aca7-bbeaf305e05f\",\"type\":\"GlyphRenderer\"},{\"id\":\"3f3b9bff-8a87-401e-bf0e-45f0f685e3b5\",\"type\":\"GlyphRenderer\"},{\"id\":\"69d62093-8233-4f54-add4-1f8ef68947d8\",\"type\":\"GlyphRenderer\"},{\"id\":\"e70bff65-510e-4f6f-89d3-375ef2f0ae9d\",\"type\":\"GlyphRenderer\"},{\"id\":\"bd1fea84-55fe-4762-90ec-f799b5d5c50d\",\"type\":\"GlyphRenderer\"},{\"id\":\"fb3da94c-3755-4ace-b1a5-473c5d103bf5\",\"type\":\"GlyphRenderer\"},{\"id\":\"54586397-3ec5-430e-bb87-854edc8a6797\",\"type\":\"GlyphRenderer\"},{\"id\":\"0996d756-1f1c-441a-a739-a459c637cc07\",\"type\":\"GlyphRenderer\"},{\"id\":\"602cd2ae-8c10-4401-97dd-c07d7229119f\",\"type\":\"GlyphRenderer\"},{\"id\":\"c6f1d5f0-4c33-4764-bc1f-e5c6a47d3ffb\",\"type\":\"GlyphRenderer\"},{\"id\":\"c43bdf86-0920-4b58-b72e-fb02d3212102\",\"type\":\"GlyphRenderer\"},{\"id\":\"7e9e7e35-faac-47da-a87a-3eff8df7b20a\",\"type\":\"GlyphRenderer\"},{\"id\":\"732b1a18-ee46-4f02-93be-ca295a8f7449\",\"type\":\"GlyphRenderer\"},{\"id\":\"5955acf3-2154-48a7-9078-c0ba149bd337\",\"type\":\"GlyphRenderer\"},{\"id\":\"ed713d84-1223-47fe-b0ba-29c126d10fb3\",\"type\":\"GlyphRenderer\"},{\"id\":\"31715acd-3093-4dcd-b600-2958e3adfb24\",\"type\":\"GlyphRenderer\"},{\"id\":\"5ad5c99b-8c89-44bf-a596-68645f688d79\",\"type\":\"GlyphRenderer\"},{\"id\":\"f3f79db8-0eb6-4c78-8b37-d5cb26ae396d\",\"type\":\"GlyphRenderer\"},{\"id\":\"af02645d-64c8-4f78-b5d4-a89e50ec1499\",\"type\":\"GlyphRenderer\"},{\"id\":\"6e5922a2-dde0-435f-9a0c-fff9b20d45b5\",\"type\":\"Legend\"}],\"right\":[{\"id\":\"6e5922a2-dde0-435f-9a0c-fff9b20d45b5\",\"type\":\"Legend\"}],\"title\":{\"id\":\"1ec3c817-fa54-498a-8349-aebf37424524\",\"type\":\"Title\"},\"toolbar\":{\"id\":\"951fa845-b3e5-40fe-a414-f9a1fe0e08c0\",\"type\":\"Toolbar\"},\"toolbar_location\":\"above\",\"x_range\":{\"id\":\"fab7bd98-365e-493b-8218-40f2b7fed4c8\",\"type\":\"DataRange1d\"},\"x_scale\":{\"id\":\"c4c95717-e245-4069-add3-e754369ccdc2\",\"type\":\"LinearScale\"},\"y_range\":{\"id\":\"11f975d1-12e9-46a8-8ed4-d02da1fc3ef3\",\"type\":\"DataRange1d\"},\"y_scale\":{\"id\":\"1dc15e8d-42c4-41ed-88cb-c9cbe99964aa\",\"type\":\"LinearScale\"}},\"id\":\"fa24c88a-85bb-4b4c-92f7-b8aec5a77e8f\",\"subtype\":\"Figure\",\"type\":\"Plot\"},{\"attributes\":{\"callback\":null},\"id\":\"11f975d1-12e9-46a8-8ed4-d02da1fc3ef3\",\"type\":\"DataRange1d\"},{\"attributes\":{\"data_source\":{\"id\":\"19dc4f90-93d2-4fe7-9674-f72004e6ea74\",\"type\":\"ColumnDataSource\"},\"glyph\":{\"id\":\"e3073166-d0d3-4cc7-a4d2-c9ecacbc02f4\",\"type\":\"Circle\"},\"hover_glyph\":null,\"muted\":true,\"muted_glyph\":{\"id\":\"01641c20-0016-4057-8a2e-cc9f4b0488cd\",\"type\":\"Circle\"},\"nonselection_glyph\":{\"id\":\"fa3aa535-bdc4-4cab-874c-c2887c6f76f0\",\"type\":\"Circle\"},\"selection_glyph\":null,\"view\":{\"id\":\"d2b243a1-d4d2-44fc-b6ac-6098ad9dc267\",\"type\":\"CDSView\"}},\"id\":\"c6f1d5f0-4c33-4764-bc1f-e5c6a47d3ffb\",\"type\":\"GlyphRenderer\"},{\"attributes\":{\"fill_alpha\":{\"value\":0.1},\"fill_color\":{\"field\":\"specie\",\"transform\":{\"id\":\"5ba08051-a679-4f79-a961-70c2e65836be\",\"type\":\"CategoricalColorMapper\"}},\"line_alpha\":{\"value\":0.1},\"line_color\":{\"field\":\"specie\",\"transform\":{\"id\":\"5ba08051-a679-4f79-a961-70c2e65836be\",\"type\":\"CategoricalColorMapper\"}},\"size\":{\"units\":\"screen\",\"value\":5},\"x\":{\"field\":\"x\"},\"y\":{\"field\":\"y\"}},\"id\":\"2a2cd317-9330-43d9-918f-85a2d9c96ec1\",\"type\":\"Circle\"},{\"attributes\":{\"fill_alpha\":{\"value\":0.6},\"fill_color\":{\"field\":\"specie\",\"transform\":{\"id\":\"5ba08051-a679-4f79-a961-70c2e65836be\",\"type\":\"CategoricalColorMapper\"}},\"line_alpha\":{\"value\":0.6},\"line_color\":{\"field\":\"specie\",\"transform\":{\"id\":\"5ba08051-a679-4f79-a961-70c2e65836be\",\"type\":\"CategoricalColorMapper\"}},\"size\":{\"units\":\"screen\",\"value\":5},\"x\":{\"field\":\"x\"},\"y\":{\"field\":\"y\"}},\"id\":\"b3e62ab7-261d-44b3-bf79-ffb5c0be60c7\",\"type\":\"Circle\"},{\"attributes\":{\"fill_alpha\":{\"value\":0.1},\"fill_color\":{\"field\":\"specie\",\"transform\":{\"id\":\"5ba08051-a679-4f79-a961-70c2e65836be\",\"type\":\"CategoricalColorMapper\"}},\"line_alpha\":{\"value\":0.1},\"line_color\":{\"field\":\"specie\",\"transform\":{\"id\":\"5ba08051-a679-4f79-a961-70c2e65836be\",\"type\":\"CategoricalColorMapper\"}},\"size\":{\"units\":\"screen\",\"value\":5},\"x\":{\"field\":\"x\"},\"y\":{\"field\":\"y\"}},\"id\":\"4255aa7c-9d9c-4ecf-a239-bbd957f655b6\",\"type\":\"Circle\"},{\"attributes\":{},\"id\":\"b592fdb1-2115-4490-9606-52885a1138ce\",\"type\":\"Selection\"},{\"attributes\":{\"formatter\":{\"id\":\"6336f29b-0a41-4b45-8d09-d5e3f1afbeda\",\"type\":\"BasicTickFormatter\"},\"plot\":{\"id\":\"fa24c88a-85bb-4b4c-92f7-b8aec5a77e8f\",\"subtype\":\"Figure\",\"type\":\"Plot\"},\"ticker\":{\"id\":\"7e3ceda3-b6e1-45fe-a152-f45fea1342c7\",\"type\":\"BasicTicker\"}},\"id\":\"9b787e4a-12ae-4601-92ea-6949d1d65844\",\"type\":\"LinearAxis\"},{\"attributes\":{\"data_source\":{\"id\":\"276688aa-4d1f-48d7-a024-170e196c20c4\",\"type\":\"ColumnDataSource\"},\"glyph\":{\"id\":\"85faa1a7-16d5-4f19-b423-a2e99a6592a6\",\"type\":\"Circle\"},\"hover_glyph\":null,\"muted\":true,\"muted_glyph\":{\"id\":\"90693eae-f1be-498e-85d9-73bade3de907\",\"type\":\"Circle\"},\"nonselection_glyph\":{\"id\":\"8557bca8-ec67-462e-a39c-75896197e964\",\"type\":\"Circle\"},\"selection_glyph\":null,\"view\":{\"id\":\"2ba0db2e-bc50-452a-ac6d-63ecff84d565\",\"type\":\"CDSView\"}},\"id\":\"5955acf3-2154-48a7-9078-c0ba149bd337\",\"type\":\"GlyphRenderer\"},{\"attributes\":{\"data_source\":{\"id\":\"a80130f6-f04d-454e-a3a2-17e41719687e\",\"type\":\"ColumnDataSource\"},\"glyph\":{\"id\":\"17ac3ddc-7f48-48ae-9b5c-8a13c1fe05a6\",\"type\":\"Circle\"},\"hover_glyph\":null,\"muted\":true,\"muted_glyph\":{\"id\":\"9fcf47e7-04a6-4da5-a4ce-d2c9eda6cd88\",\"type\":\"Circle\"},\"nonselection_glyph\":{\"id\":\"05af988b-9d83-45e6-9add-c475e458b09b\",\"type\":\"Circle\"},\"selection_glyph\":null,\"view\":{\"id\":\"246c9dd3-e96d-4094-bb83-eac9882dc163\",\"type\":\"CDSView\"}},\"id\":\"ed713d84-1223-47fe-b0ba-29c126d10fb3\",\"type\":\"GlyphRenderer\"},{\"attributes\":{\"source\":{\"id\":\"3ffd523f-9570-4a4a-a69e-4748644a0f36\",\"type\":\"ColumnDataSource\"}},\"id\":\"1dc78cb1-c095-4b6d-9ab1-9852d4d2ac09\",\"type\":\"CDSView\"},{\"attributes\":{\"fill_alpha\":{\"value\":0.6},\"fill_color\":{\"field\":\"specie\",\"transform\":{\"id\":\"5ba08051-a679-4f79-a961-70c2e65836be\",\"type\":\"CategoricalColorMapper\"}},\"line_alpha\":{\"value\":0.6},\"line_color\":{\"field\":\"specie\",\"transform\":{\"id\":\"5ba08051-a679-4f79-a961-70c2e65836be\",\"type\":\"CategoricalColorMapper\"}},\"size\":{\"units\":\"screen\",\"value\":5},\"x\":{\"field\":\"x\"},\"y\":{\"field\":\"y\"}},\"id\":\"4485bb19-e7fc-4982-955f-2e62241c558a\",\"type\":\"Circle\"},{\"attributes\":{},\"id\":\"52ecb980-bb00-45d1-883a-1b08fdf9f743\",\"type\":\"UnionRenderers\"},{\"attributes\":{\"source\":{\"id\":\"e17ff4e0-d826-4cc2-9ef9-e7fcdcdd3979\",\"type\":\"ColumnDataSource\"}},\"id\":\"2b146ac7-f162-479f-a708-86b8ca819494\",\"type\":\"CDSView\"},{\"attributes\":{\"source\":{\"id\":\"a5c3a610-c485-47bd-8c2d-9d641d2ec7fa\",\"type\":\"ColumnDataSource\"}},\"id\":\"5737a2e1-f3e1-4fa8-919e-7087a1e4080f\",\"type\":\"CDSView\"},{\"attributes\":{\"callback\":null,\"data\":{\"index\":[843,844,845,846,847,848,849,850,851,852,853,854,855,856,857,858,859,860,861,862,863,864,865,866,867,868,869,870,871,872,873,874,875,876,877,878,879,880,881,882,883,884,885,886,887,888,889,890,891,892,893,894,895,896,897,898,899,900,901,902,903,904,905,906,907,908,909,910,911,912,913,914,915,916,917,918,919,920,921,922,923,924,925,926,927,928,929],\"kasios_index\":{\"__ndarray__\":\"AAAAAAAA+H8AAAAAAAD4fwAAAAAAAPh/AAAAAAAA+H8AAAAAAAD4fwAAAAAAAPh/AAAAAAAA+H8AAAAAAAD4fwAAAAAAAPh/AAAAAAAA+H8AAAAAAAD4fwAAAAAAAPh/AAAAAAAA+H8AAAAAAAD4fwAAAAAAAPh/AAAAAAAA+H8AAAAAAAD4fwAAAAAAAPh/AAAAAAAA+H8AAAAAAAD4fwAAAAAAAPh/AAAAAAAA+H8AAAAAAAD4fwAAAAAAAPh/AAAAAAAA+H8AAAAAAAD4fwAAAAAAAPh/AAAAAAAA+H8AAAAAAAD4fwAAAAAAAPh/AAAAAAAA+H8AAAAAAAD4fwAAAAAAAPh/AAAAAAAA+H8AAAAAAAD4fwAAAAAAAPh/AAAAAAAA+H8AAAAAAAD4fwAAAAAAAPh/AAAAAAAA+H8AAAAAAAD4fwAAAAAAAPh/AAAAAAAA+H8AAAAAAAD4fwAAAAAAAPh/AAAAAAAA+H8AAAAAAAD4fwAAAAAAAPh/AAAAAAAA+H8AAAAAAAD4fwAAAAAAAPh/AAAAAAAA+H8AAAAAAAD4fwAAAAAAAPh/AAAAAAAA+H8AAAAAAAD4fwAAAAAAAPh/AAAAAAAA+H8AAAAAAAD4fwAAAAAAAPh/AAAAAAAA+H8AAAAAAAD4fwAAAAAAAPh/AAAAAAAA+H8AAAAAAAD4fwAAAAAAAPh/AAAAAAAA+H8AAAAAAAD4fwAAAAAAAPh/AAAAAAAA+H8AAAAAAAD4fwAAAAAAAPh/AAAAAAAA+H8AAAAAAAD4fwAAAAAAAPh/AAAAAAAA+H8AAAAAAAD4fwAAAAAAAPh/AAAAAAAA+H8AAAAAAAD4fwAAAAAAAPh/AAAAAAAA+H8AAAAAAAD4fwAAAAAAAPh/AAAAAAAA+H8AAAAAAAD4fwAAAAAAAPh/\",\"dtype\":\"float64\",\"shape\":[87]},\"specie\":[\"Green-tipped Scarlet Pipit\",\"Green-tipped Scarlet Pipit\",\"Green-tipped Scarlet Pipit\",\"Green-tipped Scarlet Pipit\",\"Green-tipped Scarlet Pipit\",\"Green-tipped Scarlet Pipit\",\"Green-tipped Scarlet Pipit\",\"Green-tipped Scarlet Pipit\",\"Green-tipped Scarlet Pipit\",\"Green-tipped Scarlet Pipit\",\"Green-tipped Scarlet Pipit\",\"Green-tipped Scarlet Pipit\",\"Green-tipped Scarlet Pipit\",\"Green-tipped Scarlet Pipit\",\"Green-tipped Scarlet Pipit\",\"Green-tipped Scarlet Pipit\",\"Green-tipped Scarlet Pipit\",\"Green-tipped Scarlet Pipit\",\"Green-tipped Scarlet Pipit\",\"Green-tipped Scarlet Pipit\",\"Green-tipped Scarlet Pipit\",\"Green-tipped Scarlet Pipit\",\"Green-tipped Scarlet Pipit\",\"Green-tipped Scarlet Pipit\",\"Green-tipped Scarlet Pipit\",\"Green-tipped Scarlet Pipit\",\"Green-tipped Scarlet Pipit\",\"Green-tipped Scarlet Pipit\",\"Green-tipped Scarlet Pipit\",\"Green-tipped Scarlet Pipit\",\"Green-tipped Scarlet Pipit\",\"Green-tipped Scarlet Pipit\",\"Green-tipped Scarlet Pipit\",\"Green-tipped Scarlet Pipit\",\"Green-tipped Scarlet Pipit\",\"Green-tipped Scarlet Pipit\",\"Green-tipped Scarlet Pipit\",\"Green-tipped Scarlet Pipit\",\"Green-tipped Scarlet Pipit\",\"Green-tipped Scarlet Pipit\",\"Green-tipped Scarlet Pipit\",\"Green-tipped Scarlet Pipit\",\"Green-tipped Scarlet Pipit\",\"Green-tipped Scarlet Pipit\",\"Green-tipped Scarlet Pipit\",\"Green-tipped Scarlet Pipit\",\"Green-tipped Scarlet Pipit\",\"Green-tipped Scarlet Pipit\",\"Green-tipped Scarlet Pipit\",\"Green-tipped Scarlet Pipit\",\"Green-tipped Scarlet Pipit\",\"Green-tipped Scarlet Pipit\",\"Green-tipped Scarlet Pipit\",\"Green-tipped Scarlet Pipit\",\"Green-tipped Scarlet Pipit\",\"Green-tipped Scarlet Pipit\",\"Green-tipped Scarlet Pipit\",\"Green-tipped Scarlet Pipit\",\"Green-tipped Scarlet Pipit\",\"Green-tipped Scarlet Pipit\",\"Green-tipped Scarlet Pipit\",\"Green-tipped Scarlet Pipit\",\"Green-tipped Scarlet Pipit\",\"Green-tipped Scarlet Pipit\",\"Green-tipped Scarlet Pipit\",\"Green-tipped Scarlet Pipit\",\"Green-tipped Scarlet Pipit\",\"Green-tipped Scarlet Pipit\",\"Green-tipped Scarlet Pipit\",\"Green-tipped Scarlet Pipit\",\"Green-tipped Scarlet Pipit\",\"Green-tipped Scarlet Pipit\",\"Green-tipped Scarlet Pipit\",\"Green-tipped Scarlet Pipit\",\"Green-tipped Scarlet Pipit\",\"Green-tipped Scarlet Pipit\",\"Green-tipped Scarlet Pipit\",\"Green-tipped Scarlet Pipit\",\"Green-tipped Scarlet Pipit\",\"Green-tipped Scarlet Pipit\",\"Green-tipped Scarlet Pipit\",\"Green-tipped Scarlet Pipit\",\"Green-tipped Scarlet Pipit\",\"Green-tipped Scarlet Pipit\",\"Green-tipped Scarlet Pipit\",\"Green-tipped Scarlet Pipit\",\"Green-tipped Scarlet Pipit\"],\"x\":{\"__ndarray__\":\"7qNbQZ67TkE0XEFB/HFeQUtnQ0EuQGVBcXtfQRlTREHU4FJBJtZIQeqWW0HFsUpBAE0/QaHiQ0F0Ul5BnpxgQUFBYkFZmF5B5g1GQb+LSUHackhBEVdKQf0nU0HZckNBzgNBQWU/akExsVRBL01EQd05REHv1VZB0UVDQfvBPUGrgkRBxr89QYLjP0F/s1dBhxdCQcJOUUFcvk5BX5ZXQSdNQ0EFpWRBqRZBQTKVRUF9gExBUFFcQQ7YS0FVwWdBx9dXQVkeZEFK7VBBjvRDQVBNXUFQhU5BBMkyQYtFYEHOXzpB419cQUhbUEErwl1BMJpAQeVnPUEtjFNBKi1PQV0KXUHunF1Bm0lUQRwMTkHeUkNBuJBCQRqnfkGb2UtBlLJFQQdcWkEBioFBOzFBQbvNOUGP/DxBRcFdQRfIPkHNOD5BTPVhQRagRkED5T5B3GtQQXXOW0GgCU1B\",\"dtype\":\"float32\",\"shape\":[87]},\"y\":{\"__ndarray__\":\"hmlXQZNNQUGEeUJBOM5bQaM0QEF/4k1BfjJGQTEcO0FsujxBDyNDQTspVEFczTlBK3ZDQYHjO0FEakZBwXhYQTrpT0EpiURBL9c/QRNaPEEtpj1Brh88QW18PUFNDkFB4MM/Qb/9RUF+jDVBtqpDQViyQEHnx0NBo5ZPQfozTEFW50FB4dJGQXcIS0EOXT9B9eNCQaDwPUHy+T1BMd5EQU0rQkEAzFVB7oZXQVGnVUEFoTpBfOdDQVI1QEEkJ0dBA9k/Qa9oUUEjUz1BICxZQZn6V0Fwhz9BNGFQQfV1hUHEmUFBBPpbQRkIPEFJUFhBYLM+QYJ+QkE4ijpBk0lAQS/IQkG5q0VBwGA+QZ+wQEHfNT1B5Uo/QdU2XkGzOjpBUINBQfwOWUHO5lNBhvQ9QS/0QEFoCkJB0s1aQbfySEEGsEVBotJZQSzYU0GnfEBBP4I8QbcVRUGAJEFB\",\"dtype\":\"float32\",\"shape\":[87]}},\"selected\":{\"id\":\"20e89757-7470-4269-8581-14cd68292bc3\",\"type\":\"Selection\"},\"selection_policy\":{\"id\":\"3f16a148-e8b6-4a5c-90be-c7d4b93814e3\",\"type\":\"UnionRenderers\"}},\"id\":\"a0b2e492-f5a7-4dfd-920d-f32a10ee60fb\",\"type\":\"ColumnDataSource\"},{\"attributes\":{\"source\":{\"id\":\"29d5e9fd-7a23-4f29-b4df-bd8c3055ec0d\",\"type\":\"ColumnDataSource\"}},\"id\":\"2dfe944a-581d-4af0-8ccf-1ae50ac79d1f\",\"type\":\"CDSView\"},{\"attributes\":{},\"id\":\"f129f3f4-c9d1-4492-b006-a75ea46b0305\",\"type\":\"Selection\"},{\"attributes\":{\"data_source\":{\"id\":\"85ca2dcd-ab81-469a-ba40-90c901b1dfa5\",\"type\":\"ColumnDataSource\"},\"glyph\":{\"id\":\"4485bb19-e7fc-4982-955f-2e62241c558a\",\"type\":\"Circle\"},\"hover_glyph\":null,\"muted\":true,\"muted_glyph\":{\"id\":\"e95ea0a2-75ad-450e-a191-f7bb5ed978af\",\"type\":\"Circle\"},\"nonselection_glyph\":{\"id\":\"470f4e9b-9115-4702-9904-0ca5829b412c\",\"type\":\"Circle\"},\"selection_glyph\":null,\"view\":{\"id\":\"75338490-d9c5-4d09-b45c-deeb5b80f604\",\"type\":\"CDSView\"}},\"id\":\"fb3da94c-3755-4ace-b1a5-473c5d103bf5\",\"type\":\"GlyphRenderer\"},{\"attributes\":{\"fill_alpha\":{\"value\":0.1},\"fill_color\":{\"value\":\"#1f77b4\"},\"line_alpha\":{\"value\":0.1},\"line_color\":{\"value\":\"#1f77b4\"},\"size\":{\"units\":\"screen\",\"value\":5},\"x\":{\"field\":\"x\"},\"y\":{\"field\":\"y\"}},\"id\":\"60139d9d-b13f-4bfe-8917-d2b52402e57b\",\"type\":\"Circle\"},{\"attributes\":{\"fill_alpha\":{\"value\":0.1},\"fill_color\":{\"value\":\"#1f77b4\"},\"line_alpha\":{\"value\":0.1},\"line_color\":{\"value\":\"#1f77b4\"},\"size\":{\"units\":\"screen\",\"value\":5},\"x\":{\"field\":\"x\"},\"y\":{\"field\":\"y\"}},\"id\":\"05af988b-9d83-45e6-9add-c475e458b09b\",\"type\":\"Circle\"},{\"attributes\":{},\"id\":\"4de532af-ec4d-407c-a53b-d30f9e60a325\",\"type\":\"Selection\"},{\"attributes\":{\"fill_alpha\":{\"value\":0.1},\"fill_color\":{\"value\":\"#1f77b4\"},\"line_alpha\":{\"value\":0.1},\"line_color\":{\"value\":\"#1f77b4\"},\"size\":{\"units\":\"screen\",\"value\":5},\"x\":{\"field\":\"x\"},\"y\":{\"field\":\"y\"}},\"id\":\"470f4e9b-9115-4702-9904-0ca5829b412c\",\"type\":\"Circle\"},{\"attributes\":{\"fill_alpha\":{\"value\":0.6},\"fill_color\":{\"field\":\"specie\",\"transform\":{\"id\":\"5ba08051-a679-4f79-a961-70c2e65836be\",\"type\":\"CategoricalColorMapper\"}},\"line_alpha\":{\"value\":0.6},\"line_color\":{\"field\":\"specie\",\"transform\":{\"id\":\"5ba08051-a679-4f79-a961-70c2e65836be\",\"type\":\"CategoricalColorMapper\"}},\"size\":{\"units\":\"screen\",\"value\":5},\"x\":{\"field\":\"x\"},\"y\":{\"field\":\"y\"}},\"id\":\"a97249f3-5e61-4356-8e76-f26fcd8b4df5\",\"type\":\"Circle\"},{\"attributes\":{\"formatter\":{\"id\":\"0903c674-c7c1-4aff-adb4-e2ee95a57cfd\",\"type\":\"BasicTickFormatter\"},\"plot\":{\"id\":\"fa24c88a-85bb-4b4c-92f7-b8aec5a77e8f\",\"subtype\":\"Figure\",\"type\":\"Plot\"},\"ticker\":{\"id\":\"b9f6c3e3-05f5-4b97-a003-0ac7f23c9cab\",\"type\":\"BasicTicker\"}},\"id\":\"ecb93021-4ab2-4ed2-9d6f-d5ffdbf29232\",\"type\":\"LinearAxis\"},{\"attributes\":{\"fill_alpha\":{\"value\":0.1},\"fill_color\":{\"field\":\"specie\",\"transform\":{\"id\":\"5ba08051-a679-4f79-a961-70c2e65836be\",\"type\":\"CategoricalColorMapper\"}},\"line_alpha\":{\"value\":0.1},\"line_color\":{\"field\":\"specie\",\"transform\":{\"id\":\"5ba08051-a679-4f79-a961-70c2e65836be\",\"type\":\"CategoricalColorMapper\"}},\"size\":{\"units\":\"screen\",\"value\":5},\"x\":{\"field\":\"x\"},\"y\":{\"field\":\"y\"}},\"id\":\"fc4a7b2f-0ce4-4272-9fde-c27a961c242a\",\"type\":\"Circle\"},{\"attributes\":{\"source\":{\"id\":\"c50a8558-4e47-4f8b-a50c-be0d0e9066cc\",\"type\":\"ColumnDataSource\"}},\"id\":\"e107a07f-a197-47e7-aae3-e610f192abc9\",\"type\":\"CDSView\"},{\"attributes\":{\"fill_alpha\":{\"value\":0.1},\"fill_color\":{\"value\":\"#1f77b4\"},\"line_alpha\":{\"value\":0.1},\"line_color\":{\"value\":\"#1f77b4\"},\"size\":{\"units\":\"screen\",\"value\":5},\"x\":{\"field\":\"x\"},\"y\":{\"field\":\"y\"}},\"id\":\"fa3aa535-bdc4-4cab-874c-c2887c6f76f0\",\"type\":\"Circle\"},{\"attributes\":{\"callback\":null,\"data\":{\"index\":[186,187,188,189,190,191,192,193,194,195,196,197,198,199,200,201,202,203,204,205,206,207,208,209,210,211,212,213,214,215,216,217,218,219,220,221,222,223,224,225,226,227,228,229,230,231,232,233,234,235,236,237,238,239,240,241,242,243,244,245,246,247,248,249,250,251,252],\"kasios_index\":{\"__ndarray__\":\"AAAAAAAA+H8AAAAAAAD4fwAAAAAAAPh/AAAAAAAA+H8AAAAAAAD4fwAAAAAAAPh/AAAAAAAA+H8AAAAAAAD4fwAAAAAAAPh/AAAAAAAA+H8AAAAAAAD4fwAAAAAAAPh/AAAAAAAA+H8AAAAAAAD4fwAAAAAAAPh/AAAAAAAA+H8AAAAAAAD4fwAAAAAAAPh/AAAAAAAA+H8AAAAAAAD4fwAAAAAAAPh/AAAAAAAA+H8AAAAAAAD4fwAAAAAAAPh/AAAAAAAA+H8AAAAAAAD4fwAAAAAAAPh/AAAAAAAA+H8AAAAAAAD4fwAAAAAAAPh/AAAAAAAA+H8AAAAAAAD4fwAAAAAAAPh/AAAAAAAA+H8AAAAAAAD4fwAAAAAAAPh/AAAAAAAA+H8AAAAAAAD4fwAAAAAAAPh/AAAAAAAA+H8AAAAAAAD4fwAAAAAAAPh/AAAAAAAA+H8AAAAAAAD4fwAAAAAAAPh/AAAAAAAA+H8AAAAAAAD4fwAAAAAAAPh/AAAAAAAA+H8AAAAAAAD4fwAAAAAAAPh/AAAAAAAA+H8AAAAAAAD4fwAAAAAAAPh/AAAAAAAA+H8AAAAAAAD4fwAAAAAAAPh/AAAAAAAA+H8AAAAAAAD4fwAAAAAAAPh/AAAAAAAA+H8AAAAAAAD4fwAAAAAAAPh/AAAAAAAA+H8AAAAAAAD4fwAAAAAAAPh/AAAAAAAA+H8=\",\"dtype\":\"float64\",\"shape\":[67]},\"specie\":[\"Blue-collared Zipper\",\"Blue-collared Zipper\",\"Blue-collared Zipper\",\"Blue-collared Zipper\",\"Blue-collared Zipper\",\"Blue-collared Zipper\",\"Blue-collared Zipper\",\"Blue-collared Zipper\",\"Blue-collared Zipper\",\"Blue-collared Zipper\",\"Blue-collared Zipper\",\"Blue-collared Zipper\",\"Blue-collared Zipper\",\"Blue-collared Zipper\",\"Blue-collared Zipper\",\"Blue-collared Zipper\",\"Blue-collared Zipper\",\"Blue-collared Zipper\",\"Blue-collared Zipper\",\"Blue-collared Zipper\",\"Blue-collared Zipper\",\"Blue-collared Zipper\",\"Blue-collared Zipper\",\"Blue-collared Zipper\",\"Blue-collared Zipper\",\"Blue-collared Zipper\",\"Blue-collared Zipper\",\"Blue-collared Zipper\",\"Blue-collared Zipper\",\"Blue-collared Zipper\",\"Blue-collared Zipper\",\"Blue-collared Zipper\",\"Blue-collared Zipper\",\"Blue-collared Zipper\",\"Blue-collared Zipper\",\"Blue-collared Zipper\",\"Blue-collared Zipper\",\"Blue-collared Zipper\",\"Blue-collared Zipper\",\"Blue-collared Zipper\",\"Blue-collared Zipper\",\"Blue-collared Zipper\",\"Blue-collared Zipper\",\"Blue-collared Zipper\",\"Blue-collared Zipper\",\"Blue-collared Zipper\",\"Blue-collared Zipper\",\"Blue-collared Zipper\",\"Blue-collared Zipper\",\"Blue-collared Zipper\",\"Blue-collared Zipper\",\"Blue-collared Zipper\",\"Blue-collared Zipper\",\"Blue-collared Zipper\",\"Blue-collared Zipper\",\"Blue-collared Zipper\",\"Blue-collared Zipper\",\"Blue-collared Zipper\",\"Blue-collared Zipper\",\"Blue-collared Zipper\",\"Blue-collared Zipper\",\"Blue-collared Zipper\",\"Blue-collared Zipper\",\"Blue-collared Zipper\",\"Blue-collared Zipper\",\"Blue-collared Zipper\",\"Blue-collared Zipper\"],\"x\":{\"__ndarray__\":\"KVekQZNwiEEzJl5B3bGcQVGXokERhpZBGOyNQX73hEGG+I1B3muHQR0OYkEywIJBv2JcQYyfHUGe2JlB8UeZQYWBpEGmKa1Bo8qFQTQ2T0Gx9JdBUdSpQWA8fUEJXKlBuqVTQcbRbUFqoYZBqY6CQVjQhkFn5IlBw+aWQSc8dkEMBGZBgzBXQVvQkUHRg4dBjTeZQTXbfUFFRatBz+GaQbhEm0FczH5B7oyGQfhxRUFc/IlBwT6BQe0TUUE1n0RBUS2NQafdTUEbk5FBVXygQdbZT0EK5TtBTdlDQYhhl0EO9FdBh8GJQUu4gEGt+11B6VGGQf8CQ0EXXj9BOWCjQQkwqUGYjZZBs1KUQQ==\",\"dtype\":\"float32\",\"shape\":[67]},\"y\":{\"__ndarray__\":\"2Gd9QdjKZEEfWFlBLbFrQZkMeEFhA2RBRRNHQXsFSkGgkVRB42BUQScuU0HSoF9BrctZQZ/FZ0FPQ1xBS89dQf51akEAOXpB8fBPQX0CSEGYt2tBTXJ6QeCXOEEg4HlBjak2QR4TOUFxyVRBYPFDQYmtU0EtAWhBrPxfQfIRVUH9O1ZBngiHQZ6scEEI7FpBiv9rQZ0aXEFbqXhBlblrQQyBYUF5nFNBx5VOQdQNbUFoTFhBBio3Qb/TSEFnZ3pB6SZBQSTrUUHDnnBBVi+HQepAUUGhV1FBogt6QbtYakHxK0NB6GlnQeREU0Ebv1lB7RRZQVg4c0G4qYNBx5OBQey9hUHHbXpBtPNZQQ==\",\"dtype\":\"float32\",\"shape\":[67]}},\"selected\":{\"id\":\"16b98692-d703-45f8-bf04-c49224c3216e\",\"type\":\"Selection\"},\"selection_policy\":{\"id\":\"a44ddea1-eb7f-4b1d-8255-7886d53c841b\",\"type\":\"UnionRenderers\"}},\"id\":\"f09e323d-0425-4102-b4a6-07021727e4dc\",\"type\":\"ColumnDataSource\"},{\"attributes\":{\"fill_alpha\":{\"value\":0.1},\"fill_color\":{\"field\":\"specie\",\"transform\":{\"id\":\"5ba08051-a679-4f79-a961-70c2e65836be\",\"type\":\"CategoricalColorMapper\"}},\"line_alpha\":{\"value\":0.1},\"line_color\":{\"field\":\"specie\",\"transform\":{\"id\":\"5ba08051-a679-4f79-a961-70c2e65836be\",\"type\":\"CategoricalColorMapper\"}},\"size\":{\"units\":\"screen\",\"value\":5},\"x\":{\"field\":\"x\"},\"y\":{\"field\":\"y\"}},\"id\":\"9fcf47e7-04a6-4da5-a4ce-d2c9eda6cd88\",\"type\":\"Circle\"},{\"attributes\":{},\"id\":\"772ba317-ff56-4103-a833-6ac6ce6f98e7\",\"type\":\"Selection\"},{\"attributes\":{\"callback\":null,\"data\":{\"index\":[755,756,757,758,759,760,761,762,763,764,765,766,767,768,769,770,771,772,773,774,775,776,777,778,779,780,781,782,783,784,785,786,787,788,789,790,791,792,793,794,795,796,797,798,799,800,801,802,803,804,805,806,807,808,809,810,811,812,813,814,815,816,817,818,819,820,821,822,823,824,825,826,827,828,829,830,831,832,833,834,835,836,837,838,839,840,841,842],\"kasios_index\":{\"__ndarray__\":\"AAAAAAAA+H8AAAAAAAD4fwAAAAAAAPh/AAAAAAAA+H8AAAAAAAD4fwAAAAAAAPh/AAAAAAAA+H8AAAAAAAD4fwAAAAAAAPh/AAAAAAAA+H8AAAAAAAD4fwAAAAAAAPh/AAAAAAAA+H8AAAAAAAD4fwAAAAAAAPh/AAAAAAAA+H8AAAAAAAD4fwAAAAAAAPh/AAAAAAAA+H8AAAAAAAD4fwAAAAAAAPh/AAAAAAAA+H8AAAAAAAD4fwAAAAAAAPh/AAAAAAAA+H8AAAAAAAD4fwAAAAAAAPh/AAAAAAAA+H8AAAAAAAD4fwAAAAAAAPh/AAAAAAAA+H8AAAAAAAD4fwAAAAAAAPh/AAAAAAAA+H8AAAAAAAD4fwAAAAAAAPh/AAAAAAAA+H8AAAAAAAD4fwAAAAAAAPh/AAAAAAAA+H8AAAAAAAD4fwAAAAAAAPh/AAAAAAAA+H8AAAAAAAD4fwAAAAAAAPh/AAAAAAAA+H8AAAAAAAD4fwAAAAAAAPh/AAAAAAAA+H8AAAAAAAD4fwAAAAAAAPh/AAAAAAAA+H8AAAAAAAD4fwAAAAAAAPh/AAAAAAAA+H8AAAAAAAD4fwAAAAAAAPh/AAAAAAAA+H8AAAAAAAD4fwAAAAAAAPh/AAAAAAAA+H8AAAAAAAD4fwAAAAAAAPh/AAAAAAAA+H8AAAAAAAD4fwAAAAAAAPh/AAAAAAAA+H8AAAAAAAD4fwAAAAAAAPh/AAAAAAAA+H8AAAAAAAD4fwAAAAAAAPh/AAAAAAAA+H8AAAAAAAD4fwAAAAAAAPh/AAAAAAAA+H8AAAAAAAD4fwAAAAAAAPh/AAAAAAAA+H8AAAAAAAD4fwAAAAAAAPh/AAAAAAAA+H8AAAAAAAD4fwAAAAAAAPh/AAAAAAAA+H8AAAAAAAD4fwAAAAAAAPh/AAAAAAAA+H8=\",\"dtype\":\"float64\",\"shape\":[88]},\"specie\":[\"Eastern Corn Skeet\",\"Eastern Corn Skeet\",\"Eastern Corn Skeet\",\"Eastern Corn Skeet\",\"Eastern Corn Skeet\",\"Eastern Corn Skeet\",\"Eastern Corn Skeet\",\"Eastern Corn Skeet\",\"Eastern Corn Skeet\",\"Eastern Corn Skeet\",\"Eastern Corn Skeet\",\"Eastern Corn Skeet\",\"Eastern Corn Skeet\",\"Eastern Corn Skeet\",\"Eastern Corn Skeet\",\"Eastern Corn Skeet\",\"Eastern Corn Skeet\",\"Eastern Corn Skeet\",\"Eastern Corn Skeet\",\"Eastern Corn Skeet\",\"Eastern Corn Skeet\",\"Eastern Corn Skeet\",\"Eastern Corn Skeet\",\"Eastern Corn Skeet\",\"Eastern Corn Skeet\",\"Eastern Corn Skeet\",\"Eastern Corn Skeet\",\"Eastern Corn Skeet\",\"Eastern Corn Skeet\",\"Eastern Corn Skeet\",\"Eastern Corn Skeet\",\"Eastern Corn Skeet\",\"Eastern Corn Skeet\",\"Eastern Corn Skeet\",\"Eastern Corn Skeet\",\"Eastern Corn Skeet\",\"Eastern Corn Skeet\",\"Eastern Corn Skeet\",\"Eastern Corn Skeet\",\"Eastern Corn Skeet\",\"Eastern Corn Skeet\",\"Eastern Corn Skeet\",\"Eastern Corn Skeet\",\"Eastern Corn Skeet\",\"Eastern Corn Skeet\",\"Eastern Corn Skeet\",\"Eastern Corn Skeet\",\"Eastern Corn Skeet\",\"Eastern Corn Skeet\",\"Eastern Corn Skeet\",\"Eastern Corn Skeet\",\"Eastern Corn Skeet\",\"Eastern Corn Skeet\",\"Eastern Corn Skeet\",\"Eastern Corn Skeet\",\"Eastern Corn Skeet\",\"Eastern Corn Skeet\",\"Eastern Corn Skeet\",\"Eastern Corn Skeet\",\"Eastern Corn Skeet\",\"Eastern Corn Skeet\",\"Eastern Corn Skeet\",\"Eastern Corn Skeet\",\"Eastern Corn Skeet\",\"Eastern Corn Skeet\",\"Eastern Corn Skeet\",\"Eastern Corn Skeet\",\"Eastern Corn Skeet\",\"Eastern Corn Skeet\",\"Eastern Corn Skeet\",\"Eastern Corn Skeet\",\"Eastern Corn Skeet\",\"Eastern Corn Skeet\",\"Eastern Corn Skeet\",\"Eastern Corn Skeet\",\"Eastern Corn Skeet\",\"Eastern Corn Skeet\",\"Eastern Corn Skeet\",\"Eastern Corn Skeet\",\"Eastern Corn Skeet\",\"Eastern Corn Skeet\",\"Eastern Corn Skeet\",\"Eastern Corn Skeet\",\"Eastern Corn Skeet\",\"Eastern Corn Skeet\",\"Eastern Corn Skeet\",\"Eastern Corn Skeet\",\"Eastern Corn Skeet\"],\"x\":{\"__ndarray__\":\"xnxzQTocYUFVra1B6B+QQTrBPEGD8X9BxBSNQSSpqkEvqYdB/SN6QSyuNUHrSIdBYCmEQYIrcUEYBqVBIyKkQcSZiUFXiZJBd0ZsQQM0kUGQ/opBJaWPQdIzk0GijJZBomSIQYpli0GhtYZBtkGEQXJ9TkEzupVBIfCLQSHac0EhfJtBpMWNQZ8Rh0Fmg4FBi9yIQbX1YEFTuYNBwH6HQcoLeEFw94pBxn9bQaO0oUF0ioVB861NQVaMhUF8coRBCJCMQRU2cUGciJNBLjulQWTwpUFa7pVBmWaCQXY0hUE5aWVBlo6OQTljjkEbjZVB1RyIQd6/i0HWLYpBvpGOQVMvlkFHQo9B8/KHQVXQm0GcuIpBLriWQaeLWUH8CmJBZJmEQRoca0FV7UBBqMSRQaXZp0HDeIxBHq+IQTVHpkEWZVJBNcBVQZhzlEHR2JVBKEKIQY2AmUE+i5lBT6OWQQ==\",\"dtype\":\"float32\",\"shape\":[88]},\"y\":{\"__ndarray__\":\"CDNHQfUDiUFV2XtB3PpGQVvedEGU4DVBjDBRQTUgY0Hc8C5BEpA6QdVykkHq/TZBSfNSQQGfTEGJGnBBEQZqQRhrTkGTCFFBz9o2QZnqPkEJl0dBIIk5QeD2U0GPw1lB15otQYY7LUESlENB+aFFQQaxRkG3IVtBZLg1QSWIT0HXNGZB8e5UQYMxPkEclldBBwA/QSOIjEECnS5B9a9JQQdoN0GHGEVBGM1AQetjZUFcxzNBtChVQToTR0GdKUxBsHQ3QUxMNEFghU9Bkvl4QTsAaUHV+VtBRyouQYUrUEFK2VlBaL5KQd/MOkG7EFtB2MVJQRQGNUHpXi5BJrY2QV+hXUErFFVBsCdMQXY7ZEFkazpB215dQQw2MkHShY9BbhwzQZPvWUEoTHZBXOBTQbuSeUFWQE1BaAo6QVnnXkE3V0tBIJpaQftdVkFSVl5BDwwuQSH7W0FjqVxBZ3peQQ==\",\"dtype\":\"float32\",\"shape\":[88]}},\"selected\":{\"id\":\"9c5a3b3b-605d-4e0b-8f83-6f164a632108\",\"type\":\"Selection\"},\"selection_policy\":{\"id\":\"668306fc-7d7f-4c65-b9c1-85ae02d250c2\",\"type\":\"UnionRenderers\"}},\"id\":\"85ca2dcd-ab81-469a-ba40-90c901b1dfa5\",\"type\":\"ColumnDataSource\"},{\"attributes\":{},\"id\":\"192c8126-369c-4bb0-8ded-969a584d0d43\",\"type\":\"PanTool\"},{\"attributes\":{},\"id\":\"e31a152e-c4b6-49b2-8cfb-916def076662\",\"type\":\"ResetTool\"},{\"attributes\":{\"data_source\":{\"id\":\"f09e323d-0425-4102-b4a6-07021727e4dc\",\"type\":\"ColumnDataSource\"},\"glyph\":{\"id\":\"a97249f3-5e61-4356-8e76-f26fcd8b4df5\",\"type\":\"Circle\"},\"hover_glyph\":null,\"muted\":true,\"muted_glyph\":{\"id\":\"2a2cd317-9330-43d9-918f-85a2d9c96ec1\",\"type\":\"Circle\"},\"nonselection_glyph\":{\"id\":\"b3264db5-8a53-4b54-a6cd-aa8d01bb69be\",\"type\":\"Circle\"},\"selection_glyph\":null,\"view\":{\"id\":\"bdf60f41-0fe4-48a3-bf21-19b7ef44c894\",\"type\":\"CDSView\"}},\"id\":\"f754b5ef-7859-431b-98cb-a972c5f3d496\",\"type\":\"GlyphRenderer\"},{\"attributes\":{\"data_source\":{\"id\":\"7a08e699-c8d7-487d-ad9f-971c01072e39\",\"type\":\"ColumnDataSource\"},\"glyph\":{\"id\":\"53d8fe3a-fe6a-44c6-8479-abfc86627872\",\"type\":\"Circle\"},\"hover_glyph\":null,\"muted\":true,\"muted_glyph\":{\"id\":\"a344f541-a518-4cba-a6f2-f44ecfe74eaf\",\"type\":\"Circle\"},\"nonselection_glyph\":{\"id\":\"fba5bce2-8143-492c-b4da-7b6b883a48b7\",\"type\":\"Circle\"},\"selection_glyph\":null,\"view\":{\"id\":\"4804b1bb-be0a-4ca3-8338-56e17a50b053\",\"type\":\"CDSView\"}},\"id\":\"c43bdf86-0920-4b58-b72e-fb02d3212102\",\"type\":\"GlyphRenderer\"},{\"attributes\":{\"fill_alpha\":{\"value\":0.1},\"fill_color\":{\"field\":\"specie\",\"transform\":{\"id\":\"5ba08051-a679-4f79-a961-70c2e65836be\",\"type\":\"CategoricalColorMapper\"}},\"line_alpha\":{\"value\":0.1},\"line_color\":{\"field\":\"specie\",\"transform\":{\"id\":\"5ba08051-a679-4f79-a961-70c2e65836be\",\"type\":\"CategoricalColorMapper\"}},\"size\":{\"units\":\"screen\",\"value\":5},\"x\":{\"field\":\"x\"},\"y\":{\"field\":\"y\"}},\"id\":\"01641c20-0016-4057-8a2e-cc9f4b0488cd\",\"type\":\"Circle\"},{\"attributes\":{\"fill_alpha\":{\"value\":0.1},\"fill_color\":{\"field\":\"specie\",\"transform\":{\"id\":\"5ba08051-a679-4f79-a961-70c2e65836be\",\"type\":\"CategoricalColorMapper\"}},\"line_alpha\":{\"value\":0.1},\"line_color\":{\"field\":\"specie\",\"transform\":{\"id\":\"5ba08051-a679-4f79-a961-70c2e65836be\",\"type\":\"CategoricalColorMapper\"}},\"size\":{\"units\":\"screen\",\"value\":5},\"x\":{\"field\":\"x\"},\"y\":{\"field\":\"y\"}},\"id\":\"a70bb221-8121-4ea2-8084-329cf73c68ba\",\"type\":\"Circle\"},{\"attributes\":{},\"id\":\"b1b91639-933f-444c-8485-85a874baed67\",\"type\":\"UnionRenderers\"},{\"attributes\":{\"data_source\":{\"id\":\"3ffd523f-9570-4a4a-a69e-4748644a0f36\",\"type\":\"ColumnDataSource\"},\"glyph\":{\"id\":\"d768805d-5a3f-4e92-ba71-20a983c9146e\",\"type\":\"Circle\"},\"hover_glyph\":null,\"muted\":true,\"muted_glyph\":{\"id\":\"1a94eb13-1399-4f0a-8e7c-b3a808f2b581\",\"type\":\"Circle\"},\"nonselection_glyph\":{\"id\":\"e57085b1-dabc-4bc7-8be5-19dfd24ed7fc\",\"type\":\"Circle\"},\"selection_glyph\":null,\"view\":{\"id\":\"1dc78cb1-c095-4b6d-9ab1-9852d4d2ac09\",\"type\":\"CDSView\"}},\"id\":\"3f3b9bff-8a87-401e-bf0e-45f0f685e3b5\",\"type\":\"GlyphRenderer\"},{\"attributes\":{\"data_source\":{\"id\":\"fce1b433-e0bf-426c-b3c0-0a85d8836f81\",\"type\":\"ColumnDataSource\"},\"glyph\":{\"id\":\"67f5f137-8480-418a-b752-201a093c7b1a\",\"type\":\"Circle\"},\"hover_glyph\":null,\"muted\":true,\"muted_glyph\":{\"id\":\"a70bb221-8121-4ea2-8084-329cf73c68ba\",\"type\":\"Circle\"},\"nonselection_glyph\":{\"id\":\"9e66cf5d-172a-4700-ab85-bcc8e00c0f92\",\"type\":\"Circle\"},\"selection_glyph\":null,\"view\":{\"id\":\"11f48502-635a-47e8-8dce-41aeb95e3fff\",\"type\":\"CDSView\"}},\"id\":\"31715acd-3093-4dcd-b600-2958e3adfb24\",\"type\":\"GlyphRenderer\"},{\"attributes\":{\"fill_alpha\":{\"value\":0.1},\"fill_color\":{\"field\":\"specie\",\"transform\":{\"id\":\"5ba08051-a679-4f79-a961-70c2e65836be\",\"type\":\"CategoricalColorMapper\"}},\"line_alpha\":{\"value\":0.1},\"line_color\":{\"field\":\"specie\",\"transform\":{\"id\":\"5ba08051-a679-4f79-a961-70c2e65836be\",\"type\":\"CategoricalColorMapper\"}},\"size\":{\"units\":\"screen\",\"value\":5},\"x\":{\"field\":\"x\"},\"y\":{\"field\":\"y\"}},\"id\":\"aaae4b74-cfeb-41b7-a470-1b62105ea320\",\"type\":\"Circle\"},{\"attributes\":{\"callback\":null,\"data\":{\"index\":[1584,1585,1586,1587,1588,1589,1590,1591,1592,1593,1594,1595,1596,1597,1598,1599,1600,1601,1602,1603,1604,1605,1606,1607,1608,1609,1610,1611,1612,1613,1614,1615,1616,1617,1618,1619,1620,1621,1622,1623,1624,1625,1626,1627,1628,1629,1630,1631,1632,1633,1634,1635,1636,1637,1638,1639,1640,1641,1642,1643,1644,1645,1646,1647,1648,1649,1650,1651,1652,1653,1654,1655,1656,1657,1658,1659,1660,1661,1662,1663,1664,1665,1666,1667,1668,1669,1670,1671,1672,1673,1674,1675,1676,1677,1678,1679,1680,1681,1682,1683,1684,1685,1686,1687,1688,1689,1690,1691,1692,1693,1694,1695,1696,1697,1698,1699,1700,1701,1702,1703,1704,1705,1706,1707,1708,1709,1710,1711,1712,1713,1714,1715,1716,1717,1718,1719,1720,1721,1722,1723,1724,1725,1726,1727,1728,1729,1730,1731,1732,1733,1734,1735,1736,1737,1738,1739,1740,1741,1742,1743,1744,1745,1746,1747,1748,1749,1750,1751,1752,1753,1754,1755,1756,1757,1758,1759,1760,1761,1762,1763,1764,1765,1766,1767,1768,1769,1770,1771,1772,1773,1774,1775,1776,1777,1778,1779,1780,1781,1782,1783,1784,1785,1786,1787,1788,1789,1790,1791,1792,1793,1794,1795,1796,1797,1798,1799,1800,1801,1802,1803,1804,1805,1806,1807,1808,1809,1810,1811,1812,1813,1814,1815,1816,1817,1818,1819,1820,1821,1822],\"kasios_index\":{\"__ndarray__\":\"AAAAAAAA+H8AAAAAAAD4fwAAAAAAAPh/AAAAAAAA+H8AAAAAAAD4fwAAAAAAAPh/AAAAAAAA+H8AAAAAAAD4fwAAAAAAAPh/AAAAAAAA+H8AAAAAAAD4fwAAAAAAAPh/AAAAAAAA+H8AAAAAAAD4fwAAAAAAAPh/AAAAAAAA+H8AAAAAAAD4fwAAAAAAAPh/AAAAAAAA+H8AAAAAAAD4fwAAAAAAAPh/AAAAAAAA+H8AAAAAAAD4fwAAAAAAAPh/AAAAAAAA+H8AAAAAAAD4fwAAAAAAAPh/AAAAAAAA+H8AAAAAAAD4fwAAAAAAAPh/AAAAAAAA+H8AAAAAAAD4fwAAAAAAAPh/AAAAAAAA+H8AAAAAAAD4fwAAAAAAAPh/AAAAAAAA+H8AAAAAAAD4fwAAAAAAAPh/AAAAAAAA+H8AAAAAAAD4fwAAAAAAAPh/AAAAAAAA+H8AAAAAAAD4fwAAAAAAAPh/AAAAAAAA+H8AAAAAAAD4fwAAAAAAAPh/AAAAAAAA+H8AAAAAAAD4fwAAAAAAAPh/AAAAAAAA+H8AAAAAAAD4fwAAAAAAAPh/AAAAAAAA+H8AAAAAAAD4fwAAAAAAAPh/AAAAAAAA+H8AAAAAAAD4fwAAAAAAAPh/AAAAAAAA+H8AAAAAAAD4fwAAAAAAAPh/AAAAAAAA+H8AAAAAAAD4fwAAAAAAAPh/AAAAAAAA+H8AAAAAAAD4fwAAAAAAAPh/AAAAAAAA+H8AAAAAAAD4fwAAAAAAAPh/AAAAAAAA+H8AAAAAAAD4fwAAAAAAAPh/AAAAAAAA+H8AAAAAAAD4fwAAAAAAAPh/AAAAAAAA+H8AAAAAAAD4fwAAAAAAAPh/AAAAAAAA+H8AAAAAAAD4fwAAAAAAAPh/AAAAAAAA+H8AAAAAAAD4fwAAAAAAAPh/AAAAAAAA+H8AAAAAAAD4fwAAAAAAAPh/AAAAAAAA+H8AAAAAAAD4fwAAAAAAAPh/AAAAAAAA+H8AAAAAAAD4fwAAAAAAAPh/AAAAAAAA+H8AAAAAAAD4fwAAAAAAAPh/AAAAAAAA+H8AAAAAAAD4fwAAAAAAAPh/AAAAAAAA+H8AAAAAAAD4fwAAAAAAAPh/AAAAAAAA+H8AAAAAAAD4fwAAAAAAAPh/AAAAAAAA+H8AAAAAAAD4fwAAAAAAAPh/AAAAAAAA+H8AAAAAAAD4fwAAAAAAAPh/AAAAAAAA+H8AAAAAAAD4fwAAAAAAAPh/AAAAAAAA+H8AAAAAAAD4fwAAAAAAAPh/AAAAAAAA+H8AAAAAAAD4fwAAAAAAAPh/AAAAAAAA+H8AAAAAAAD4fwAAAAAAAPh/AAAAAAAA+H8AAAAAAAD4fwAAAAAAAPh/AAAAAAAA+H8AAAAAAAD4fwAAAAAAAPh/AAAAAAAA+H8AAAAAAAD4fwAAAAAAAPh/AAAAAAAA+H8AAAAAAAD4fwAAAAAAAPh/AAAAAAAA+H8AAAAAAAD4fwAAAAAAAPh/AAAAAAAA+H8AAAAAAAD4fwAAAAAAAPh/AAAAAAAA+H8AAAAAAAD4fwAAAAAAAPh/AAAAAAAA+H8AAAAAAAD4fwAAAAAAAPh/AAAAAAAA+H8AAAAAAAD4fwAAAAAAAPh/AAAAAAAA+H8AAAAAAAD4fwAAAAAAAPh/AAAAAAAA+H8AAAAAAAD4fwAAAAAAAPh/AAAAAAAA+H8AAAAAAAD4fwAAAAAAAPh/AAAAAAAA+H8AAAAAAAD4fwAAAAAAAPh/AAAAAAAA+H8AAAAAAAD4fwAAAAAAAPh/AAAAAAAA+H8AAAAAAAD4fwAAAAAAAPh/AAAAAAAA+H8AAAAAAAD4fwAAAAAAAPh/AAAAAAAA+H8AAAAAAAD4fwAAAAAAAPh/AAAAAAAA+H8AAAAAAAD4fwAAAAAAAPh/AAAAAAAA+H8AAAAAAAD4fwAAAAAAAPh/AAAAAAAA+H8AAAAAAAD4fwAAAAAAAPh/AAAAAAAA+H8AAAAAAAD4fwAAAAAAAPh/AAAAAAAA+H8AAAAAAAD4fwAAAAAAAPh/AAAAAAAA+H8AAAAAAAD4fwAAAAAAAPh/AAAAAAAA+H8AAAAAAAD4fwAAAAAAAPh/AAAAAAAA+H8AAAAAAAD4fwAAAAAAAPh/AAAAAAAA+H8AAAAAAAD4fwAAAAAAAPh/AAAAAAAA+H8AAAAAAAD4fwAAAAAAAPh/AAAAAAAA+H8AAAAAAAD4fwAAAAAAAPh/AAAAAAAA+H8AAAAAAAD4fwAAAAAAAPh/AAAAAAAA+H8AAAAAAAD4fwAAAAAAAPh/AAAAAAAA+H8AAAAAAAD4fwAAAAAAAPh/AAAAAAAA+H8AAAAAAAD4fwAAAAAAAPh/AAAAAAAA+H8AAAAAAAD4fwAAAAAAAPh/AAAAAAAA+H8AAAAAAAD4fwAAAAAAAPh/AAAAAAAA+H8AAAAAAAD4fwAAAAAAAPh/AAAAAAAA+H8AAAAAAAD4fwAAAAAAAPh/AAAAAAAA+H8AAAAAAAD4fwAAAAAAAPh/AAAAAAAA+H8AAAAAAAD4fw==\",\"dtype\":\"float64\",\"shape\":[239]},\"specie\":[\"Queenscoat\",\"Queenscoat\",\"Queenscoat\",\"Queenscoat\",\"Queenscoat\",\"Queenscoat\",\"Queenscoat\",\"Queenscoat\",\"Queenscoat\",\"Queenscoat\",\"Queenscoat\",\"Queenscoat\",\"Queenscoat\",\"Queenscoat\",\"Queenscoat\",\"Queenscoat\",\"Queenscoat\",\"Queenscoat\",\"Queenscoat\",\"Queenscoat\",\"Queenscoat\",\"Queenscoat\",\"Queenscoat\",\"Queenscoat\",\"Queenscoat\",\"Queenscoat\",\"Queenscoat\",\"Queenscoat\",\"Queenscoat\",\"Queenscoat\",\"Queenscoat\",\"Queenscoat\",\"Queenscoat\",\"Queenscoat\",\"Queenscoat\",\"Queenscoat\",\"Queenscoat\",\"Queenscoat\",\"Queenscoat\",\"Queenscoat\",\"Queenscoat\",\"Queenscoat\",\"Queenscoat\",\"Queenscoat\",\"Queenscoat\",\"Queenscoat\",\"Queenscoat\",\"Queenscoat\",\"Queenscoat\",\"Queenscoat\",\"Queenscoat\",\"Queenscoat\",\"Queenscoat\",\"Queenscoat\",\"Queenscoat\",\"Queenscoat\",\"Queenscoat\",\"Queenscoat\",\"Queenscoat\",\"Queenscoat\",\"Queenscoat\",\"Queenscoat\",\"Queenscoat\",\"Queenscoat\",\"Queenscoat\",\"Queenscoat\",\"Queenscoat\",\"Queenscoat\",\"Queenscoat\",\"Queenscoat\",\"Queenscoat\",\"Queenscoat\",\"Queenscoat\",\"Queenscoat\",\"Queenscoat\",\"Queenscoat\",\"Queenscoat\",\"Queenscoat\",\"Queenscoat\",\"Queenscoat\",\"Queenscoat\",\"Queenscoat\",\"Queenscoat\",\"Queenscoat\",\"Queenscoat\",\"Queenscoat\",\"Queenscoat\",\"Queenscoat\",\"Queenscoat\",\"Queenscoat\",\"Queenscoat\",\"Queenscoat\",\"Queenscoat\",\"Queenscoat\",\"Queenscoat\",\"Queenscoat\",\"Queenscoat\",\"Queenscoat\",\"Queenscoat\",\"Queenscoat\",\"Queenscoat\",\"Queenscoat\",\"Queenscoat\",\"Queenscoat\",\"Queenscoat\",\"Queenscoat\",\"Queenscoat\",\"Queenscoat\",\"Queenscoat\",\"Queenscoat\",\"Queenscoat\",\"Queenscoat\",\"Queenscoat\",\"Queenscoat\",\"Queenscoat\",\"Queenscoat\",\"Queenscoat\",\"Queenscoat\",\"Queenscoat\",\"Queenscoat\",\"Queenscoat\",\"Queenscoat\",\"Queenscoat\",\"Queenscoat\",\"Queenscoat\",\"Queenscoat\",\"Queenscoat\",\"Queenscoat\",\"Queenscoat\",\"Queenscoat\",\"Queenscoat\",\"Queenscoat\",\"Queenscoat\",\"Queenscoat\",\"Queenscoat\",\"Queenscoat\",\"Queenscoat\",\"Queenscoat\",\"Queenscoat\",\"Queenscoat\",\"Queenscoat\",\"Queenscoat\",\"Queenscoat\",\"Queenscoat\",\"Queenscoat\",\"Queenscoat\",\"Queenscoat\",\"Queenscoat\",\"Queenscoat\",\"Queenscoat\",\"Queenscoat\",\"Queenscoat\",\"Queenscoat\",\"Queenscoat\",\"Queenscoat\",\"Queenscoat\",\"Queenscoat\",\"Queenscoat\",\"Queenscoat\",\"Queenscoat\",\"Queenscoat\",\"Queenscoat\",\"Queenscoat\",\"Queenscoat\",\"Queenscoat\",\"Queenscoat\",\"Queenscoat\",\"Queenscoat\",\"Queenscoat\",\"Queenscoat\",\"Queenscoat\",\"Queenscoat\",\"Queenscoat\",\"Queenscoat\",\"Queenscoat\",\"Queenscoat\",\"Queenscoat\",\"Queenscoat\",\"Queenscoat\",\"Queenscoat\",\"Queenscoat\",\"Queenscoat\",\"Queenscoat\",\"Queenscoat\",\"Queenscoat\",\"Queenscoat\",\"Queenscoat\",\"Queenscoat\",\"Queenscoat\",\"Queenscoat\",\"Queenscoat\",\"Queenscoat\",\"Queenscoat\",\"Queenscoat\",\"Queenscoat\",\"Queenscoat\",\"Queenscoat\",\"Queenscoat\",\"Queenscoat\",\"Queenscoat\",\"Queenscoat\",\"Queenscoat\",\"Queenscoat\",\"Queenscoat\",\"Queenscoat\",\"Queenscoat\",\"Queenscoat\",\"Queenscoat\",\"Queenscoat\",\"Queenscoat\",\"Queenscoat\",\"Queenscoat\",\"Queenscoat\",\"Queenscoat\",\"Queenscoat\",\"Queenscoat\",\"Queenscoat\",\"Queenscoat\",\"Queenscoat\",\"Queenscoat\",\"Queenscoat\",\"Queenscoat\",\"Queenscoat\",\"Queenscoat\",\"Queenscoat\",\"Queenscoat\",\"Queenscoat\",\"Queenscoat\",\"Queenscoat\",\"Queenscoat\",\"Queenscoat\",\"Queenscoat\",\"Queenscoat\",\"Queenscoat\",\"Queenscoat\",\"Queenscoat\",\"Queenscoat\",\"Queenscoat\",\"Queenscoat\"],\"x\":{\"__ndarray__\":\"5X2tQbUOpEEn6rBBeDeuQevwnkFJz6NBMterQVq3oUFiyJlB8MOZQbSooUHaxLFB+yutQc7yrkHmc7FBPqOxQeiopkGTlqxBnB+lQXLQoEExca9BebKqQallmkEJsaVBr0+fQRmBmkG5Ya9B9L+oQd66qUGOFa1B//eaQYMnr0EhtKRBa7yoQbAkokHtGqVBnUKtQcHArkEPuZ1Be5OtQULnnkFNG6dBK36jQQOBIEGvXTJBpoglQaYMn0EkSaZBWj6XQfbenkEg5ptBsDRlQeAKskEnDrFBDmGgQdykmkGG8qlB/uWhQW2NnkFW355BD5+eQWmKnkEXRKxBEPqqQZm6YkFhx6hBY5ujQYFim0FHma5B1tekQQc6pkGqoaNB/46eQfZgPUEXJatBnzqgQeUUokFscK5Bmm9XQYzum0GhO0FBqVSbQXR/q0GrWahByzykQZ8qqkEaXK5B1UqmQRbapUGbeq5BPXmuQdYEqUF8zaRBeIyxQZ8YpUFdIa9B2m+xQbDBsUEJFKBB2+yuQcHJRUGNtJpBTLGvQXHDYkHadp9BzS6YQe7JoEHrwKlBxZugQaJynUEPtZpBz42WQSDQqEEzCZlB8KabQS6io0Ge1GRBg62uQZNZikHFvJpBlklYQZTBmEHsVqdBnCyHQccfmkH9DZtBvCOmQXopqkH1Lq1Bmkc/QfQ8rkFT4K1BVJ6sQd6opEFW+7BBnjWfQVZJpkHlNqlBRZixQfcKrUE2OKNBumCqQRAjpkGJBaxBcNWsQU9ZqUGIbaVB48WqQUQPNEETi6ZByzuaQZPDrkEFIahBPk6fQU0Vr0FKpKhBbzKpQd3VokG7pFtB/riZQQOkrUHgvZxBF/ysQWUOqEGFW2JB8FiaQdWIp0ExxJtBWpqsQQNloUEhry9B8eqsQbtKrEHF14tBCDWkQbGvo0Ge1qpBZkpaQa1WmUFu019BxgJcQdJjnkHs659BnEudQQ++mEGQp6RB28ViQaOrXEHxabBBEJ+kQZN5rUE7SaJBDKaeQYmGWUG5zV9Bw5ZEQecPqEEhqWJBPn+jQZ8Ho0H4XkRBUExXQUutY0FNN1tBwrdZQYjvaUFhp5lBZZmqQWmlg0FZW6hBVdyrQUF1KkGexp5BGLqeQQhcqkGE7JxBh96rQb4XqEFX5aBBu+OjQWTEmUGz9plBIT6bQVrWp0GLN5tBUVGaQafnm0HG3GBB9G2lQTZYYUH+3WBBkEGbQVgtsEGB36lBbj+ZQYByVEFP9FpBNM6YQdkurEE=\",\"dtype\":\"float32\",\"shape\":[239]},\"y\":{\"__ndarray__\":\"qO+JQYhMh0F0B4dBE8+GQdf/hkEcJIVBjqeKQfGMiEGZsIdBej2FQflhiEG514VBXASKQYu8h0GwGYVBaOCFQS6MekF6CYpBWyyEQc9WiUFLZYZBpGKKQaIqiUENu4tBUXqKQTU3hEGCboZBEs5zQSAsfUGddYpBLT+IQeOZhUFOl4tBluGFQfMViEFt4opBX+iFQS6Qg0GJO4xBRUqHQcVLiEFN3YZBSsaEQeQKhEFbo49BmT14Qc7ZikG+IIZBOLN2Qdanh0H5voxBDgJRQYBHhUEvVYRBQM6IQdwGhkFG6YpBo6eIQXy/iUFT1IlBCo6KQdv2i0HsCn9BrDl8QYzQi0GvpYdBFZKAQZnjiUELc4dBqHp6QX5ri0H3QYFBIn2JQY29ZUH/v4lBFJeHQUKWiUGLtodBnmGCQWtmikGo/3RBPluJQU8kdkG7woZBscqJQRYvh0HGroNBXTyIQQt7gEHvpINBwc6DQX8Gf0H9tX9BhSyFQbDAhUGUtIRBVC+FQbh8hUGmgIpBUkWIQXMzj0EFK4tBJNqGQdYBjEFy5IhB+LR/Qb7JiEFZSIFBejaJQYRdiUGsKIlBGRd6QQ59g0FfE4lByZCCQdiKiUEQ1VtB0x+DQaUrZ0HTdnxBt9x0QQ63iEFd8IZBEuRKQc9wh0FC04lBD6mKQeljhEHOkIlBbnWJQYD5h0F3CYdBlEGHQcCch0HWDIRB1FOFQQIDi0Ezr3tB8r+FQeNCeUHm44dBORx/QdAphkH58oZBBKWFQSJIikFl4IZBVTuIQb6KUEFx54VBZIiLQWkviEHudYNBk++IQQ4UgkEkB4VBYHWDQas/iUGqypVBKS6FQe8nikEUfYpBbZiHQURmhkHC7o1BfACGQUW9hkHzFotBWICKQeVZiUHoUXRBewiKQT/ziUG4NUNBHa5tQTpYjEFWtIpBl52CQbGoikGUBIpBv4WFQfTDiEHWd4pBrHiJQdqJiUEdu4VB772IQQXhhUH2M4dBfeiGQQ3YiUFhV4hBx3eKQayLhkHfb5RBO596QVS/hUFgbYlBzy50QYa7iEHqAlhBa8h0QZu4ikEqd3VBuuNeQd+dTEGmQotBxcCBQUrERkFrd4RBMSN+QcyzdEHWsopBLtiKQXLThkHDFYtBN/OFQcNkh0EYFYdBohJuQbAFi0EDHYtBW3CLQTgzhkH62YZB19aHQdLOiUE+FIxB682KQS7YjUGKgYtBvHiJQUqXhkEZAYdBYOyKQTSFg0GllIRBBQWLQYChekE=\",\"dtype\":\"float32\",\"shape\":[239]}},\"selected\":{\"id\":\"f8a99805-82c8-402c-ab87-474500c1d2f7\",\"type\":\"Selection\"},\"selection_policy\":{\"id\":\"a9da65c4-6b5d-404e-9045-550b7704975f\",\"type\":\"UnionRenderers\"}},\"id\":\"276688aa-4d1f-48d7-a024-170e196c20c4\",\"type\":\"ColumnDataSource\"},{\"attributes\":{\"data_source\":{\"id\":\"a5c3a610-c485-47bd-8c2d-9d641d2ec7fa\",\"type\":\"ColumnDataSource\"},\"glyph\":{\"id\":\"b3e62ab7-261d-44b3-bf79-ffb5c0be60c7\",\"type\":\"Circle\"},\"hover_glyph\":null,\"muted\":true,\"muted_glyph\":{\"id\":\"fc4a7b2f-0ce4-4272-9fde-c27a961c242a\",\"type\":\"Circle\"},\"nonselection_glyph\":{\"id\":\"8a372421-8e28-4b04-96ef-6beeb039d43a\",\"type\":\"Circle\"},\"selection_glyph\":null,\"view\":{\"id\":\"5737a2e1-f3e1-4fa8-919e-7087a1e4080f\",\"type\":\"CDSView\"}},\"id\":\"4bdc3c72-0ee9-46eb-aca7-bbeaf305e05f\",\"type\":\"GlyphRenderer\"},{\"attributes\":{\"callback\":null,\"data\":{\"index\":[1823,1824,1825,1826,1827,1828,1829,1830,1831,1832,1833,1834,1835,1836,1837,1838,1839,1840,1841,1842,1843,1844,1845,1846,1847,1848,1849,1850,1851,1852,1853,1854,1855,1856,1857,1858,1859,1860,1861,1862,1863,1864,1865,1866,1867,1868,1869,1870,1871,1872,1873,1874,1875,1876,1877,1878,1879,1880,1881,1882,1883,1884,1885,1886,1887,1888,1889,1890,1891,1892,1893],\"kasios_index\":{\"__ndarray__\":\"AAAAAAAA+H8AAAAAAAD4fwAAAAAAAPh/AAAAAAAA+H8AAAAAAAD4fwAAAAAAAPh/AAAAAAAA+H8AAAAAAAD4fwAAAAAAAPh/AAAAAAAA+H8AAAAAAAD4fwAAAAAAAPh/AAAAAAAA+H8AAAAAAAD4fwAAAAAAAPh/AAAAAAAA+H8AAAAAAAD4fwAAAAAAAPh/AAAAAAAA+H8AAAAAAAD4fwAAAAAAAPh/AAAAAAAA+H8AAAAAAAD4fwAAAAAAAPh/AAAAAAAA+H8AAAAAAAD4fwAAAAAAAPh/AAAAAAAA+H8AAAAAAAD4fwAAAAAAAPh/AAAAAAAA+H8AAAAAAAD4fwAAAAAAAPh/AAAAAAAA+H8AAAAAAAD4fwAAAAAAAPh/AAAAAAAA+H8AAAAAAAD4fwAAAAAAAPh/AAAAAAAA+H8AAAAAAAD4fwAAAAAAAPh/AAAAAAAA+H8AAAAAAAD4fwAAAAAAAPh/AAAAAAAA+H8AAAAAAAD4fwAAAAAAAPh/AAAAAAAA+H8AAAAAAAD4fwAAAAAAAPh/AAAAAAAA+H8AAAAAAAD4fwAAAAAAAPh/AAAAAAAA+H8AAAAAAAD4fwAAAAAAAPh/AAAAAAAA+H8AAAAAAAD4fwAAAAAAAPh/AAAAAAAA+H8AAAAAAAD4fwAAAAAAAPh/AAAAAAAA+H8AAAAAAAD4fwAAAAAAAPh/AAAAAAAA+H8AAAAAAAD4fwAAAAAAAPh/AAAAAAAA+H8AAAAAAAD4fw==\",\"dtype\":\"float64\",\"shape\":[71]},\"specie\":[\"Bent-beak Riffraff\",\"Bent-beak Riffraff\",\"Bent-beak Riffraff\",\"Bent-beak Riffraff\",\"Bent-beak Riffraff\",\"Bent-beak Riffraff\",\"Bent-beak Riffraff\",\"Bent-beak Riffraff\",\"Bent-beak Riffraff\",\"Bent-beak Riffraff\",\"Bent-beak Riffraff\",\"Bent-beak Riffraff\",\"Bent-beak Riffraff\",\"Bent-beak Riffraff\",\"Bent-beak Riffraff\",\"Bent-beak Riffraff\",\"Bent-beak Riffraff\",\"Bent-beak Riffraff\",\"Bent-beak Riffraff\",\"Bent-beak Riffraff\",\"Bent-beak Riffraff\",\"Bent-beak Riffraff\",\"Bent-beak Riffraff\",\"Bent-beak Riffraff\",\"Bent-beak Riffraff\",\"Bent-beak Riffraff\",\"Bent-beak Riffraff\",\"Bent-beak Riffraff\",\"Bent-beak Riffraff\",\"Bent-beak Riffraff\",\"Bent-beak Riffraff\",\"Bent-beak Riffraff\",\"Bent-beak Riffraff\",\"Bent-beak Riffraff\",\"Bent-beak Riffraff\",\"Bent-beak Riffraff\",\"Bent-beak Riffraff\",\"Bent-beak Riffraff\",\"Bent-beak Riffraff\",\"Bent-beak Riffraff\",\"Bent-beak Riffraff\",\"Bent-beak Riffraff\",\"Bent-beak Riffraff\",\"Bent-beak Riffraff\",\"Bent-beak Riffraff\",\"Bent-beak Riffraff\",\"Bent-beak Riffraff\",\"Bent-beak Riffraff\",\"Bent-beak Riffraff\",\"Bent-beak Riffraff\",\"Bent-beak Riffraff\",\"Bent-beak Riffraff\",\"Bent-beak Riffraff\",\"Bent-beak Riffraff\",\"Bent-beak Riffraff\",\"Bent-beak Riffraff\",\"Bent-beak Riffraff\",\"Bent-beak Riffraff\",\"Bent-beak Riffraff\",\"Bent-beak Riffraff\",\"Bent-beak Riffraff\",\"Bent-beak Riffraff\",\"Bent-beak Riffraff\",\"Bent-beak Riffraff\",\"Bent-beak Riffraff\",\"Bent-beak Riffraff\",\"Bent-beak Riffraff\",\"Bent-beak Riffraff\",\"Bent-beak Riffraff\",\"Bent-beak Riffraff\",\"Bent-beak Riffraff\"],\"x\":{\"__ndarray__\":\"5zA6QTGrNUEF1y5BNvo5QZjsKkHCsC9BpXcmQe0+LEEooSxBZHctQXQ7OkEb2zpBeqQqQUVqMkFJQiZBzDUxQWjsNUEL8jtBWag9QY+DLUF+W01B8GUzQV85O0HqADBB2P4yQRLkM0FbVTNBuuNCQS7piUE3vEFBxZUxQS7PMkErnTlBqTZLQZ03MkHh/6dBS4wsQTOnKkEoijFBOKM/QfAJO0FavTBBGYQ8QV8PLEEV/UVBCQ8xQQg0QUHk3TBBxwQxQRoYWEHXNjtBnus/QUPDKEEvfTNBsHsuQYbfK0HFOEtBFesuQVKvJ0EW+UdBTKeXQQe9OUEhEFhB7I85QW7COkFAVzNBoN4vQVmkLkHxFFhBJrylQaYpqkE=\",\"dtype\":\"float32\",\"shape\":[71]},\"y\":{\"__ndarray__\":\"wBVBQWbCY0GvvFdB2F1dQZkhZUF1GlRBk71qQaTCYEFzQ1lBZD9fQdQ0QEFcMENBKmtcQRPiUEFhRmhBJ5ZRQXcbUUF5SUdBP25PQbAsXkHpmjxBYz1uQSdtd0H4Y2FBIABXQSufTkGjPlBBujg/QQNDJ0EE1GNBB2FaQQiwWkEKyEFBlEFuQXPtWkFNr4lBMb1fQbRNXkFjHlVBGe1OQZzCQkF4tlZBrFZEQWsoYEHmrFZBT45iQV38WUHxQFRBDkFSQZLFcEGHlVxB7NdVQW/rXEEkp1VBjeRfQYfCXkGUKTxBXLOAQVL0X0G3HFtBTudqQW4mQEGx13NBxp9VQcVSQkHk5VBB+ApTQWLWW0F3VXRBO2CHQeXTh0E=\",\"dtype\":\"float32\",\"shape\":[71]}},\"selected\":{\"id\":\"e53e1318-54c6-41f2-af34-9d8c392cadea\",\"type\":\"Selection\"},\"selection_policy\":{\"id\":\"f62dd866-d9d3-4218-8631-7840413bfdb9\",\"type\":\"UnionRenderers\"}},\"id\":\"a80130f6-f04d-454e-a3a2-17e41719687e\",\"type\":\"ColumnDataSource\"},{\"attributes\":{},\"id\":\"80af2737-4ec0-41da-ac8e-16736e8982f9\",\"type\":\"Selection\"},{\"attributes\":{\"plot\":{\"id\":\"fa24c88a-85bb-4b4c-92f7-b8aec5a77e8f\",\"subtype\":\"Figure\",\"type\":\"Plot\"},\"ticker\":{\"id\":\"b9f6c3e3-05f5-4b97-a003-0ac7f23c9cab\",\"type\":\"BasicTicker\"}},\"id\":\"b2f698b6-8865-41cc-888b-218a7959a446\",\"type\":\"Grid\"},{\"attributes\":{\"label\":{\"value\":\"Vermillion Trillian\"},\"renderers\":[{\"id\":\"5ad5c99b-8c89-44bf-a596-68645f688d79\",\"type\":\"GlyphRenderer\"}]},\"id\":\"95fda459-4943-4d4b-a515-6cb2d0992e7c\",\"type\":\"LegendItem\"},{\"attributes\":{\"callback\":null,\"data\":{\"index\":[0,1,2,3,4,5,6,7,8,9,10,11,12,13,14,15,16,17,18,19,20,21,22,23,24,25,26,27,28,29,30,31,32,33,34,35,36,37,38,39,40,41,42,43,44,45,46,47,48,49,50,51,52,53,54,55,56,57,58,59,60,61,62,63,64,65,66,67,68,69,70,71,72,73,74,75,76,77,78,79,80,81,82,83,84,85,86,87,88,89,90,91,92,93,94,95,96,97,98,99,100,101,102,103,104,105,106,107,108,109,110,111,112,113,114,115,116,117,118,119,120,121,122,123,124,125,126,127,128,129,130,131,132,133,134,135,136,137,138,139,140,141,142,143,144,145,146,147,148,149,150,151,152,153,154,155,156,157,158,159,160,161,162,163,164,165,166,167,168,169,170,171,172,173,174,175,176,177,178,179,180,181,182,183,184,185],\"kasios_index\":{\"__ndarray__\":\"AAAAAAAA+H8AAAAAAAD4fwAAAAAAAPh/AAAAAAAA+H8AAAAAAAD4fwAAAAAAAPh/AAAAAAAA+H8AAAAAAAD4fwAAAAAAAPh/AAAAAAAA+H8AAAAAAAD4fwAAAAAAAPh/AAAAAAAA+H8AAAAAAAD4fwAAAAAAAPh/AAAAAAAA+H8AAAAAAAD4fwAAAAAAAPh/AAAAAAAA+H8AAAAAAAD4fwAAAAAAAPh/AAAAAAAA+H8AAAAAAAD4fwAAAAAAAPh/AAAAAAAA+H8AAAAAAAD4fwAAAAAAAPh/AAAAAAAA+H8AAAAAAAD4fwAAAAAAAPh/AAAAAAAA+H8AAAAAAAD4fwAAAAAAAPh/AAAAAAAA+H8AAAAAAAD4fwAAAAAAAPh/AAAAAAAA+H8AAAAAAAD4fwAAAAAAAPh/AAAAAAAA+H8AAAAAAAD4fwAAAAAAAPh/AAAAAAAA+H8AAAAAAAD4fwAAAAAAAPh/AAAAAAAA+H8AAAAAAAD4fwAAAAAAAPh/AAAAAAAA+H8AAAAAAAD4fwAAAAAAAPh/AAAAAAAA+H8AAAAAAAD4fwAAAAAAAPh/AAAAAAAA+H8AAAAAAAD4fwAAAAAAAPh/AAAAAAAA+H8AAAAAAAD4fwAAAAAAAPh/AAAAAAAA+H8AAAAAAAD4fwAAAAAAAPh/AAAAAAAA+H8AAAAAAAD4fwAAAAAAAPh/AAAAAAAA+H8AAAAAAAD4fwAAAAAAAPh/AAAAAAAA+H8AAAAAAAD4fwAAAAAAAPh/AAAAAAAA+H8AAAAAAAD4fwAAAAAAAPh/AAAAAAAA+H8AAAAAAAD4fwAAAAAAAPh/AAAAAAAA+H8AAAAAAAD4fwAAAAAAAPh/AAAAAAAA+H8AAAAAAAD4fwAAAAAAAPh/AAAAAAAA+H8AAAAAAAD4fwAAAAAAAPh/AAAAAAAA+H8AAAAAAAD4fwAAAAAAAPh/AAAAAAAA+H8AAAAAAAD4fwAAAAAAAPh/AAAAAAAA+H8AAAAAAAD4fwAAAAAAAPh/AAAAAAAA+H8AAAAAAAD4fwAAAAAAAPh/AAAAAAAA+H8AAAAAAAD4fwAAAAAAAPh/AAAAAAAA+H8AAAAAAAD4fwAAAAAAAPh/AAAAAAAA+H8AAAAAAAD4fwAAAAAAAPh/AAAAAAAA+H8AAAAAAAD4fwAAAAAAAPh/AAAAAAAA+H8AAAAAAAD4fwAAAAAAAPh/AAAAAAAA+H8AAAAAAAD4fwAAAAAAAPh/AAAAAAAA+H8AAAAAAAD4fwAAAAAAAPh/AAAAAAAA+H8AAAAAAAD4fwAAAAAAAPh/AAAAAAAA+H8AAAAAAAD4fwAAAAAAAPh/AAAAAAAA+H8AAAAAAAD4fwAAAAAAAPh/AAAAAAAA+H8AAAAAAAD4fwAAAAAAAPh/AAAAAAAA+H8AAAAAAAD4fwAAAAAAAPh/AAAAAAAA+H8AAAAAAAD4fwAAAAAAAPh/AAAAAAAA+H8AAAAAAAD4fwAAAAAAAPh/AAAAAAAA+H8AAAAAAAD4fwAAAAAAAPh/AAAAAAAA+H8AAAAAAAD4fwAAAAAAAPh/AAAAAAAA+H8AAAAAAAD4fwAAAAAAAPh/AAAAAAAA+H8AAAAAAAD4fwAAAAAAAPh/AAAAAAAA+H8AAAAAAAD4fwAAAAAAAPh/AAAAAAAA+H8AAAAAAAD4fwAAAAAAAPh/AAAAAAAA+H8AAAAAAAD4fwAAAAAAAPh/AAAAAAAA+H8AAAAAAAD4fwAAAAAAAPh/AAAAAAAA+H8AAAAAAAD4fwAAAAAAAPh/AAAAAAAA+H8AAAAAAAD4fwAAAAAAAPh/AAAAAAAA+H8AAAAAAAD4fwAAAAAAAPh/AAAAAAAA+H8AAAAAAAD4fwAAAAAAAPh/AAAAAAAA+H8AAAAAAAD4fwAAAAAAAPh/AAAAAAAA+H8AAAAAAAD4fwAAAAAAAPh/AAAAAAAA+H8AAAAAAAD4fwAAAAAAAPh/\",\"dtype\":\"float64\",\"shape\":[186]},\"specie\":[\"Rose-crested Blue Pipit\",\"Rose-crested Blue Pipit\",\"Rose-crested Blue Pipit\",\"Rose-crested Blue Pipit\",\"Rose-crested Blue Pipit\",\"Rose-crested Blue Pipit\",\"Rose-crested Blue Pipit\",\"Rose-crested Blue Pipit\",\"Rose-crested Blue Pipit\",\"Rose-crested Blue Pipit\",\"Rose-crested Blue Pipit\",\"Rose-crested Blue Pipit\",\"Rose-crested Blue Pipit\",\"Rose-crested Blue Pipit\",\"Rose-crested Blue Pipit\",\"Rose-crested Blue Pipit\",\"Rose-crested Blue Pipit\",\"Rose-crested Blue Pipit\",\"Rose-crested Blue Pipit\",\"Rose-crested Blue Pipit\",\"Rose-crested Blue Pipit\",\"Rose-crested Blue Pipit\",\"Rose-crested Blue Pipit\",\"Rose-crested Blue Pipit\",\"Rose-crested Blue Pipit\",\"Rose-crested Blue Pipit\",\"Rose-crested Blue Pipit\",\"Rose-crested Blue Pipit\",\"Rose-crested Blue Pipit\",\"Rose-crested Blue Pipit\",\"Rose-crested Blue Pipit\",\"Rose-crested Blue Pipit\",\"Rose-crested Blue Pipit\",\"Rose-crested Blue Pipit\",\"Rose-crested Blue Pipit\",\"Rose-crested Blue Pipit\",\"Rose-crested Blue Pipit\",\"Rose-crested Blue Pipit\",\"Rose-crested Blue Pipit\",\"Rose-crested Blue Pipit\",\"Rose-crested Blue Pipit\",\"Rose-crested Blue Pipit\",\"Rose-crested Blue Pipit\",\"Rose-crested Blue Pipit\",\"Rose-crested Blue Pipit\",\"Rose-crested Blue Pipit\",\"Rose-crested Blue Pipit\",\"Rose-crested Blue Pipit\",\"Rose-crested Blue Pipit\",\"Rose-crested Blue Pipit\",\"Rose-crested Blue Pipit\",\"Rose-crested Blue Pipit\",\"Rose-crested Blue Pipit\",\"Rose-crested Blue Pipit\",\"Rose-crested Blue Pipit\",\"Rose-crested Blue Pipit\",\"Rose-crested Blue Pipit\",\"Rose-crested Blue Pipit\",\"Rose-crested Blue Pipit\",\"Rose-crested Blue Pipit\",\"Rose-crested Blue Pipit\",\"Rose-crested Blue Pipit\",\"Rose-crested Blue Pipit\",\"Rose-crested Blue Pipit\",\"Rose-crested Blue Pipit\",\"Rose-crested Blue Pipit\",\"Rose-crested Blue Pipit\",\"Rose-crested Blue Pipit\",\"Rose-crested Blue Pipit\",\"Rose-crested Blue Pipit\",\"Rose-crested Blue Pipit\",\"Rose-crested Blue Pipit\",\"Rose-crested Blue Pipit\",\"Rose-crested Blue Pipit\",\"Rose-crested Blue Pipit\",\"Rose-crested Blue Pipit\",\"Rose-crested Blue Pipit\",\"Rose-crested Blue Pipit\",\"Rose-crested Blue Pipit\",\"Rose-crested Blue Pipit\",\"Rose-crested Blue Pipit\",\"Rose-crested Blue Pipit\",\"Rose-crested Blue Pipit\",\"Rose-crested Blue Pipit\",\"Rose-crested Blue Pipit\",\"Rose-crested Blue Pipit\",\"Rose-crested Blue Pipit\",\"Rose-crested Blue Pipit\",\"Rose-crested Blue Pipit\",\"Rose-crested Blue Pipit\",\"Rose-crested Blue Pipit\",\"Rose-crested Blue Pipit\",\"Rose-crested Blue Pipit\",\"Rose-crested Blue Pipit\",\"Rose-crested Blue Pipit\",\"Rose-crested Blue Pipit\",\"Rose-crested Blue Pipit\",\"Rose-crested Blue Pipit\",\"Rose-crested Blue Pipit\",\"Rose-crested Blue Pipit\",\"Rose-crested Blue Pipit\",\"Rose-crested Blue Pipit\",\"Rose-crested Blue Pipit\",\"Rose-crested Blue Pipit\",\"Rose-crested Blue Pipit\",\"Rose-crested Blue Pipit\",\"Rose-crested Blue Pipit\",\"Rose-crested Blue Pipit\",\"Rose-crested Blue Pipit\",\"Rose-crested Blue Pipit\",\"Rose-crested Blue Pipit\",\"Rose-crested Blue Pipit\",\"Rose-crested Blue Pipit\",\"Rose-crested Blue Pipit\",\"Rose-crested Blue Pipit\",\"Rose-crested Blue Pipit\",\"Rose-crested Blue Pipit\",\"Rose-crested Blue Pipit\",\"Rose-crested Blue Pipit\",\"Rose-crested Blue Pipit\",\"Rose-crested Blue Pipit\",\"Rose-crested Blue Pipit\",\"Rose-crested Blue Pipit\",\"Rose-crested Blue Pipit\",\"Rose-crested Blue Pipit\",\"Rose-crested Blue Pipit\",\"Rose-crested Blue Pipit\",\"Rose-crested Blue Pipit\",\"Rose-crested Blue Pipit\",\"Rose-crested Blue Pipit\",\"Rose-crested Blue Pipit\",\"Rose-crested Blue Pipit\",\"Rose-crested Blue Pipit\",\"Rose-crested Blue Pipit\",\"Rose-crested Blue Pipit\",\"Rose-crested Blue Pipit\",\"Rose-crested Blue Pipit\",\"Rose-crested Blue Pipit\",\"Rose-crested Blue Pipit\",\"Rose-crested Blue Pipit\",\"Rose-crested Blue Pipit\",\"Rose-crested Blue Pipit\",\"Rose-crested Blue Pipit\",\"Rose-crested Blue Pipit\",\"Rose-crested Blue Pipit\",\"Rose-crested Blue Pipit\",\"Rose-crested Blue Pipit\",\"Rose-crested Blue Pipit\",\"Rose-crested Blue Pipit\",\"Rose-crested Blue Pipit\",\"Rose-crested Blue Pipit\",\"Rose-crested Blue Pipit\",\"Rose-crested Blue Pipit\",\"Rose-crested Blue Pipit\",\"Rose-crested Blue Pipit\",\"Rose-crested Blue Pipit\",\"Rose-crested Blue Pipit\",\"Rose-crested Blue Pipit\",\"Rose-crested Blue Pipit\",\"Rose-crested Blue Pipit\",\"Rose-crested Blue Pipit\",\"Rose-crested Blue Pipit\",\"Rose-crested Blue Pipit\",\"Rose-crested Blue Pipit\",\"Rose-crested Blue Pipit\",\"Rose-crested Blue Pipit\",\"Rose-crested Blue Pipit\",\"Rose-crested Blue Pipit\",\"Rose-crested Blue Pipit\",\"Rose-crested Blue Pipit\",\"Rose-crested Blue Pipit\",\"Rose-crested Blue Pipit\",\"Rose-crested Blue Pipit\",\"Rose-crested Blue Pipit\",\"Rose-crested Blue Pipit\",\"Rose-crested Blue Pipit\",\"Rose-crested Blue Pipit\",\"Rose-crested Blue Pipit\",\"Rose-crested Blue Pipit\",\"Rose-crested Blue Pipit\",\"Rose-crested Blue Pipit\",\"Rose-crested Blue Pipit\",\"Rose-crested Blue Pipit\",\"Rose-crested Blue Pipit\",\"Rose-crested Blue Pipit\",\"Rose-crested Blue Pipit\"],\"x\":{\"__ndarray__\":\"ZmyWQXuFokFZzIhBB7KjQbfjikFLo6hBmWqJQfqSk0Ee9KNBps2WQTJbpUFCpG9BwpqYQWJvmEEr8J9BXCKqQdu1o0GXcapBnqmnQQ9gQUElJqhBmHewQe9Ni0GSxqZBsUh+QW/Qf0EuyZlBzGmiQcsynUEks5lBnOelQdhSjUFVPopBps2oQbofk0Hba45B7hOPQUJVHUHKValBXlCYQZU2l0FnRppBboeNQel9bkGfvztB4O+ZQb4cqUEYw5xBkZWOQcOxf0FH/aRByZCeQeAhmEF7mphBccaEQfXllkGyWp5BjXmWQWAbjkHrw5dBdSiqQTE0mEEKVIpBPiCNQQyBlkGHe5BBkZyTQcsJrUEZfZRBiP+XQZaLl0FS85ZBqhyWQRq3iUEtXI9BQOiHQTjAo0FDPqRBhnKVQTpxm0GTrolB5vmcQWZCgUHAsIhBdCSXQafKnUGjsZ5BUeODQXWZpUFG6l9BbeyWQYs4okFJlnVBWCeLQcQ5jEG/Q4tBlkOqQdRwokH2i5dBoomXQdY+i0EiIaFBsKucQSSno0HPrYZBlyCpQci6pkG2MaZBhH2hQXnZjEE7iZpB7ZyCQXDApEEnM5BB6yGFQVd2oUEGN4tB+quMQc1IkEHsNKFBER6YQc3PnEFqlopBAcmoQT0dmkH935lBk0uIQerTmUH9FZhButuCQbSrh0H7poZBRl+lQWvrgkGRxmFBUuV5QVe2o0F7P4dBqLekQcgbi0EaPKVBXLyKQQfplEFdzJpBKiKFQZ9UnEHzXIRBCtmeQbIKZ0G3UoBBPDqKQZSsmEHbKKpBx8t/QVWRYUELCplBK319QTIDoUHDRo1BN7+EQRy8gkGiA4hBEamXQZ44iUGrP6NBzSWiQfOyjkGrmEhBURWWQWhIXUFU2pdB9I2dQdyIbkEghoxBk69NQVEfTUGNZZdBOvmgQWIWWkHNmFBBozNjQV9zjUHurGFBSiWIQfP3MkGiAlRB\",\"dtype\":\"float32\",\"shape\":[186]},\"y\":{\"__ndarray__\":\"hb17QfVRYUEkQmNBjdByQYM1TkE+1XNBSrhIQd2bWkHRemRBRLh6QUi0dUFprTxBAKNqQfCLbUE5wn9BSNh8QcvzckENi2hBRT6DQe7aXUH0PoRBl8qGQUVeZEEnimlB1909QSGKN0G9YFxBPrd6QeDmb0GLNIZBH/NpQYahPUFrDEZBp/9yQa9IU0Eq3DpBbo46QWqleEFp03xBRTBwQXjEakE4m3ZBeUNIQQr5NEHZOWJBwbFuQTUBdUFQ+IJBUutQQVVnNkH86WBBo59uQf/tbEGGxXVBOpleQd/4cUH4a35B9OV3Qbd+VUHkjndB/O5zQUsXfkG6zl5BB1BPQcfLbEEqZ1FBAmZVQa9DeEGj52ZBVa9sQZqrbUFrh1pBnjxcQadJY0GiZUxBTz5eQWfDbUHkNGxBnqJdQcLCZ0ErRVhBR2JlQYliW0HZJWBBmkd5QUMeYkGAOXNBDOFSQfVJYkE+gI1Baxt3QedxcEHiJVRBZwhkQZlzX0GYsWVB4jNiQdFLZEFW9GlBgxNtQSrwRUEdqmpBxepwQaa/dkHSdFZBdkl3QYK8a0Fk1nxBXCuJQWHIQEH0R3pBLRZAQdz7X0EQ+V9BuP1MQSAcc0FnWz1BoW9kQfIVPEFlH2ZB5Ct8QWjFgkHV8kdB505zQQiPYEFFvmpB/D9nQQpkgkFMaW9BXsowQc8HSUHZIGFB3rCEQdKlWkG3uoZBr2c3QfmtbEFcVUZBBuF0Qb8GREHNj3JBQxJEQa0Wb0Gz3GVBbMhhQSHZckFeMDdB3YKAQfgcVEF1r1RBP5xjQWRziUFpKYFBmDZVQSsUiUGqCopBwd41QY4Yb0FkL0NBxBYtQWLpNEGscllB+y1mQf10VUHrv25BHqFvQYDzQ0HaYIpBU3x4QS0WRkFFkWtBSihxQdV6UEGaKWJBSa+BQY+lgEEO8mtB4A+HQd8IiEGY8k5BrmaQQZApYEEL/pNBgA9lQegLeEFwS4NB\",\"dtype\":\"float32\",\"shape\":[186]}},\"selected\":{\"id\":\"f9540078-46e4-432b-ac37-e18c87674e59\",\"type\":\"Selection\"},\"selection_policy\":{\"id\":\"fa544d21-f8f9-4e7c-af0a-02b5d6bd7e23\",\"type\":\"UnionRenderers\"}},\"id\":\"e17ff4e0-d826-4cc2-9ef9-e7fcdcdd3979\",\"type\":\"ColumnDataSource\"},{\"attributes\":{\"source\":{\"id\":\"f09e323d-0425-4102-b4a6-07021727e4dc\",\"type\":\"ColumnDataSource\"}},\"id\":\"bdf60f41-0fe4-48a3-bf21-19b7ef44c894\",\"type\":\"CDSView\"},{\"attributes\":{\"fill_alpha\":{\"value\":0.1},\"fill_color\":{\"value\":\"#1f77b4\"},\"line_alpha\":{\"value\":0.1},\"line_color\":{\"value\":\"#1f77b4\"},\"size\":{\"units\":\"screen\",\"value\":5},\"x\":{\"field\":\"x\"},\"y\":{\"field\":\"y\"}},\"id\":\"44bcc3d8-c3d2-463a-836a-7b6f8a44964e\",\"type\":\"Circle\"},{\"attributes\":{\"data_source\":{\"id\":\"e17ff4e0-d826-4cc2-9ef9-e7fcdcdd3979\",\"type\":\"ColumnDataSource\"},\"glyph\":{\"id\":\"37584cd4-6ded-42c9-af74-73636e2ed470\",\"type\":\"Circle\"},\"hover_glyph\":null,\"muted_glyph\":{\"id\":\"028dd810-b8cd-4d3f-a3c3-a4122d234141\",\"type\":\"Circle\"},\"nonselection_glyph\":{\"id\":\"5b8cb7ad-4ddb-47b9-bd60-fe448bbe79f8\",\"type\":\"Circle\"},\"selection_glyph\":null,\"view\":{\"id\":\"2b146ac7-f162-479f-a708-86b8ca819494\",\"type\":\"CDSView\"}},\"id\":\"2b94c6c8-6a94-45fd-8f47-a7f1ce81caf0\",\"type\":\"GlyphRenderer\"},{\"attributes\":{\"callback\":null,\"data\":{\"index\":[1389,1390,1391,1392,1393,1394,1395,1396,1397,1398,1399,1400,1401,1402,1403,1404,1405,1406,1407,1408,1409,1410,1411,1412,1413,1414,1415,1416,1417,1418,1419,1420,1421,1422,1423,1424,1425,1426,1427,1428,1429,1430,1431,1432,1433,1434,1435,1436,1437,1438,1439,1440,1441,1442,1443,1444,1445,1446,1447,1448,1449,1450,1451,1452,1453,1454,1455,1456,1457,1458,1459,1460,1461],\"kasios_index\":{\"__ndarray__\":\"AAAAAAAA+H8AAAAAAAD4fwAAAAAAAPh/AAAAAAAA+H8AAAAAAAD4fwAAAAAAAPh/AAAAAAAA+H8AAAAAAAD4fwAAAAAAAPh/AAAAAAAA+H8AAAAAAAD4fwAAAAAAAPh/AAAAAAAA+H8AAAAAAAD4fwAAAAAAAPh/AAAAAAAA+H8AAAAAAAD4fwAAAAAAAPh/AAAAAAAA+H8AAAAAAAD4fwAAAAAAAPh/AAAAAAAA+H8AAAAAAAD4fwAAAAAAAPh/AAAAAAAA+H8AAAAAAAD4fwAAAAAAAPh/AAAAAAAA+H8AAAAAAAD4fwAAAAAAAPh/AAAAAAAA+H8AAAAAAAD4fwAAAAAAAPh/AAAAAAAA+H8AAAAAAAD4fwAAAAAAAPh/AAAAAAAA+H8AAAAAAAD4fwAAAAAAAPh/AAAAAAAA+H8AAAAAAAD4fwAAAAAAAPh/AAAAAAAA+H8AAAAAAAD4fwAAAAAAAPh/AAAAAAAA+H8AAAAAAAD4fwAAAAAAAPh/AAAAAAAA+H8AAAAAAAD4fwAAAAAAAPh/AAAAAAAA+H8AAAAAAAD4fwAAAAAAAPh/AAAAAAAA+H8AAAAAAAD4fwAAAAAAAPh/AAAAAAAA+H8AAAAAAAD4fwAAAAAAAPh/AAAAAAAA+H8AAAAAAAD4fwAAAAAAAPh/AAAAAAAA+H8AAAAAAAD4fwAAAAAAAPh/AAAAAAAA+H8AAAAAAAD4fwAAAAAAAPh/AAAAAAAA+H8AAAAAAAD4fwAAAAAAAPh/AAAAAAAA+H8=\",\"dtype\":\"float64\",\"shape\":[73]},\"specie\":[\"Pinkfinch\",\"Pinkfinch\",\"Pinkfinch\",\"Pinkfinch\",\"Pinkfinch\",\"Pinkfinch\",\"Pinkfinch\",\"Pinkfinch\",\"Pinkfinch\",\"Pinkfinch\",\"Pinkfinch\",\"Pinkfinch\",\"Pinkfinch\",\"Pinkfinch\",\"Pinkfinch\",\"Pinkfinch\",\"Pinkfinch\",\"Pinkfinch\",\"Pinkfinch\",\"Pinkfinch\",\"Pinkfinch\",\"Pinkfinch\",\"Pinkfinch\",\"Pinkfinch\",\"Pinkfinch\",\"Pinkfinch\",\"Pinkfinch\",\"Pinkfinch\",\"Pinkfinch\",\"Pinkfinch\",\"Pinkfinch\",\"Pinkfinch\",\"Pinkfinch\",\"Pinkfinch\",\"Pinkfinch\",\"Pinkfinch\",\"Pinkfinch\",\"Pinkfinch\",\"Pinkfinch\",\"Pinkfinch\",\"Pinkfinch\",\"Pinkfinch\",\"Pinkfinch\",\"Pinkfinch\",\"Pinkfinch\",\"Pinkfinch\",\"Pinkfinch\",\"Pinkfinch\",\"Pinkfinch\",\"Pinkfinch\",\"Pinkfinch\",\"Pinkfinch\",\"Pinkfinch\",\"Pinkfinch\",\"Pinkfinch\",\"Pinkfinch\",\"Pinkfinch\",\"Pinkfinch\",\"Pinkfinch\",\"Pinkfinch\",\"Pinkfinch\",\"Pinkfinch\",\"Pinkfinch\",\"Pinkfinch\",\"Pinkfinch\",\"Pinkfinch\",\"Pinkfinch\",\"Pinkfinch\",\"Pinkfinch\",\"Pinkfinch\",\"Pinkfinch\",\"Pinkfinch\",\"Pinkfinch\"],\"x\":{\"__ndarray__\":\"7IFuQcmNh0EkVoNBsPR1QSiSMUF6pSZBTv49QUjYPUEjxSpBNRIyQcGCLkHlqWJBVswoQckNNEHYbkZBTdhQQXDQMEE3kE1BP6QrQSczXEHmSTVBvJghQdLzYEEFhTdBhUYqQb+xW0HFUThBoRpRQUMTVUEZhEZBN7MlQS/bYUEi6TlBTOxbQaSJL0GogTFBxuImQZ0MNEEWvkhBeXVEQb54PkEz3EpBBkRFQVpKM0GJDTpBrZU4Qdb0P0H5uzZB0CM3QawTQUGUcoFBcwqhQd7sOUECUVdBdkpIQbieP0EoVENB8mVGQbvUIUGcyktBDvgjQUVpZ0FPOmFBStWHQWhRMkHxr1RBMshCQbGCVkGTsERBK+dHQSVMWEHUQZJBRhdjQQ==\",\"dtype\":\"float32\",\"shape\":[73]},\"y\":{\"__ndarray__\":\"eBdYQSD2T0HA+FdB2rpHQdy4ekFVjXVBXhJyQXwDZEEdhmJBvzF3QUxIa0HYg5JBmPB8QX6qW0Fu1XhB+0OOQW9yb0FkWYdBkSVzQeP8hEF36oJBKouDQYPTh0EweGtB5ApwQVwhhkGFEIpB3C5tQQXjk0Hk/IhBg8RkQRKZk0FF6VxBHSNcQcPOdUHnblJBb7iDQQcqg0ED2oJBYNGEQbJHbUHTqopB5h9DQdFngEGnhmRBkrFBQfiybEF0f1tBRQNxQXw4aUEiVlxB2DWKQe0/dEHGQ4NB0kSPQX/4YUGSqVpBbfh3QSN3ekHYTIhBPyKMQcqxWEHU2ZNBpcRdQT4PcUEQ2I9BRtlNQSMIg0F7gFJBeweJQefkfEF/eVRBQ3KJQQ==\",\"dtype\":\"float32\",\"shape\":[73]}},\"selected\":{\"id\":\"88717cdf-a541-46e1-9505-a069e40366fa\",\"type\":\"Selection\"},\"selection_policy\":{\"id\":\"2848cda6-d8d2-44ea-aacf-1964abc42bc4\",\"type\":\"UnionRenderers\"}},\"id\":\"7a08e699-c8d7-487d-ad9f-971c01072e39\",\"type\":\"ColumnDataSource\"},{\"attributes\":{},\"id\":\"f62dd866-d9d3-4218-8631-7840413bfdb9\",\"type\":\"UnionRenderers\"},{\"attributes\":{\"fill_alpha\":{\"value\":0.1},\"fill_color\":{\"field\":\"specie\",\"transform\":{\"id\":\"5ba08051-a679-4f79-a961-70c2e65836be\",\"type\":\"CategoricalColorMapper\"}},\"line_alpha\":{\"value\":0.1},\"line_color\":{\"field\":\"specie\",\"transform\":{\"id\":\"5ba08051-a679-4f79-a961-70c2e65836be\",\"type\":\"CategoricalColorMapper\"}},\"size\":{\"units\":\"screen\",\"value\":5},\"x\":{\"field\":\"x\"},\"y\":{\"field\":\"y\"}},\"id\":\"028dd810-b8cd-4d3f-a3c3-a4122d234141\",\"type\":\"Circle\"},{\"attributes\":{\"callback\":null,\"data\":{\"index\":[1533,1534,1535,1536,1537,1538,1539,1540,1541,1542,1543,1544,1545,1546,1547,1548,1549,1550,1551,1552,1553,1554,1555,1556,1557,1558,1559,1560,1561,1562,1563,1564,1565,1566,1567,1568,1569,1570,1571,1572,1573,1574,1575,1576,1577,1578,1579,1580,1581,1582,1583],\"kasios_index\":{\"__ndarray__\":\"AAAAAAAA+H8AAAAAAAD4fwAAAAAAAPh/AAAAAAAA+H8AAAAAAAD4fwAAAAAAAPh/AAAAAAAA+H8AAAAAAAD4fwAAAAAAAPh/AAAAAAAA+H8AAAAAAAD4fwAAAAAAAPh/AAAAAAAA+H8AAAAAAAD4fwAAAAAAAPh/AAAAAAAA+H8AAAAAAAD4fwAAAAAAAPh/AAAAAAAA+H8AAAAAAAD4fwAAAAAAAPh/AAAAAAAA+H8AAAAAAAD4fwAAAAAAAPh/AAAAAAAA+H8AAAAAAAD4fwAAAAAAAPh/AAAAAAAA+H8AAAAAAAD4fwAAAAAAAPh/AAAAAAAA+H8AAAAAAAD4fwAAAAAAAPh/AAAAAAAA+H8AAAAAAAD4fwAAAAAAAPh/AAAAAAAA+H8AAAAAAAD4fwAAAAAAAPh/AAAAAAAA+H8AAAAAAAD4fwAAAAAAAPh/AAAAAAAA+H8AAAAAAAD4fwAAAAAAAPh/AAAAAAAA+H8AAAAAAAD4fwAAAAAAAPh/AAAAAAAA+H8AAAAAAAD4fwAAAAAAAPh/\",\"dtype\":\"float64\",\"shape\":[51]},\"specie\":[\"Qax\",\"Qax\",\"Qax\",\"Qax\",\"Qax\",\"Qax\",\"Qax\",\"Qax\",\"Qax\",\"Qax\",\"Qax\",\"Qax\",\"Qax\",\"Qax\",\"Qax\",\"Qax\",\"Qax\",\"Qax\",\"Qax\",\"Qax\",\"Qax\",\"Qax\",\"Qax\",\"Qax\",\"Qax\",\"Qax\",\"Qax\",\"Qax\",\"Qax\",\"Qax\",\"Qax\",\"Qax\",\"Qax\",\"Qax\",\"Qax\",\"Qax\",\"Qax\",\"Qax\",\"Qax\",\"Qax\",\"Qax\",\"Qax\",\"Qax\",\"Qax\",\"Qax\",\"Qax\",\"Qax\",\"Qax\",\"Qax\",\"Qax\",\"Qax\"],\"x\":{\"__ndarray__\":\"UyBDQT4tKUFll1NBQC4iQQePQkHyPD9B0yRPQatqIkH+mS1BmI9SQdPdJEGR8SRBNvNbQWxNR0Gx2TRByTtRQU9vMEENVDhBdWAnQd8TL0ECAEVBMTNOQW5sMEFaED9BF0skQQ4bVUHOHk5BglFAQUslQ0G53ydBJQEgQQdJPEG56ChB5tVSQfR6V0EnjThBtktEQV0eJEG5xGBBcyxhQbEoPkHCyEdBBE1PQVilNEF24FZBbddLQeIoU0FoLUxBecVTQeRQdEEF0JlB\",\"dtype\":\"float32\",\"shape\":[51]},\"y\":{\"__ndarray__\":\"WEOVQezrbUHG45BByIZ2QVsJkkHCfoZBy+KNQQ5FfUGqPo1BunuSQXHofEFcsYFB922FQfFJgkEzzZBB1IGIQUtgjkFabIVBWSh5QbEVd0FlapBBUy6NQeZ7k0FkHYVBzjCFQeeijUFuC5hBn5VrQdMpl0EbyodBfkGIQZRWdUG4oHBBLO2RQW59kUGMA4ZBqYhzQc6hhEGJC5NBrRaKQcHck0HBaY9BJu2XQdjYj0FnZZBBuVOIQSPNiEF1J1pBMiaUQQ9RVkFOmIdB\",\"dtype\":\"float32\",\"shape\":[51]}},\"selected\":{\"id\":\"f129f3f4-c9d1-4492-b006-a75ea46b0305\",\"type\":\"Selection\"},\"selection_policy\":{\"id\":\"276cadd9-ea90-4fa7-bf75-ae5b4cc15747\",\"type\":\"UnionRenderers\"}},\"id\":\"29d5e9fd-7a23-4f29-b4df-bd8c3055ec0d\",\"type\":\"ColumnDataSource\"},{\"attributes\":{\"fill_alpha\":{\"value\":0.1},\"fill_color\":{\"field\":\"specie\",\"transform\":{\"id\":\"5ba08051-a679-4f79-a961-70c2e65836be\",\"type\":\"CategoricalColorMapper\"}},\"line_alpha\":{\"value\":0.1},\"line_color\":{\"field\":\"specie\",\"transform\":{\"id\":\"5ba08051-a679-4f79-a961-70c2e65836be\",\"type\":\"CategoricalColorMapper\"}},\"size\":{\"units\":\"screen\",\"value\":5},\"x\":{\"field\":\"x\"},\"y\":{\"field\":\"y\"}},\"id\":\"303c17d9-f745-469f-a840-e1c45638e8a9\",\"type\":\"Circle\"},{\"attributes\":{\"fill_alpha\":{\"value\":0.6},\"fill_color\":{\"field\":\"specie\",\"transform\":{\"id\":\"5ba08051-a679-4f79-a961-70c2e65836be\",\"type\":\"CategoricalColorMapper\"}},\"line_alpha\":{\"value\":0.6},\"line_color\":{\"field\":\"specie\",\"transform\":{\"id\":\"5ba08051-a679-4f79-a961-70c2e65836be\",\"type\":\"CategoricalColorMapper\"}},\"size\":{\"units\":\"screen\",\"value\":5},\"x\":{\"field\":\"x\"},\"y\":{\"field\":\"y\"}},\"id\":\"67f5f137-8480-418a-b752-201a093c7b1a\",\"type\":\"Circle\"},{\"attributes\":{},\"id\":\"20e89757-7470-4269-8581-14cd68292bc3\",\"type\":\"Selection\"},{\"attributes\":{},\"id\":\"0903c674-c7c1-4aff-adb4-e2ee95a57cfd\",\"type\":\"BasicTickFormatter\"},{\"attributes\":{\"fill_alpha\":{\"value\":0.1},\"fill_color\":{\"value\":\"#1f77b4\"},\"line_alpha\":{\"value\":0.1},\"line_color\":{\"value\":\"#1f77b4\"},\"size\":{\"units\":\"screen\",\"value\":5},\"x\":{\"field\":\"x\"},\"y\":{\"field\":\"y\"}},\"id\":\"17258347-3ccd-4c84-9126-9dc4230f58d5\",\"type\":\"Circle\"},{\"attributes\":{},\"id\":\"0077cc59-10bf-4dd7-88c9-3f04e7b6bfac\",\"type\":\"UnionRenderers\"},{\"attributes\":{\"fill_alpha\":{\"value\":0.1},\"fill_color\":{\"value\":\"#1f77b4\"},\"line_alpha\":{\"value\":0.1},\"line_color\":{\"value\":\"#1f77b4\"},\"size\":{\"units\":\"screen\",\"value\":5},\"x\":{\"field\":\"x\"},\"y\":{\"field\":\"y\"}},\"id\":\"2f79c357-be18-41de-bed3-afdfa5ac0d33\",\"type\":\"Circle\"},{\"attributes\":{\"data_source\":{\"id\":\"eb4e3540-179e-4b6c-99f6-c157d2b86892\",\"type\":\"ColumnDataSource\"},\"glyph\":{\"id\":\"9e8c57e8-9554-4446-912d-8576444ff759\",\"type\":\"Circle\"},\"hover_glyph\":null,\"muted\":true,\"muted_glyph\":{\"id\":\"26d118f2-3b8c-43d3-ac3a-deb592103bff\",\"type\":\"Circle\"},\"nonselection_glyph\":{\"id\":\"b3481c7b-df7b-46d0-9258-921301d4630c\",\"type\":\"Circle\"},\"selection_glyph\":null,\"view\":{\"id\":\"be9ccffb-3e29-418f-8f86-69722e41a9c1\",\"type\":\"CDSView\"}},\"id\":\"602cd2ae-8c10-4401-97dd-c07d7229119f\",\"type\":\"GlyphRenderer\"},{\"attributes\":{\"label\":{\"value\":\"Ordinary Snape\"},\"renderers\":[{\"id\":\"c6f1d5f0-4c33-4764-bc1f-e5c6a47d3ffb\",\"type\":\"GlyphRenderer\"}]},\"id\":\"23fe10c8-8799-4b99-8548-6e058896a2ea\",\"type\":\"LegendItem\"},{\"attributes\":{\"callback\":null,\"data\":{\"index\":[565,566,567,568,569,570,571,572,573,574,575,576,577,578,579,580,581,582,583,584,585,586,587,588,589,590,591,592,593,594,595,596,597,598,599,600,601,602,603,604,605,606,607,608,609,610,611,612,613,614,615,616,617,618,619,620,621,622,623,624,625,626,627,628,629,630,631,632,633,634,635,636,637,638,639,640,641,642,643,644,645,646,647,648,649,650,651,652,653,654,655,656,657,658,659,660,661,662,663,664,665,666,667,668],\"kasios_index\":{\"__ndarray__\":\"AAAAAAAA+H8AAAAAAAD4fwAAAAAAAPh/AAAAAAAA+H8AAAAAAAD4fwAAAAAAAPh/AAAAAAAA+H8AAAAAAAD4fwAAAAAAAPh/AAAAAAAA+H8AAAAAAAD4fwAAAAAAAPh/AAAAAAAA+H8AAAAAAAD4fwAAAAAAAPh/AAAAAAAA+H8AAAAAAAD4fwAAAAAAAPh/AAAAAAAA+H8AAAAAAAD4fwAAAAAAAPh/AAAAAAAA+H8AAAAAAAD4fwAAAAAAAPh/AAAAAAAA+H8AAAAAAAD4fwAAAAAAAPh/AAAAAAAA+H8AAAAAAAD4fwAAAAAAAPh/AAAAAAAA+H8AAAAAAAD4fwAAAAAAAPh/AAAAAAAA+H8AAAAAAAD4fwAAAAAAAPh/AAAAAAAA+H8AAAAAAAD4fwAAAAAAAPh/AAAAAAAA+H8AAAAAAAD4fwAAAAAAAPh/AAAAAAAA+H8AAAAAAAD4fwAAAAAAAPh/AAAAAAAA+H8AAAAAAAD4fwAAAAAAAPh/AAAAAAAA+H8AAAAAAAD4fwAAAAAAAPh/AAAAAAAA+H8AAAAAAAD4fwAAAAAAAPh/AAAAAAAA+H8AAAAAAAD4fwAAAAAAAPh/AAAAAAAA+H8AAAAAAAD4fwAAAAAAAPh/AAAAAAAA+H8AAAAAAAD4fwAAAAAAAPh/AAAAAAAA+H8AAAAAAAD4fwAAAAAAAPh/AAAAAAAA+H8AAAAAAAD4fwAAAAAAAPh/AAAAAAAA+H8AAAAAAAD4fwAAAAAAAPh/AAAAAAAA+H8AAAAAAAD4fwAAAAAAAPh/AAAAAAAA+H8AAAAAAAD4fwAAAAAAAPh/AAAAAAAA+H8AAAAAAAD4fwAAAAAAAPh/AAAAAAAA+H8AAAAAAAD4fwAAAAAAAPh/AAAAAAAA+H8AAAAAAAD4fwAAAAAAAPh/AAAAAAAA+H8AAAAAAAD4fwAAAAAAAPh/AAAAAAAA+H8AAAAAAAD4fwAAAAAAAPh/AAAAAAAA+H8AAAAAAAD4fwAAAAAAAPh/AAAAAAAA+H8AAAAAAAD4fwAAAAAAAPh/AAAAAAAA+H8AAAAAAAD4fwAAAAAAAPh/AAAAAAAA+H8AAAAAAAD4fw==\",\"dtype\":\"float64\",\"shape\":[104]},\"specie\":[\"Carries Champagne Pipit\",\"Carries Champagne Pipit\",\"Carries Champagne Pipit\",\"Carries Champagne Pipit\",\"Carries Champagne Pipit\",\"Carries Champagne Pipit\",\"Carries Champagne Pipit\",\"Carries Champagne Pipit\",\"Carries Champagne Pipit\",\"Carries Champagne Pipit\",\"Carries Champagne Pipit\",\"Carries Champagne Pipit\",\"Carries Champagne Pipit\",\"Carries Champagne Pipit\",\"Carries Champagne Pipit\",\"Carries Champagne Pipit\",\"Carries Champagne Pipit\",\"Carries Champagne Pipit\",\"Carries Champagne Pipit\",\"Carries Champagne Pipit\",\"Carries Champagne Pipit\",\"Carries Champagne Pipit\",\"Carries Champagne Pipit\",\"Carries Champagne Pipit\",\"Carries Champagne Pipit\",\"Carries Champagne Pipit\",\"Carries Champagne Pipit\",\"Carries Champagne Pipit\",\"Carries Champagne Pipit\",\"Carries Champagne Pipit\",\"Carries Champagne Pipit\",\"Carries Champagne Pipit\",\"Carries Champagne Pipit\",\"Carries Champagne Pipit\",\"Carries Champagne Pipit\",\"Carries Champagne Pipit\",\"Carries Champagne Pipit\",\"Carries Champagne Pipit\",\"Carries Champagne Pipit\",\"Carries Champagne Pipit\",\"Carries Champagne Pipit\",\"Carries Champagne Pipit\",\"Carries Champagne Pipit\",\"Carries Champagne Pipit\",\"Carries Champagne Pipit\",\"Carries Champagne Pipit\",\"Carries Champagne Pipit\",\"Carries Champagne Pipit\",\"Carries Champagne Pipit\",\"Carries Champagne Pipit\",\"Carries Champagne Pipit\",\"Carries Champagne Pipit\",\"Carries Champagne Pipit\",\"Carries Champagne Pipit\",\"Carries Champagne Pipit\",\"Carries Champagne Pipit\",\"Carries Champagne Pipit\",\"Carries Champagne Pipit\",\"Carries Champagne Pipit\",\"Carries Champagne Pipit\",\"Carries Champagne Pipit\",\"Carries Champagne Pipit\",\"Carries Champagne Pipit\",\"Carries Champagne Pipit\",\"Carries Champagne Pipit\",\"Carries Champagne Pipit\",\"Carries Champagne Pipit\",\"Carries Champagne Pipit\",\"Carries Champagne Pipit\",\"Carries Champagne Pipit\",\"Carries Champagne Pipit\",\"Carries Champagne Pipit\",\"Carries Champagne Pipit\",\"Carries Champagne Pipit\",\"Carries Champagne Pipit\",\"Carries Champagne Pipit\",\"Carries Champagne Pipit\",\"Carries Champagne Pipit\",\"Carries Champagne Pipit\",\"Carries Champagne Pipit\",\"Carries Champagne Pipit\",\"Carries Champagne Pipit\",\"Carries Champagne Pipit\",\"Carries Champagne Pipit\",\"Carries Champagne Pipit\",\"Carries Champagne Pipit\",\"Carries Champagne Pipit\",\"Carries Champagne Pipit\",\"Carries Champagne Pipit\",\"Carries Champagne Pipit\",\"Carries Champagne Pipit\",\"Carries Champagne Pipit\",\"Carries Champagne Pipit\",\"Carries Champagne Pipit\",\"Carries Champagne Pipit\",\"Carries Champagne Pipit\",\"Carries Champagne Pipit\",\"Carries Champagne Pipit\",\"Carries Champagne Pipit\",\"Carries Champagne Pipit\",\"Carries Champagne Pipit\",\"Carries Champagne Pipit\",\"Carries Champagne Pipit\",\"Carries Champagne Pipit\"],\"x\":{\"__ndarray__\":\"U3M9QW2bPUFRlUBB74eCQa8ejkEgR1FBYjhuQb6HhkHW0oBBF5lWQb8uiEEPjERBHBNfQTLJfUFvjo1BTwWEQeUKbUE1HZZByCiLQZeRbUHhqopB2V5UQVwniUHEdoxBCMyLQSFheEEJOYpBkz2AQbl/a0HVB29Bw6F0QYprjEHGS4ZBTpR7QeOdh0FmQ3JBqztoQe30hUH/sV9BEYJ0QRT/iUFJlZlBf8CbQb2loUG2p5JBrlhfQQNEhEFlc49BVpmLQcfqZ0FRbIxBWT2BQdLRa0Hcu4NB2oFrQa31P0HZqVNBvEtyQdGuZkHtE5NBOjiGQb2KakHcXJVBF9uRQZH7c0FgsYtBma2TQS6mhEFyqFtB/qhUQR6BV0EYSFhBwm6GQXN9ikHhu1pBychrQaj/dUGXeXlBNEBfQX8AdUGOqYNBLltuQTZIiEEAEG5BzOOLQUCYhUHu02RBD6FcQaBahkF+Z2BB+D1hQSQfWUGhcFpByV1fQeoKhEGoBWBBQwqBQTNYY0HDjlhBQWBsQRVZYkFTRItBB8xgQVlhYUE=\",\"dtype\":\"float32\",\"shape\":[104]},\"y\":{\"__ndarray__\":\"o0x1QfJAfUFh/V5BGKsxQWwTWkGHZElBSZI1QVI0SUF4Al5B81daQXU6SUFbg1NBe+1bQcW9WkGMy1tBESxZQbNLWkFOCl1BOoBBQVKBV0HEUUBB7s9tQSJNVEEoHVJBmHxFQY/1SEHqxllBfZRdQV39UEHNQE5BnvA3QduePEEjWDlBICleQaljZEHB9E1BSKRZQUIvYUFS3IlB4XdXQaJsR0GUb21BfxeGQSSgb0H1XnFB4OlcQajNYkGhcTpBGsFAQR7HVkHQCGFBTilgQSPhUUEn+EtBsslYQZl/UkFSBjxBAAZXQdZyVEHaVnJBHwBLQd96UkF4p3VBvCluQWA2WUGu6lpBKnFUQfPeW0H4501BjcxeQeK7d0F1TIpB0XJiQVn4YUHSYlhBfARPQW88VEE8XFRBxCiMQdwvU0FXhWJBSa9TQcYgYUFkpVFB6JRhQX2gY0HMXFJBg4RaQVYNZkEHYYhBPIeIQdYkX0EgzF5BZ1hZQRzOY0Hb3oVBDzhiQe7fh0FJu3VBh85TQRyWikHer2RBomtoQUa2hkE=\",\"dtype\":\"float32\",\"shape\":[104]}},\"selected\":{\"id\":\"5bc435c8-7c14-48c2-9efd-d21b56d29954\",\"type\":\"Selection\"},\"selection_policy\":{\"id\":\"fd0a1653-44c5-430f-bb1e-19859dbca7f7\",\"type\":\"UnionRenderers\"}},\"id\":\"6f747fbd-0bbf-4853-a019-da5b47f48f3d\",\"type\":\"ColumnDataSource\"},{\"attributes\":{\"label\":{\"value\":\"Lesser Birchbeere\"},\"renderers\":[{\"id\":\"0996d756-1f1c-441a-a739-a459c637cc07\",\"type\":\"GlyphRenderer\"}]},\"id\":\"65ff9668-b435-419e-9af5-66b71cdc9f04\",\"type\":\"LegendItem\"},{\"attributes\":{\"source\":{\"id\":\"74a94e6c-3116-4923-ae98-1aa080dc258f\",\"type\":\"ColumnDataSource\"}},\"id\":\"9aff1154-8bf7-440b-bc26-99336cd9ed8c\",\"type\":\"CDSView\"},{\"attributes\":{},\"id\":\"c1e0c10a-22f3-412a-91c1-98dfe68d0c74\",\"type\":\"Selection\"},{\"attributes\":{\"label\":{\"value\":\"Scrawny Jay\"},\"renderers\":[{\"id\":\"31715acd-3093-4dcd-b600-2958e3adfb24\",\"type\":\"GlyphRenderer\"}]},\"id\":\"850418ae-4d3e-4f73-b919-332920ae87bc\",\"type\":\"LegendItem\"},{\"attributes\":{},\"id\":\"3f16a148-e8b6-4a5c-90be-c7d4b93814e3\",\"type\":\"UnionRenderers\"},{\"attributes\":{\"text\":{\"field\":\"kasios_index\"},\"text_color\":{\"value\":\"white\"},\"text_font_size\":{\"value\":\"10pt\"},\"x\":{\"field\":\"x\"},\"x_offset\":{\"value\":-5},\"y\":{\"field\":\"y\"},\"y_offset\":{\"value\":8}},\"id\":\"359b86b0-e564-429a-8bd0-1ebb1633458b\",\"type\":\"Text\"},{\"attributes\":{\"fill_alpha\":{\"value\":0.1},\"fill_color\":{\"value\":\"#1f77b4\"},\"line_alpha\":{\"value\":0.1},\"line_color\":{\"value\":\"#1f77b4\"},\"size\":{\"units\":\"screen\",\"value\":5},\"x\":{\"field\":\"x\"},\"y\":{\"field\":\"y\"}},\"id\":\"d249b050-c984-458e-880b-33f6801de53e\",\"type\":\"Circle\"},{\"attributes\":{\"callback\":null,\"data\":{\"index\":[2067,2068,2069,2070,2071,2072,2073,2074,2075,2076,2077,2078,2079,2080,2081],\"kasios_index\":{\"__ndarray__\":\"AAAAAAAA8D8AAAAAAAAAQAAAAAAAAAhAAAAAAAAAEEAAAAAAAAAUQAAAAAAAABhAAAAAAAAAHEAAAAAAAAAgQAAAAAAAACJAAAAAAAAAJEAAAAAAAAAmQAAAAAAAAChAAAAAAAAAKkAAAAAAAAAsQAAAAAAAAC5A\",\"dtype\":\"float64\",\"shape\":[15]},\"specie\":[\"Kasios Test Bird\",\"Kasios Test Bird\",\"Kasios Test Bird\",\"Kasios Test Bird\",\"Kasios Test Bird\",\"Kasios Test Bird\",\"Kasios Test Bird\",\"Kasios Test Bird\",\"Kasios Test Bird\",\"Kasios Test Bird\",\"Kasios Test Bird\",\"Kasios Test Bird\",\"Kasios Test Bird\",\"Kasios Test Bird\",\"Kasios Test Bird\"],\"x\":{\"__ndarray__\":\"G6clQcEujEGM0V9BiSZgQX1jL0HCz1ZBKoFiQcTmikHWCKpBWW8uQZGKoEFcQyxBtRulQRnpiUF+Ry9B\",\"dtype\":\"float32\",\"shape\":[15]},\"y\":{\"__ndarray__\":\"GGNoQdTvPUGuXjdBIto3Qd7nckFdIDNBX8uMQWNJJ0F5NW9BemKPQbTxfUF4QIpBPB9sQdtOP0F+rX5B\",\"dtype\":\"float32\",\"shape\":[15]}},\"selected\":{\"id\":\"5dd448a7-3ae2-456c-924c-bf588d4fd364\",\"type\":\"Selection\"},\"selection_policy\":{\"id\":\"b1b91639-933f-444c-8485-85a874baed67\",\"type\":\"UnionRenderers\"}},\"id\":\"eaaf6a79-dd0e-4d35-9c9f-5ff4b65cafdc\",\"type\":\"ColumnDataSource\"},{\"attributes\":{\"fill_alpha\":{\"value\":0.6},\"fill_color\":{\"field\":\"specie\",\"transform\":{\"id\":\"5ba08051-a679-4f79-a961-70c2e65836be\",\"type\":\"CategoricalColorMapper\"}},\"line_alpha\":{\"value\":0.6},\"line_color\":{\"field\":\"specie\",\"transform\":{\"id\":\"5ba08051-a679-4f79-a961-70c2e65836be\",\"type\":\"CategoricalColorMapper\"}},\"size\":{\"units\":\"screen\",\"value\":5},\"x\":{\"field\":\"x\"},\"y\":{\"field\":\"y\"}},\"id\":\"bd9527a4-59f9-47e8-a67f-4447e87b2bc0\",\"type\":\"Circle\"},{\"attributes\":{},\"id\":\"b4e621d6-3def-4815-91b1-e8f344418a9c\",\"type\":\"Selection\"},{\"attributes\":{\"label\":{\"value\":\"Bent-beak Riffraff\"},\"renderers\":[{\"id\":\"ed713d84-1223-47fe-b0ba-29c126d10fb3\",\"type\":\"GlyphRenderer\"}]},\"id\":\"885fdaab-fb7a-4afb-bbb6-ad6a8782944d\",\"type\":\"LegendItem\"},{\"attributes\":{\"label\":{\"value\":\"Purple Tooting Tout\"},\"renderers\":[{\"id\":\"7e9e7e35-faac-47da-a87a-3eff8df7b20a\",\"type\":\"GlyphRenderer\"}]},\"id\":\"155d4755-16ed-4d05-aa80-45c5283fa45f\",\"type\":\"LegendItem\"},{\"attributes\":{\"fill_alpha\":{\"value\":0.6},\"fill_color\":{\"field\":\"specie\",\"transform\":{\"id\":\"5ba08051-a679-4f79-a961-70c2e65836be\",\"type\":\"CategoricalColorMapper\"}},\"line_alpha\":{\"value\":0.6},\"line_color\":{\"field\":\"specie\",\"transform\":{\"id\":\"5ba08051-a679-4f79-a961-70c2e65836be\",\"type\":\"CategoricalColorMapper\"}},\"size\":{\"units\":\"screen\",\"value\":5},\"x\":{\"field\":\"x\"},\"y\":{\"field\":\"y\"}},\"id\":\"53d8fe3a-fe6a-44c6-8479-abfc86627872\",\"type\":\"Circle\"},{\"attributes\":{},\"id\":\"8af90cdb-0039-4466-9a23-22065961b563\",\"type\":\"UnionRenderers\"},{\"attributes\":{\"label\":{\"value\":\"Qax\"},\"renderers\":[{\"id\":\"732b1a18-ee46-4f02-93be-ca295a8f7449\",\"type\":\"GlyphRenderer\"}]},\"id\":\"d9bb1a3e-177b-44a9-8c7d-b07ed81144e8\",\"type\":\"LegendItem\"},{\"attributes\":{\"label\":{\"value\":\"Queenscoat\"},\"renderers\":[{\"id\":\"5955acf3-2154-48a7-9078-c0ba149bd337\",\"type\":\"GlyphRenderer\"}]},\"id\":\"767421a7-2192-4232-8608-c3d5c10661e7\",\"type\":\"LegendItem\"},{\"attributes\":{},\"id\":\"b9f6c3e3-05f5-4b97-a003-0ac7f23c9cab\",\"type\":\"BasicTicker\"},{\"attributes\":{\"data_source\":{\"id\":\"9d797ec0-1b28-4f08-bef0-ebddbf9903db\",\"type\":\"ColumnDataSource\"},\"glyph\":{\"id\":\"86798b7a-a6a5-4338-8938-6c652d8bf7fc\",\"type\":\"Circle\"},\"hover_glyph\":null,\"muted\":true,\"muted_glyph\":{\"id\":\"e61a05cf-f774-49bc-b4b2-d18fa9854664\",\"type\":\"Circle\"},\"nonselection_glyph\":{\"id\":\"75e61b9c-f9dc-4fd4-acf3-4e7734cda8bc\",\"type\":\"Circle\"},\"selection_glyph\":null,\"view\":{\"id\":\"cbe72c28-b898-47f8-919d-02d7cbe89745\",\"type\":\"CDSView\"}},\"id\":\"7e9e7e35-faac-47da-a87a-3eff8df7b20a\",\"type\":\"GlyphRenderer\"},{\"attributes\":{\"label\":{\"value\":\"Broad-winged Jojo\"},\"renderers\":[{\"id\":\"3f3b9bff-8a87-401e-bf0e-45f0f685e3b5\",\"type\":\"GlyphRenderer\"}]},\"id\":\"3d5c5b7c-d90b-4120-b56f-7570cd756448\",\"type\":\"LegendItem\"},{\"attributes\":{\"source\":{\"id\":\"eb4e3540-179e-4b6c-99f6-c157d2b86892\",\"type\":\"ColumnDataSource\"}},\"id\":\"be9ccffb-3e29-418f-8f86-69722e41a9c1\",\"type\":\"CDSView\"},{\"attributes\":{\"fill_alpha\":{\"value\":0.1},\"fill_color\":{\"field\":\"specie\",\"transform\":{\"id\":\"5ba08051-a679-4f79-a961-70c2e65836be\",\"type\":\"CategoricalColorMapper\"}},\"line_alpha\":{\"value\":0.1},\"line_color\":{\"field\":\"specie\",\"transform\":{\"id\":\"5ba08051-a679-4f79-a961-70c2e65836be\",\"type\":\"CategoricalColorMapper\"}},\"size\":{\"units\":\"screen\",\"value\":5},\"x\":{\"field\":\"x\"},\"y\":{\"field\":\"y\"}},\"id\":\"786a4e81-2123-47e6-a8cb-0ab4fcdd1495\",\"type\":\"Circle\"},{\"attributes\":{\"source\":{\"id\":\"eaaf6a79-dd0e-4d35-9c9f-5ff4b65cafdc\",\"type\":\"ColumnDataSource\"}},\"id\":\"fb01dafb-7f43-44ad-a5b5-e68edd4ae8cf\",\"type\":\"CDSView\"},{\"attributes\":{\"text\":{\"field\":\"kasios_index\"},\"text_alpha\":{\"value\":0.1},\"text_color\":{\"value\":\"black\"},\"text_font_size\":{\"value\":\"10pt\"},\"x\":{\"field\":\"x\"},\"x_offset\":{\"value\":-5},\"y\":{\"field\":\"y\"},\"y_offset\":{\"value\":8}},\"id\":\"d793826f-8537-4c3b-ae2d-a4ad648af795\",\"type\":\"Text\"},{\"attributes\":{\"source\":{\"id\":\"6fe49a51-5cac-4a5d-a0d5-f54c10ef5f09\",\"type\":\"ColumnDataSource\"}},\"id\":\"56cf1230-3cd3-4a82-a4a6-6cf1b107fc03\",\"type\":\"CDSView\"},{\"attributes\":{\"source\":{\"id\":\"18a0e122-8fc2-4b30-bf98-155b413564a4\",\"type\":\"ColumnDataSource\"}},\"id\":\"05789aa6-a939-4f5d-8ab0-31d5017f6f48\",\"type\":\"CDSView\"},{\"attributes\":{\"fill_alpha\":{\"value\":0.6},\"fill_color\":{\"field\":\"specie\",\"transform\":{\"id\":\"5ba08051-a679-4f79-a961-70c2e65836be\",\"type\":\"CategoricalColorMapper\"}},\"line_alpha\":{\"value\":0.6},\"line_color\":{\"field\":\"specie\",\"transform\":{\"id\":\"5ba08051-a679-4f79-a961-70c2e65836be\",\"type\":\"CategoricalColorMapper\"}},\"size\":{\"units\":\"screen\",\"value\":5},\"x\":{\"field\":\"x\"},\"y\":{\"field\":\"y\"}},\"id\":\"28baa2a2-4b70-4b01-a1d1-bf51c0eceaed\",\"type\":\"Circle\"},{\"attributes\":{\"source\":{\"id\":\"fce1b433-e0bf-426c-b3c0-0a85d8836f81\",\"type\":\"ColumnDataSource\"}},\"id\":\"11f48502-635a-47e8-8dce-41aeb95e3fff\",\"type\":\"CDSView\"},{\"attributes\":{\"label\":{\"value\":\"Green-tipped Scarlet Pipit\"},\"renderers\":[{\"id\":\"54586397-3ec5-430e-bb87-854edc8a6797\",\"type\":\"GlyphRenderer\"}]},\"id\":\"80051287-58ac-45d1-9c9c-fcf3eef83994\",\"type\":\"LegendItem\"},{\"attributes\":{\"fill_alpha\":{\"value\":0.1},\"fill_color\":{\"value\":\"#1f77b4\"},\"line_alpha\":{\"value\":0.1},\"line_color\":{\"value\":\"#1f77b4\"},\"size\":{\"units\":\"screen\",\"value\":20},\"x\":{\"field\":\"x\"},\"y\":{\"field\":\"y\"}},\"id\":\"1b41bbf9-e63d-417c-8fcf-92938f23c4db\",\"type\":\"Circle\"},{\"attributes\":{\"callback\":null},\"id\":\"fab7bd98-365e-493b-8218-40f2b7fed4c8\",\"type\":\"DataRange1d\"},{\"attributes\":{\"data_source\":{\"id\":\"74a94e6c-3116-4923-ae98-1aa080dc258f\",\"type\":\"ColumnDataSource\"},\"glyph\":{\"id\":\"5005d839-ef3e-4ace-913e-3a90787f122e\",\"type\":\"Circle\"},\"hover_glyph\":null,\"muted\":true,\"muted_glyph\":{\"id\":\"75196d39-e5c8-4eff-ac3d-d841aedb43f8\",\"type\":\"Circle\"},\"nonselection_glyph\":{\"id\":\"17258347-3ccd-4c84-9126-9dc4230f58d5\",\"type\":\"Circle\"},\"selection_glyph\":null,\"view\":{\"id\":\"9aff1154-8bf7-440b-bc26-99336cd9ed8c\",\"type\":\"CDSView\"}},\"id\":\"69d62093-8233-4f54-add4-1f8ef68947d8\",\"type\":\"GlyphRenderer\"},{\"attributes\":{\"data_source\":{\"id\":\"eaaf6a79-dd0e-4d35-9c9f-5ff4b65cafdc\",\"type\":\"ColumnDataSource\"},\"glyph\":{\"id\":\"e302375f-49f7-44a0-b8dd-9d2473b78412\",\"type\":\"Circle\"},\"hover_glyph\":null,\"muted\":true,\"muted_glyph\":null,\"nonselection_glyph\":{\"id\":\"1b41bbf9-e63d-417c-8fcf-92938f23c4db\",\"type\":\"Circle\"},\"selection_glyph\":null,\"view\":{\"id\":\"fb01dafb-7f43-44ad-a5b5-e68edd4ae8cf\",\"type\":\"CDSView\"}},\"id\":\"f3f79db8-0eb6-4c78-8b37-d5cb26ae396d\",\"type\":\"GlyphRenderer\"},{\"attributes\":{\"label\":{\"value\":\"Eastern Corn Skeet\"},\"renderers\":[{\"id\":\"fb3da94c-3755-4ace-b1a5-473c5d103bf5\",\"type\":\"GlyphRenderer\"}]},\"id\":\"f247ae1d-4a37-4d53-888b-c984d593aa6a\",\"type\":\"LegendItem\"},{\"attributes\":{},\"id\":\"fa544d21-f8f9-4e7c-af0a-02b5d6bd7e23\",\"type\":\"UnionRenderers\"},{\"attributes\":{\"fill_alpha\":{\"value\":0.6},\"fill_color\":{\"field\":\"specie\",\"transform\":{\"id\":\"5ba08051-a679-4f79-a961-70c2e65836be\",\"type\":\"CategoricalColorMapper\"}},\"line_alpha\":{\"value\":0.6},\"line_color\":{\"field\":\"specie\",\"transform\":{\"id\":\"5ba08051-a679-4f79-a961-70c2e65836be\",\"type\":\"CategoricalColorMapper\"}},\"size\":{\"units\":\"screen\",\"value\":5},\"x\":{\"field\":\"x\"},\"y\":{\"field\":\"y\"}},\"id\":\"3e935bfc-0da9-4105-a115-26963f3f40d2\",\"type\":\"Circle\"},{\"attributes\":{\"callback\":null,\"data\":{\"index\":[930,931,932,933,934,935,936,937,938,939,940,941,942,943,944,945,946,947,948,949,950,951,952,953,954,955,956,957,958,959,960,961,962,963,964,965,966,967,968,969,970,971,972,973,974,975,976,977,978,979,980,981,982,983,984,985,986,987,988,989,990,991,992,993,994,995,996,997,998,999,1000,1001,1002,1003,1004,1005,1006,1007,1008,1009,1010,1011,1012,1013,1014,1015,1016,1017,1018,1019,1020,1021,1022,1023,1024,1025,1026,1027,1028,1029,1030,1031,1032,1033,1034,1035,1036,1037,1038,1039,1040,1041,1042,1043,1044,1045,1046,1047,1048,1049,1050,1051,1052,1053,1054,1055,1056,1057,1058,1059,1060,1061,1062,1063,1064,1065,1066,1067,1068,1069,1070,1071,1072,1073,1074,1075,1076,1077,1078,1079],\"kasios_index\":{\"__ndarray__\":\"AAAAAAAA+H8AAAAAAAD4fwAAAAAAAPh/AAAAAAAA+H8AAAAAAAD4fwAAAAAAAPh/AAAAAAAA+H8AAAAAAAD4fwAAAAAAAPh/AAAAAAAA+H8AAAAAAAD4fwAAAAAAAPh/AAAAAAAA+H8AAAAAAAD4fwAAAAAAAPh/AAAAAAAA+H8AAAAAAAD4fwAAAAAAAPh/AAAAAAAA+H8AAAAAAAD4fwAAAAAAAPh/AAAAAAAA+H8AAAAAAAD4fwAAAAAAAPh/AAAAAAAA+H8AAAAAAAD4fwAAAAAAAPh/AAAAAAAA+H8AAAAAAAD4fwAAAAAAAPh/AAAAAAAA+H8AAAAAAAD4fwAAAAAAAPh/AAAAAAAA+H8AAAAAAAD4fwAAAAAAAPh/AAAAAAAA+H8AAAAAAAD4fwAAAAAAAPh/AAAAAAAA+H8AAAAAAAD4fwAAAAAAAPh/AAAAAAAA+H8AAAAAAAD4fwAAAAAAAPh/AAAAAAAA+H8AAAAAAAD4fwAAAAAAAPh/AAAAAAAA+H8AAAAAAAD4fwAAAAAAAPh/AAAAAAAA+H8AAAAAAAD4fwAAAAAAAPh/AAAAAAAA+H8AAAAAAAD4fwAAAAAAAPh/AAAAAAAA+H8AAAAAAAD4fwAAAAAAAPh/AAAAAAAA+H8AAAAAAAD4fwAAAAAAAPh/AAAAAAAA+H8AAAAAAAD4fwAAAAAAAPh/AAAAAAAA+H8AAAAAAAD4fwAAAAAAAPh/AAAAAAAA+H8AAAAAAAD4fwAAAAAAAPh/AAAAAAAA+H8AAAAAAAD4fwAAAAAAAPh/AAAAAAAA+H8AAAAAAAD4fwAAAAAAAPh/AAAAAAAA+H8AAAAAAAD4fwAAAAAAAPh/AAAAAAAA+H8AAAAAAAD4fwAAAAAAAPh/AAAAAAAA+H8AAAAAAAD4fwAAAAAAAPh/AAAAAAAA+H8AAAAAAAD4fwAAAAAAAPh/AAAAAAAA+H8AAAAAAAD4fwAAAAAAAPh/AAAAAAAA+H8AAAAAAAD4fwAAAAAAAPh/AAAAAAAA+H8AAAAAAAD4fwAAAAAAAPh/AAAAAAAA+H8AAAAAAAD4fwAAAAAAAPh/AAAAAAAA+H8AAAAAAAD4fwAAAAAAAPh/AAAAAAAA+H8AAAAAAAD4fwAAAAAAAPh/AAAAAAAA+H8AAAAAAAD4fwAAAAAAAPh/AAAAAAAA+H8AAAAAAAD4fwAAAAAAAPh/AAAAAAAA+H8AAAAAAAD4fwAAAAAAAPh/AAAAAAAA+H8AAAAAAAD4fwAAAAAAAPh/AAAAAAAA+H8AAAAAAAD4fwAAAAAAAPh/AAAAAAAA+H8AAAAAAAD4fwAAAAAAAPh/AAAAAAAA+H8AAAAAAAD4fwAAAAAAAPh/AAAAAAAA+H8AAAAAAAD4fwAAAAAAAPh/AAAAAAAA+H8AAAAAAAD4fwAAAAAAAPh/AAAAAAAA+H8AAAAAAAD4fwAAAAAAAPh/AAAAAAAA+H8AAAAAAAD4fwAAAAAAAPh/AAAAAAAA+H8AAAAAAAD4fwAAAAAAAPh/AAAAAAAA+H8AAAAAAAD4fwAAAAAAAPh/AAAAAAAA+H8AAAAAAAD4fwAAAAAAAPh/\",\"dtype\":\"float64\",\"shape\":[150]},\"specie\":[\"Lesser Birchbeere\",\"Lesser Birchbeere\",\"Lesser Birchbeere\",\"Lesser Birchbeere\",\"Lesser Birchbeere\",\"Lesser Birchbeere\",\"Lesser Birchbeere\",\"Lesser Birchbeere\",\"Lesser Birchbeere\",\"Lesser Birchbeere\",\"Lesser Birchbeere\",\"Lesser Birchbeere\",\"Lesser Birchbeere\",\"Lesser Birchbeere\",\"Lesser Birchbeere\",\"Lesser Birchbeere\",\"Lesser Birchbeere\",\"Lesser Birchbeere\",\"Lesser Birchbeere\",\"Lesser Birchbeere\",\"Lesser Birchbeere\",\"Lesser Birchbeere\",\"Lesser Birchbeere\",\"Lesser Birchbeere\",\"Lesser Birchbeere\",\"Lesser Birchbeere\",\"Lesser Birchbeere\",\"Lesser Birchbeere\",\"Lesser Birchbeere\",\"Lesser Birchbeere\",\"Lesser Birchbeere\",\"Lesser Birchbeere\",\"Lesser Birchbeere\",\"Lesser Birchbeere\",\"Lesser Birchbeere\",\"Lesser Birchbeere\",\"Lesser Birchbeere\",\"Lesser Birchbeere\",\"Lesser Birchbeere\",\"Lesser Birchbeere\",\"Lesser Birchbeere\",\"Lesser Birchbeere\",\"Lesser Birchbeere\",\"Lesser Birchbeere\",\"Lesser Birchbeere\",\"Lesser Birchbeere\",\"Lesser Birchbeere\",\"Lesser Birchbeere\",\"Lesser Birchbeere\",\"Lesser Birchbeere\",\"Lesser Birchbeere\",\"Lesser Birchbeere\",\"Lesser Birchbeere\",\"Lesser Birchbeere\",\"Lesser Birchbeere\",\"Lesser Birchbeere\",\"Lesser Birchbeere\",\"Lesser Birchbeere\",\"Lesser Birchbeere\",\"Lesser Birchbeere\",\"Lesser Birchbeere\",\"Lesser Birchbeere\",\"Lesser Birchbeere\",\"Lesser Birchbeere\",\"Lesser Birchbeere\",\"Lesser Birchbeere\",\"Lesser Birchbeere\",\"Lesser Birchbeere\",\"Lesser Birchbeere\",\"Lesser Birchbeere\",\"Lesser Birchbeere\",\"Lesser Birchbeere\",\"Lesser Birchbeere\",\"Lesser Birchbeere\",\"Lesser Birchbeere\",\"Lesser Birchbeere\",\"Lesser Birchbeere\",\"Lesser Birchbeere\",\"Lesser Birchbeere\",\"Lesser Birchbeere\",\"Lesser Birchbeere\",\"Lesser Birchbeere\",\"Lesser Birchbeere\",\"Lesser Birchbeere\",\"Lesser Birchbeere\",\"Lesser Birchbeere\",\"Lesser Birchbeere\",\"Lesser Birchbeere\",\"Lesser Birchbeere\",\"Lesser Birchbeere\",\"Lesser Birchbeere\",\"Lesser Birchbeere\",\"Lesser Birchbeere\",\"Lesser Birchbeere\",\"Lesser Birchbeere\",\"Lesser Birchbeere\",\"Lesser Birchbeere\",\"Lesser Birchbeere\",\"Lesser Birchbeere\",\"Lesser Birchbeere\",\"Lesser Birchbeere\",\"Lesser Birchbeere\",\"Lesser Birchbeere\",\"Lesser Birchbeere\",\"Lesser Birchbeere\",\"Lesser Birchbeere\",\"Lesser Birchbeere\",\"Lesser Birchbeere\",\"Lesser Birchbeere\",\"Lesser Birchbeere\",\"Lesser Birchbeere\",\"Lesser Birchbeere\",\"Lesser Birchbeere\",\"Lesser Birchbeere\",\"Lesser Birchbeere\",\"Lesser Birchbeere\",\"Lesser Birchbeere\",\"Lesser Birchbeere\",\"Lesser Birchbeere\",\"Lesser Birchbeere\",\"Lesser Birchbeere\",\"Lesser Birchbeere\",\"Lesser Birchbeere\",\"Lesser Birchbeere\",\"Lesser Birchbeere\",\"Lesser Birchbeere\",\"Lesser Birchbeere\",\"Lesser Birchbeere\",\"Lesser Birchbeere\",\"Lesser Birchbeere\",\"Lesser Birchbeere\",\"Lesser Birchbeere\",\"Lesser Birchbeere\",\"Lesser Birchbeere\",\"Lesser Birchbeere\",\"Lesser Birchbeere\",\"Lesser Birchbeere\",\"Lesser Birchbeere\",\"Lesser Birchbeere\",\"Lesser Birchbeere\",\"Lesser Birchbeere\",\"Lesser Birchbeere\",\"Lesser Birchbeere\",\"Lesser Birchbeere\",\"Lesser Birchbeere\",\"Lesser Birchbeere\",\"Lesser Birchbeere\",\"Lesser Birchbeere\",\"Lesser Birchbeere\",\"Lesser Birchbeere\"],\"x\":{\"__ndarray__\":\"bIyLQYqDjUGnGWFBZQaHQX8Mh0F1omVB1jCHQQXThkFfwYFBCyyEQUbvhkG0tIRB4lGGQeJthUFbxIpBKseHQQPGhEGt84VBVdqKQc1EiEE4qoRBCOl6QQ3TRkGXLXZBGuB/QXdrf0GRmWZBKkiLQb54Z0FMMYpBt/d0QaqigUExgIdBqouDQSEXf0Eooo9BzKaQQW8XgEGT54ZBs9djQeZqi0GhPWlBdAVwQehtdEHxT4xBtfd2QeIdiUFigmdB/82LQeJriEGgloJBo5x3QVKNREF4EItBj+KFQcw6hUFMa4tBUVuIQQ25gEFLvIRBN/B7QcKyiEENqIlBmM50QaDEd0EQiI1BlImFQbntcEGwOjxB2pmCQSMki0FTSn9BZc+AQcwziEGeJIhB6+2CQVyUi0EkondB4G6KQZLnkUGhA4tB3O2UQfpAa0FbaXNBcz9OQf2RjUEDKYBB3e9xQUcNh0EeOItBOlCCQQYeXUHt74hBkVuGQXxyg0GgZHdBlmgxQakYi0GKKoVBkcaHQf+CbkEwbItBlAR2QTFbcUFgC2pB9Ql0Qbv0i0FQDYBBH6NkQUt8i0EYA4xB7UqRQYgBkUF+QYRBTMSKQcJ4ikF8F4pBM5yGQSszdUEazIBB/dqHQTsci0H2N4BBBVWDQegCjEFi4oRBk+Z/Qa8/ckFx6HdBTL9gQcjpYUEp3mJBp2+LQWlohUFsU4dB5C+KQQIwiUEiOl1BZyZcQacIg0EfQmdBYFBZQaAzikFYXoJBQ9OBQWQTKUEvjIBBvUuJQfexX0FU2WBB\",\"dtype\":\"float32\",\"shape\":[150]},\"y\":{\"__ndarray__\":\"6LEwQYW4NUGMuolBKjEnQbjAJUH7T1ZBGT0nQVnAJkHuh1RBKjgsQZH3JUEpHydBbaskQWyQJ0FOhCZB+elbQU70KEGDfUFBOb0nQaolJ0Hl+lBB2GFOQaO5OkHel0hBR+pSQXkfVUFSeExBarFTQarfSkEk0SVBEzc4QVhBUkFC1CdB5eUrQXr6UkGbqzhByd48QSFcUkGTEFNBc8wxQb9ZL0FeclBBJVlBQSnCQ0GkWSxBxEVLQZCVJUH7yFVBFeAtQcX8KUEfY11Byt5LQdU7TEHhQyhBK6MoQZCbKEFZ/StB+R4mQdQVWUH13U9BUkJVQcZXJUF2OSZBUlpDQXiASkGO315BASdMQUUnQEF/CoFBUEBTQUvjMEHTmlRB9CNVQbh4KEGiSVNBpyRUQd/yKkGXYUxBguUoQQMcU0H2BChBcNNZQU5UTUHqBUtB9ktAQTk+NkG0f1JBHYxSQT88J0GNZSlB26JVQZlJRUFntiVBI5onQRC3UUECYUtBITqJQeGQKUEueE9BiS4lQYnlSUHZhipB2ZY5QXAHSUEu1EdBR5NFQYfVLkF8oFVBk6RRQWS4M0FWGy1BPmNUQWuIVUEsL09BOxEoQe6NJ0FPtFNB4volQc3rSEHBN1NBJ8RCQY7yKEF+AVVBIq5RQVooMEGYL05BdW9cQZj6VUEimkxBwa9HQfGoiEEDZFFB2AlQQfl9UEFuA11ByXlWQUYKVEHdr0VBwhdFQdCHLUEqkVJBsUdzQabxRkEWK11B5n9UQcA/fUHZPllBtdVRQaPwhUGcKItB\",\"dtype\":\"float32\",\"shape\":[150]}},\"selected\":{\"id\":\"c1e0c10a-22f3-412a-91c1-98dfe68d0c74\",\"type\":\"Selection\"},\"selection_policy\":{\"id\":\"8af90cdb-0039-4466-9a23-22065961b563\",\"type\":\"UnionRenderers\"}},\"id\":\"18a0e122-8fc2-4b30-bf98-155b413564a4\",\"type\":\"ColumnDataSource\"},{\"attributes\":{\"fill_alpha\":{\"value\":0.7},\"fill_color\":{\"value\":\"black\"},\"line_alpha\":{\"value\":0.7},\"size\":{\"units\":\"screen\",\"value\":20},\"x\":{\"field\":\"x\"},\"y\":{\"field\":\"y\"}},\"id\":\"e302375f-49f7-44a0-b8dd-9d2473b78412\",\"type\":\"Circle\"},{\"attributes\":{},\"id\":\"319feebd-c5bf-4176-8083-caaee67bacb8\",\"type\":\"UnionRenderers\"},{\"attributes\":{\"data_source\":{\"id\":\"6fe49a51-5cac-4a5d-a0d5-f54c10ef5f09\",\"type\":\"ColumnDataSource\"},\"glyph\":{\"id\":\"28baa2a2-4b70-4b01-a1d1-bf51c0eceaed\",\"type\":\"Circle\"},\"hover_glyph\":null,\"muted\":true,\"muted_glyph\":{\"id\":\"786a4e81-2123-47e6-a8cb-0ab4fcdd1495\",\"type\":\"Circle\"},\"nonselection_glyph\":{\"id\":\"2f79c357-be18-41de-bed3-afdfa5ac0d33\",\"type\":\"Circle\"},\"selection_glyph\":null,\"view\":{\"id\":\"56cf1230-3cd3-4a82-a4a6-6cf1b107fc03\",\"type\":\"CDSView\"}},\"id\":\"5ad5c99b-8c89-44bf-a596-68645f688d79\",\"type\":\"GlyphRenderer\"},{\"attributes\":{\"label\":{\"value\":\"Canadian Cootamum\"},\"renderers\":[{\"id\":\"69d62093-8233-4f54-add4-1f8ef68947d8\",\"type\":\"GlyphRenderer\"}]},\"id\":\"17a36863-9db1-4314-9af1-90aee6480cb6\",\"type\":\"LegendItem\"},{\"attributes\":{\"label\":{\"value\":\"Orange Pine Plover\"},\"renderers\":[{\"id\":\"602cd2ae-8c10-4401-97dd-c07d7229119f\",\"type\":\"GlyphRenderer\"}]},\"id\":\"c979be38-ae38-4a2e-af79-36946c4f2eba\",\"type\":\"LegendItem\"},{\"attributes\":{\"source\":{\"id\":\"6f747fbd-0bbf-4853-a019-da5b47f48f3d\",\"type\":\"ColumnDataSource\"}},\"id\":\"1058b11c-96c4-4275-8fa6-a59555dd2392\",\"type\":\"CDSView\"},{\"attributes\":{\"fill_alpha\":{\"value\":0.1},\"fill_color\":{\"field\":\"specie\",\"transform\":{\"id\":\"5ba08051-a679-4f79-a961-70c2e65836be\",\"type\":\"CategoricalColorMapper\"}},\"line_alpha\":{\"value\":0.1},\"line_color\":{\"field\":\"specie\",\"transform\":{\"id\":\"5ba08051-a679-4f79-a961-70c2e65836be\",\"type\":\"CategoricalColorMapper\"}},\"size\":{\"units\":\"screen\",\"value\":5},\"x\":{\"field\":\"x\"},\"y\":{\"field\":\"y\"}},\"id\":\"26d118f2-3b8c-43d3-ac3a-deb592103bff\",\"type\":\"Circle\"},{\"attributes\":{},\"id\":\"1ffbf502-f126-4148-9ef4-1389815d5c8f\",\"type\":\"UnionRenderers\"},{\"attributes\":{\"callback\":null,\"data\":{\"index\":[1983,1984,1985,1986,1987,1988,1989,1990,1991,1992,1993,1994,1995,1996,1997,1998,1999,2000,2001,2002,2003,2004,2005,2006,2007,2008,2009,2010,2011,2012,2013,2014,2015,2016,2017,2018,2019,2020,2021,2022,2023,2024,2025,2026,2027,2028,2029,2030,2031,2032,2033,2034,2035,2036,2037,2038,2039,2040,2041,2042,2043,2044,2045,2046,2047,2048,2049,2050,2051,2052,2053,2054,2055,2056,2057,2058,2059,2060,2061,2062,2063,2064,2065,2066],\"kasios_index\":{\"__ndarray__\":\"AAAAAAAA+H8AAAAAAAD4fwAAAAAAAPh/AAAAAAAA+H8AAAAAAAD4fwAAAAAAAPh/AAAAAAAA+H8AAAAAAAD4fwAAAAAAAPh/AAAAAAAA+H8AAAAAAAD4fwAAAAAAAPh/AAAAAAAA+H8AAAAAAAD4fwAAAAAAAPh/AAAAAAAA+H8AAAAAAAD4fwAAAAAAAPh/AAAAAAAA+H8AAAAAAAD4fwAAAAAAAPh/AAAAAAAA+H8AAAAAAAD4fwAAAAAAAPh/AAAAAAAA+H8AAAAAAAD4fwAAAAAAAPh/AAAAAAAA+H8AAAAAAAD4fwAAAAAAAPh/AAAAAAAA+H8AAAAAAAD4fwAAAAAAAPh/AAAAAAAA+H8AAAAAAAD4fwAAAAAAAPh/AAAAAAAA+H8AAAAAAAD4fwAAAAAAAPh/AAAAAAAA+H8AAAAAAAD4fwAAAAAAAPh/AAAAAAAA+H8AAAAAAAD4fwAAAAAAAPh/AAAAAAAA+H8AAAAAAAD4fwAAAAAAAPh/AAAAAAAA+H8AAAAAAAD4fwAAAAAAAPh/AAAAAAAA+H8AAAAAAAD4fwAAAAAAAPh/AAAAAAAA+H8AAAAAAAD4fwAAAAAAAPh/AAAAAAAA+H8AAAAAAAD4fwAAAAAAAPh/AAAAAAAA+H8AAAAAAAD4fwAAAAAAAPh/AAAAAAAA+H8AAAAAAAD4fwAAAAAAAPh/AAAAAAAA+H8AAAAAAAD4fwAAAAAAAPh/AAAAAAAA+H8AAAAAAAD4fwAAAAAAAPh/AAAAAAAA+H8AAAAAAAD4fwAAAAAAAPh/AAAAAAAA+H8AAAAAAAD4fwAAAAAAAPh/AAAAAAAA+H8AAAAAAAD4fwAAAAAAAPh/AAAAAAAA+H8AAAAAAAD4fwAAAAAAAPh/\",\"dtype\":\"float64\",\"shape\":[84]},\"specie\":[\"Vermillion Trillian\",\"Vermillion Trillian\",\"Vermillion Trillian\",\"Vermillion Trillian\",\"Vermillion Trillian\",\"Vermillion Trillian\",\"Vermillion Trillian\",\"Vermillion Trillian\",\"Vermillion Trillian\",\"Vermillion Trillian\",\"Vermillion Trillian\",\"Vermillion Trillian\",\"Vermillion Trillian\",\"Vermillion Trillian\",\"Vermillion Trillian\",\"Vermillion Trillian\",\"Vermillion Trillian\",\"Vermillion Trillian\",\"Vermillion Trillian\",\"Vermillion Trillian\",\"Vermillion Trillian\",\"Vermillion Trillian\",\"Vermillion Trillian\",\"Vermillion Trillian\",\"Vermillion Trillian\",\"Vermillion Trillian\",\"Vermillion Trillian\",\"Vermillion Trillian\",\"Vermillion Trillian\",\"Vermillion Trillian\",\"Vermillion Trillian\",\"Vermillion Trillian\",\"Vermillion Trillian\",\"Vermillion Trillian\",\"Vermillion Trillian\",\"Vermillion Trillian\",\"Vermillion Trillian\",\"Vermillion Trillian\",\"Vermillion Trillian\",\"Vermillion Trillian\",\"Vermillion Trillian\",\"Vermillion Trillian\",\"Vermillion Trillian\",\"Vermillion Trillian\",\"Vermillion Trillian\",\"Vermillion Trillian\",\"Vermillion Trillian\",\"Vermillion Trillian\",\"Vermillion Trillian\",\"Vermillion Trillian\",\"Vermillion Trillian\",\"Vermillion Trillian\",\"Vermillion Trillian\",\"Vermillion Trillian\",\"Vermillion Trillian\",\"Vermillion Trillian\",\"Vermillion Trillian\",\"Vermillion Trillian\",\"Vermillion Trillian\",\"Vermillion Trillian\",\"Vermillion Trillian\",\"Vermillion Trillian\",\"Vermillion Trillian\",\"Vermillion Trillian\",\"Vermillion Trillian\",\"Vermillion Trillian\",\"Vermillion Trillian\",\"Vermillion Trillian\",\"Vermillion Trillian\",\"Vermillion Trillian\",\"Vermillion Trillian\",\"Vermillion Trillian\",\"Vermillion Trillian\",\"Vermillion Trillian\",\"Vermillion Trillian\",\"Vermillion Trillian\",\"Vermillion Trillian\",\"Vermillion Trillian\",\"Vermillion Trillian\",\"Vermillion Trillian\",\"Vermillion Trillian\",\"Vermillion Trillian\",\"Vermillion Trillian\",\"Vermillion Trillian\"],\"x\":{\"__ndarray__\":\"eRhAQY1wNUHBAyFBCRAeQW/oFkEIUEJBG9tYQZMKT0F6REJBAs8yQRWzIkFRt09BY+RMQY07N0EUc1VBBzMeQad6TUGQq01Bhwo+QYR1TUFaNUtBU1lBQWCtNkE6eTtBe/I4QfPdQkG35jlBlbssQdOrQ0Gc6FJBbk9WQZwINUGoCipB23tAQXePVkH+e0JBEvWoQepQhUGmjTVBfFU2QahZPkH8O0tBxRssQa+oSEGKf0RB+elTQfn3S0GplCRBUr1NQSLXNUHm6yhBp1lDQUPrNUEBQzRBPfpCQc4DV0GMIaJBgGQuQcl/TEEl5zVBGZY0QfmuQEF8OTdB7NFbQY/1TUGMyBtBrEFLQX3TTUExPU5B2ENWQbv9UEG1UkZBzYikQStDQkHi+VtBZGo5QWRfSEEIFldBvUgwQfd3PUGQ/ktBAptVQcBeVEFQhDdB\",\"dtype\":\"float32\",\"shape\":[84]},\"y\":{\"__ndarray__\":\"cbmWQWD9jkE3aohB4D1tQTzTcUEau45BMV6SQVt7U0FJgZJBdbGVQVa9ikEb+mBBdHaYQdlekUF52ZNBB+9qQXswmEHGAZhBq7qJQf7JjkGNzY5BBTiWQWdqlkHCWo1B4nqGQTrSjUGT3XZBxwCCQUu1jUFJIpJBKA+NQRxyikGdxYFBfMNqQcQSkkH9To5BXDl+QYeEW0HUeItBfvuVQSM9lEE235dBq7uCQXp7k0GN9JRBwDmNQTTnlEFPLWZBKQ+YQeqllUFCD49BS02PQTamlEEQLJRBF8qRQVcljEGmWXFBot2PQd0mjkF33IRBIaqGQQo1jkE7l5BBrWZFQbV6l0EwymhBL3GHQUKGhkEgjIZBLR6NQdA5jEH0Q4lBBi6KQdj6jUE4JjlB5YaPQV/Rj0GghpBBDbVzQQ1bhEE2IphBvPyPQdKsjUGrdXhB\",\"dtype\":\"float32\",\"shape\":[84]}},\"selected\":{\"id\":\"4de532af-ec4d-407c-a53b-d30f9e60a325\",\"type\":\"Selection\"},\"selection_policy\":{\"id\":\"52ecb980-bb00-45d1-883a-1b08fdf9f743\",\"type\":\"UnionRenderers\"}},\"id\":\"6fe49a51-5cac-4a5d-a0d5-f54c10ef5f09\",\"type\":\"ColumnDataSource\"},{\"attributes\":{\"data_source\":{\"id\":\"6f747fbd-0bbf-4853-a019-da5b47f48f3d\",\"type\":\"ColumnDataSource\"},\"glyph\":{\"id\":\"3d9481da-71a3-4473-8cf9-2548deb5d292\",\"type\":\"Circle\"},\"hover_glyph\":null,\"muted\":true,\"muted_glyph\":{\"id\":\"3439decc-f5a6-4a48-9add-a88c6025f303\",\"type\":\"Circle\"},\"nonselection_glyph\":{\"id\":\"3493015e-b3a4-45cf-8d18-7ae9584b910f\",\"type\":\"Circle\"},\"selection_glyph\":null,\"view\":{\"id\":\"1058b11c-96c4-4275-8fa6-a59555dd2392\",\"type\":\"CDSView\"}},\"id\":\"e70bff65-510e-4f6f-89d3-375ef2f0ae9d\",\"type\":\"GlyphRenderer\"},{\"attributes\":{\"fill_alpha\":{\"value\":0.1},\"fill_color\":{\"field\":\"specie\",\"transform\":{\"id\":\"5ba08051-a679-4f79-a961-70c2e65836be\",\"type\":\"CategoricalColorMapper\"}},\"line_alpha\":{\"value\":0.1},\"line_color\":{\"field\":\"specie\",\"transform\":{\"id\":\"5ba08051-a679-4f79-a961-70c2e65836be\",\"type\":\"CategoricalColorMapper\"}},\"size\":{\"units\":\"screen\",\"value\":5},\"x\":{\"field\":\"x\"},\"y\":{\"field\":\"y\"}},\"id\":\"bb597a6c-1f0d-4f72-8895-1c1d3c434d92\",\"type\":\"Circle\"},{\"attributes\":{},\"id\":\"668306fc-7d7f-4c65-b9c1-85ae02d250c2\",\"type\":\"UnionRenderers\"},{\"attributes\":{\"data_source\":{\"id\":\"eaaf6a79-dd0e-4d35-9c9f-5ff4b65cafdc\",\"type\":\"ColumnDataSource\"},\"glyph\":{\"id\":\"359b86b0-e564-429a-8bd0-1ebb1633458b\",\"type\":\"Text\"},\"hover_glyph\":null,\"muted_glyph\":null,\"nonselection_glyph\":{\"id\":\"d793826f-8537-4c3b-ae2d-a4ad648af795\",\"type\":\"Text\"},\"selection_glyph\":null,\"view\":{\"id\":\"97d4206e-27d1-452c-af2b-8365e6dd4889\",\"type\":\"CDSView\"}},\"id\":\"af02645d-64c8-4f78-b5d4-a89e50ec1499\",\"type\":\"GlyphRenderer\"},{\"attributes\":{\"label\":{\"value\":\"Rose-crested Blue Pipit\"},\"renderers\":[{\"id\":\"2b94c6c8-6a94-45fd-8f47-a7f1ce81caf0\",\"type\":\"GlyphRenderer\"}]},\"id\":\"fd0dfe1b-5063-40b5-b163-2fe2b6b86fcb\",\"type\":\"LegendItem\"},{\"attributes\":{\"data_source\":{\"id\":\"18a0e122-8fc2-4b30-bf98-155b413564a4\",\"type\":\"ColumnDataSource\"},\"glyph\":{\"id\":\"bd9527a4-59f9-47e8-a67f-4447e87b2bc0\",\"type\":\"Circle\"},\"hover_glyph\":null,\"muted\":true,\"muted_glyph\":{\"id\":\"bb597a6c-1f0d-4f72-8895-1c1d3c434d92\",\"type\":\"Circle\"},\"nonselection_glyph\":{\"id\":\"9db1709c-e2f6-4e97-b231-d6d3f0adeacd\",\"type\":\"Circle\"},\"selection_glyph\":null,\"view\":{\"id\":\"05789aa6-a939-4f5d-8ab0-31d5017f6f48\",\"type\":\"CDSView\"}},\"id\":\"0996d756-1f1c-441a-a739-a459c637cc07\",\"type\":\"GlyphRenderer\"},{\"attributes\":{\"fill_alpha\":{\"value\":0.1},\"fill_color\":{\"field\":\"specie\",\"transform\":{\"id\":\"5ba08051-a679-4f79-a961-70c2e65836be\",\"type\":\"CategoricalColorMapper\"}},\"line_alpha\":{\"value\":0.1},\"line_color\":{\"field\":\"specie\",\"transform\":{\"id\":\"5ba08051-a679-4f79-a961-70c2e65836be\",\"type\":\"CategoricalColorMapper\"}},\"size\":{\"units\":\"screen\",\"value\":5},\"x\":{\"field\":\"x\"},\"y\":{\"field\":\"y\"}},\"id\":\"e61a05cf-f774-49bc-b4b2-d18fa9854664\",\"type\":\"Circle\"},{\"attributes\":{},\"id\":\"2848cda6-d8d2-44ea-aacf-1964abc42bc4\",\"type\":\"UnionRenderers\"},{\"attributes\":{\"fill_alpha\":{\"value\":0.6},\"fill_color\":{\"field\":\"specie\",\"transform\":{\"id\":\"5ba08051-a679-4f79-a961-70c2e65836be\",\"type\":\"CategoricalColorMapper\"}},\"line_alpha\":{\"value\":0.6},\"line_color\":{\"field\":\"specie\",\"transform\":{\"id\":\"5ba08051-a679-4f79-a961-70c2e65836be\",\"type\":\"CategoricalColorMapper\"}},\"size\":{\"units\":\"screen\",\"value\":5},\"x\":{\"field\":\"x\"},\"y\":{\"field\":\"y\"}},\"id\":\"3d9481da-71a3-4473-8cf9-2548deb5d292\",\"type\":\"Circle\"},{\"attributes\":{\"fill_alpha\":{\"value\":0.1},\"fill_color\":{\"field\":\"specie\",\"transform\":{\"id\":\"5ba08051-a679-4f79-a961-70c2e65836be\",\"type\":\"CategoricalColorMapper\"}},\"line_alpha\":{\"value\":0.1},\"line_color\":{\"field\":\"specie\",\"transform\":{\"id\":\"5ba08051-a679-4f79-a961-70c2e65836be\",\"type\":\"CategoricalColorMapper\"}},\"size\":{\"units\":\"screen\",\"value\":5},\"x\":{\"field\":\"x\"},\"y\":{\"field\":\"y\"}},\"id\":\"a344f541-a518-4cba-a6f2-f44ecfe74eaf\",\"type\":\"Circle\"},{\"attributes\":{},\"id\":\"88717cdf-a541-46e1-9505-a069e40366fa\",\"type\":\"Selection\"},{\"attributes\":{\"label\":{\"value\":\"Carries Champagne Pipit\"},\"renderers\":[{\"id\":\"e70bff65-510e-4f6f-89d3-375ef2f0ae9d\",\"type\":\"GlyphRenderer\"}]},\"id\":\"c4d093fc-eac2-4094-835e-fa57916c8c25\",\"type\":\"LegendItem\"},{\"attributes\":{\"fill_alpha\":{\"value\":0.1},\"fill_color\":{\"value\":\"#1f77b4\"},\"line_alpha\":{\"value\":0.1},\"line_color\":{\"value\":\"#1f77b4\"},\"size\":{\"units\":\"screen\",\"value\":5},\"x\":{\"field\":\"x\"},\"y\":{\"field\":\"y\"}},\"id\":\"fba5bce2-8143-492c-b4da-7b6b883a48b7\",\"type\":\"Circle\"},{\"attributes\":{},\"id\":\"cd3c609e-bd65-406f-a204-4f8f23d6e116\",\"type\":\"Selection\"},{\"attributes\":{},\"id\":\"b6857f01-ed6d-447b-b01b-578678d3e983\",\"type\":\"Selection\"},{\"attributes\":{},\"id\":\"6336f29b-0a41-4b45-8d09-d5e3f1afbeda\",\"type\":\"BasicTickFormatter\"},{\"attributes\":{\"fill_alpha\":{\"value\":0.6},\"fill_color\":{\"field\":\"specie\",\"transform\":{\"id\":\"5ba08051-a679-4f79-a961-70c2e65836be\",\"type\":\"CategoricalColorMapper\"}},\"line_alpha\":{\"value\":0.6},\"line_color\":{\"field\":\"specie\",\"transform\":{\"id\":\"5ba08051-a679-4f79-a961-70c2e65836be\",\"type\":\"CategoricalColorMapper\"}},\"size\":{\"units\":\"screen\",\"value\":5},\"x\":{\"field\":\"x\"},\"y\":{\"field\":\"y\"}},\"id\":\"9e8c57e8-9554-4446-912d-8576444ff759\",\"type\":\"Circle\"},{\"attributes\":{\"source\":{\"id\":\"9d797ec0-1b28-4f08-bef0-ebddbf9903db\",\"type\":\"ColumnDataSource\"}},\"id\":\"cbe72c28-b898-47f8-919d-02d7cbe89745\",\"type\":\"CDSView\"},{\"attributes\":{},\"id\":\"9c5a3b3b-605d-4e0b-8f83-6f164a632108\",\"type\":\"Selection\"},{\"attributes\":{\"fill_alpha\":{\"value\":0.1},\"fill_color\":{\"value\":\"#1f77b4\"},\"line_alpha\":{\"value\":0.1},\"line_color\":{\"value\":\"#1f77b4\"},\"size\":{\"units\":\"screen\",\"value\":5},\"x\":{\"field\":\"x\"},\"y\":{\"field\":\"y\"}},\"id\":\"9db1709c-e2f6-4e97-b231-d6d3f0adeacd\",\"type\":\"Circle\"},{\"attributes\":{\"source\":{\"id\":\"eaaf6a79-dd0e-4d35-9c9f-5ff4b65cafdc\",\"type\":\"ColumnDataSource\"}},\"id\":\"97d4206e-27d1-452c-af2b-8365e6dd4889\",\"type\":\"CDSView\"},{\"attributes\":{\"label\":{\"value\":\"Bombadil\"},\"renderers\":[{\"id\":\"4bdc3c72-0ee9-46eb-aca7-bbeaf305e05f\",\"type\":\"GlyphRenderer\"}]},\"id\":\"0bb2661a-dfdd-482e-b13c-baf5970a5ba5\",\"type\":\"LegendItem\"},{\"attributes\":{\"fill_alpha\":{\"value\":0.1},\"fill_color\":{\"value\":\"#1f77b4\"},\"line_alpha\":{\"value\":0.1},\"line_color\":{\"value\":\"#1f77b4\"},\"size\":{\"units\":\"screen\",\"value\":5},\"x\":{\"field\":\"x\"},\"y\":{\"field\":\"y\"}},\"id\":\"b3481c7b-df7b-46d0-9258-921301d4630c\",\"type\":\"Circle\"},{\"attributes\":{\"fill_alpha\":{\"value\":0.1},\"fill_color\":{\"value\":\"#1f77b4\"},\"line_alpha\":{\"value\":0.1},\"line_color\":{\"value\":\"#1f77b4\"},\"size\":{\"units\":\"screen\",\"value\":5},\"x\":{\"field\":\"x\"},\"y\":{\"field\":\"y\"}},\"id\":\"75e61b9c-f9dc-4fd4-acf3-4e7734cda8bc\",\"type\":\"Circle\"},{\"attributes\":{},\"id\":\"5bc435c8-7c14-48c2-9efd-d21b56d29954\",\"type\":\"Selection\"},{\"attributes\":{\"fill_alpha\":{\"value\":0.1},\"fill_color\":{\"field\":\"specie\",\"transform\":{\"id\":\"5ba08051-a679-4f79-a961-70c2e65836be\",\"type\":\"CategoricalColorMapper\"}},\"line_alpha\":{\"value\":0.1},\"line_color\":{\"field\":\"specie\",\"transform\":{\"id\":\"5ba08051-a679-4f79-a961-70c2e65836be\",\"type\":\"CategoricalColorMapper\"}},\"size\":{\"units\":\"screen\",\"value\":5},\"x\":{\"field\":\"x\"},\"y\":{\"field\":\"y\"}},\"id\":\"3439decc-f5a6-4a48-9add-a88c6025f303\",\"type\":\"Circle\"},{\"attributes\":{\"callback\":null,\"data\":{\"index\":[1080,1081,1082,1083,1084,1085,1086,1087,1088,1089,1090,1091,1092,1093,1094,1095,1096,1097,1098,1099,1100,1101,1102,1103,1104,1105,1106,1107,1108,1109,1110,1111,1112,1113,1114,1115,1116,1117,1118,1119,1120,1121,1122,1123,1124,1125,1126,1127,1128,1129,1130,1131,1132,1133,1134,1135,1136,1137,1138,1139,1140,1141,1142,1143,1144,1145,1146,1147,1148,1149,1150,1151,1152,1153,1154,1155,1156,1157,1158,1159,1160,1161,1162,1163,1164,1165,1166,1167,1168,1169,1170,1171,1172,1173,1174,1175,1176,1177,1178,1179,1180,1181,1182,1183,1184,1185,1186,1187,1188,1189,1190,1191,1192,1193,1194,1195,1196,1197,1198,1199,1200,1201,1202,1203,1204,1205,1206,1207,1208,1209,1210,1211,1212,1213,1214,1215,1216,1217,1218,1219,1220,1221,1222,1223,1224,1225,1226,1227,1228,1229,1230,1231,1232,1233,1234,1235,1236,1237,1238,1239,1240,1241,1242,1243,1244,1245,1246,1247,1248,1249,1250,1251,1252,1253,1254,1255,1256,1257,1258,1259,1260,1261,1262,1263,1264,1265,1266,1267,1268,1269,1270,1271,1272,1273,1274,1275,1276,1277,1278,1279,1280,1281,1282,1283,1284,1285,1286,1287,1288,1289,1290,1291,1292,1293,1294],\"kasios_index\":{\"__ndarray__\":\"AAAAAAAA+H8AAAAAAAD4fwAAAAAAAPh/AAAAAAAA+H8AAAAAAAD4fwAAAAAAAPh/AAAAAAAA+H8AAAAAAAD4fwAAAAAAAPh/AAAAAAAA+H8AAAAAAAD4fwAAAAAAAPh/AAAAAAAA+H8AAAAAAAD4fwAAAAAAAPh/AAAAAAAA+H8AAAAAAAD4fwAAAAAAAPh/AAAAAAAA+H8AAAAAAAD4fwAAAAAAAPh/AAAAAAAA+H8AAAAAAAD4fwAAAAAAAPh/AAAAAAAA+H8AAAAAAAD4fwAAAAAAAPh/AAAAAAAA+H8AAAAAAAD4fwAAAAAAAPh/AAAAAAAA+H8AAAAAAAD4fwAAAAAAAPh/AAAAAAAA+H8AAAAAAAD4fwAAAAAAAPh/AAAAAAAA+H8AAAAAAAD4fwAAAAAAAPh/AAAAAAAA+H8AAAAAAAD4fwAAAAAAAPh/AAAAAAAA+H8AAAAAAAD4fwAAAAAAAPh/AAAAAAAA+H8AAAAAAAD4fwAAAAAAAPh/AAAAAAAA+H8AAAAAAAD4fwAAAAAAAPh/AAAAAAAA+H8AAAAAAAD4fwAAAAAAAPh/AAAAAAAA+H8AAAAAAAD4fwAAAAAAAPh/AAAAAAAA+H8AAAAAAAD4fwAAAAAAAPh/AAAAAAAA+H8AAAAAAAD4fwAAAAAAAPh/AAAAAAAA+H8AAAAAAAD4fwAAAAAAAPh/AAAAAAAA+H8AAAAAAAD4fwAAAAAAAPh/AAAAAAAA+H8AAAAAAAD4fwAAAAAAAPh/AAAAAAAA+H8AAAAAAAD4fwAAAAAAAPh/AAAAAAAA+H8AAAAAAAD4fwAAAAAAAPh/AAAAAAAA+H8AAAAAAAD4fwAAAAAAAPh/AAAAAAAA+H8AAAAAAAD4fwAAAAAAAPh/AAAAAAAA+H8AAAAAAAD4fwAAAAAAAPh/AAAAAAAA+H8AAAAAAAD4fwAAAAAAAPh/AAAAAAAA+H8AAAAAAAD4fwAAAAAAAPh/AAAAAAAA+H8AAAAAAAD4fwAAAAAAAPh/AAAAAAAA+H8AAAAAAAD4fwAAAAAAAPh/AAAAAAAA+H8AAAAAAAD4fwAAAAAAAPh/AAAAAAAA+H8AAAAAAAD4fwAAAAAAAPh/AAAAAAAA+H8AAAAAAAD4fwAAAAAAAPh/AAAAAAAA+H8AAAAAAAD4fwAAAAAAAPh/AAAAAAAA+H8AAAAAAAD4fwAAAAAAAPh/AAAAAAAA+H8AAAAAAAD4fwAAAAAAAPh/AAAAAAAA+H8AAAAAAAD4fwAAAAAAAPh/AAAAAAAA+H8AAAAAAAD4fwAAAAAAAPh/AAAAAAAA+H8AAAAAAAD4fwAAAAAAAPh/AAAAAAAA+H8AAAAAAAD4fwAAAAAAAPh/AAAAAAAA+H8AAAAAAAD4fwAAAAAAAPh/AAAAAAAA+H8AAAAAAAD4fwAAAAAAAPh/AAAAAAAA+H8AAAAAAAD4fwAAAAAAAPh/AAAAAAAA+H8AAAAAAAD4fwAAAAAAAPh/AAAAAAAA+H8AAAAAAAD4fwAAAAAAAPh/AAAAAAAA+H8AAAAAAAD4fwAAAAAAAPh/AAAAAAAA+H8AAAAAAAD4fwAAAAAAAPh/AAAAAAAA+H8AAAAAAAD4fwAAAAAAAPh/AAAAAAAA+H8AAAAAAAD4fwAAAAAAAPh/AAAAAAAA+H8AAAAAAAD4fwAAAAAAAPh/AAAAAAAA+H8AAAAAAAD4fwAAAAAAAPh/AAAAAAAA+H8AAAAAAAD4fwAAAAAAAPh/AAAAAAAA+H8AAAAAAAD4fwAAAAAAAPh/AAAAAAAA+H8AAAAAAAD4fwAAAAAAAPh/AAAAAAAA+H8AAAAAAAD4fwAAAAAAAPh/AAAAAAAA+H8AAAAAAAD4fwAAAAAAAPh/AAAAAAAA+H8AAAAAAAD4fwAAAAAAAPh/AAAAAAAA+H8AAAAAAAD4fwAAAAAAAPh/AAAAAAAA+H8AAAAAAAD4fwAAAAAAAPh/AAAAAAAA+H8AAAAAAAD4fwAAAAAAAPh/AAAAAAAA+H8AAAAAAAD4fwAAAAAAAPh/AAAAAAAA+H8AAAAAAAD4fwAAAAAAAPh/AAAAAAAA+H8AAAAAAAD4fwAAAAAAAPh/AAAAAAAA+H8AAAAAAAD4fwAAAAAAAPh/AAAAAAAA+H8AAAAAAAD4fwAAAAAAAPh/AAAAAAAA+H8AAAAAAAD4fwAAAAAAAPh/AAAAAAAA+H8AAAAAAAD4fwAAAAAAAPh/AAAAAAAA+H8AAAAAAAD4fwAAAAAAAPh/AAAAAAAA+H8AAAAAAAD4fw==\",\"dtype\":\"float64\",\"shape\":[215]},\"specie\":[\"Orange Pine Plover\",\"Orange Pine Plover\",\"Orange Pine Plover\",\"Orange Pine Plover\",\"Orange Pine Plover\",\"Orange Pine Plover\",\"Orange Pine Plover\",\"Orange Pine Plover\",\"Orange Pine Plover\",\"Orange Pine Plover\",\"Orange Pine Plover\",\"Orange Pine Plover\",\"Orange Pine Plover\",\"Orange Pine Plover\",\"Orange Pine Plover\",\"Orange Pine Plover\",\"Orange Pine Plover\",\"Orange Pine Plover\",\"Orange Pine Plover\",\"Orange Pine Plover\",\"Orange Pine Plover\",\"Orange Pine Plover\",\"Orange Pine Plover\",\"Orange Pine Plover\",\"Orange Pine Plover\",\"Orange Pine Plover\",\"Orange Pine Plover\",\"Orange Pine Plover\",\"Orange Pine Plover\",\"Orange Pine Plover\",\"Orange Pine Plover\",\"Orange Pine Plover\",\"Orange Pine Plover\",\"Orange Pine Plover\",\"Orange Pine Plover\",\"Orange Pine Plover\",\"Orange Pine Plover\",\"Orange Pine Plover\",\"Orange Pine Plover\",\"Orange Pine Plover\",\"Orange Pine Plover\",\"Orange Pine Plover\",\"Orange Pine Plover\",\"Orange Pine Plover\",\"Orange Pine Plover\",\"Orange Pine Plover\",\"Orange Pine Plover\",\"Orange Pine Plover\",\"Orange Pine Plover\",\"Orange Pine Plover\",\"Orange Pine Plover\",\"Orange Pine Plover\",\"Orange Pine Plover\",\"Orange Pine Plover\",\"Orange Pine Plover\",\"Orange Pine Plover\",\"Orange Pine Plover\",\"Orange Pine Plover\",\"Orange Pine Plover\",\"Orange Pine Plover\",\"Orange Pine Plover\",\"Orange Pine Plover\",\"Orange Pine Plover\",\"Orange Pine Plover\",\"Orange Pine Plover\",\"Orange Pine Plover\",\"Orange Pine Plover\",\"Orange Pine Plover\",\"Orange Pine Plover\",\"Orange Pine Plover\",\"Orange Pine Plover\",\"Orange Pine Plover\",\"Orange Pine Plover\",\"Orange Pine Plover\",\"Orange Pine Plover\",\"Orange Pine Plover\",\"Orange Pine Plover\",\"Orange Pine Plover\",\"Orange Pine Plover\",\"Orange Pine Plover\",\"Orange Pine Plover\",\"Orange Pine Plover\",\"Orange Pine Plover\",\"Orange Pine Plover\",\"Orange Pine Plover\",\"Orange Pine Plover\",\"Orange Pine Plover\",\"Orange Pine Plover\",\"Orange Pine Plover\",\"Orange Pine Plover\",\"Orange Pine Plover\",\"Orange Pine Plover\",\"Orange Pine Plover\",\"Orange Pine Plover\",\"Orange Pine Plover\",\"Orange Pine Plover\",\"Orange Pine Plover\",\"Orange Pine Plover\",\"Orange Pine Plover\",\"Orange Pine Plover\",\"Orange Pine Plover\",\"Orange Pine Plover\",\"Orange Pine Plover\",\"Orange Pine Plover\",\"Orange Pine Plover\",\"Orange Pine Plover\",\"Orange Pine Plover\",\"Orange Pine Plover\",\"Orange Pine Plover\",\"Orange Pine Plover\",\"Orange Pine Plover\",\"Orange Pine Plover\",\"Orange Pine Plover\",\"Orange Pine Plover\",\"Orange Pine Plover\",\"Orange Pine Plover\",\"Orange Pine Plover\",\"Orange Pine Plover\",\"Orange Pine Plover\",\"Orange Pine Plover\",\"Orange Pine Plover\",\"Orange Pine Plover\",\"Orange Pine Plover\",\"Orange Pine Plover\",\"Orange Pine Plover\",\"Orange Pine Plover\",\"Orange Pine Plover\",\"Orange Pine Plover\",\"Orange Pine Plover\",\"Orange Pine Plover\",\"Orange Pine Plover\",\"Orange Pine Plover\",\"Orange Pine Plover\",\"Orange Pine Plover\",\"Orange Pine Plover\",\"Orange Pine Plover\",\"Orange Pine Plover\",\"Orange Pine Plover\",\"Orange Pine Plover\",\"Orange Pine Plover\",\"Orange Pine Plover\",\"Orange Pine Plover\",\"Orange Pine Plover\",\"Orange Pine Plover\",\"Orange Pine Plover\",\"Orange Pine Plover\",\"Orange Pine Plover\",\"Orange Pine Plover\",\"Orange Pine Plover\",\"Orange Pine Plover\",\"Orange Pine Plover\",\"Orange Pine Plover\",\"Orange Pine Plover\",\"Orange Pine Plover\",\"Orange Pine Plover\",\"Orange Pine Plover\",\"Orange Pine Plover\",\"Orange Pine Plover\",\"Orange Pine Plover\",\"Orange Pine Plover\",\"Orange Pine Plover\",\"Orange Pine Plover\",\"Orange Pine Plover\",\"Orange Pine Plover\",\"Orange Pine Plover\",\"Orange Pine Plover\",\"Orange Pine Plover\",\"Orange Pine Plover\",\"Orange Pine Plover\",\"Orange Pine Plover\",\"Orange Pine Plover\",\"Orange Pine Plover\",\"Orange Pine Plover\",\"Orange Pine Plover\",\"Orange Pine Plover\",\"Orange Pine Plover\",\"Orange Pine Plover\",\"Orange Pine Plover\",\"Orange Pine Plover\",\"Orange Pine Plover\",\"Orange Pine Plover\",\"Orange Pine Plover\",\"Orange Pine Plover\",\"Orange Pine Plover\",\"Orange Pine Plover\",\"Orange Pine Plover\",\"Orange Pine Plover\",\"Orange Pine Plover\",\"Orange Pine Plover\",\"Orange Pine Plover\",\"Orange Pine Plover\",\"Orange Pine Plover\",\"Orange Pine Plover\",\"Orange Pine Plover\",\"Orange Pine Plover\",\"Orange Pine Plover\",\"Orange Pine Plover\",\"Orange Pine Plover\",\"Orange Pine Plover\",\"Orange Pine Plover\",\"Orange Pine Plover\",\"Orange Pine Plover\",\"Orange Pine Plover\",\"Orange Pine Plover\",\"Orange Pine Plover\",\"Orange Pine Plover\",\"Orange Pine Plover\",\"Orange Pine Plover\",\"Orange Pine Plover\",\"Orange Pine Plover\",\"Orange Pine Plover\",\"Orange Pine Plover\",\"Orange Pine Plover\",\"Orange Pine Plover\",\"Orange Pine Plover\"],\"x\":{\"__ndarray__\":\"hyo5Qb6UKEFydCxBgG0yQe4aOUHCVVBBB1yWQT6+U0GkqD5BMTcvQeTPH0E+q0hB0OUlQTo3OEHJyVxBUFhGQYOBMEHFB5xB9h0qQQLyMUFwnU9B77NIQWYpLUHMKzxBqx80QQN4SkGMeTxBePo8QVI0MkGQri9Bd+w+QbwDmkG/vjFBvFRvQTMbLUEdWC1B1vEkQT88pkG61bFB0ns7QYdbh0FpSDxBSLwtQcKTMUE2VjhBogw2QUdwM0EJSydB3kUuQSU4REGqoTlBvf5+QVaDQEHgMyxBI8oyQV0dLEG3vkdBR+8nQZevRkEg1kxBM1NuQYaxNEGB1ztBoShbQZ8VOEF6OylBILc0QVGGLEFm+jlBPOQmQQxXQ0HSVS1Bqm4yQTDzMUEp/DRBJm47Qc+cNEHLJzBBmGxFQbYzNUGrckhBIzNIQUmWTEGgwUdBvj4/QUJIP0H89TZBoGlQQbDNR0EuE0ZBVZM1QSD1NkHNBC5B5+FjQQWvL0FSCUFBGxiWQUc3QUEIsUFB99xFQTbeQ0GNG2FBBbNhQZm1RkEVL5xBXEovQc7vMEGpPDFBGeWeQeq1TkHee1ZBrf07QZi4H0Ezah9BmpIsQRssK0FeJS5BrGpFQa5WrUErIJxBC78sQWOTMkEfnZpBs3cwQW9wn0F/FV5ByoNFQYYuR0GREU9BWqo+QUqjPEEHtjBBR5YwQYGWVEExy0hBrkyIQQ6rSEHV2K5BYlFWQXpXVkEgnEVBG6QzQcYLL0HKpiZBZO01QYWzLUEq40FBSD9OQXkJM0Hrv0pBRrsuQW2AMUFs5kpBY0wtQWETL0EToiRBpNZGQQgaQkF/NUtBH2kuQbtrKUG65VFB4mqEQdixXEEcxqdBWwAvQXeBQkHN20xBNcRBQZ6fOkGy2iRBqNM7QZzzMUG5ASVBo/wsQRr5JkGYVTZBj+BgQXzTMEF9wzNBqdE7QQcRLkG9h0FBmKgpQUW4mUG6VSpBcSwvQYdURUE2DR1BYlIyQe3aR0Gwf0RBeZFiQWeuoUFadTNBh/szQQZgI0H/iihB7sg8QSbSL0FiUR9BNxs/QdijpUGPXz9BDKxKQc7zXUGZkkNBcSdLQfsrREHdQ19BPy0jQfzlQkFOW6tBZn5TQZBLMUE=\",\"dtype\":\"float32\",\"shape\":[215]},\"y\":{\"__ndarray__\":\"Jq90QU47gkHrUYxBv62RQZP/gEFY8o5BQip0Qa7vi0GpY15B8rmJQYXxiEEyq5RB98qEQYZ2kkEGJodBkWqKQXj0ZUHBCIVB6HllQas9kkF22IxBw4SUQUayj0EhiolBZK6VQa/+WkHn6YFB/q5QQaKtjUFSM49BBjeBQX5eh0H6SHJBXvM6QUIpf0EI8XxBG1qFQSc9h0EtwIVBVfOJQYiGVUGAP4BBfiWSQZ3cYkEpZItBkYiNQS3tlkHz14NBDt+FQYlxkkFUXm1BpJczQfzyiEFt5XxBOO2WQa+XcEG0/YVBkY6FQYFLhkE0uF5BduVIQVxakkEFM4pBmkGQQXjDc0GiqmpB25OIQQEsYUE434JBfT6GQUEzj0GHf49BEuOVQZC8gUHtuIVBjxWJQfQ9lkFr0o5BdE+LQSu5lUGwG4RBqB+KQfGAgEEnUoFBvPF5QXt1ekGCW5BBvO1IQcvSiEHCTIxBg5NyQZIUhUGECY9Byu2PQT1eiUFmclJBhfJkQVuUjEGirYxBBYuPQeQkh0FwDY5BbReRQfw4f0F8K4ZBdpVxQXvQlEEw/JRBuNKKQQeJg0HFH4JBxuyBQStviEGg+4dBhy2PQZaiikGTdo9BA2OSQYSre0EaLoVBhmyPQY3SlkFwH4VB5EiRQYISiUEUqIVB/gCLQUD1g0F5iW1BzOV5QbVCiUEVFJRBJ/SJQXhPkUHaQ4VBVINIQQvwfUG8yYdBb1mSQZVwkkHCG5RBVuWWQSX3iUExs4hBEH+WQbycfkEbiYhBkyeTQYhQlkF0EZFBKTJjQfw3dEEvEpRB9rR9QXizjkF4XYVBLahcQXiDiUEQLoFBFy58QbBXb0HXvYtBGDlKQVIGTEHpbYZBoJOPQYdpWkHeWoxBA2WJQSTKiUEmJIZBvQZ5QTclhUFrGYVBg22GQXIHg0FMOYBBbvmMQfpOj0E8w5ZBnBZ8QZnpjUFX7npBJTKAQX08i0HHKoJBqUl4QdLChUGN0GdBkSuLQcBeVEHVjI9BhTCSQYrFiEFW5ZZB+kCWQSW0hEEmqYNBHLaBQWiRiUEeX21BT/hPQQuVi0FkeYNB8T2JQTB7i0HKK4xBHIyTQdh2j0G+R45BgMiGQSbrkUFSOnpBwGA5QbJdkkE=\",\"dtype\":\"float32\",\"shape\":[215]}},\"selected\":{\"id\":\"b6857f01-ed6d-447b-b01b-578678d3e983\",\"type\":\"Selection\"},\"selection_policy\":{\"id\":\"1ffbf502-f126-4148-9ef4-1389815d5c8f\",\"type\":\"UnionRenderers\"}},\"id\":\"eb4e3540-179e-4b6c-99f6-c157d2b86892\",\"type\":\"ColumnDataSource\"},{\"attributes\":{},\"id\":\"3f51dd61-8a70-4e26-b5b2-b1982c1625f2\",\"type\":\"UnionRenderers\"},{\"attributes\":{\"callback\":null,\"data\":{\"index\":[669,670,671,672,673,674,675,676,677,678,679,680,681,682,683,684,685,686,687,688,689,690,691,692,693,694,695,696,697,698,699,700,701,702,703,704,705,706,707,708,709,710,711,712,713,714,715,716,717,718,719,720,721,722,723,724,725,726,727,728,729,730,731,732,733,734,735,736,737,738,739,740,741,742,743,744,745,746,747,748,749,750,751,752,753,754],\"kasios_index\":{\"__ndarray__\":\"AAAAAAAA+H8AAAAAAAD4fwAAAAAAAPh/AAAAAAAA+H8AAAAAAAD4fwAAAAAAAPh/AAAAAAAA+H8AAAAAAAD4fwAAAAAAAPh/AAAAAAAA+H8AAAAAAAD4fwAAAAAAAPh/AAAAAAAA+H8AAAAAAAD4fwAAAAAAAPh/AAAAAAAA+H8AAAAAAAD4fwAAAAAAAPh/AAAAAAAA+H8AAAAAAAD4fwAAAAAAAPh/AAAAAAAA+H8AAAAAAAD4fwAAAAAAAPh/AAAAAAAA+H8AAAAAAAD4fwAAAAAAAPh/AAAAAAAA+H8AAAAAAAD4fwAAAAAAAPh/AAAAAAAA+H8AAAAAAAD4fwAAAAAAAPh/AAAAAAAA+H8AAAAAAAD4fwAAAAAAAPh/AAAAAAAA+H8AAAAAAAD4fwAAAAAAAPh/AAAAAAAA+H8AAAAAAAD4fwAAAAAAAPh/AAAAAAAA+H8AAAAAAAD4fwAAAAAAAPh/AAAAAAAA+H8AAAAAAAD4fwAAAAAAAPh/AAAAAAAA+H8AAAAAAAD4fwAAAAAAAPh/AAAAAAAA+H8AAAAAAAD4fwAAAAAAAPh/AAAAAAAA+H8AAAAAAAD4fwAAAAAAAPh/AAAAAAAA+H8AAAAAAAD4fwAAAAAAAPh/AAAAAAAA+H8AAAAAAAD4fwAAAAAAAPh/AAAAAAAA+H8AAAAAAAD4fwAAAAAAAPh/AAAAAAAA+H8AAAAAAAD4fwAAAAAAAPh/AAAAAAAA+H8AAAAAAAD4fwAAAAAAAPh/AAAAAAAA+H8AAAAAAAD4fwAAAAAAAPh/AAAAAAAA+H8AAAAAAAD4fwAAAAAAAPh/AAAAAAAA+H8AAAAAAAD4fwAAAAAAAPh/AAAAAAAA+H8AAAAAAAD4fwAAAAAAAPh/AAAAAAAA+H8AAAAAAAD4fw==\",\"dtype\":\"float64\",\"shape\":[86]},\"specie\":[\"Darkwing Sparrow\",\"Darkwing Sparrow\",\"Darkwing Sparrow\",\"Darkwing Sparrow\",\"Darkwing Sparrow\",\"Darkwing Sparrow\",\"Darkwing Sparrow\",\"Darkwing Sparrow\",\"Darkwing Sparrow\",\"Darkwing Sparrow\",\"Darkwing Sparrow\",\"Darkwing Sparrow\",\"Darkwing Sparrow\",\"Darkwing Sparrow\",\"Darkwing Sparrow\",\"Darkwing Sparrow\",\"Darkwing Sparrow\",\"Darkwing Sparrow\",\"Darkwing Sparrow\",\"Darkwing Sparrow\",\"Darkwing Sparrow\",\"Darkwing Sparrow\",\"Darkwing Sparrow\",\"Darkwing Sparrow\",\"Darkwing Sparrow\",\"Darkwing Sparrow\",\"Darkwing Sparrow\",\"Darkwing Sparrow\",\"Darkwing Sparrow\",\"Darkwing Sparrow\",\"Darkwing Sparrow\",\"Darkwing Sparrow\",\"Darkwing Sparrow\",\"Darkwing Sparrow\",\"Darkwing Sparrow\",\"Darkwing Sparrow\",\"Darkwing Sparrow\",\"Darkwing Sparrow\",\"Darkwing Sparrow\",\"Darkwing Sparrow\",\"Darkwing Sparrow\",\"Darkwing Sparrow\",\"Darkwing Sparrow\",\"Darkwing Sparrow\",\"Darkwing Sparrow\",\"Darkwing Sparrow\",\"Darkwing Sparrow\",\"Darkwing Sparrow\",\"Darkwing Sparrow\",\"Darkwing Sparrow\",\"Darkwing Sparrow\",\"Darkwing Sparrow\",\"Darkwing Sparrow\",\"Darkwing Sparrow\",\"Darkwing Sparrow\",\"Darkwing Sparrow\",\"Darkwing Sparrow\",\"Darkwing Sparrow\",\"Darkwing Sparrow\",\"Darkwing Sparrow\",\"Darkwing Sparrow\",\"Darkwing Sparrow\",\"Darkwing Sparrow\",\"Darkwing Sparrow\",\"Darkwing Sparrow\",\"Darkwing Sparrow\",\"Darkwing Sparrow\",\"Darkwing Sparrow\",\"Darkwing Sparrow\",\"Darkwing Sparrow\",\"Darkwing Sparrow\",\"Darkwing Sparrow\",\"Darkwing Sparrow\",\"Darkwing Sparrow\",\"Darkwing Sparrow\",\"Darkwing Sparrow\",\"Darkwing Sparrow\",\"Darkwing Sparrow\",\"Darkwing Sparrow\",\"Darkwing Sparrow\",\"Darkwing Sparrow\",\"Darkwing Sparrow\",\"Darkwing Sparrow\",\"Darkwing Sparrow\",\"Darkwing Sparrow\",\"Darkwing Sparrow\"],\"x\":{\"__ndarray__\":\"xUWFQWevmEExIFpBGd+nQRllYEFPCppBZcAoQabAXEERzlpBSzhaQfo2T0HA91hBiVRDQbWWSkE73lFBMG9vQQD+oEFSnn9BrH9MQVpidkH3DCZBgCJQQU4SWEFxmIBBK9k1QUJ2iUH01GBBdEhGQWjGUkEZxIVBxEBpQdpjgEHgN0xBIk1nQd3IjUFpPU9B+wNdQWy9lkEqTWxBtxdtQf48pEEZm2ZBbshKQQYBjkEAtVpBahlJQcGCXEHihTdB9JtIQT/RUkFNjk1BQAVXQeOWWkEcp09BFRpaQQZYRkFB8mRB5MF3Qb8ELEHOaopBMoaGQU9+SkFKsHFBkdZvQT6hXUGYwFZBpz9bQZ82hUGupoBBX/CFQQ/qX0G5/FZBnIZOQQQVTEFevF5BZE0kQYlGT0GmQCZBj7BaQWccY0H3d5JBRZuPQfEKbUFBX2NBRPlsQVCrXUE=\",\"dtype\":\"float32\",\"shape\":[86]},\"y\":{\"__ndarray__\":\"8kwzQdNhW0FhkDJByXlsQZr+N0FCiWZBoR5nQYI9NUHQujJBP1IyQcyDSkHhijRBSxlOQeeiW0GHDUpBFtIyQasbc0FuA0tBttleQSv8NUESUGRB/RZKQUkRNEHwU0ZBuDhOQaMQP0E9iTFBNcVpQfSVUUHt60VBQb44Qet3WEH4kU9ByFI1QYKYQEFrYUtBuMc4QVI7cEGTsTJBvEw3QeCFbEEsp1RBQP+NQf9ZVkFyQTZBBg9TQd6tVUEAGVlBfb1QQWtOSUGXmkpB2sg0QcM1MkGTAUdBNOIyQYN9XkGqbDFBaXI1QbePW0Gz/SZBsp9CQb6HX0GeODdBdZwzQbj6iEFLdj1B3ngzQY7cMkENtTtB4IM0QWATNkEvkjRB5PBKQVaZUEFG+zRBtudlQT7aRkGmsINBWmQxQYaJMUHHV1RBlpdJQTvMNkEx7DFBqtszQTztNUE=\",\"dtype\":\"float32\",\"shape\":[86]}},\"selected\":{\"id\":\"94f17ad4-939e-46cb-a7d6-9c94644bad07\",\"type\":\"Selection\"},\"selection_policy\":{\"id\":\"3f51dd61-8a70-4e26-b5b2-b1982c1625f2\",\"type\":\"UnionRenderers\"}},\"id\":\"c50a8558-4e47-4f8b-a50c-be0d0e9066cc\",\"type\":\"ColumnDataSource\"},{\"attributes\":{\"callback\":null,\"data\":{\"index\":[1295,1296,1297,1298,1299,1300,1301,1302,1303,1304,1305,1306,1307,1308,1309,1310,1311,1312,1313,1314,1315,1316,1317,1318,1319,1320,1321,1322,1323,1324,1325,1326,1327,1328,1329,1330,1331,1332,1333,1334,1335,1336,1337,1338,1339,1340,1341,1342,1343,1344,1345,1346,1347,1348,1349,1350,1351,1352,1353,1354,1355,1356,1357,1358,1359,1360,1361,1362,1363,1364,1365,1366,1367,1368,1369,1370,1371,1372,1373,1374,1375,1376,1377,1378,1379,1380,1381,1382,1383,1384,1385,1386,1387,1388],\"kasios_index\":{\"__ndarray__\":\"AAAAAAAA+H8AAAAAAAD4fwAAAAAAAPh/AAAAAAAA+H8AAAAAAAD4fwAAAAAAAPh/AAAAAAAA+H8AAAAAAAD4fwAAAAAAAPh/AAAAAAAA+H8AAAAAAAD4fwAAAAAAAPh/AAAAAAAA+H8AAAAAAAD4fwAAAAAAAPh/AAAAAAAA+H8AAAAAAAD4fwAAAAAAAPh/AAAAAAAA+H8AAAAAAAD4fwAAAAAAAPh/AAAAAAAA+H8AAAAAAAD4fwAAAAAAAPh/AAAAAAAA+H8AAAAAAAD4fwAAAAAAAPh/AAAAAAAA+H8AAAAAAAD4fwAAAAAAAPh/AAAAAAAA+H8AAAAAAAD4fwAAAAAAAPh/AAAAAAAA+H8AAAAAAAD4fwAAAAAAAPh/AAAAAAAA+H8AAAAAAAD4fwAAAAAAAPh/AAAAAAAA+H8AAAAAAAD4fwAAAAAAAPh/AAAAAAAA+H8AAAAAAAD4fwAAAAAAAPh/AAAAAAAA+H8AAAAAAAD4fwAAAAAAAPh/AAAAAAAA+H8AAAAAAAD4fwAAAAAAAPh/AAAAAAAA+H8AAAAAAAD4fwAAAAAAAPh/AAAAAAAA+H8AAAAAAAD4fwAAAAAAAPh/AAAAAAAA+H8AAAAAAAD4fwAAAAAAAPh/AAAAAAAA+H8AAAAAAAD4fwAAAAAAAPh/AAAAAAAA+H8AAAAAAAD4fwAAAAAAAPh/AAAAAAAA+H8AAAAAAAD4fwAAAAAAAPh/AAAAAAAA+H8AAAAAAAD4fwAAAAAAAPh/AAAAAAAA+H8AAAAAAAD4fwAAAAAAAPh/AAAAAAAA+H8AAAAAAAD4fwAAAAAAAPh/AAAAAAAA+H8AAAAAAAD4fwAAAAAAAPh/AAAAAAAA+H8AAAAAAAD4fwAAAAAAAPh/AAAAAAAA+H8AAAAAAAD4fwAAAAAAAPh/AAAAAAAA+H8AAAAAAAD4fwAAAAAAAPh/AAAAAAAA+H8AAAAAAAD4fwAAAAAAAPh/AAAAAAAA+H8=\",\"dtype\":\"float64\",\"shape\":[94]},\"specie\":[\"Ordinary Snape\",\"Ordinary Snape\",\"Ordinary Snape\",\"Ordinary Snape\",\"Ordinary Snape\",\"Ordinary Snape\",\"Ordinary Snape\",\"Ordinary Snape\",\"Ordinary Snape\",\"Ordinary Snape\",\"Ordinary Snape\",\"Ordinary Snape\",\"Ordinary Snape\",\"Ordinary Snape\",\"Ordinary Snape\",\"Ordinary Snape\",\"Ordinary Snape\",\"Ordinary Snape\",\"Ordinary Snape\",\"Ordinary Snape\",\"Ordinary Snape\",\"Ordinary Snape\",\"Ordinary Snape\",\"Ordinary Snape\",\"Ordinary Snape\",\"Ordinary Snape\",\"Ordinary Snape\",\"Ordinary Snape\",\"Ordinary Snape\",\"Ordinary Snape\",\"Ordinary Snape\",\"Ordinary Snape\",\"Ordinary Snape\",\"Ordinary Snape\",\"Ordinary Snape\",\"Ordinary Snape\",\"Ordinary Snape\",\"Ordinary Snape\",\"Ordinary Snape\",\"Ordinary Snape\",\"Ordinary Snape\",\"Ordinary Snape\",\"Ordinary Snape\",\"Ordinary Snape\",\"Ordinary Snape\",\"Ordinary Snape\",\"Ordinary Snape\",\"Ordinary Snape\",\"Ordinary Snape\",\"Ordinary Snape\",\"Ordinary Snape\",\"Ordinary Snape\",\"Ordinary Snape\",\"Ordinary Snape\",\"Ordinary Snape\",\"Ordinary Snape\",\"Ordinary Snape\",\"Ordinary Snape\",\"Ordinary Snape\",\"Ordinary Snape\",\"Ordinary Snape\",\"Ordinary Snape\",\"Ordinary Snape\",\"Ordinary Snape\",\"Ordinary Snape\",\"Ordinary Snape\",\"Ordinary Snape\",\"Ordinary Snape\",\"Ordinary Snape\",\"Ordinary Snape\",\"Ordinary Snape\",\"Ordinary Snape\",\"Ordinary Snape\",\"Ordinary Snape\",\"Ordinary Snape\",\"Ordinary Snape\",\"Ordinary Snape\",\"Ordinary Snape\",\"Ordinary Snape\",\"Ordinary Snape\",\"Ordinary Snape\",\"Ordinary Snape\",\"Ordinary Snape\",\"Ordinary Snape\",\"Ordinary Snape\",\"Ordinary Snape\",\"Ordinary Snape\",\"Ordinary Snape\",\"Ordinary Snape\",\"Ordinary Snape\",\"Ordinary Snape\",\"Ordinary Snape\",\"Ordinary Snape\",\"Ordinary Snape\"],\"x\":{\"__ndarray__\":\"p7aDQVDNPEFpQoNBOKeFQTUzgkH4xqpB/o2LQc9qhEEO86FB4OyHQVgzV0FILpBB3I2FQRf4pUG1Gk9BsY1jQbUqdkFGzoNBCyOFQT3dg0H3uktBh4F2Qde4pEG2eG9BjCiHQQJggEEP6GFBUUaPQXeVhUHAN25B+qGBQZiHi0HMe4NBy/qlQZTjrEHWR6VB5PeJQQ/zOkHvLoRBNNGIQdEYhUH4VlZByiN2QfuAiEGVnExB7C+CQXvmlEFf92tBeCBYQYJNfkEOgnZBPVWJQTNxqkH0LIBBRP2jQRP0V0Gmc5lBdp6cQbJKd0FTqUVBhI5UQUGTg0Hmd6RBgcaPQbwug0Hz2IpBzHheQaiGXkEkUJtBJix2QdkmdUHsO2dBV7uQQUoblUFM7kdBQcdUQWdFqkFRtYVBV0BZQZGtj0E3LVhBRz2FQTQkpEHWA2pBnNeCQSsFhkHq/YtBtG0sQXd5j0F0CYBBGVuWQTsbdEGrDlxB5mw2QQ==\",\"dtype\":\"float32\",\"shape\":[94]},\"y\":{\"__ndarray__\":\"RaY8QRxmckGyZyxBMQhDQVwsO0GGSG1BbVNGQco2M0HSOm9B+8E9QYmBNEHX+TdBcx5JQYxeXkEYQUtBeP1RQW5oNUH2lz9BCVkzQSd2OkFmRlJBsb43QXZFh0FLsjNBAnE/QaQ5OkGIEjJBvBQ2QRT7M0HVFzRBZhYwQRc5SEE8ajxB64hrQZ7de0GMhmxB+LtgQcx4gEHTxElB+rZVQXGVSkHa51ZBaa8zQVeiSEFJTFpBUAhAQS1bWUEPK1ZBoiQ4QXZ9OEEYGzdB+IhlQVVUYkGfwjtBjEFjQWo/YEGiIW9B7hpkQYFTNkFZrFdB3X2MQYfCRkH2iGNB09c6QQGCNUHcOWNBVSBQQY0ROEENVWxBEr5LQSojNkG0VlVBmDpVQbtIWkGK8lVBLfBmQWRPeUELm0pBYKBSQd4KOUEuFXpBf3ZWQVmjbUFnzjNBzohLQaj6Y0HjDTdBMuZ/QdfeS0GFsjtB9Sd5QZffT0HfJ4hBMxZ1QQ==\",\"dtype\":\"float32\",\"shape\":[94]}},\"selected\":{\"id\":\"b4e621d6-3def-4815-91b1-e8f344418a9c\",\"type\":\"Selection\"},\"selection_policy\":{\"id\":\"319feebd-c5bf-4176-8083-caaee67bacb8\",\"type\":\"UnionRenderers\"}},\"id\":\"19dc4f90-93d2-4fe7-9674-f72004e6ea74\",\"type\":\"ColumnDataSource\"},{\"attributes\":{},\"id\":\"fd0a1653-44c5-430f-bb1e-19859dbca7f7\",\"type\":\"UnionRenderers\"},{\"attributes\":{\"label\":{\"value\":\"Darkwing Sparrow\"},\"renderers\":[{\"id\":\"bd1fea84-55fe-4762-90ec-f799b5d5c50d\",\"type\":\"GlyphRenderer\"}]},\"id\":\"b1ffe0fb-d262-4964-9468-8ead1caaf74f\",\"type\":\"LegendItem\"},{\"attributes\":{\"source\":{\"id\":\"a0b2e492-f5a7-4dfd-920d-f32a10ee60fb\",\"type\":\"ColumnDataSource\"}},\"id\":\"acd8027d-dce2-4989-b53a-d8b055f54867\",\"type\":\"CDSView\"},{\"attributes\":{\"fill_alpha\":{\"value\":0.6},\"fill_color\":{\"field\":\"specie\",\"transform\":{\"id\":\"5ba08051-a679-4f79-a961-70c2e65836be\",\"type\":\"CategoricalColorMapper\"}},\"line_alpha\":{\"value\":0.6},\"line_color\":{\"field\":\"specie\",\"transform\":{\"id\":\"5ba08051-a679-4f79-a961-70c2e65836be\",\"type\":\"CategoricalColorMapper\"}},\"size\":{\"units\":\"screen\",\"value\":5},\"x\":{\"field\":\"x\"},\"y\":{\"field\":\"y\"}},\"id\":\"5005d839-ef3e-4ace-913e-3a90787f122e\",\"type\":\"Circle\"},{\"attributes\":{\"label\":{\"value\":\"Pinkfinch\"},\"renderers\":[{\"id\":\"c43bdf86-0920-4b58-b72e-fb02d3212102\",\"type\":\"GlyphRenderer\"}]},\"id\":\"23b7d948-2325-4797-bcd0-d7dc5b116a1b\",\"type\":\"LegendItem\"},{\"attributes\":{\"fill_alpha\":{\"value\":0.1},\"fill_color\":{\"value\":\"#1f77b4\"},\"line_alpha\":{\"value\":0.1},\"line_color\":{\"value\":\"#1f77b4\"},\"size\":{\"units\":\"screen\",\"value\":5},\"x\":{\"field\":\"x\"},\"y\":{\"field\":\"y\"}},\"id\":\"3493015e-b3a4-45cf-8d18-7ae9584b910f\",\"type\":\"Circle\"},{\"attributes\":{\"label\":{\"value\":\"Blue-collared Zipper\"},\"renderers\":[{\"id\":\"f754b5ef-7859-431b-98cb-a972c5f3d496\",\"type\":\"GlyphRenderer\"}]},\"id\":\"bbec5604-58ee-4fa2-ad52-fd0509d0d8b0\",\"type\":\"LegendItem\"},{\"attributes\":{\"fill_alpha\":{\"value\":0.1},\"fill_color\":{\"field\":\"specie\",\"transform\":{\"id\":\"5ba08051-a679-4f79-a961-70c2e65836be\",\"type\":\"CategoricalColorMapper\"}},\"line_alpha\":{\"value\":0.1},\"line_color\":{\"field\":\"specie\",\"transform\":{\"id\":\"5ba08051-a679-4f79-a961-70c2e65836be\",\"type\":\"CategoricalColorMapper\"}},\"size\":{\"units\":\"screen\",\"value\":5},\"x\":{\"field\":\"x\"},\"y\":{\"field\":\"y\"}},\"id\":\"75196d39-e5c8-4eff-ac3d-d841aedb43f8\",\"type\":\"Circle\"},{\"attributes\":{\"factors\":[\"Rose-crested Blue Pipit\",\"Blue-collared Zipper\",\"Bombadil\",\"Broad-winged Jojo\",\"Canadian Cootamum\",\"Carries Champagne Pipit\",\"Darkwing Sparrow\",\"Eastern Corn Skeet\",\"Green-tipped Scarlet Pipit\",\"Lesser Birchbeere\",\"Orange Pine Plover\",\"Ordinary Snape\",\"Pinkfinch\",\"Purple Tooting Tout\",\"Qax\",\"Queenscoat\",\"Bent-beak Riffraff\",\"Scrawny Jay\",\"Vermillion Trillian\",\"Kasios Test Bird\"],\"palette\":[\"#1f77b4\",\"#aec7e8\",\"#ff7f0e\",\"#ffbb78\",\"#2ca02c\",\"#98df8a\",\"#d62728\",\"#ff9896\",\"#9467bd\",\"#c5b0d5\",\"#8c564b\",\"#c49c94\",\"#e377c2\",\"#f7b6d2\",\"#7f7f7f\",\"#c7c7c7\",\"#bcbd22\",\"#dbdb8d\",\"#17becf\",\"#9edae5\"]},\"id\":\"5ba08051-a679-4f79-a961-70c2e65836be\",\"type\":\"CategoricalColorMapper\"}],\"root_ids\":[\"fa24c88a-85bb-4b4c-92f7-b8aec5a77e8f\"]},\"title\":\"Bokeh Application\",\"version\":\"0.13.0\"}};\n",
       "  var render_items = [{\"docid\":\"b8094a21-099e-4cb1-acc4-006a82c1c501\",\"roots\":{\"fa24c88a-85bb-4b4c-92f7-b8aec5a77e8f\":\"2e842862-a341-4800-831b-709afbd706d6\"}}];\n",
       "  root.Bokeh.embed.embed_items_notebook(docs_json, render_items);\n",
       "\n",
       "  }\n",
       "  if (root.Bokeh !== undefined) {\n",
       "    embed_document(root);\n",
       "  } else {\n",
       "    var attempts = 0;\n",
       "    var timer = setInterval(function(root) {\n",
       "      if (root.Bokeh !== undefined) {\n",
       "        embed_document(root);\n",
       "        clearInterval(timer);\n",
       "      }\n",
       "      attempts++;\n",
       "      if (attempts > 100) {\n",
       "        console.log(\"Bokeh: ERROR: Unable to run BokehJS code because BokehJS library is missing\")\n",
       "        clearInterval(timer);\n",
       "      }\n",
       "    }, 10, root)\n",
       "  }\n",
       "})(window);"
      ],
      "application/vnd.bokehjs_exec.v0+json": ""
     },
     "metadata": {
      "application/vnd.bokehjs_exec.v0+json": {
       "id": "fa24c88a-85bb-4b4c-92f7-b8aec5a77e8f"
      }
     },
     "output_type": "display_data"
    }
   ],
   "source": [
    "plot_figure = figure(\n",
    "    title='UMAP projection of the birds songs',\n",
    "    plot_width=800,\n",
    "    plot_height=600,\n",
    "    tools=('pan, wheel_zoom, reset'), \n",
    "    toolbar_location='above'\n",
    ")\n",
    "\n",
    "color_mapping = CategoricalColorMapper(factors=df_umap['specie'].unique(),\n",
    "                                       palette=Category20[20])\n",
    "\n",
    "plot_figure.add_tools(HoverTool(tooltips=\"\"\"\n",
    "<div>\n",
    "    <div>\n",
    "        <span style='font-size: 13px; color: #224499'>Specie:</span>\n",
    "        <span style='font-size: 13px'>@specie</span>\n",
    "    </div>\n",
    "</div>\n",
    "\"\"\"))\n",
    "\n",
    "legend_items = []\n",
    "\n",
    "for specie in df_umap['specie'].unique():\n",
    "\n",
    "    datasource = ColumnDataSource(df_umap.loc[df_umap['specie'] == specie])\n",
    "    if specie == 'Kasios Test Bird':\n",
    "        c = plot_figure.circle('x', 'y', source=datasource, color='black',\n",
    "                               line_alpha=0.7, fill_alpha=0.7, size=20)\n",
    "\n",
    "        plot_figure.text('x', 'y', text='kasios_index', x_offset=-5, y_offset=8,\n",
    "                         source=datasource, text_font_size='10pt', text_color='white')\n",
    "    else:\n",
    "        c = plot_figure.circle('x', 'y', source=datasource,\n",
    "                               color=dict(field='specie', transform=color_mapping),\n",
    "                               muted_color=dict(field='specie', transform=color_mapping),\n",
    "                               line_alpha=0.6, fill_alpha=0.6, size=5, muted_alpha=0.1)\n",
    "        \n",
    "    legend_items.append((specie, [c]))\n",
    "    if specie != 'Rose-crested Blue Pipit': \n",
    "        c.muted = True\n",
    "    \n",
    "legend = Legend(items=legend_items, location=(30, 50))\n",
    "legend.click_policy = 'hide'\n",
    "plot_figure.add_layout(legend, 'right')\n",
    "\n",
    "show(plot_figure)"
   ]
  }
 ],
 "metadata": {
  "kernelspec": {
   "display_name": "Python [default]",
   "language": "python",
   "name": "python3"
  },
  "language_info": {
   "codemirror_mode": {
    "name": "ipython",
    "version": 3
   },
   "file_extension": ".py",
   "mimetype": "text/x-python",
   "name": "python",
   "nbconvert_exporter": "python",
   "pygments_lexer": "ipython3",
   "version": "3.6.6"
  },
  "toc": {
   "base_numbering": 1,
   "nav_menu": {},
   "number_sections": true,
   "sideBar": true,
   "skip_h1_title": true,
   "title_cell": "Table of Contents",
   "title_sidebar": "Contents",
   "toc_cell": true,
   "toc_position": {},
   "toc_section_display": true,
   "toc_window_display": true
  },
  "varInspector": {
   "cols": {
    "lenName": 16,
    "lenType": 16,
    "lenVar": 40
   },
   "kernels_config": {
    "python": {
     "delete_cmd_postfix": "",
     "delete_cmd_prefix": "del ",
     "library": "var_list.py",
     "varRefreshCmd": "print(var_dic_list())"
    },
    "r": {
     "delete_cmd_postfix": ") ",
     "delete_cmd_prefix": "rm(",
     "library": "var_list.r",
     "varRefreshCmd": "cat(var_dic_list()) "
    }
   },
   "types_to_exclude": [
    "module",
    "function",
    "builtin_function_or_method",
    "instance",
    "_Feature"
   ],
   "window_display": false
  }
 },
 "nbformat": 4,
 "nbformat_minor": 2
}
