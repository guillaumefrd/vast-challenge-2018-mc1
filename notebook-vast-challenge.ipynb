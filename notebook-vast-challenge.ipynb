{
 "cells": [
  {
   "cell_type": "code",
   "execution_count": 1,
   "metadata": {
    "ExecuteTime": {
     "end_time": "2018-10-10T17:39:26.936707Z",
     "start_time": "2018-10-10T17:39:26.563087Z"
    }
   },
   "outputs": [],
   "source": [
    "%matplotlib inline\n",
    "\n",
    "import matplotlib.pyplot as plt\n",
    "import matplotlib.image as mpimg\n",
    "import mpld3\n",
    "import numpy as np\n",
    "import pandas as pd\n",
    "import csv\n",
    "from mpld3 import plugins\n",
    "\n",
    "mpld3.enable_notebook()"
   ]
  },
  {
   "cell_type": "code",
   "execution_count": 2,
   "metadata": {
    "ExecuteTime": {
     "end_time": "2018-10-10T17:39:26.941327Z",
     "start_time": "2018-10-10T17:39:26.938396Z"
    }
   },
   "outputs": [],
   "source": [
    "# Define CSS to control our custom labels# Define \n",
    "css = \"\"\"\n",
    "table\n",
    "{\n",
    "  border-collapse: collapse;\n",
    "}\n",
    "th\n",
    "{\n",
    "  color: #ffffff;\n",
    "  background-color: #000000;\n",
    "}\n",
    "td\n",
    "{\n",
    "  background-color: #cccccc;\n",
    "}\n",
    "th, td {\n",
    "  padding: 3px;\n",
    "}\n",
    "table, th, td\n",
    "{\n",
    "  font-family:Arial, Helvetica, sans-serif;\n",
    "  border: 1px solid black;\n",
    "  text-align: right;\n",
    "}\n",
    "\"\"\""
   ]
  },
  {
   "cell_type": "markdown",
   "metadata": {},
   "source": [
    "### Loading Data"
   ]
  },
  {
   "cell_type": "code",
   "execution_count": 6,
   "metadata": {
    "ExecuteTime": {
     "end_time": "2018-10-10T17:40:39.762797Z",
     "start_time": "2018-10-10T17:40:39.749446Z"
    },
    "scrolled": false
   },
   "outputs": [],
   "source": [
    "df = pd.read_csv(\"AllBirdsv4.csv\")\n",
    "df_test = pd.read_csv(\"Test Birds Location.csv\")"
   ]
  },
  {
   "cell_type": "markdown",
   "metadata": {},
   "source": [
    "### Pre-processing"
   ]
  },
  {
   "cell_type": "markdown",
   "metadata": {},
   "source": [
    "#### All Birds file"
   ]
  },
  {
   "cell_type": "code",
   "execution_count": 7,
   "metadata": {
    "ExecuteTime": {
     "end_time": "2018-10-10T17:40:40.860308Z",
     "start_time": "2018-10-10T17:40:40.838788Z"
    }
   },
   "outputs": [],
   "source": [
    "# replace \"?\" characters\n",
    "df = df.replace('?', None)\n",
    "df[\"Y\"] = df[\"Y\"].map(lambda y: y.replace(\"?\",\"\"))\n",
    "df[\"Y\"] = df[\"Y\"].astype('int64')\n",
    "\n",
    "# scale coordinates for our map (1000*1000)\n",
    "df[\"X\"] = df[\"X\"].map(lambda x: x * 5)\n",
    "df[\"Y\"] = df[\"Y\"].map(lambda y: y * 5)\n",
    "\n",
    "species_list = df[\"English_name\"].unique()\n",
    "species_index = []\n",
    "for element in df[\"English_name\"]:\n",
    "    species_index.append(species_list.tolist().index(element))\n",
    "df[\"Birds index\"] = species_index"
   ]
  },
  {
   "cell_type": "markdown",
   "metadata": {},
   "source": [
    "#### Test Birds file"
   ]
  },
  {
   "cell_type": "code",
   "execution_count": null,
   "metadata": {
    "ExecuteTime": {
     "end_time": "2018-10-10T17:39:27.071342Z",
     "start_time": "2018-10-10T17:39:26.555Z"
    }
   },
   "outputs": [],
   "source": [
    "# rename columns of X and Y\n",
    "df_test.columns = [\"ID\", \"X\", \"Y\"]\n",
    "\n",
    "# scale coordinates for our map (1000*1000)\n",
    "df_test[\"X\"] = df_test[\"X\"].map(lambda x: x * 5)\n",
    "df_test[\"Y\"] = df_test[\"Y\"].map(lambda y: y * 5)"
   ]
  },
  {
   "cell_type": "code",
   "execution_count": null,
   "metadata": {
    "ExecuteTime": {
     "end_time": "2018-10-10T17:39:27.072429Z",
     "start_time": "2018-10-10T17:39:26.559Z"
    },
    "scrolled": false
   },
   "outputs": [],
   "source": [
    "img = mpimg.imread('map.jpg')\n",
    "img = img[::-1] # reverse order for y-axis so that (0,0) is bottom-left\n",
    "\n",
    "fig = plt.figure(figsize=(10,10))\n",
    "\n",
    "map_plot = fig.add_subplot()\n",
    "plt.imshow(img, origin='lower')\n",
    "plt.title('Birds locations on Lekagul Roadways map', size=20)\n",
    "plt.xlabel('x')\n",
    "plt.ylabel('y')\n",
    "cmap = plt.get_cmap('tab20')\n",
    "\n",
    "# plot all birds\n",
    "scatter_all_birds = plt.scatter(list(df[\"X\"]), list(df[\"Y\"]), s=60, alpha=0.5, c=cmap(df[\"Birds index\"]))\n",
    "\n",
    "\n",
    "# plot the 15 \"test birds\"\n",
    "scatter_test_birds = plt.scatter(list(df_test[\"X\"]), list(df_test[\"Y\"]), s=300, c='red', marker='^')\n",
    "\n",
    "# create custom labels\n",
    "labels_test_birds = []\n",
    "for i in range(df_test.shape[0]):\n",
    "    label = '<table>' \n",
    "    label += '<tr><th></th><th>Test Bird {}</th></tr>'.format(df_test[\"ID\"][i])\n",
    "    label += '<tr><th>X</th><td>{}</td></tr>'.format(df_test[\"X\"][i])\n",
    "    label += '<tr><th>Y</th><td>{}</td></tr>'.format(df_test[\"Y\"][i])\n",
    "    label += '</table>'\n",
    "    labels_test_birds.append(label)\n",
    "    \n",
    "labels_all_birds = []\n",
    "for i in range(df.shape[0]):\n",
    "    label = '<table>'\n",
    "    label += '<tr><th></th><th>{}</th></tr>'.format(df[\"English_name\"][i])\n",
    "    label += '<tr><th>X</th><td>{}</td></tr>'.format(df[\"X\"][i])\n",
    "    label += '<tr><th>Y</th><td>{}</td></tr>'.format(df[\"Y\"][i])\n",
    "    label += '</table>'\n",
    "    labels_all_birds.append(label)\n",
    "\n",
    "# tooltip shown on mouse hover over data points\n",
    "tooltip_test_birds = plugins.PointHTMLTooltip(scatter_test_birds, labels=labels_test_birds, css=css)\n",
    "tooltip_all_birds = plugins.PointHTMLTooltip(scatter_all_birds, labels=labels_all_birds, css=css)\n",
    "plugins.connect(fig, tooltip_test_birds)\n",
    "plugins.connect(fig, tooltip_all_birds)\n",
    "\n",
    "mpld3.display(fig)"
   ]
  }
 ],
 "metadata": {
  "kernelspec": {
   "display_name": "Python 3",
   "language": "python",
   "name": "python3"
  },
  "language_info": {
   "codemirror_mode": {
    "name": "ipython",
    "version": 3
   },
   "file_extension": ".py",
   "mimetype": "text/x-python",
   "name": "python",
   "nbconvert_exporter": "python",
   "pygments_lexer": "ipython3",
   "version": "3.6.5"
  },
  "toc": {
   "base_numbering": 1,
   "nav_menu": {},
   "number_sections": true,
   "sideBar": true,
   "skip_h1_title": true,
   "title_cell": "Table of Contents",
   "title_sidebar": "Contents",
   "toc_cell": false,
   "toc_position": {},
   "toc_section_display": true,
   "toc_window_display": false
  },
  "varInspector": {
   "cols": {
    "lenName": 16,
    "lenType": 16,
    "lenVar": 40
   },
   "kernels_config": {
    "python": {
     "delete_cmd_postfix": "",
     "delete_cmd_prefix": "del ",
     "library": "var_list.py",
     "varRefreshCmd": "print(var_dic_list())"
    },
    "r": {
     "delete_cmd_postfix": ") ",
     "delete_cmd_prefix": "rm(",
     "library": "var_list.r",
     "varRefreshCmd": "cat(var_dic_list()) "
    }
   },
   "types_to_exclude": [
    "module",
    "function",
    "builtin_function_or_method",
    "instance",
    "_Feature"
   ],
   "window_display": false
  }
 },
 "nbformat": 4,
 "nbformat_minor": 2
}
