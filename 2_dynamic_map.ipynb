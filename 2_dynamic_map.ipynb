{
 "cells": [
  {
   "cell_type": "markdown",
   "metadata": {},
   "source": [
    "This notebook uses Bokeh. It has been developped with Anaconda 3 with no other dependencies.\n",
    "\n",
    "Bokeh seems to be a bit unstable with other libraries. So, if you have an error, try to update your conda but it may be neccesary to reinstall your anaconda... \n",
    "\n",
    "If this notebook does not work after an update, you still have access to the basic visualization notebook in the repository. We are sorry for the inconvenience."
   ]
  },
  {
   "cell_type": "code",
   "execution_count": 1,
   "metadata": {
    "ExecuteTime": {
     "end_time": "2018-11-29T09:15:21.754863Z",
     "start_time": "2018-11-29T09:15:20.608425Z"
    }
   },
   "outputs": [
    {
     "data": {
      "text/html": [
       "\n",
       "    <div class=\"bk-root\">\n",
       "        <a href=\"https://bokeh.pydata.org\" target=\"_blank\" class=\"bk-logo bk-logo-small bk-logo-notebook\"></a>\n",
       "        <span id=\"23c23840-1402-4546-8f09-4913a1977b52\">Loading BokehJS ...</span>\n",
       "    </div>"
      ]
     },
     "metadata": {},
     "output_type": "display_data"
    },
    {
     "data": {
      "application/javascript": [
       "\n",
       "(function(root) {\n",
       "  function now() {\n",
       "    return new Date();\n",
       "  }\n",
       "\n",
       "  var force = true;\n",
       "\n",
       "  if (typeof (root._bokeh_onload_callbacks) === \"undefined\" || force === true) {\n",
       "    root._bokeh_onload_callbacks = [];\n",
       "    root._bokeh_is_loading = undefined;\n",
       "  }\n",
       "\n",
       "  var JS_MIME_TYPE = 'application/javascript';\n",
       "  var HTML_MIME_TYPE = 'text/html';\n",
       "  var EXEC_MIME_TYPE = 'application/vnd.bokehjs_exec.v0+json';\n",
       "  var CLASS_NAME = 'output_bokeh rendered_html';\n",
       "\n",
       "  /**\n",
       "   * Render data to the DOM node\n",
       "   */\n",
       "  function render(props, node) {\n",
       "    var script = document.createElement(\"script\");\n",
       "    node.appendChild(script);\n",
       "  }\n",
       "\n",
       "  /**\n",
       "   * Handle when an output is cleared or removed\n",
       "   */\n",
       "  function handleClearOutput(event, handle) {\n",
       "    var cell = handle.cell;\n",
       "\n",
       "    var id = cell.output_area._bokeh_element_id;\n",
       "    var server_id = cell.output_area._bokeh_server_id;\n",
       "    // Clean up Bokeh references\n",
       "    if (id != null && id in Bokeh.index) {\n",
       "      Bokeh.index[id].model.document.clear();\n",
       "      delete Bokeh.index[id];\n",
       "    }\n",
       "\n",
       "    if (server_id !== undefined) {\n",
       "      // Clean up Bokeh references\n",
       "      var cmd = \"from bokeh.io.state import curstate; print(curstate().uuid_to_server['\" + server_id + \"'].get_sessions()[0].document.roots[0]._id)\";\n",
       "      cell.notebook.kernel.execute(cmd, {\n",
       "        iopub: {\n",
       "          output: function(msg) {\n",
       "            var id = msg.content.text.trim();\n",
       "            if (id in Bokeh.index) {\n",
       "              Bokeh.index[id].model.document.clear();\n",
       "              delete Bokeh.index[id];\n",
       "            }\n",
       "          }\n",
       "        }\n",
       "      });\n",
       "      // Destroy server and session\n",
       "      var cmd = \"import bokeh.io.notebook as ion; ion.destroy_server('\" + server_id + \"')\";\n",
       "      cell.notebook.kernel.execute(cmd);\n",
       "    }\n",
       "  }\n",
       "\n",
       "  /**\n",
       "   * Handle when a new output is added\n",
       "   */\n",
       "  function handleAddOutput(event, handle) {\n",
       "    var output_area = handle.output_area;\n",
       "    var output = handle.output;\n",
       "\n",
       "    // limit handleAddOutput to display_data with EXEC_MIME_TYPE content only\n",
       "    if ((output.output_type != \"display_data\") || (!output.data.hasOwnProperty(EXEC_MIME_TYPE))) {\n",
       "      return\n",
       "    }\n",
       "\n",
       "    var toinsert = output_area.element.find(\".\" + CLASS_NAME.split(' ')[0]);\n",
       "\n",
       "    if (output.metadata[EXEC_MIME_TYPE][\"id\"] !== undefined) {\n",
       "      toinsert[toinsert.length - 1].firstChild.textContent = output.data[JS_MIME_TYPE];\n",
       "      // store reference to embed id on output_area\n",
       "      output_area._bokeh_element_id = output.metadata[EXEC_MIME_TYPE][\"id\"];\n",
       "    }\n",
       "    if (output.metadata[EXEC_MIME_TYPE][\"server_id\"] !== undefined) {\n",
       "      var bk_div = document.createElement(\"div\");\n",
       "      bk_div.innerHTML = output.data[HTML_MIME_TYPE];\n",
       "      var script_attrs = bk_div.children[0].attributes;\n",
       "      for (var i = 0; i < script_attrs.length; i++) {\n",
       "        toinsert[toinsert.length - 1].firstChild.setAttribute(script_attrs[i].name, script_attrs[i].value);\n",
       "      }\n",
       "      // store reference to server id on output_area\n",
       "      output_area._bokeh_server_id = output.metadata[EXEC_MIME_TYPE][\"server_id\"];\n",
       "    }\n",
       "  }\n",
       "\n",
       "  function register_renderer(events, OutputArea) {\n",
       "\n",
       "    function append_mime(data, metadata, element) {\n",
       "      // create a DOM node to render to\n",
       "      var toinsert = this.create_output_subarea(\n",
       "        metadata,\n",
       "        CLASS_NAME,\n",
       "        EXEC_MIME_TYPE\n",
       "      );\n",
       "      this.keyboard_manager.register_events(toinsert);\n",
       "      // Render to node\n",
       "      var props = {data: data, metadata: metadata[EXEC_MIME_TYPE]};\n",
       "      render(props, toinsert[toinsert.length - 1]);\n",
       "      element.append(toinsert);\n",
       "      return toinsert\n",
       "    }\n",
       "\n",
       "    /* Handle when an output is cleared or removed */\n",
       "    events.on('clear_output.CodeCell', handleClearOutput);\n",
       "    events.on('delete.Cell', handleClearOutput);\n",
       "\n",
       "    /* Handle when a new output is added */\n",
       "    events.on('output_added.OutputArea', handleAddOutput);\n",
       "\n",
       "    /**\n",
       "     * Register the mime type and append_mime function with output_area\n",
       "     */\n",
       "    OutputArea.prototype.register_mime_type(EXEC_MIME_TYPE, append_mime, {\n",
       "      /* Is output safe? */\n",
       "      safe: true,\n",
       "      /* Index of renderer in `output_area.display_order` */\n",
       "      index: 0\n",
       "    });\n",
       "  }\n",
       "\n",
       "  // register the mime type if in Jupyter Notebook environment and previously unregistered\n",
       "  if (root.Jupyter !== undefined) {\n",
       "    var events = require('base/js/events');\n",
       "    var OutputArea = require('notebook/js/outputarea').OutputArea;\n",
       "\n",
       "    if (OutputArea.prototype.mime_types().indexOf(EXEC_MIME_TYPE) == -1) {\n",
       "      register_renderer(events, OutputArea);\n",
       "    }\n",
       "  }\n",
       "\n",
       "  \n",
       "  if (typeof (root._bokeh_timeout) === \"undefined\" || force === true) {\n",
       "    root._bokeh_timeout = Date.now() + 5000;\n",
       "    root._bokeh_failed_load = false;\n",
       "  }\n",
       "\n",
       "  var NB_LOAD_WARNING = {'data': {'text/html':\n",
       "     \"<div style='background-color: #fdd'>\\n\"+\n",
       "     \"<p>\\n\"+\n",
       "     \"BokehJS does not appear to have successfully loaded. If loading BokehJS from CDN, this \\n\"+\n",
       "     \"may be due to a slow or bad network connection. Possible fixes:\\n\"+\n",
       "     \"</p>\\n\"+\n",
       "     \"<ul>\\n\"+\n",
       "     \"<li>re-rerun `output_notebook()` to attempt to load from CDN again, or</li>\\n\"+\n",
       "     \"<li>use INLINE resources instead, as so:</li>\\n\"+\n",
       "     \"</ul>\\n\"+\n",
       "     \"<code>\\n\"+\n",
       "     \"from bokeh.resources import INLINE\\n\"+\n",
       "     \"output_notebook(resources=INLINE)\\n\"+\n",
       "     \"</code>\\n\"+\n",
       "     \"</div>\"}};\n",
       "\n",
       "  function display_loaded() {\n",
       "    var el = document.getElementById(\"23c23840-1402-4546-8f09-4913a1977b52\");\n",
       "    if (el != null) {\n",
       "      el.textContent = \"BokehJS is loading...\";\n",
       "    }\n",
       "    if (root.Bokeh !== undefined) {\n",
       "      if (el != null) {\n",
       "        el.textContent = \"BokehJS \" + root.Bokeh.version + \" successfully loaded.\";\n",
       "      }\n",
       "    } else if (Date.now() < root._bokeh_timeout) {\n",
       "      setTimeout(display_loaded, 100)\n",
       "    }\n",
       "  }\n",
       "\n",
       "\n",
       "  function run_callbacks() {\n",
       "    try {\n",
       "      root._bokeh_onload_callbacks.forEach(function(callback) { callback() });\n",
       "    }\n",
       "    finally {\n",
       "      delete root._bokeh_onload_callbacks\n",
       "    }\n",
       "    console.info(\"Bokeh: all callbacks have finished\");\n",
       "  }\n",
       "\n",
       "  function load_libs(js_urls, callback) {\n",
       "    root._bokeh_onload_callbacks.push(callback);\n",
       "    if (root._bokeh_is_loading > 0) {\n",
       "      console.log(\"Bokeh: BokehJS is being loaded, scheduling callback at\", now());\n",
       "      return null;\n",
       "    }\n",
       "    if (js_urls == null || js_urls.length === 0) {\n",
       "      run_callbacks();\n",
       "      return null;\n",
       "    }\n",
       "    console.log(\"Bokeh: BokehJS not loaded, scheduling load and callback at\", now());\n",
       "    root._bokeh_is_loading = js_urls.length;\n",
       "    for (var i = 0; i < js_urls.length; i++) {\n",
       "      var url = js_urls[i];\n",
       "      var s = document.createElement('script');\n",
       "      s.src = url;\n",
       "      s.async = false;\n",
       "      s.onreadystatechange = s.onload = function() {\n",
       "        root._bokeh_is_loading--;\n",
       "        if (root._bokeh_is_loading === 0) {\n",
       "          console.log(\"Bokeh: all BokehJS libraries loaded\");\n",
       "          run_callbacks()\n",
       "        }\n",
       "      };\n",
       "      s.onerror = function() {\n",
       "        console.warn(\"failed to load library \" + url);\n",
       "      };\n",
       "      console.log(\"Bokeh: injecting script tag for BokehJS library: \", url);\n",
       "      document.getElementsByTagName(\"head\")[0].appendChild(s);\n",
       "    }\n",
       "  };var element = document.getElementById(\"23c23840-1402-4546-8f09-4913a1977b52\");\n",
       "  if (element == null) {\n",
       "    console.log(\"Bokeh: ERROR: autoload.js configured with elementid '23c23840-1402-4546-8f09-4913a1977b52' but no matching script tag was found. \")\n",
       "    return false;\n",
       "  }\n",
       "\n",
       "  var js_urls = [\"https://cdn.pydata.org/bokeh/release/bokeh-0.13.0.min.js\", \"https://cdn.pydata.org/bokeh/release/bokeh-widgets-0.13.0.min.js\", \"https://cdn.pydata.org/bokeh/release/bokeh-tables-0.13.0.min.js\", \"https://cdn.pydata.org/bokeh/release/bokeh-gl-0.13.0.min.js\"];\n",
       "\n",
       "  var inline_js = [\n",
       "    function(Bokeh) {\n",
       "      Bokeh.set_log_level(\"info\");\n",
       "    },\n",
       "    \n",
       "    function(Bokeh) {\n",
       "      \n",
       "    },\n",
       "    function(Bokeh) {\n",
       "      console.log(\"Bokeh: injecting CSS: https://cdn.pydata.org/bokeh/release/bokeh-0.13.0.min.css\");\n",
       "      Bokeh.embed.inject_css(\"https://cdn.pydata.org/bokeh/release/bokeh-0.13.0.min.css\");\n",
       "      console.log(\"Bokeh: injecting CSS: https://cdn.pydata.org/bokeh/release/bokeh-widgets-0.13.0.min.css\");\n",
       "      Bokeh.embed.inject_css(\"https://cdn.pydata.org/bokeh/release/bokeh-widgets-0.13.0.min.css\");\n",
       "      console.log(\"Bokeh: injecting CSS: https://cdn.pydata.org/bokeh/release/bokeh-tables-0.13.0.min.css\");\n",
       "      Bokeh.embed.inject_css(\"https://cdn.pydata.org/bokeh/release/bokeh-tables-0.13.0.min.css\");\n",
       "    }\n",
       "  ];\n",
       "\n",
       "  function run_inline_js() {\n",
       "    \n",
       "    if ((root.Bokeh !== undefined) || (force === true)) {\n",
       "      for (var i = 0; i < inline_js.length; i++) {\n",
       "        inline_js[i].call(root, root.Bokeh);\n",
       "      }if (force === true) {\n",
       "        display_loaded();\n",
       "      }} else if (Date.now() < root._bokeh_timeout) {\n",
       "      setTimeout(run_inline_js, 100);\n",
       "    } else if (!root._bokeh_failed_load) {\n",
       "      console.log(\"Bokeh: BokehJS failed to load within specified timeout.\");\n",
       "      root._bokeh_failed_load = true;\n",
       "    } else if (force !== true) {\n",
       "      var cell = $(document.getElementById(\"23c23840-1402-4546-8f09-4913a1977b52\")).parents('.cell').data().cell;\n",
       "      cell.output_area.append_execute_result(NB_LOAD_WARNING)\n",
       "    }\n",
       "\n",
       "  }\n",
       "\n",
       "  if (root._bokeh_is_loading === 0) {\n",
       "    console.log(\"Bokeh: BokehJS loaded, going straight to plotting\");\n",
       "    run_inline_js();\n",
       "  } else {\n",
       "    load_libs(js_urls, function() {\n",
       "      console.log(\"Bokeh: BokehJS plotting callback run at\", now());\n",
       "      run_inline_js();\n",
       "    });\n",
       "  }\n",
       "}(window));"
      ],
      "application/vnd.bokehjs_load.v0+json": "\n(function(root) {\n  function now() {\n    return new Date();\n  }\n\n  var force = true;\n\n  if (typeof (root._bokeh_onload_callbacks) === \"undefined\" || force === true) {\n    root._bokeh_onload_callbacks = [];\n    root._bokeh_is_loading = undefined;\n  }\n\n  \n\n  \n  if (typeof (root._bokeh_timeout) === \"undefined\" || force === true) {\n    root._bokeh_timeout = Date.now() + 5000;\n    root._bokeh_failed_load = false;\n  }\n\n  var NB_LOAD_WARNING = {'data': {'text/html':\n     \"<div style='background-color: #fdd'>\\n\"+\n     \"<p>\\n\"+\n     \"BokehJS does not appear to have successfully loaded. If loading BokehJS from CDN, this \\n\"+\n     \"may be due to a slow or bad network connection. Possible fixes:\\n\"+\n     \"</p>\\n\"+\n     \"<ul>\\n\"+\n     \"<li>re-rerun `output_notebook()` to attempt to load from CDN again, or</li>\\n\"+\n     \"<li>use INLINE resources instead, as so:</li>\\n\"+\n     \"</ul>\\n\"+\n     \"<code>\\n\"+\n     \"from bokeh.resources import INLINE\\n\"+\n     \"output_notebook(resources=INLINE)\\n\"+\n     \"</code>\\n\"+\n     \"</div>\"}};\n\n  function display_loaded() {\n    var el = document.getElementById(\"23c23840-1402-4546-8f09-4913a1977b52\");\n    if (el != null) {\n      el.textContent = \"BokehJS is loading...\";\n    }\n    if (root.Bokeh !== undefined) {\n      if (el != null) {\n        el.textContent = \"BokehJS \" + root.Bokeh.version + \" successfully loaded.\";\n      }\n    } else if (Date.now() < root._bokeh_timeout) {\n      setTimeout(display_loaded, 100)\n    }\n  }\n\n\n  function run_callbacks() {\n    try {\n      root._bokeh_onload_callbacks.forEach(function(callback) { callback() });\n    }\n    finally {\n      delete root._bokeh_onload_callbacks\n    }\n    console.info(\"Bokeh: all callbacks have finished\");\n  }\n\n  function load_libs(js_urls, callback) {\n    root._bokeh_onload_callbacks.push(callback);\n    if (root._bokeh_is_loading > 0) {\n      console.log(\"Bokeh: BokehJS is being loaded, scheduling callback at\", now());\n      return null;\n    }\n    if (js_urls == null || js_urls.length === 0) {\n      run_callbacks();\n      return null;\n    }\n    console.log(\"Bokeh: BokehJS not loaded, scheduling load and callback at\", now());\n    root._bokeh_is_loading = js_urls.length;\n    for (var i = 0; i < js_urls.length; i++) {\n      var url = js_urls[i];\n      var s = document.createElement('script');\n      s.src = url;\n      s.async = false;\n      s.onreadystatechange = s.onload = function() {\n        root._bokeh_is_loading--;\n        if (root._bokeh_is_loading === 0) {\n          console.log(\"Bokeh: all BokehJS libraries loaded\");\n          run_callbacks()\n        }\n      };\n      s.onerror = function() {\n        console.warn(\"failed to load library \" + url);\n      };\n      console.log(\"Bokeh: injecting script tag for BokehJS library: \", url);\n      document.getElementsByTagName(\"head\")[0].appendChild(s);\n    }\n  };var element = document.getElementById(\"23c23840-1402-4546-8f09-4913a1977b52\");\n  if (element == null) {\n    console.log(\"Bokeh: ERROR: autoload.js configured with elementid '23c23840-1402-4546-8f09-4913a1977b52' but no matching script tag was found. \")\n    return false;\n  }\n\n  var js_urls = [\"https://cdn.pydata.org/bokeh/release/bokeh-0.13.0.min.js\", \"https://cdn.pydata.org/bokeh/release/bokeh-widgets-0.13.0.min.js\", \"https://cdn.pydata.org/bokeh/release/bokeh-tables-0.13.0.min.js\", \"https://cdn.pydata.org/bokeh/release/bokeh-gl-0.13.0.min.js\"];\n\n  var inline_js = [\n    function(Bokeh) {\n      Bokeh.set_log_level(\"info\");\n    },\n    \n    function(Bokeh) {\n      \n    },\n    function(Bokeh) {\n      console.log(\"Bokeh: injecting CSS: https://cdn.pydata.org/bokeh/release/bokeh-0.13.0.min.css\");\n      Bokeh.embed.inject_css(\"https://cdn.pydata.org/bokeh/release/bokeh-0.13.0.min.css\");\n      console.log(\"Bokeh: injecting CSS: https://cdn.pydata.org/bokeh/release/bokeh-widgets-0.13.0.min.css\");\n      Bokeh.embed.inject_css(\"https://cdn.pydata.org/bokeh/release/bokeh-widgets-0.13.0.min.css\");\n      console.log(\"Bokeh: injecting CSS: https://cdn.pydata.org/bokeh/release/bokeh-tables-0.13.0.min.css\");\n      Bokeh.embed.inject_css(\"https://cdn.pydata.org/bokeh/release/bokeh-tables-0.13.0.min.css\");\n    }\n  ];\n\n  function run_inline_js() {\n    \n    if ((root.Bokeh !== undefined) || (force === true)) {\n      for (var i = 0; i < inline_js.length; i++) {\n        inline_js[i].call(root, root.Bokeh);\n      }if (force === true) {\n        display_loaded();\n      }} else if (Date.now() < root._bokeh_timeout) {\n      setTimeout(run_inline_js, 100);\n    } else if (!root._bokeh_failed_load) {\n      console.log(\"Bokeh: BokehJS failed to load within specified timeout.\");\n      root._bokeh_failed_load = true;\n    } else if (force !== true) {\n      var cell = $(document.getElementById(\"23c23840-1402-4546-8f09-4913a1977b52\")).parents('.cell').data().cell;\n      cell.output_area.append_execute_result(NB_LOAD_WARNING)\n    }\n\n  }\n\n  if (root._bokeh_is_loading === 0) {\n    console.log(\"Bokeh: BokehJS loaded, going straight to plotting\");\n    run_inline_js();\n  } else {\n    load_libs(js_urls, function() {\n      console.log(\"Bokeh: BokehJS plotting callback run at\", now());\n      run_inline_js();\n    });\n  }\n}(window));"
     },
     "metadata": {},
     "output_type": "display_data"
    }
   ],
   "source": [
    "import numpy as np\n",
    "import pandas as pd\n",
    "from datetime import date, timedelta\n",
    "from time import sleep\n",
    "\n",
    "from bokeh.plotting import figure \n",
    "from bokeh.io import output_notebook, show, curdoc\n",
    "from bokeh.palettes import Category20\n",
    "from bokeh.layouts import layout, widgetbox\n",
    "from bokeh.models import ColumnDataSource, Div, HoverTool\n",
    "from bokeh.models.widgets import Slider, DateSlider, MultiSelect, Toggle\n",
    "\n",
    "output_notebook()"
   ]
  },
  {
   "cell_type": "markdown",
   "metadata": {},
   "source": [
    "# Loading data"
   ]
  },
  {
   "cell_type": "code",
   "execution_count": 2,
   "metadata": {
    "ExecuteTime": {
     "end_time": "2018-11-29T09:15:22.092177Z",
     "start_time": "2018-11-29T09:15:21.758733Z"
    }
   },
   "outputs": [],
   "source": [
    "from data.loader import get_kasios_obs, get_obs, map_path"
   ]
  },
  {
   "cell_type": "code",
   "execution_count": 3,
   "metadata": {
    "ExecuteTime": {
     "end_time": "2018-11-29T09:15:22.104309Z",
     "start_time": "2018-11-29T09:15:22.093970Z"
    }
   },
   "outputs": [],
   "source": [
    "df = get_obs(songs = False)\n",
    "df['alpha'] = 1\n",
    "\n",
    "birds_types = df.English_name.unique()\n",
    "n_birds_types = len(birds_types)"
   ]
  },
  {
   "cell_type": "code",
   "execution_count": 4,
   "metadata": {
    "ExecuteTime": {
     "end_time": "2018-11-29T09:15:22.116206Z",
     "start_time": "2018-11-29T09:15:22.108056Z"
    }
   },
   "outputs": [],
   "source": [
    "df_test = get_kasios_obs(songs = False)\n",
    "df_test[\"name\"] = \"Test bird n° \" + df_test.index.astype(str)\n",
    "df_test[\"color\"] = \"red\""
   ]
  },
  {
   "cell_type": "markdown",
   "metadata": {},
   "source": [
    "# Birdmap"
   ]
  },
  {
   "cell_type": "code",
   "execution_count": 5,
   "metadata": {
    "ExecuteTime": {
     "end_time": "2018-11-29T09:15:22.241298Z",
     "start_time": "2018-11-29T09:15:22.120953Z"
    },
    "scrolled": false
   },
   "outputs": [
    {
     "data": {
      "application/vnd.bokehjs_exec.v0+json": "",
      "text/html": [
       "\n",
       "<script src=\"http://localhost:33401/autoload.js?bokeh-autoload-element=c38aa02d-25d8-4922-a2cf-cb1053a855d7&bokeh-absolute-url=http://localhost:33401&resources=none\" id=\"c38aa02d-25d8-4922-a2cf-cb1053a855d7\"></script>"
      ]
     },
     "metadata": {
      "application/vnd.bokehjs_exec.v0+json": {
       "server_id": "f34a4e44dbe848c8aa9a2bd68760977d"
      }
     },
     "output_type": "display_data"
    }
   ],
   "source": [
    "#\n",
    "# Function to generate the dynamic map.\n",
    "#\n",
    "def bird_map(doc):\n",
    "                \n",
    "    #\n",
    "    # Create Input controls\n",
    "    #\n",
    "    \n",
    "    # Input for the date of observation.\n",
    "    # The unit is days because the majority of observation have a specific days.\n",
    "    input_date = DateSlider(title=\"Observation date\", start=df['T'].min(), end=df['T'].max(),\n",
    "                            value=df['T'].min(), step=1, format = \"%B %Y\")\n",
    "    \n",
    "    # Input for the window of observation\n",
    "    # The map will show every points at +- T/2 days of the date of observation\n",
    "    # This makes the assumption that a bird was at the spot before the observation\n",
    "    # and will stay alo after the observation\n",
    "    input_T = Slider(title=\"Observation window (days)\", start=30, end=360,\n",
    "                            value=180, step=1)\n",
    "    \n",
    "    # Input for the selection of specific species.\n",
    "    input_bird_types = MultiSelect(title=\"Species\", value=[\"All\"],\n",
    "                   options= ['All'] + list(birds_types) , size = n_birds_types + 1)\n",
    "    \n",
    "    # Animation inputs\n",
    "    # When on the animation will jump by speed number of days every second\n",
    "    input_speed = Slider(title=\"Animation speed (days/sec)\", start=10, end=360,\n",
    "                            value=180, step=1)\n",
    "    # Button to launch the animation\n",
    "    input_btn_anim = Toggle(label=\"Play\", button_type=\"success\")\n",
    "    \n",
    "    \n",
    "    \n",
    "    #\n",
    "    # Function for callback\n",
    "    #\n",
    "    \n",
    "    # Return the dataframe filtered by the different input\n",
    "    def select_obs():        \n",
    "        # Species filter\n",
    "        bird_types = input_bird_types.value\n",
    "        if \"All\" not in bird_types:\n",
    "            selector_types = df['English_name'].isin(bird_types)\n",
    "        else:\n",
    "            selector_types = [True] * df.shape[0]\n",
    "\n",
    "        # Date period filter\n",
    "        T = input_T.value # window of observation\n",
    "        obs_date = input_date.value # date of observation\n",
    "        a = pd.Timestamp(obs_date - timedelta(days=T))\n",
    "        b = pd.Timestamp(obs_date + timedelta(days=T))\n",
    "        selector_date = ((a < df['T']) & (df['T'] < b))\n",
    "\n",
    "        df_selected = df.loc[selector_date & selector_types].copy() # Selection\n",
    "        \n",
    "        # Updating the alpha to simulate life of a bird\n",
    "        t = pd.to_datetime(input_date.value)\n",
    "        a = (df_selected['T'] - t).dt.days.abs()\n",
    "        a = 1 - 2*a/T\n",
    "        a.loc[a < 0] = 0\n",
    "        df_selected['alpha'] = a\n",
    "        \n",
    "        return df_selected\n",
    "        \n",
    "        \n",
    "\n",
    "    # Update the source data\n",
    "    # This will dynamically update the observations on the map\n",
    "    def update():\n",
    "        df_selected = select_obs()   \n",
    "        \n",
    "        source.data = dict(\n",
    "            x=df_selected['X'],\n",
    "            y=df_selected['Y'],\n",
    "            color=df_selected[\"color\"],\n",
    "            alpha=df_selected[\"alpha\"],\n",
    "            name=df_selected[\"English_name\"],\n",
    "        )\n",
    "    \n",
    "    # This function handles the animation\n",
    "    # It is called by repetition while the button is active\n",
    "    # It basically add a $speed$ number of days every second\n",
    "    def run_anim():\n",
    "        FPS = 10\n",
    "        \n",
    "        # Parameters\n",
    "        run_time_on = input_btn_anim.active # Button status\n",
    "        speed = int(input_speed.value/FPS) # Number of days for the jump (5 FPS)\n",
    "        \n",
    "        # Dynamic button design\n",
    "        input_btn_anim.button_type = \"danger\"  if (run_time_on) else \"success\" # Update color\n",
    "        input_btn_anim.label = \"Stop\"  if (run_time_on) else \"Play\" # Update text\n",
    "        \n",
    "        # If animation activated\n",
    "        if(run_time_on):\n",
    "            a = input_date.value + timedelta(days=speed) # New date to show\n",
    "            \n",
    "            if pd.Timestamp(a) > pd.Timestamp(input_date.end):\n",
    "                # If out of bound\n",
    "                input_btn_anim.active = False #Stop the animation\n",
    "                input_date.value = input_date.start #Go back to period start\n",
    "            else:\n",
    "                input_date.value = a #Change the date shown\n",
    "                doc.add_timeout_callback(run_anim, 1000/FPS) # Callback in ms\n",
    "    \n",
    "            \n",
    "    # Add callback for every input\n",
    "    # Inputs that change the observation\n",
    "    controls = [input_bird_types, input_date, input_T]\n",
    "    for control in controls:\n",
    "        control.on_change('value', lambda attr, old, new: update())\n",
    "    # Specific callback for the animation\n",
    "    input_btn_anim.on_change('active',lambda attr, old, new : run_anim())\n",
    "    controls += [input_btn_anim, input_speed] # Inputs that do not change the observation\n",
    "    \n",
    "    \n",
    "    \n",
    "    \n",
    "    #\n",
    "    # Layout and window creation\n",
    "    #\n",
    "    \n",
    "    \n",
    "    # The DataSource shape for the map\n",
    "    source = ColumnDataSource(data=dict(x=[], y=[], color=[], alpha=[], name = []))\n",
    "\n",
    "    # Tools for the map\n",
    "    TOOLS=\"crosshair,pan,wheel_zoom,zoom_in,zoom_out,box_zoom,undo,redo,reset,tap,save,box_select,poly_select,lasso_select,\"\n",
    "\n",
    "    # Figure for the map plot\n",
    "    p = figure(title=\"Map with birds through time\", tools = TOOLS, x_range=(0, 200), y_range=(0, 200))\n",
    "    # Add the background image of the map\n",
    "    p.image_url( url=[map_path],\n",
    "             x=0, y=0, w=200, h=200, anchor=\"bottom_left\")\n",
    "    # Add point according to the data source\n",
    "    p.circle(x=\"x\", y=\"y\", source=source, size=12, color=\"color\", line_color=None, fill_alpha=\"alpha\")\n",
    "    \n",
    "    # Add point according to the TEST data source\n",
    "    source_test = ColumnDataSource(data=dict(x=df_test['X'], y=df_test['Y'], name = df_test['name'], color = df_test['color']))\n",
    "    p.scatter(x=\"x\", y=\"y\", marker=\"x\", size=15, color=\"color\", source = source_test, legend=\"Test birds\")\n",
    "    \n",
    "    # Location of the dumping site\n",
    "    source_dumping = ColumnDataSource(data=dict(x=[148], y=[159], name=[\"\"]))\n",
    "    p.scatter(x=\"x\", y=\"y\", size=30, marker=\"circle_cross\", fill_alpha=0.2, line_width=2, source=source_dumping, legend=\"Dumping site\")\n",
    "    \n",
    "    # Custom hover tool\n",
    "    # This will be shown when your cursor goes on an observation\n",
    "    hover = HoverTool()\n",
    "    hover.tooltips = [\n",
    "        (\"Bird type\", \"@name\"),\n",
    "        (\"Position\", \"(@x, @y)\"),\n",
    "    ]\n",
    "    p.tools.append(hover)\n",
    "\n",
    "    # Window creation\n",
    "    sizing_mode = 'fixed'\n",
    "    inputs = widgetbox(*controls, sizing_mode=sizing_mode)\n",
    "    l = layout([\n",
    "        [inputs, p],\n",
    "    ], sizing_mode=sizing_mode)\n",
    "\n",
    "    # Load of the data and launching the window\n",
    "    update()\n",
    "    doc.add_root(l)\n",
    "\n",
    "    \n",
    "show(bird_map)"
   ]
  },
  {
   "cell_type": "markdown",
   "metadata": {},
   "source": [
    "<div class=\"alert alert-info\">\n",
    "If we select the <b>Rose-creasted Blue Pipit</b>, and play the animation, we can clearly notice that the birds are <b>migrating</b> from the coordinates <b>(148, 159)</b> in <b>2014</b>, which is the location of the dumping site for the Kasios waste products.\n",
    "</div>"
   ]
  },
  {
   "cell_type": "markdown",
   "metadata": {},
   "source": [
    "# Kernel"
   ]
  },
  {
   "cell_type": "code",
   "execution_count": 6,
   "metadata": {
    "ExecuteTime": {
     "end_time": "2018-11-29T09:15:22.537947Z",
     "start_time": "2018-11-29T09:15:22.244720Z"
    }
   },
   "outputs": [],
   "source": [
    "import matplotlib.pyplot as plt\n",
    "import matplotlib.image as mpimg \n",
    "import seaborn as sns; sns.set(color_codes=True)"
   ]
  },
  {
   "cell_type": "code",
   "execution_count": 7,
   "metadata": {
    "ExecuteTime": {
     "end_time": "2018-11-29T09:15:22.600444Z",
     "start_time": "2018-11-29T09:15:22.539975Z"
    }
   },
   "outputs": [],
   "source": [
    "df[\"year\"] = df[\"T\"].dt.year\n",
    "# get the map image as an array so we can plot it \n",
    "map_img = mpimg.imread(map_path) "
   ]
  },
  {
   "cell_type": "code",
   "execution_count": 10,
   "metadata": {
    "ExecuteTime": {
     "end_time": "2018-11-29T09:19:37.557812Z",
     "start_time": "2018-11-29T09:19:32.366204Z"
    }
   },
   "outputs": [
    {
     "name": "stderr",
     "output_type": "stream",
     "text": [
      "/home/guillaume/anaconda3/lib/python3.6/site-packages/seaborn/distributions.py:679: UserWarning: Passing a 2D dataset for a bivariate plot is deprecated in favor of kdeplot(x, y), and it will cause an error in future versions. Please update your code.\n",
      "  warnings.warn(warn_msg, UserWarning)\n",
      "/home/guillaume/anaconda3/lib/python3.6/site-packages/seaborn/distributions.py:679: UserWarning: Passing a 2D dataset for a bivariate plot is deprecated in favor of kdeplot(x, y), and it will cause an error in future versions. Please update your code.\n",
      "  warnings.warn(warn_msg, UserWarning)\n",
      "/home/guillaume/anaconda3/lib/python3.6/site-packages/seaborn/distributions.py:679: UserWarning: Passing a 2D dataset for a bivariate plot is deprecated in favor of kdeplot(x, y), and it will cause an error in future versions. Please update your code.\n",
      "  warnings.warn(warn_msg, UserWarning)\n",
      "/home/guillaume/anaconda3/lib/python3.6/site-packages/seaborn/distributions.py:679: UserWarning: Passing a 2D dataset for a bivariate plot is deprecated in favor of kdeplot(x, y), and it will cause an error in future versions. Please update your code.\n",
      "  warnings.warn(warn_msg, UserWarning)\n",
      "/home/guillaume/anaconda3/lib/python3.6/site-packages/seaborn/distributions.py:679: UserWarning: Passing a 2D dataset for a bivariate plot is deprecated in favor of kdeplot(x, y), and it will cause an error in future versions. Please update your code.\n",
      "  warnings.warn(warn_msg, UserWarning)\n",
      "/home/guillaume/anaconda3/lib/python3.6/site-packages/seaborn/distributions.py:679: UserWarning: Passing a 2D dataset for a bivariate plot is deprecated in favor of kdeplot(x, y), and it will cause an error in future versions. Please update your code.\n",
      "  warnings.warn(warn_msg, UserWarning)\n"
     ]
    },
    {
     "data": {
      "image/png": "[encoded data removed]",
      "text/plain": [
       "<Figure size 936x936 with 6 Axes>"
      ]
     },
     "metadata": {
      "needs_background": "light"
     },
     "output_type": "display_data"
    }
   ],
   "source": [
    "f = plt.figure(figsize=(13, 13))\n",
    "f.tight_layout()\n",
    "for i, year in enumerate(range(2007, 2018, 2)):\n",
    "    a = df.loc[(df.year == year) & (df[\"English_name\"] == \"Rose-crested Blue Pipit\")]\n",
    "\n",
    "    ax = f.add_subplot(2, 3, 1+i, aspect='equal')\n",
    "    ax = sns.kdeplot(a[[\"X\", \"Y\"]], shade=True, shade_lowest=False, alpha = 0.7, n_levels = 4)\n",
    "    ax.set_xlim(0, 200)\n",
    "    ax.set_ylim(0,200)\n",
    "    ax.grid(False)\n",
    "    plt.axis('off')\n",
    "    plt.title(year)\n",
    "\n",
    "    ax.imshow(map_img,\n",
    "              aspect = ax.get_aspect(),\n",
    "              extent = ax.get_xlim() + ax.get_ylim(),\n",
    "              zorder = 0) # put the map under the heatmap"
   ]
  },
  {
   "cell_type": "markdown",
   "metadata": {},
   "source": [
    "<div class=\"alert alert-info\"r>\n",
    "Here also, we clearly see the <b> migration of the Rose-creasted Blue Pipit</b>.\n",
    "</div>"
   ]
  }
 ],
 "metadata": {
  "kernelspec": {
   "display_name": "Python 3",
   "language": "python",
   "name": "python3"
  },
  "language_info": {
   "codemirror_mode": {
    "name": "ipython",
    "version": 3
   },
   "file_extension": ".py",
   "mimetype": "text/x-python",
   "name": "python",
   "nbconvert_exporter": "python",
   "pygments_lexer": "ipython3",
   "version": "3.7.0"
  },
  "toc": {
   "base_numbering": 1,
   "nav_menu": {},
   "number_sections": true,
   "sideBar": true,
   "skip_h1_title": true,
   "title_cell": "Table of Contents",
   "title_sidebar": "Contents",
   "toc_cell": false,
   "toc_position": {},
   "toc_section_display": true,
   "toc_window_display": false
  },
  "varInspector": {
   "cols": {
    "lenName": 16,
    "lenType": 16,
    "lenVar": 40
   },
   "kernels_config": {
    "python": {
     "delete_cmd_postfix": "",
     "delete_cmd_prefix": "del ",
     "library": "var_list.py",
     "varRefreshCmd": "print(var_dic_list())"
    },
    "r": {
     "delete_cmd_postfix": ") ",
     "delete_cmd_prefix": "rm(",
     "library": "var_list.r",
     "varRefreshCmd": "cat(var_dic_list()) "
    }
   },
   "types_to_exclude": [
    "module",
    "function",
    "builtin_function_or_method",
    "instance",
    "_Feature"
   ],
   "window_display": false
  }
 },
 "nbformat": 4,
 "nbformat_minor": 2
}
